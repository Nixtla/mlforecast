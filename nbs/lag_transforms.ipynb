{
 "cells": [
  {
   "cell_type": "code",
   "execution_count": null,
   "id": "1b5c7045-d59f-475f-8008-14b147263a07",
   "metadata": {},
   "outputs": [],
   "source": [
    "#| hide\n",
    "%load_ext autoreload\n",
    "%autoreload 2"
   ]
  },
  {
   "cell_type": "code",
   "execution_count": null,
   "id": "14e0c02f-ddb9-49c4-a634-c17a16a2c679",
   "metadata": {},
   "outputs": [],
   "source": [
    "#| default_exp lag_transforms"
   ]
  },
  {
   "cell_type": "markdown",
   "id": "92568059-529d-4468-b512-b184531521d9",
   "metadata": {},
   "source": [
    "# Lag transforms\n",
    "> Built-in lag transformations"
   ]
  },
  {
   "cell_type": "code",
   "execution_count": null,
   "id": "bfda63a0-49e4-48f6-bdd3-5bb1c8b2b543",
   "metadata": {},
   "outputs": [],
   "source": [
    "#| export\n",
    "import copy\n",
    "import inspect\n",
    "import re\n",
    "from typing import Callable, Optional, Sequence\n",
    "\n",
    "import numpy as np\n",
    "import coreforecast.lag_transforms as core_tfms\n",
    "from coreforecast.grouped_array import GroupedArray as CoreGroupedArray\n",
    "from sklearn.base import BaseEstimator, clone"
   ]
  },
  {
   "cell_type": "code",
   "execution_count": null,
   "id": "da1b4819-1108-4559-bf90-b31dac9a34bd",
   "metadata": {},
   "outputs": [],
   "source": [
    "#| exporti\n",
    "def _pascal2camel(pascal_str: str) -> str:\n",
    "    return re.sub(r'(?<!^)(?=[A-Z])', '_', pascal_str).lower()"
   ]
  },
  {
   "cell_type": "code",
   "execution_count": null,
   "id": "c15e4288-b82c-4432-9410-0d2927e217e5",
   "metadata": {},
   "outputs": [],
   "source": [
    "#| exporti\n",
    "class _BaseLagTransform(BaseEstimator):\n",
    "    def _get_init_signature(self):\n",
    "        return {\n",
    "            k: v for k, v in inspect.signature(self.__class__.__init__).parameters.items()\n",
    "            if k != 'self'\n",
    "        }\n",
    "\n",
    "    def _set_core_tfm(self, lag: int) -> '_BaseLagTransform':\n",
    "        init_args = {\n",
    "            k: getattr(self, k) for k in self._get_init_signature()\n",
    "        }\n",
    "        self._core_tfm = getattr(core_tfms, self.__class__.__name__)(lag=lag, **init_args)\n",
    "        return self\n",
    "\n",
    "    def _get_name(self, lag: int) -> str:\n",
    "        init_params = self._get_init_signature()\n",
    "        result = f'{_pascal2camel(self.__class__.__name__)}_lag{lag}'\n",
    "        changed_params = [\n",
    "            f\"{name}{getattr(self, name)}\"\n",
    "            for name, arg in init_params.items()\n",
    "            if arg.default != getattr(self, name)\n",
    "        ]\n",
    "        if changed_params:\n",
    "            result += \"_\" + \"_\".join(changed_params)\n",
    "        return result        \n",
    "\n",
    "    def transform(self, ga: CoreGroupedArray) -> np.ndarray:\n",
    "        return self._core_tfm.transform(ga)\n",
    "\n",
    "    def update(self, ga: CoreGroupedArray) -> np.ndarray:\n",
    "        return self._core_tfm.update(ga)\n",
    "\n",
    "    def take(self, idxs: np.ndarray) -> '_BaseLagTransform':\n",
    "        out = copy.deepcopy(self)\n",
    "        out._core_tfm = self._core_tfm.take(idxs)\n",
    "        return out\n",
    "\n",
    "    @staticmethod\n",
    "    def stack(transforms: Sequence['_BaseLagTransform']) -> '_BaseLagTransform':\n",
    "        out = copy.deepcopy(transforms[0])\n",
    "        out._core_tfm = transforms[0]._core_tfm.stack(\n",
    "            [tfm._core_tfm for tfm in transforms]\n",
    "        )\n",
    "        return out"
   ]
  },
  {
   "cell_type": "code",
   "execution_count": null,
   "id": "1c38c828-a7e5-4fc7-be76-fc4c5defe80f",
   "metadata": {},
   "outputs": [],
   "source": [
    "#| exporti\n",
    "class Lag(_BaseLagTransform):\n",
    "    def __init__(self, lag: int):\n",
    "        self.lag = lag\n",
    "        self._core_tfm = core_tfms.Lag(lag=lag)\n",
    "\n",
    "    def _set_core_tfm(self, _lag: int) -> 'Lag':\n",
    "        return self\n",
    "\n",
    "    def _get_name(self, lag: int) -> str:\n",
    "        return f'lag{lag}'\n",
    "\n",
    "    def __eq__(self, other):\n",
    "        return isinstance(other, Lag) and self.lag == other.lag"
   ]
  },
  {
   "cell_type": "code",
   "execution_count": null,
   "id": "265c0e2f-6c41-42ec-9877-bb9a2f97d1fd",
   "metadata": {},
   "outputs": [],
   "source": [
    "#| exporti\n",
    "class _RollingBase(_BaseLagTransform):\n",
    "    \"Rolling statistic\"\n",
    "    def __init__(self, window_size: int, min_samples: Optional[int] = None):\n",
    "        \"\"\"\n",
    "        Parameters\n",
    "        ----------\n",
    "        window_size : int\n",
    "            Number of samples in the window.\n",
    "        min_samples: int\n",
    "            Minimum samples required to output the statistic.\n",
    "            If `None`, will be set to `window_size`.\n",
    "        \"\"\"\n",
    "        self.window_size = window_size\n",
    "        self.min_samples = min_samples"
   ]
  },
  {
   "cell_type": "code",
   "execution_count": null,
   "id": "b7139beb-e4dc-46a7-bad0-8609f6dd6b7b",
   "metadata": {},
   "outputs": [],
   "source": [
    "#| export\n",
    "class RollingMean(_RollingBase):\n",
    "    ...\n",
    "\n",
    "class RollingStd(_RollingBase):\n",
    "    ...\n",
    "\n",
    "class RollingMin(_RollingBase):\n",
    "    ...\n",
    "\n",
    "class RollingMax(_RollingBase):\n",
    "    ...\n",
    "\n",
    "class RollingQuantile(_RollingBase):\n",
    "    def __init__(self, p: float, window_size: int, min_samples: Optional[int] = None):\n",
    "        super().__init__(window_size=window_size, min_samples=min_samples)\n",
    "        self.p = p\n",
    "\n",
    "    def _set_core_tfm(self, lag: int):\n",
    "        self._core_tfm = core_tfms.RollingQuantile(\n",
    "            lag=lag, p=self.p, window_size=self.window_size, min_samples=self.min_samples\n",
    "        )\n",
    "        return self"
   ]
  },
  {
   "cell_type": "code",
   "execution_count": null,
   "id": "a2fc9851-9159-450c-9220-40ada0560f4d",
   "metadata": {},
   "outputs": [
    {
     "data": {
      "text/plain": [
       "array([       nan,        nan,        nan, ..., 0.32114229, 0.3672723 ,\n",
       "       0.39137066])"
      ]
     },
     "execution_count": null,
     "metadata": {},
     "output_type": "execute_result"
    }
   ],
   "source": [
    "#| hide\n",
    "rng = np.random.default_rng(seed=0)\n",
    "lengths = rng.integers(low=50, high=100, size=20)\n",
    "data = rng.random(lengths.sum())\n",
    "ga = CoreGroupedArray(data, np.append(0, lengths.cumsum()))\n",
    "RollingMean(7)._set_core_tfm(1).transform(ga)"
   ]
  },
  {
   "cell_type": "code",
   "execution_count": null,
   "id": "7d72929c-1a47-4572-bae7-379339cbb22d",
   "metadata": {},
   "outputs": [],
   "source": [
    "#| exporti\n",
    "class _Seasonal_RollingBase(_BaseLagTransform):\n",
    "    \"\"\"Rolling statistic over seasonal periods\"\"\"\n",
    "    def __init__(\n",
    "        self, season_length: int, window_size: int, min_samples: Optional[int] = None\n",
    "    ):\n",
    "        \"\"\"\n",
    "        Parameters\n",
    "        ----------\n",
    "        season_length : int\n",
    "            Periodicity of the seasonal period.\n",
    "        window_size : int\n",
    "            Number of samples in the window.\n",
    "        min_samples: int\n",
    "            Minimum samples required to output the statistic.\n",
    "            If `None`, will be set to `window_size`.\n",
    "        \"\"\"        \n",
    "        self.season_length = season_length\n",
    "        self.window_size = window_size\n",
    "        self.min_samples = min_samples"
   ]
  },
  {
   "cell_type": "code",
   "execution_count": null,
   "id": "40cf5b8b-d079-40ee-89ca-36a1ea5dfb90",
   "metadata": {},
   "outputs": [],
   "source": [
    "# | export\n",
    "class SeasonalRollingMean(_Seasonal_RollingBase):\n",
    "    ...\n",
    "\n",
    "class SeasonalRollingStd(_Seasonal_RollingBase):\n",
    "    ...\n",
    "\n",
    "class SeasonalRollingMin(_Seasonal_RollingBase):\n",
    "    ...\n",
    "\n",
    "class SeasonalRollingMax(_Seasonal_RollingBase):\n",
    "    ...\n",
    "\n",
    "class SeasonalRollingQuantile(_Seasonal_RollingBase):\n",
    "    def __init__(self, p: float, season_length: int, window_size: int, min_samples: Optional[int] = None):\n",
    "        super().__init__(season_length=season_length, window_size=window_size, min_samples=min_samples)\n",
    "        self.p = p"
   ]
  },
  {
   "cell_type": "code",
   "execution_count": null,
   "id": "f6acf666-aed7-4c6f-9640-f2a3c1f88a74",
   "metadata": {},
   "outputs": [
    {
     "data": {
      "text/plain": [
       "array([       nan,        nan,        nan, ..., 0.35518094, 0.25199008,\n",
       "       0.40335074])"
      ]
     },
     "execution_count": null,
     "metadata": {},
     "output_type": "execute_result"
    }
   ],
   "source": [
    "#| hide\n",
    "SeasonalRollingStd(7, 4)._set_core_tfm(2).transform(ga)"
   ]
  },
  {
   "cell_type": "code",
   "execution_count": null,
   "id": "aafcdbbc-a011-4a93-aecd-dd7f6f72e378",
   "metadata": {},
   "outputs": [],
   "source": [
    "#| exporti\n",
    "class _ExpandingBase(_BaseLagTransform):\n",
    "    \"\"\"Expanding statistic\"\"\"\n",
    "    def __init__(self):\n",
    "        ..."
   ]
  },
  {
   "cell_type": "code",
   "execution_count": null,
   "id": "c804d405-d83e-47d3-8374-fb22b41c3340",
   "metadata": {},
   "outputs": [],
   "source": [
    "#| export\n",
    "class ExpandingMean(_ExpandingBase):\n",
    "    ...\n",
    "\n",
    "class ExpandingStd(_ExpandingBase):\n",
    "    ...\n",
    "\n",
    "class ExpandingMin(_ExpandingBase):\n",
    "    ...\n",
    "\n",
    "class ExpandingMax(_ExpandingBase):\n",
    "    ...\n",
    "\n",
    "class ExpandingQuantile(_ExpandingBase):\n",
    "    def __init__(self, p: float):\n",
    "        self.p = p"
   ]
  },
  {
   "cell_type": "code",
   "execution_count": null,
   "id": "73b134c9-769f-4365-9ce6-42cc19c5a921",
   "metadata": {},
   "outputs": [
    {
     "data": {
      "text/plain": [
       "array([       nan,        nan,        nan, ..., 0.00297614, 0.00297614,\n",
       "       0.00297614])"
      ]
     },
     "execution_count": null,
     "metadata": {},
     "output_type": "execute_result"
    }
   ],
   "source": [
    "#| hide\n",
    "ExpandingMin()._set_core_tfm(3).transform(ga)"
   ]
  },
  {
   "cell_type": "code",
   "execution_count": null,
   "id": "96de19ef-ff49-487e-9765-75dfb31d2095",
   "metadata": {},
   "outputs": [],
   "source": [
    "#| export\n",
    "class ExponentiallyWeightedMean(_BaseLagTransform):\n",
    "    \"\"\"Exponentially weighted average\n",
    "\n",
    "    Parameters\n",
    "    ----------\n",
    "    alpha : float\n",
    "        Smoothing factor.\"\"\"\n",
    "    def __init__(self, alpha: float):\n",
    "        self.alpha = alpha"
   ]
  },
  {
   "cell_type": "code",
   "execution_count": null,
   "id": "867bcf99-3c87-40f3-b18f-f50ecf167970",
   "metadata": {},
   "outputs": [
    {
     "data": {
      "text/plain": [
       "array([       nan,        nan,        nan, ..., 0.3074053 , 0.5567787 ,\n",
       "       0.31390901])"
      ]
     },
     "execution_count": null,
     "metadata": {},
     "output_type": "execute_result"
    }
   ],
   "source": [
    "#| hide\n",
    "ExponentiallyWeightedMean(0.7)._set_core_tfm(4).transform(ga)"
   ]
  },
  {
   "cell_type": "code",
   "execution_count": null,
   "id": "f0c7a9b1-e394-4e83-8b16-b0bc8839ad4b",
   "metadata": {},
   "outputs": [],
   "source": [
    "#| export\n",
    "class Offset(_BaseLagTransform):\n",
    "    \"\"\"Shift series before computing transformation\n",
    "    \n",
    "    Parameters\n",
    "    ----------\n",
    "    tfm : LagTransform\n",
    "        Transformation to be applied\n",
    "    n : int\n",
    "        Number of positions to shift (lag) series before applying the transformation\"\"\"\n",
    "    def __init__(self, tfm: _BaseLagTransform, n: int):\n",
    "        self.tfm = tfm\n",
    "        self.n = n\n",
    "\n",
    "    def _get_name(self, lag: int) -> str:\n",
    "        return self.tfm._get_name(lag + self.n)\n",
    "\n",
    "    def _set_core_tfm(self, lag: int) -> 'Offset':\n",
    "        self._core_tfm = clone(self.tfm)._set_core_tfm(lag + self.n)\n",
    "        return self"
   ]
  },
  {
   "cell_type": "code",
   "execution_count": null,
   "id": "75ef47e3-7016-4d98-85c8-4c0ff84bc17a",
   "metadata": {},
   "outputs": [],
   "source": [
    "#| hide\n",
    "offset = Offset(RollingMean(window_size=10), 2)._set_core_tfm(5)\n",
    "assert offset._get_name(5) == \"rolling_mean_lag7_window_size10\"\n",
    "transformed = offset.transform(ga)\n",
    "expected = RollingMean(window_size=10)._set_core_tfm(5).transform(ga._with_data(Lag(2).transform(ga)))\n",
    "np.testing.assert_allclose(transformed, expected)"
   ]
  },
  {
   "cell_type": "code",
   "execution_count": null,
   "id": "03079429-dd48-43d8-8422-f8de4cfea1db",
   "metadata": {},
   "outputs": [],
   "source": [
    "#| export\n",
    "class Combine(_BaseLagTransform):\n",
    "    \"\"\"Combine two lag transformations using an operator\n",
    "    \n",
    "    Parameters\n",
    "    ----------\n",
    "    tfm1 : LagTransform\n",
    "        First transformation.\n",
    "    tfm2 : LagTransform\n",
    "        Second transformation.\n",
    "    operator : callable\n",
    "        Binary operator that defines how to combine the two transformations.\"\"\"\n",
    "    def __init__(\n",
    "        self, tfm1: _BaseLagTransform, tfm2: _BaseLagTransform, operator: Callable\n",
    "    ):\n",
    "        self.tfm1 = tfm1\n",
    "        self.tfm2 = tfm2\n",
    "        self.operator = operator\n",
    "\n",
    "    def _set_core_tfm(self, lag: int) -> 'Combine':\n",
    "        self.tfm1 = clone(self.tfm1)._set_core_tfm(lag)\n",
    "        self.tfm2 = clone(self.tfm2)._set_core_tfm(lag)\n",
    "        return self\n",
    "\n",
    "    def _get_name(self, lag: int) -> str:\n",
    "        lag1 = getattr(self.tfm1, 'lag', lag)\n",
    "        lag2 = getattr(self.tfm2, 'lag', lag)\n",
    "        return f'{self.tfm1._get_name(lag1)}_{self.operator.__name__}_{self.tfm2._get_name(lag2)}'\n",
    "\n",
    "    def transform(self, ga: CoreGroupedArray) -> np.ndarray:\n",
    "        return self.operator(self.tfm1.transform(ga), self.tfm2.transform(ga))\n",
    "\n",
    "    def update(self, ga: CoreGroupedArray) -> np.ndarray:\n",
    "        return self.operator(self.tfm1.update(ga), self.tfm2.update(ga))"
   ]
  },
  {
   "cell_type": "code",
   "execution_count": null,
   "id": "719c69b2-28b4-464a-896e-6b809b3415a6",
   "metadata": {},
   "outputs": [],
   "source": [
    "#| hide\n",
    "import operator"
   ]
  },
  {
   "cell_type": "code",
   "execution_count": null,
   "id": "c532c521-ec1e-45d0-b96a-20302c19fbab",
   "metadata": {},
   "outputs": [],
   "source": [
    "#| hide\n",
    "comb = Combine(Lag(1), Lag(2), operator.truediv)\n",
    "assert comb._get_name(1) == 'lag1_truediv_lag2'\n",
    "transformed = comb.transform(ga)\n",
    "expected = Lag(1).transform(ga) / Lag(2).transform(ga)\n",
    "np.testing.assert_allclose(transformed, expected)"
   ]
  },
  {
   "cell_type": "code",
   "execution_count": null,
   "id": "5f07fae6-37c9-4996-ac48-f5ae6c232ef0",
   "metadata": {},
   "outputs": [],
   "source": [
    "#| hide\n",
    "# check all transforms can be used correctly\n",
    "tfms = [\n",
    "    ExpandingMax(),\n",
    "    ExpandingMean(),\n",
    "    ExpandingMin(),\n",
    "    ExpandingStd(),\n",
    "    ExpandingQuantile(0.5),\n",
    "    ExponentiallyWeightedMean(0.1),\n",
    "    RollingMax(7),\n",
    "    RollingMean(7),\n",
    "    RollingMin(7),\n",
    "    RollingStd(7),\n",
    "    RollingQuantile(0.5, 7),\n",
    "    SeasonalRollingMax(7, 2),\n",
    "    SeasonalRollingMean(7, 2),\n",
    "    SeasonalRollingMin(7, 2),\n",
    "    SeasonalRollingStd(7, 2),\n",
    "    SeasonalRollingQuantile(0.5, 7, 7),\n",
    "    Offset(RollingMax(7), 2),\n",
    "    Combine(RollingMean(5), Offset(RollingMean(5), 2), operator.truediv),\n",
    "    Combine(Offset(RollingMean(5), 2), RollingMean(5), operator.truediv),\n",
    "]\n",
    "for tfm in tfms:\n",
    "    tfm._set_core_tfm(1)\n",
    "    tfm._get_name(1)\n",
    "    tfm.transform(ga)\n",
    "    tfm.update(ga)"
   ]
  }
 ],
 "metadata": {
  "kernelspec": {
   "display_name": "python3",
   "language": "python",
   "name": "python3"
  }
 },
 "nbformat": 4,
 "nbformat_minor": 5
}
