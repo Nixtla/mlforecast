{
 "cells": [
  {
   "cell_type": "code",
   "execution_count": null,
   "id": "1b5c7045-d59f-475f-8008-14b147263a07",
   "metadata": {},
   "outputs": [],
   "source": [
    "#| hide\n",
    "%load_ext autoreload\n",
    "%autoreload 2"
   ]
  },
  {
   "cell_type": "code",
   "execution_count": null,
   "id": "14e0c02f-ddb9-49c4-a634-c17a16a2c679",
   "metadata": {},
   "outputs": [],
   "source": [
    "#| default_exp lag_transforms"
   ]
  },
  {
   "cell_type": "markdown",
   "id": "92568059-529d-4468-b512-b184531521d9",
   "metadata": {},
   "source": [
    "# Lag transforms\n",
    "> Built-in lag transformations"
   ]
  },
  {
   "cell_type": "code",
   "execution_count": null,
   "id": "bfda63a0-49e4-48f6-bdd3-5bb1c8b2b543",
   "metadata": {},
   "outputs": [],
   "source": [
    "#| export\n",
    "from typing import Optional\n",
    "\n",
    "import numpy as np\n",
    "\n",
    "from mlforecast.compat import CoreGroupedArray, core_tfms"
   ]
  },
  {
   "cell_type": "code",
   "execution_count": null,
   "id": "c15e4288-b82c-4432-9410-0d2927e217e5",
   "metadata": {},
   "outputs": [],
   "source": [
    "#| exporti\n",
    "class BaseLagTransform:\n",
    "    _core_tfm: core_tfms.BaseLagTransform\n",
    "\n",
    "    def transform(self, ga: CoreGroupedArray) -> np.ndarray:\n",
    "        return self._core_tfm.transform(ga)\n",
    "\n",
    "    def update(self, ga: CoreGroupedArray) -> np.ndarray:\n",
    "        return self._core_tfm.update(ga)"
   ]
  },
  {
   "cell_type": "code",
   "execution_count": null,
   "id": "1c38c828-a7e5-4fc7-be76-fc4c5defe80f",
   "metadata": {},
   "outputs": [],
   "source": [
    "#| export\n",
    "class Lag(BaseLagTransform):\n",
    "    def __init__(self, lag: int):\n",
    "        self.lag = lag\n",
    "        self._core_tfm = core_tfms.Lag(lag=lag)\n",
    "\n",
    "    def __eq__(self, other):\n",
    "        return isinstance(other, Lag) and self.lag == other.lag"
   ]
  },
  {
   "cell_type": "code",
   "execution_count": null,
   "id": "265c0e2f-6c41-42ec-9877-bb9a2f97d1fd",
   "metadata": {},
   "outputs": [],
   "source": [
    "#| exporti\n",
    "class RollingBase(BaseLagTransform):\n",
    "    def __init__(self, window_size: int, min_samples: Optional[int] = None):\n",
    "        self.window_size = window_size\n",
    "        self.min_samples = min_samples\n",
    "\n",
    "    def _set_core_tfm(self, lag: int):\n",
    "        self._core_tfm = getattr(core_tfms, self.tfm_name)(lag=lag, window_size=self.window_size, min_samples=self.min_samples)\n",
    "        return self"
   ]
  },
  {
   "cell_type": "code",
   "execution_count": null,
   "id": "d079b05f-4228-4a8c-ba33-3cd94d5c0d44",
   "metadata": {},
   "outputs": [],
   "source": [
    "#| export\n",
    "class RollingMean(RollingBase):\n",
    "    tfm_name = 'RollingMean'\n",
    "\n",
    "class RollingStd(RollingBase):\n",
    "    tfm_name = 'Rollingstd'\n",
    "\n",
    "\n",
    "class RollingMin(RollingBase):\n",
    "    tfm_name = \"RollingMin\"\n",
    "\n",
    "\n",
    "class RollingMax(RollingBase):\n",
    "    tfm_name = \"RollingMax\""
   ]
  },
  {
   "cell_type": "code",
   "execution_count": null,
   "id": "a2fc9851-9159-450c-9220-40ada0560f4d",
   "metadata": {},
   "outputs": [
    {
     "data": {
      "text/plain": [
       "array([       nan,        nan,        nan, ..., 0.49484379, 0.52374839,\n",
       "       0.55126774])"
      ]
     },
     "execution_count": null,
     "metadata": {},
     "output_type": "execute_result"
    }
   ],
   "source": [
    "#| core\n",
    "lengths = np.random.randint(low=50, high=100, size=20)\n",
    "data = np.random.rand(lengths.sum())\n",
    "ga = CoreGroupedArray(data, np.append(0, lengths.cumsum()))\n",
    "RollingMean(7)._set_core_tfm(1).transform(ga)"
   ]
  },
  {
   "cell_type": "code",
   "execution_count": null,
   "id": "7d72929c-1a47-4572-bae7-379339cbb22d",
   "metadata": {},
   "outputs": [],
   "source": [
    "#| exporti\n",
    "class SeasonalRollingBase(BaseLagTransform):\n",
    "    def __init__(\n",
    "        self, season_length: int, window_size: int, min_samples: Optional[int] = None\n",
    "    ):\n",
    "        self.season_length = season_length\n",
    "        self.window_size = window_size\n",
    "        self.min_samples = min_samples\n",
    "\n",
    "    def _set_core_tfm(self, lag: int):\n",
    "        self._core_tfm = getattr(core_tfms, self.tfm_name)(\n",
    "            lag=lag, season_length=self.season_length, window_size=self.window_size, min_samples=self.min_samples\n",
    "        )\n",
    "        return self"
   ]
  },
  {
   "cell_type": "code",
   "execution_count": null,
   "id": "40cf5b8b-d079-40ee-89ca-36a1ea5dfb90",
   "metadata": {},
   "outputs": [],
   "source": [
    "# | export\n",
    "class SeasonalRollingMean(SeasonalRollingBase):\n",
    "    tfm_name = 'SeasonalRollingMean'\n",
    "\n",
    "class SeasonalRollingStd(SeasonalRollingBase):\n",
    "    tfm_name = 'SeasonalRollingStd'\n",
    "\n",
    "class SeasonalRollingMin(SeasonalRollingBase):\n",
    "    tfm_name = 'SeasonalRollingMin'\n",
    "\n",
    "class SeasonalRollingMax(SeasonalRollingBase):\n",
    "    tfm_name = 'SeasonalRollingMax'"
   ]
  },
  {
   "cell_type": "code",
   "execution_count": null,
   "id": "f6acf666-aed7-4c6f-9640-f2a3c1f88a74",
   "metadata": {},
   "outputs": [
    {
     "data": {
      "text/plain": [
       "array([       nan,        nan,        nan, ..., 0.37644922, 0.34515196,\n",
       "       0.23084811])"
      ]
     },
     "execution_count": null,
     "metadata": {},
     "output_type": "execute_result"
    }
   ],
   "source": [
    "#| core\n",
    "SeasonalRollingStd(7, 4)._set_core_tfm(2).transform(ga)"
   ]
  },
  {
   "cell_type": "code",
   "execution_count": null,
   "id": "aafcdbbc-a011-4a93-aecd-dd7f6f72e378",
   "metadata": {},
   "outputs": [],
   "source": [
    "#| exporti\n",
    "class ExpandingBase(BaseLagTransform):\n",
    "    def __init__(self):\n",
    "        ...\n",
    "    \n",
    "    def _set_core_tfm(self, lag: int):\n",
    "        self._core_tfm = getattr(core_tfms, self.tfm_name)(lag=lag)\n",
    "        return self"
   ]
  },
  {
   "cell_type": "code",
   "execution_count": null,
   "id": "c804d405-d83e-47d3-8374-fb22b41c3340",
   "metadata": {},
   "outputs": [],
   "source": [
    "#| export\n",
    "class ExpandingMean(ExpandingBase):\n",
    "    tfm_name = 'ExpandingMean'\n",
    "\n",
    "class ExpandingStd(ExpandingBase):\n",
    "    tfm_name = 'ExpandingStd'\n",
    "\n",
    "class ExpandingMin(ExpandingBase):\n",
    "    tfm_name = 'ExpandingMin'\n",
    "\n",
    "class ExpandingMax(ExpandingBase):\n",
    "    tfm_name = 'ExpandingMax'"
   ]
  },
  {
   "cell_type": "code",
   "execution_count": null,
   "id": "73b134c9-769f-4365-9ce6-42cc19c5a921",
   "metadata": {},
   "outputs": [
    {
     "data": {
      "text/plain": [
       "array([       nan,        nan,        nan, ..., 0.02353498, 0.02353498,\n",
       "       0.02353498])"
      ]
     },
     "execution_count": null,
     "metadata": {},
     "output_type": "execute_result"
    }
   ],
   "source": [
    "#| core\n",
    "ExpandingMin()._set_core_tfm(3).transform(ga)"
   ]
  },
  {
   "cell_type": "code",
   "execution_count": null,
   "id": "96de19ef-ff49-487e-9765-75dfb31d2095",
   "metadata": {},
   "outputs": [],
   "source": [
    "#| export\n",
    "class ExponentiallyWeightedMean(BaseLagTransform):\n",
    "    def __init__(self, alpha: float):\n",
    "        self.alpha = alpha\n",
    "\n",
    "    def _set_core_tfm(self, lag: int):        \n",
    "        self._core_tfm = core_tfms.ExponentiallyWeightedMean(lag=lag, alpha=self.alpha)\n",
    "        return self"
   ]
  },
  {
   "cell_type": "code",
   "execution_count": null,
   "id": "867bcf99-3c87-40f3-b18f-f50ecf167970",
   "metadata": {},
   "outputs": [
    {
     "data": {
      "text/plain": [
       "array([       nan,        nan,        nan, ..., 0.37994511, 0.16175122,\n",
       "       0.68870614])"
      ]
     },
     "execution_count": null,
     "metadata": {},
     "output_type": "execute_result"
    }
   ],
   "source": [
    "#| core\n",
    "ExponentiallyWeightedMean(0.7)._set_core_tfm(4).transform(ga)"
   ]
  }
 ],
 "metadata": {
  "kernelspec": {
   "display_name": "python3",
   "language": "python",
   "name": "python3"
  }
 },
 "nbformat": 4,
 "nbformat_minor": 5
}
