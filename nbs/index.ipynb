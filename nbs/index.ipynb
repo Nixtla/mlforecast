{
 "cells": [
  {
   "cell_type": "code",
   "execution_count": null,
   "metadata": {},
   "outputs": [],
   "source": [
    "#| hide\n",
    "%load_ext autoreload\n",
    "%autoreload 2"
   ]
  },
  {
   "cell_type": "markdown",
   "metadata": {},
   "source": [
    "# Nixtla &nbsp; [![Tweet](https://img.shields.io/twitter/url/http/shields.io.svg?style=social)](https://twitter.com/intent/tweet?text=Statistical%20Forecasting%20Algorithms%20by%20Nixtla%20&url=https://github.com/Nixtla/statsforecast&via=nixtlainc&hashtags=StatisticalModels,TimeSeries,Forecasting) &nbsp;[![Slack](https://img.shields.io/badge/Slack-4A154B?&logo=slack&logoColor=white)](https://join.slack.com/t/nixtlacommunity/shared_invite/zt-1pmhan9j5-F54XR20edHk0UtYAPcW4KQ)"
   ]
  },
  {
   "cell_type": "markdown",
   "metadata": {},
   "source": [
    "<div align=\"center\">\n",
    "<center>\n",
    "<img src=\"https://raw.githubusercontent.com/Nixtla/neuralforecast/main/nbs/imgs_indx/logo_mid.png\">\n",
    "</center>\n",
    "<h1 align=\"center\">Machine Learning 🤖 Forecast</h1>\n",
    "<h3 align=\"center\">Scalable machine learning for time series forecasting</h3>\n",
    "    \n",
    "[![CI](https://github.com/Nixtla/mlforecast/actions/workflows/ci.yaml/badge.svg)](https://github.com/Nixtla/mlforecast/actions/workflows/ci.yaml)\n",
    "[![Python](https://img.shields.io/pypi/pyversions/mlforecast)](https://pypi.org/project/mlforecast/)\n",
    "[![PyPi](https://img.shields.io/pypi/v/mlforecast?color=blue)](https://pypi.org/project/mlforecast/)\n",
    "[![conda-forge](https://img.shields.io/conda/vn/conda-forge/mlforecast?color=blue)](https://anaconda.org/conda-forge/mlforecast)\n",
    "[![License](https://img.shields.io/github/license/Nixtla/mlforecast)](https://github.com/Nixtla/mlforecast/blob/main/LICENSE)\n",
    "    \n",
    "**mlforecast** is a framework to perform time series forecasting using machine learning models, with the option to scale to massive amounts of data using remote clusters.\n",
    "\n",
    "</div>"
   ]
  },
  {
   "cell_type": "markdown",
   "metadata": {},
   "source": [
    "## Install"
   ]
  },
  {
   "cell_type": "markdown",
   "metadata": {},
   "source": [
    "### PyPI"
   ]
  },
  {
   "cell_type": "markdown",
   "metadata": {},
   "source": [
    "`pip install mlforecast`"
   ]
  },
  {
   "cell_type": "markdown",
   "metadata": {},
   "source": [
    "### conda-forge"
   ]
  },
  {
   "cell_type": "markdown",
   "metadata": {},
   "source": [
    "`conda install -c conda-forge mlforecast`"
   ]
  },
  {
   "cell_type": "markdown",
   "metadata": {},
   "source": [
    "For more detailed instructions you can refer to the [installation page](docs/getting-started/install.html)."
   ]
  },
  {
   "cell_type": "markdown",
   "metadata": {},
   "source": [
    "## Quick Start\n",
    "\n",
    "**Minimal Example**\n",
    "\n",
    "```python\n",
    "import lightgbm as lgb\n",
    "\n",
    "from mlforecast import MLForecast\n",
    "from sklearn.linear_model import LinearRegression\n",
    "\n",
    "mlf = MLForecast(\n",
    "    models = [LinearRegression(), lgb.LGBMRegressor()],\n",
    "    lags=[1, 12],\n",
    "    freq = 'M'\n",
    ")\n",
    "mlf.fit(df)\n",
    "mlf.predict(12)\n",
    "```\n",
    "\n",
    "**Get Started with this [quick guide](docs/getting-started/quick_start_local.html).**\n",
    "\n",
    "**Follow this [end-to-end walkthrough](docs/getting-started/end_to_end_walkthrough.html) for best practices.**\n",
    "\n",
    "### Sample notebooks\n",
    "* [m5](https://www.kaggle.com/code/lemuz90/m5-mlforecast-eval)\n",
    "* [m4](https://www.kaggle.com/code/lemuz90/m4-competition)\n",
    "* [m4-cv](https://www.kaggle.com/code/lemuz90/m4-competition-cv)"
   ]
  },
  {
   "cell_type": "markdown",
   "metadata": {},
   "source": [
    "## Why? \n",
    "\n",
    "Current Python alternatives for machine learning models are slow, inaccurate and don't scale well. So we created a library that can be used to forecast in production environments.  `MLForecast` includes efficient feature engineering to train any machine learning model (with `fit` and `predict` methods such as [`sklearn`](https://scikit-learn.org/stable/)) to fit millions of time series.\n",
    "\n",
    "## Features\n",
    "\n",
    "* Fastest implementations of feature engineering for time series forecasting in Python. \n",
    "* Out-of-the-box compatibility with Spark, Dask, and Ray.\n",
    "* Probabilistic Forecasting with Conformal Prediction.\n",
    "* Support for exogenous variables and static covariates.\n",
    "* Familiar `sklearn` syntax: `.fit` and `.predict`.\n",
    "\n",
    "\n",
    "Missing something? Please open an issue or write us in [![Slack](https://img.shields.io/badge/Slack-4A154B?&logo=slack&logoColor=white)](https://join.slack.com/t/nixtlaworkspace/shared_invite/zt-135dssye9-fWTzMpv2WBthq8NK0Yvu6A)"
   ]
  },
  {
   "cell_type": "markdown",
   "metadata": {},
   "source": [
    "## Examples and Guides\n",
    "\n",
    "📚 [End to End Walkthrough](docs/getting-started/end_to_end_walkthrough.html): model training, evaluation and selection for multiple time series.\n",
    "\n",
    "🔎 [Probabilistic Forecasting](docs/how-to-guides/prediction_intervals.html): use Conformal Prediction to produce prediciton intervals. \n",
    "\n",
    "👩‍🔬 [Cross Validation](docs/how-to-guides/cross_validation.html): robust model’s performance evaluation.\n",
    "\n",
    "🔌 [Predict Demand Peaks](docs/tutorials/electricity_peak_forecasting.html): electricity load forecasting for detecting daily peaks and reducing electric bills.\n",
    "\n",
    "📈 [Transfer Learning](docs/how-to-guides/transfer_learning.html): pretrain a model using a set of time series and then predict another one using that pretrained model. \n",
    "\n",
    "🌡️ [Distributed Training](docs/getting-started/quick_start_distributed.html): use a Dask, Ray or Spark cluster to train models at scale.\n"
   ]
  },
  {
   "cell_type": "markdown",
   "metadata": {},
   "source": [
    "## How to use\n",
    "\n",
    "The following provides a very basic overview, for a more detailed description see the [documentation](https://nixtla.github.io/mlforecast/)."
   ]
  },
  {
   "cell_type": "markdown",
   "metadata": {},
   "source": [
    "### Data setup"
   ]
  },
  {
   "cell_type": "markdown",
   "metadata": {},
   "source": [
    "Store your time series in a pandas dataframe in long format, that is, each row represents an observation for a specific serie and timestamp."
   ]
  },
  {
   "cell_type": "code",
   "execution_count": null,
   "metadata": {},
   "outputs": [
    {
     "data": {
      "text/html": [
       "<div>\n",
       "<style scoped>\n",
       "    .dataframe tbody tr th:only-of-type {\n",
       "        vertical-align: middle;\n",
       "    }\n",
       "\n",
       "    .dataframe tbody tr th {\n",
       "        vertical-align: top;\n",
       "    }\n",
       "\n",
       "    .dataframe thead th {\n",
       "        text-align: right;\n",
       "    }\n",
       "</style>\n",
       "<table border=\"1\" class=\"dataframe\">\n",
       "  <thead>\n",
       "    <tr style=\"text-align: right;\">\n",
       "      <th></th>\n",
       "      <th>unique_id</th>\n",
       "      <th>ds</th>\n",
       "      <th>y</th>\n",
       "      <th>static_0</th>\n",
       "    </tr>\n",
       "  </thead>\n",
       "  <tbody>\n",
       "    <tr>\n",
       "      <th>0</th>\n",
       "      <td>id_00</td>\n",
       "      <td>2000-01-01</td>\n",
       "      <td>17.519167</td>\n",
       "      <td>72</td>\n",
       "    </tr>\n",
       "    <tr>\n",
       "      <th>1</th>\n",
       "      <td>id_00</td>\n",
       "      <td>2000-01-02</td>\n",
       "      <td>87.799695</td>\n",
       "      <td>72</td>\n",
       "    </tr>\n",
       "    <tr>\n",
       "      <th>2</th>\n",
       "      <td>id_00</td>\n",
       "      <td>2000-01-03</td>\n",
       "      <td>177.442975</td>\n",
       "      <td>72</td>\n",
       "    </tr>\n",
       "    <tr>\n",
       "      <th>3</th>\n",
       "      <td>id_00</td>\n",
       "      <td>2000-01-04</td>\n",
       "      <td>232.704110</td>\n",
       "      <td>72</td>\n",
       "    </tr>\n",
       "    <tr>\n",
       "      <th>4</th>\n",
       "      <td>id_00</td>\n",
       "      <td>2000-01-05</td>\n",
       "      <td>317.510474</td>\n",
       "      <td>72</td>\n",
       "    </tr>\n",
       "  </tbody>\n",
       "</table>\n",
       "</div>"
      ],
      "text/plain": [
       "  unique_id         ds           y  static_0\n",
       "0     id_00 2000-01-01   17.519167        72\n",
       "1     id_00 2000-01-02   87.799695        72\n",
       "2     id_00 2000-01-03  177.442975        72\n",
       "3     id_00 2000-01-04  232.704110        72\n",
       "4     id_00 2000-01-05  317.510474        72"
      ]
     },
     "execution_count": null,
     "metadata": {},
     "output_type": "execute_result"
    }
   ],
   "source": [
    "from mlforecast.utils import generate_daily_series\n",
    "\n",
    "series = generate_daily_series(\n",
    "    n_series=20,\n",
    "    max_length=100,\n",
    "    n_static_features=1,\n",
    "    static_as_categorical=False,\n",
    "    with_trend=True\n",
    ")\n",
    "series.head()"
   ]
  },
  {
   "cell_type": "markdown",
   "metadata": {},
   "source": [
    "### Models"
   ]
  },
  {
   "cell_type": "markdown",
   "metadata": {},
   "source": [
    "Next define your models. If you want to use the local interface this can be any regressor that follows the scikit-learn API. For distributed training there are `LGBMForecast` and `XGBForecast`."
   ]
  },
  {
   "cell_type": "code",
   "execution_count": null,
   "metadata": {},
   "outputs": [],
   "source": [
    "import lightgbm as lgb\n",
    "import xgboost as xgb\n",
    "from sklearn.ensemble import RandomForestRegressor\n",
    "\n",
    "models = [\n",
    "    lgb.LGBMRegressor(verbosity=-1),\n",
    "    xgb.XGBRegressor(),\n",
    "    RandomForestRegressor(random_state=0),\n",
    "]"
   ]
  },
  {
   "cell_type": "markdown",
   "metadata": {},
   "source": [
    "### Forecast object"
   ]
  },
  {
   "cell_type": "markdown",
   "metadata": {},
   "source": [
    "Now instantiate a `MLForecast` object with the models and the features that you want to use. The features can be lags, transformations on the lags and date features. The lag transformations are defined as [numba](http://numba.pydata.org/) *jitted* functions that transform an array, if they have additional arguments you can either supply a tuple (`transform_func`, `arg1`, `arg2`, ...) or define new functions fixing the arguments. You can also define differences to apply to the series before fitting that will be restored when predicting."
   ]
  },
  {
   "cell_type": "code",
   "execution_count": null,
   "metadata": {},
   "outputs": [],
   "source": [
    "from mlforecast import MLForecast\n",
    "from mlforecast.target_transforms import Differences\n",
    "from numba import njit\n",
    "from window_ops.expanding import expanding_mean\n",
    "from window_ops.rolling import rolling_mean\n",
    "\n",
    "\n",
    "@njit\n",
    "def rolling_mean_28(x):\n",
    "    return rolling_mean(x, window_size=28)\n",
    "\n",
    "\n",
    "fcst = MLForecast(\n",
    "    models=models,\n",
    "    freq='D',\n",
    "    lags=[7, 14],\n",
    "    lag_transforms={\n",
    "        1: [expanding_mean],\n",
    "        7: [rolling_mean_28]\n",
    "    },\n",
    "    date_features=['dayofweek'],\n",
    "    target_transforms=[Differences([1])],\n",
    ")"
   ]
  },
  {
   "cell_type": "markdown",
   "metadata": {},
   "source": [
    "### Training"
   ]
  },
  {
   "cell_type": "markdown",
   "metadata": {},
   "source": [
    "To compute the features and train the models call `fit` on your `Forecast` object."
   ]
  },
  {
   "cell_type": "code",
   "execution_count": null,
   "metadata": {},
   "outputs": [
    {
     "data": {
      "text/plain": [
       "MLForecast(models=[LGBMRegressor, XGBRegressor, RandomForestRegressor], freq=<Day>, lag_features=['lag7', 'lag14', 'expanding_mean_lag1', 'rolling_mean_28_lag7'], date_features=['dayofweek'], num_threads=1)"
      ]
     },
     "execution_count": null,
     "metadata": {},
     "output_type": "execute_result"
    }
   ],
   "source": [
    "fcst.fit(series)"
   ]
  },
  {
   "cell_type": "markdown",
   "metadata": {},
   "source": [
    "### Predicting"
   ]
  },
  {
   "cell_type": "markdown",
   "metadata": {},
   "source": [
    "To get the forecasts for the next `n` days call `predict(n)` on the forecast object. This will automatically handle the updates required by the features using a recursive strategy."
   ]
  },
  {
   "cell_type": "code",
   "execution_count": null,
   "metadata": {},
   "outputs": [
    {
     "data": {
      "text/html": [
       "<div>\n",
       "<style scoped>\n",
       "    .dataframe tbody tr th:only-of-type {\n",
       "        vertical-align: middle;\n",
       "    }\n",
       "\n",
       "    .dataframe tbody tr th {\n",
       "        vertical-align: top;\n",
       "    }\n",
       "\n",
       "    .dataframe thead th {\n",
       "        text-align: right;\n",
       "    }\n",
       "</style>\n",
       "<table border=\"1\" class=\"dataframe\">\n",
       "  <thead>\n",
       "    <tr style=\"text-align: right;\">\n",
       "      <th></th>\n",
       "      <th>unique_id</th>\n",
       "      <th>ds</th>\n",
       "      <th>LGBMRegressor</th>\n",
       "      <th>XGBRegressor</th>\n",
       "      <th>RandomForestRegressor</th>\n",
       "    </tr>\n",
       "  </thead>\n",
       "  <tbody>\n",
       "    <tr>\n",
       "      <th>0</th>\n",
       "      <td>id_00</td>\n",
       "      <td>2000-04-04</td>\n",
       "      <td>299.923771</td>\n",
       "      <td>309.664124</td>\n",
       "      <td>298.424164</td>\n",
       "    </tr>\n",
       "    <tr>\n",
       "      <th>1</th>\n",
       "      <td>id_00</td>\n",
       "      <td>2000-04-05</td>\n",
       "      <td>365.424147</td>\n",
       "      <td>382.150085</td>\n",
       "      <td>365.816014</td>\n",
       "    </tr>\n",
       "    <tr>\n",
       "      <th>2</th>\n",
       "      <td>id_00</td>\n",
       "      <td>2000-04-06</td>\n",
       "      <td>432.562441</td>\n",
       "      <td>453.373779</td>\n",
       "      <td>436.360620</td>\n",
       "    </tr>\n",
       "    <tr>\n",
       "      <th>3</th>\n",
       "      <td>id_00</td>\n",
       "      <td>2000-04-07</td>\n",
       "      <td>495.628000</td>\n",
       "      <td>527.965149</td>\n",
       "      <td>503.670100</td>\n",
       "    </tr>\n",
       "    <tr>\n",
       "      <th>4</th>\n",
       "      <td>id_00</td>\n",
       "      <td>2000-04-08</td>\n",
       "      <td>60.786223</td>\n",
       "      <td>75.762299</td>\n",
       "      <td>62.176080</td>\n",
       "    </tr>\n",
       "    <tr>\n",
       "      <th>...</th>\n",
       "      <td>...</td>\n",
       "      <td>...</td>\n",
       "      <td>...</td>\n",
       "      <td>...</td>\n",
       "      <td>...</td>\n",
       "    </tr>\n",
       "    <tr>\n",
       "      <th>275</th>\n",
       "      <td>id_19</td>\n",
       "      <td>2000-03-23</td>\n",
       "      <td>36.266780</td>\n",
       "      <td>29.889120</td>\n",
       "      <td>34.799780</td>\n",
       "    </tr>\n",
       "    <tr>\n",
       "      <th>276</th>\n",
       "      <td>id_19</td>\n",
       "      <td>2000-03-24</td>\n",
       "      <td>44.370984</td>\n",
       "      <td>34.968884</td>\n",
       "      <td>39.920982</td>\n",
       "    </tr>\n",
       "    <tr>\n",
       "      <th>277</th>\n",
       "      <td>id_19</td>\n",
       "      <td>2000-03-25</td>\n",
       "      <td>50.746222</td>\n",
       "      <td>39.970238</td>\n",
       "      <td>46.196266</td>\n",
       "    </tr>\n",
       "    <tr>\n",
       "      <th>278</th>\n",
       "      <td>id_19</td>\n",
       "      <td>2000-03-26</td>\n",
       "      <td>58.906524</td>\n",
       "      <td>45.125305</td>\n",
       "      <td>51.653060</td>\n",
       "    </tr>\n",
       "    <tr>\n",
       "      <th>279</th>\n",
       "      <td>id_19</td>\n",
       "      <td>2000-03-27</td>\n",
       "      <td>63.073949</td>\n",
       "      <td>50.682716</td>\n",
       "      <td>56.845384</td>\n",
       "    </tr>\n",
       "  </tbody>\n",
       "</table>\n",
       "<p>280 rows × 5 columns</p>\n",
       "</div>"
      ],
      "text/plain": [
       "    unique_id         ds  LGBMRegressor  XGBRegressor  RandomForestRegressor\n",
       "0       id_00 2000-04-04     299.923771    309.664124             298.424164\n",
       "1       id_00 2000-04-05     365.424147    382.150085             365.816014\n",
       "2       id_00 2000-04-06     432.562441    453.373779             436.360620\n",
       "3       id_00 2000-04-07     495.628000    527.965149             503.670100\n",
       "4       id_00 2000-04-08      60.786223     75.762299              62.176080\n",
       "..        ...        ...            ...           ...                    ...\n",
       "275     id_19 2000-03-23      36.266780     29.889120              34.799780\n",
       "276     id_19 2000-03-24      44.370984     34.968884              39.920982\n",
       "277     id_19 2000-03-25      50.746222     39.970238              46.196266\n",
       "278     id_19 2000-03-26      58.906524     45.125305              51.653060\n",
       "279     id_19 2000-03-27      63.073949     50.682716              56.845384\n",
       "\n",
       "[280 rows x 5 columns]"
      ]
     },
     "execution_count": null,
     "metadata": {},
     "output_type": "execute_result"
    }
   ],
   "source": [
    "predictions = fcst.predict(14)\n",
    "predictions"
   ]
  },
  {
   "cell_type": "markdown",
   "metadata": {},
   "source": [
    "### Visualize results"
   ]
  },
  {
   "cell_type": "code",
   "execution_count": null,
   "metadata": {},
   "outputs": [],
   "source": [
    "from utilsforecast.plotting import plot_series"
   ]
  },
  {
   "cell_type": "code",
   "execution_count": null,
   "metadata": {},
   "outputs": [],
   "source": [
    "fig = plot_series(series, predictions, max_ids=4, plot_random=False)\n",
    "fig.savefig('figs/index.png', bbox_inches='tight')"
   ]
  },
  {
   "cell_type": "markdown",
   "metadata": {},
   "source": [
    "![](https://raw.githubusercontent.com/Nixtla/mlforecast/main/nbs/figs/index.png)"
   ]
  },
  {
   "cell_type": "markdown",
   "metadata": {},
   "source": [
    "## How to contribute\n",
    "See [CONTRIBUTING.md](https://github.com/Nixtla/mlforecast/blob/main/CONTRIBUTING.md)."
   ]
  }
 ],
 "metadata": {
  "kernelspec": {
   "display_name": "python3",
   "language": "python",
   "name": "python3"
  }
 },
 "nbformat": 4,
 "nbformat_minor": 4
}
