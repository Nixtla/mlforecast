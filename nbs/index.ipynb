{
 "cells": [
  {
   "cell_type": "code",
   "execution_count": 1,
   "metadata": {},
   "outputs": [],
   "source": [
    "#| hide\n",
    "%load_ext autoreload\n",
    "%autoreload 2"
   ]
  },
  {
   "cell_type": "markdown",
   "metadata": {},
   "source": [
    "# mlforecast\n",
    "\n",
    "> Scalable machine learning based time series forecasting.\n",
    "\n",
    "**mlforecast** is a framework to perform time series forecasting using machine learning models, with the option to scale to massive amounts of data using remote clusters."
   ]
  },
  {
   "cell_type": "markdown",
   "metadata": {},
   "source": [
    "[![CI](https://github.com/Nixtla/mlforecast/actions/workflows/ci.yaml/badge.svg)](https://github.com/Nixtla/mlforecast/actions/workflows/ci.yaml)\n",
    "[![Python](https://img.shields.io/pypi/pyversions/mlforecast)](https://pypi.org/project/mlforecast/)\n",
    "[![PyPi](https://img.shields.io/pypi/v/mlforecast?color=blue)](https://pypi.org/project/mlforecast/)\n",
    "[![conda-forge](https://img.shields.io/conda/vn/conda-forge/mlforecast?color=blue)](https://anaconda.org/conda-forge/mlforecast)\n",
    "[![License](https://img.shields.io/github/license/Nixtla/mlforecast)](https://github.com/Nixtla/mlforecast/blob/main/LICENSE)"
   ]
  },
  {
   "cell_type": "markdown",
   "metadata": {},
   "source": [
    "## Install"
   ]
  },
  {
   "cell_type": "markdown",
   "metadata": {},
   "source": [
    "### PyPI\n",
    "\n",
    "`pip install mlforecast`\n",
    "\n",
    "If you want to perform distributed training, you can instead use `pip install mlforecast[distributed]`, which will also install [dask](https://dask.org/). Note that you'll also need to install either [LightGBM](https://github.com/microsoft/LightGBM/tree/master/python-package) or [XGBoost](https://xgboost.readthedocs.io/en/latest/install.html#python)."
   ]
  },
  {
   "cell_type": "markdown",
   "metadata": {},
   "source": [
    "### conda-forge\n",
    "`conda install -c conda-forge mlforecast`\n",
    "\n",
    "Note that this installation comes with the required dependencies for the local interface. If you want to perform distributed training, you must install dask (`conda install -c conda-forge dask`) and either [LightGBM](https://github.com/microsoft/LightGBM/tree/master/python-package) or [XGBoost](https://xgboost.readthedocs.io/en/latest/install.html#python)."
   ]
  },
  {
   "cell_type": "markdown",
   "metadata": {},
   "source": [
    "## How to use\n",
    "The following provides a very basic overview, for a more detailed description see the [documentation](https://nixtla.github.io/mlforecast/)."
   ]
  },
  {
   "cell_type": "markdown",
   "metadata": {},
   "source": [
    "Store your time series in a pandas dataframe in long format, that is, each row represents an observation for a specific serie and timestamp."
   ]
  },
  {
   "cell_type": "code",
   "execution_count": 2,
   "metadata": {},
   "outputs": [
    {
     "data": {
      "text/html": [
       "<div>\n",
       "<style scoped>\n",
       "    .dataframe tbody tr th:only-of-type {\n",
       "        vertical-align: middle;\n",
       "    }\n",
       "\n",
       "    .dataframe tbody tr th {\n",
       "        vertical-align: top;\n",
       "    }\n",
       "\n",
       "    .dataframe thead th {\n",
       "        text-align: right;\n",
       "    }\n",
       "</style>\n",
       "<table border=\"1\" class=\"dataframe\">\n",
       "  <thead>\n",
       "    <tr style=\"text-align: right;\">\n",
       "      <th></th>\n",
       "      <th>ds</th>\n",
       "      <th>y</th>\n",
       "    </tr>\n",
       "    <tr>\n",
       "      <th>unique_id</th>\n",
       "      <th></th>\n",
       "      <th></th>\n",
       "    </tr>\n",
       "  </thead>\n",
       "  <tbody>\n",
       "    <tr>\n",
       "      <th>id_00</th>\n",
       "      <td>2000-01-01</td>\n",
       "      <td>0.264447</td>\n",
       "    </tr>\n",
       "    <tr>\n",
       "      <th>id_00</th>\n",
       "      <td>2000-01-02</td>\n",
       "      <td>1.284022</td>\n",
       "    </tr>\n",
       "    <tr>\n",
       "      <th>id_00</th>\n",
       "      <td>2000-01-03</td>\n",
       "      <td>2.462798</td>\n",
       "    </tr>\n",
       "    <tr>\n",
       "      <th>id_00</th>\n",
       "      <td>2000-01-04</td>\n",
       "      <td>3.035518</td>\n",
       "    </tr>\n",
       "    <tr>\n",
       "      <th>id_00</th>\n",
       "      <td>2000-01-05</td>\n",
       "      <td>4.043565</td>\n",
       "    </tr>\n",
       "  </tbody>\n",
       "</table>\n",
       "</div>"
      ],
      "text/plain": [
       "                  ds         y\n",
       "unique_id                     \n",
       "id_00     2000-01-01  0.264447\n",
       "id_00     2000-01-02  1.284022\n",
       "id_00     2000-01-03  2.462798\n",
       "id_00     2000-01-04  3.035518\n",
       "id_00     2000-01-05  4.043565"
      ]
     },
     "execution_count": 2,
     "metadata": {},
     "output_type": "execute_result"
    }
   ],
   "source": [
    "from mlforecast.utils import generate_daily_series\n",
    "\n",
    "series = generate_daily_series(20)\n",
    "series.head()"
   ]
  },
  {
   "cell_type": "markdown",
   "metadata": {},
   "source": [
    "Next define your models. If you want to use the local interface this can be any regressor that follows the scikit-learn API. For distributed training there are `LGBMForecast` and `XGBForecast`."
   ]
  },
  {
   "cell_type": "code",
   "execution_count": 3,
   "metadata": {},
   "outputs": [],
   "source": [
    "import lightgbm as lgb\n",
    "import xgboost as xgb\n",
    "from sklearn.ensemble import RandomForestRegressor\n",
    "\n",
    "models = [\n",
    "    lgb.LGBMRegressor(),\n",
    "    xgb.XGBRegressor(),\n",
    "    RandomForestRegressor(random_state=0),\n",
    "]"
   ]
  },
  {
   "cell_type": "markdown",
   "metadata": {},
   "source": [
    "Now instantiate a `Forecast` object with the models and the features that you want to use. The features can be lags, transformations on the lags and date features. The lag transformations are defined as [numba](http://numba.pydata.org/) *jitted* functions that transform an array, if they have additional arguments you supply a tuple (`transform_func`, `arg1`, `arg2`, ...)."
   ]
  },
  {
   "cell_type": "code",
   "execution_count": 4,
   "metadata": {},
   "outputs": [],
   "source": [
    "from mlforecast import Forecast\n",
    "from window_ops.expanding import expanding_mean\n",
    "from window_ops.rolling import rolling_mean\n",
    "\n",
    "fcst = Forecast(\n",
    "    models=models,\n",
    "    freq='D',\n",
    "    lags=[7, 14],\n",
    "    lag_transforms={\n",
    "        1: [expanding_mean],\n",
    "        7: [(rolling_mean, 7), (rolling_mean, 14)]\n",
    "    },\n",
    "    date_features=['dayofweek', 'month']\n",
    ")"
   ]
  },
  {
   "cell_type": "markdown",
   "metadata": {},
   "source": [
    "To compute the features and train the models call `fit` on your `Forecast` object. Here you have to specify the columns that:\n",
    "\n",
    "* Identify each serie (`id_col`). If the series identifier is the index you can specify `id_col='index'`\n",
    "* Contain the timestamps (`time_col`). Can also be integers if your data doesn't have timestamps.\n",
    "* Are the series values (`target_col`)"
   ]
  },
  {
   "cell_type": "code",
   "execution_count": 5,
   "metadata": {},
   "outputs": [
    {
     "data": {
      "text/plain": [
       "Forecast(models=[LGBMRegressor, XGBRegressor, RandomForestRegressor], freq=<Day>, lag_features=['lag-7', 'lag-14', 'expanding_mean_lag-1', 'rolling_mean_lag-7_window_size-7', 'rolling_mean_lag-7_window_size-14'], date_features=['dayofweek', 'month'], num_threads=1)"
      ]
     },
     "execution_count": 5,
     "metadata": {},
     "output_type": "execute_result"
    }
   ],
   "source": [
    "fcst.fit(series, id_col='index', time_col='ds', target_col='y')"
   ]
  },
  {
   "cell_type": "markdown",
   "metadata": {},
   "source": [
    "To get the forecasts for the next 14 days call `predict(14)` on the forecast object. This will automatically handle the updates required by the features using a recursive strategy."
   ]
  },
  {
   "cell_type": "code",
   "execution_count": 6,
   "metadata": {},
   "outputs": [
    {
     "data": {
      "text/html": [
       "<div>\n",
       "<style scoped>\n",
       "    .dataframe tbody tr th:only-of-type {\n",
       "        vertical-align: middle;\n",
       "    }\n",
       "\n",
       "    .dataframe tbody tr th {\n",
       "        vertical-align: top;\n",
       "    }\n",
       "\n",
       "    .dataframe thead th {\n",
       "        text-align: right;\n",
       "    }\n",
       "</style>\n",
       "<table border=\"1\" class=\"dataframe\">\n",
       "  <thead>\n",
       "    <tr style=\"text-align: right;\">\n",
       "      <th></th>\n",
       "      <th>ds</th>\n",
       "      <th>LGBMRegressor</th>\n",
       "      <th>XGBRegressor</th>\n",
       "      <th>RandomForestRegressor</th>\n",
       "    </tr>\n",
       "    <tr>\n",
       "      <th>unique_id</th>\n",
       "      <th></th>\n",
       "      <th></th>\n",
       "      <th></th>\n",
       "      <th></th>\n",
       "    </tr>\n",
       "  </thead>\n",
       "  <tbody>\n",
       "    <tr>\n",
       "      <th>id_00</th>\n",
       "      <td>2000-08-10</td>\n",
       "      <td>5.226933</td>\n",
       "      <td>5.165335</td>\n",
       "      <td>5.244840</td>\n",
       "    </tr>\n",
       "    <tr>\n",
       "      <th>id_00</th>\n",
       "      <td>2000-08-11</td>\n",
       "      <td>6.222637</td>\n",
       "      <td>6.181697</td>\n",
       "      <td>6.258609</td>\n",
       "    </tr>\n",
       "    <tr>\n",
       "      <th>id_00</th>\n",
       "      <td>2000-08-12</td>\n",
       "      <td>0.212516</td>\n",
       "      <td>0.231710</td>\n",
       "      <td>0.225484</td>\n",
       "    </tr>\n",
       "    <tr>\n",
       "      <th>id_00</th>\n",
       "      <td>2000-08-13</td>\n",
       "      <td>1.236251</td>\n",
       "      <td>1.244750</td>\n",
       "      <td>1.228957</td>\n",
       "    </tr>\n",
       "    <tr>\n",
       "      <th>id_00</th>\n",
       "      <td>2000-08-14</td>\n",
       "      <td>2.241766</td>\n",
       "      <td>2.291263</td>\n",
       "      <td>2.302455</td>\n",
       "    </tr>\n",
       "  </tbody>\n",
       "</table>\n",
       "</div>"
      ],
      "text/plain": [
       "                  ds  LGBMRegressor  XGBRegressor  RandomForestRegressor\n",
       "unique_id                                                               \n",
       "id_00     2000-08-10       5.226933      5.165335               5.244840\n",
       "id_00     2000-08-11       6.222637      6.181697               6.258609\n",
       "id_00     2000-08-12       0.212516      0.231710               0.225484\n",
       "id_00     2000-08-13       1.236251      1.244750               1.228957\n",
       "id_00     2000-08-14       2.241766      2.291263               2.302455"
      ]
     },
     "execution_count": 6,
     "metadata": {},
     "output_type": "execute_result"
    }
   ],
   "source": [
    "predictions = fcst.predict(14)\n",
    "predictions.head()"
   ]
  },
  {
   "cell_type": "code",
   "execution_count": 7,
   "metadata": {},
   "outputs": [],
   "source": [
    "import pandas as pd\n",
    "import numpy as np\n",
    "from numba import njit"
   ]
  },
  {
   "cell_type": "code",
   "execution_count": 8,
   "metadata": {},
   "outputs": [
    {
     "data": {
      "text/plain": [
       "<AxesSubplot:>"
      ]
     },
     "execution_count": 8,
     "metadata": {},
     "output_type": "execute_result"
    },
    {
     "data": {
      "image/png": "[encoded data removed]",
      "text/plain": [
       "<Figure size 432x288 with 1 Axes>"
      ]
     },
     "metadata": {
      "needs_background": "light"
     },
     "output_type": "display_data"
    }
   ],
   "source": [
    "serie = pd.Series(0.1 * np.arange(700) + np.arange(7)[[x % 7 for x in np.arange(700)]] + np.random.rand(700))\n",
    "serie.plot()"
   ]
  },
  {
   "cell_type": "code",
   "execution_count": 9,
   "metadata": {},
   "outputs": [],
   "source": [
    "df = serie.to_frame('y')"
   ]
  },
  {
   "cell_type": "code",
   "execution_count": 10,
   "metadata": {},
   "outputs": [],
   "source": [
    "df['ds'] = np.arange(serie.shape[0])\n",
    "df.index = pd.Index(700 * [0])"
   ]
  },
  {
   "cell_type": "code",
   "execution_count": 15,
   "metadata": {},
   "outputs": [
    {
     "ename": "IndexError",
     "evalue": "index 637 is out of bounds for axis 0 with size 637",
     "output_type": "error",
     "traceback": [
      "\u001b[0;31m---------------------------------------------------------------------------\u001b[0m",
      "\u001b[0;31mIndexError\u001b[0m                                Traceback (most recent call last)",
      "Input \u001b[0;32mIn [15]\u001b[0m, in \u001b[0;36m<cell line: 2>\u001b[0;34m()\u001b[0m\n\u001b[1;32m      1\u001b[0m fcst \u001b[38;5;241m=\u001b[39m Forecast(models\u001b[38;5;241m=\u001b[39mlgb\u001b[38;5;241m.\u001b[39mLGBMRegressor(), lags\u001b[38;5;241m=\u001b[39m[\u001b[38;5;241m1\u001b[39m], differences\u001b[38;5;241m=\u001b[39m[\u001b[38;5;241m1\u001b[39m, \u001b[38;5;241m7\u001b[39m])\n\u001b[0;32m----> 2\u001b[0m res \u001b[38;5;241m=\u001b[39m \u001b[43mfcst\u001b[49m\u001b[38;5;241;43m.\u001b[39;49m\u001b[43mcross_validation\u001b[49m\u001b[43m(\u001b[49m\u001b[43mdf\u001b[49m\u001b[43m,\u001b[49m\u001b[43m \u001b[49m\u001b[38;5;241;43m4\u001b[39;49m\u001b[43m,\u001b[49m\u001b[43m \u001b[49m\u001b[38;5;241;43m14\u001b[39;49m\u001b[43m)\u001b[49m\u001b[38;5;241m.\u001b[39mset_index(\u001b[38;5;124m'\u001b[39m\u001b[38;5;124mds\u001b[39m\u001b[38;5;124m'\u001b[39m)\n\u001b[1;32m      3\u001b[0m res[[\u001b[38;5;124m'\u001b[39m\u001b[38;5;124my\u001b[39m\u001b[38;5;124m'\u001b[39m, \u001b[38;5;124m'\u001b[39m\u001b[38;5;124mLGBMRegressor\u001b[39m\u001b[38;5;124m'\u001b[39m]]\u001b[38;5;241m.\u001b[39mplot()\n",
      "File \u001b[0;32m/hdd/github/mlforecast/mlforecast/forecast.py:164\u001b[0m, in \u001b[0;36mForecast.cross_validation\u001b[0;34m(self, data, n_windows, window_size, id_col, time_col, target_col, static_features, dropna, keep_last_n, dynamic_dfs, predict_fn, **predict_fn_kwargs)\u001b[0m\n\u001b[1;32m    159\u001b[0m     freq \u001b[38;5;241m=\u001b[39m \u001b[38;5;28mself\u001b[39m\u001b[38;5;241m.\u001b[39mfreq\n\u001b[1;32m    161\u001b[0m \u001b[38;5;28;01mfor\u001b[39;00m train_end, train, valid \u001b[38;5;129;01min\u001b[39;00m backtest_splits(\n\u001b[1;32m    162\u001b[0m     data, n_windows, window_size, freq, time_col, target_col\n\u001b[1;32m    163\u001b[0m ):\n\u001b[0;32m--> 164\u001b[0m     \u001b[38;5;28;43mself\u001b[39;49m\u001b[38;5;241;43m.\u001b[39;49m\u001b[43mfit\u001b[49m\u001b[43m(\u001b[49m\n\u001b[1;32m    165\u001b[0m \u001b[43m        \u001b[49m\u001b[43mtrain\u001b[49m\u001b[43m,\u001b[49m\n\u001b[1;32m    166\u001b[0m \u001b[43m        \u001b[49m\u001b[38;5;124;43m\"\u001b[39;49m\u001b[38;5;124;43mindex\u001b[39;49m\u001b[38;5;124;43m\"\u001b[39;49m\u001b[43m,\u001b[49m\n\u001b[1;32m    167\u001b[0m \u001b[43m        \u001b[49m\u001b[43mtime_col\u001b[49m\u001b[43m,\u001b[49m\n\u001b[1;32m    168\u001b[0m \u001b[43m        \u001b[49m\u001b[43mtarget_col\u001b[49m\u001b[43m,\u001b[49m\n\u001b[1;32m    169\u001b[0m \u001b[43m        \u001b[49m\u001b[43mstatic_features\u001b[49m\u001b[43m,\u001b[49m\n\u001b[1;32m    170\u001b[0m \u001b[43m        \u001b[49m\u001b[43mdropna\u001b[49m\u001b[43m,\u001b[49m\n\u001b[1;32m    171\u001b[0m \u001b[43m        \u001b[49m\u001b[43mkeep_last_n\u001b[49m\u001b[43m,\u001b[49m\n\u001b[1;32m    172\u001b[0m \u001b[43m    \u001b[49m\u001b[43m)\u001b[49m\n\u001b[1;32m    173\u001b[0m     \u001b[38;5;28mself\u001b[39m\u001b[38;5;241m.\u001b[39mcv_models_\u001b[38;5;241m.\u001b[39mappend(\u001b[38;5;28mself\u001b[39m\u001b[38;5;241m.\u001b[39mmodels_)\n\u001b[1;32m    174\u001b[0m     y_pred \u001b[38;5;241m=\u001b[39m \u001b[38;5;28mself\u001b[39m\u001b[38;5;241m.\u001b[39mpredict(\n\u001b[1;32m    175\u001b[0m         window_size, dynamic_dfs, predict_fn, \u001b[38;5;241m*\u001b[39m\u001b[38;5;241m*\u001b[39mpredict_fn_kwargs\n\u001b[1;32m    176\u001b[0m     )\n",
      "File \u001b[0;32m/hdd/github/mlforecast/mlforecast/forecast.py:91\u001b[0m, in \u001b[0;36mForecast.fit\u001b[0;34m(self, data, id_col, time_col, target_col, static_features, dropna, keep_last_n)\u001b[0m\n\u001b[1;32m     76\u001b[0m \u001b[38;5;28;01mdef\u001b[39;00m \u001b[38;5;21mfit\u001b[39m(\n\u001b[1;32m     77\u001b[0m     \u001b[38;5;28mself\u001b[39m,\n\u001b[1;32m     78\u001b[0m     data: pd\u001b[38;5;241m.\u001b[39mDataFrame,  \u001b[38;5;66;03m# dataframe with the series' data\u001b[39;00m\n\u001b[0;32m   (...)\u001b[0m\n\u001b[1;32m     88\u001b[0m     ] \u001b[38;5;241m=\u001b[39m \u001b[38;5;28;01mNone\u001b[39;00m,  \u001b[38;5;66;03m# keep only this many observations of each serie for computing the updates\u001b[39;00m\n\u001b[1;32m     89\u001b[0m ) \u001b[38;5;241m-\u001b[39m\u001b[38;5;241m>\u001b[39m \u001b[38;5;124m\"\u001b[39m\u001b[38;5;124mForecast\u001b[39m\u001b[38;5;124m\"\u001b[39m:\n\u001b[1;32m     90\u001b[0m     \u001b[38;5;124;03m\"\"\"Preprocesses `data` and fits `models` using it.\"\"\"\u001b[39;00m\n\u001b[0;32m---> 91\u001b[0m     series_df \u001b[38;5;241m=\u001b[39m \u001b[38;5;28;43mself\u001b[39;49m\u001b[38;5;241;43m.\u001b[39;49m\u001b[43mpreprocess\u001b[49m\u001b[43m(\u001b[49m\n\u001b[1;32m     92\u001b[0m \u001b[43m        \u001b[49m\u001b[43mdata\u001b[49m\u001b[43m,\u001b[49m\u001b[43m \u001b[49m\u001b[43mid_col\u001b[49m\u001b[43m,\u001b[49m\u001b[43m \u001b[49m\u001b[43mtime_col\u001b[49m\u001b[43m,\u001b[49m\u001b[43m \u001b[49m\u001b[43mtarget_col\u001b[49m\u001b[43m,\u001b[49m\u001b[43m \u001b[49m\u001b[43mstatic_features\u001b[49m\u001b[43m,\u001b[49m\u001b[43m \u001b[49m\u001b[43mdropna\u001b[49m\u001b[43m,\u001b[49m\u001b[43m \u001b[49m\u001b[43mkeep_last_n\u001b[49m\n\u001b[1;32m     93\u001b[0m \u001b[43m    \u001b[49m\u001b[43m)\u001b[49m\n\u001b[1;32m     94\u001b[0m     X, y \u001b[38;5;241m=\u001b[39m (\n\u001b[1;32m     95\u001b[0m         series_df\u001b[38;5;241m.\u001b[39mdrop(columns\u001b[38;5;241m=\u001b[39m[time_col, target_col]),\n\u001b[1;32m     96\u001b[0m         series_df[target_col]\u001b[38;5;241m.\u001b[39mvalues,\n\u001b[1;32m     97\u001b[0m     )\n\u001b[1;32m     98\u001b[0m     \u001b[38;5;28;01mdel\u001b[39;00m series_df\n",
      "File \u001b[0;32m/hdd/github/mlforecast/mlforecast/forecast.py:72\u001b[0m, in \u001b[0;36mForecast.preprocess\u001b[0;34m(self, data, id_col, time_col, target_col, static_features, dropna, keep_last_n)\u001b[0m\n\u001b[1;32m     58\u001b[0m \u001b[38;5;28;01mdef\u001b[39;00m \u001b[38;5;21mpreprocess\u001b[39m(\n\u001b[1;32m     59\u001b[0m     \u001b[38;5;28mself\u001b[39m,\n\u001b[1;32m     60\u001b[0m     data: pd\u001b[38;5;241m.\u001b[39mDataFrame,  \u001b[38;5;66;03m# dataframe with the series' data\u001b[39;00m\n\u001b[0;32m   (...)\u001b[0m\n\u001b[1;32m     70\u001b[0m     ] \u001b[38;5;241m=\u001b[39m \u001b[38;5;28;01mNone\u001b[39;00m,  \u001b[38;5;66;03m# keep only this many observations of each serie for computing the updates\u001b[39;00m\n\u001b[1;32m     71\u001b[0m ) \u001b[38;5;241m-\u001b[39m\u001b[38;5;241m>\u001b[39m pd\u001b[38;5;241m.\u001b[39mDataFrame:\n\u001b[0;32m---> 72\u001b[0m     \u001b[38;5;28;01mreturn\u001b[39;00m \u001b[38;5;28;43mself\u001b[39;49m\u001b[38;5;241;43m.\u001b[39;49m\u001b[43mts\u001b[49m\u001b[38;5;241;43m.\u001b[39;49m\u001b[43mfit_transform\u001b[49m\u001b[43m(\u001b[49m\n\u001b[1;32m     73\u001b[0m \u001b[43m        \u001b[49m\u001b[43mdata\u001b[49m\u001b[43m,\u001b[49m\u001b[43m \u001b[49m\u001b[43mid_col\u001b[49m\u001b[43m,\u001b[49m\u001b[43m \u001b[49m\u001b[43mtime_col\u001b[49m\u001b[43m,\u001b[49m\u001b[43m \u001b[49m\u001b[43mtarget_col\u001b[49m\u001b[43m,\u001b[49m\u001b[43m \u001b[49m\u001b[43mstatic_features\u001b[49m\u001b[43m,\u001b[49m\u001b[43m \u001b[49m\u001b[43mdropna\u001b[49m\u001b[43m,\u001b[49m\u001b[43m \u001b[49m\u001b[43mkeep_last_n\u001b[49m\n\u001b[1;32m     74\u001b[0m \u001b[43m    \u001b[49m\u001b[43m)\u001b[49m\n",
      "File \u001b[0;32m/hdd/github/mlforecast/mlforecast/core.py:448\u001b[0m, in \u001b[0;36mTimeSeries.fit_transform\u001b[0;34m(self, data, id_col, time_col, target_col, static_features, dropna, keep_last_n)\u001b[0m\n\u001b[1;32m    446\u001b[0m     data \u001b[38;5;241m=\u001b[39m data\u001b[38;5;241m.\u001b[39mset_index(id_col)\n\u001b[1;32m    447\u001b[0m \u001b[38;5;28mself\u001b[39m\u001b[38;5;241m.\u001b[39m_fit(data, id_col, time_col, target_col, static_features, keep_last_n)\n\u001b[0;32m--> 448\u001b[0m \u001b[38;5;28;01mreturn\u001b[39;00m \u001b[38;5;28;43mself\u001b[39;49m\u001b[38;5;241;43m.\u001b[39;49m\u001b[43m_transform\u001b[49m\u001b[43m(\u001b[49m\u001b[43mdata\u001b[49m\u001b[43m,\u001b[49m\u001b[43m \u001b[49m\u001b[43mdropna\u001b[49m\u001b[43m)\u001b[49m\n",
      "File \u001b[0;32m/hdd/github/mlforecast/mlforecast/core.py:411\u001b[0m, in \u001b[0;36mTimeSeries._transform\u001b[0;34m(self, df, dropna)\u001b[0m\n\u001b[1;32m    409\u001b[0m df \u001b[38;5;241m=\u001b[39m df\u001b[38;5;241m.\u001b[39mcopy(deep\u001b[38;5;241m=\u001b[39m\u001b[38;5;28;01mFalse\u001b[39;00m)\n\u001b[1;32m    410\u001b[0m \u001b[38;5;28;01mfor\u001b[39;00m feat \u001b[38;5;129;01min\u001b[39;00m \u001b[38;5;28mself\u001b[39m\u001b[38;5;241m.\u001b[39mtransforms\u001b[38;5;241m.\u001b[39mkeys():\n\u001b[0;32m--> 411\u001b[0m     df[feat] \u001b[38;5;241m=\u001b[39m \u001b[38;5;28;43mself\u001b[39;49m\u001b[38;5;241;43m.\u001b[39;49m\u001b[43mfeatures_\u001b[49m\u001b[43m[\u001b[49m\u001b[43mfeat\u001b[49m\u001b[43m]\u001b[49m\u001b[43m[\u001b[49m\u001b[38;5;28;43mself\u001b[39;49m\u001b[38;5;241;43m.\u001b[39;49m\u001b[43mrestore_idxs\u001b[49m\u001b[43m]\u001b[49m\n\u001b[1;32m    413\u001b[0m \u001b[38;5;28;01mif\u001b[39;00m dropna:\n\u001b[1;32m    414\u001b[0m     df\u001b[38;5;241m.\u001b[39mdropna(inplace\u001b[38;5;241m=\u001b[39m\u001b[38;5;28;01mTrue\u001b[39;00m)\n",
      "\u001b[0;31mIndexError\u001b[0m: index 637 is out of bounds for axis 0 with size 637"
     ]
    }
   ],
   "source": [
    "fcst = Forecast(models=lgb.LGBMRegressor(), lags=[1], differences=[1, 7])\n",
    "res = fcst.cross_validation(df, 4, 14).set_index('ds')\n",
    "res[['y', 'LGBMRegressor']].plot();"
   ]
  },
  {
   "cell_type": "code",
   "execution_count": 16,
   "metadata": {},
   "outputs": [
    {
     "name": "stdout",
     "output_type": "stream",
     "text": [
      "> \u001b[0;32m/hdd/github/mlforecast/mlforecast/core.py\u001b[0m(411)\u001b[0;36m_transform\u001b[0;34m()\u001b[0m\n",
      "\u001b[0;32m    409 \u001b[0;31m        \u001b[0mdf\u001b[0m \u001b[0;34m=\u001b[0m \u001b[0mdf\u001b[0m\u001b[0;34m.\u001b[0m\u001b[0mcopy\u001b[0m\u001b[0;34m(\u001b[0m\u001b[0mdeep\u001b[0m\u001b[0;34m=\u001b[0m\u001b[0;32mFalse\u001b[0m\u001b[0;34m)\u001b[0m\u001b[0;34m\u001b[0m\u001b[0;34m\u001b[0m\u001b[0m\n",
      "\u001b[0m\u001b[0;32m    410 \u001b[0;31m        \u001b[0;32mfor\u001b[0m \u001b[0mfeat\u001b[0m \u001b[0;32min\u001b[0m \u001b[0mself\u001b[0m\u001b[0;34m.\u001b[0m\u001b[0mtransforms\u001b[0m\u001b[0;34m.\u001b[0m\u001b[0mkeys\u001b[0m\u001b[0;34m(\u001b[0m\u001b[0;34m)\u001b[0m\u001b[0;34m:\u001b[0m\u001b[0;34m\u001b[0m\u001b[0;34m\u001b[0m\u001b[0m\n",
      "\u001b[0m\u001b[0;32m--> 411 \u001b[0;31m            \u001b[0mdf\u001b[0m\u001b[0;34m[\u001b[0m\u001b[0mfeat\u001b[0m\u001b[0;34m]\u001b[0m \u001b[0;34m=\u001b[0m \u001b[0mself\u001b[0m\u001b[0;34m.\u001b[0m\u001b[0mfeatures_\u001b[0m\u001b[0;34m[\u001b[0m\u001b[0mfeat\u001b[0m\u001b[0;34m]\u001b[0m\u001b[0;34m[\u001b[0m\u001b[0mself\u001b[0m\u001b[0;34m.\u001b[0m\u001b[0mrestore_idxs\u001b[0m\u001b[0;34m]\u001b[0m\u001b[0;34m\u001b[0m\u001b[0;34m\u001b[0m\u001b[0m\n",
      "\u001b[0m\u001b[0;32m    412 \u001b[0;31m\u001b[0;34m\u001b[0m\u001b[0m\n",
      "\u001b[0m\u001b[0;32m    413 \u001b[0;31m        \u001b[0;32mif\u001b[0m \u001b[0mdropna\u001b[0m\u001b[0;34m:\u001b[0m\u001b[0;34m\u001b[0m\u001b[0;34m\u001b[0m\u001b[0m\n",
      "\u001b[0m\n"
     ]
    },
    {
     "name": "stdin",
     "output_type": "stream",
     "text": [
      "ipdb>  self.restore_idxs\n"
     ]
    },
    {
     "name": "stdout",
     "output_type": "stream",
     "text": [
      "array([   8,    9,   10,   11,   12,   13,   14,   15,   16,   17,   18,\n",
      "         19,   20,   21,   22,   23,   24,   25,   26,   27,   28,   29,\n",
      "         30,   31,   32,   33,   34,   35,   36,   37,   38,   39,   40,\n",
      "         41,   42,   43,   44,   45,   46,   47,   48,   49,   50,   51,\n",
      "         52,   53,   54,   55,   56,   57,   58,   59,   60,   61,   62,\n",
      "         63,   64,   65,   66,   67,   68,   69,   70,   71,   72,   73,\n",
      "         74,   75,   76,   77,   78,   79,   80,   81,   82,   83,   84,\n",
      "         85,   86,   87,   88,   89,   90,   91,   92,   93,   94,   95,\n",
      "         96,   97,   98,   99,  100,  101,  102,  103,  104,  105,  106,\n",
      "        107,  108,  109,  110,  111,  112,  113,  114,  115,  116,  117,\n",
      "        118,  119,  120,  121,  122,  123,  124,  125,  126,  127,  128,\n",
      "        129,  130,  131,  132,  133,  134,  135,  136,  137,  138,  139,\n",
      "        140,  141,  142,  143,  144,  145,  146,  147,  148,  149,  150,\n",
      "        151,  152,  153,  154,  155,  156,  157,  158,  159,  160,  161,\n",
      "        162,  163,  164,  165,  166,  167,  168,  169,  170,  171,  172,\n",
      "        173,  174,  175,  176,  177,  178,  179,  180,  181,  182,  183,\n",
      "        184,  185,  186,  187,  188,  189,  190,  191,  192,  193,  194,\n",
      "        195,  196,  197,  198,  199,  200,  201,  202,  203,  204,  205,\n",
      "        206,  207,  208,  209,  210,  211,  212,  213,  214,  215,  216,\n",
      "        217,  218,  219,  220,  221,  222,  223,  224,  225,  226,  227,\n",
      "        228,  229,  230,  231,  232,  233,  234,  235,  236,  237,  238,\n",
      "        239,  240,  241,  242,  243,  244,  245,  246,  247,  248,  249,\n",
      "        250,  251,  252,  253,  254,  255,  256,  257,  258,  259,  260,\n",
      "        261,  262,  263,  264,  265,  266,  267,  268,  269,  270,  271,\n",
      "        272,  273,  274,  275,  276,  277,  278,  279,  280,  281,  282,\n",
      "        283,  284,  285,  286,  287,  288,  289,  290,  291,  292,  293,\n",
      "        294,  295,  296,  297,  298,  299,  300,  301,  302,  303,  304,\n",
      "        305,  306,  307,  308,  309,  310,  311,  312,  313,  314,  315,\n",
      "        316,  317,  318,  319,  320,  321,  322,  323,  324,  325,  326,\n",
      "        327,  328,  329,  330,  331,  332,  333,  334,  335,  336,  337,\n",
      "        338,  339,  340,  341,  342,  343,  344,  345,  346,  347,  348,\n",
      "        349,  350,  351,  352,  353,  354,  355,  356,  357,  358,  359,\n",
      "        360,  361,  362,  363,  364,  365,  366,  367,  368,  369,  370,\n",
      "        371,  372,  373,  374,  375,  376,  377,  378,  379,  380,  381,\n",
      "        382,  383,  384,  385,  386,  387,  388,  389,  390,  391,  392,\n",
      "        393,  394,  395,  396,  397,  398,  399,  400,  401,  402,  403,\n",
      "        404,  405,  406,  407,  408,  409,  410,  411,  412,  413,  414,\n",
      "        415,  416,  417,  418,  419,  420,  421,  422,  423,  424,  425,\n",
      "        426,  427,  428,  429,  430,  431,  432,  433,  434,  435,  436,\n",
      "        437,  438,  439,  440,  441,  442,  443,  444,  445,  446,  447,\n",
      "        448,  449,  450,  451,  452,  453,  454,  455,  456,  457,  458,\n",
      "        459,  460,  461,  462,  463,  464,  465,  466,  467,  468,  469,\n",
      "        470,  471,  472,  473,  474,  475,  476,  477,  478,  479,  480,\n",
      "        481,  482,  483,  484,  485,  486,  487,  488,  489,  490,  491,\n",
      "        492,  493,  494,  495,  496,  497,  498,  499,  500,  501,  502,\n",
      "        503,  504,  505,  506,  507,  508,  509,  510,  511,  512,  513,\n",
      "        514,  515,  516,  517,  518,  519,  520,  521,  522,  523,  524,\n",
      "        525,  526,  527,  528,  529,  530,  531,  532,  533,  534,  535,\n",
      "        536,  537,  538,  539,  540,  541,  542,  543,  544,  545,  546,\n",
      "        547,  548,  549,  550,  551,  552,  553,  554,  555,  556,  557,\n",
      "        558,  559,  560,  561,  562,  563,  564,  565,  566,  567,  568,\n",
      "        569,  570,  571,  572,  573,  574,  575,  576,  577,  578,  579,\n",
      "        580,  581,  582,  583,  584,  585,  586,  587,  588,  589,  590,\n",
      "        591,  592,  593,  594,  595,  596,  597,  598,  599,  600,  601,\n",
      "        602,  603,  604,  605,  606,  607,  608,  609,  610,  611,  612,\n",
      "        613,  614,  615,  616,  617,  618,  619,  620,  621,  622,  623,\n",
      "        624,  625,  626,  627,  628,  629,  630,  631,  632,  633,  634,\n",
      "        635,  636,  637,  638,  639,  640,  641,  642,  643, 2560],\n",
      "      dtype=int32)\n"
     ]
    },
    {
     "name": "stdin",
     "output_type": "stream",
     "text": [
      "ipdb>  q\n"
     ]
    }
   ],
   "source": [
    "debug"
   ]
  }
 ],
 "metadata": {
  "kernelspec": {
   "display_name": "Python 3 (ipykernel)",
   "language": "python",
   "name": "python3"
  },
  "language_info": {
   "codemirror_mode": {
    "name": "ipython",
    "version": 3
   },
   "file_extension": ".py",
   "mimetype": "text/x-python",
   "name": "python",
   "nbconvert_exporter": "python",
   "pygments_lexer": "ipython3",
   "version": "3.9.12"
  }
 },
 "nbformat": 4,
 "nbformat_minor": 4
}
