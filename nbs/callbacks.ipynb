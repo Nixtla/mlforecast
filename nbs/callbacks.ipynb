{
 "cells": [
  {
   "cell_type": "code",
   "execution_count": null,
   "id": "f4644ef9-9ae6-40e8-91c8-0c7e042af123",
   "metadata": {},
   "outputs": [],
   "source": [
    "#| default_exp callbacks"
   ]
  },
  {
   "cell_type": "code",
   "execution_count": null,
   "id": "21b4ed66-5188-4325-b6bb-0f1e4b5429d9",
   "metadata": {},
   "outputs": [],
   "source": [
    "#| hide\n",
    "%load_ext autoreload\n",
    "%autoreload 2"
   ]
  },
  {
   "cell_type": "markdown",
   "id": "afe10c28-fec7-40b7-9f73-ef2094ade7fc",
   "metadata": {},
   "source": [
    "# Callbacks\n",
    "Utility functions use in the predict step."
   ]
  },
  {
   "cell_type": "code",
   "execution_count": null,
   "id": "ae0253fb-eb18-4188-985f-5842f45f2db7",
   "metadata": {},
   "outputs": [],
   "source": [
    "#| export\n",
    "import pandas as pd\n",
    "\n",
    "from utilsforecast.compat import DataFrame, pl_concat"
   ]
  },
  {
   "cell_type": "code",
   "execution_count": null,
   "id": "da0e5c57-2eac-452a-8435-edb0e919bc65",
   "metadata": {},
   "outputs": [],
   "source": [
    "#| export\n",
    "class SaveFeatures:\n",
    "    \"\"\"Saves the features in every timestamp.\"\"\"\n",
    "    def __init__(self):\n",
    "        self._inputs = []\n",
    "\n",
    "    def __call__(self, new_x):\n",
    "        self._inputs.append(new_x)\n",
    "        return new_x\n",
    "\n",
    "    def get_features(self, with_step: bool = False) -> DataFrame:\n",
    "        \"\"\"Retrieves the input features for every timestep\n",
    "        \n",
    "        Parameters\n",
    "        ----------\n",
    "        with_step : bool\n",
    "            Add a column indicating the step\n",
    "        \n",
    "        Returns\n",
    "        -------\n",
    "        pandas or polars DataFrame\n",
    "            DataFrame with input features\n",
    "        \"\"\"\n",
    "        if not self._inputs:\n",
    "            raise ValueError(\n",
    "                'Inputs list is empty. '\n",
    "                'Call `predict` using this callback as before_predict_callback'\n",
    "            )\n",
    "        if isinstance(self._inputs[0], pd.DataFrame):\n",
    "            if with_step:\n",
    "                res = pd.concat([df.assign(step=i) for i, df in enumerate(self._inputs)])\n",
    "            else:\n",
    "                res = pd.concat(self._inputs)\n",
    "            res = res.reset_index(drop=True)\n",
    "        else:\n",
    "            if with_step:\n",
    "                res = pl_concat([df.with_columns(step=i) for i, df in enumerate(self._inputs)])\n",
    "            else:\n",
    "                res = pl_concat(self._inputs)\n",
    "        return res"
   ]
  },
  {
   "cell_type": "code",
   "execution_count": null,
   "id": "dac9a0ab-140e-43be-abe0-70ea1c71505e",
   "metadata": {},
   "outputs": [],
   "source": [
    "#| hide\n",
    "from nbdev import show_doc"
   ]
  },
  {
   "cell_type": "code",
   "execution_count": null,
   "id": "14b534fa-3247-4883-84c5-0ddf2d684397",
   "metadata": {},
   "outputs": [
    {
     "data": {
      "text/markdown": [
       "---\n",
       "\n",
       "### SaveFeatures\n",
       "\n",
       ">      SaveFeatures ()\n",
       "\n",
       "Saves the features in every timestamp."
      ],
      "text/plain": [
       "---\n",
       "\n",
       "### SaveFeatures\n",
       "\n",
       ">      SaveFeatures ()\n",
       "\n",
       "Saves the features in every timestamp."
      ]
     },
     "execution_count": null,
     "metadata": {},
     "output_type": "execute_result"
    }
   ],
   "source": [
    "show_doc(SaveFeatures)"
   ]
  },
  {
   "cell_type": "code",
   "execution_count": null,
   "id": "557189a2-24fb-4f12-b4ad-b9bb080d6b51",
   "metadata": {},
   "outputs": [
    {
     "data": {
      "text/markdown": [
       "---\n",
       "\n",
       "### SaveFeatures.get_features\n",
       "\n",
       ">      SaveFeatures.get_features (with_horizon:bool=False)\n",
       "\n",
       "Retrieves the input features for every timestep\n",
       "\n",
       "|    | **Type** | **Default** | **Details** |\n",
       "| -- | -------- | ----------- | ----------- |\n",
       "| with_horizon | bool | False | Add a column indicating the horizon |\n",
       "| **Returns** | **Union** |  | **DataFrame with input features** |"
      ],
      "text/plain": [
       "---\n",
       "\n",
       "### SaveFeatures.get_features\n",
       "\n",
       ">      SaveFeatures.get_features (with_horizon:bool=False)\n",
       "\n",
       "Retrieves the input features for every timestep\n",
       "\n",
       "|    | **Type** | **Default** | **Details** |\n",
       "| -- | -------- | ----------- | ----------- |\n",
       "| with_horizon | bool | False | Add a column indicating the horizon |\n",
       "| **Returns** | **Union** |  | **DataFrame with input features** |"
      ]
     },
     "execution_count": null,
     "metadata": {},
     "output_type": "execute_result"
    }
   ],
   "source": [
    "show_doc(SaveFeatures.get_features)"
   ]
  }
 ],
 "metadata": {
  "kernelspec": {
   "display_name": "python3",
   "language": "python",
   "name": "python3"
  }
 },
 "nbformat": 4,
 "nbformat_minor": 5
}
