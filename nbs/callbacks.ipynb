{
 "cells": [
  {
   "cell_type": "code",
   "execution_count": null,
   "id": "f4644ef9-9ae6-40e8-91c8-0c7e042af123",
   "metadata": {},
   "outputs": [],
   "source": [
    "#| default_exp callbacks"
   ]
  },
  {
   "cell_type": "code",
   "execution_count": null,
   "id": "21b4ed66-5188-4325-b6bb-0f1e4b5429d9",
   "metadata": {},
   "outputs": [],
   "source": [
    "#| hide\n",
    "%load_ext autoreload\n",
    "%autoreload 2"
   ]
  },
  {
   "cell_type": "markdown",
   "id": "afe10c28-fec7-40b7-9f73-ef2094ade7fc",
   "metadata": {},
   "source": [
    "# Callbacks\n",
    "Utility functions use in the predict step."
   ]
  },
  {
   "cell_type": "code",
   "execution_count": null,
   "id": "ae0253fb-eb18-4188-985f-5842f45f2db7",
   "metadata": {},
   "outputs": [],
   "source": [
    "#| export\n",
    "from utilsforecast.compat import DataFrame\n",
    "from utilsforecast.processing import (\n",
    "    assign_columns,\n",
    "    drop_index_if_pandas,\n",
    "    vertical_concat\n",
    ")"
   ]
  },
  {
   "cell_type": "code",
   "execution_count": null,
   "id": "da0e5c57-2eac-452a-8435-edb0e919bc65",
   "metadata": {},
   "outputs": [],
   "source": [
    "#| export\n",
    "class SaveFeatures:\n",
    "    \"\"\"Saves the features in every timestamp.\"\"\"\n",
    "    def __init__(self):\n",
    "        self._inputs = []\n",
    "\n",
    "    def __call__(self, new_x):\n",
    "        self._inputs.append(new_x)\n",
    "        return new_x\n",
    "\n",
    "    def get_features(self, with_step: bool = False) -> DataFrame:\n",
    "        \"\"\"Retrieves the input features for every timestep\n",
    "        \n",
    "        Parameters\n",
    "        ----------\n",
    "        with_step : bool\n",
    "            Add a column indicating the step\n",
    "        \n",
    "        Returns\n",
    "        -------\n",
    "        pandas or polars DataFrame\n",
    "            DataFrame with input features\n",
    "        \"\"\"\n",
    "        if not self._inputs:\n",
    "            raise ValueError(\n",
    "                'Inputs list is empty. '\n",
    "                'Call `predict` using this callback as before_predict_callback'\n",
    "            )\n",
    "        if with_step:\n",
    "            dfs = [assign_columns(df, 'step', i) for i, df in enumerate(self._inputs)]\n",
    "        else:\n",
    "            dfs = self._inputs\n",
    "        res = vertical_concat(dfs)\n",
    "        res = drop_index_if_pandas(res)\n",
    "        return res"
   ]
  },
  {
   "cell_type": "code",
   "execution_count": null,
   "id": "dac9a0ab-140e-43be-abe0-70ea1c71505e",
   "metadata": {},
   "outputs": [],
   "source": [
    "#| hide\n",
    "from nbdev import show_doc"
   ]
  },
  {
   "cell_type": "code",
   "execution_count": null,
   "id": "14b534fa-3247-4883-84c5-0ddf2d684397",
   "metadata": {},
   "outputs": [
    {
     "data": {
      "text/markdown": [
       "---\n",
       "\n",
       "### SaveFeatures\n",
       "\n",
       ">      SaveFeatures ()\n",
       "\n",
       "Saves the features in every timestamp."
      ],
      "text/plain": [
       "---\n",
       "\n",
       "### SaveFeatures\n",
       "\n",
       ">      SaveFeatures ()\n",
       "\n",
       "Saves the features in every timestamp."
      ]
     },
     "execution_count": null,
     "metadata": {},
     "output_type": "execute_result"
    }
   ],
   "source": [
    "show_doc(SaveFeatures)"
   ]
  },
  {
   "cell_type": "code",
   "execution_count": null,
   "id": "557189a2-24fb-4f12-b4ad-b9bb080d6b51",
   "metadata": {},
   "outputs": [
    {
     "data": {
      "text/markdown": [
       "---\n",
       "\n",
       "### SaveFeatures.get_features\n",
       "\n",
       ">      SaveFeatures.get_features (with_step:bool=False)\n",
       "\n",
       "Retrieves the input features for every timestep\n",
       "\n",
       "|    | **Type** | **Default** | **Details** |\n",
       "| -- | -------- | ----------- | ----------- |\n",
       "| with_step | bool | False | Add a column indicating the step |\n",
       "| **Returns** | **Union** |  | **DataFrame with input features** |"
      ],
      "text/plain": [
       "---\n",
       "\n",
       "### SaveFeatures.get_features\n",
       "\n",
       ">      SaveFeatures.get_features (with_step:bool=False)\n",
       "\n",
       "Retrieves the input features for every timestep\n",
       "\n",
       "|    | **Type** | **Default** | **Details** |\n",
       "| -- | -------- | ----------- | ----------- |\n",
       "| with_step | bool | False | Add a column indicating the step |\n",
       "| **Returns** | **Union** |  | **DataFrame with input features** |"
      ]
     },
     "execution_count": null,
     "metadata": {},
     "output_type": "execute_result"
    }
   ],
   "source": [
    "show_doc(SaveFeatures.get_features)"
   ]
  }
 ],
 "metadata": {
  "kernelspec": {
   "display_name": "python3",
   "language": "python",
   "name": "python3"
  }
 },
 "nbformat": 4,
 "nbformat_minor": 5
}
