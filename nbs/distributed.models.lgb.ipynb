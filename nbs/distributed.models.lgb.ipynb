{
 "cells": [
  {
   "cell_type": "code",
   "execution_count": null,
   "id": "533f8f53-cfa2-4560-a28f-1ce032a0949d",
   "metadata": {},
   "outputs": [],
   "source": [
    "#default_exp distributed.models.lgb"
   ]
  },
  {
   "cell_type": "markdown",
   "id": "12972535-1a7c-4814-a19c-5e2c48824e85",
   "metadata": {},
   "source": [
    "# LGBMForecast\n",
    "\n",
    "> LightGBM forecaster"
   ]
  },
  {
   "cell_type": "markdown",
   "id": "fd9d0998-ca46-4e7a-9c64-b8378c0c1b85",
   "metadata": {},
   "source": [
    "Wrapper of `lightgbm.dask.DaskLGBMRegressor` that adds a `model_` property that contains the fitted booster and is sent to the workers to in the forecasting step."
   ]
  },
  {
   "cell_type": "code",
   "execution_count": null,
   "id": "dbae0b4a-545c-472f-8ead-549830fb071c",
   "metadata": {},
   "outputs": [],
   "source": [
    "#export\n",
    "import warnings\n",
    "\n",
    "import lightgbm as lgb\n"
   ]
  },
  {
   "cell_type": "code",
   "execution_count": null,
   "id": "ef31c6d5-7fb6-4a08-8d72-bfcdc1ae8540",
   "metadata": {},
   "outputs": [],
   "source": [
    "#export\n",
    "class LGBMForecast(lgb.dask.DaskLGBMRegressor):\n",
    "    if lgb.__version__ > '2.3.1' and lgb.__version__ <= '3.2.1':\n",
    "        warnings.warn(\n",
    "            \"It is recommended to build LightGBM from source following the instructions here: \"\n",
    "            \"https://github.com/microsoft/LightGBM/tree/master/python-package#install-from-github, since \"\n",
    "            \"the current LightGBM version might be affected by https://github.com/microsoft/LightGBM/issues/4026, \"\n",
    "            \"which was fixed after 3.2.1.\"\n",
    "        )\n",
    "\n",
    "    @property\n",
    "    def model_(self):\n",
    "        return self.booster_\n"
   ]
  }
 ],
 "metadata": {
  "kernelspec": {
   "display_name": "Python 3",
   "language": "python",
   "name": "python3"
  }
 },
 "nbformat": 4,
 "nbformat_minor": 5
}
