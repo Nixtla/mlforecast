{
 "cells": [
  {
   "cell_type": "code",
   "execution_count": null,
   "id": "533f8f53-cfa2-4560-a28f-1ce032a0949d",
   "metadata": {},
   "outputs": [],
   "source": [
    "#|default_exp distributed.models.spark.lgb"
   ]
  },
  {
   "cell_type": "markdown",
   "id": "12972535-1a7c-4814-a19c-5e2c48824e85",
   "metadata": {},
   "source": [
    "# SparkLGBMForecast\n",
    "\n",
    "> spark LightGBM forecaster"
   ]
  },
  {
   "cell_type": "markdown",
   "id": "fd9d0998-ca46-4e7a-9c64-b8378c0c1b85",
   "metadata": {},
   "source": [
    "Wrapper of `synapse.ml.lightgbm.LightGBMRegressor` that adds an `extract_local_model` method to get a local version of the trained model and broadcast it to the workers."
   ]
  },
  {
   "cell_type": "code",
   "execution_count": null,
   "id": "dbae0b4a-545c-472f-8ead-549830fb071c",
   "metadata": {},
   "outputs": [],
   "source": [
    "#|export\n",
    "import lightgbm as lgb\n",
    "try:\n",
    "    from synapse.ml.lightgbm import LightGBMRegressor\n",
    "except ModuleNotFoundError:\n",
    "    import os\n",
    "    \n",
    "    if os.getenv('QUARTO_PREVIEW', '0') == '1' or os.getenv('IN_TEST', '0') == '1':\n",
    "        LightGBMRegressor = object\n",
    "    else:\n",
    "        raise"
   ]
  },
  {
   "cell_type": "code",
   "execution_count": null,
   "id": "ef31c6d5-7fb6-4a08-8d72-bfcdc1ae8540",
   "metadata": {},
   "outputs": [],
   "source": [
    "#|export\n",
    "class SparkLGBMForecast(LightGBMRegressor):\n",
    "    def _pre_fit(self, target_col):\n",
    "        return self.setLabelCol(target_col)\n",
    "        \n",
    "    def extract_local_model(self, trained_model):\n",
    "        model_str = trained_model.getNativeModel()\n",
    "        local_model = lgb.Booster(model_str=model_str)\n",
    "        return local_model"
   ]
  }
 ],
 "metadata": {
  "kernelspec": {
   "display_name": "python3",
   "language": "python",
   "name": "python3"
  }
 },
 "nbformat": 4,
 "nbformat_minor": 5
}
