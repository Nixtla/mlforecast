{
 "cells": [
  {
   "cell_type": "markdown",
   "metadata": {},
   "source": [
    "# Transfer Learning"
   ]
  },
  {
   "cell_type": "markdown",
   "metadata": {},
   "source": [
    "Transfer learning refers to the process of pre-training a flexible model on a large dataset and using it later on other data with little to no training. It is one of the most outstanding 🚀 achievements in Machine Learning  and has many practical applications.\n",
    "\n",
    "For time series forecasting, the technique allows you to get lightning-fast predictions ⚡ bypassing the tradeoff between accuracy and speed (more than 30 times faster than our already fast [AutoARIMA](https://github.com/Nixtla/statsforecast) for a similar accuracy).\n",
    "\n",
    "This notebook shows how to generate a pre-trained model to forecast new time series never seen by the model. \n",
    "\n",
    "Table of Contents\n",
    "\n",
    "-   Installing MLForecast\n",
    "-   Load M3 Monthly Data\n",
    "-   Instantiate NeuralForecast core, Fit, and save\n",
    "-   Use the pre-trained model to predict on AirPassengers\n",
    "-   Evaluate Results"
   ]
  },
  {
   "cell_type": "markdown",
   "metadata": {},
   "source": [
    "You can run these experiments with Google Colab.\n",
    "\n",
    "<a href=\"https://colab.research.google.com/github/Nixtla/mlforecast/blob/main/nbs/docs/transfer_learning.ipynb\" target=\"_parent\"><img src=\"https://colab.research.google.com/assets/colab-badge.svg\" alt=\"Open In Colab\"/></a>"
   ]
  },
  {
   "cell_type": "markdown",
   "metadata": {},
   "source": [
    "## Installing Libraries"
   ]
  },
  {
   "cell_type": "code",
   "execution_count": null,
   "metadata": {},
   "outputs": [],
   "source": [
    "%%capture\n",
    "# !pip install mlforecast datasetsforecast utilsforecast s3fs"
   ]
  },
  {
   "cell_type": "code",
   "execution_count": null,
   "metadata": {},
   "outputs": [],
   "source": [
    "import lightgbm as lgb\n",
    "import numpy as np\n",
    "import pandas as pd\n",
    "from datasetsforecast.m3 import M3\n",
    "from utilsforecast.losses import mae\n",
    "from utilsforecast.plotting import plot_series\n",
    "\n",
    "from mlforecast import MLForecast\n",
    "from mlforecast.target_transforms import Differences"
   ]
  },
  {
   "cell_type": "markdown",
   "metadata": {},
   "source": [
    "## Load M3 Data\n",
    "\n",
    "The `M3` class will automatically download the complete M3 dataset and process it.\n",
    "\n",
    "It return three Dataframes: `Y_df` contains the values for the target variables, `X_df` contains exogenous calendar features and `S_df` contains static features for each time-series. For this example we will only use `Y_df`.\n",
    "\n",
    "If you want to use your own data just replace `Y_df`. Be sure to use a long format and have a simmilar structure than our data set."
   ]
  },
  {
   "cell_type": "code",
   "execution_count": null,
   "metadata": {},
   "outputs": [],
   "source": [
    "Y_df_M3, _, _ = M3.load(directory='./', group='Monthly')"
   ]
  },
  {
   "cell_type": "markdown",
   "metadata": {},
   "source": [
    "In this tutorial we are only using `1_000` series to speed up computations. Remove the filter to use the whole dataset."
   ]
  },
  {
   "cell_type": "code",
   "execution_count": null,
   "metadata": {},
   "outputs": [],
   "source": [
    "fig = plot_series(Y_df_M3)\n",
    "fig.savefig('../figs/transfer_learning__eda.png', bbox_inches='tight')"
   ]
  },
  {
   "cell_type": "markdown",
   "metadata": {},
   "source": [
    "![](../figs/transfer_learning__eda.png)"
   ]
  },
  {
   "cell_type": "markdown",
   "metadata": {},
   "source": [
    "## Model Training\n",
    "\n",
    "Using the `MLForecast.fit` method you can train a set of models to your dataset. You can modify the hyperparameters of the model to get a better accuracy, in this case we will use the default hyperparameters of `lgb.LGBMRegressor`. "
   ]
  },
  {
   "cell_type": "code",
   "execution_count": null,
   "metadata": {},
   "outputs": [],
   "source": [
    "models = [lgb.LGBMRegressor(verbosity=-1)]"
   ]
  },
  {
   "cell_type": "markdown",
   "metadata": {},
   "source": [
    "The `MLForecast` object has the following parameters: \n",
    "\n",
    "- `models`: a list of sklearn-like (`fit` and `predict`) models. \n",
    "- `freq`: a string indicating the frequency of the data. See [panda’s available frequencies.](https://pandas.pydata.org/pandas-docs/stable/user_guide/timeseries.html#offset-aliases)\n",
    "- `differences`: Differences to take of the target before computing the features. These are restored at the forecasting step.\n",
    "- `lags`: Lags of the target to use as features.\n",
    "\n",
    "In this example, we are only using `differences` and `lags` to produce features. See [the full documentation](https://nixtla.github.io/mlforecast/forecast.html) to see all available features.\n",
    "\n",
    "Any settings are passed into the constructor. Then you call its `fit` method and pass in the historical data frame `Y_df_M3`. "
   ]
  },
  {
   "cell_type": "code",
   "execution_count": null,
   "metadata": {},
   "outputs": [],
   "source": [
    "fcst = MLForecast(\n",
    "    models=models, \n",
    "    lags=range(1, 13),\n",
    "    freq='MS',\n",
    "    target_transforms=[Differences([1, 12])],\n",
    ")\n",
    "fcst.fit(Y_df_M3);"
   ]
  },
  {
   "cell_type": "markdown",
   "metadata": {},
   "source": [
    "## Transfer M3 to AirPassengers\n",
    "\n",
    "Now we can transfer the trained model to forecast `AirPassengers` with the `MLForecast.predict` method, we just have to pass the new dataframe to the `new_data` argument."
   ]
  },
  {
   "cell_type": "code",
   "execution_count": null,
   "metadata": {},
   "outputs": [],
   "source": [
    "Y_df = pd.read_csv('https://datasets-nixtla.s3.amazonaws.com/air-passengers.csv', parse_dates=['ds'])\n",
    "\n",
    "# We define the train df. \n",
    "Y_train_df = Y_df[Y_df.ds<='1959-12-31'] # 132 train\n",
    "Y_test_df = Y_df[Y_df.ds>'1959-12-31']   # 12 test"
   ]
  },
  {
   "cell_type": "code",
   "execution_count": null,
   "metadata": {},
   "outputs": [
    {
     "data": {
      "text/html": [
       "<div>\n",
       "<style scoped>\n",
       "    .dataframe tbody tr th:only-of-type {\n",
       "        vertical-align: middle;\n",
       "    }\n",
       "\n",
       "    .dataframe tbody tr th {\n",
       "        vertical-align: top;\n",
       "    }\n",
       "\n",
       "    .dataframe thead th {\n",
       "        text-align: right;\n",
       "    }\n",
       "</style>\n",
       "<table border=\"1\" class=\"dataframe\">\n",
       "  <thead>\n",
       "    <tr style=\"text-align: right;\">\n",
       "      <th></th>\n",
       "      <th>unique_id</th>\n",
       "      <th>ds</th>\n",
       "      <th>LGBMRegressor</th>\n",
       "    </tr>\n",
       "  </thead>\n",
       "  <tbody>\n",
       "    <tr>\n",
       "      <th>0</th>\n",
       "      <td>AirPassengers</td>\n",
       "      <td>1960-01-01</td>\n",
       "      <td>422.740096</td>\n",
       "    </tr>\n",
       "    <tr>\n",
       "      <th>1</th>\n",
       "      <td>AirPassengers</td>\n",
       "      <td>1960-02-01</td>\n",
       "      <td>399.480193</td>\n",
       "    </tr>\n",
       "    <tr>\n",
       "      <th>2</th>\n",
       "      <td>AirPassengers</td>\n",
       "      <td>1960-03-01</td>\n",
       "      <td>458.220289</td>\n",
       "    </tr>\n",
       "    <tr>\n",
       "      <th>3</th>\n",
       "      <td>AirPassengers</td>\n",
       "      <td>1960-04-01</td>\n",
       "      <td>442.960385</td>\n",
       "    </tr>\n",
       "    <tr>\n",
       "      <th>4</th>\n",
       "      <td>AirPassengers</td>\n",
       "      <td>1960-05-01</td>\n",
       "      <td>461.700482</td>\n",
       "    </tr>\n",
       "  </tbody>\n",
       "</table>\n",
       "</div>"
      ],
      "text/plain": [
       "       unique_id         ds  LGBMRegressor\n",
       "0  AirPassengers 1960-01-01     422.740096\n",
       "1  AirPassengers 1960-02-01     399.480193\n",
       "2  AirPassengers 1960-03-01     458.220289\n",
       "3  AirPassengers 1960-04-01     442.960385\n",
       "4  AirPassengers 1960-05-01     461.700482"
      ]
     },
     "execution_count": null,
     "metadata": {},
     "output_type": "execute_result"
    }
   ],
   "source": [
    "Y_hat_df = fcst.predict(horizon=12, new_data=Y_train_df)\n",
    "Y_hat_df.head()"
   ]
  },
  {
   "cell_type": "code",
   "execution_count": null,
   "metadata": {},
   "outputs": [],
   "source": [
    "Y_hat_df = Y_test_df.merge(Y_hat_df, how='left', on=['unique_id', 'ds'])"
   ]
  },
  {
   "cell_type": "code",
   "execution_count": null,
   "metadata": {},
   "outputs": [],
   "source": [
    "fig = plot_series(Y_train_df, Y_hat_df)\n",
    "fig.savefig('../figs/transfer_learning__forecast.png', bbox_inches='tight')"
   ]
  },
  {
   "cell_type": "markdown",
   "metadata": {},
   "source": [
    "![](../figs/transfer_learning__forecast.png)"
   ]
  },
  {
   "cell_type": "markdown",
   "metadata": {},
   "source": [
    "## Evaluate Results\n",
    "\n",
    "\n",
    "We evaluate the forecasts of the pre-trained model with the Mean Absolute Error (`mae`).\n",
    "\n",
    "$$\n",
    "\\qquad MAE = \\frac{1}{Horizon} \\sum_{\\tau} |y_{\\tau} - \\hat{y}_{\\tau}|\\qquad\n",
    "$$"
   ]
  },
  {
   "cell_type": "code",
   "execution_count": null,
   "metadata": {},
   "outputs": [],
   "source": [
    "y_true = Y_test_df.y.values\n",
    "y_hat = Y_hat_df['LGBMRegressor'].values"
   ]
  },
  {
   "cell_type": "code",
   "execution_count": null,
   "metadata": {},
   "outputs": [
    {
     "name": "stdout",
     "output_type": "stream",
     "text": [
      "LGBMRegressor     MAE: 13.560\n",
      "ETS               MAE: 16.222\n",
      "AutoARIMA         MAE: 18.551\n"
     ]
    }
   ],
   "source": [
    "print(f'LGBMRegressor     MAE: {mae(y_hat, y_true):.3f}')\n",
    "print('ETS               MAE: 16.222')\n",
    "print('AutoARIMA         MAE: 18.551')"
   ]
  }
 ],
 "metadata": {
  "kernelspec": {
   "display_name": "python3",
   "language": "python",
   "name": "python3"
  }
 },
 "nbformat": 4,
 "nbformat_minor": 4
}
