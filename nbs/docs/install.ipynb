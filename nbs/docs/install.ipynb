{
 "cells": [
  {
   "cell_type": "markdown",
   "id": "e4498c76-c1a4-4bb4-ac55-96f9c0475acc",
   "metadata": {},
   "source": [
    "# Install\n",
    "\n",
    "> Instructions to install the package from different sources."
   ]
  },
  {
   "cell_type": "markdown",
   "id": "a2312c2d-b391-4d19-a1bd-f99339c290d7",
   "metadata": {},
   "source": [
    "## Released versions"
   ]
  },
  {
   "cell_type": "markdown",
   "id": "d465c613-a0a6-4538-9497-57984c261dc0",
   "metadata": {},
   "source": [
    "### PyPI"
   ]
  },
  {
   "cell_type": "markdown",
   "id": "417f8f55-8000-4595-af03-ab88bcc62488",
   "metadata": {},
   "source": [
    "#### Latest release"
   ]
  },
  {
   "cell_type": "markdown",
   "id": "0ea582c6-04e1-4c0f-a4bd-6e551f08f20d",
   "metadata": {},
   "source": [
    "To install the latest release of mlforecast from [PyPI](https://pypi.org/project/mlforecast/) you just have to run the following in a terminal:\n",
    "\n",
    "`pip install mlforecast`"
   ]
  },
  {
   "cell_type": "markdown",
   "id": "342b7c8d-4bb3-43e0-8ee8-73bfd65e2b5f",
   "metadata": {},
   "source": [
    "#### Specific version"
   ]
  },
  {
   "cell_type": "markdown",
   "id": "a09a5c90-cce9-4c49-ac38-f8569f760a98",
   "metadata": {},
   "source": [
    "If you want a specific version you can include a filter, for example:\n",
    "\n",
    "* `pip install \"mlforecast==0.3.0\"` to install the 0.3.0 version\n",
    "* `pip install \"mlforecast<0.4.0\"` to install any version prior to 0.4.0"
   ]
  },
  {
   "cell_type": "markdown",
   "id": "3d3acf50-ace7-4c00-b935-36a801c79dc7",
   "metadata": {},
   "source": [
    "#### Distributed training"
   ]
  },
  {
   "cell_type": "markdown",
   "id": "8912889b-cd26-4b37-a43f-bc672cdec9f0",
   "metadata": {},
   "source": [
    "If you want to perform distributed training you have to include the [dask](https://www.dask.org/) extra:\n",
    "\n",
    "`pip install \"mlforecast[dask]\"`\n",
    "\n",
    "and also either [LightGBM](https://github.com/microsoft/LightGBM/tree/master/python-package) or [XGBoost](https://xgboost.readthedocs.io/en/latest/install.html#python)."
   ]
  },
  {
   "cell_type": "markdown",
   "id": "6772b367-7e1b-4612-8bcd-26039b2badf3",
   "metadata": {},
   "source": [
    "### Conda"
   ]
  },
  {
   "cell_type": "markdown",
   "id": "3df21509-dcd1-433e-8a3e-a9f5bce7dc51",
   "metadata": {},
   "source": [
    "#### Latest release"
   ]
  },
  {
   "cell_type": "markdown",
   "id": "13744f0d-6916-4358-be73-25209033eb74",
   "metadata": {},
   "source": [
    "The mlforecast package is also published to [conda-forge](https://anaconda.org/conda-forge/mlforecast), which you can install by running the following in a terminal:\n",
    "\n",
    "`conda install -c conda-forge mlforecast`\n",
    "\n",
    "Note that this happens about a day later after it is published to PyPI, so you may have to wait to get the latest release."
   ]
  },
  {
   "cell_type": "markdown",
   "id": "debb123c-a31e-4c9f-a39c-1c4db07a30a3",
   "metadata": {},
   "source": [
    "#### Specific version"
   ]
  },
  {
   "cell_type": "markdown",
   "id": "ed4c9f64-db1f-4f3e-b72d-5076ecf7be3d",
   "metadata": {},
   "source": [
    "If you want a specific version you can include a filter, for example:\n",
    "\n",
    "* `conda install -c conda-forge \"mlforecast==0.3.0\"` to install the 0.3.0 version\n",
    "* `conda install -c conda-forge \"mlforecast<0.4.0\"` to install any version prior to 0.4.0"
   ]
  },
  {
   "cell_type": "markdown",
   "id": "40307de9-f0ec-4f84-a324-8a36d66e7fdb",
   "metadata": {},
   "source": [
    "#### Distributed training"
   ]
  },
  {
   "cell_type": "markdown",
   "id": "83dab9f7-e614-42ef-95c0-a76ae20f74a7",
   "metadata": {},
   "source": [
    "If you want to perform distributed training you also have to install [dask](https://www.dask.org/):\n",
    "\n",
    "`conda install -c conda-forge dask`\n",
    "\n",
    "and also either [LightGBM](https://github.com/microsoft/LightGBM/tree/master/python-package) or [XGBoost](https://xgboost.readthedocs.io/en/latest/install.html#python)."
   ]
  },
  {
   "cell_type": "markdown",
   "id": "937ed413-2207-43f2-965e-62ebbaf0c8db",
   "metadata": {},
   "source": [
    "## Development version"
   ]
  },
  {
   "cell_type": "markdown",
   "id": "ec4a0e27-24c3-4f79-929c-c77f891eb27e",
   "metadata": {},
   "source": [
    "If you want to try out a new feature that hasn't made it into a release yet you have the following options:\n",
    "\n",
    "* Install from github: `pip install git+https://github.com/Nixtla/mlforecast`\n",
    "* Clone and install:\n",
    "    * `git clone https://github.com/Nixtla/mlforecast`\n",
    "    * `pip install mlforecast`\n",
    "\n",
    "which will install the version from the current main branch."
   ]
  }
 ],
 "metadata": {
  "kernelspec": {
   "display_name": "python3",
   "language": "python",
   "name": "python3"
  }
 },
 "nbformat": 4,
 "nbformat_minor": 5
}
