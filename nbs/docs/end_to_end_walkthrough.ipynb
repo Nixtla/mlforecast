{
 "cells": [
  {
   "cell_type": "code",
   "execution_count": null,
   "id": "2282ab0c-42b2-4dfb-9b22-51644ba133fa",
   "metadata": {},
   "outputs": [],
   "source": [
    "#| hide\n",
    "%load_ext autoreload\n",
    "%autoreload 2\n",
    "import os\n",
    "os.chdir('..')"
   ]
  },
  {
   "cell_type": "markdown",
   "id": "cba44ed4-b221-45c6-bd06-1c0f528d3f18",
   "metadata": {},
   "source": [
    "# End to end walkthrough\n",
    "\n",
    "> Detailed description of all the functionalities that MLForecast provides."
   ]
  },
  {
   "cell_type": "markdown",
   "id": "ae6ad17b-fa39-4f52-834e-1202a2bdfa75",
   "metadata": {},
   "source": [
    "## Data setup"
   ]
  },
  {
   "cell_type": "markdown",
   "id": "fa646032-5fb6-407b-bc40-fb9e0b58983a",
   "metadata": {},
   "source": [
    "For this example we'll use a subset of the M4 hourly dataset. You can find the a notebook with the full dataset [here](https://www.kaggle.com/code/lemuz90/m4-competition)."
   ]
  },
  {
   "cell_type": "code",
   "execution_count": null,
   "id": "7d9cfe4c-f393-4e7d-9201-47fa2dbebf76",
   "metadata": {},
   "outputs": [],
   "source": [
    "import random\n",
    "\n",
    "import pandas as pd\n",
    "from datasetsforecast.m4 import M4"
   ]
  },
  {
   "cell_type": "code",
   "execution_count": null,
   "id": "50c2eb89-af9b-4ab0-bc21-6e69928b2d74",
   "metadata": {},
   "outputs": [
    {
     "data": {
      "text/html": [
       "<div>\n",
       "<style scoped>\n",
       "    .dataframe tbody tr th:only-of-type {\n",
       "        vertical-align: middle;\n",
       "    }\n",
       "\n",
       "    .dataframe tbody tr th {\n",
       "        vertical-align: top;\n",
       "    }\n",
       "\n",
       "    .dataframe thead th {\n",
       "        text-align: right;\n",
       "    }\n",
       "</style>\n",
       "<table border=\"1\" class=\"dataframe\">\n",
       "  <thead>\n",
       "    <tr style=\"text-align: right;\">\n",
       "      <th></th>\n",
       "      <th>unique_id</th>\n",
       "      <th>ds</th>\n",
       "      <th>y</th>\n",
       "    </tr>\n",
       "  </thead>\n",
       "  <tbody>\n",
       "    <tr>\n",
       "      <th>0</th>\n",
       "      <td>H196</td>\n",
       "      <td>1</td>\n",
       "      <td>11.8</td>\n",
       "    </tr>\n",
       "    <tr>\n",
       "      <th>1</th>\n",
       "      <td>H196</td>\n",
       "      <td>2</td>\n",
       "      <td>11.4</td>\n",
       "    </tr>\n",
       "    <tr>\n",
       "      <th>2</th>\n",
       "      <td>H196</td>\n",
       "      <td>3</td>\n",
       "      <td>11.1</td>\n",
       "    </tr>\n",
       "    <tr>\n",
       "      <th>3</th>\n",
       "      <td>H196</td>\n",
       "      <td>4</td>\n",
       "      <td>10.8</td>\n",
       "    </tr>\n",
       "    <tr>\n",
       "      <th>4</th>\n",
       "      <td>H196</td>\n",
       "      <td>5</td>\n",
       "      <td>10.6</td>\n",
       "    </tr>\n",
       "    <tr>\n",
       "      <th>...</th>\n",
       "      <td>...</td>\n",
       "      <td>...</td>\n",
       "      <td>...</td>\n",
       "    </tr>\n",
       "    <tr>\n",
       "      <th>4027</th>\n",
       "      <td>H413</td>\n",
       "      <td>1004</td>\n",
       "      <td>99.0</td>\n",
       "    </tr>\n",
       "    <tr>\n",
       "      <th>4028</th>\n",
       "      <td>H413</td>\n",
       "      <td>1005</td>\n",
       "      <td>88.0</td>\n",
       "    </tr>\n",
       "    <tr>\n",
       "      <th>4029</th>\n",
       "      <td>H413</td>\n",
       "      <td>1006</td>\n",
       "      <td>47.0</td>\n",
       "    </tr>\n",
       "    <tr>\n",
       "      <th>4030</th>\n",
       "      <td>H413</td>\n",
       "      <td>1007</td>\n",
       "      <td>41.0</td>\n",
       "    </tr>\n",
       "    <tr>\n",
       "      <th>4031</th>\n",
       "      <td>H413</td>\n",
       "      <td>1008</td>\n",
       "      <td>34.0</td>\n",
       "    </tr>\n",
       "  </tbody>\n",
       "</table>\n",
       "<p>4032 rows × 3 columns</p>\n",
       "</div>"
      ],
      "text/plain": [
       "     unique_id    ds     y\n",
       "0         H196     1  11.8\n",
       "1         H196     2  11.4\n",
       "2         H196     3  11.1\n",
       "3         H196     4  10.8\n",
       "4         H196     5  10.6\n",
       "...        ...   ...   ...\n",
       "4027      H413  1004  99.0\n",
       "4028      H413  1005  88.0\n",
       "4029      H413  1006  47.0\n",
       "4030      H413  1007  41.0\n",
       "4031      H413  1008  34.0\n",
       "\n",
       "[4032 rows x 3 columns]"
      ]
     },
     "execution_count": null,
     "metadata": {},
     "output_type": "execute_result"
    }
   ],
   "source": [
    "await M4.async_download('data', group='Hourly')\n",
    "df, *_ = M4.load('data', 'Hourly')\n",
    "uids = df['unique_id'].unique()\n",
    "random.seed(0)\n",
    "sample_uids = random.choices(uids, k=4)\n",
    "df = df[df['unique_id'].isin(sample_uids)].reset_index(drop=True)\n",
    "df['ds'] = df['ds'].astype('int')\n",
    "df"
   ]
  },
  {
   "cell_type": "markdown",
   "id": "1583105f-f4c6-44a7-a2db-d2aa2d590c34",
   "metadata": {},
   "source": [
    "## EDA"
   ]
  },
  {
   "cell_type": "markdown",
   "id": "cccb157c-052d-4b55-84c3-a8e0bb0a2356",
   "metadata": {},
   "source": [
    "We'll take a look at our series to get ideas for transformations and features."
   ]
  },
  {
   "cell_type": "code",
   "execution_count": null,
   "id": "a8c2ab3a-3842-4034-aeee-bc3469205982",
   "metadata": {},
   "outputs": [],
   "source": [
    "import matplotlib.pyplot as plt\n",
    "\n",
    "def plot(df, fname, last_n=24 * 14):\n",
    "    fig, ax = plt.subplots(nrows=2, ncols=2, figsize=(14, 6), gridspec_kw=dict(hspace=0.5))\n",
    "    uids = df['unique_id'].unique()\n",
    "    for i, (uid, axi) in enumerate(zip(uids, ax.flat)):\n",
    "        legend = i % 2 == 0\n",
    "        df[df['unique_id'].eq(uid)].tail(last_n).set_index('ds').plot(ax=axi, title=uid, legend=legend)\n",
    "    fig.savefig(fname, bbox_inches='tight')\n",
    "    plt.close()"
   ]
  },
  {
   "cell_type": "code",
   "execution_count": null,
   "id": "6d5911ca-b324-4e8c-8c92-7e57208694e3",
   "metadata": {},
   "outputs": [],
   "source": [
    "plot(df, 'figs/end_to_end_walkthrough__eda.png')"
   ]
  },
  {
   "cell_type": "markdown",
   "id": "2284936b-ac30-4b4b-b7c4-afa2b4059dc2",
   "metadata": {},
   "source": [
    "![](../figs/end_to_end_walkthrough__eda.png)"
   ]
  },
  {
   "cell_type": "markdown",
   "id": "81fae3e1-deb4-4c46-8c4a-b789ab797bd3",
   "metadata": {},
   "source": [
    "We can use the `MLForecast.preprocess` method to explore different transformations. It looks like these series have a strong seasonality on the hour of the day, so we can subtract the value from the same hour in the previous day to remove it. This can be done with the `mlforecast.target_transforms.Differences` transformer, which we pass through `target_transforms`."
   ]
  },
  {
   "cell_type": "code",
   "execution_count": null,
   "id": "79dcb18b-4472-46f0-ae99-d839033ca048",
   "metadata": {},
   "outputs": [],
   "source": [
    "from mlforecast import MLForecast\n",
    "from mlforecast.target_transforms import Differences"
   ]
  },
  {
   "cell_type": "code",
   "execution_count": null,
   "id": "99de8cda",
   "metadata": {},
   "outputs": [
    {
     "data": {
      "text/html": [
       "<div>\n",
       "<style scoped>\n",
       "    .dataframe tbody tr th:only-of-type {\n",
       "        vertical-align: middle;\n",
       "    }\n",
       "\n",
       "    .dataframe tbody tr th {\n",
       "        vertical-align: top;\n",
       "    }\n",
       "\n",
       "    .dataframe thead th {\n",
       "        text-align: right;\n",
       "    }\n",
       "</style>\n",
       "<table border=\"1\" class=\"dataframe\">\n",
       "  <thead>\n",
       "    <tr style=\"text-align: right;\">\n",
       "      <th></th>\n",
       "      <th>unique_id</th>\n",
       "      <th>ds</th>\n",
       "      <th>y</th>\n",
       "    </tr>\n",
       "  </thead>\n",
       "  <tbody>\n",
       "    <tr>\n",
       "      <th>24</th>\n",
       "      <td>H196</td>\n",
       "      <td>25</td>\n",
       "      <td>0.3</td>\n",
       "    </tr>\n",
       "    <tr>\n",
       "      <th>25</th>\n",
       "      <td>H196</td>\n",
       "      <td>26</td>\n",
       "      <td>0.3</td>\n",
       "    </tr>\n",
       "    <tr>\n",
       "      <th>26</th>\n",
       "      <td>H196</td>\n",
       "      <td>27</td>\n",
       "      <td>0.1</td>\n",
       "    </tr>\n",
       "    <tr>\n",
       "      <th>27</th>\n",
       "      <td>H196</td>\n",
       "      <td>28</td>\n",
       "      <td>0.2</td>\n",
       "    </tr>\n",
       "    <tr>\n",
       "      <th>28</th>\n",
       "      <td>H196</td>\n",
       "      <td>29</td>\n",
       "      <td>0.2</td>\n",
       "    </tr>\n",
       "    <tr>\n",
       "      <th>...</th>\n",
       "      <td>...</td>\n",
       "      <td>...</td>\n",
       "      <td>...</td>\n",
       "    </tr>\n",
       "    <tr>\n",
       "      <th>4027</th>\n",
       "      <td>H413</td>\n",
       "      <td>1004</td>\n",
       "      <td>39.0</td>\n",
       "    </tr>\n",
       "    <tr>\n",
       "      <th>4028</th>\n",
       "      <td>H413</td>\n",
       "      <td>1005</td>\n",
       "      <td>55.0</td>\n",
       "    </tr>\n",
       "    <tr>\n",
       "      <th>4029</th>\n",
       "      <td>H413</td>\n",
       "      <td>1006</td>\n",
       "      <td>14.0</td>\n",
       "    </tr>\n",
       "    <tr>\n",
       "      <th>4030</th>\n",
       "      <td>H413</td>\n",
       "      <td>1007</td>\n",
       "      <td>3.0</td>\n",
       "    </tr>\n",
       "    <tr>\n",
       "      <th>4031</th>\n",
       "      <td>H413</td>\n",
       "      <td>1008</td>\n",
       "      <td>4.0</td>\n",
       "    </tr>\n",
       "  </tbody>\n",
       "</table>\n",
       "<p>3936 rows × 3 columns</p>\n",
       "</div>"
      ],
      "text/plain": [
       "     unique_id    ds     y\n",
       "24        H196    25   0.3\n",
       "25        H196    26   0.3\n",
       "26        H196    27   0.1\n",
       "27        H196    28   0.2\n",
       "28        H196    29   0.2\n",
       "...        ...   ...   ...\n",
       "4027      H413  1004  39.0\n",
       "4028      H413  1005  55.0\n",
       "4029      H413  1006  14.0\n",
       "4030      H413  1007   3.0\n",
       "4031      H413  1008   4.0\n",
       "\n",
       "[3936 rows x 3 columns]"
      ]
     },
     "execution_count": null,
     "metadata": {},
     "output_type": "execute_result"
    }
   ],
   "source": [
    "fcst = MLForecast(\n",
    "    models=[],  # we're not interested in modeling yet\n",
    "    freq=1,  # our series have integer timestamps, so we'll just add 1 in every timestep\n",
    "    target_transforms=[Differences([24])],\n",
    ")\n",
    "prep = fcst.preprocess(df)\n",
    "prep"
   ]
  },
  {
   "cell_type": "markdown",
   "id": "3701d934-6be6-4bd4-a3c3-d2be39af641c",
   "metadata": {},
   "source": [
    "This has subtacted the lag 24 from each value, we can see what our series look like now."
   ]
  },
  {
   "cell_type": "code",
   "execution_count": null,
   "id": "cbaad91f-7f67-4a25-a061-96c0f627d432",
   "metadata": {},
   "outputs": [],
   "source": [
    "plot(prep, 'figs/end_to_end_walkthrough__differences.png')"
   ]
  },
  {
   "cell_type": "markdown",
   "id": "8ab507ad-f2a8-4dde-87ad-5b102c91da0b",
   "metadata": {},
   "source": [
    "![](../figs/end_to_end_walkthrough__differences.png)"
   ]
  },
  {
   "cell_type": "markdown",
   "id": "b2beafc8-b541-4a0d-9ca4-3c3ff88e22dd",
   "metadata": {},
   "source": [
    "## Adding features"
   ]
  },
  {
   "cell_type": "markdown",
   "id": "56cf0da7-d503-49df-bac8-2d37da36daaa",
   "metadata": {},
   "source": [
    "### Lags"
   ]
  },
  {
   "cell_type": "markdown",
   "id": "549ab7a5-4cbb-4b4c-a922-98aa521d83da",
   "metadata": {},
   "source": [
    "Looks like the seasonality is gone, we can now try adding some lag features."
   ]
  },
  {
   "cell_type": "code",
   "execution_count": null,
   "id": "61ecd5cf-bba6-422b-9e0d-1b01f13580c1",
   "metadata": {},
   "outputs": [
    {
     "data": {
      "text/html": [
       "<div>\n",
       "<style scoped>\n",
       "    .dataframe tbody tr th:only-of-type {\n",
       "        vertical-align: middle;\n",
       "    }\n",
       "\n",
       "    .dataframe tbody tr th {\n",
       "        vertical-align: top;\n",
       "    }\n",
       "\n",
       "    .dataframe thead th {\n",
       "        text-align: right;\n",
       "    }\n",
       "</style>\n",
       "<table border=\"1\" class=\"dataframe\">\n",
       "  <thead>\n",
       "    <tr style=\"text-align: right;\">\n",
       "      <th></th>\n",
       "      <th>unique_id</th>\n",
       "      <th>ds</th>\n",
       "      <th>y</th>\n",
       "      <th>lag1</th>\n",
       "      <th>lag24</th>\n",
       "    </tr>\n",
       "  </thead>\n",
       "  <tbody>\n",
       "    <tr>\n",
       "      <th>48</th>\n",
       "      <td>H196</td>\n",
       "      <td>49</td>\n",
       "      <td>0.1</td>\n",
       "      <td>0.1</td>\n",
       "      <td>0.3</td>\n",
       "    </tr>\n",
       "    <tr>\n",
       "      <th>49</th>\n",
       "      <td>H196</td>\n",
       "      <td>50</td>\n",
       "      <td>0.1</td>\n",
       "      <td>0.1</td>\n",
       "      <td>0.3</td>\n",
       "    </tr>\n",
       "    <tr>\n",
       "      <th>50</th>\n",
       "      <td>H196</td>\n",
       "      <td>51</td>\n",
       "      <td>0.2</td>\n",
       "      <td>0.1</td>\n",
       "      <td>0.1</td>\n",
       "    </tr>\n",
       "    <tr>\n",
       "      <th>51</th>\n",
       "      <td>H196</td>\n",
       "      <td>52</td>\n",
       "      <td>0.1</td>\n",
       "      <td>0.2</td>\n",
       "      <td>0.2</td>\n",
       "    </tr>\n",
       "    <tr>\n",
       "      <th>52</th>\n",
       "      <td>H196</td>\n",
       "      <td>53</td>\n",
       "      <td>0.1</td>\n",
       "      <td>0.1</td>\n",
       "      <td>0.2</td>\n",
       "    </tr>\n",
       "    <tr>\n",
       "      <th>...</th>\n",
       "      <td>...</td>\n",
       "      <td>...</td>\n",
       "      <td>...</td>\n",
       "      <td>...</td>\n",
       "      <td>...</td>\n",
       "    </tr>\n",
       "    <tr>\n",
       "      <th>4027</th>\n",
       "      <td>H413</td>\n",
       "      <td>1004</td>\n",
       "      <td>39.0</td>\n",
       "      <td>29.0</td>\n",
       "      <td>1.0</td>\n",
       "    </tr>\n",
       "    <tr>\n",
       "      <th>4028</th>\n",
       "      <td>H413</td>\n",
       "      <td>1005</td>\n",
       "      <td>55.0</td>\n",
       "      <td>39.0</td>\n",
       "      <td>-25.0</td>\n",
       "    </tr>\n",
       "    <tr>\n",
       "      <th>4029</th>\n",
       "      <td>H413</td>\n",
       "      <td>1006</td>\n",
       "      <td>14.0</td>\n",
       "      <td>55.0</td>\n",
       "      <td>-20.0</td>\n",
       "    </tr>\n",
       "    <tr>\n",
       "      <th>4030</th>\n",
       "      <td>H413</td>\n",
       "      <td>1007</td>\n",
       "      <td>3.0</td>\n",
       "      <td>14.0</td>\n",
       "      <td>0.0</td>\n",
       "    </tr>\n",
       "    <tr>\n",
       "      <th>4031</th>\n",
       "      <td>H413</td>\n",
       "      <td>1008</td>\n",
       "      <td>4.0</td>\n",
       "      <td>3.0</td>\n",
       "      <td>-16.0</td>\n",
       "    </tr>\n",
       "  </tbody>\n",
       "</table>\n",
       "<p>3840 rows × 5 columns</p>\n",
       "</div>"
      ],
      "text/plain": [
       "     unique_id    ds     y  lag1  lag24\n",
       "48        H196    49   0.1   0.1    0.3\n",
       "49        H196    50   0.1   0.1    0.3\n",
       "50        H196    51   0.2   0.1    0.1\n",
       "51        H196    52   0.1   0.2    0.2\n",
       "52        H196    53   0.1   0.1    0.2\n",
       "...        ...   ...   ...   ...    ...\n",
       "4027      H413  1004  39.0  29.0    1.0\n",
       "4028      H413  1005  55.0  39.0  -25.0\n",
       "4029      H413  1006  14.0  55.0  -20.0\n",
       "4030      H413  1007   3.0  14.0    0.0\n",
       "4031      H413  1008   4.0   3.0  -16.0\n",
       "\n",
       "[3840 rows x 5 columns]"
      ]
     },
     "execution_count": null,
     "metadata": {},
     "output_type": "execute_result"
    }
   ],
   "source": [
    "fcst = MLForecast(\n",
    "    models=[],\n",
    "    freq=1,\n",
    "    lags=[1, 24],\n",
    "    target_transforms=[Differences([24])],    \n",
    ")\n",
    "prep = fcst.preprocess(df)\n",
    "prep"
   ]
  },
  {
   "cell_type": "code",
   "execution_count": null,
   "id": "d555c355-1a93-4962-aa02-fc4c59e787f8",
   "metadata": {},
   "outputs": [
    {
     "data": {
      "text/plain": [
       "y        1.000000\n",
       "lag1     0.622531\n",
       "lag24   -0.234268\n",
       "Name: y, dtype: float64"
      ]
     },
     "execution_count": null,
     "metadata": {},
     "output_type": "execute_result"
    }
   ],
   "source": [
    "prep.drop(columns=['unique_id', 'ds']).corr()['y']"
   ]
  },
  {
   "cell_type": "markdown",
   "id": "1f808c34-c78e-43f3-8c33-898088873e44",
   "metadata": {},
   "source": [
    "### Lag transforms"
   ]
  },
  {
   "cell_type": "markdown",
   "id": "d6f6c0f2-2441-4360-8d63-fbd2cd7fc015",
   "metadata": {},
   "source": [
    "Lag transforms are defined as a dictionary where the keys are the lags and the values are lists of functions that transform an array. These must be [numba](http://numba.pydata.org/) jitted functions (so that computing the features doesn't become a bottleneck). There are some implemented in the [window-ops package](https://github.com/jmoralez/window_ops) but you can also implement your own.\n",
    "\n",
    "If the function takes two or more arguments you can either:\n",
    "\n",
    "* supply a tuple (tfm_func, arg1, arg2, ...)\n",
    "* define a new function fixing the arguments"
   ]
  },
  {
   "cell_type": "code",
   "execution_count": null,
   "id": "24682833-18e1-4ebd-8fb4-de7a8e3001b1",
   "metadata": {},
   "outputs": [],
   "source": [
    "from numba import njit\n",
    "from window_ops.expanding import expanding_mean\n",
    "from window_ops.rolling import rolling_mean"
   ]
  },
  {
   "cell_type": "code",
   "execution_count": null,
   "id": "b61f720a",
   "metadata": {},
   "outputs": [
    {
     "data": {
      "text/html": [
       "<div>\n",
       "<style scoped>\n",
       "    .dataframe tbody tr th:only-of-type {\n",
       "        vertical-align: middle;\n",
       "    }\n",
       "\n",
       "    .dataframe tbody tr th {\n",
       "        vertical-align: top;\n",
       "    }\n",
       "\n",
       "    .dataframe thead th {\n",
       "        text-align: right;\n",
       "    }\n",
       "</style>\n",
       "<table border=\"1\" class=\"dataframe\">\n",
       "  <thead>\n",
       "    <tr style=\"text-align: right;\">\n",
       "      <th></th>\n",
       "      <th>unique_id</th>\n",
       "      <th>ds</th>\n",
       "      <th>y</th>\n",
       "      <th>expanding_mean_lag1</th>\n",
       "      <th>rolling_mean_lag24_window_size48</th>\n",
       "      <th>rolling_mean_48_lag24</th>\n",
       "    </tr>\n",
       "  </thead>\n",
       "  <tbody>\n",
       "    <tr>\n",
       "      <th>95</th>\n",
       "      <td>H196</td>\n",
       "      <td>96</td>\n",
       "      <td>0.1</td>\n",
       "      <td>0.174648</td>\n",
       "      <td>0.150000</td>\n",
       "      <td>0.150000</td>\n",
       "    </tr>\n",
       "    <tr>\n",
       "      <th>96</th>\n",
       "      <td>H196</td>\n",
       "      <td>97</td>\n",
       "      <td>0.3</td>\n",
       "      <td>0.173611</td>\n",
       "      <td>0.145833</td>\n",
       "      <td>0.145833</td>\n",
       "    </tr>\n",
       "    <tr>\n",
       "      <th>97</th>\n",
       "      <td>H196</td>\n",
       "      <td>98</td>\n",
       "      <td>0.3</td>\n",
       "      <td>0.175342</td>\n",
       "      <td>0.141667</td>\n",
       "      <td>0.141667</td>\n",
       "    </tr>\n",
       "    <tr>\n",
       "      <th>98</th>\n",
       "      <td>H196</td>\n",
       "      <td>99</td>\n",
       "      <td>0.3</td>\n",
       "      <td>0.177027</td>\n",
       "      <td>0.141667</td>\n",
       "      <td>0.141667</td>\n",
       "    </tr>\n",
       "    <tr>\n",
       "      <th>99</th>\n",
       "      <td>H196</td>\n",
       "      <td>100</td>\n",
       "      <td>0.3</td>\n",
       "      <td>0.178667</td>\n",
       "      <td>0.141667</td>\n",
       "      <td>0.141667</td>\n",
       "    </tr>\n",
       "    <tr>\n",
       "      <th>...</th>\n",
       "      <td>...</td>\n",
       "      <td>...</td>\n",
       "      <td>...</td>\n",
       "      <td>...</td>\n",
       "      <td>...</td>\n",
       "      <td>...</td>\n",
       "    </tr>\n",
       "    <tr>\n",
       "      <th>4027</th>\n",
       "      <td>H413</td>\n",
       "      <td>1004</td>\n",
       "      <td>39.0</td>\n",
       "      <td>0.242084</td>\n",
       "      <td>3.437500</td>\n",
       "      <td>3.437500</td>\n",
       "    </tr>\n",
       "    <tr>\n",
       "      <th>4028</th>\n",
       "      <td>H413</td>\n",
       "      <td>1005</td>\n",
       "      <td>55.0</td>\n",
       "      <td>0.281633</td>\n",
       "      <td>2.708333</td>\n",
       "      <td>2.708333</td>\n",
       "    </tr>\n",
       "    <tr>\n",
       "      <th>4029</th>\n",
       "      <td>H413</td>\n",
       "      <td>1006</td>\n",
       "      <td>14.0</td>\n",
       "      <td>0.337411</td>\n",
       "      <td>2.125000</td>\n",
       "      <td>2.125000</td>\n",
       "    </tr>\n",
       "    <tr>\n",
       "      <th>4030</th>\n",
       "      <td>H413</td>\n",
       "      <td>1007</td>\n",
       "      <td>3.0</td>\n",
       "      <td>0.351324</td>\n",
       "      <td>1.770833</td>\n",
       "      <td>1.770833</td>\n",
       "    </tr>\n",
       "    <tr>\n",
       "      <th>4031</th>\n",
       "      <td>H413</td>\n",
       "      <td>1008</td>\n",
       "      <td>4.0</td>\n",
       "      <td>0.354018</td>\n",
       "      <td>1.208333</td>\n",
       "      <td>1.208333</td>\n",
       "    </tr>\n",
       "  </tbody>\n",
       "</table>\n",
       "<p>3652 rows × 6 columns</p>\n",
       "</div>"
      ],
      "text/plain": [
       "     unique_id    ds     y  expanding_mean_lag1  \\\n",
       "95        H196    96   0.1             0.174648   \n",
       "96        H196    97   0.3             0.173611   \n",
       "97        H196    98   0.3             0.175342   \n",
       "98        H196    99   0.3             0.177027   \n",
       "99        H196   100   0.3             0.178667   \n",
       "...        ...   ...   ...                  ...   \n",
       "4027      H413  1004  39.0             0.242084   \n",
       "4028      H413  1005  55.0             0.281633   \n",
       "4029      H413  1006  14.0             0.337411   \n",
       "4030      H413  1007   3.0             0.351324   \n",
       "4031      H413  1008   4.0             0.354018   \n",
       "\n",
       "      rolling_mean_lag24_window_size48  rolling_mean_48_lag24  \n",
       "95                            0.150000               0.150000  \n",
       "96                            0.145833               0.145833  \n",
       "97                            0.141667               0.141667  \n",
       "98                            0.141667               0.141667  \n",
       "99                            0.141667               0.141667  \n",
       "...                                ...                    ...  \n",
       "4027                          3.437500               3.437500  \n",
       "4028                          2.708333               2.708333  \n",
       "4029                          2.125000               2.125000  \n",
       "4030                          1.770833               1.770833  \n",
       "4031                          1.208333               1.208333  \n",
       "\n",
       "[3652 rows x 6 columns]"
      ]
     },
     "execution_count": null,
     "metadata": {},
     "output_type": "execute_result"
    }
   ],
   "source": [
    "@njit\n",
    "def rolling_mean_48(x):\n",
    "    return rolling_mean(x, window_size=48)\n",
    "\n",
    "\n",
    "fcst = MLForecast(\n",
    "    models=[],\n",
    "    freq=1,\n",
    "    target_transforms=[Differences([24])],    \n",
    "    lag_transforms={\n",
    "        1: [expanding_mean],\n",
    "        24: [(rolling_mean, 48), rolling_mean_48],\n",
    "    },\n",
    ")\n",
    "prep = fcst.preprocess(df)\n",
    "prep"
   ]
  },
  {
   "cell_type": "markdown",
   "id": "29519ac1-df32-4951-a429-93e7facc0357",
   "metadata": {},
   "source": [
    "You can see that both approaches get to the same result, you can use whichever one you feel most comfortable with."
   ]
  },
  {
   "cell_type": "markdown",
   "id": "00dd0c7e-d766-43fc-81f8-f0188319fdb6",
   "metadata": {},
   "source": [
    "### Date features"
   ]
  },
  {
   "cell_type": "markdown",
   "id": "b1931fc9-f489-4fd3-a16b-d72fcedcad10",
   "metadata": {},
   "source": [
    "If your time column is made of timestamps then it might make sense to extract features like week, dayofweek, quarter, etc. You can do that by passing a list of strings with [pandas time/date components](https://pandas.pydata.org/docs/user_guide/timeseries.html#time-date-components). You can also pass functions that will take the time column as input, as we'll show here."
   ]
  },
  {
   "cell_type": "code",
   "execution_count": null,
   "id": "29dd1fb6-7f6c-443c-8328-89873545c18e",
   "metadata": {},
   "outputs": [
    {
     "data": {
      "text/html": [
       "<div>\n",
       "<style scoped>\n",
       "    .dataframe tbody tr th:only-of-type {\n",
       "        vertical-align: middle;\n",
       "    }\n",
       "\n",
       "    .dataframe tbody tr th {\n",
       "        vertical-align: top;\n",
       "    }\n",
       "\n",
       "    .dataframe thead th {\n",
       "        text-align: right;\n",
       "    }\n",
       "</style>\n",
       "<table border=\"1\" class=\"dataframe\">\n",
       "  <thead>\n",
       "    <tr style=\"text-align: right;\">\n",
       "      <th></th>\n",
       "      <th>unique_id</th>\n",
       "      <th>ds</th>\n",
       "      <th>y</th>\n",
       "      <th>hour_index</th>\n",
       "    </tr>\n",
       "  </thead>\n",
       "  <tbody>\n",
       "    <tr>\n",
       "      <th>24</th>\n",
       "      <td>H196</td>\n",
       "      <td>25</td>\n",
       "      <td>0.3</td>\n",
       "      <td>1</td>\n",
       "    </tr>\n",
       "    <tr>\n",
       "      <th>25</th>\n",
       "      <td>H196</td>\n",
       "      <td>26</td>\n",
       "      <td>0.3</td>\n",
       "      <td>2</td>\n",
       "    </tr>\n",
       "    <tr>\n",
       "      <th>26</th>\n",
       "      <td>H196</td>\n",
       "      <td>27</td>\n",
       "      <td>0.1</td>\n",
       "      <td>3</td>\n",
       "    </tr>\n",
       "    <tr>\n",
       "      <th>27</th>\n",
       "      <td>H196</td>\n",
       "      <td>28</td>\n",
       "      <td>0.2</td>\n",
       "      <td>4</td>\n",
       "    </tr>\n",
       "    <tr>\n",
       "      <th>28</th>\n",
       "      <td>H196</td>\n",
       "      <td>29</td>\n",
       "      <td>0.2</td>\n",
       "      <td>5</td>\n",
       "    </tr>\n",
       "    <tr>\n",
       "      <th>...</th>\n",
       "      <td>...</td>\n",
       "      <td>...</td>\n",
       "      <td>...</td>\n",
       "      <td>...</td>\n",
       "    </tr>\n",
       "    <tr>\n",
       "      <th>4027</th>\n",
       "      <td>H413</td>\n",
       "      <td>1004</td>\n",
       "      <td>39.0</td>\n",
       "      <td>20</td>\n",
       "    </tr>\n",
       "    <tr>\n",
       "      <th>4028</th>\n",
       "      <td>H413</td>\n",
       "      <td>1005</td>\n",
       "      <td>55.0</td>\n",
       "      <td>21</td>\n",
       "    </tr>\n",
       "    <tr>\n",
       "      <th>4029</th>\n",
       "      <td>H413</td>\n",
       "      <td>1006</td>\n",
       "      <td>14.0</td>\n",
       "      <td>22</td>\n",
       "    </tr>\n",
       "    <tr>\n",
       "      <th>4030</th>\n",
       "      <td>H413</td>\n",
       "      <td>1007</td>\n",
       "      <td>3.0</td>\n",
       "      <td>23</td>\n",
       "    </tr>\n",
       "    <tr>\n",
       "      <th>4031</th>\n",
       "      <td>H413</td>\n",
       "      <td>1008</td>\n",
       "      <td>4.0</td>\n",
       "      <td>0</td>\n",
       "    </tr>\n",
       "  </tbody>\n",
       "</table>\n",
       "<p>3936 rows × 4 columns</p>\n",
       "</div>"
      ],
      "text/plain": [
       "     unique_id    ds     y  hour_index\n",
       "24        H196    25   0.3           1\n",
       "25        H196    26   0.3           2\n",
       "26        H196    27   0.1           3\n",
       "27        H196    28   0.2           4\n",
       "28        H196    29   0.2           5\n",
       "...        ...   ...   ...         ...\n",
       "4027      H413  1004  39.0          20\n",
       "4028      H413  1005  55.0          21\n",
       "4029      H413  1006  14.0          22\n",
       "4030      H413  1007   3.0          23\n",
       "4031      H413  1008   4.0           0\n",
       "\n",
       "[3936 rows x 4 columns]"
      ]
     },
     "execution_count": null,
     "metadata": {},
     "output_type": "execute_result"
    }
   ],
   "source": [
    "def hour_index(times):\n",
    "    return times % 24\n",
    "\n",
    "fcst = MLForecast(\n",
    "    models=[],\n",
    "    freq=1,\n",
    "    target_transforms=[Differences([24])],\n",
    "    date_features=[hour_index],\n",
    ")\n",
    "fcst.preprocess(df)"
   ]
  },
  {
   "cell_type": "markdown",
   "id": "692206c6-2f7b-47c2-9600-d57d12e0d39d",
   "metadata": {},
   "source": [
    "### Target transformations"
   ]
  },
  {
   "cell_type": "markdown",
   "id": "7f29f543-ea21-48ca-bb3c-253ceb1be968",
   "metadata": {},
   "source": [
    "If you want to do some transformation to your target before computing the features and then re-apply it after predicting you can use the `target_transforms` argument, which takes a list of transformations like the following:"
   ]
  },
  {
   "cell_type": "code",
   "execution_count": null,
   "id": "505d5bd0-73b5-4fb7-8d3b-079430f7713a",
   "metadata": {},
   "outputs": [],
   "source": [
    "from mlforecast.target_transforms import BaseTargetTransform\n",
    "\n",
    "class StandardScaler(BaseTargetTransform):\n",
    "    \"\"\"Standardizes the series by subtracting their mean and dividing by their standard deviation.\"\"\"\n",
    "    def fit_transform(self, df: pd.DataFrame) -> pd.DataFrame:\n",
    "        self.norm_ = df.groupby(self.id_col)[self.target_col].agg(['mean', 'std'])\n",
    "        df = df.merge(self.norm_, on=self.id_col)\n",
    "        df[self.target_col] = (df[self.target_col] - df['mean']) / df['std']\n",
    "        df = df.drop(columns=['mean', 'std'])\n",
    "        return df\n",
    "\n",
    "    def inverse_transform(self, df: pd.DataFrame) -> pd.DataFrame:\n",
    "        df = df.merge(self.norm_, on=self.id_col)\n",
    "        for col in df.columns.drop([self.id_col, self.time_col, 'mean', 'std']):\n",
    "            df[col] = df[col] * df['std'] + df['mean']\n",
    "        df = df.drop(columns=['std', 'mean'])\n",
    "        return df"
   ]
  },
  {
   "cell_type": "code",
   "execution_count": null,
   "id": "82a0f800-0417-4d72-a051-0bfc975afe38",
   "metadata": {},
   "outputs": [
    {
     "data": {
      "text/html": [
       "<div>\n",
       "<style scoped>\n",
       "    .dataframe tbody tr th:only-of-type {\n",
       "        vertical-align: middle;\n",
       "    }\n",
       "\n",
       "    .dataframe tbody tr th {\n",
       "        vertical-align: top;\n",
       "    }\n",
       "\n",
       "    .dataframe thead th {\n",
       "        text-align: right;\n",
       "    }\n",
       "</style>\n",
       "<table border=\"1\" class=\"dataframe\">\n",
       "  <thead>\n",
       "    <tr style=\"text-align: right;\">\n",
       "      <th></th>\n",
       "      <th>unique_id</th>\n",
       "      <th>ds</th>\n",
       "      <th>y</th>\n",
       "      <th>lag1</th>\n",
       "    </tr>\n",
       "  </thead>\n",
       "  <tbody>\n",
       "    <tr>\n",
       "      <th>1</th>\n",
       "      <td>H196</td>\n",
       "      <td>2</td>\n",
       "      <td>-1.492285</td>\n",
       "      <td>-1.382600</td>\n",
       "    </tr>\n",
       "    <tr>\n",
       "      <th>2</th>\n",
       "      <td>H196</td>\n",
       "      <td>3</td>\n",
       "      <td>-1.574549</td>\n",
       "      <td>-1.492285</td>\n",
       "    </tr>\n",
       "    <tr>\n",
       "      <th>3</th>\n",
       "      <td>H196</td>\n",
       "      <td>4</td>\n",
       "      <td>-1.656813</td>\n",
       "      <td>-1.574549</td>\n",
       "    </tr>\n",
       "    <tr>\n",
       "      <th>4</th>\n",
       "      <td>H196</td>\n",
       "      <td>5</td>\n",
       "      <td>-1.711656</td>\n",
       "      <td>-1.656813</td>\n",
       "    </tr>\n",
       "    <tr>\n",
       "      <th>5</th>\n",
       "      <td>H196</td>\n",
       "      <td>6</td>\n",
       "      <td>-1.793919</td>\n",
       "      <td>-1.711656</td>\n",
       "    </tr>\n",
       "    <tr>\n",
       "      <th>...</th>\n",
       "      <td>...</td>\n",
       "      <td>...</td>\n",
       "      <td>...</td>\n",
       "      <td>...</td>\n",
       "    </tr>\n",
       "    <tr>\n",
       "      <th>4027</th>\n",
       "      <td>H413</td>\n",
       "      <td>1004</td>\n",
       "      <td>3.061246</td>\n",
       "      <td>2.423809</td>\n",
       "    </tr>\n",
       "    <tr>\n",
       "      <th>4028</th>\n",
       "      <td>H413</td>\n",
       "      <td>1005</td>\n",
       "      <td>2.521876</td>\n",
       "      <td>3.061246</td>\n",
       "    </tr>\n",
       "    <tr>\n",
       "      <th>4029</th>\n",
       "      <td>H413</td>\n",
       "      <td>1006</td>\n",
       "      <td>0.511497</td>\n",
       "      <td>2.521876</td>\n",
       "    </tr>\n",
       "    <tr>\n",
       "      <th>4030</th>\n",
       "      <td>H413</td>\n",
       "      <td>1007</td>\n",
       "      <td>0.217295</td>\n",
       "      <td>0.511497</td>\n",
       "    </tr>\n",
       "    <tr>\n",
       "      <th>4031</th>\n",
       "      <td>H413</td>\n",
       "      <td>1008</td>\n",
       "      <td>-0.125941</td>\n",
       "      <td>0.217295</td>\n",
       "    </tr>\n",
       "  </tbody>\n",
       "</table>\n",
       "<p>4028 rows × 4 columns</p>\n",
       "</div>"
      ],
      "text/plain": [
       "     unique_id    ds         y      lag1\n",
       "1         H196     2 -1.492285 -1.382600\n",
       "2         H196     3 -1.574549 -1.492285\n",
       "3         H196     4 -1.656813 -1.574549\n",
       "4         H196     5 -1.711656 -1.656813\n",
       "5         H196     6 -1.793919 -1.711656\n",
       "...        ...   ...       ...       ...\n",
       "4027      H413  1004  3.061246  2.423809\n",
       "4028      H413  1005  2.521876  3.061246\n",
       "4029      H413  1006  0.511497  2.521876\n",
       "4030      H413  1007  0.217295  0.511497\n",
       "4031      H413  1008 -0.125941  0.217295\n",
       "\n",
       "[4028 rows x 4 columns]"
      ]
     },
     "execution_count": null,
     "metadata": {},
     "output_type": "execute_result"
    }
   ],
   "source": [
    "fcst = MLForecast(\n",
    "    models=[],\n",
    "    freq=1,\n",
    "    lags=[1],\n",
    "    target_transforms=[StandardScaler()]\n",
    ")\n",
    "fcst.preprocess(df)"
   ]
  },
  {
   "cell_type": "markdown",
   "id": "e6d14614-68c6-4bbf-9f99-6a737733fc57",
   "metadata": {},
   "source": [
    "We can define a naive model to test this"
   ]
  },
  {
   "cell_type": "code",
   "execution_count": null,
   "id": "9f2a67ec-d5d4-425c-b80d-49f4cf79af6d",
   "metadata": {},
   "outputs": [],
   "source": [
    "from sklearn.base import BaseEstimator\n",
    "\n",
    "class Naive(BaseEstimator):\n",
    "    def fit(self, X, y):\n",
    "        return self\n",
    "\n",
    "    def predict(self, X):\n",
    "        return X['lag1']"
   ]
  },
  {
   "cell_type": "code",
   "execution_count": null,
   "id": "95147fff-7c7c-4ed7-9316-e45c7ec9c106",
   "metadata": {},
   "outputs": [
    {
     "data": {
      "text/html": [
       "<div>\n",
       "<style scoped>\n",
       "    .dataframe tbody tr th:only-of-type {\n",
       "        vertical-align: middle;\n",
       "    }\n",
       "\n",
       "    .dataframe tbody tr th {\n",
       "        vertical-align: top;\n",
       "    }\n",
       "\n",
       "    .dataframe thead th {\n",
       "        text-align: right;\n",
       "    }\n",
       "</style>\n",
       "<table border=\"1\" class=\"dataframe\">\n",
       "  <thead>\n",
       "    <tr style=\"text-align: right;\">\n",
       "      <th></th>\n",
       "      <th>unique_id</th>\n",
       "      <th>ds</th>\n",
       "      <th>Naive</th>\n",
       "    </tr>\n",
       "  </thead>\n",
       "  <tbody>\n",
       "    <tr>\n",
       "      <th>0</th>\n",
       "      <td>H196</td>\n",
       "      <td>1009</td>\n",
       "      <td>16.8</td>\n",
       "    </tr>\n",
       "    <tr>\n",
       "      <th>1</th>\n",
       "      <td>H256</td>\n",
       "      <td>1009</td>\n",
       "      <td>13.4</td>\n",
       "    </tr>\n",
       "    <tr>\n",
       "      <th>2</th>\n",
       "      <td>H381</td>\n",
       "      <td>1009</td>\n",
       "      <td>207.0</td>\n",
       "    </tr>\n",
       "    <tr>\n",
       "      <th>3</th>\n",
       "      <td>H413</td>\n",
       "      <td>1009</td>\n",
       "      <td>34.0</td>\n",
       "    </tr>\n",
       "  </tbody>\n",
       "</table>\n",
       "</div>"
      ],
      "text/plain": [
       "  unique_id    ds  Naive\n",
       "0      H196  1009   16.8\n",
       "1      H256  1009   13.4\n",
       "2      H381  1009  207.0\n",
       "3      H413  1009   34.0"
      ]
     },
     "execution_count": null,
     "metadata": {},
     "output_type": "execute_result"
    }
   ],
   "source": [
    "fcst = MLForecast(\n",
    "    models=[Naive()],\n",
    "    freq=1,\n",
    "    lags=[1],\n",
    "    target_transforms=[StandardScaler()]\n",
    ")\n",
    "fcst.fit(df)\n",
    "preds = fcst.predict(1)\n",
    "preds"
   ]
  },
  {
   "cell_type": "markdown",
   "id": "6fa9ade7-263a-43c2-9787-1fc5373a2bfc",
   "metadata": {},
   "source": [
    "We compare this with the last values of our serie"
   ]
  },
  {
   "cell_type": "code",
   "execution_count": null,
   "id": "4c4f0a96-a4b8-48c1-a79c-607ddf38cfb0",
   "metadata": {},
   "outputs": [
    {
     "data": {
      "text/html": [
       "<div>\n",
       "<style scoped>\n",
       "    .dataframe tbody tr th:only-of-type {\n",
       "        vertical-align: middle;\n",
       "    }\n",
       "\n",
       "    .dataframe tbody tr th {\n",
       "        vertical-align: top;\n",
       "    }\n",
       "\n",
       "    .dataframe thead th {\n",
       "        text-align: right;\n",
       "    }\n",
       "</style>\n",
       "<table border=\"1\" class=\"dataframe\">\n",
       "  <thead>\n",
       "    <tr style=\"text-align: right;\">\n",
       "      <th></th>\n",
       "      <th>unique_id</th>\n",
       "      <th>ds</th>\n",
       "      <th>y</th>\n",
       "    </tr>\n",
       "  </thead>\n",
       "  <tbody>\n",
       "    <tr>\n",
       "      <th>1007</th>\n",
       "      <td>H196</td>\n",
       "      <td>1008</td>\n",
       "      <td>16.8</td>\n",
       "    </tr>\n",
       "    <tr>\n",
       "      <th>2015</th>\n",
       "      <td>H256</td>\n",
       "      <td>1008</td>\n",
       "      <td>13.4</td>\n",
       "    </tr>\n",
       "    <tr>\n",
       "      <th>3023</th>\n",
       "      <td>H381</td>\n",
       "      <td>1008</td>\n",
       "      <td>207.0</td>\n",
       "    </tr>\n",
       "    <tr>\n",
       "      <th>4031</th>\n",
       "      <td>H413</td>\n",
       "      <td>1008</td>\n",
       "      <td>34.0</td>\n",
       "    </tr>\n",
       "  </tbody>\n",
       "</table>\n",
       "</div>"
      ],
      "text/plain": [
       "     unique_id    ds      y\n",
       "1007      H196  1008   16.8\n",
       "2015      H256  1008   13.4\n",
       "3023      H381  1008  207.0\n",
       "4031      H413  1008   34.0"
      ]
     },
     "execution_count": null,
     "metadata": {},
     "output_type": "execute_result"
    }
   ],
   "source": [
    "last_vals = df.groupby('unique_id').tail(1)\n",
    "last_vals"
   ]
  },
  {
   "cell_type": "code",
   "execution_count": null,
   "id": "50c9daf7-5002-4851-b03f-d9c62c3db433",
   "metadata": {},
   "outputs": [],
   "source": [
    "import numpy as np\n",
    "\n",
    "np.testing.assert_allclose(preds['Naive'], last_vals['y'])"
   ]
  },
  {
   "cell_type": "markdown",
   "id": "60c227c8-8c1f-4b17-94b1-a998eba2076c",
   "metadata": {},
   "source": [
    "## Training"
   ]
  },
  {
   "cell_type": "markdown",
   "id": "628dfeea-807c-4222-8064-a23f4d39b73d",
   "metadata": {},
   "source": [
    "Once you've decided the features, transformations and models that you want to use you can use the `MLForecast.fit` method instead, which will do the preprocessing and then train the models. The models can be specified as a list (which will name them by using their class name and an index if there are repeated classes) or as a dictionary where the keys are the names you want to give to the models, i.e. the name of the column that will hold their predictions, and the values are the models themselves."
   ]
  },
  {
   "cell_type": "code",
   "execution_count": null,
   "id": "486cbb54-64df-45ae-98ea-4241d4232400",
   "metadata": {},
   "outputs": [],
   "source": [
    "import lightgbm as lgb"
   ]
  },
  {
   "cell_type": "code",
   "execution_count": null,
   "id": "c6c4e57b-f7b6-4471-8697-af7bd604b014",
   "metadata": {},
   "outputs": [
    {
     "data": {
      "text/plain": [
       "MLForecast(models=[avg, q75, q25], freq=1, lag_features=['lag1', 'lag24', 'expanding_mean_lag1', 'rolling_mean_lag24_window_size48'], date_features=[<function hour_index>], num_threads=1)"
      ]
     },
     "execution_count": null,
     "metadata": {},
     "output_type": "execute_result"
    }
   ],
   "source": [
    "lgb_params = {\n",
    "    'verbosity': -1,\n",
    "    'num_leaves': 512,\n",
    "}\n",
    "\n",
    "fcst = MLForecast(\n",
    "    models={\n",
    "        'avg': lgb.LGBMRegressor(**lgb_params),\n",
    "        'q75': lgb.LGBMRegressor(**lgb_params, objective='quantile', alpha=0.75),\n",
    "        'q25': lgb.LGBMRegressor(**lgb_params, objective='quantile', alpha=0.25),\n",
    "    },\n",
    "    freq=1,\n",
    "    target_transforms=[Differences([24])],\n",
    "    lags=[1, 24],\n",
    "    lag_transforms={\n",
    "        1: [expanding_mean],\n",
    "        24: [(rolling_mean, 48)],\n",
    "    },\n",
    "    date_features=[hour_index],\n",
    ")\n",
    "fcst.fit(df)"
   ]
  },
  {
   "cell_type": "markdown",
   "id": "1492c574-5bd3-40a2-ba2d-d92d3557fce3",
   "metadata": {},
   "source": [
    "This computed the features and trained three different models using them. We can now compute our forecasts."
   ]
  },
  {
   "cell_type": "markdown",
   "id": "d08b48b6-7c10-48eb-93de-426fc5229c30",
   "metadata": {},
   "source": [
    "## Forecasting"
   ]
  },
  {
   "cell_type": "code",
   "execution_count": null,
   "id": "e493a24a-da33-44c6-baa5-806c6a81a683",
   "metadata": {},
   "outputs": [
    {
     "data": {
      "text/html": [
       "<div>\n",
       "<style scoped>\n",
       "    .dataframe tbody tr th:only-of-type {\n",
       "        vertical-align: middle;\n",
       "    }\n",
       "\n",
       "    .dataframe tbody tr th {\n",
       "        vertical-align: top;\n",
       "    }\n",
       "\n",
       "    .dataframe thead th {\n",
       "        text-align: right;\n",
       "    }\n",
       "</style>\n",
       "<table border=\"1\" class=\"dataframe\">\n",
       "  <thead>\n",
       "    <tr style=\"text-align: right;\">\n",
       "      <th></th>\n",
       "      <th>unique_id</th>\n",
       "      <th>ds</th>\n",
       "      <th>avg</th>\n",
       "      <th>q75</th>\n",
       "      <th>q25</th>\n",
       "    </tr>\n",
       "  </thead>\n",
       "  <tbody>\n",
       "    <tr>\n",
       "      <th>0</th>\n",
       "      <td>H196</td>\n",
       "      <td>1009</td>\n",
       "      <td>16.295257</td>\n",
       "      <td>16.385859</td>\n",
       "      <td>16.320666</td>\n",
       "    </tr>\n",
       "    <tr>\n",
       "      <th>1</th>\n",
       "      <td>H196</td>\n",
       "      <td>1010</td>\n",
       "      <td>15.910282</td>\n",
       "      <td>16.012728</td>\n",
       "      <td>15.856905</td>\n",
       "    </tr>\n",
       "    <tr>\n",
       "      <th>2</th>\n",
       "      <td>H196</td>\n",
       "      <td>1011</td>\n",
       "      <td>15.728367</td>\n",
       "      <td>15.784867</td>\n",
       "      <td>15.656658</td>\n",
       "    </tr>\n",
       "    <tr>\n",
       "      <th>3</th>\n",
       "      <td>H196</td>\n",
       "      <td>1012</td>\n",
       "      <td>15.468414</td>\n",
       "      <td>15.503223</td>\n",
       "      <td>15.401462</td>\n",
       "    </tr>\n",
       "    <tr>\n",
       "      <th>4</th>\n",
       "      <td>H196</td>\n",
       "      <td>1013</td>\n",
       "      <td>15.081279</td>\n",
       "      <td>15.163606</td>\n",
       "      <td>15.048576</td>\n",
       "    </tr>\n",
       "    <tr>\n",
       "      <th>...</th>\n",
       "      <td>...</td>\n",
       "      <td>...</td>\n",
       "      <td>...</td>\n",
       "      <td>...</td>\n",
       "      <td>...</td>\n",
       "    </tr>\n",
       "    <tr>\n",
       "      <th>187</th>\n",
       "      <td>H413</td>\n",
       "      <td>1052</td>\n",
       "      <td>100.450617</td>\n",
       "      <td>116.461898</td>\n",
       "      <td>52.276952</td>\n",
       "    </tr>\n",
       "    <tr>\n",
       "      <th>188</th>\n",
       "      <td>H413</td>\n",
       "      <td>1053</td>\n",
       "      <td>88.426800</td>\n",
       "      <td>114.257158</td>\n",
       "      <td>50.866960</td>\n",
       "    </tr>\n",
       "    <tr>\n",
       "      <th>189</th>\n",
       "      <td>H413</td>\n",
       "      <td>1054</td>\n",
       "      <td>59.675737</td>\n",
       "      <td>89.672526</td>\n",
       "      <td>16.440738</td>\n",
       "    </tr>\n",
       "    <tr>\n",
       "      <th>190</th>\n",
       "      <td>H413</td>\n",
       "      <td>1055</td>\n",
       "      <td>57.580356</td>\n",
       "      <td>84.680943</td>\n",
       "      <td>14.248400</td>\n",
       "    </tr>\n",
       "    <tr>\n",
       "      <th>191</th>\n",
       "      <td>H413</td>\n",
       "      <td>1056</td>\n",
       "      <td>42.669879</td>\n",
       "      <td>52.000559</td>\n",
       "      <td>12.440984</td>\n",
       "    </tr>\n",
       "  </tbody>\n",
       "</table>\n",
       "<p>192 rows × 5 columns</p>\n",
       "</div>"
      ],
      "text/plain": [
       "    unique_id    ds         avg         q75        q25\n",
       "0        H196  1009   16.295257   16.385859  16.320666\n",
       "1        H196  1010   15.910282   16.012728  15.856905\n",
       "2        H196  1011   15.728367   15.784867  15.656658\n",
       "3        H196  1012   15.468414   15.503223  15.401462\n",
       "4        H196  1013   15.081279   15.163606  15.048576\n",
       "..        ...   ...         ...         ...        ...\n",
       "187      H413  1052  100.450617  116.461898  52.276952\n",
       "188      H413  1053   88.426800  114.257158  50.866960\n",
       "189      H413  1054   59.675737   89.672526  16.440738\n",
       "190      H413  1055   57.580356   84.680943  14.248400\n",
       "191      H413  1056   42.669879   52.000559  12.440984\n",
       "\n",
       "[192 rows x 5 columns]"
      ]
     },
     "execution_count": null,
     "metadata": {},
     "output_type": "execute_result"
    }
   ],
   "source": [
    "preds = fcst.predict(48)\n",
    "preds"
   ]
  },
  {
   "cell_type": "code",
   "execution_count": null,
   "id": "ed5ebbe2-5d9e-4898-b8be-6cefff2ac440",
   "metadata": {},
   "outputs": [],
   "source": [
    "import pandas as pd"
   ]
  },
  {
   "cell_type": "code",
   "execution_count": null,
   "id": "c99ab1f8-98f2-434f-b6b7-f3746968c105",
   "metadata": {},
   "outputs": [],
   "source": [
    "plot(pd.concat([df, preds]), 'figs/end_to_end_walkthrough__predictions.png', last_n=24 * 7)"
   ]
  },
  {
   "cell_type": "markdown",
   "id": "2977ed1b-5b78-4ec5-a5bf-e91f57b374d6",
   "metadata": {},
   "source": [
    "![](../figs/end_to_end_walkthrough__predictions.png)"
   ]
  },
  {
   "cell_type": "markdown",
   "id": "a5048bf8-165e-46a6-a0c3-5a2dbb998005",
   "metadata": {},
   "source": [
    "![](../figs/end_to_end_walkthrough__predictions.png)"
   ]
  },
  {
   "cell_type": "markdown",
   "id": "96503e4a-e4a7-40b3-9413-c00d3fb22758",
   "metadata": {},
   "source": [
    "## Estimating model performance"
   ]
  },
  {
   "cell_type": "markdown",
   "id": "473e4820-7acb-472b-bb3e-f43441943a51",
   "metadata": {},
   "source": [
    "### Cross validation"
   ]
  },
  {
   "cell_type": "markdown",
   "id": "c327b075-1ea4-4fe0-ae61-f6b492cc36d8",
   "metadata": {},
   "source": [
    "In order to get an estimate of how well our model will be when predicting future data we can perform cross validation, which consist on training a few models independently on different subsets of the data, using them to predict a validation set and measuring their performance.\n",
    "\n",
    "Since our data depends on time, we make our splits by removing the last portions of the series and using them as validation sets. This process is implemented in `MLForecast.cross_validation`."
   ]
  },
  {
   "cell_type": "code",
   "execution_count": null,
   "id": "613845e1-da6b-44c4-8229-18e5515747a9",
   "metadata": {},
   "outputs": [
    {
     "data": {
      "text/html": [
       "<div>\n",
       "<style scoped>\n",
       "    .dataframe tbody tr th:only-of-type {\n",
       "        vertical-align: middle;\n",
       "    }\n",
       "\n",
       "    .dataframe tbody tr th {\n",
       "        vertical-align: top;\n",
       "    }\n",
       "\n",
       "    .dataframe thead th {\n",
       "        text-align: right;\n",
       "    }\n",
       "</style>\n",
       "<table border=\"1\" class=\"dataframe\">\n",
       "  <thead>\n",
       "    <tr style=\"text-align: right;\">\n",
       "      <th></th>\n",
       "      <th>unique_id</th>\n",
       "      <th>ds</th>\n",
       "      <th>cutoff</th>\n",
       "      <th>y</th>\n",
       "      <th>LGBMRegressor</th>\n",
       "    </tr>\n",
       "  </thead>\n",
       "  <tbody>\n",
       "    <tr>\n",
       "      <th>0</th>\n",
       "      <td>H196</td>\n",
       "      <td>817</td>\n",
       "      <td>816</td>\n",
       "      <td>15.3</td>\n",
       "      <td>15.383165</td>\n",
       "    </tr>\n",
       "    <tr>\n",
       "      <th>1</th>\n",
       "      <td>H196</td>\n",
       "      <td>818</td>\n",
       "      <td>816</td>\n",
       "      <td>14.9</td>\n",
       "      <td>14.923219</td>\n",
       "    </tr>\n",
       "    <tr>\n",
       "      <th>2</th>\n",
       "      <td>H196</td>\n",
       "      <td>819</td>\n",
       "      <td>816</td>\n",
       "      <td>14.6</td>\n",
       "      <td>14.667834</td>\n",
       "    </tr>\n",
       "    <tr>\n",
       "      <th>3</th>\n",
       "      <td>H196</td>\n",
       "      <td>820</td>\n",
       "      <td>816</td>\n",
       "      <td>14.2</td>\n",
       "      <td>14.275964</td>\n",
       "    </tr>\n",
       "    <tr>\n",
       "      <th>4</th>\n",
       "      <td>H196</td>\n",
       "      <td>821</td>\n",
       "      <td>816</td>\n",
       "      <td>13.9</td>\n",
       "      <td>13.973491</td>\n",
       "    </tr>\n",
       "    <tr>\n",
       "      <th>...</th>\n",
       "      <td>...</td>\n",
       "      <td>...</td>\n",
       "      <td>...</td>\n",
       "      <td>...</td>\n",
       "      <td>...</td>\n",
       "    </tr>\n",
       "    <tr>\n",
       "      <th>187</th>\n",
       "      <td>H413</td>\n",
       "      <td>1004</td>\n",
       "      <td>960</td>\n",
       "      <td>99.0</td>\n",
       "      <td>65.644823</td>\n",
       "    </tr>\n",
       "    <tr>\n",
       "      <th>188</th>\n",
       "      <td>H413</td>\n",
       "      <td>1005</td>\n",
       "      <td>960</td>\n",
       "      <td>88.0</td>\n",
       "      <td>71.717097</td>\n",
       "    </tr>\n",
       "    <tr>\n",
       "      <th>189</th>\n",
       "      <td>H413</td>\n",
       "      <td>1006</td>\n",
       "      <td>960</td>\n",
       "      <td>47.0</td>\n",
       "      <td>76.704377</td>\n",
       "    </tr>\n",
       "    <tr>\n",
       "      <th>190</th>\n",
       "      <td>H413</td>\n",
       "      <td>1007</td>\n",
       "      <td>960</td>\n",
       "      <td>41.0</td>\n",
       "      <td>53.446638</td>\n",
       "    </tr>\n",
       "    <tr>\n",
       "      <th>191</th>\n",
       "      <td>H413</td>\n",
       "      <td>1008</td>\n",
       "      <td>960</td>\n",
       "      <td>34.0</td>\n",
       "      <td>54.902634</td>\n",
       "    </tr>\n",
       "  </tbody>\n",
       "</table>\n",
       "<p>768 rows × 5 columns</p>\n",
       "</div>"
      ],
      "text/plain": [
       "    unique_id    ds  cutoff     y  LGBMRegressor\n",
       "0        H196   817     816  15.3      15.383165\n",
       "1        H196   818     816  14.9      14.923219\n",
       "2        H196   819     816  14.6      14.667834\n",
       "3        H196   820     816  14.2      14.275964\n",
       "4        H196   821     816  13.9      13.973491\n",
       "..        ...   ...     ...   ...            ...\n",
       "187      H413  1004     960  99.0      65.644823\n",
       "188      H413  1005     960  88.0      71.717097\n",
       "189      H413  1006     960  47.0      76.704377\n",
       "190      H413  1007     960  41.0      53.446638\n",
       "191      H413  1008     960  34.0      54.902634\n",
       "\n",
       "[768 rows x 5 columns]"
      ]
     },
     "execution_count": null,
     "metadata": {},
     "output_type": "execute_result"
    }
   ],
   "source": [
    "fcst = MLForecast(\n",
    "    models=lgb.LGBMRegressor(**lgb_params),\n",
    "    freq=1,\n",
    "    target_transforms=[Differences([24])],\n",
    "    lags=[1, 24],\n",
    "    lag_transforms={\n",
    "        1: [expanding_mean],\n",
    "        24: [(rolling_mean, 48)],\n",
    "    },\n",
    "    date_features=[hour_index],\n",
    ")\n",
    "cv_result = fcst.cross_validation(\n",
    "    df,\n",
    "    n_windows=4,  # number of models to train/splits to perform\n",
    "    window_size=48,  # length of the validation set in each window\n",
    ")\n",
    "cv_result"
   ]
  },
  {
   "cell_type": "code",
   "execution_count": null,
   "id": "f34430ef-638c-46c8-a7b4-a66999cf0adc",
   "metadata": {},
   "outputs": [],
   "source": [
    "plot(cv_result.drop(columns='cutoff'), 'figs/end_to_end_walkthrough__cv.png')"
   ]
  },
  {
   "cell_type": "markdown",
   "id": "c8d11f3d-0d7e-4c66-a5bb-acdaca176555",
   "metadata": {},
   "source": [
    "![](../figs/end_to_end_walkthrough__cv.png)"
   ]
  },
  {
   "cell_type": "markdown",
   "id": "e443b691-128b-4be8-9bd6-467bab645cbe",
   "metadata": {},
   "source": [
    "We can compute the RMSE on each split."
   ]
  },
  {
   "cell_type": "code",
   "execution_count": null,
   "id": "892f6a13-65c7-4419-b131-3998fb337b78",
   "metadata": {},
   "outputs": [
    {
     "data": {
      "text/plain": [
       "cutoff\n",
       "816    29.418172\n",
       "864    34.257598\n",
       "912    13.145763\n",
       "960    35.066261\n",
       "dtype: float64"
      ]
     },
     "execution_count": null,
     "metadata": {},
     "output_type": "execute_result"
    }
   ],
   "source": [
    "def evaluate_cv(df):\n",
    "    return df['y'].sub(df['LGBMRegressor']).pow(2).groupby(df['cutoff']).mean().pow(0.5)\n",
    "\n",
    "split_rmse = evaluate_cv(cv_result)\n",
    "split_rmse"
   ]
  },
  {
   "cell_type": "markdown",
   "id": "50ecc214-de81-41bc-9d42-42f53caafc6e",
   "metadata": {},
   "source": [
    "And the average RMSE across splits."
   ]
  },
  {
   "cell_type": "code",
   "execution_count": null,
   "id": "6fe8c4fa-8a74-432a-a5d8-27caf5b15f8f",
   "metadata": {},
   "outputs": [
    {
     "data": {
      "text/plain": [
       "27.971948676289266"
      ]
     },
     "execution_count": null,
     "metadata": {},
     "output_type": "execute_result"
    }
   ],
   "source": [
    "split_rmse.mean()"
   ]
  },
  {
   "cell_type": "markdown",
   "id": "3a05d63b-a472-4050-ba24-ba059c041d54",
   "metadata": {},
   "source": [
    "You can quickly try different features and evaluate them this way. We can try removing the differencing and using an exponentially weighted average of the lag 1 instead of the expanding mean."
   ]
  },
  {
   "cell_type": "code",
   "execution_count": null,
   "id": "03bdbfcf-0995-4bf4-bd3b-a3087da4281a",
   "metadata": {},
   "outputs": [],
   "source": [
    "from window_ops.ewm import ewm_mean"
   ]
  },
  {
   "cell_type": "code",
   "execution_count": null,
   "id": "06f23f2f-18ca-4101-8e57-93585a3338bb",
   "metadata": {},
   "outputs": [
    {
     "data": {
      "text/plain": [
       "25.87444576840234"
      ]
     },
     "execution_count": null,
     "metadata": {},
     "output_type": "execute_result"
    }
   ],
   "source": [
    "fcst = MLForecast(\n",
    "    models=lgb.LGBMRegressor(**lgb_params),\n",
    "    freq=1,\n",
    "    lags=[1, 24],\n",
    "    lag_transforms={\n",
    "        1: [(ewm_mean, 0.5)],\n",
    "        24: [(rolling_mean, 48)],      \n",
    "    },\n",
    "    date_features=[hour_index],    \n",
    ")\n",
    "cv_result2 = fcst.cross_validation(\n",
    "    df,\n",
    "    n_windows=4,\n",
    "    window_size=48,\n",
    ")\n",
    "evaluate_cv(cv_result2).mean()"
   ]
  },
  {
   "cell_type": "markdown",
   "id": "8b380f88-8a17-41ef-8aa3-c25acf4f6d5d",
   "metadata": {},
   "source": [
    "### LightGBMCV"
   ]
  },
  {
   "cell_type": "markdown",
   "id": "16155afd-679e-4213-9767-5ca248dddd72",
   "metadata": {},
   "source": [
    "In the same spirit of estimating our model's performance, `LightGBMCV` allows us to train a few [LightGBM](https://github.com/microsoft/LightGBM) models on different partitions of the data. The main differences with `MLForecast.cross_validation` are:\n",
    "\n",
    "* It can only train LightGBM models.\n",
    "* It trains all models **simultaneously** and gives us per-iteration averages of the errors across the complete forecasting window, which allows us to find the best iteration."
   ]
  },
  {
   "cell_type": "code",
   "execution_count": null,
   "id": "e29ec85e-30a9-4bfa-bdbd-fd43b99bf060",
   "metadata": {},
   "outputs": [],
   "source": [
    "from mlforecast.lgb_cv import LightGBMCV"
   ]
  },
  {
   "cell_type": "code",
   "execution_count": null,
   "id": "3366fae7-7907-49fd-afc8-eb531ebec84d",
   "metadata": {},
   "outputs": [
    {
     "name": "stdout",
     "output_type": "stream",
     "text": [
      "[5] mape: 0.158639\n",
      "[10] mape: 0.163739\n",
      "[15] mape: 0.161535\n",
      "[20] mape: 0.169491\n",
      "[25] mape: 0.163690\n",
      "[30] mape: 0.164198\n",
      "Early stopping at round 30\n",
      "Using best iteration: 5\n"
     ]
    }
   ],
   "source": [
    "cv = LightGBMCV(\n",
    "    freq=1,\n",
    "    target_transforms=[Differences([24])],\n",
    "    lags=[1, 24],\n",
    "    lag_transforms={\n",
    "        1: [expanding_mean],\n",
    "        24: [(rolling_mean, 48)],\n",
    "    },\n",
    "    date_features=[hour_index],\n",
    "    num_threads=2,\n",
    ")\n",
    "cv_hist = cv.fit(\n",
    "    df,\n",
    "    n_windows=4,\n",
    "    window_size=48,\n",
    "    params=lgb_params,\n",
    "    eval_every=5,\n",
    "    early_stopping_evals=5,    \n",
    "    compute_cv_preds=True,\n",
    ")"
   ]
  },
  {
   "cell_type": "markdown",
   "id": "b11084fa-22aa-48a7-b179-854ce504cfef",
   "metadata": {},
   "source": [
    "As you can see this gives us the error by iteration (controlled by the `eval_every` argument) and performs early stopping (which can be configured with `early_stopping_evals` and `early_stopping_pct`). If you set `compute_cv_preds=True` the out-of-fold predictions are computed using the best iteration found and are saved in the `cv_preds_` attribute."
   ]
  },
  {
   "cell_type": "code",
   "execution_count": null,
   "id": "f24da7a6-4e1e-4649-a8e6-9413801d95b8",
   "metadata": {},
   "outputs": [
    {
     "data": {
      "text/html": [
       "<div>\n",
       "<style scoped>\n",
       "    .dataframe tbody tr th:only-of-type {\n",
       "        vertical-align: middle;\n",
       "    }\n",
       "\n",
       "    .dataframe tbody tr th {\n",
       "        vertical-align: top;\n",
       "    }\n",
       "\n",
       "    .dataframe thead th {\n",
       "        text-align: right;\n",
       "    }\n",
       "</style>\n",
       "<table border=\"1\" class=\"dataframe\">\n",
       "  <thead>\n",
       "    <tr style=\"text-align: right;\">\n",
       "      <th></th>\n",
       "      <th>unique_id</th>\n",
       "      <th>ds</th>\n",
       "      <th>y</th>\n",
       "      <th>Booster</th>\n",
       "      <th>window</th>\n",
       "    </tr>\n",
       "  </thead>\n",
       "  <tbody>\n",
       "    <tr>\n",
       "      <th>0</th>\n",
       "      <td>H196</td>\n",
       "      <td>817</td>\n",
       "      <td>15.3</td>\n",
       "      <td>15.473182</td>\n",
       "      <td>0</td>\n",
       "    </tr>\n",
       "    <tr>\n",
       "      <th>1</th>\n",
       "      <td>H196</td>\n",
       "      <td>818</td>\n",
       "      <td>14.9</td>\n",
       "      <td>15.038571</td>\n",
       "      <td>0</td>\n",
       "    </tr>\n",
       "    <tr>\n",
       "      <th>2</th>\n",
       "      <td>H196</td>\n",
       "      <td>819</td>\n",
       "      <td>14.6</td>\n",
       "      <td>14.849409</td>\n",
       "      <td>0</td>\n",
       "    </tr>\n",
       "    <tr>\n",
       "      <th>3</th>\n",
       "      <td>H196</td>\n",
       "      <td>820</td>\n",
       "      <td>14.2</td>\n",
       "      <td>14.448379</td>\n",
       "      <td>0</td>\n",
       "    </tr>\n",
       "    <tr>\n",
       "      <th>4</th>\n",
       "      <td>H196</td>\n",
       "      <td>821</td>\n",
       "      <td>13.9</td>\n",
       "      <td>14.148379</td>\n",
       "      <td>0</td>\n",
       "    </tr>\n",
       "    <tr>\n",
       "      <th>...</th>\n",
       "      <td>...</td>\n",
       "      <td>...</td>\n",
       "      <td>...</td>\n",
       "      <td>...</td>\n",
       "      <td>...</td>\n",
       "    </tr>\n",
       "    <tr>\n",
       "      <th>187</th>\n",
       "      <td>H413</td>\n",
       "      <td>1004</td>\n",
       "      <td>99.0</td>\n",
       "      <td>61.425396</td>\n",
       "      <td>3</td>\n",
       "    </tr>\n",
       "    <tr>\n",
       "      <th>188</th>\n",
       "      <td>H413</td>\n",
       "      <td>1005</td>\n",
       "      <td>88.0</td>\n",
       "      <td>62.886890</td>\n",
       "      <td>3</td>\n",
       "    </tr>\n",
       "    <tr>\n",
       "      <th>189</th>\n",
       "      <td>H413</td>\n",
       "      <td>1006</td>\n",
       "      <td>47.0</td>\n",
       "      <td>57.886890</td>\n",
       "      <td>3</td>\n",
       "    </tr>\n",
       "    <tr>\n",
       "      <th>190</th>\n",
       "      <td>H413</td>\n",
       "      <td>1007</td>\n",
       "      <td>41.0</td>\n",
       "      <td>38.849009</td>\n",
       "      <td>3</td>\n",
       "    </tr>\n",
       "    <tr>\n",
       "      <th>191</th>\n",
       "      <td>H413</td>\n",
       "      <td>1008</td>\n",
       "      <td>34.0</td>\n",
       "      <td>44.720562</td>\n",
       "      <td>3</td>\n",
       "    </tr>\n",
       "  </tbody>\n",
       "</table>\n",
       "<p>768 rows × 5 columns</p>\n",
       "</div>"
      ],
      "text/plain": [
       "    unique_id    ds     y    Booster  window\n",
       "0        H196   817  15.3  15.473182       0\n",
       "1        H196   818  14.9  15.038571       0\n",
       "2        H196   819  14.6  14.849409       0\n",
       "3        H196   820  14.2  14.448379       0\n",
       "4        H196   821  13.9  14.148379       0\n",
       "..        ...   ...   ...        ...     ...\n",
       "187      H413  1004  99.0  61.425396       3\n",
       "188      H413  1005  88.0  62.886890       3\n",
       "189      H413  1006  47.0  57.886890       3\n",
       "190      H413  1007  41.0  38.849009       3\n",
       "191      H413  1008  34.0  44.720562       3\n",
       "\n",
       "[768 rows x 5 columns]"
      ]
     },
     "execution_count": null,
     "metadata": {},
     "output_type": "execute_result"
    }
   ],
   "source": [
    "cv.cv_preds_"
   ]
  },
  {
   "cell_type": "code",
   "execution_count": null,
   "id": "84636763-ded2-4a2e-bb6a-bc56f7c2b2dc",
   "metadata": {},
   "outputs": [],
   "source": [
    "plot(cv.cv_preds_.drop(columns='window'), 'figs/end_to_end_walkthrough__lgbcv.png')"
   ]
  },
  {
   "cell_type": "markdown",
   "id": "47e0fcfe-052b-4418-b2c5-62473425b42a",
   "metadata": {},
   "source": [
    "![](../figs/end_to_end_walkthrough__lgbcv.png)"
   ]
  },
  {
   "cell_type": "markdown",
   "id": "536828c3-071e-4e31-b603-c10e042c843f",
   "metadata": {},
   "source": [
    "![](../figs/end_to_end_walkthrough__lgbcv.png)"
   ]
  },
  {
   "cell_type": "markdown",
   "id": "e4800420-3b8f-4887-b2c1-bfb6fb33c274",
   "metadata": {},
   "source": [
    "You can use this class to quickly try different configurations of features and hyperparameters. Once you've found a combination that works you can train a model with those features and hyperparameters on all the data by creating an `MLForecast` object from the `LightGBMCV` one as follows:"
   ]
  },
  {
   "cell_type": "code",
   "execution_count": null,
   "id": "292d31f4-4980-444f-9124-9f4f4a6921ac",
   "metadata": {},
   "outputs": [],
   "source": [
    "final_fcst = MLForecast.from_cv(cv)\n",
    "final_fcst.fit(df)\n",
    "preds = final_fcst.predict(48)\n",
    "plot(pd.concat([df, preds]), 'figs/end_to_end_walkthrough__final_forecast.png')"
   ]
  },
  {
   "cell_type": "markdown",
   "id": "dced80f3-8424-4b0c-8bfc-5f8b36954826",
   "metadata": {},
   "source": [
    "![](../figs/end_to_end_walkthrough__final_forecast.png)"
   ]
  }
 ],
 "metadata": {
  "kernelspec": {
   "display_name": "python3",
   "language": "python",
   "name": "python3"
  }
 },
 "nbformat": 4,
 "nbformat_minor": 5
}
