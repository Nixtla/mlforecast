{
 "cells": [
  {
   "cell_type": "markdown",
   "id": "ec362930-4fa4-4911-af3e-1c4a6620d5f3",
   "metadata": {},
   "source": [
    "# Quick start (local)\n",
    "\n",
    "> Minimal example of MLForecast"
   ]
  },
  {
   "cell_type": "markdown",
   "id": "56984f2f-6bed-4712-b598-8664c282d055",
   "metadata": {},
   "source": [
    "## Main concepts"
   ]
  },
  {
   "cell_type": "markdown",
   "id": "31ba423f-ec6a-462f-9408-e6b18dcfe265",
   "metadata": {},
   "source": [
    "The main component of mlforecast is the `MLForecast` class, which abstracts away:\n",
    "\n",
    "* Feature engineering and model training through `MLForecast.fit`\n",
    "* Feature updates and multi step ahead predictions through `MLForecast.predict`"
   ]
  },
  {
   "cell_type": "markdown",
   "id": "613731ee-64cd-46f9-ac10-09b15d333022",
   "metadata": {},
   "source": [
    "## Data format"
   ]
  },
  {
   "cell_type": "markdown",
   "id": "a159a728-a64a-4747-9864-5295cbb90a7a",
   "metadata": {},
   "source": [
    "The data is expected to be a pandas dataframe in long format, that is, each row represents an observation of a single serie at a given time, with at least three columns:\n",
    "\n",
    "* `id_col`: column that identifies each serie.\n",
    "* `target_col`: column that has the series values at each timestamp.\n",
    "* `time_col`: column that contains the time the series value was observed. These are usually timestamps, but can also be consecutive integers.\n",
    "\n",
    "Here we present an example using the classic Box & Jenkins airline data, which measures monthly totals of international airline passengers from 1949 to 1960.\n",
    "Source: Box, G. E. P., Jenkins, G. M. and Reinsel, G. C. (1976) Time Series Analysis, Forecasting and Control. Third Edition. Holden-Day. Series G."
   ]
  },
  {
   "cell_type": "code",
   "execution_count": null,
   "id": "15e15d7e-e495-4af5-ad29-b44651e72db3",
   "metadata": {},
   "outputs": [],
   "source": [
    "import pandas as pd\n",
    "from utilsforecast.plotting import plot_series"
   ]
  },
  {
   "cell_type": "code",
   "execution_count": null,
   "id": "8a969023-9c77-40b7-bdb9-6bae49b171ac",
   "metadata": {},
   "outputs": [
    {
     "data": {
      "text/html": [
       "<div>\n",
       "<style scoped>\n",
       "    .dataframe tbody tr th:only-of-type {\n",
       "        vertical-align: middle;\n",
       "    }\n",
       "\n",
       "    .dataframe tbody tr th {\n",
       "        vertical-align: top;\n",
       "    }\n",
       "\n",
       "    .dataframe thead th {\n",
       "        text-align: right;\n",
       "    }\n",
       "</style>\n",
       "<table border=\"1\" class=\"dataframe\">\n",
       "  <thead>\n",
       "    <tr style=\"text-align: right;\">\n",
       "      <th></th>\n",
       "      <th>unique_id</th>\n",
       "      <th>ds</th>\n",
       "      <th>y</th>\n",
       "    </tr>\n",
       "  </thead>\n",
       "  <tbody>\n",
       "    <tr>\n",
       "      <th>0</th>\n",
       "      <td>AirPassengers</td>\n",
       "      <td>1949-01-01</td>\n",
       "      <td>112</td>\n",
       "    </tr>\n",
       "    <tr>\n",
       "      <th>1</th>\n",
       "      <td>AirPassengers</td>\n",
       "      <td>1949-02-01</td>\n",
       "      <td>118</td>\n",
       "    </tr>\n",
       "    <tr>\n",
       "      <th>2</th>\n",
       "      <td>AirPassengers</td>\n",
       "      <td>1949-03-01</td>\n",
       "      <td>132</td>\n",
       "    </tr>\n",
       "    <tr>\n",
       "      <th>3</th>\n",
       "      <td>AirPassengers</td>\n",
       "      <td>1949-04-01</td>\n",
       "      <td>129</td>\n",
       "    </tr>\n",
       "    <tr>\n",
       "      <th>4</th>\n",
       "      <td>AirPassengers</td>\n",
       "      <td>1949-05-01</td>\n",
       "      <td>121</td>\n",
       "    </tr>\n",
       "  </tbody>\n",
       "</table>\n",
       "</div>"
      ],
      "text/plain": [
       "       unique_id         ds    y\n",
       "0  AirPassengers 1949-01-01  112\n",
       "1  AirPassengers 1949-02-01  118\n",
       "2  AirPassengers 1949-03-01  132\n",
       "3  AirPassengers 1949-04-01  129\n",
       "4  AirPassengers 1949-05-01  121"
      ]
     },
     "execution_count": null,
     "metadata": {},
     "output_type": "execute_result"
    }
   ],
   "source": [
    "df = pd.read_csv('https://datasets-nixtla.s3.amazonaws.com/air-passengers.csv', parse_dates=['ds'])\n",
    "df.head()"
   ]
  },
  {
   "cell_type": "code",
   "execution_count": null,
   "id": "90287493-5c4a-42e8-8292-c902eaa4cc3c",
   "metadata": {},
   "outputs": [
    {
     "data": {
      "text/plain": [
       "AirPassengers    144\n",
       "Name: unique_id, dtype: int64"
      ]
     },
     "execution_count": null,
     "metadata": {},
     "output_type": "execute_result"
    }
   ],
   "source": [
    "df['unique_id'].value_counts()"
   ]
  },
  {
   "cell_type": "markdown",
   "id": "f12cf8a7-0bf1-45e6-a1ed-f10d79f10db3",
   "metadata": {},
   "source": [
    "Here the `unique_id` column has the same value for all rows because this is a single time series, you can have multiple time series by stacking them together and having a column that differentiates them.\n",
    "\n",
    "We also have the `ds` column that contains the timestamps, in this case with a monthly frequency, and the `y` column that contains the series values in each timestamp. "
   ]
  },
  {
   "cell_type": "markdown",
   "id": "5e3e53dc-9d71-4751-ad9c-a663ce99309a",
   "metadata": {},
   "source": [
    "## Modeling"
   ]
  },
  {
   "cell_type": "code",
   "execution_count": null,
   "id": "ed188c09-a260-4f2f-bb19-ba4b16594b1a",
   "metadata": {},
   "outputs": [],
   "source": [
    "fig = plot_series(df)"
   ]
  },
  {
   "cell_type": "code",
   "execution_count": null,
   "id": "b72d0059-176c-49a1-9ebf-8ea4dfd63654",
   "metadata": {},
   "outputs": [],
   "source": [
    "#| hide\n",
    "fig.savefig('../../figs/quick_start_local__eda.png', bbox_inches='tight')"
   ]
  },
  {
   "cell_type": "markdown",
   "id": "1032a937-a18e-4534-907a-e04729b178bb",
   "metadata": {},
   "source": [
    "![](../../figs/quick_start_local__eda.png)"
   ]
  },
  {
   "cell_type": "markdown",
   "id": "530570be-6ef5-4aaa-bf27-2e4e9402e0f1",
   "metadata": {},
   "source": [
    "We can see that the serie has a clear trend, so we can take the first difference, i.e. take each value and subtract the value at the previous month. This can be achieved by passing an `mlforecast.target_transforms.Differences([1])` instance to `target_transforms`.\n",
    "\n",
    "We can then train a linear regression using the value from the same month at the previous year (lag 12) as a feature, this is done by passing `lags=[12]`."
   ]
  },
  {
   "cell_type": "code",
   "execution_count": null,
   "id": "badaca47-7bc4-4c5a-ba66-a2e2bf99588e",
   "metadata": {},
   "outputs": [],
   "source": [
    "from mlforecast import MLForecast\n",
    "from mlforecast.target_transforms import Differences\n",
    "from sklearn.linear_model import LinearRegression"
   ]
  },
  {
   "cell_type": "code",
   "execution_count": null,
   "id": "dcaaaf32-f6ae-46db-a75c-277b707fb5b7",
   "metadata": {},
   "outputs": [
    {
     "data": {
      "text/plain": [
       "MLForecast(models=[LinearRegression], freq=MS, lag_features=['lag12'], date_features=[], num_threads=1)"
      ]
     },
     "execution_count": null,
     "metadata": {},
     "output_type": "execute_result"
    }
   ],
   "source": [
    "fcst = MLForecast(\n",
    "    models=LinearRegression(),\n",
    "    freq='MS',  # our serie has a monthly frequency\n",
    "    lags=[12],\n",
    "    target_transforms=[Differences([1])],\n",
    ")\n",
    "fcst.fit(df)"
   ]
  },
  {
   "cell_type": "markdown",
   "id": "fded9e3d-36f8-4ccd-be67-3341dbdedbfb",
   "metadata": {},
   "source": [
    "The previous line computed the features and trained the model, so now we're ready to compute our forecasts."
   ]
  },
  {
   "cell_type": "markdown",
   "id": "c95715d9-5e54-42dc-877a-db37b022d6ac",
   "metadata": {},
   "source": [
    "## Forecasting"
   ]
  },
  {
   "cell_type": "markdown",
   "id": "c69a6382-f962-4f4f-be4e-ba74f6055222",
   "metadata": {},
   "source": [
    "Compute the forecast for the next 12 months"
   ]
  },
  {
   "cell_type": "code",
   "execution_count": null,
   "id": "7403abf3-5a06-4f89-9a36-70f2fec176e5",
   "metadata": {},
   "outputs": [
    {
     "data": {
      "text/html": [
       "<div>\n",
       "<style scoped>\n",
       "    .dataframe tbody tr th:only-of-type {\n",
       "        vertical-align: middle;\n",
       "    }\n",
       "\n",
       "    .dataframe tbody tr th {\n",
       "        vertical-align: top;\n",
       "    }\n",
       "\n",
       "    .dataframe thead th {\n",
       "        text-align: right;\n",
       "    }\n",
       "</style>\n",
       "<table border=\"1\" class=\"dataframe\">\n",
       "  <thead>\n",
       "    <tr style=\"text-align: right;\">\n",
       "      <th></th>\n",
       "      <th>unique_id</th>\n",
       "      <th>ds</th>\n",
       "      <th>LinearRegression</th>\n",
       "    </tr>\n",
       "  </thead>\n",
       "  <tbody>\n",
       "    <tr>\n",
       "      <th>0</th>\n",
       "      <td>AirPassengers</td>\n",
       "      <td>1961-01-01</td>\n",
       "      <td>444.656555</td>\n",
       "    </tr>\n",
       "    <tr>\n",
       "      <th>1</th>\n",
       "      <td>AirPassengers</td>\n",
       "      <td>1961-02-01</td>\n",
       "      <td>417.470734</td>\n",
       "    </tr>\n",
       "    <tr>\n",
       "      <th>2</th>\n",
       "      <td>AirPassengers</td>\n",
       "      <td>1961-03-01</td>\n",
       "      <td>446.903046</td>\n",
       "    </tr>\n",
       "    <tr>\n",
       "      <th>3</th>\n",
       "      <td>AirPassengers</td>\n",
       "      <td>1961-04-01</td>\n",
       "      <td>491.014130</td>\n",
       "    </tr>\n",
       "    <tr>\n",
       "      <th>4</th>\n",
       "      <td>AirPassengers</td>\n",
       "      <td>1961-05-01</td>\n",
       "      <td>502.622223</td>\n",
       "    </tr>\n",
       "    <tr>\n",
       "      <th>5</th>\n",
       "      <td>AirPassengers</td>\n",
       "      <td>1961-06-01</td>\n",
       "      <td>568.751465</td>\n",
       "    </tr>\n",
       "    <tr>\n",
       "      <th>6</th>\n",
       "      <td>AirPassengers</td>\n",
       "      <td>1961-07-01</td>\n",
       "      <td>660.044312</td>\n",
       "    </tr>\n",
       "    <tr>\n",
       "      <th>7</th>\n",
       "      <td>AirPassengers</td>\n",
       "      <td>1961-08-01</td>\n",
       "      <td>643.343323</td>\n",
       "    </tr>\n",
       "    <tr>\n",
       "      <th>8</th>\n",
       "      <td>AirPassengers</td>\n",
       "      <td>1961-09-01</td>\n",
       "      <td>540.666687</td>\n",
       "    </tr>\n",
       "    <tr>\n",
       "      <th>9</th>\n",
       "      <td>AirPassengers</td>\n",
       "      <td>1961-10-01</td>\n",
       "      <td>491.462708</td>\n",
       "    </tr>\n",
       "    <tr>\n",
       "      <th>10</th>\n",
       "      <td>AirPassengers</td>\n",
       "      <td>1961-11-01</td>\n",
       "      <td>417.095154</td>\n",
       "    </tr>\n",
       "    <tr>\n",
       "      <th>11</th>\n",
       "      <td>AirPassengers</td>\n",
       "      <td>1961-12-01</td>\n",
       "      <td>461.206238</td>\n",
       "    </tr>\n",
       "  </tbody>\n",
       "</table>\n",
       "</div>"
      ],
      "text/plain": [
       "        unique_id         ds  LinearRegression\n",
       "0   AirPassengers 1961-01-01        444.656555\n",
       "1   AirPassengers 1961-02-01        417.470734\n",
       "2   AirPassengers 1961-03-01        446.903046\n",
       "3   AirPassengers 1961-04-01        491.014130\n",
       "4   AirPassengers 1961-05-01        502.622223\n",
       "5   AirPassengers 1961-06-01        568.751465\n",
       "6   AirPassengers 1961-07-01        660.044312\n",
       "7   AirPassengers 1961-08-01        643.343323\n",
       "8   AirPassengers 1961-09-01        540.666687\n",
       "9   AirPassengers 1961-10-01        491.462708\n",
       "10  AirPassengers 1961-11-01        417.095154\n",
       "11  AirPassengers 1961-12-01        461.206238"
      ]
     },
     "execution_count": null,
     "metadata": {},
     "output_type": "execute_result"
    }
   ],
   "source": [
    "preds = fcst.predict(12)\n",
    "preds"
   ]
  },
  {
   "cell_type": "markdown",
   "id": "236cc9d3-edab-4b05-bd8a-cdd61a171554",
   "metadata": {},
   "source": [
    "## Visualize results"
   ]
  },
  {
   "cell_type": "markdown",
   "id": "0b8beff2-6ce1-44eb-b756-8bf02b748e74",
   "metadata": {},
   "source": [
    "We can visualize what our prediction looks like."
   ]
  },
  {
   "cell_type": "code",
   "execution_count": null,
   "id": "cf3e1b3e-97c2-4e72-b3fa-e896e8c115e8",
   "metadata": {},
   "outputs": [],
   "source": [
    "fig = plot_series(df, preds)"
   ]
  },
  {
   "cell_type": "code",
   "execution_count": null,
   "id": "fa5a68e8-fd2b-4b36-b2be-53d20c869102",
   "metadata": {},
   "outputs": [],
   "source": [
    "#| hide\n",
    "fig.savefig('../../figs/quick_start_local__predictions.png', bbox_inches='tight')"
   ]
  },
  {
   "cell_type": "markdown",
   "id": "47d42a4d-cb28-429f-beec-0e3fdfc81b60",
   "metadata": {},
   "source": [
    "![](../../figs/quick_start_local__predictions.png)"
   ]
  },
  {
   "cell_type": "markdown",
   "id": "8c82fef4-4bf7-4a4b-8f55-b68c30e00829",
   "metadata": {},
   "source": [
    "And that's it! You've trained a linear regression to predict the air passengers for 1961."
   ]
  }
 ],
 "metadata": {
  "kernelspec": {
   "display_name": "python3",
   "language": "python",
   "name": "python3"
  }
 },
 "nbformat": 4,
 "nbformat_minor": 5
}
