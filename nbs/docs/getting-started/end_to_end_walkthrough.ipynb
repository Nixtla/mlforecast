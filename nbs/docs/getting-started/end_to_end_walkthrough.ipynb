{
 "cells": [
  {
   "cell_type": "code",
   "execution_count": null,
   "id": "2282ab0c-42b2-4dfb-9b22-51644ba133fa",
   "metadata": {},
   "outputs": [],
   "source": [
    "#| hide\n",
    "%load_ext autoreload\n",
    "%autoreload 2"
   ]
  },
  {
   "cell_type": "markdown",
   "id": "cba44ed4-b221-45c6-bd06-1c0f528d3f18",
   "metadata": {},
   "source": [
    "# End to end walkthrough\n",
    "\n",
    "> Detailed description of all the functionalities that MLForecast provides."
   ]
  },
  {
   "cell_type": "markdown",
   "id": "ae6ad17b-fa39-4f52-834e-1202a2bdfa75",
   "metadata": {},
   "source": [
    "## Data setup"
   ]
  },
  {
   "cell_type": "markdown",
   "id": "fa646032-5fb6-407b-bc40-fb9e0b58983a",
   "metadata": {},
   "source": [
    "For this example we'll use a subset of the M4 hourly dataset. You can find the a notebook with the full dataset [here](https://www.kaggle.com/code/lemuz90/m4-competition)."
   ]
  },
  {
   "cell_type": "code",
   "execution_count": null,
   "id": "7d9cfe4c-f393-4e7d-9201-47fa2dbebf76",
   "metadata": {},
   "outputs": [],
   "source": [
    "import random\n",
    "import tempfile\n",
    "from pathlib import Path\n",
    "\n",
    "import pandas as pd\n",
    "from datasetsforecast.m4 import M4\n",
    "from utilsforecast.plotting import plot_series"
   ]
  },
  {
   "cell_type": "code",
   "execution_count": null,
   "id": "50c2eb89-af9b-4ab0-bc21-6e69928b2d74",
   "metadata": {},
   "outputs": [
    {
     "data": {
      "text/html": [
       "<div>\n",
       "<style scoped>\n",
       "    .dataframe tbody tr th:only-of-type {\n",
       "        vertical-align: middle;\n",
       "    }\n",
       "\n",
       "    .dataframe tbody tr th {\n",
       "        vertical-align: top;\n",
       "    }\n",
       "\n",
       "    .dataframe thead th {\n",
       "        text-align: right;\n",
       "    }\n",
       "</style>\n",
       "<table border=\"1\" class=\"dataframe\">\n",
       "  <thead>\n",
       "    <tr style=\"text-align: right;\">\n",
       "      <th></th>\n",
       "      <th>unique_id</th>\n",
       "      <th>ds</th>\n",
       "      <th>y</th>\n",
       "    </tr>\n",
       "  </thead>\n",
       "  <tbody>\n",
       "    <tr>\n",
       "      <th>0</th>\n",
       "      <td>H196</td>\n",
       "      <td>1</td>\n",
       "      <td>11.8</td>\n",
       "    </tr>\n",
       "    <tr>\n",
       "      <th>1</th>\n",
       "      <td>H196</td>\n",
       "      <td>2</td>\n",
       "      <td>11.4</td>\n",
       "    </tr>\n",
       "    <tr>\n",
       "      <th>2</th>\n",
       "      <td>H196</td>\n",
       "      <td>3</td>\n",
       "      <td>11.1</td>\n",
       "    </tr>\n",
       "    <tr>\n",
       "      <th>3</th>\n",
       "      <td>H196</td>\n",
       "      <td>4</td>\n",
       "      <td>10.8</td>\n",
       "    </tr>\n",
       "    <tr>\n",
       "      <th>4</th>\n",
       "      <td>H196</td>\n",
       "      <td>5</td>\n",
       "      <td>10.6</td>\n",
       "    </tr>\n",
       "    <tr>\n",
       "      <th>...</th>\n",
       "      <td>...</td>\n",
       "      <td>...</td>\n",
       "      <td>...</td>\n",
       "    </tr>\n",
       "    <tr>\n",
       "      <th>4027</th>\n",
       "      <td>H413</td>\n",
       "      <td>1004</td>\n",
       "      <td>99.0</td>\n",
       "    </tr>\n",
       "    <tr>\n",
       "      <th>4028</th>\n",
       "      <td>H413</td>\n",
       "      <td>1005</td>\n",
       "      <td>88.0</td>\n",
       "    </tr>\n",
       "    <tr>\n",
       "      <th>4029</th>\n",
       "      <td>H413</td>\n",
       "      <td>1006</td>\n",
       "      <td>47.0</td>\n",
       "    </tr>\n",
       "    <tr>\n",
       "      <th>4030</th>\n",
       "      <td>H413</td>\n",
       "      <td>1007</td>\n",
       "      <td>41.0</td>\n",
       "    </tr>\n",
       "    <tr>\n",
       "      <th>4031</th>\n",
       "      <td>H413</td>\n",
       "      <td>1008</td>\n",
       "      <td>34.0</td>\n",
       "    </tr>\n",
       "  </tbody>\n",
       "</table>\n",
       "<p>4032 rows × 3 columns</p>\n",
       "</div>"
      ],
      "text/plain": [
       "     unique_id    ds     y\n",
       "0         H196     1  11.8\n",
       "1         H196     2  11.4\n",
       "2         H196     3  11.1\n",
       "3         H196     4  10.8\n",
       "4         H196     5  10.6\n",
       "...        ...   ...   ...\n",
       "4027      H413  1004  99.0\n",
       "4028      H413  1005  88.0\n",
       "4029      H413  1006  47.0\n",
       "4030      H413  1007  41.0\n",
       "4031      H413  1008  34.0\n",
       "\n",
       "[4032 rows x 3 columns]"
      ]
     },
     "execution_count": null,
     "metadata": {},
     "output_type": "execute_result"
    }
   ],
   "source": [
    "await M4.async_download('data', group='Hourly')\n",
    "df, *_ = M4.load('data', 'Hourly')\n",
    "uids = df['unique_id'].unique()\n",
    "random.seed(0)\n",
    "sample_uids = random.choices(uids, k=4)\n",
    "df = df[df['unique_id'].isin(sample_uids)].reset_index(drop=True)\n",
    "df['ds'] = df['ds'].astype('int64')\n",
    "df"
   ]
  },
  {
   "cell_type": "markdown",
   "id": "1583105f-f4c6-44a7-a2db-d2aa2d590c34",
   "metadata": {},
   "source": [
    "## EDA"
   ]
  },
  {
   "cell_type": "markdown",
   "id": "cccb157c-052d-4b55-84c3-a8e0bb0a2356",
   "metadata": {},
   "source": [
    "We'll take a look at our series to get ideas for transformations and features."
   ]
  },
  {
   "cell_type": "code",
   "execution_count": null,
   "id": "1b9587c4-3765-4891-9f56-5e45b7605ada",
   "metadata": {},
   "outputs": [],
   "source": [
    "fig = plot_series(df, max_insample_length=24 * 14)"
   ]
  },
  {
   "cell_type": "code",
   "execution_count": null,
   "id": "6c3f8c45-add2-44ba-9bf5-8b24185fec89",
   "metadata": {},
   "outputs": [],
   "source": [
    "#| hide\n",
    "fig.savefig('../../figs/end_to_end_walkthrough__eda.png', bbox_inches='tight')"
   ]
  },
  {
   "cell_type": "markdown",
   "id": "2284936b-ac30-4b4b-b7c4-afa2b4059dc2",
   "metadata": {},
   "source": [
    "![](../../figs/end_to_end_walkthrough__eda.png)"
   ]
  },
  {
   "cell_type": "markdown",
   "id": "81fae3e1-deb4-4c46-8c4a-b789ab797bd3",
   "metadata": {},
   "source": [
    "We can use the `MLForecast.preprocess` method to explore different transformations. It looks like these series have a strong seasonality on the hour of the day, so we can subtract the value from the same hour in the previous day to remove it. This can be done with the `mlforecast.target_transforms.Differences` transformer, which we pass through `target_transforms`."
   ]
  },
  {
   "cell_type": "code",
   "execution_count": null,
   "id": "79dcb18b-4472-46f0-ae99-d839033ca048",
   "metadata": {},
   "outputs": [],
   "source": [
    "from mlforecast import MLForecast\n",
    "from mlforecast.target_transforms import Differences"
   ]
  },
  {
   "cell_type": "code",
   "execution_count": null,
   "id": "99de8cda",
   "metadata": {},
   "outputs": [
    {
     "data": {
      "text/html": [
       "<div>\n",
       "<style scoped>\n",
       "    .dataframe tbody tr th:only-of-type {\n",
       "        vertical-align: middle;\n",
       "    }\n",
       "\n",
       "    .dataframe tbody tr th {\n",
       "        vertical-align: top;\n",
       "    }\n",
       "\n",
       "    .dataframe thead th {\n",
       "        text-align: right;\n",
       "    }\n",
       "</style>\n",
       "<table border=\"1\" class=\"dataframe\">\n",
       "  <thead>\n",
       "    <tr style=\"text-align: right;\">\n",
       "      <th></th>\n",
       "      <th>unique_id</th>\n",
       "      <th>ds</th>\n",
       "      <th>y</th>\n",
       "    </tr>\n",
       "  </thead>\n",
       "  <tbody>\n",
       "    <tr>\n",
       "      <th>24</th>\n",
       "      <td>H196</td>\n",
       "      <td>25</td>\n",
       "      <td>0.3</td>\n",
       "    </tr>\n",
       "    <tr>\n",
       "      <th>25</th>\n",
       "      <td>H196</td>\n",
       "      <td>26</td>\n",
       "      <td>0.3</td>\n",
       "    </tr>\n",
       "    <tr>\n",
       "      <th>26</th>\n",
       "      <td>H196</td>\n",
       "      <td>27</td>\n",
       "      <td>0.1</td>\n",
       "    </tr>\n",
       "    <tr>\n",
       "      <th>27</th>\n",
       "      <td>H196</td>\n",
       "      <td>28</td>\n",
       "      <td>0.2</td>\n",
       "    </tr>\n",
       "    <tr>\n",
       "      <th>28</th>\n",
       "      <td>H196</td>\n",
       "      <td>29</td>\n",
       "      <td>0.2</td>\n",
       "    </tr>\n",
       "    <tr>\n",
       "      <th>...</th>\n",
       "      <td>...</td>\n",
       "      <td>...</td>\n",
       "      <td>...</td>\n",
       "    </tr>\n",
       "    <tr>\n",
       "      <th>4027</th>\n",
       "      <td>H413</td>\n",
       "      <td>1004</td>\n",
       "      <td>39.0</td>\n",
       "    </tr>\n",
       "    <tr>\n",
       "      <th>4028</th>\n",
       "      <td>H413</td>\n",
       "      <td>1005</td>\n",
       "      <td>55.0</td>\n",
       "    </tr>\n",
       "    <tr>\n",
       "      <th>4029</th>\n",
       "      <td>H413</td>\n",
       "      <td>1006</td>\n",
       "      <td>14.0</td>\n",
       "    </tr>\n",
       "    <tr>\n",
       "      <th>4030</th>\n",
       "      <td>H413</td>\n",
       "      <td>1007</td>\n",
       "      <td>3.0</td>\n",
       "    </tr>\n",
       "    <tr>\n",
       "      <th>4031</th>\n",
       "      <td>H413</td>\n",
       "      <td>1008</td>\n",
       "      <td>4.0</td>\n",
       "    </tr>\n",
       "  </tbody>\n",
       "</table>\n",
       "<p>3936 rows × 3 columns</p>\n",
       "</div>"
      ],
      "text/plain": [
       "     unique_id    ds     y\n",
       "24        H196    25   0.3\n",
       "25        H196    26   0.3\n",
       "26        H196    27   0.1\n",
       "27        H196    28   0.2\n",
       "28        H196    29   0.2\n",
       "...        ...   ...   ...\n",
       "4027      H413  1004  39.0\n",
       "4028      H413  1005  55.0\n",
       "4029      H413  1006  14.0\n",
       "4030      H413  1007   3.0\n",
       "4031      H413  1008   4.0\n",
       "\n",
       "[3936 rows x 3 columns]"
      ]
     },
     "execution_count": null,
     "metadata": {},
     "output_type": "execute_result"
    }
   ],
   "source": [
    "fcst = MLForecast(\n",
    "    models=[],  # we're not interested in modeling yet\n",
    "    freq=1,  # our series have integer timestamps, so we'll just add 1 in every timestep\n",
    "    target_transforms=[Differences([24])],\n",
    ")\n",
    "prep = fcst.preprocess(df)\n",
    "prep"
   ]
  },
  {
   "cell_type": "markdown",
   "id": "3701d934-6be6-4bd4-a3c3-d2be39af641c",
   "metadata": {},
   "source": [
    "This has subtacted the lag 24 from each value, we can see what our series look like now."
   ]
  },
  {
   "cell_type": "code",
   "execution_count": null,
   "id": "a7a70560-e483-4b16-8a60-12dbc30363b7",
   "metadata": {},
   "outputs": [],
   "source": [
    "fig = plot_series(prep)"
   ]
  },
  {
   "cell_type": "code",
   "execution_count": null,
   "id": "ec5116c3-6740-498e-95af-e8bdde4cdd9a",
   "metadata": {},
   "outputs": [],
   "source": [
    "#| hide\n",
    "fig.savefig('../../figs/end_to_end_walkthrough__differences.png', bbox_inches='tight')"
   ]
  },
  {
   "cell_type": "markdown",
   "id": "8ab507ad-f2a8-4dde-87ad-5b102c91da0b",
   "metadata": {},
   "source": [
    "![](../../figs/end_to_end_walkthrough__differences.png)"
   ]
  },
  {
   "cell_type": "markdown",
   "id": "b2beafc8-b541-4a0d-9ca4-3c3ff88e22dd",
   "metadata": {},
   "source": [
    "## Adding features"
   ]
  },
  {
   "cell_type": "markdown",
   "id": "56cf0da7-d503-49df-bac8-2d37da36daaa",
   "metadata": {},
   "source": [
    "### Lags"
   ]
  },
  {
   "cell_type": "markdown",
   "id": "549ab7a5-4cbb-4b4c-a922-98aa521d83da",
   "metadata": {},
   "source": [
    "Looks like the seasonality is gone, we can now try adding some lag features."
   ]
  },
  {
   "cell_type": "code",
   "execution_count": null,
   "id": "61ecd5cf-bba6-422b-9e0d-1b01f13580c1",
   "metadata": {},
   "outputs": [
    {
     "data": {
      "text/html": [
       "<div>\n",
       "<style scoped>\n",
       "    .dataframe tbody tr th:only-of-type {\n",
       "        vertical-align: middle;\n",
       "    }\n",
       "\n",
       "    .dataframe tbody tr th {\n",
       "        vertical-align: top;\n",
       "    }\n",
       "\n",
       "    .dataframe thead th {\n",
       "        text-align: right;\n",
       "    }\n",
       "</style>\n",
       "<table border=\"1\" class=\"dataframe\">\n",
       "  <thead>\n",
       "    <tr style=\"text-align: right;\">\n",
       "      <th></th>\n",
       "      <th>unique_id</th>\n",
       "      <th>ds</th>\n",
       "      <th>y</th>\n",
       "      <th>lag1</th>\n",
       "      <th>lag24</th>\n",
       "    </tr>\n",
       "  </thead>\n",
       "  <tbody>\n",
       "    <tr>\n",
       "      <th>48</th>\n",
       "      <td>H196</td>\n",
       "      <td>49</td>\n",
       "      <td>0.1</td>\n",
       "      <td>0.1</td>\n",
       "      <td>0.3</td>\n",
       "    </tr>\n",
       "    <tr>\n",
       "      <th>49</th>\n",
       "      <td>H196</td>\n",
       "      <td>50</td>\n",
       "      <td>0.1</td>\n",
       "      <td>0.1</td>\n",
       "      <td>0.3</td>\n",
       "    </tr>\n",
       "    <tr>\n",
       "      <th>50</th>\n",
       "      <td>H196</td>\n",
       "      <td>51</td>\n",
       "      <td>0.2</td>\n",
       "      <td>0.1</td>\n",
       "      <td>0.1</td>\n",
       "    </tr>\n",
       "    <tr>\n",
       "      <th>51</th>\n",
       "      <td>H196</td>\n",
       "      <td>52</td>\n",
       "      <td>0.1</td>\n",
       "      <td>0.2</td>\n",
       "      <td>0.2</td>\n",
       "    </tr>\n",
       "    <tr>\n",
       "      <th>52</th>\n",
       "      <td>H196</td>\n",
       "      <td>53</td>\n",
       "      <td>0.1</td>\n",
       "      <td>0.1</td>\n",
       "      <td>0.2</td>\n",
       "    </tr>\n",
       "    <tr>\n",
       "      <th>...</th>\n",
       "      <td>...</td>\n",
       "      <td>...</td>\n",
       "      <td>...</td>\n",
       "      <td>...</td>\n",
       "      <td>...</td>\n",
       "    </tr>\n",
       "    <tr>\n",
       "      <th>4027</th>\n",
       "      <td>H413</td>\n",
       "      <td>1004</td>\n",
       "      <td>39.0</td>\n",
       "      <td>29.0</td>\n",
       "      <td>1.0</td>\n",
       "    </tr>\n",
       "    <tr>\n",
       "      <th>4028</th>\n",
       "      <td>H413</td>\n",
       "      <td>1005</td>\n",
       "      <td>55.0</td>\n",
       "      <td>39.0</td>\n",
       "      <td>-25.0</td>\n",
       "    </tr>\n",
       "    <tr>\n",
       "      <th>4029</th>\n",
       "      <td>H413</td>\n",
       "      <td>1006</td>\n",
       "      <td>14.0</td>\n",
       "      <td>55.0</td>\n",
       "      <td>-20.0</td>\n",
       "    </tr>\n",
       "    <tr>\n",
       "      <th>4030</th>\n",
       "      <td>H413</td>\n",
       "      <td>1007</td>\n",
       "      <td>3.0</td>\n",
       "      <td>14.0</td>\n",
       "      <td>0.0</td>\n",
       "    </tr>\n",
       "    <tr>\n",
       "      <th>4031</th>\n",
       "      <td>H413</td>\n",
       "      <td>1008</td>\n",
       "      <td>4.0</td>\n",
       "      <td>3.0</td>\n",
       "      <td>-16.0</td>\n",
       "    </tr>\n",
       "  </tbody>\n",
       "</table>\n",
       "<p>3840 rows × 5 columns</p>\n",
       "</div>"
      ],
      "text/plain": [
       "     unique_id    ds     y  lag1  lag24\n",
       "48        H196    49   0.1   0.1    0.3\n",
       "49        H196    50   0.1   0.1    0.3\n",
       "50        H196    51   0.2   0.1    0.1\n",
       "51        H196    52   0.1   0.2    0.2\n",
       "52        H196    53   0.1   0.1    0.2\n",
       "...        ...   ...   ...   ...    ...\n",
       "4027      H413  1004  39.0  29.0    1.0\n",
       "4028      H413  1005  55.0  39.0  -25.0\n",
       "4029      H413  1006  14.0  55.0  -20.0\n",
       "4030      H413  1007   3.0  14.0    0.0\n",
       "4031      H413  1008   4.0   3.0  -16.0\n",
       "\n",
       "[3840 rows x 5 columns]"
      ]
     },
     "execution_count": null,
     "metadata": {},
     "output_type": "execute_result"
    }
   ],
   "source": [
    "fcst = MLForecast(\n",
    "    models=[],\n",
    "    freq=1,\n",
    "    lags=[1, 24],\n",
    "    target_transforms=[Differences([24])],    \n",
    ")\n",
    "prep = fcst.preprocess(df)\n",
    "prep"
   ]
  },
  {
   "cell_type": "code",
   "execution_count": null,
   "id": "d555c355-1a93-4962-aa02-fc4c59e787f8",
   "metadata": {},
   "outputs": [
    {
     "data": {
      "text/plain": [
       "y        1.000000\n",
       "lag1     0.622531\n",
       "lag24   -0.234268\n",
       "Name: y, dtype: float64"
      ]
     },
     "execution_count": null,
     "metadata": {},
     "output_type": "execute_result"
    }
   ],
   "source": [
    "prep.drop(columns=['unique_id', 'ds']).corr()['y']"
   ]
  },
  {
   "cell_type": "markdown",
   "id": "1f808c34-c78e-43f3-8c33-898088873e44",
   "metadata": {},
   "source": [
    "### Lag transforms"
   ]
  },
  {
   "cell_type": "markdown",
   "id": "d6f6c0f2-2441-4360-8d63-fbd2cd7fc015",
   "metadata": {},
   "source": [
    "Lag transforms are defined as a dictionary where the keys are the lags and the values are the transformations that we want to apply to that lag. The lag transformations can be either objects from the `mlforecast.lag_transforms` module or [numba](http://numba.pydata.org/) jitted functions (so that computing the features doesn't become a bottleneck and we can bypass the GIL when using multithreading), we have some implemented in the [window-ops package](https://github.com/jmoralez/window_ops) but you can also implement your own."
   ]
  },
  {
   "cell_type": "code",
   "execution_count": null,
   "id": "24682833-18e1-4ebd-8fb4-de7a8e3001b1",
   "metadata": {},
   "outputs": [],
   "source": [
    "from mlforecast.lag_transforms import ExpandingMean, RollingMean\n",
    "from numba import njit\n",
    "from window_ops.rolling import rolling_mean"
   ]
  },
  {
   "cell_type": "code",
   "execution_count": null,
   "id": "b61f720a",
   "metadata": {},
   "outputs": [
    {
     "data": {
      "text/html": [
       "<div>\n",
       "<style scoped>\n",
       "    .dataframe tbody tr th:only-of-type {\n",
       "        vertical-align: middle;\n",
       "    }\n",
       "\n",
       "    .dataframe tbody tr th {\n",
       "        vertical-align: top;\n",
       "    }\n",
       "\n",
       "    .dataframe thead th {\n",
       "        text-align: right;\n",
       "    }\n",
       "</style>\n",
       "<table border=\"1\" class=\"dataframe\">\n",
       "  <thead>\n",
       "    <tr style=\"text-align: right;\">\n",
       "      <th></th>\n",
       "      <th>unique_id</th>\n",
       "      <th>ds</th>\n",
       "      <th>y</th>\n",
       "      <th>expanding_mean_lag1</th>\n",
       "      <th>rolling_mean_lag24_window_size48</th>\n",
       "      <th>rolling_mean_48_lag24</th>\n",
       "    </tr>\n",
       "  </thead>\n",
       "  <tbody>\n",
       "    <tr>\n",
       "      <th>95</th>\n",
       "      <td>H196</td>\n",
       "      <td>96</td>\n",
       "      <td>0.1</td>\n",
       "      <td>0.174648</td>\n",
       "      <td>0.150000</td>\n",
       "      <td>0.150000</td>\n",
       "    </tr>\n",
       "    <tr>\n",
       "      <th>96</th>\n",
       "      <td>H196</td>\n",
       "      <td>97</td>\n",
       "      <td>0.3</td>\n",
       "      <td>0.173611</td>\n",
       "      <td>0.145833</td>\n",
       "      <td>0.145833</td>\n",
       "    </tr>\n",
       "    <tr>\n",
       "      <th>97</th>\n",
       "      <td>H196</td>\n",
       "      <td>98</td>\n",
       "      <td>0.3</td>\n",
       "      <td>0.175342</td>\n",
       "      <td>0.141667</td>\n",
       "      <td>0.141667</td>\n",
       "    </tr>\n",
       "    <tr>\n",
       "      <th>98</th>\n",
       "      <td>H196</td>\n",
       "      <td>99</td>\n",
       "      <td>0.3</td>\n",
       "      <td>0.177027</td>\n",
       "      <td>0.141667</td>\n",
       "      <td>0.141667</td>\n",
       "    </tr>\n",
       "    <tr>\n",
       "      <th>99</th>\n",
       "      <td>H196</td>\n",
       "      <td>100</td>\n",
       "      <td>0.3</td>\n",
       "      <td>0.178667</td>\n",
       "      <td>0.141667</td>\n",
       "      <td>0.141667</td>\n",
       "    </tr>\n",
       "    <tr>\n",
       "      <th>...</th>\n",
       "      <td>...</td>\n",
       "      <td>...</td>\n",
       "      <td>...</td>\n",
       "      <td>...</td>\n",
       "      <td>...</td>\n",
       "      <td>...</td>\n",
       "    </tr>\n",
       "    <tr>\n",
       "      <th>4027</th>\n",
       "      <td>H413</td>\n",
       "      <td>1004</td>\n",
       "      <td>39.0</td>\n",
       "      <td>0.242084</td>\n",
       "      <td>3.437500</td>\n",
       "      <td>3.437500</td>\n",
       "    </tr>\n",
       "    <tr>\n",
       "      <th>4028</th>\n",
       "      <td>H413</td>\n",
       "      <td>1005</td>\n",
       "      <td>55.0</td>\n",
       "      <td>0.281633</td>\n",
       "      <td>2.708333</td>\n",
       "      <td>2.708333</td>\n",
       "    </tr>\n",
       "    <tr>\n",
       "      <th>4029</th>\n",
       "      <td>H413</td>\n",
       "      <td>1006</td>\n",
       "      <td>14.0</td>\n",
       "      <td>0.337411</td>\n",
       "      <td>2.125000</td>\n",
       "      <td>2.125000</td>\n",
       "    </tr>\n",
       "    <tr>\n",
       "      <th>4030</th>\n",
       "      <td>H413</td>\n",
       "      <td>1007</td>\n",
       "      <td>3.0</td>\n",
       "      <td>0.351324</td>\n",
       "      <td>1.770833</td>\n",
       "      <td>1.770833</td>\n",
       "    </tr>\n",
       "    <tr>\n",
       "      <th>4031</th>\n",
       "      <td>H413</td>\n",
       "      <td>1008</td>\n",
       "      <td>4.0</td>\n",
       "      <td>0.354018</td>\n",
       "      <td>1.208333</td>\n",
       "      <td>1.208333</td>\n",
       "    </tr>\n",
       "  </tbody>\n",
       "</table>\n",
       "<p>3652 rows × 6 columns</p>\n",
       "</div>"
      ],
      "text/plain": [
       "     unique_id    ds     y  expanding_mean_lag1  \\\n",
       "95        H196    96   0.1             0.174648   \n",
       "96        H196    97   0.3             0.173611   \n",
       "97        H196    98   0.3             0.175342   \n",
       "98        H196    99   0.3             0.177027   \n",
       "99        H196   100   0.3             0.178667   \n",
       "...        ...   ...   ...                  ...   \n",
       "4027      H413  1004  39.0             0.242084   \n",
       "4028      H413  1005  55.0             0.281633   \n",
       "4029      H413  1006  14.0             0.337411   \n",
       "4030      H413  1007   3.0             0.351324   \n",
       "4031      H413  1008   4.0             0.354018   \n",
       "\n",
       "      rolling_mean_lag24_window_size48  rolling_mean_48_lag24  \n",
       "95                            0.150000               0.150000  \n",
       "96                            0.145833               0.145833  \n",
       "97                            0.141667               0.141667  \n",
       "98                            0.141667               0.141667  \n",
       "99                            0.141667               0.141667  \n",
       "...                                ...                    ...  \n",
       "4027                          3.437500               3.437500  \n",
       "4028                          2.708333               2.708333  \n",
       "4029                          2.125000               2.125000  \n",
       "4030                          1.770833               1.770833  \n",
       "4031                          1.208333               1.208333  \n",
       "\n",
       "[3652 rows x 6 columns]"
      ]
     },
     "execution_count": null,
     "metadata": {},
     "output_type": "execute_result"
    }
   ],
   "source": [
    "@njit\n",
    "def rolling_mean_48(x):\n",
    "    return rolling_mean(x, window_size=48)\n",
    "\n",
    "\n",
    "fcst = MLForecast(\n",
    "    models=[],\n",
    "    freq=1,\n",
    "    target_transforms=[Differences([24])],    \n",
    "    lag_transforms={\n",
    "        1: [ExpandingMean()],\n",
    "        24: [RollingMean(window_size=48), rolling_mean_48],\n",
    "    },\n",
    ")\n",
    "prep = fcst.preprocess(df)\n",
    "prep"
   ]
  },
  {
   "cell_type": "markdown",
   "id": "29519ac1-df32-4951-a429-93e7facc0357",
   "metadata": {},
   "source": [
    "You can see that both approaches get to the same result, you can use whichever one you feel most comfortable with."
   ]
  },
  {
   "cell_type": "markdown",
   "id": "00dd0c7e-d766-43fc-81f8-f0188319fdb6",
   "metadata": {},
   "source": [
    "### Date features"
   ]
  },
  {
   "cell_type": "markdown",
   "id": "b1931fc9-f489-4fd3-a16b-d72fcedcad10",
   "metadata": {},
   "source": [
    "If your time column is made of timestamps then it might make sense to extract features like week, dayofweek, quarter, etc. You can do that by passing a list of strings with [pandas time/date components](https://pandas.pydata.org/docs/user_guide/timeseries.html#time-date-components). You can also pass functions that will take the time column as input, as we'll show here."
   ]
  },
  {
   "cell_type": "code",
   "execution_count": null,
   "id": "29dd1fb6-7f6c-443c-8328-89873545c18e",
   "metadata": {},
   "outputs": [
    {
     "data": {
      "text/html": [
       "<div>\n",
       "<style scoped>\n",
       "    .dataframe tbody tr th:only-of-type {\n",
       "        vertical-align: middle;\n",
       "    }\n",
       "\n",
       "    .dataframe tbody tr th {\n",
       "        vertical-align: top;\n",
       "    }\n",
       "\n",
       "    .dataframe thead th {\n",
       "        text-align: right;\n",
       "    }\n",
       "</style>\n",
       "<table border=\"1\" class=\"dataframe\">\n",
       "  <thead>\n",
       "    <tr style=\"text-align: right;\">\n",
       "      <th></th>\n",
       "      <th>unique_id</th>\n",
       "      <th>ds</th>\n",
       "      <th>y</th>\n",
       "      <th>hour_index</th>\n",
       "    </tr>\n",
       "  </thead>\n",
       "  <tbody>\n",
       "    <tr>\n",
       "      <th>24</th>\n",
       "      <td>H196</td>\n",
       "      <td>25</td>\n",
       "      <td>0.3</td>\n",
       "      <td>1</td>\n",
       "    </tr>\n",
       "    <tr>\n",
       "      <th>25</th>\n",
       "      <td>H196</td>\n",
       "      <td>26</td>\n",
       "      <td>0.3</td>\n",
       "      <td>2</td>\n",
       "    </tr>\n",
       "    <tr>\n",
       "      <th>26</th>\n",
       "      <td>H196</td>\n",
       "      <td>27</td>\n",
       "      <td>0.1</td>\n",
       "      <td>3</td>\n",
       "    </tr>\n",
       "    <tr>\n",
       "      <th>27</th>\n",
       "      <td>H196</td>\n",
       "      <td>28</td>\n",
       "      <td>0.2</td>\n",
       "      <td>4</td>\n",
       "    </tr>\n",
       "    <tr>\n",
       "      <th>28</th>\n",
       "      <td>H196</td>\n",
       "      <td>29</td>\n",
       "      <td>0.2</td>\n",
       "      <td>5</td>\n",
       "    </tr>\n",
       "    <tr>\n",
       "      <th>...</th>\n",
       "      <td>...</td>\n",
       "      <td>...</td>\n",
       "      <td>...</td>\n",
       "      <td>...</td>\n",
       "    </tr>\n",
       "    <tr>\n",
       "      <th>4027</th>\n",
       "      <td>H413</td>\n",
       "      <td>1004</td>\n",
       "      <td>39.0</td>\n",
       "      <td>20</td>\n",
       "    </tr>\n",
       "    <tr>\n",
       "      <th>4028</th>\n",
       "      <td>H413</td>\n",
       "      <td>1005</td>\n",
       "      <td>55.0</td>\n",
       "      <td>21</td>\n",
       "    </tr>\n",
       "    <tr>\n",
       "      <th>4029</th>\n",
       "      <td>H413</td>\n",
       "      <td>1006</td>\n",
       "      <td>14.0</td>\n",
       "      <td>22</td>\n",
       "    </tr>\n",
       "    <tr>\n",
       "      <th>4030</th>\n",
       "      <td>H413</td>\n",
       "      <td>1007</td>\n",
       "      <td>3.0</td>\n",
       "      <td>23</td>\n",
       "    </tr>\n",
       "    <tr>\n",
       "      <th>4031</th>\n",
       "      <td>H413</td>\n",
       "      <td>1008</td>\n",
       "      <td>4.0</td>\n",
       "      <td>0</td>\n",
       "    </tr>\n",
       "  </tbody>\n",
       "</table>\n",
       "<p>3936 rows × 4 columns</p>\n",
       "</div>"
      ],
      "text/plain": [
       "     unique_id    ds     y  hour_index\n",
       "24        H196    25   0.3           1\n",
       "25        H196    26   0.3           2\n",
       "26        H196    27   0.1           3\n",
       "27        H196    28   0.2           4\n",
       "28        H196    29   0.2           5\n",
       "...        ...   ...   ...         ...\n",
       "4027      H413  1004  39.0          20\n",
       "4028      H413  1005  55.0          21\n",
       "4029      H413  1006  14.0          22\n",
       "4030      H413  1007   3.0          23\n",
       "4031      H413  1008   4.0           0\n",
       "\n",
       "[3936 rows x 4 columns]"
      ]
     },
     "execution_count": null,
     "metadata": {},
     "output_type": "execute_result"
    }
   ],
   "source": [
    "def hour_index(times):\n",
    "    return times % 24\n",
    "\n",
    "fcst = MLForecast(\n",
    "    models=[],\n",
    "    freq=1,\n",
    "    target_transforms=[Differences([24])],\n",
    "    date_features=[hour_index],\n",
    ")\n",
    "fcst.preprocess(df)"
   ]
  },
  {
   "cell_type": "markdown",
   "id": "692206c6-2f7b-47c2-9600-d57d12e0d39d",
   "metadata": {},
   "source": [
    "### Target transformations"
   ]
  },
  {
   "cell_type": "markdown",
   "id": "7f29f543-ea21-48ca-bb3c-253ceb1be968",
   "metadata": {},
   "source": [
    "If you want to do some transformation to your target before computing the features and then re-apply it after predicting you can use the `target_transforms` argument, which takes a list of transformations. You can find the implemented ones in `mlforecast.target_transforms` or you can implement your own as described in the [target transformations guide](../how-to-guides/target_transforms_guide.html#custom-transformations)."
   ]
  },
  {
   "cell_type": "code",
   "execution_count": null,
   "id": "96bc25ee-7da6-475d-9076-4e15955941fb",
   "metadata": {},
   "outputs": [],
   "source": [
    "from mlforecast.target_transforms import LocalStandardScaler"
   ]
  },
  {
   "cell_type": "code",
   "execution_count": null,
   "id": "82a0f800-0417-4d72-a051-0bfc975afe38",
   "metadata": {},
   "outputs": [
    {
     "data": {
      "text/html": [
       "<div>\n",
       "<style scoped>\n",
       "    .dataframe tbody tr th:only-of-type {\n",
       "        vertical-align: middle;\n",
       "    }\n",
       "\n",
       "    .dataframe tbody tr th {\n",
       "        vertical-align: top;\n",
       "    }\n",
       "\n",
       "    .dataframe thead th {\n",
       "        text-align: right;\n",
       "    }\n",
       "</style>\n",
       "<table border=\"1\" class=\"dataframe\">\n",
       "  <thead>\n",
       "    <tr style=\"text-align: right;\">\n",
       "      <th></th>\n",
       "      <th>unique_id</th>\n",
       "      <th>ds</th>\n",
       "      <th>y</th>\n",
       "      <th>lag1</th>\n",
       "    </tr>\n",
       "  </thead>\n",
       "  <tbody>\n",
       "    <tr>\n",
       "      <th>1</th>\n",
       "      <td>H196</td>\n",
       "      <td>2</td>\n",
       "      <td>-1.493026</td>\n",
       "      <td>-1.383286</td>\n",
       "    </tr>\n",
       "    <tr>\n",
       "      <th>2</th>\n",
       "      <td>H196</td>\n",
       "      <td>3</td>\n",
       "      <td>-1.575331</td>\n",
       "      <td>-1.493026</td>\n",
       "    </tr>\n",
       "    <tr>\n",
       "      <th>3</th>\n",
       "      <td>H196</td>\n",
       "      <td>4</td>\n",
       "      <td>-1.657635</td>\n",
       "      <td>-1.575331</td>\n",
       "    </tr>\n",
       "    <tr>\n",
       "      <th>4</th>\n",
       "      <td>H196</td>\n",
       "      <td>5</td>\n",
       "      <td>-1.712505</td>\n",
       "      <td>-1.657635</td>\n",
       "    </tr>\n",
       "    <tr>\n",
       "      <th>5</th>\n",
       "      <td>H196</td>\n",
       "      <td>6</td>\n",
       "      <td>-1.794810</td>\n",
       "      <td>-1.712505</td>\n",
       "    </tr>\n",
       "    <tr>\n",
       "      <th>...</th>\n",
       "      <td>...</td>\n",
       "      <td>...</td>\n",
       "      <td>...</td>\n",
       "      <td>...</td>\n",
       "    </tr>\n",
       "    <tr>\n",
       "      <th>4027</th>\n",
       "      <td>H413</td>\n",
       "      <td>1004</td>\n",
       "      <td>3.062766</td>\n",
       "      <td>2.425012</td>\n",
       "    </tr>\n",
       "    <tr>\n",
       "      <th>4028</th>\n",
       "      <td>H413</td>\n",
       "      <td>1005</td>\n",
       "      <td>2.523128</td>\n",
       "      <td>3.062766</td>\n",
       "    </tr>\n",
       "    <tr>\n",
       "      <th>4029</th>\n",
       "      <td>H413</td>\n",
       "      <td>1006</td>\n",
       "      <td>0.511751</td>\n",
       "      <td>2.523128</td>\n",
       "    </tr>\n",
       "    <tr>\n",
       "      <th>4030</th>\n",
       "      <td>H413</td>\n",
       "      <td>1007</td>\n",
       "      <td>0.217403</td>\n",
       "      <td>0.511751</td>\n",
       "    </tr>\n",
       "    <tr>\n",
       "      <th>4031</th>\n",
       "      <td>H413</td>\n",
       "      <td>1008</td>\n",
       "      <td>-0.126003</td>\n",
       "      <td>0.217403</td>\n",
       "    </tr>\n",
       "  </tbody>\n",
       "</table>\n",
       "<p>4028 rows × 4 columns</p>\n",
       "</div>"
      ],
      "text/plain": [
       "     unique_id    ds         y      lag1\n",
       "1         H196     2 -1.493026 -1.383286\n",
       "2         H196     3 -1.575331 -1.493026\n",
       "3         H196     4 -1.657635 -1.575331\n",
       "4         H196     5 -1.712505 -1.657635\n",
       "5         H196     6 -1.794810 -1.712505\n",
       "...        ...   ...       ...       ...\n",
       "4027      H413  1004  3.062766  2.425012\n",
       "4028      H413  1005  2.523128  3.062766\n",
       "4029      H413  1006  0.511751  2.523128\n",
       "4030      H413  1007  0.217403  0.511751\n",
       "4031      H413  1008 -0.126003  0.217403\n",
       "\n",
       "[4028 rows x 4 columns]"
      ]
     },
     "execution_count": null,
     "metadata": {},
     "output_type": "execute_result"
    }
   ],
   "source": [
    "fcst = MLForecast(\n",
    "    models=[],\n",
    "    freq=1,\n",
    "    lags=[1],\n",
    "    target_transforms=[LocalStandardScaler()]\n",
    ")\n",
    "fcst.preprocess(df)"
   ]
  },
  {
   "cell_type": "markdown",
   "id": "e6d14614-68c6-4bbf-9f99-6a737733fc57",
   "metadata": {},
   "source": [
    "We can define a naive model to test this"
   ]
  },
  {
   "cell_type": "code",
   "execution_count": null,
   "id": "9f2a67ec-d5d4-425c-b80d-49f4cf79af6d",
   "metadata": {},
   "outputs": [],
   "source": [
    "from sklearn.base import BaseEstimator\n",
    "\n",
    "class Naive(BaseEstimator):\n",
    "    def fit(self, X, y):\n",
    "        return self\n",
    "\n",
    "    def predict(self, X):\n",
    "        return X['lag1']"
   ]
  },
  {
   "cell_type": "code",
   "execution_count": null,
   "id": "95147fff-7c7c-4ed7-9316-e45c7ec9c106",
   "metadata": {},
   "outputs": [
    {
     "data": {
      "text/html": [
       "<div>\n",
       "<style scoped>\n",
       "    .dataframe tbody tr th:only-of-type {\n",
       "        vertical-align: middle;\n",
       "    }\n",
       "\n",
       "    .dataframe tbody tr th {\n",
       "        vertical-align: top;\n",
       "    }\n",
       "\n",
       "    .dataframe thead th {\n",
       "        text-align: right;\n",
       "    }\n",
       "</style>\n",
       "<table border=\"1\" class=\"dataframe\">\n",
       "  <thead>\n",
       "    <tr style=\"text-align: right;\">\n",
       "      <th></th>\n",
       "      <th>unique_id</th>\n",
       "      <th>ds</th>\n",
       "      <th>Naive</th>\n",
       "    </tr>\n",
       "  </thead>\n",
       "  <tbody>\n",
       "    <tr>\n",
       "      <th>0</th>\n",
       "      <td>H196</td>\n",
       "      <td>1009</td>\n",
       "      <td>16.8</td>\n",
       "    </tr>\n",
       "    <tr>\n",
       "      <th>1</th>\n",
       "      <td>H256</td>\n",
       "      <td>1009</td>\n",
       "      <td>13.4</td>\n",
       "    </tr>\n",
       "    <tr>\n",
       "      <th>2</th>\n",
       "      <td>H381</td>\n",
       "      <td>1009</td>\n",
       "      <td>207.0</td>\n",
       "    </tr>\n",
       "    <tr>\n",
       "      <th>3</th>\n",
       "      <td>H413</td>\n",
       "      <td>1009</td>\n",
       "      <td>34.0</td>\n",
       "    </tr>\n",
       "  </tbody>\n",
       "</table>\n",
       "</div>"
      ],
      "text/plain": [
       "  unique_id    ds  Naive\n",
       "0      H196  1009   16.8\n",
       "1      H256  1009   13.4\n",
       "2      H381  1009  207.0\n",
       "3      H413  1009   34.0"
      ]
     },
     "execution_count": null,
     "metadata": {},
     "output_type": "execute_result"
    }
   ],
   "source": [
    "fcst = MLForecast(\n",
    "    models=[Naive()],\n",
    "    freq=1,\n",
    "    lags=[1],\n",
    "    target_transforms=[LocalStandardScaler()]\n",
    ")\n",
    "fcst.fit(df)\n",
    "preds = fcst.predict(1)\n",
    "preds"
   ]
  },
  {
   "cell_type": "markdown",
   "id": "6fa9ade7-263a-43c2-9787-1fc5373a2bfc",
   "metadata": {},
   "source": [
    "We compare this with the last values of our serie"
   ]
  },
  {
   "cell_type": "code",
   "execution_count": null,
   "id": "4c4f0a96-a4b8-48c1-a79c-607ddf38cfb0",
   "metadata": {},
   "outputs": [
    {
     "data": {
      "text/html": [
       "<div>\n",
       "<style scoped>\n",
       "    .dataframe tbody tr th:only-of-type {\n",
       "        vertical-align: middle;\n",
       "    }\n",
       "\n",
       "    .dataframe tbody tr th {\n",
       "        vertical-align: top;\n",
       "    }\n",
       "\n",
       "    .dataframe thead th {\n",
       "        text-align: right;\n",
       "    }\n",
       "</style>\n",
       "<table border=\"1\" class=\"dataframe\">\n",
       "  <thead>\n",
       "    <tr style=\"text-align: right;\">\n",
       "      <th></th>\n",
       "      <th>unique_id</th>\n",
       "      <th>ds</th>\n",
       "      <th>y</th>\n",
       "    </tr>\n",
       "  </thead>\n",
       "  <tbody>\n",
       "    <tr>\n",
       "      <th>1007</th>\n",
       "      <td>H196</td>\n",
       "      <td>1008</td>\n",
       "      <td>16.8</td>\n",
       "    </tr>\n",
       "    <tr>\n",
       "      <th>2015</th>\n",
       "      <td>H256</td>\n",
       "      <td>1008</td>\n",
       "      <td>13.4</td>\n",
       "    </tr>\n",
       "    <tr>\n",
       "      <th>3023</th>\n",
       "      <td>H381</td>\n",
       "      <td>1008</td>\n",
       "      <td>207.0</td>\n",
       "    </tr>\n",
       "    <tr>\n",
       "      <th>4031</th>\n",
       "      <td>H413</td>\n",
       "      <td>1008</td>\n",
       "      <td>34.0</td>\n",
       "    </tr>\n",
       "  </tbody>\n",
       "</table>\n",
       "</div>"
      ],
      "text/plain": [
       "     unique_id    ds      y\n",
       "1007      H196  1008   16.8\n",
       "2015      H256  1008   13.4\n",
       "3023      H381  1008  207.0\n",
       "4031      H413  1008   34.0"
      ]
     },
     "execution_count": null,
     "metadata": {},
     "output_type": "execute_result"
    }
   ],
   "source": [
    "last_vals = df.groupby('unique_id').tail(1)\n",
    "last_vals"
   ]
  },
  {
   "cell_type": "code",
   "execution_count": null,
   "id": "d95f87ca-ce35-4756-b4d4-34a6ef17bd01",
   "metadata": {},
   "outputs": [],
   "source": [
    "import numpy as np"
   ]
  },
  {
   "cell_type": "code",
   "execution_count": null,
   "id": "ef280687-ba68-4fb0-8c8b-1e3ff13b0056",
   "metadata": {},
   "outputs": [],
   "source": [
    "np.testing.assert_allclose(preds['Naive'], last_vals['y'])"
   ]
  },
  {
   "cell_type": "markdown",
   "id": "60c227c8-8c1f-4b17-94b1-a998eba2076c",
   "metadata": {},
   "source": [
    "## Training"
   ]
  },
  {
   "cell_type": "markdown",
   "id": "628dfeea-807c-4222-8064-a23f4d39b73d",
   "metadata": {},
   "source": [
    "Once you've decided the features, transformations and models that you want to use you can use the `MLForecast.fit` method instead, which will do the preprocessing and then train the models. The models can be specified as a list (which will name them by using their class name and an index if there are repeated classes) or as a dictionary where the keys are the names you want to give to the models, i.e. the name of the column that will hold their predictions, and the values are the models themselves."
   ]
  },
  {
   "cell_type": "code",
   "execution_count": null,
   "id": "486cbb54-64df-45ae-98ea-4241d4232400",
   "metadata": {},
   "outputs": [],
   "source": [
    "import lightgbm as lgb"
   ]
  },
  {
   "cell_type": "code",
   "execution_count": null,
   "id": "c6c4e57b-f7b6-4471-8697-af7bd604b014",
   "metadata": {},
   "outputs": [
    {
     "data": {
      "text/plain": [
       "MLForecast(models=[avg, q75, q25], freq=1, lag_features=['lag1', 'lag24', 'expanding_mean_lag1', 'rolling_mean_lag24_window_size48'], date_features=[<function hour_index>], num_threads=1)"
      ]
     },
     "execution_count": null,
     "metadata": {},
     "output_type": "execute_result"
    }
   ],
   "source": [
    "lgb_params = {\n",
    "    'verbosity': -1,\n",
    "    'num_leaves': 512,\n",
    "}\n",
    "\n",
    "fcst = MLForecast(\n",
    "    models={\n",
    "        'avg': lgb.LGBMRegressor(**lgb_params),\n",
    "        'q75': lgb.LGBMRegressor(**lgb_params, objective='quantile', alpha=0.75),\n",
    "        'q25': lgb.LGBMRegressor(**lgb_params, objective='quantile', alpha=0.25),\n",
    "    },\n",
    "    freq=1,\n",
    "    target_transforms=[Differences([24])],\n",
    "    lags=[1, 24],\n",
    "    lag_transforms={\n",
    "        1: [ExpandingMean()],\n",
    "        24: [RollingMean(window_size=48)],\n",
    "    },\n",
    "    date_features=[hour_index],\n",
    ")\n",
    "fcst.fit(df)"
   ]
  },
  {
   "cell_type": "markdown",
   "id": "1492c574-5bd3-40a2-ba2d-d92d3557fce3",
   "metadata": {},
   "source": [
    "This computed the features and trained three different models using them. We can now compute our forecasts."
   ]
  },
  {
   "cell_type": "markdown",
   "id": "d08b48b6-7c10-48eb-93de-426fc5229c30",
   "metadata": {},
   "source": [
    "## Forecasting"
   ]
  },
  {
   "cell_type": "code",
   "execution_count": null,
   "id": "e493a24a-da33-44c6-baa5-806c6a81a683",
   "metadata": {},
   "outputs": [
    {
     "data": {
      "text/html": [
       "<div>\n",
       "<style scoped>\n",
       "    .dataframe tbody tr th:only-of-type {\n",
       "        vertical-align: middle;\n",
       "    }\n",
       "\n",
       "    .dataframe tbody tr th {\n",
       "        vertical-align: top;\n",
       "    }\n",
       "\n",
       "    .dataframe thead th {\n",
       "        text-align: right;\n",
       "    }\n",
       "</style>\n",
       "<table border=\"1\" class=\"dataframe\">\n",
       "  <thead>\n",
       "    <tr style=\"text-align: right;\">\n",
       "      <th></th>\n",
       "      <th>unique_id</th>\n",
       "      <th>ds</th>\n",
       "      <th>avg</th>\n",
       "      <th>q75</th>\n",
       "      <th>q25</th>\n",
       "    </tr>\n",
       "  </thead>\n",
       "  <tbody>\n",
       "    <tr>\n",
       "      <th>0</th>\n",
       "      <td>H196</td>\n",
       "      <td>1009</td>\n",
       "      <td>16.295257</td>\n",
       "      <td>16.357148</td>\n",
       "      <td>16.315731</td>\n",
       "    </tr>\n",
       "    <tr>\n",
       "      <th>1</th>\n",
       "      <td>H196</td>\n",
       "      <td>1010</td>\n",
       "      <td>15.910282</td>\n",
       "      <td>16.007322</td>\n",
       "      <td>15.862261</td>\n",
       "    </tr>\n",
       "    <tr>\n",
       "      <th>2</th>\n",
       "      <td>H196</td>\n",
       "      <td>1011</td>\n",
       "      <td>15.728367</td>\n",
       "      <td>15.780183</td>\n",
       "      <td>15.658180</td>\n",
       "    </tr>\n",
       "    <tr>\n",
       "      <th>3</th>\n",
       "      <td>H196</td>\n",
       "      <td>1012</td>\n",
       "      <td>15.468414</td>\n",
       "      <td>15.513598</td>\n",
       "      <td>15.399717</td>\n",
       "    </tr>\n",
       "    <tr>\n",
       "      <th>4</th>\n",
       "      <td>H196</td>\n",
       "      <td>1013</td>\n",
       "      <td>15.081279</td>\n",
       "      <td>15.133848</td>\n",
       "      <td>15.007694</td>\n",
       "    </tr>\n",
       "    <tr>\n",
       "      <th>...</th>\n",
       "      <td>...</td>\n",
       "      <td>...</td>\n",
       "      <td>...</td>\n",
       "      <td>...</td>\n",
       "      <td>...</td>\n",
       "    </tr>\n",
       "    <tr>\n",
       "      <th>187</th>\n",
       "      <td>H413</td>\n",
       "      <td>1052</td>\n",
       "      <td>100.450617</td>\n",
       "      <td>124.211150</td>\n",
       "      <td>47.025017</td>\n",
       "    </tr>\n",
       "    <tr>\n",
       "      <th>188</th>\n",
       "      <td>H413</td>\n",
       "      <td>1053</td>\n",
       "      <td>88.426800</td>\n",
       "      <td>108.303409</td>\n",
       "      <td>44.715380</td>\n",
       "    </tr>\n",
       "    <tr>\n",
       "      <th>189</th>\n",
       "      <td>H413</td>\n",
       "      <td>1054</td>\n",
       "      <td>59.675737</td>\n",
       "      <td>81.859964</td>\n",
       "      <td>19.239462</td>\n",
       "    </tr>\n",
       "    <tr>\n",
       "      <th>190</th>\n",
       "      <td>H413</td>\n",
       "      <td>1055</td>\n",
       "      <td>57.580356</td>\n",
       "      <td>72.703301</td>\n",
       "      <td>21.486674</td>\n",
       "    </tr>\n",
       "    <tr>\n",
       "      <th>191</th>\n",
       "      <td>H413</td>\n",
       "      <td>1056</td>\n",
       "      <td>42.669879</td>\n",
       "      <td>46.018271</td>\n",
       "      <td>24.392357</td>\n",
       "    </tr>\n",
       "  </tbody>\n",
       "</table>\n",
       "<p>192 rows × 5 columns</p>\n",
       "</div>"
      ],
      "text/plain": [
       "    unique_id    ds         avg         q75        q25\n",
       "0        H196  1009   16.295257   16.357148  16.315731\n",
       "1        H196  1010   15.910282   16.007322  15.862261\n",
       "2        H196  1011   15.728367   15.780183  15.658180\n",
       "3        H196  1012   15.468414   15.513598  15.399717\n",
       "4        H196  1013   15.081279   15.133848  15.007694\n",
       "..        ...   ...         ...         ...        ...\n",
       "187      H413  1052  100.450617  124.211150  47.025017\n",
       "188      H413  1053   88.426800  108.303409  44.715380\n",
       "189      H413  1054   59.675737   81.859964  19.239462\n",
       "190      H413  1055   57.580356   72.703301  21.486674\n",
       "191      H413  1056   42.669879   46.018271  24.392357\n",
       "\n",
       "[192 rows x 5 columns]"
      ]
     },
     "execution_count": null,
     "metadata": {},
     "output_type": "execute_result"
    }
   ],
   "source": [
    "preds = fcst.predict(48)\n",
    "preds"
   ]
  },
  {
   "cell_type": "code",
   "execution_count": null,
   "id": "0a0c694a-560b-4fa7-8193-f7c4eb5dba4a",
   "metadata": {},
   "outputs": [],
   "source": [
    "fig = plot_series(df, preds, max_insample_length=24 * 7)"
   ]
  },
  {
   "cell_type": "code",
   "execution_count": null,
   "id": "50b79ccf-1372-4eae-a8eb-6eec1999fea2",
   "metadata": {},
   "outputs": [],
   "source": [
    "#| hide\n",
    "fig.savefig('../../figs/end_to_end_walkthrough__predictions.png', bbox_inches='tight')"
   ]
  },
  {
   "cell_type": "markdown",
   "id": "2977ed1b-5b78-4ec5-a5bf-e91f57b374d6",
   "metadata": {},
   "source": [
    "![](../../figs/end_to_end_walkthrough__predictions.png)"
   ]
  },
  {
   "cell_type": "markdown",
   "id": "dff69d4a-4317-4f8a-80ce-d49374c47a51",
   "metadata": {},
   "source": [
    "## Saving and loading"
   ]
  },
  {
   "cell_type": "markdown",
   "id": "95e13ab5-2498-4381-9a27-db7ac6b529a2",
   "metadata": {},
   "source": [
    "The MLForecast class has the `MLForecast.save` and `MLForecast.load` to store and then load the forecast object."
   ]
  },
  {
   "cell_type": "code",
   "execution_count": null,
   "id": "96cac0a1-8e9d-4b3e-9f44-48fa05acedb4",
   "metadata": {},
   "outputs": [],
   "source": [
    "with tempfile.TemporaryDirectory() as tmpdir:\n",
    "    save_dir = Path(tmpdir) / 'mlforecast'\n",
    "    fcst.save(save_dir)\n",
    "    fcst2 = MLForecast.load(save_dir)\n",
    "    preds2 = fcst2.predict(48)\n",
    "    pd.testing.assert_frame_equal(preds, preds2)"
   ]
  },
  {
   "cell_type": "markdown",
   "id": "765a84e5-c022-480b-879c-ee9ea2a6014c",
   "metadata": {},
   "source": [
    "## Updating series' values"
   ]
  },
  {
   "cell_type": "markdown",
   "id": "0a1058f2-e6e2-4566-aad4-67c45bbbbe69",
   "metadata": {},
   "source": [
    "After you've trained a forecast object you can save and load it with the previous methods. If by the time you want to use it you already know the following values of the target you can use the `MLForecast.update` method to incorporate these, which will allow you to use these new values when computing predictions.\n",
    "\n",
    "* If no new values are provided for a serie that's currently stored, only the previous ones are kept.\n",
    "* If new series are included they are added to the existing ones."
   ]
  },
  {
   "cell_type": "code",
   "execution_count": null,
   "id": "0f23a5b4-ad53-4a7c-a41d-0c6dce12906d",
   "metadata": {},
   "outputs": [
    {
     "data": {
      "text/html": [
       "<div>\n",
       "<style scoped>\n",
       "    .dataframe tbody tr th:only-of-type {\n",
       "        vertical-align: middle;\n",
       "    }\n",
       "\n",
       "    .dataframe tbody tr th {\n",
       "        vertical-align: top;\n",
       "    }\n",
       "\n",
       "    .dataframe thead th {\n",
       "        text-align: right;\n",
       "    }\n",
       "</style>\n",
       "<table border=\"1\" class=\"dataframe\">\n",
       "  <thead>\n",
       "    <tr style=\"text-align: right;\">\n",
       "      <th></th>\n",
       "      <th>unique_id</th>\n",
       "      <th>ds</th>\n",
       "      <th>Naive</th>\n",
       "    </tr>\n",
       "  </thead>\n",
       "  <tbody>\n",
       "    <tr>\n",
       "      <th>0</th>\n",
       "      <td>H196</td>\n",
       "      <td>1009</td>\n",
       "      <td>16.8</td>\n",
       "    </tr>\n",
       "    <tr>\n",
       "      <th>1</th>\n",
       "      <td>H256</td>\n",
       "      <td>1009</td>\n",
       "      <td>13.4</td>\n",
       "    </tr>\n",
       "    <tr>\n",
       "      <th>2</th>\n",
       "      <td>H381</td>\n",
       "      <td>1009</td>\n",
       "      <td>207.0</td>\n",
       "    </tr>\n",
       "    <tr>\n",
       "      <th>3</th>\n",
       "      <td>H413</td>\n",
       "      <td>1009</td>\n",
       "      <td>34.0</td>\n",
       "    </tr>\n",
       "  </tbody>\n",
       "</table>\n",
       "</div>"
      ],
      "text/plain": [
       "  unique_id    ds  Naive\n",
       "0      H196  1009   16.8\n",
       "1      H256  1009   13.4\n",
       "2      H381  1009  207.0\n",
       "3      H413  1009   34.0"
      ]
     },
     "execution_count": null,
     "metadata": {},
     "output_type": "execute_result"
    }
   ],
   "source": [
    "fcst = MLForecast(\n",
    "    models=[Naive()],\n",
    "    freq=1,\n",
    "    lags=[1, 2, 3],\n",
    ")\n",
    "fcst.fit(df)\n",
    "fcst.predict(1)"
   ]
  },
  {
   "cell_type": "code",
   "execution_count": null,
   "id": "8ae967b9-5ef9-4457-91be-c07e2bd730e0",
   "metadata": {},
   "outputs": [
    {
     "data": {
      "text/html": [
       "<div>\n",
       "<style scoped>\n",
       "    .dataframe tbody tr th:only-of-type {\n",
       "        vertical-align: middle;\n",
       "    }\n",
       "\n",
       "    .dataframe tbody tr th {\n",
       "        vertical-align: top;\n",
       "    }\n",
       "\n",
       "    .dataframe thead th {\n",
       "        text-align: right;\n",
       "    }\n",
       "</style>\n",
       "<table border=\"1\" class=\"dataframe\">\n",
       "  <thead>\n",
       "    <tr style=\"text-align: right;\">\n",
       "      <th></th>\n",
       "      <th>unique_id</th>\n",
       "      <th>ds</th>\n",
       "      <th>Naive</th>\n",
       "    </tr>\n",
       "  </thead>\n",
       "  <tbody>\n",
       "    <tr>\n",
       "      <th>0</th>\n",
       "      <td>H196</td>\n",
       "      <td>1010</td>\n",
       "      <td>17.0</td>\n",
       "    </tr>\n",
       "    <tr>\n",
       "      <th>1</th>\n",
       "      <td>H256</td>\n",
       "      <td>1010</td>\n",
       "      <td>14.0</td>\n",
       "    </tr>\n",
       "    <tr>\n",
       "      <th>2</th>\n",
       "      <td>H381</td>\n",
       "      <td>1009</td>\n",
       "      <td>207.0</td>\n",
       "    </tr>\n",
       "    <tr>\n",
       "      <th>3</th>\n",
       "      <td>H413</td>\n",
       "      <td>1009</td>\n",
       "      <td>34.0</td>\n",
       "    </tr>\n",
       "  </tbody>\n",
       "</table>\n",
       "</div>"
      ],
      "text/plain": [
       "  unique_id    ds  Naive\n",
       "0      H196  1010   17.0\n",
       "1      H256  1010   14.0\n",
       "2      H381  1009  207.0\n",
       "3      H413  1009   34.0"
      ]
     },
     "execution_count": null,
     "metadata": {},
     "output_type": "execute_result"
    }
   ],
   "source": [
    "new_values = pd.DataFrame({\n",
    "    'unique_id': ['H196', 'H256'],\n",
    "    'ds': [1009, 1009],\n",
    "    'y': [17.0, 14.0],\n",
    "})\n",
    "fcst.update(new_values)\n",
    "preds = fcst.predict(1)\n",
    "preds"
   ]
  },
  {
   "cell_type": "code",
   "execution_count": null,
   "id": "2a050ead-62af-48bd-a38a-915d22f4cb70",
   "metadata": {},
   "outputs": [],
   "source": [
    "#| hide\n",
    "new_values_with_offset = new_values.copy()\n",
    "new_values_with_offset['ds'] += 1\n",
    "previous_values_with_offset = df[~df['unique_id'].isin(new_values['unique_id'])].groupby('unique_id').tail(1).copy()\n",
    "previous_values_with_offset['ds'] += 1\n",
    "pd.testing.assert_frame_equal(\n",
    "    preds,\n",
    "    pd.concat([new_values_with_offset, previous_values_with_offset]).reset_index(drop=True).rename(columns={'y': 'Naive'}),\n",
    ")"
   ]
  },
  {
   "cell_type": "markdown",
   "id": "96503e4a-e4a7-40b3-9413-c00d3fb22758",
   "metadata": {},
   "source": [
    "## Estimating model performance"
   ]
  },
  {
   "cell_type": "markdown",
   "id": "473e4820-7acb-472b-bb3e-f43441943a51",
   "metadata": {},
   "source": [
    "### Cross validation"
   ]
  },
  {
   "cell_type": "markdown",
   "id": "c327b075-1ea4-4fe0-ae61-f6b492cc36d8",
   "metadata": {},
   "source": [
    "In order to get an estimate of how well our model will be when predicting future data we can perform cross validation, which consist on training a few models independently on different subsets of the data, using them to predict a validation set and measuring their performance.\n",
    "\n",
    "Since our data depends on time, we make our splits by removing the last portions of the series and using them as validation sets. This process is implemented in `MLForecast.cross_validation`."
   ]
  },
  {
   "cell_type": "code",
   "execution_count": null,
   "id": "613845e1-da6b-44c4-8229-18e5515747a9",
   "metadata": {},
   "outputs": [
    {
     "data": {
      "text/html": [
       "<div>\n",
       "<style scoped>\n",
       "    .dataframe tbody tr th:only-of-type {\n",
       "        vertical-align: middle;\n",
       "    }\n",
       "\n",
       "    .dataframe tbody tr th {\n",
       "        vertical-align: top;\n",
       "    }\n",
       "\n",
       "    .dataframe thead th {\n",
       "        text-align: right;\n",
       "    }\n",
       "</style>\n",
       "<table border=\"1\" class=\"dataframe\">\n",
       "  <thead>\n",
       "    <tr style=\"text-align: right;\">\n",
       "      <th></th>\n",
       "      <th>unique_id</th>\n",
       "      <th>ds</th>\n",
       "      <th>cutoff</th>\n",
       "      <th>y</th>\n",
       "      <th>LGBMRegressor</th>\n",
       "    </tr>\n",
       "  </thead>\n",
       "  <tbody>\n",
       "    <tr>\n",
       "      <th>0</th>\n",
       "      <td>H196</td>\n",
       "      <td>817</td>\n",
       "      <td>816</td>\n",
       "      <td>15.3</td>\n",
       "      <td>15.383165</td>\n",
       "    </tr>\n",
       "    <tr>\n",
       "      <th>1</th>\n",
       "      <td>H196</td>\n",
       "      <td>818</td>\n",
       "      <td>816</td>\n",
       "      <td>14.9</td>\n",
       "      <td>14.923219</td>\n",
       "    </tr>\n",
       "    <tr>\n",
       "      <th>2</th>\n",
       "      <td>H196</td>\n",
       "      <td>819</td>\n",
       "      <td>816</td>\n",
       "      <td>14.6</td>\n",
       "      <td>14.667834</td>\n",
       "    </tr>\n",
       "    <tr>\n",
       "      <th>3</th>\n",
       "      <td>H196</td>\n",
       "      <td>820</td>\n",
       "      <td>816</td>\n",
       "      <td>14.2</td>\n",
       "      <td>14.275964</td>\n",
       "    </tr>\n",
       "    <tr>\n",
       "      <th>4</th>\n",
       "      <td>H196</td>\n",
       "      <td>821</td>\n",
       "      <td>816</td>\n",
       "      <td>13.9</td>\n",
       "      <td>13.973491</td>\n",
       "    </tr>\n",
       "    <tr>\n",
       "      <th>...</th>\n",
       "      <td>...</td>\n",
       "      <td>...</td>\n",
       "      <td>...</td>\n",
       "      <td>...</td>\n",
       "      <td>...</td>\n",
       "    </tr>\n",
       "    <tr>\n",
       "      <th>763</th>\n",
       "      <td>H413</td>\n",
       "      <td>1004</td>\n",
       "      <td>960</td>\n",
       "      <td>99.0</td>\n",
       "      <td>65.644823</td>\n",
       "    </tr>\n",
       "    <tr>\n",
       "      <th>764</th>\n",
       "      <td>H413</td>\n",
       "      <td>1005</td>\n",
       "      <td>960</td>\n",
       "      <td>88.0</td>\n",
       "      <td>71.717097</td>\n",
       "    </tr>\n",
       "    <tr>\n",
       "      <th>765</th>\n",
       "      <td>H413</td>\n",
       "      <td>1006</td>\n",
       "      <td>960</td>\n",
       "      <td>47.0</td>\n",
       "      <td>76.704377</td>\n",
       "    </tr>\n",
       "    <tr>\n",
       "      <th>766</th>\n",
       "      <td>H413</td>\n",
       "      <td>1007</td>\n",
       "      <td>960</td>\n",
       "      <td>41.0</td>\n",
       "      <td>53.446638</td>\n",
       "    </tr>\n",
       "    <tr>\n",
       "      <th>767</th>\n",
       "      <td>H413</td>\n",
       "      <td>1008</td>\n",
       "      <td>960</td>\n",
       "      <td>34.0</td>\n",
       "      <td>54.902634</td>\n",
       "    </tr>\n",
       "  </tbody>\n",
       "</table>\n",
       "<p>768 rows × 5 columns</p>\n",
       "</div>"
      ],
      "text/plain": [
       "    unique_id    ds  cutoff     y  LGBMRegressor\n",
       "0        H196   817     816  15.3      15.383165\n",
       "1        H196   818     816  14.9      14.923219\n",
       "2        H196   819     816  14.6      14.667834\n",
       "3        H196   820     816  14.2      14.275964\n",
       "4        H196   821     816  13.9      13.973491\n",
       "..        ...   ...     ...   ...            ...\n",
       "763      H413  1004     960  99.0      65.644823\n",
       "764      H413  1005     960  88.0      71.717097\n",
       "765      H413  1006     960  47.0      76.704377\n",
       "766      H413  1007     960  41.0      53.446638\n",
       "767      H413  1008     960  34.0      54.902634\n",
       "\n",
       "[768 rows x 5 columns]"
      ]
     },
     "execution_count": null,
     "metadata": {},
     "output_type": "execute_result"
    }
   ],
   "source": [
    "fcst = MLForecast(\n",
    "    models=lgb.LGBMRegressor(**lgb_params),\n",
    "    freq=1,\n",
    "    target_transforms=[Differences([24])],\n",
    "    lags=[1, 24],\n",
    "    lag_transforms={\n",
    "        1: [ExpandingMean()],\n",
    "        24: [RollingMean(window_size=48)],\n",
    "    },\n",
    "    date_features=[hour_index],\n",
    ")\n",
    "cv_result = fcst.cross_validation(\n",
    "    df,\n",
    "    n_windows=4,  # number of models to train/splits to perform\n",
    "    h=48,  # length of the validation set in each window\n",
    ")\n",
    "cv_result"
   ]
  },
  {
   "cell_type": "code",
   "execution_count": null,
   "id": "aa2d6a1a-e0f6-4d7f-9aac-92a19770f23b",
   "metadata": {},
   "outputs": [],
   "source": [
    "fig = plot_series(cv_result, cv_result.drop(columns='cutoff'), max_insample_length=0)"
   ]
  },
  {
   "cell_type": "code",
   "execution_count": null,
   "id": "2a4528a9-6bde-430f-8bb3-977725ea057a",
   "metadata": {},
   "outputs": [],
   "source": [
    "#| hide\n",
    "fig.savefig('../../figs/end_to_end_walkthrough__cv.png', bbox_inches='tight')"
   ]
  },
  {
   "cell_type": "markdown",
   "id": "c8d11f3d-0d7e-4c66-a5bb-acdaca176555",
   "metadata": {},
   "source": [
    "![](../../figs/end_to_end_walkthrough__cv.png)"
   ]
  },
  {
   "cell_type": "markdown",
   "id": "e443b691-128b-4be8-9bd6-467bab645cbe",
   "metadata": {},
   "source": [
    "We can compute the RMSE on each split."
   ]
  },
  {
   "cell_type": "code",
   "execution_count": null,
   "id": "df1dec7e-b1d0-413d-b1e8-2367068191d3",
   "metadata": {},
   "outputs": [],
   "source": [
    "from utilsforecast.losses import rmse"
   ]
  },
  {
   "cell_type": "code",
   "execution_count": null,
   "id": "892f6a13-65c7-4419-b131-3998fb337b78",
   "metadata": {},
   "outputs": [
    {
     "data": {
      "text/html": [
       "<div>\n",
       "<style scoped>\n",
       "    .dataframe tbody tr th:only-of-type {\n",
       "        vertical-align: middle;\n",
       "    }\n",
       "\n",
       "    .dataframe tbody tr th {\n",
       "        vertical-align: top;\n",
       "    }\n",
       "\n",
       "    .dataframe thead th {\n",
       "        text-align: right;\n",
       "    }\n",
       "</style>\n",
       "<table border=\"1\" class=\"dataframe\">\n",
       "  <thead>\n",
       "    <tr style=\"text-align: right;\">\n",
       "      <th></th>\n",
       "      <th>LGBMRegressor</th>\n",
       "    </tr>\n",
       "    <tr>\n",
       "      <th>cutoff</th>\n",
       "      <th></th>\n",
       "    </tr>\n",
       "  </thead>\n",
       "  <tbody>\n",
       "    <tr>\n",
       "      <th>816</th>\n",
       "      <td>29.418172</td>\n",
       "    </tr>\n",
       "    <tr>\n",
       "      <th>864</th>\n",
       "      <td>34.257598</td>\n",
       "    </tr>\n",
       "    <tr>\n",
       "      <th>912</th>\n",
       "      <td>13.145763</td>\n",
       "    </tr>\n",
       "    <tr>\n",
       "      <th>960</th>\n",
       "      <td>35.066261</td>\n",
       "    </tr>\n",
       "  </tbody>\n",
       "</table>\n",
       "</div>"
      ],
      "text/plain": [
       "        LGBMRegressor\n",
       "cutoff               \n",
       "816         29.418172\n",
       "864         34.257598\n",
       "912         13.145763\n",
       "960         35.066261"
      ]
     },
     "execution_count": null,
     "metadata": {},
     "output_type": "execute_result"
    }
   ],
   "source": [
    "def evaluate_cv(df):\n",
    "    return rmse(df, models=['LGBMRegressor'], id_col='cutoff').set_index('cutoff')\n",
    "\n",
    "split_rmse = evaluate_cv(cv_result)\n",
    "split_rmse"
   ]
  },
  {
   "cell_type": "markdown",
   "id": "50ecc214-de81-41bc-9d42-42f53caafc6e",
   "metadata": {},
   "source": [
    "And the average RMSE across splits."
   ]
  },
  {
   "cell_type": "code",
   "execution_count": null,
   "id": "6fe8c4fa-8a74-432a-a5d8-27caf5b15f8f",
   "metadata": {},
   "outputs": [
    {
     "data": {
      "text/plain": [
       "LGBMRegressor    27.971949\n",
       "dtype: float64"
      ]
     },
     "execution_count": null,
     "metadata": {},
     "output_type": "execute_result"
    }
   ],
   "source": [
    "split_rmse.mean()"
   ]
  },
  {
   "cell_type": "markdown",
   "id": "3a05d63b-a472-4050-ba24-ba059c041d54",
   "metadata": {},
   "source": [
    "You can quickly try different features and evaluate them this way. We can try removing the differencing and using an exponentially weighted average of the lag 1 instead of the expanding mean."
   ]
  },
  {
   "cell_type": "code",
   "execution_count": null,
   "id": "03bdbfcf-0995-4bf4-bd3b-a3087da4281a",
   "metadata": {},
   "outputs": [],
   "source": [
    "from mlforecast.lag_transforms import ExponentiallyWeightedMean"
   ]
  },
  {
   "cell_type": "code",
   "execution_count": null,
   "id": "06f23f2f-18ca-4101-8e57-93585a3338bb",
   "metadata": {},
   "outputs": [
    {
     "data": {
      "text/plain": [
       "LGBMRegressor    25.874439\n",
       "dtype: float64"
      ]
     },
     "execution_count": null,
     "metadata": {},
     "output_type": "execute_result"
    }
   ],
   "source": [
    "fcst = MLForecast(\n",
    "    models=lgb.LGBMRegressor(**lgb_params),\n",
    "    freq=1,\n",
    "    lags=[1, 24],\n",
    "    lag_transforms={\n",
    "        1: [ExponentiallyWeightedMean(alpha=0.5)],\n",
    "        24: [RollingMean(window_size=48)],      \n",
    "    },\n",
    "    date_features=[hour_index],    \n",
    ")\n",
    "cv_result2 = fcst.cross_validation(\n",
    "    df,\n",
    "    n_windows=4,\n",
    "    h=48,\n",
    ")\n",
    "evaluate_cv(cv_result2).mean()"
   ]
  },
  {
   "cell_type": "markdown",
   "id": "8b380f88-8a17-41ef-8aa3-c25acf4f6d5d",
   "metadata": {},
   "source": [
    "### LightGBMCV"
   ]
  },
  {
   "cell_type": "markdown",
   "id": "16155afd-679e-4213-9767-5ca248dddd72",
   "metadata": {},
   "source": [
    "In the same spirit of estimating our model's performance, `LightGBMCV` allows us to train a few [LightGBM](https://github.com/microsoft/LightGBM) models on different partitions of the data. The main differences with `MLForecast.cross_validation` are:\n",
    "\n",
    "* It can only train LightGBM models.\n",
    "* It trains all models **simultaneously** and gives us per-iteration averages of the errors across the complete forecasting window, which allows us to find the best iteration."
   ]
  },
  {
   "cell_type": "code",
   "execution_count": null,
   "id": "e29ec85e-30a9-4bfa-bdbd-fd43b99bf060",
   "metadata": {},
   "outputs": [],
   "source": [
    "from mlforecast.lgb_cv import LightGBMCV"
   ]
  },
  {
   "cell_type": "code",
   "execution_count": null,
   "id": "3366fae7-7907-49fd-afc8-eb531ebec84d",
   "metadata": {},
   "outputs": [
    {
     "name": "stdout",
     "output_type": "stream",
     "text": [
      "[5] mape: 0.158639\n",
      "[10] mape: 0.163739\n",
      "[15] mape: 0.161535\n",
      "[20] mape: 0.169491\n",
      "[25] mape: 0.163690\n",
      "[30] mape: 0.164198\n",
      "Early stopping at round 30\n",
      "Using best iteration: 5\n"
     ]
    }
   ],
   "source": [
    "cv = LightGBMCV(\n",
    "    freq=1,\n",
    "    target_transforms=[Differences([24])],\n",
    "    lags=[1, 24],\n",
    "    lag_transforms={\n",
    "        1: [ExpandingMean()],\n",
    "        24: [RollingMean(window_size=48)],\n",
    "    },\n",
    "    date_features=[hour_index],\n",
    "    num_threads=2,\n",
    ")\n",
    "cv_hist = cv.fit(\n",
    "    df,\n",
    "    n_windows=4,\n",
    "    h=48,\n",
    "    params=lgb_params,\n",
    "    eval_every=5,\n",
    "    early_stopping_evals=5,    \n",
    "    compute_cv_preds=True,\n",
    ")"
   ]
  },
  {
   "cell_type": "markdown",
   "id": "b11084fa-22aa-48a7-b179-854ce504cfef",
   "metadata": {},
   "source": [
    "As you can see this gives us the error by iteration (controlled by the `eval_every` argument) and performs early stopping (which can be configured with `early_stopping_evals` and `early_stopping_pct`). If you set `compute_cv_preds=True` the out-of-fold predictions are computed using the best iteration found and are saved in the `cv_preds_` attribute."
   ]
  },
  {
   "cell_type": "code",
   "execution_count": null,
   "id": "f24da7a6-4e1e-4649-a8e6-9413801d95b8",
   "metadata": {},
   "outputs": [
    {
     "data": {
      "text/html": [
       "<div>\n",
       "<style scoped>\n",
       "    .dataframe tbody tr th:only-of-type {\n",
       "        vertical-align: middle;\n",
       "    }\n",
       "\n",
       "    .dataframe tbody tr th {\n",
       "        vertical-align: top;\n",
       "    }\n",
       "\n",
       "    .dataframe thead th {\n",
       "        text-align: right;\n",
       "    }\n",
       "</style>\n",
       "<table border=\"1\" class=\"dataframe\">\n",
       "  <thead>\n",
       "    <tr style=\"text-align: right;\">\n",
       "      <th></th>\n",
       "      <th>unique_id</th>\n",
       "      <th>ds</th>\n",
       "      <th>y</th>\n",
       "      <th>Booster</th>\n",
       "      <th>window</th>\n",
       "    </tr>\n",
       "  </thead>\n",
       "  <tbody>\n",
       "    <tr>\n",
       "      <th>0</th>\n",
       "      <td>H196</td>\n",
       "      <td>817</td>\n",
       "      <td>15.3</td>\n",
       "      <td>15.473182</td>\n",
       "      <td>0</td>\n",
       "    </tr>\n",
       "    <tr>\n",
       "      <th>1</th>\n",
       "      <td>H196</td>\n",
       "      <td>818</td>\n",
       "      <td>14.9</td>\n",
       "      <td>15.038571</td>\n",
       "      <td>0</td>\n",
       "    </tr>\n",
       "    <tr>\n",
       "      <th>2</th>\n",
       "      <td>H196</td>\n",
       "      <td>819</td>\n",
       "      <td>14.6</td>\n",
       "      <td>14.849409</td>\n",
       "      <td>0</td>\n",
       "    </tr>\n",
       "    <tr>\n",
       "      <th>3</th>\n",
       "      <td>H196</td>\n",
       "      <td>820</td>\n",
       "      <td>14.2</td>\n",
       "      <td>14.448379</td>\n",
       "      <td>0</td>\n",
       "    </tr>\n",
       "    <tr>\n",
       "      <th>4</th>\n",
       "      <td>H196</td>\n",
       "      <td>821</td>\n",
       "      <td>13.9</td>\n",
       "      <td>14.148379</td>\n",
       "      <td>0</td>\n",
       "    </tr>\n",
       "    <tr>\n",
       "      <th>...</th>\n",
       "      <td>...</td>\n",
       "      <td>...</td>\n",
       "      <td>...</td>\n",
       "      <td>...</td>\n",
       "      <td>...</td>\n",
       "    </tr>\n",
       "    <tr>\n",
       "      <th>187</th>\n",
       "      <td>H413</td>\n",
       "      <td>1004</td>\n",
       "      <td>99.0</td>\n",
       "      <td>61.425396</td>\n",
       "      <td>3</td>\n",
       "    </tr>\n",
       "    <tr>\n",
       "      <th>188</th>\n",
       "      <td>H413</td>\n",
       "      <td>1005</td>\n",
       "      <td>88.0</td>\n",
       "      <td>62.886890</td>\n",
       "      <td>3</td>\n",
       "    </tr>\n",
       "    <tr>\n",
       "      <th>189</th>\n",
       "      <td>H413</td>\n",
       "      <td>1006</td>\n",
       "      <td>47.0</td>\n",
       "      <td>57.886890</td>\n",
       "      <td>3</td>\n",
       "    </tr>\n",
       "    <tr>\n",
       "      <th>190</th>\n",
       "      <td>H413</td>\n",
       "      <td>1007</td>\n",
       "      <td>41.0</td>\n",
       "      <td>38.849009</td>\n",
       "      <td>3</td>\n",
       "    </tr>\n",
       "    <tr>\n",
       "      <th>191</th>\n",
       "      <td>H413</td>\n",
       "      <td>1008</td>\n",
       "      <td>34.0</td>\n",
       "      <td>44.720562</td>\n",
       "      <td>3</td>\n",
       "    </tr>\n",
       "  </tbody>\n",
       "</table>\n",
       "<p>768 rows × 5 columns</p>\n",
       "</div>"
      ],
      "text/plain": [
       "    unique_id    ds     y    Booster  window\n",
       "0        H196   817  15.3  15.473182       0\n",
       "1        H196   818  14.9  15.038571       0\n",
       "2        H196   819  14.6  14.849409       0\n",
       "3        H196   820  14.2  14.448379       0\n",
       "4        H196   821  13.9  14.148379       0\n",
       "..        ...   ...   ...        ...     ...\n",
       "187      H413  1004  99.0  61.425396       3\n",
       "188      H413  1005  88.0  62.886890       3\n",
       "189      H413  1006  47.0  57.886890       3\n",
       "190      H413  1007  41.0  38.849009       3\n",
       "191      H413  1008  34.0  44.720562       3\n",
       "\n",
       "[768 rows x 5 columns]"
      ]
     },
     "execution_count": null,
     "metadata": {},
     "output_type": "execute_result"
    }
   ],
   "source": [
    "cv.cv_preds_"
   ]
  },
  {
   "cell_type": "code",
   "execution_count": null,
   "id": "538ed4cb-2e96-4615-ae5f-bab230d80137",
   "metadata": {},
   "outputs": [],
   "source": [
    "fig = plot_series(cv.cv_preds_, cv.cv_preds_.drop(columns='window'), max_insample_length=0)"
   ]
  },
  {
   "cell_type": "code",
   "execution_count": null,
   "id": "d5645508-7293-45d8-97a9-8f8c1bac63a0",
   "metadata": {},
   "outputs": [],
   "source": [
    "#| hide\n",
    "fig.savefig('../../figs/end_to_end_walkthrough__lgbcv.png', bbox_inches='tight')"
   ]
  },
  {
   "cell_type": "markdown",
   "id": "47e0fcfe-052b-4418-b2c5-62473425b42a",
   "metadata": {},
   "source": [
    "![](../../figs/end_to_end_walkthrough__lgbcv.png)"
   ]
  },
  {
   "cell_type": "markdown",
   "id": "e4800420-3b8f-4887-b2c1-bfb6fb33c274",
   "metadata": {},
   "source": [
    "You can use this class to quickly try different configurations of features and hyperparameters. Once you've found a combination that works you can train a model with those features and hyperparameters on all the data by creating an `MLForecast` object from the `LightGBMCV` one as follows:"
   ]
  },
  {
   "cell_type": "code",
   "execution_count": null,
   "id": "5158cae8-1424-4c57-8f4a-02d0b65521ee",
   "metadata": {},
   "outputs": [],
   "source": [
    "final_fcst = MLForecast.from_cv(cv)\n",
    "final_fcst.fit(df)\n",
    "preds = final_fcst.predict(48)\n",
    "fig = plot_series(df, preds, max_insample_length=24 * 14)"
   ]
  },
  {
   "cell_type": "code",
   "execution_count": null,
   "id": "7e545230-deb7-41c7-9a87-d837262c2384",
   "metadata": {},
   "outputs": [],
   "source": [
    "#| hide\n",
    "fig.savefig('../../figs/end_to_end_walkthrough__final_forecast.png', bbox_inches='tight')"
   ]
  },
  {
   "cell_type": "markdown",
   "id": "dced80f3-8424-4b0c-8bfc-5f8b36954826",
   "metadata": {},
   "source": [
    "![](../../figs/end_to_end_walkthrough__final_forecast.png)"
   ]
  }
 ],
 "metadata": {
  "kernelspec": {
   "display_name": "python3",
   "language": "python",
   "name": "python3"
  }
 },
 "nbformat": 4,
 "nbformat_minor": 5
}
