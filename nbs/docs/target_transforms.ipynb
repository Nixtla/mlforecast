{
 "cells": [
  {
   "cell_type": "code",
   "execution_count": null,
   "id": "4f2f8d66-0dd7-4112-9467-f82d924aedb3",
   "metadata": {},
   "outputs": [],
   "source": [
    "#| hide\n",
    "%load_ext autoreload\n",
    "%autoreload 2\n",
    "import os\n",
    "os.chdir('..')"
   ]
  },
  {
   "cell_type": "markdown",
   "id": "b3b2665d-82ae-4280-a5e2-91d52fd344db",
   "metadata": {},
   "source": [
    "# Target transformations\n",
    "> Seamlessly transform target values"
   ]
  },
  {
   "cell_type": "markdown",
   "id": "bd74e4d3-5b9e-4c76-8778-ce8fe95cfe43",
   "metadata": {},
   "source": [
    "Since mlforecast uses a single global model it can be helpful to apply some transformations to the target to ensure that all series have similar distributions, they can also help remove trend for models that can't deal with it out of the box."
   ]
  },
  {
   "cell_type": "markdown",
   "id": "96e95bbb-f441-4019-916b-3272044cc96a",
   "metadata": {},
   "source": [
    "### Local transformations\n",
    "> Transformations applied per serie"
   ]
  },
  {
   "cell_type": "markdown",
   "id": "63dd486c-9fbb-4997-8f53-349203f669d9",
   "metadata": {},
   "source": [
    "### Data setup"
   ]
  },
  {
   "cell_type": "markdown",
   "id": "5a3a7175-fee2-424a-857c-25288d6bf482",
   "metadata": {},
   "source": [
    "For this example we'll use a single serie from the M4 dataset."
   ]
  },
  {
   "cell_type": "code",
   "execution_count": null,
   "id": "ced5f7c0-e127-4c9a-a239-d0ae11f4fa46",
   "metadata": {},
   "outputs": [],
   "source": [
    "import matplotlib.pyplot as plt\n",
    "import numpy as np\n",
    "import pandas as pd\n",
    "from datasetsforecast.m4 import M4\n",
    "from sklearn.base import BaseEstimator\n",
    "\n",
    "from mlforecast import MLForecast\n",
    "from mlforecast.target_transforms import Differences"
   ]
  },
  {
   "cell_type": "code",
   "execution_count": null,
   "id": "8edb76ed-0991-4113-bb76-fbf0ec1c865f",
   "metadata": {},
   "outputs": [],
   "source": [
    "data_path = 'data'\n",
    "await M4.async_download(data_path, group='Hourly')\n",
    "df, *_ = M4.load(data_path, 'Hourly')\n",
    "df['ds'] = df['ds'].astype('int32')\n",
    "serie = df[df['unique_id'].eq('H196')]"
   ]
  },
  {
   "attachments": {},
   "cell_type": "markdown",
   "id": "26129d96-35e7-4d19-8076-ca90cc36134f",
   "metadata": {},
   "source": [
    "### Differences\n",
    "We'll take a look at our serie to see possible differences that would help our models."
   ]
  },
  {
   "cell_type": "code",
   "execution_count": null,
   "id": "1e8c549f-381e-4bd0-becb-1d672546dd60",
   "metadata": {},
   "outputs": [],
   "source": [
    "def plot(series, fname):\n",
    "    n_series = len(series)\n",
    "    fig, ax = plt.subplots(ncols=n_series, figsize=(7 * n_series, 6), squeeze=False)\n",
    "    for (title, serie), axi in zip(series.items(), ax.flat):\n",
    "        serie.set_index('ds')['y'].plot(title=title, ax=axi)\n",
    "    fig.savefig(fname, bbox_inches='tight')\n",
    "    plt.close()"
   ]
  },
  {
   "cell_type": "code",
   "execution_count": null,
   "id": "5111da55-85a7-4f26-b537-485304f9c29d",
   "metadata": {},
   "outputs": [],
   "source": [
    "plot({'original': serie}, 'figs/target_transforms__eda.png')"
   ]
  },
  {
   "cell_type": "markdown",
   "id": "f756737f-3e0f-49b8-89fb-c4eeedc96720",
   "metadata": {},
   "source": [
    "![](../figs/target_transforms__eda.png)"
   ]
  },
  {
   "cell_type": "markdown",
   "id": "9fc61824-3baf-4493-a584-4cb4795ad8e5",
   "metadata": {},
   "source": [
    "We can see that our data has a trend as well as a clear seasonality. We can try removing the trend first."
   ]
  },
  {
   "cell_type": "code",
   "execution_count": null,
   "id": "277020a9-965c-420b-b5b0-ed1bb9c0873a",
   "metadata": {},
   "outputs": [],
   "source": [
    "diff1 = Differences([1])\n",
    "diff1.set_column_names('unique_id', 'ds', 'y')  # this is done for you when using MLForecast\n",
    "without_trend = diff1.fit_transform(serie)\n",
    "plot({'original': serie, 'without trend': without_trend}, 'figs/target_transforms__diff1.png')"
   ]
  },
  {
   "cell_type": "markdown",
   "id": "dce3d460-5044-4faa-ac80-2985ab8865d9",
   "metadata": {},
   "source": [
    "![](../figs/target_transforms__diff1.png)"
   ]
  },
  {
   "cell_type": "markdown",
   "id": "cd347a12-ee49-410b-a781-b727802cef51",
   "metadata": {},
   "source": [
    "The trend is gone, we can now try taking the 24 difference (subtract the value at the same hour in the previous day)."
   ]
  },
  {
   "cell_type": "code",
   "execution_count": null,
   "id": "ef78b22e-845d-4e3e-8b6a-e26a72ee4702",
   "metadata": {},
   "outputs": [],
   "source": [
    "diff2 = Differences([1, 24])\n",
    "diff2.set_column_names('unique_id', 'ds', 'y')\n",
    "without_trend_and_seasonality = diff2.fit_transform(serie)\n",
    "plot({'original': serie, 'without trend and seasonality': without_trend_and_seasonality}, 'figs/target_transforms__diff2.png')"
   ]
  },
  {
   "cell_type": "markdown",
   "id": "d9fce7a3-a6da-41ae-ac6d-c2fcb199cb52",
   "metadata": {},
   "source": [
    "![](../figs/target_transforms__diff2.png)"
   ]
  },
  {
   "cell_type": "markdown",
   "id": "aee30bb5-e5e1-4cf0-8540-9435d773968e",
   "metadata": {},
   "source": [
    "We see that our serie is random noise now, so we could try forecasting it with a model that always predicts 0, which will basically project the trend and seasonality."
   ]
  },
  {
   "cell_type": "code",
   "execution_count": null,
   "id": "4d55cab0-7c7a-4fd8-9557-968d5ad161f6",
   "metadata": {},
   "outputs": [],
   "source": [
    "class Zeros(BaseEstimator):\n",
    "    def fit(self, X, y=None):\n",
    "        return self\n",
    "\n",
    "    def predict(self, X, y=None):\n",
    "        return np.zeros(X.shape[0])\n",
    "\n",
    "fcst = MLForecast(\n",
    "    models=Zeros(),\n",
    "    freq=1,\n",
    "    target_transforms=[Differences([1, 24])],\n",
    ")\n",
    "preds = fcst.fit(serie).predict(48)\n",
    "fig, ax = plt.subplots()\n",
    "pd.concat([serie.tail(24 * 10), preds]).set_index('ds').plot(ax=ax)\n",
    "plt.close()\n",
    "fig.savefig('figs/target_transforms__zeros.png')"
   ]
  },
  {
   "cell_type": "markdown",
   "id": "2b01fc3d-5884-46d9-95aa-b40cd010f493",
   "metadata": {},
   "source": [
    "![](../figs/target_transforms__zeros.png)"
   ]
  }
 ],
 "metadata": {
  "kernelspec": {
   "display_name": "python3",
   "language": "python",
   "name": "python3"
  }
 },
 "nbformat": 4,
 "nbformat_minor": 5
}
