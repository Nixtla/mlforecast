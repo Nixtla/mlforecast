{
 "cells": [
  {
   "cell_type": "markdown",
   "id": "14f5686c-449b-4376-8c58-fc8141f4b0f8",
   "metadata": {},
   "source": [
    "# Probabilistic forecasting \n",
    "\n",
    "> In this example, we'll implement prediction intervals "
   ]
  },
  {
   "cell_type": "markdown",
   "id": "ac4bcfeb-e8e8-4821-a056-04c4ee8ae6c9",
   "metadata": {},
   "source": [
    "::: {.callout-warning collapse=\"true\"}\n",
    "\n",
    "## Prerequesites\n",
    "\n",
    "This tutorial assumes basic familiarity with MLForecast. For a minimal example visit the [Quick Start](https://nixtla.github.io/mlforecast/docs/quick_start_local.html) \n",
    ":::"
   ]
  },
  {
   "cell_type": "markdown",
   "id": "9105f346-d216-48be-91e0-cfb1e38a60c1",
   "metadata": {},
   "source": [
    "## Introduction \n",
    "\n",
    "\n"
   ]
  },
  {
   "cell_type": "markdown",
   "id": "2a041b37-4438-4da8-a727-e238e3ea9825",
   "metadata": {},
   "source": [
    "When we generate a forecast, we usually produce a single value known as the point forecast. This value, however, doesn't tell us anything about the uncertainty associated with the forecast. To have a measure of this uncertainty, we need **prediction intervals**. \n",
    "\n",
    "A prediction interval is a range of values that the forecast can take with a given probability. Hence, a 95% prediction interval should contain a range of values that include the actual future value with probability 95%. Probabilistic forecasting aims to generate the full forecast distribution. Point forecasting, on the other hand, usually returns the mean or the median or said distribution. However, in real-world scenarios, it is better to forecast not only the most probable future outcome, but many alternative outcomes as well. \n",
    "\n",
    "With [MLForecast](https://nixtla.github.io/mlforecast/) you can train `sklearn` models to generate point forecasts. It also takes the advantages of `ConformalPrediction` to generate the same point forecasts and adds them prediction intervals. By the end of this tutorial, you'll have a good understanding of how to add probabilistic intervals to `sklearn` models for time series forecasting. Furthermore, you'll also learn how to generate plots with the historical data, the point forecasts, and the prediction intervals. "
   ]
  },
  {
   "cell_type": "markdown",
   "id": "a6ef55cb-586f-4bdf-8cfb-bce1a1e96890",
   "metadata": {},
   "source": [
    "::: {.callout-important}\n",
    "## Important \n",
    "Although the terms are often confused, prediction intervals are not the same as [confidence intervals](https://robjhyndman.com/hyndsight/intervals/). \n",
    ":::"
   ]
  },
  {
   "cell_type": "markdown",
   "id": "2d8e2d61-4ed4-435d-98e0-e29751a9020c",
   "metadata": {},
   "source": [
    "::: {.callout-warning}\n",
    "## Warning \n",
    "In practice, most prediction intervals are too narrow since models do not account for all sources of uncertainty. A discussion about this can be found [here](https://robjhyndman.com/hyndsight/narrow-pi/). \n",
    ":::\n"
   ]
  },
  {
   "cell_type": "markdown",
   "id": "dfa3ea59-d39a-43f0-9bee-05177cba35b3",
   "metadata": {},
   "source": [
    "**Outline:**\n",
    "\n",
    "1. Install libraries \n",
    "2. Load and explore the data\n",
    "3. Train models \n",
    "4. Plot prediction intervals "
   ]
  },
  {
   "cell_type": "markdown",
   "id": "56096361-9af3-4752-8d34-d7f4fa104d7f",
   "metadata": {},
   "source": [
    "::: {.callout-tip}\n",
    "You can use Colab to run this Notebook interactively <a href=\"https://colab.research.google.com/github/Nixtla/mlforecast/blob/main/nbs/docs/prediction_intervals.ipynb\" target=\"_parent\"><img src=\"https://colab.research.google.com/assets/colab-badge.svg\" alt=\"Open In Colab\"/></a>\n",
    "::: "
   ]
  },
  {
   "cell_type": "markdown",
   "id": "f4191d2e-70a7-4045-a54f-3d3c1a5e303b",
   "metadata": {},
   "source": [
    "## Install libraries "
   ]
  },
  {
   "cell_type": "markdown",
   "id": "6b50fe93-2b42-4ac4-82b7-fff3bae86c79",
   "metadata": {},
   "source": [
    "Install the necessary packages using `pip install mlforecast utilsforecast`"
   ]
  },
  {
   "cell_type": "markdown",
   "id": "b5074b19-d1d6-4fe8-9004-209eeecdb0fe",
   "metadata": {},
   "source": [
    "## Load and explore the data\n",
    "\n",
    "For this example, we'll use the hourly dataset from the [M4 Competition](https://www.sciencedirect.com/science/article/pii/S0169207019301128). We first need to download the data from a URL and then load it as a `pandas` dataframe. Notice that we'll load the train and the test data separately. We'll also rename the `y` column of the test data as `y_test`.   "
   ]
  },
  {
   "cell_type": "code",
   "execution_count": null,
   "id": "b64c63c9-ff63-4a0c-b305-32cd93346aae",
   "metadata": {},
   "outputs": [],
   "source": [
    "import pandas as pd\n",
    "from utilsforecast.plotting import plot_series"
   ]
  },
  {
   "cell_type": "code",
   "execution_count": null,
   "id": "a3dce89e-49df-4d3d-b146-6bde6945a4cb",
   "metadata": {},
   "outputs": [],
   "source": [
    "train = pd.read_csv('https://auto-arima-results.s3.amazonaws.com/M4-Hourly.csv')\n",
    "test = pd.read_csv('https://auto-arima-results.s3.amazonaws.com/M4-Hourly-test.csv')"
   ]
  },
  {
   "cell_type": "code",
   "execution_count": null,
   "id": "feb31f3c-3cdc-4f76-a98b-1fb67b629f14",
   "metadata": {},
   "outputs": [
    {
     "data": {
      "text/html": [
       "<div>\n",
       "<style scoped>\n",
       "    .dataframe tbody tr th:only-of-type {\n",
       "        vertical-align: middle;\n",
       "    }\n",
       "\n",
       "    .dataframe tbody tr th {\n",
       "        vertical-align: top;\n",
       "    }\n",
       "\n",
       "    .dataframe thead th {\n",
       "        text-align: right;\n",
       "    }\n",
       "</style>\n",
       "<table border=\"1\" class=\"dataframe\">\n",
       "  <thead>\n",
       "    <tr style=\"text-align: right;\">\n",
       "      <th></th>\n",
       "      <th>unique_id</th>\n",
       "      <th>ds</th>\n",
       "      <th>y</th>\n",
       "    </tr>\n",
       "  </thead>\n",
       "  <tbody>\n",
       "    <tr>\n",
       "      <th>0</th>\n",
       "      <td>H1</td>\n",
       "      <td>1</td>\n",
       "      <td>605.0</td>\n",
       "    </tr>\n",
       "    <tr>\n",
       "      <th>1</th>\n",
       "      <td>H1</td>\n",
       "      <td>2</td>\n",
       "      <td>586.0</td>\n",
       "    </tr>\n",
       "    <tr>\n",
       "      <th>2</th>\n",
       "      <td>H1</td>\n",
       "      <td>3</td>\n",
       "      <td>586.0</td>\n",
       "    </tr>\n",
       "    <tr>\n",
       "      <th>3</th>\n",
       "      <td>H1</td>\n",
       "      <td>4</td>\n",
       "      <td>559.0</td>\n",
       "    </tr>\n",
       "    <tr>\n",
       "      <th>4</th>\n",
       "      <td>H1</td>\n",
       "      <td>5</td>\n",
       "      <td>511.0</td>\n",
       "    </tr>\n",
       "  </tbody>\n",
       "</table>\n",
       "</div>"
      ],
      "text/plain": [
       "  unique_id  ds      y\n",
       "0        H1   1  605.0\n",
       "1        H1   2  586.0\n",
       "2        H1   3  586.0\n",
       "3        H1   4  559.0\n",
       "4        H1   5  511.0"
      ]
     },
     "execution_count": null,
     "metadata": {},
     "output_type": "execute_result"
    }
   ],
   "source": [
    "train.head()"
   ]
  },
  {
   "cell_type": "code",
   "execution_count": null,
   "id": "c99e5b5b-bef6-48f9-80cc-60ef7d2602bb",
   "metadata": {},
   "outputs": [
    {
     "data": {
      "text/html": [
       "<div>\n",
       "<style scoped>\n",
       "    .dataframe tbody tr th:only-of-type {\n",
       "        vertical-align: middle;\n",
       "    }\n",
       "\n",
       "    .dataframe tbody tr th {\n",
       "        vertical-align: top;\n",
       "    }\n",
       "\n",
       "    .dataframe thead th {\n",
       "        text-align: right;\n",
       "    }\n",
       "</style>\n",
       "<table border=\"1\" class=\"dataframe\">\n",
       "  <thead>\n",
       "    <tr style=\"text-align: right;\">\n",
       "      <th></th>\n",
       "      <th>unique_id</th>\n",
       "      <th>ds</th>\n",
       "      <th>y</th>\n",
       "    </tr>\n",
       "  </thead>\n",
       "  <tbody>\n",
       "    <tr>\n",
       "      <th>0</th>\n",
       "      <td>H1</td>\n",
       "      <td>701</td>\n",
       "      <td>619.0</td>\n",
       "    </tr>\n",
       "    <tr>\n",
       "      <th>1</th>\n",
       "      <td>H1</td>\n",
       "      <td>702</td>\n",
       "      <td>565.0</td>\n",
       "    </tr>\n",
       "    <tr>\n",
       "      <th>2</th>\n",
       "      <td>H1</td>\n",
       "      <td>703</td>\n",
       "      <td>532.0</td>\n",
       "    </tr>\n",
       "    <tr>\n",
       "      <th>3</th>\n",
       "      <td>H1</td>\n",
       "      <td>704</td>\n",
       "      <td>495.0</td>\n",
       "    </tr>\n",
       "    <tr>\n",
       "      <th>4</th>\n",
       "      <td>H1</td>\n",
       "      <td>705</td>\n",
       "      <td>481.0</td>\n",
       "    </tr>\n",
       "  </tbody>\n",
       "</table>\n",
       "</div>"
      ],
      "text/plain": [
       "  unique_id   ds      y\n",
       "0        H1  701  619.0\n",
       "1        H1  702  565.0\n",
       "2        H1  703  532.0\n",
       "3        H1  704  495.0\n",
       "4        H1  705  481.0"
      ]
     },
     "execution_count": null,
     "metadata": {},
     "output_type": "execute_result"
    }
   ],
   "source": [
    "test.head()"
   ]
  },
  {
   "cell_type": "markdown",
   "id": "2314de4f-4b9a-4578-992f-e279c9fed90c",
   "metadata": {},
   "source": [
    "Since the goal of this notebook is to generate prediction intervals, we'll only use the first 8 series of the dataset to reduce the total computational time. "
   ]
  },
  {
   "cell_type": "code",
   "execution_count": null,
   "id": "373cbfab-3d43-4cd0-9aac-5f502b538123",
   "metadata": {},
   "outputs": [],
   "source": [
    "n_series = 8 \n",
    "uids = train['unique_id'].unique()[:n_series] # select first n_series of the dataset\n",
    "train = train.query('unique_id in @uids')\n",
    "test = test.query('unique_id in @uids')"
   ]
  },
  {
   "cell_type": "markdown",
   "id": "c2b7bd0a-1ef8-45d5-961e-20ba38c1be8a",
   "metadata": {},
   "source": [
    "We can plot these series using the `plot_series` function from the [utilsforecast](https://nixtla.github.io/utilsforecast/plotting.html) library. This function has multiple parameters, and the required ones to generate the plots in this notebook are explained below. \n",
    "\n",
    "- `df`: A `pandas` dataframe with columns [`unique_id`, `ds`, `y`]. \n",
    "- `forecasts_df`: A `pandas` dataframe with columns [`unique_id`, `ds`] and models. \n",
    "- `plot_random`: bool = `True`. Plots the time series randomly. \n",
    "- `models`: List[str]. A list with the models we want to plot. \n",
    "- `level`: List[float]. A list with the prediction intervals we want to plot. \n",
    "- `engine`: str = `matplotlib`. It can also be `plotly`. `plotly` generates interactive plots, while `matplotlib` generates static plots. "
   ]
  },
  {
   "cell_type": "code",
   "execution_count": null,
   "id": "1258725c-f324-479d-a619-51b7dd445106",
   "metadata": {},
   "outputs": [],
   "source": [
    "fig = plot_series(train, test.rename(columns={'y': 'y_test'}), models=['y_test'], plot_random=False)"
   ]
  },
  {
   "cell_type": "code",
   "execution_count": null,
   "id": "04fed173-57d3-4c20-a031-6361c55d6c68",
   "metadata": {},
   "outputs": [],
   "source": [
    "#| hide\n",
    "fig.savefig('../../figs/prediction_intervals__eda.png', bbox_inches='tight')"
   ]
  },
  {
   "cell_type": "markdown",
   "id": "5063370d-70d8-4f1a-ac17-d04ae29e63fc",
   "metadata": {},
   "source": [
    "![](../../figs/prediction_intervals__eda.png)"
   ]
  },
  {
   "cell_type": "markdown",
   "id": "d2035099-8027-4a65-9921-d09b058c9c9a",
   "metadata": {},
   "source": [
    "## Train models\n",
    "\n",
    "MLForecast can train multiple models that follow the `sklearn` syntax (`fit` and `predict`) on different time series efficiently.\n",
    "\n",
    "For this example, we'll use the following `sklearn` baseline models: \n",
    "\n",
    "- [Lasso](https://scikit-learn.org/stable/modules/generated/sklearn.linear_model.Lasso.html) \n",
    "- [LinearRegression](https://scikit-learn.org/stable/modules/generated/sklearn.linear_model.LinearRegression.html)\n",
    "- [Ridge](https://scikit-learn.org/stable/modules/generated/sklearn.linear_model.Ridge.html)\n",
    "- [K-Nearest Neighbors](https://scikit-learn.org/stable/modules/generated/sklearn.neighbors.KNeighborsRegressor.html) \n",
    "- [Multilayer Perceptron (NeuralNetwork)](https://scikit-learn.org/stable/modules/generated/sklearn.neural_network.MLPRegressor.html)\n",
    "\n",
    "To use these models, we first need to import them from `sklearn` and then we need to instantiate them."
   ]
  },
  {
   "cell_type": "code",
   "execution_count": null,
   "id": "b7ac6c24-5200-44d0-a634-c7b8ab5a8d2e",
   "metadata": {},
   "outputs": [],
   "source": [
    "from mlforecast import MLForecast\n",
    "from mlforecast.target_transforms import Differences\n",
    "from mlforecast.utils import PredictionIntervals\n",
    "from sklearn.linear_model import Lasso, LinearRegression, Ridge\n",
    "from sklearn.neighbors import KNeighborsRegressor\n",
    "from sklearn.neural_network import MLPRegressor"
   ]
  },
  {
   "cell_type": "code",
   "execution_count": null,
   "id": "42f91e4e-ab9f-4228-851e-fccdc1adf843",
   "metadata": {},
   "outputs": [],
   "source": [
    "# Create a list of models and instantiation parameters \n",
    "models = [\n",
    "    KNeighborsRegressor(),\n",
    "    Lasso(),\n",
    "    LinearRegression(),\n",
    "    MLPRegressor(),\n",
    "    Ridge(),\n",
    "]"
   ]
  },
  {
   "cell_type": "markdown",
   "id": "e93b587c-4d98-4ad1-9f8d-fba37525ecae",
   "metadata": {},
   "source": [
    "To instantiate a new MLForecast object, we need the following parameters: \n",
    "\n",
    "- `models`: The list of models defined in the previous step.  \n",
    "- `target_transforms`: Transformations to apply to the target before computing the features. These are restored at the forecasting step.\n",
    "- `lags`: Lags of the target to use as features."
   ]
  },
  {
   "cell_type": "code",
   "execution_count": null,
   "id": "c491f988-9c50-435f-ba1c-1c3887821f25",
   "metadata": {},
   "outputs": [],
   "source": [
    "mlf = MLForecast(\n",
    "    models=[Ridge(), Lasso(), LinearRegression(), KNeighborsRegressor(), MLPRegressor(random_state=0)],\n",
    "    target_transforms=[Differences([1])],\n",
    "    lags=[24 * (i+1) for i in range(7)],\n",
    ")"
   ]
  },
  {
   "cell_type": "markdown",
   "id": "284d8792-9a7c-4d5e-ad72-b5aff6a68cc8",
   "metadata": {},
   "source": [
    "Now we're ready to generate the point forecasts and the prediction intervals. To do this, we'll use the `fit` method, which takes the following arguments: \n",
    "\n",
    "- `data`: Series data in long format.\n",
    "- `id_col`: Column that identifies each series. In our case, `unique_id`.\n",
    "- `time_col`: Column that identifies each timestep, its values can be timestamps or integers. In our case, `ds`.\n",
    "- `target_col`: Column that contains the target. In our case, `y`.\n",
    "- `prediction_intervals`: A `PredicitonIntervals` class. The class takes two parameters: `n_windows` and `h`. `n_windows` represents the number of cross-validation windows used to calibrate the intervals and `h` is the forecast horizon. The strategy will adjust the intervals for each horizon step, resulting in different widths for each step."
   ]
  },
  {
   "cell_type": "code",
   "execution_count": null,
   "id": "e1fcfafa-93d6-4f6f-accd-57c1f84317b0",
   "metadata": {},
   "outputs": [],
   "source": [
    "mlf.fit(\n",
    "    train,\n",
    "    prediction_intervals=PredictionIntervals(n_windows=10, h=48),\n",
    ");"
   ]
  },
  {
   "cell_type": "markdown",
   "id": "4a6fb6a6-147d-44f1-94be-03ef8b94e99d",
   "metadata": {},
   "source": [
    "After fitting the models, we will call the `predict` method to generate forecasts with prediction intervals. The method takes the following arguments:\n",
    "\n",
    "- `horizon`: An integer that represent the forecasting horizon. In this case, we'll forecast the next 48 hours. \n",
    "- `level`: A list of floats with the confidence levels of the prediction intervals. For example, `level=[95]` means that the range of values should include the actual future value with probability 95%. "
   ]
  },
  {
   "cell_type": "code",
   "execution_count": null,
   "id": "347615cd-2b79-40f5-9bc1-0a7198760b16",
   "metadata": {},
   "outputs": [
    {
     "data": {
      "text/html": [
       "<div>\n",
       "<style scoped>\n",
       "    .dataframe tbody tr th:only-of-type {\n",
       "        vertical-align: middle;\n",
       "    }\n",
       "\n",
       "    .dataframe tbody tr th {\n",
       "        vertical-align: top;\n",
       "    }\n",
       "\n",
       "    .dataframe thead th {\n",
       "        text-align: right;\n",
       "    }\n",
       "</style>\n",
       "<table border=\"1\" class=\"dataframe\">\n",
       "  <thead>\n",
       "    <tr style=\"text-align: right;\">\n",
       "      <th></th>\n",
       "      <th>unique_id</th>\n",
       "      <th>ds</th>\n",
       "      <th>Ridge</th>\n",
       "      <th>Lasso</th>\n",
       "      <th>LinearRegression</th>\n",
       "      <th>KNeighborsRegressor</th>\n",
       "      <th>MLPRegressor</th>\n",
       "      <th>Ridge-lo-95</th>\n",
       "      <th>Ridge-lo-80</th>\n",
       "      <th>Ridge-lo-50</th>\n",
       "      <th>...</th>\n",
       "      <th>KNeighborsRegressor-lo-50</th>\n",
       "      <th>KNeighborsRegressor-hi-50</th>\n",
       "      <th>KNeighborsRegressor-hi-80</th>\n",
       "      <th>KNeighborsRegressor-hi-95</th>\n",
       "      <th>MLPRegressor-lo-95</th>\n",
       "      <th>MLPRegressor-lo-80</th>\n",
       "      <th>MLPRegressor-lo-50</th>\n",
       "      <th>MLPRegressor-hi-50</th>\n",
       "      <th>MLPRegressor-hi-80</th>\n",
       "      <th>MLPRegressor-hi-95</th>\n",
       "    </tr>\n",
       "  </thead>\n",
       "  <tbody>\n",
       "    <tr>\n",
       "      <th>0</th>\n",
       "      <td>H1</td>\n",
       "      <td>701</td>\n",
       "      <td>612.418170</td>\n",
       "      <td>612.418079</td>\n",
       "      <td>612.418170</td>\n",
       "      <td>615.2</td>\n",
       "      <td>612.651532</td>\n",
       "      <td>590.473256</td>\n",
       "      <td>594.326570</td>\n",
       "      <td>603.409944</td>\n",
       "      <td>...</td>\n",
       "      <td>609.45</td>\n",
       "      <td>620.95</td>\n",
       "      <td>627.20</td>\n",
       "      <td>631.310</td>\n",
       "      <td>584.736193</td>\n",
       "      <td>591.084898</td>\n",
       "      <td>597.462107</td>\n",
       "      <td>627.840957</td>\n",
       "      <td>634.218166</td>\n",
       "      <td>640.566870</td>\n",
       "    </tr>\n",
       "    <tr>\n",
       "      <th>1</th>\n",
       "      <td>H1</td>\n",
       "      <td>702</td>\n",
       "      <td>552.309298</td>\n",
       "      <td>552.308073</td>\n",
       "      <td>552.309298</td>\n",
       "      <td>551.6</td>\n",
       "      <td>548.791801</td>\n",
       "      <td>498.721501</td>\n",
       "      <td>518.433843</td>\n",
       "      <td>532.710850</td>\n",
       "      <td>...</td>\n",
       "      <td>535.85</td>\n",
       "      <td>567.35</td>\n",
       "      <td>569.16</td>\n",
       "      <td>597.525</td>\n",
       "      <td>497.308756</td>\n",
       "      <td>500.417799</td>\n",
       "      <td>515.452396</td>\n",
       "      <td>582.131207</td>\n",
       "      <td>597.165804</td>\n",
       "      <td>600.274847</td>\n",
       "    </tr>\n",
       "    <tr>\n",
       "      <th>2</th>\n",
       "      <td>H1</td>\n",
       "      <td>703</td>\n",
       "      <td>494.943384</td>\n",
       "      <td>494.943367</td>\n",
       "      <td>494.943384</td>\n",
       "      <td>509.6</td>\n",
       "      <td>490.226796</td>\n",
       "      <td>448.253304</td>\n",
       "      <td>463.266064</td>\n",
       "      <td>475.006125</td>\n",
       "      <td>...</td>\n",
       "      <td>492.70</td>\n",
       "      <td>526.50</td>\n",
       "      <td>530.92</td>\n",
       "      <td>544.180</td>\n",
       "      <td>424.587658</td>\n",
       "      <td>436.042788</td>\n",
       "      <td>448.682502</td>\n",
       "      <td>531.771091</td>\n",
       "      <td>544.410804</td>\n",
       "      <td>555.865935</td>\n",
       "    </tr>\n",
       "    <tr>\n",
       "      <th>3</th>\n",
       "      <td>H1</td>\n",
       "      <td>704</td>\n",
       "      <td>462.815779</td>\n",
       "      <td>462.815363</td>\n",
       "      <td>462.815779</td>\n",
       "      <td>474.6</td>\n",
       "      <td>459.619069</td>\n",
       "      <td>409.975219</td>\n",
       "      <td>422.243593</td>\n",
       "      <td>436.128272</td>\n",
       "      <td>...</td>\n",
       "      <td>451.80</td>\n",
       "      <td>497.40</td>\n",
       "      <td>510.26</td>\n",
       "      <td>525.500</td>\n",
       "      <td>379.291083</td>\n",
       "      <td>392.580306</td>\n",
       "      <td>413.353178</td>\n",
       "      <td>505.884959</td>\n",
       "      <td>526.657832</td>\n",
       "      <td>539.947054</td>\n",
       "    </tr>\n",
       "    <tr>\n",
       "      <th>4</th>\n",
       "      <td>H1</td>\n",
       "      <td>705</td>\n",
       "      <td>440.141034</td>\n",
       "      <td>440.140586</td>\n",
       "      <td>440.141034</td>\n",
       "      <td>451.6</td>\n",
       "      <td>438.091712</td>\n",
       "      <td>377.999588</td>\n",
       "      <td>392.523016</td>\n",
       "      <td>413.474795</td>\n",
       "      <td>...</td>\n",
       "      <td>427.40</td>\n",
       "      <td>475.80</td>\n",
       "      <td>488.96</td>\n",
       "      <td>503.945</td>\n",
       "      <td>348.618034</td>\n",
       "      <td>362.503767</td>\n",
       "      <td>386.303325</td>\n",
       "      <td>489.880099</td>\n",
       "      <td>513.679657</td>\n",
       "      <td>527.565389</td>\n",
       "    </tr>\n",
       "  </tbody>\n",
       "</table>\n",
       "<p>5 rows × 37 columns</p>\n",
       "</div>"
      ],
      "text/plain": [
       "  unique_id   ds       Ridge       Lasso  LinearRegression  \\\n",
       "0        H1  701  612.418170  612.418079        612.418170   \n",
       "1        H1  702  552.309298  552.308073        552.309298   \n",
       "2        H1  703  494.943384  494.943367        494.943384   \n",
       "3        H1  704  462.815779  462.815363        462.815779   \n",
       "4        H1  705  440.141034  440.140586        440.141034   \n",
       "\n",
       "   KNeighborsRegressor  MLPRegressor  Ridge-lo-95  Ridge-lo-80  Ridge-lo-50  \\\n",
       "0                615.2    612.651532   590.473256   594.326570   603.409944   \n",
       "1                551.6    548.791801   498.721501   518.433843   532.710850   \n",
       "2                509.6    490.226796   448.253304   463.266064   475.006125   \n",
       "3                474.6    459.619069   409.975219   422.243593   436.128272   \n",
       "4                451.6    438.091712   377.999588   392.523016   413.474795   \n",
       "\n",
       "   ...  KNeighborsRegressor-lo-50  KNeighborsRegressor-hi-50  \\\n",
       "0  ...                     609.45                     620.95   \n",
       "1  ...                     535.85                     567.35   \n",
       "2  ...                     492.70                     526.50   \n",
       "3  ...                     451.80                     497.40   \n",
       "4  ...                     427.40                     475.80   \n",
       "\n",
       "   KNeighborsRegressor-hi-80  KNeighborsRegressor-hi-95  MLPRegressor-lo-95  \\\n",
       "0                     627.20                    631.310          584.736193   \n",
       "1                     569.16                    597.525          497.308756   \n",
       "2                     530.92                    544.180          424.587658   \n",
       "3                     510.26                    525.500          379.291083   \n",
       "4                     488.96                    503.945          348.618034   \n",
       "\n",
       "   MLPRegressor-lo-80  MLPRegressor-lo-50  MLPRegressor-hi-50  \\\n",
       "0          591.084898          597.462107          627.840957   \n",
       "1          500.417799          515.452396          582.131207   \n",
       "2          436.042788          448.682502          531.771091   \n",
       "3          392.580306          413.353178          505.884959   \n",
       "4          362.503767          386.303325          489.880099   \n",
       "\n",
       "   MLPRegressor-hi-80  MLPRegressor-hi-95  \n",
       "0          634.218166          640.566870  \n",
       "1          597.165804          600.274847  \n",
       "2          544.410804          555.865935  \n",
       "3          526.657832          539.947054  \n",
       "4          513.679657          527.565389  \n",
       "\n",
       "[5 rows x 37 columns]"
      ]
     },
     "execution_count": null,
     "metadata": {},
     "output_type": "execute_result"
    }
   ],
   "source": [
    "levels = [50, 80, 95]\n",
    "forecasts = mlf.predict(48, level=levels)\n",
    "forecasts.head()"
   ]
  },
  {
   "cell_type": "code",
   "execution_count": null,
   "id": "7f24fabf-3700-484c-8ac4-03f1353529cd",
   "metadata": {},
   "outputs": [],
   "source": [
    "test = test.merge(forecasts, how='left', on=['unique_id', 'ds'])"
   ]
  },
  {
   "cell_type": "markdown",
   "id": "25ef378e-9ead-4959-895f-a7e7e14c0d6a",
   "metadata": {},
   "source": [
    "## Plot prediction intervals"
   ]
  },
  {
   "cell_type": "markdown",
   "id": "94988a2e-6d97-4c62-8ce0-4ba0d1d30618",
   "metadata": {},
   "source": [
    "To plot the point and the prediction intervals, we'll use the `plot_series` function again. Notice that now we also need to specify the model and the levels that we want to plot. "
   ]
  },
  {
   "cell_type": "markdown",
   "id": "27d7def9-ddc5-41cf-b278-86f4b8940e6e",
   "metadata": {},
   "source": [
    "### KNeighborsRegressor"
   ]
  },
  {
   "cell_type": "code",
   "execution_count": null,
   "id": "d2af5601-c7f3-44a1-b621-ca8cec454b4f",
   "metadata": {},
   "outputs": [],
   "source": [
    "fig = plot_series(\n",
    "    train, \n",
    "    test, \n",
    "    plot_random=False, \n",
    "    models=['KNeighborsRegressor'], \n",
    "    level=levels, \n",
    "    max_insample_length=48\n",
    ")"
   ]
  },
  {
   "cell_type": "code",
   "execution_count": null,
   "id": "dc5c4d11-f5a9-4085-8753-80a35a4bca8f",
   "metadata": {},
   "outputs": [],
   "source": [
    "#| hide\n",
    "fig.savefig('../../figs/prediction_intervals__knn.png', bbox_inches='tight')"
   ]
  },
  {
   "cell_type": "markdown",
   "id": "87081521-d977-474a-8cd9-acaaaff6e261",
   "metadata": {},
   "source": [
    "![](../../figs/prediction_intervals__knn.png)"
   ]
  },
  {
   "cell_type": "markdown",
   "id": "614c2b19-64c5-4f31-84c5-f6e046d3cc2d",
   "metadata": {},
   "source": [
    "### Lasso"
   ]
  },
  {
   "cell_type": "code",
   "execution_count": null,
   "id": "489bfde6-7d45-4ccd-ab55-53f3775fa0f2",
   "metadata": {},
   "outputs": [],
   "source": [
    "fig = plot_series(\n",
    "    train, \n",
    "    test, \n",
    "    plot_random=False, \n",
    "    models=['Lasso'],\n",
    "    level=levels, \n",
    "    max_insample_length=48\n",
    ")"
   ]
  },
  {
   "cell_type": "code",
   "execution_count": null,
   "id": "4efdeece-6369-4497-ba9f-2353b90a1554",
   "metadata": {},
   "outputs": [],
   "source": [
    "#| hide\n",
    "fig.savefig('../../figs/prediction_intervals__lasso.png', bbox_inches='tight')"
   ]
  },
  {
   "cell_type": "markdown",
   "id": "505ea889-1e35-4dd7-8085-ecae470d9754",
   "metadata": {},
   "source": [
    "![](../../figs/prediction_intervals__lasso.png)"
   ]
  },
  {
   "cell_type": "markdown",
   "id": "c1441634-4ceb-44e9-91b7-6bb51231a7b0",
   "metadata": {},
   "source": [
    "### LineaRegression"
   ]
  },
  {
   "cell_type": "code",
   "execution_count": null,
   "id": "7bf4a0ba-f579-421c-9b8c-92136030da5f",
   "metadata": {},
   "outputs": [],
   "source": [
    "fig = plot_series(\n",
    "    train, \n",
    "    test, \n",
    "    plot_random=False, \n",
    "    models=['LinearRegression'],\n",
    "    level=levels, \n",
    "    max_insample_length=48\n",
    ")"
   ]
  },
  {
   "cell_type": "code",
   "execution_count": null,
   "id": "0eb80573-c053-48e8-af93-f76b41c97ba7",
   "metadata": {},
   "outputs": [],
   "source": [
    "#| hide\n",
    "fig.savefig('../../figs/prediction_intervals__lr.png', bbox_inches='tight')"
   ]
  },
  {
   "cell_type": "markdown",
   "id": "ee8f4112-0077-40c6-96cf-781c0a30eb2b",
   "metadata": {},
   "source": [
    "![](../../figs/prediction_intervals__lr.png)"
   ]
  },
  {
   "cell_type": "markdown",
   "id": "159dd1dc-9be5-4bdf-b5f2-77c793ec42e1",
   "metadata": {},
   "source": [
    "### MLPRegressor"
   ]
  },
  {
   "cell_type": "code",
   "execution_count": null,
   "id": "e955aacc-a7ca-4e57-908f-4247855670e6",
   "metadata": {},
   "outputs": [],
   "source": [
    "fig = plot_series(\n",
    "    train, \n",
    "    test, \n",
    "    plot_random=False, \n",
    "    models=['MLPRegressor'],\n",
    "    level=levels, \n",
    "    max_insample_length=48\n",
    ")"
   ]
  },
  {
   "cell_type": "code",
   "execution_count": null,
   "id": "863cf88c-7271-4805-b069-eb5caa447dcb",
   "metadata": {},
   "outputs": [],
   "source": [
    "#| hide\n",
    "fig.savefig('../../figs/prediction_intervals__mlp.png', bbox_inches='tight')"
   ]
  },
  {
   "cell_type": "markdown",
   "id": "695526f6-5411-4a9c-923f-14740715dd50",
   "metadata": {},
   "source": [
    "![](../figs/prediction_intervals__mlp.png)"
   ]
  },
  {
   "cell_type": "markdown",
   "id": "e702f2c4-0667-4574-9444-56536436af57",
   "metadata": {},
   "source": [
    "### Ridge"
   ]
  },
  {
   "cell_type": "code",
   "execution_count": null,
   "id": "ad3213ae-f794-403c-95e7-4b2cbd0ab1d3",
   "metadata": {},
   "outputs": [],
   "source": [
    "fig = plot_series(\n",
    "    train, \n",
    "    test, \n",
    "    plot_random=False, \n",
    "    models=['Ridge'],\n",
    "    level=levels, \n",
    "    max_insample_length=48\n",
    ")"
   ]
  },
  {
   "cell_type": "code",
   "execution_count": null,
   "id": "c5f415bd-4207-4f2f-84f3-6fcfa0a067ef",
   "metadata": {},
   "outputs": [],
   "source": [
    "#| hide\n",
    "fig.savefig('../../figs/prediction_intervals__ridge.png', bbox_inches='tight')"
   ]
  },
  {
   "cell_type": "markdown",
   "id": "f89545ab-ad44-404d-a3e3-a5c22573a381",
   "metadata": {},
   "source": [
    "![](../../figs/prediction_intervals__ridge.png)"
   ]
  },
  {
   "cell_type": "markdown",
   "id": "e07c6e73-d641-479e-a554-39b4bd4df231",
   "metadata": {},
   "source": [
    "From these plots, we can conclude that the uncertainty around each forecast varies according to the model that is being used. For the same time series, one model can predict a wider range of possible future values than others. "
   ]
  },
  {
   "cell_type": "markdown",
   "id": "8f534698-b194-4799-92d3-dc18f6cf0929",
   "metadata": {},
   "source": [
    "## References \n",
    "\n",
    "- [Kamile Stankeviciute, Ahmed M. Alaa and Mihaela van der Schaar (2021). \"Conformal Time-Series Forecasting\"](https://proceedings.neurips.cc/paper/2021/file/312f1ba2a72318edaaa995a67835fad5-Paper.pdf)\n",
    "- [Rob J. Hyndman and George Athanasopoulos (2018). \"Forecasting principles and practice, The Statistical Forecasting Perspective\"](https://otexts.com/fpp3/perspective.html).\n"
   ]
  }
 ],
 "metadata": {
  "kernelspec": {
   "display_name": "python3",
   "language": "python",
   "name": "python3"
  }
 },
 "nbformat": 4,
 "nbformat_minor": 5
}
