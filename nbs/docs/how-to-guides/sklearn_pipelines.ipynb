{
 "cells": [
  {
   "cell_type": "code",
   "execution_count": null,
   "id": "c05b984a-6fef-49f2-bb42-3158c22f8ed6",
   "metadata": {},
   "outputs": [],
   "source": [
    "#| hide\n",
    "%load_ext autoreload\n",
    "%autoreload 2"
   ]
  },
  {
   "cell_type": "markdown",
   "id": "84358bc5-82e6-45e4-9160-8964d2dc6812",
   "metadata": {},
   "source": [
    "# Using scikit-learn pipelines\n",
    "> Leverage scikit-learn's composability to define pipelines as models"
   ]
  },
  {
   "cell_type": "markdown",
   "id": "a72962e0-1de5-47f7-a2ed-86bca8d519b3",
   "metadata": {},
   "source": [
    "mlforecast takes scikit-learn estimators as models, which means you can provide [scikit-learn's pipelines](https://scikit-learn.org/stable/modules/generated/sklearn.pipeline.Pipeline.html) as models in order to further apply transformations to the data before passing it to the model."
   ]
  },
  {
   "cell_type": "markdown",
   "id": "6f228bf3-9e11-4b9b-847a-fb06c11e079f",
   "metadata": {},
   "source": [
    "## Data setup"
   ]
  },
  {
   "cell_type": "code",
   "execution_count": null,
   "id": "0434a0f0-a9aa-4a03-a33f-512343d7f54d",
   "metadata": {},
   "outputs": [],
   "source": [
    "from mlforecast.utils import generate_daily_series"
   ]
  },
  {
   "cell_type": "code",
   "execution_count": null,
   "id": "15efaf5a-5124-4ff5-92ab-39174a58f19c",
   "metadata": {},
   "outputs": [
    {
     "data": {
      "text/html": [
       "<div>\n",
       "<style scoped>\n",
       "    .dataframe tbody tr th:only-of-type {\n",
       "        vertical-align: middle;\n",
       "    }\n",
       "\n",
       "    .dataframe tbody tr th {\n",
       "        vertical-align: top;\n",
       "    }\n",
       "\n",
       "    .dataframe thead th {\n",
       "        text-align: right;\n",
       "    }\n",
       "</style>\n",
       "<table border=\"1\" class=\"dataframe\">\n",
       "  <thead>\n",
       "    <tr style=\"text-align: right;\">\n",
       "      <th></th>\n",
       "      <th>unique_id</th>\n",
       "      <th>ds</th>\n",
       "      <th>y</th>\n",
       "    </tr>\n",
       "  </thead>\n",
       "  <tbody>\n",
       "    <tr>\n",
       "      <th>0</th>\n",
       "      <td>id_0</td>\n",
       "      <td>2000-01-01</td>\n",
       "      <td>0.428973</td>\n",
       "    </tr>\n",
       "    <tr>\n",
       "      <th>1</th>\n",
       "      <td>id_0</td>\n",
       "      <td>2000-01-02</td>\n",
       "      <td>1.423626</td>\n",
       "    </tr>\n",
       "    <tr>\n",
       "      <th>2</th>\n",
       "      <td>id_0</td>\n",
       "      <td>2000-01-03</td>\n",
       "      <td>2.311782</td>\n",
       "    </tr>\n",
       "    <tr>\n",
       "      <th>3</th>\n",
       "      <td>id_0</td>\n",
       "      <td>2000-01-04</td>\n",
       "      <td>3.192191</td>\n",
       "    </tr>\n",
       "    <tr>\n",
       "      <th>4</th>\n",
       "      <td>id_0</td>\n",
       "      <td>2000-01-05</td>\n",
       "      <td>4.148767</td>\n",
       "    </tr>\n",
       "  </tbody>\n",
       "</table>\n",
       "</div>"
      ],
      "text/plain": [
       "  unique_id         ds         y\n",
       "0      id_0 2000-01-01  0.428973\n",
       "1      id_0 2000-01-02  1.423626\n",
       "2      id_0 2000-01-03  2.311782\n",
       "3      id_0 2000-01-04  3.192191\n",
       "4      id_0 2000-01-05  4.148767"
      ]
     },
     "execution_count": null,
     "metadata": {},
     "output_type": "execute_result"
    }
   ],
   "source": [
    "series = generate_daily_series(5)\n",
    "series.head()"
   ]
  },
  {
   "cell_type": "markdown",
   "id": "3bc1b294-08cb-4723-896e-2c154dd0a22b",
   "metadata": {},
   "source": [
    "## Pipelines definition"
   ]
  },
  {
   "cell_type": "markdown",
   "id": "342e6a76-0b63-469c-87f4-ec40a4e7bf25",
   "metadata": {},
   "source": [
    "Suppose that you want to use a linear regression model with the lag1 and the day of the week as features. mlforecast returns the day of the week as a single column, however, that's not the optimal format for a linear regression model, which benefits more from having indicator columns for each day of the week (removing one to avoid colinearity). We can achieve this by using [scikit-learn's OneHotEncoder](https://scikit-learn.org/stable/modules/generated/sklearn.preprocessing.OneHotEncoder.html) and then fitting our linear regression model, which we can do in the following way:"
   ]
  },
  {
   "cell_type": "code",
   "execution_count": null,
   "id": "8c7a2de2-901d-460b-8561-d765cf8a6f74",
   "metadata": {},
   "outputs": [],
   "source": [
    "from mlforecast import MLForecast\n",
    "from sklearn.compose import ColumnTransformer\n",
    "from sklearn.linear_model import LinearRegression\n",
    "from sklearn.pipeline import make_pipeline\n",
    "from sklearn.preprocessing import OneHotEncoder"
   ]
  },
  {
   "cell_type": "code",
   "execution_count": null,
   "id": "e870ecb3-e866-45cb-bd3d-c0f08ff5383b",
   "metadata": {},
   "outputs": [
    {
     "data": {
      "text/html": [
       "<div>\n",
       "<style scoped>\n",
       "    .dataframe tbody tr th:only-of-type {\n",
       "        vertical-align: middle;\n",
       "    }\n",
       "\n",
       "    .dataframe tbody tr th {\n",
       "        vertical-align: top;\n",
       "    }\n",
       "\n",
       "    .dataframe thead th {\n",
       "        text-align: right;\n",
       "    }\n",
       "</style>\n",
       "<table border=\"1\" class=\"dataframe\">\n",
       "  <thead>\n",
       "    <tr style=\"text-align: right;\">\n",
       "      <th></th>\n",
       "      <th>lag1</th>\n",
       "      <th>dayofweek</th>\n",
       "    </tr>\n",
       "  </thead>\n",
       "  <tbody>\n",
       "    <tr>\n",
       "      <th>1</th>\n",
       "      <td>0.428973</td>\n",
       "      <td>6</td>\n",
       "    </tr>\n",
       "    <tr>\n",
       "      <th>2</th>\n",
       "      <td>1.423626</td>\n",
       "      <td>0</td>\n",
       "    </tr>\n",
       "    <tr>\n",
       "      <th>3</th>\n",
       "      <td>2.311782</td>\n",
       "      <td>1</td>\n",
       "    </tr>\n",
       "    <tr>\n",
       "      <th>4</th>\n",
       "      <td>3.192191</td>\n",
       "      <td>2</td>\n",
       "    </tr>\n",
       "    <tr>\n",
       "      <th>5</th>\n",
       "      <td>4.148767</td>\n",
       "      <td>3</td>\n",
       "    </tr>\n",
       "  </tbody>\n",
       "</table>\n",
       "</div>"
      ],
      "text/plain": [
       "       lag1  dayofweek\n",
       "1  0.428973          6\n",
       "2  1.423626          0\n",
       "3  2.311782          1\n",
       "4  3.192191          2\n",
       "5  4.148767          3"
      ]
     },
     "execution_count": null,
     "metadata": {},
     "output_type": "execute_result"
    }
   ],
   "source": [
    "fcst = MLForecast(\n",
    "    models=[],\n",
    "    freq='D',\n",
    "    lags=[1],\n",
    "    date_features=['dayofweek']\n",
    ")\n",
    "X, y = fcst.preprocess(series, return_X_y=True)\n",
    "X.head()"
   ]
  },
  {
   "cell_type": "markdown",
   "id": "e1f5d483-d21c-4c0d-9833-fcc4e28aee19",
   "metadata": {},
   "source": [
    "This is what will be passed to our model, so we'd like to get the `dayofweek` column and perform one hot encoding, leaving the `lag1` column untouched. We can achieve that with the following:"
   ]
  },
  {
   "cell_type": "code",
   "execution_count": null,
   "id": "e22e8517-3822-4f4e-a9a0-1595ab80021f",
   "metadata": {},
   "outputs": [
    {
     "data": {
      "text/plain": [
       "(1096, 7)"
      ]
     },
     "execution_count": null,
     "metadata": {},
     "output_type": "execute_result"
    }
   ],
   "source": [
    "ohe = ColumnTransformer(\n",
    "    transformers=[\n",
    "        ('encoder', OneHotEncoder(drop='first'), ['dayofweek'])\n",
    "    ],\n",
    "    remainder='passthrough',\n",
    ")\n",
    "X_transformed = ohe.fit_transform(X)\n",
    "X_transformed.shape"
   ]
  },
  {
   "cell_type": "markdown",
   "id": "05eeb2ae-fdd7-4127-80f2-c12363f52447",
   "metadata": {},
   "source": [
    "We can see that our data now has 7 columns, 1 for the lag plus 6 for the days of the week (we dropped the first one)."
   ]
  },
  {
   "cell_type": "code",
   "execution_count": null,
   "id": "1bf67706-a5e7-4a1a-b0de-3b0c85a431ae",
   "metadata": {},
   "outputs": [
    {
     "data": {
      "text/plain": [
       "array(['encoder__dayofweek_1', 'encoder__dayofweek_2',\n",
       "       'encoder__dayofweek_3', 'encoder__dayofweek_4',\n",
       "       'encoder__dayofweek_5', 'encoder__dayofweek_6', 'remainder__lag1'],\n",
       "      dtype=object)"
      ]
     },
     "execution_count": null,
     "metadata": {},
     "output_type": "execute_result"
    }
   ],
   "source": [
    "ohe.get_feature_names_out()"
   ]
  },
  {
   "cell_type": "markdown",
   "id": "040ae679-4139-440b-8497-4acd1fbb17b7",
   "metadata": {},
   "source": [
    "## Training"
   ]
  },
  {
   "cell_type": "markdown",
   "id": "0fa5d281-4a46-4f26-9de2-19f2ce691fae",
   "metadata": {},
   "source": [
    "We can now build a pipeline that does this and then passes it to our linear regression model."
   ]
  },
  {
   "cell_type": "code",
   "execution_count": null,
   "id": "da4b2238-908c-4933-9b8f-b2467d2e211a",
   "metadata": {},
   "outputs": [],
   "source": [
    "model = make_pipeline(ohe, LinearRegression())"
   ]
  },
  {
   "cell_type": "markdown",
   "id": "9845b81f-a29c-4ce8-b590-85e27a23b59a",
   "metadata": {},
   "source": [
    "And provide this as a model to mlforecast"
   ]
  },
  {
   "cell_type": "code",
   "execution_count": null,
   "id": "f7aa0298-d6e6-4daa-83e0-e36d14c710d9",
   "metadata": {},
   "outputs": [
    {
     "data": {
      "text/plain": [
       "MLForecast(models=[ohe_lr], freq=<Day>, lag_features=['lag1'], date_features=['dayofweek'], num_threads=1)"
      ]
     },
     "execution_count": null,
     "metadata": {},
     "output_type": "execute_result"
    }
   ],
   "source": [
    "fcst = MLForecast(\n",
    "    models={'ohe_lr': model},\n",
    "    freq='D',\n",
    "    lags=[1],\n",
    "    date_features=['dayofweek']\n",
    ")\n",
    "fcst.fit(series)"
   ]
  },
  {
   "cell_type": "markdown",
   "id": "6cdc6431-53ff-4a53-a903-704f72b6c375",
   "metadata": {},
   "source": [
    "## Forecasting"
   ]
  },
  {
   "cell_type": "markdown",
   "id": "53b01087-0633-4b55-a382-138b308ae147",
   "metadata": {},
   "source": [
    "Finally, we compute the forecasts."
   ]
  },
  {
   "cell_type": "code",
   "execution_count": null,
   "id": "70539e47-76ea-4267-bad3-484defdf6ddb",
   "metadata": {},
   "outputs": [
    {
     "data": {
      "text/html": [
       "<div>\n",
       "<style scoped>\n",
       "    .dataframe tbody tr th:only-of-type {\n",
       "        vertical-align: middle;\n",
       "    }\n",
       "\n",
       "    .dataframe tbody tr th {\n",
       "        vertical-align: top;\n",
       "    }\n",
       "\n",
       "    .dataframe thead th {\n",
       "        text-align: right;\n",
       "    }\n",
       "</style>\n",
       "<table border=\"1\" class=\"dataframe\">\n",
       "  <thead>\n",
       "    <tr style=\"text-align: right;\">\n",
       "      <th></th>\n",
       "      <th>unique_id</th>\n",
       "      <th>ds</th>\n",
       "      <th>ohe_lr</th>\n",
       "    </tr>\n",
       "  </thead>\n",
       "  <tbody>\n",
       "    <tr>\n",
       "      <th>0</th>\n",
       "      <td>id_0</td>\n",
       "      <td>2000-08-10</td>\n",
       "      <td>4.312748</td>\n",
       "    </tr>\n",
       "    <tr>\n",
       "      <th>1</th>\n",
       "      <td>id_1</td>\n",
       "      <td>2000-04-07</td>\n",
       "      <td>4.537019</td>\n",
       "    </tr>\n",
       "    <tr>\n",
       "      <th>2</th>\n",
       "      <td>id_2</td>\n",
       "      <td>2000-06-16</td>\n",
       "      <td>4.160505</td>\n",
       "    </tr>\n",
       "    <tr>\n",
       "      <th>3</th>\n",
       "      <td>id_3</td>\n",
       "      <td>2000-08-30</td>\n",
       "      <td>3.777040</td>\n",
       "    </tr>\n",
       "    <tr>\n",
       "      <th>4</th>\n",
       "      <td>id_4</td>\n",
       "      <td>2001-01-08</td>\n",
       "      <td>2.676933</td>\n",
       "    </tr>\n",
       "  </tbody>\n",
       "</table>\n",
       "</div>"
      ],
      "text/plain": [
       "  unique_id         ds    ohe_lr\n",
       "0      id_0 2000-08-10  4.312748\n",
       "1      id_1 2000-04-07  4.537019\n",
       "2      id_2 2000-06-16  4.160505\n",
       "3      id_3 2000-08-30  3.777040\n",
       "4      id_4 2001-01-08  2.676933"
      ]
     },
     "execution_count": null,
     "metadata": {},
     "output_type": "execute_result"
    }
   ],
   "source": [
    "fcst.predict(1)"
   ]
  },
  {
   "cell_type": "markdown",
   "id": "3de045c9-e3fe-441f-9d8c-0e9e1b6b92b5",
   "metadata": {},
   "source": [
    "## Summary"
   ]
  },
  {
   "cell_type": "markdown",
   "id": "0dce1e3f-b92e-483c-8e60-5faf5ce6e93b",
   "metadata": {},
   "source": [
    "You can provide complex scikit-learn pipelines as models to mlforecast, which allows you to perform different transformations depending on the model and use any of scikit-learn's compatible estimators."
   ]
  }
 ],
 "metadata": {
  "kernelspec": {
   "display_name": "python3",
   "language": "python",
   "name": "python3"
  }
 },
 "nbformat": 4,
 "nbformat_minor": 5
}
