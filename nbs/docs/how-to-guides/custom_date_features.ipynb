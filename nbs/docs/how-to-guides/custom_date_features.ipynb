{
 "cells": [
  {
   "cell_type": "code",
   "execution_count": null,
   "id": "84f2bb63-84d6-4f04-a5d7-3ef146e4bc45",
   "metadata": {},
   "outputs": [],
   "source": [
    "#| hide\n",
    "%load_ext autoreload\n",
    "%autoreload 2"
   ]
  },
  {
   "cell_type": "markdown",
   "id": "4ea65c79-0e5d-4b83-b6e7-95c76ad9c472",
   "metadata": {},
   "source": [
    "# Custom date features\n",
    "> Define your own functions to be used as date features"
   ]
  },
  {
   "cell_type": "code",
   "execution_count": null,
   "id": "99e98cae-11e0-4823-8603-ffe1f5f86734",
   "metadata": {},
   "outputs": [],
   "source": [
    "from mlforecast import MLForecast\n",
    "from mlforecast.utils import generate_daily_series"
   ]
  },
  {
   "cell_type": "markdown",
   "id": "5c156e10-15fa-4f85-830d-906c611e9432",
   "metadata": {},
   "source": [
    "The `date_features` argument of MLForecast can take pandas date attributes as well as functions that take a [pandas DatetimeIndex](https://pandas.pydata.org/docs/reference/api/pandas.DatetimeIndex.html) and return a numeric value. The name of the function is used as the name of the feature, so please use unique and descriptive names."
   ]
  },
  {
   "cell_type": "code",
   "execution_count": null,
   "id": "e02a3fe7-ae9e-41fe-835b-22678bb28448",
   "metadata": {},
   "outputs": [],
   "source": [
    "series = generate_daily_series(1, min_length=6, max_length=6)"
   ]
  },
  {
   "cell_type": "code",
   "execution_count": null,
   "id": "0647652d-b1a7-4506-8fa4-c7e7e94db915",
   "metadata": {},
   "outputs": [],
   "source": [
    "def even_day(dates):\n",
    "    \"\"\"Day of month is even\"\"\"\n",
    "    return dates.day % 2 == 0\n",
    "\n",
    "def month_start_or_end(dates):\n",
    "    \"\"\"Date is month start or month end\"\"\"\n",
    "    return dates.is_month_start | dates.is_month_end\n",
    "\n",
    "def is_monday(dates):\n",
    "    \"\"\"Date is monday\"\"\"\n",
    "    return dates.dayofweek == 0"
   ]
  },
  {
   "cell_type": "code",
   "execution_count": null,
   "id": "4bcc2ce3-0e5a-4e3d-886b-5e3dd1c7d45a",
   "metadata": {},
   "outputs": [
    {
     "data": {
      "text/html": [
       "<div>\n",
       "<style scoped>\n",
       "    .dataframe tbody tr th:only-of-type {\n",
       "        vertical-align: middle;\n",
       "    }\n",
       "\n",
       "    .dataframe tbody tr th {\n",
       "        vertical-align: top;\n",
       "    }\n",
       "\n",
       "    .dataframe thead th {\n",
       "        text-align: right;\n",
       "    }\n",
       "</style>\n",
       "<table border=\"1\" class=\"dataframe\">\n",
       "  <thead>\n",
       "    <tr style=\"text-align: right;\">\n",
       "      <th></th>\n",
       "      <th>unique_id</th>\n",
       "      <th>ds</th>\n",
       "      <th>y</th>\n",
       "      <th>dayofweek</th>\n",
       "      <th>dayofyear</th>\n",
       "      <th>even_day</th>\n",
       "      <th>month_start_or_end</th>\n",
       "      <th>is_monday</th>\n",
       "    </tr>\n",
       "  </thead>\n",
       "  <tbody>\n",
       "    <tr>\n",
       "      <th>0</th>\n",
       "      <td>id_0</td>\n",
       "      <td>2000-01-01</td>\n",
       "      <td>0.274407</td>\n",
       "      <td>5</td>\n",
       "      <td>1</td>\n",
       "      <td>False</td>\n",
       "      <td>True</td>\n",
       "      <td>False</td>\n",
       "    </tr>\n",
       "    <tr>\n",
       "      <th>1</th>\n",
       "      <td>id_0</td>\n",
       "      <td>2000-01-02</td>\n",
       "      <td>1.357595</td>\n",
       "      <td>6</td>\n",
       "      <td>2</td>\n",
       "      <td>True</td>\n",
       "      <td>False</td>\n",
       "      <td>False</td>\n",
       "    </tr>\n",
       "    <tr>\n",
       "      <th>2</th>\n",
       "      <td>id_0</td>\n",
       "      <td>2000-01-03</td>\n",
       "      <td>2.301382</td>\n",
       "      <td>0</td>\n",
       "      <td>3</td>\n",
       "      <td>False</td>\n",
       "      <td>False</td>\n",
       "      <td>True</td>\n",
       "    </tr>\n",
       "    <tr>\n",
       "      <th>3</th>\n",
       "      <td>id_0</td>\n",
       "      <td>2000-01-04</td>\n",
       "      <td>3.272442</td>\n",
       "      <td>1</td>\n",
       "      <td>4</td>\n",
       "      <td>True</td>\n",
       "      <td>False</td>\n",
       "      <td>False</td>\n",
       "    </tr>\n",
       "    <tr>\n",
       "      <th>4</th>\n",
       "      <td>id_0</td>\n",
       "      <td>2000-01-05</td>\n",
       "      <td>4.211827</td>\n",
       "      <td>2</td>\n",
       "      <td>5</td>\n",
       "      <td>False</td>\n",
       "      <td>False</td>\n",
       "      <td>False</td>\n",
       "    </tr>\n",
       "    <tr>\n",
       "      <th>5</th>\n",
       "      <td>id_0</td>\n",
       "      <td>2000-01-06</td>\n",
       "      <td>5.322947</td>\n",
       "      <td>3</td>\n",
       "      <td>6</td>\n",
       "      <td>True</td>\n",
       "      <td>False</td>\n",
       "      <td>False</td>\n",
       "    </tr>\n",
       "  </tbody>\n",
       "</table>\n",
       "</div>"
      ],
      "text/plain": [
       "  unique_id         ds         y  dayofweek  dayofyear  even_day  \\\n",
       "0      id_0 2000-01-01  0.274407          5          1     False   \n",
       "1      id_0 2000-01-02  1.357595          6          2      True   \n",
       "2      id_0 2000-01-03  2.301382          0          3     False   \n",
       "3      id_0 2000-01-04  3.272442          1          4      True   \n",
       "4      id_0 2000-01-05  4.211827          2          5     False   \n",
       "5      id_0 2000-01-06  5.322947          3          6      True   \n",
       "\n",
       "   month_start_or_end  is_monday  \n",
       "0                True      False  \n",
       "1               False      False  \n",
       "2               False       True  \n",
       "3               False      False  \n",
       "4               False      False  \n",
       "5               False      False  "
      ]
     },
     "execution_count": null,
     "metadata": {},
     "output_type": "execute_result"
    }
   ],
   "source": [
    "fcst = MLForecast(\n",
    "    [],\n",
    "    freq='D',\n",
    "    date_features=['dayofweek', 'dayofyear', even_day, month_start_or_end, is_monday]\n",
    ")\n",
    "fcst.preprocess(series)"
   ]
  }
 ],
 "metadata": {
  "kernelspec": {
   "display_name": "python3",
   "language": "python",
   "name": "python3"
  }
 },
 "nbformat": 4,
 "nbformat_minor": 5
}
