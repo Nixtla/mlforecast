{
 "cells": [
  {
   "cell_type": "code",
   "execution_count": null,
   "id": "2ae8ae29-28c3-4a10-a8bd-a395592a3afc",
   "metadata": {},
   "outputs": [],
   "source": [
    "#| hide\n",
    "%load_ext autoreload\n",
    "%autoreload 2"
   ]
  },
  {
   "cell_type": "markdown",
   "id": "469f64d1-409f-4d58-8875-0560ab14f7e6",
   "metadata": {},
   "source": [
    "# Exogenous features\n",
    "> Use exogenous regressors for training and predicting"
   ]
  },
  {
   "cell_type": "code",
   "execution_count": null,
   "id": "e84085d2-c8e2-4f80-ac00-2ead50a65d70",
   "metadata": {},
   "outputs": [],
   "source": [
    "import lightgbm as lgb\n",
    "import pandas as pd\n",
    "from mlforecast import MLForecast\n",
    "from mlforecast.lag_transforms import ExpandingMean, RollingMean\n",
    "from mlforecast.utils import generate_daily_series, generate_prices_for_series"
   ]
  },
  {
   "cell_type": "markdown",
   "id": "b101090d-2a5f-4bac-a357-7d4f96fdd61a",
   "metadata": {},
   "source": [
    "## Data setup"
   ]
  },
  {
   "cell_type": "code",
   "execution_count": null,
   "id": "c49f644a-08ec-4a42-b96d-01e4b564a322",
   "metadata": {},
   "outputs": [
    {
     "data": {
      "text/html": [
       "<div>\n",
       "<style scoped>\n",
       "    .dataframe tbody tr th:only-of-type {\n",
       "        vertical-align: middle;\n",
       "    }\n",
       "\n",
       "    .dataframe tbody tr th {\n",
       "        vertical-align: top;\n",
       "    }\n",
       "\n",
       "    .dataframe thead th {\n",
       "        text-align: right;\n",
       "    }\n",
       "</style>\n",
       "<table border=\"1\" class=\"dataframe\">\n",
       "  <thead>\n",
       "    <tr style=\"text-align: right;\">\n",
       "      <th></th>\n",
       "      <th>unique_id</th>\n",
       "      <th>ds</th>\n",
       "      <th>y</th>\n",
       "      <th>static_0</th>\n",
       "      <th>product_id</th>\n",
       "    </tr>\n",
       "  </thead>\n",
       "  <tbody>\n",
       "    <tr>\n",
       "      <th>0</th>\n",
       "      <td>id_00</td>\n",
       "      <td>2000-10-05</td>\n",
       "      <td>39.811983</td>\n",
       "      <td>79</td>\n",
       "      <td>45</td>\n",
       "    </tr>\n",
       "    <tr>\n",
       "      <th>1</th>\n",
       "      <td>id_00</td>\n",
       "      <td>2000-10-06</td>\n",
       "      <td>103.274013</td>\n",
       "      <td>79</td>\n",
       "      <td>45</td>\n",
       "    </tr>\n",
       "    <tr>\n",
       "      <th>2</th>\n",
       "      <td>id_00</td>\n",
       "      <td>2000-10-07</td>\n",
       "      <td>176.574744</td>\n",
       "      <td>79</td>\n",
       "      <td>45</td>\n",
       "    </tr>\n",
       "    <tr>\n",
       "      <th>3</th>\n",
       "      <td>id_00</td>\n",
       "      <td>2000-10-08</td>\n",
       "      <td>258.987900</td>\n",
       "      <td>79</td>\n",
       "      <td>45</td>\n",
       "    </tr>\n",
       "    <tr>\n",
       "      <th>4</th>\n",
       "      <td>id_00</td>\n",
       "      <td>2000-10-09</td>\n",
       "      <td>344.940404</td>\n",
       "      <td>79</td>\n",
       "      <td>45</td>\n",
       "    </tr>\n",
       "  </tbody>\n",
       "</table>\n",
       "</div>"
      ],
      "text/plain": [
       "  unique_id         ds           y static_0 product_id\n",
       "0     id_00 2000-10-05   39.811983       79         45\n",
       "1     id_00 2000-10-06  103.274013       79         45\n",
       "2     id_00 2000-10-07  176.574744       79         45\n",
       "3     id_00 2000-10-08  258.987900       79         45\n",
       "4     id_00 2000-10-09  344.940404       79         45"
      ]
     },
     "execution_count": null,
     "metadata": {},
     "output_type": "execute_result"
    }
   ],
   "source": [
    "series = generate_daily_series(\n",
    "    100, equal_ends=True, n_static_features=2\n",
    ").rename(columns={'static_1': 'product_id'})\n",
    "series.head()"
   ]
  },
  {
   "cell_type": "markdown",
   "id": "782a6bf1-b360-4aff-b37f-b9ed3ee131e5",
   "metadata": {},
   "source": [
    "## Use existing exogenous features"
   ]
  },
  {
   "cell_type": "markdown",
   "id": "96fe6893-70c5-4ef5-b318-686c69660a1d",
   "metadata": {},
   "source": [
    "In mlforecast the required columns are the series identifier, time and target. Any extra columns you have, like `static_0` and `product_id` here are considered to be static and are replicated when constructing the features for the next timestamp. You can disable this by passing `static_features` to `MLForecast.preprocess` or `MLForecast.fit`, which will only keep the columns you define there as static. Keep in mind that all features in your input dataframe will be used for training, so you'll have to provide the future values of exogenous features to `MLForecast.predict` through the `X_df` argument.\n",
    "\n",
    "Consider the following example. Suppose that we have a prices catalog for each id and date."
   ]
  },
  {
   "cell_type": "code",
   "execution_count": null,
   "id": "e794dca8-0555-4d7a-a836-39d38d30546c",
   "metadata": {},
   "outputs": [
    {
     "data": {
      "text/html": [
       "<div>\n",
       "<style scoped>\n",
       "    .dataframe tbody tr th:only-of-type {\n",
       "        vertical-align: middle;\n",
       "    }\n",
       "\n",
       "    .dataframe tbody tr th {\n",
       "        vertical-align: top;\n",
       "    }\n",
       "\n",
       "    .dataframe thead th {\n",
       "        text-align: right;\n",
       "    }\n",
       "</style>\n",
       "<table border=\"1\" class=\"dataframe\">\n",
       "  <thead>\n",
       "    <tr style=\"text-align: right;\">\n",
       "      <th></th>\n",
       "      <th>ds</th>\n",
       "      <th>unique_id</th>\n",
       "      <th>price</th>\n",
       "    </tr>\n",
       "  </thead>\n",
       "  <tbody>\n",
       "    <tr>\n",
       "      <th>0</th>\n",
       "      <td>2000-10-05</td>\n",
       "      <td>id_00</td>\n",
       "      <td>0.548814</td>\n",
       "    </tr>\n",
       "    <tr>\n",
       "      <th>1</th>\n",
       "      <td>2000-10-06</td>\n",
       "      <td>id_00</td>\n",
       "      <td>0.715189</td>\n",
       "    </tr>\n",
       "    <tr>\n",
       "      <th>2</th>\n",
       "      <td>2000-10-07</td>\n",
       "      <td>id_00</td>\n",
       "      <td>0.602763</td>\n",
       "    </tr>\n",
       "    <tr>\n",
       "      <th>3</th>\n",
       "      <td>2000-10-08</td>\n",
       "      <td>id_00</td>\n",
       "      <td>0.544883</td>\n",
       "    </tr>\n",
       "    <tr>\n",
       "      <th>4</th>\n",
       "      <td>2000-10-09</td>\n",
       "      <td>id_00</td>\n",
       "      <td>0.423655</td>\n",
       "    </tr>\n",
       "  </tbody>\n",
       "</table>\n",
       "</div>"
      ],
      "text/plain": [
       "          ds unique_id     price\n",
       "0 2000-10-05     id_00  0.548814\n",
       "1 2000-10-06     id_00  0.715189\n",
       "2 2000-10-07     id_00  0.602763\n",
       "3 2000-10-08     id_00  0.544883\n",
       "4 2000-10-09     id_00  0.423655"
      ]
     },
     "execution_count": null,
     "metadata": {},
     "output_type": "execute_result"
    }
   ],
   "source": [
    "prices_catalog = generate_prices_for_series(series)\n",
    "prices_catalog.head()"
   ]
  },
  {
   "cell_type": "markdown",
   "id": "89cc4e6c-b2e5-4482-94d2-3b96b1cc28b3",
   "metadata": {},
   "source": [
    "And that you have already merged these prices into your series dataframe."
   ]
  },
  {
   "cell_type": "code",
   "execution_count": null,
   "id": "8a2c0198-8c43-4555-9542-91d6f83027a3",
   "metadata": {},
   "outputs": [
    {
     "data": {
      "text/html": [
       "<div>\n",
       "<style scoped>\n",
       "    .dataframe tbody tr th:only-of-type {\n",
       "        vertical-align: middle;\n",
       "    }\n",
       "\n",
       "    .dataframe tbody tr th {\n",
       "        vertical-align: top;\n",
       "    }\n",
       "\n",
       "    .dataframe thead th {\n",
       "        text-align: right;\n",
       "    }\n",
       "</style>\n",
       "<table border=\"1\" class=\"dataframe\">\n",
       "  <thead>\n",
       "    <tr style=\"text-align: right;\">\n",
       "      <th></th>\n",
       "      <th>unique_id</th>\n",
       "      <th>ds</th>\n",
       "      <th>y</th>\n",
       "      <th>static_0</th>\n",
       "      <th>product_id</th>\n",
       "      <th>price</th>\n",
       "    </tr>\n",
       "  </thead>\n",
       "  <tbody>\n",
       "    <tr>\n",
       "      <th>0</th>\n",
       "      <td>id_00</td>\n",
       "      <td>2000-10-05</td>\n",
       "      <td>39.811983</td>\n",
       "      <td>79</td>\n",
       "      <td>45</td>\n",
       "      <td>0.548814</td>\n",
       "    </tr>\n",
       "    <tr>\n",
       "      <th>1</th>\n",
       "      <td>id_00</td>\n",
       "      <td>2000-10-06</td>\n",
       "      <td>103.274013</td>\n",
       "      <td>79</td>\n",
       "      <td>45</td>\n",
       "      <td>0.715189</td>\n",
       "    </tr>\n",
       "    <tr>\n",
       "      <th>2</th>\n",
       "      <td>id_00</td>\n",
       "      <td>2000-10-07</td>\n",
       "      <td>176.574744</td>\n",
       "      <td>79</td>\n",
       "      <td>45</td>\n",
       "      <td>0.602763</td>\n",
       "    </tr>\n",
       "    <tr>\n",
       "      <th>3</th>\n",
       "      <td>id_00</td>\n",
       "      <td>2000-10-08</td>\n",
       "      <td>258.987900</td>\n",
       "      <td>79</td>\n",
       "      <td>45</td>\n",
       "      <td>0.544883</td>\n",
       "    </tr>\n",
       "    <tr>\n",
       "      <th>4</th>\n",
       "      <td>id_00</td>\n",
       "      <td>2000-10-09</td>\n",
       "      <td>344.940404</td>\n",
       "      <td>79</td>\n",
       "      <td>45</td>\n",
       "      <td>0.423655</td>\n",
       "    </tr>\n",
       "  </tbody>\n",
       "</table>\n",
       "</div>"
      ],
      "text/plain": [
       "  unique_id         ds           y static_0 product_id     price\n",
       "0     id_00 2000-10-05   39.811983       79         45  0.548814\n",
       "1     id_00 2000-10-06  103.274013       79         45  0.715189\n",
       "2     id_00 2000-10-07  176.574744       79         45  0.602763\n",
       "3     id_00 2000-10-08  258.987900       79         45  0.544883\n",
       "4     id_00 2000-10-09  344.940404       79         45  0.423655"
      ]
     },
     "execution_count": null,
     "metadata": {},
     "output_type": "execute_result"
    }
   ],
   "source": [
    "series_with_prices = series.merge(prices_catalog, how='left')\n",
    "series_with_prices.head()"
   ]
  },
  {
   "cell_type": "markdown",
   "id": "589ec8e5-4592-4bae-82cb-b9fbd2cc4d48",
   "metadata": {},
   "source": [
    "This dataframe will be passed to `MLForecast.fit` (or `MLForecast.preprocess`). However, since the price is dynamic we have to tell that method that only `static_0` and `product_id` are static."
   ]
  },
  {
   "cell_type": "code",
   "execution_count": null,
   "id": "d5f1d758-6b2e-4152-95f6-d8eb78aa7bff",
   "metadata": {},
   "outputs": [
    {
     "data": {
      "text/plain": [
       "MLForecast(models=[LGBMRegressor], freq=D, lag_features=['lag7', 'expanding_mean_lag1', 'rolling_mean_lag7_window_size14'], date_features=['dayofweek', 'month'], num_threads=2)"
      ]
     },
     "execution_count": null,
     "metadata": {},
     "output_type": "execute_result"
    }
   ],
   "source": [
    "fcst = MLForecast(\n",
    "    models=lgb.LGBMRegressor(n_jobs=1, random_state=0, verbosity=-1),\n",
    "    freq='D',\n",
    "    lags=[7],\n",
    "    lag_transforms={\n",
    "        1: [ExpandingMean()],\n",
    "        7: [RollingMean(window_size=14)],\n",
    "    },\n",
    "    date_features=['dayofweek', 'month'],\n",
    "    num_threads=2,\n",
    ")\n",
    "fcst.fit(series_with_prices, static_features=['static_0', 'product_id'])"
   ]
  },
  {
   "cell_type": "markdown",
   "id": "9ed41b7f-a423-4400-99e4-a2418d0a8c0a",
   "metadata": {},
   "source": [
    "The features used for training are stored in `MLForecast.ts.features_order_`. As you can see `price` was used for training."
   ]
  },
  {
   "cell_type": "code",
   "execution_count": null,
   "id": "9178f3ae-513f-4a0d-a5bd-f3e038df4d8f",
   "metadata": {},
   "outputs": [
    {
     "data": {
      "text/plain": [
       "['static_0',\n",
       " 'product_id',\n",
       " 'price',\n",
       " 'lag7',\n",
       " 'expanding_mean_lag1',\n",
       " 'rolling_mean_lag7_window_size14',\n",
       " 'dayofweek',\n",
       " 'month']"
      ]
     },
     "execution_count": null,
     "metadata": {},
     "output_type": "execute_result"
    }
   ],
   "source": [
    "fcst.ts.features_order_"
   ]
  },
  {
   "cell_type": "markdown",
   "id": "9d403522-d592-40fc-b924-9b4c14df80ca",
   "metadata": {},
   "source": [
    "So in order to update the price in each timestep we just call `MLForecast.predict` with our forecast horizon and pass the prices catalog through `X_df`."
   ]
  },
  {
   "cell_type": "code",
   "execution_count": null,
   "id": "3dec2dfb-49c3-4b97-992b-23c0b9dee85e",
   "metadata": {},
   "outputs": [
    {
     "data": {
      "text/html": [
       "<div>\n",
       "<style scoped>\n",
       "    .dataframe tbody tr th:only-of-type {\n",
       "        vertical-align: middle;\n",
       "    }\n",
       "\n",
       "    .dataframe tbody tr th {\n",
       "        vertical-align: top;\n",
       "    }\n",
       "\n",
       "    .dataframe thead th {\n",
       "        text-align: right;\n",
       "    }\n",
       "</style>\n",
       "<table border=\"1\" class=\"dataframe\">\n",
       "  <thead>\n",
       "    <tr style=\"text-align: right;\">\n",
       "      <th></th>\n",
       "      <th>unique_id</th>\n",
       "      <th>ds</th>\n",
       "      <th>LGBMRegressor</th>\n",
       "    </tr>\n",
       "  </thead>\n",
       "  <tbody>\n",
       "    <tr>\n",
       "      <th>0</th>\n",
       "      <td>id_00</td>\n",
       "      <td>2001-05-15</td>\n",
       "      <td>418.930093</td>\n",
       "    </tr>\n",
       "    <tr>\n",
       "      <th>1</th>\n",
       "      <td>id_00</td>\n",
       "      <td>2001-05-16</td>\n",
       "      <td>499.487368</td>\n",
       "    </tr>\n",
       "    <tr>\n",
       "      <th>2</th>\n",
       "      <td>id_00</td>\n",
       "      <td>2001-05-17</td>\n",
       "      <td>20.321885</td>\n",
       "    </tr>\n",
       "    <tr>\n",
       "      <th>3</th>\n",
       "      <td>id_00</td>\n",
       "      <td>2001-05-18</td>\n",
       "      <td>102.310778</td>\n",
       "    </tr>\n",
       "    <tr>\n",
       "      <th>4</th>\n",
       "      <td>id_00</td>\n",
       "      <td>2001-05-19</td>\n",
       "      <td>185.340281</td>\n",
       "    </tr>\n",
       "  </tbody>\n",
       "</table>\n",
       "</div>"
      ],
      "text/plain": [
       "  unique_id         ds  LGBMRegressor\n",
       "0     id_00 2001-05-15     418.930093\n",
       "1     id_00 2001-05-16     499.487368\n",
       "2     id_00 2001-05-17      20.321885\n",
       "3     id_00 2001-05-18     102.310778\n",
       "4     id_00 2001-05-19     185.340281"
      ]
     },
     "execution_count": null,
     "metadata": {},
     "output_type": "execute_result"
    }
   ],
   "source": [
    "preds = fcst.predict(h=7, X_df=prices_catalog)\n",
    "preds.head()"
   ]
  },
  {
   "cell_type": "markdown",
   "id": "39f21994-af9a-4376-9e96-1d67d87e6336",
   "metadata": {},
   "source": [
    "## Generating exogenous features"
   ]
  },
  {
   "cell_type": "markdown",
   "id": "f9bb4f27-0a3d-43a8-9f48-57e1983e67d7",
   "metadata": {},
   "source": [
    "Nixtla provides some utilities to generate exogenous features for both training and forecasting such as [statsforecast's mstl_decomposition](https://nixtlaverse.nixtla.io/statsforecast/docs/how-to-guides/generating_features.html) or the [transform_exog function](transforming_exog.ipynb). We also have [utilsforecast's fourier function](https://nixtlaverse.nixtla.io/utilsforecast/feature_engineering.html#fourier), which we'll demonstrate here."
   ]
  },
  {
   "cell_type": "code",
   "execution_count": null,
   "id": "625b300c-9a92-4cf4-af09-d8759e1cef85",
   "metadata": {},
   "outputs": [],
   "source": [
    "from sklearn.linear_model import LinearRegression\n",
    "from utilsforecast.feature_engineering import fourier"
   ]
  },
  {
   "cell_type": "markdown",
   "id": "f482e987-401c-4a75-bcc6-ed2c77021baa",
   "metadata": {},
   "source": [
    "Suppose you start with some data like the one above where we have a couple of static features."
   ]
  },
  {
   "cell_type": "code",
   "execution_count": null,
   "id": "90b0f9eb-6c07-417f-a5d3-2dc3d16b1d24",
   "metadata": {},
   "outputs": [
    {
     "data": {
      "text/html": [
       "<div>\n",
       "<style scoped>\n",
       "    .dataframe tbody tr th:only-of-type {\n",
       "        vertical-align: middle;\n",
       "    }\n",
       "\n",
       "    .dataframe tbody tr th {\n",
       "        vertical-align: top;\n",
       "    }\n",
       "\n",
       "    .dataframe thead th {\n",
       "        text-align: right;\n",
       "    }\n",
       "</style>\n",
       "<table border=\"1\" class=\"dataframe\">\n",
       "  <thead>\n",
       "    <tr style=\"text-align: right;\">\n",
       "      <th></th>\n",
       "      <th>unique_id</th>\n",
       "      <th>ds</th>\n",
       "      <th>y</th>\n",
       "      <th>static_0</th>\n",
       "      <th>product_id</th>\n",
       "    </tr>\n",
       "  </thead>\n",
       "  <tbody>\n",
       "    <tr>\n",
       "      <th>0</th>\n",
       "      <td>id_00</td>\n",
       "      <td>2000-10-05</td>\n",
       "      <td>39.811983</td>\n",
       "      <td>79</td>\n",
       "      <td>45</td>\n",
       "    </tr>\n",
       "    <tr>\n",
       "      <th>1</th>\n",
       "      <td>id_00</td>\n",
       "      <td>2000-10-06</td>\n",
       "      <td>103.274013</td>\n",
       "      <td>79</td>\n",
       "      <td>45</td>\n",
       "    </tr>\n",
       "    <tr>\n",
       "      <th>2</th>\n",
       "      <td>id_00</td>\n",
       "      <td>2000-10-07</td>\n",
       "      <td>176.574744</td>\n",
       "      <td>79</td>\n",
       "      <td>45</td>\n",
       "    </tr>\n",
       "    <tr>\n",
       "      <th>3</th>\n",
       "      <td>id_00</td>\n",
       "      <td>2000-10-08</td>\n",
       "      <td>258.987900</td>\n",
       "      <td>79</td>\n",
       "      <td>45</td>\n",
       "    </tr>\n",
       "    <tr>\n",
       "      <th>4</th>\n",
       "      <td>id_00</td>\n",
       "      <td>2000-10-09</td>\n",
       "      <td>344.940404</td>\n",
       "      <td>79</td>\n",
       "      <td>45</td>\n",
       "    </tr>\n",
       "  </tbody>\n",
       "</table>\n",
       "</div>"
      ],
      "text/plain": [
       "  unique_id         ds           y static_0 product_id\n",
       "0     id_00 2000-10-05   39.811983       79         45\n",
       "1     id_00 2000-10-06  103.274013       79         45\n",
       "2     id_00 2000-10-07  176.574744       79         45\n",
       "3     id_00 2000-10-08  258.987900       79         45\n",
       "4     id_00 2000-10-09  344.940404       79         45"
      ]
     },
     "execution_count": null,
     "metadata": {},
     "output_type": "execute_result"
    }
   ],
   "source": [
    "series.head()"
   ]
  },
  {
   "cell_type": "markdown",
   "id": "7855322f-1d14-4c9d-9b5f-c8d464896c6f",
   "metadata": {},
   "source": [
    "Now we'd like to add some fourier terms to model the seasonality. We can do that with the following:"
   ]
  },
  {
   "cell_type": "code",
   "execution_count": null,
   "id": "535ae0fd-d16a-49b6-8bdb-c750fdd9a5e1",
   "metadata": {},
   "outputs": [],
   "source": [
    "transformed_df, future_df = fourier(series, freq='D', season_length=7, k=2, h=7)"
   ]
  },
  {
   "cell_type": "markdown",
   "id": "7e0c42c7-5d9e-45b4-b7db-19e72086f5d3",
   "metadata": {},
   "source": [
    "This provides an extended training dataset."
   ]
  },
  {
   "cell_type": "code",
   "execution_count": null,
   "id": "3c4c662e-1a35-46b0-a5f1-19e52584b0f5",
   "metadata": {},
   "outputs": [
    {
     "data": {
      "text/html": [
       "<div>\n",
       "<style scoped>\n",
       "    .dataframe tbody tr th:only-of-type {\n",
       "        vertical-align: middle;\n",
       "    }\n",
       "\n",
       "    .dataframe tbody tr th {\n",
       "        vertical-align: top;\n",
       "    }\n",
       "\n",
       "    .dataframe thead th {\n",
       "        text-align: right;\n",
       "    }\n",
       "</style>\n",
       "<table border=\"1\" class=\"dataframe\">\n",
       "  <thead>\n",
       "    <tr style=\"text-align: right;\">\n",
       "      <th></th>\n",
       "      <th>unique_id</th>\n",
       "      <th>ds</th>\n",
       "      <th>y</th>\n",
       "      <th>static_0</th>\n",
       "      <th>product_id</th>\n",
       "      <th>sin1_7</th>\n",
       "      <th>sin2_7</th>\n",
       "      <th>cos1_7</th>\n",
       "      <th>cos2_7</th>\n",
       "    </tr>\n",
       "  </thead>\n",
       "  <tbody>\n",
       "    <tr>\n",
       "      <th>0</th>\n",
       "      <td>id_00</td>\n",
       "      <td>2000-10-05</td>\n",
       "      <td>39.811983</td>\n",
       "      <td>79</td>\n",
       "      <td>45</td>\n",
       "      <td>0.781832</td>\n",
       "      <td>0.974928</td>\n",
       "      <td>0.623490</td>\n",
       "      <td>-0.222521</td>\n",
       "    </tr>\n",
       "    <tr>\n",
       "      <th>1</th>\n",
       "      <td>id_00</td>\n",
       "      <td>2000-10-06</td>\n",
       "      <td>103.274013</td>\n",
       "      <td>79</td>\n",
       "      <td>45</td>\n",
       "      <td>0.974928</td>\n",
       "      <td>-0.433884</td>\n",
       "      <td>-0.222521</td>\n",
       "      <td>-0.900969</td>\n",
       "    </tr>\n",
       "    <tr>\n",
       "      <th>2</th>\n",
       "      <td>id_00</td>\n",
       "      <td>2000-10-07</td>\n",
       "      <td>176.574744</td>\n",
       "      <td>79</td>\n",
       "      <td>45</td>\n",
       "      <td>0.433884</td>\n",
       "      <td>-0.781831</td>\n",
       "      <td>-0.900969</td>\n",
       "      <td>0.623490</td>\n",
       "    </tr>\n",
       "    <tr>\n",
       "      <th>3</th>\n",
       "      <td>id_00</td>\n",
       "      <td>2000-10-08</td>\n",
       "      <td>258.987900</td>\n",
       "      <td>79</td>\n",
       "      <td>45</td>\n",
       "      <td>-0.433884</td>\n",
       "      <td>0.781832</td>\n",
       "      <td>-0.900969</td>\n",
       "      <td>0.623490</td>\n",
       "    </tr>\n",
       "    <tr>\n",
       "      <th>4</th>\n",
       "      <td>id_00</td>\n",
       "      <td>2000-10-09</td>\n",
       "      <td>344.940404</td>\n",
       "      <td>79</td>\n",
       "      <td>45</td>\n",
       "      <td>-0.974928</td>\n",
       "      <td>0.433884</td>\n",
       "      <td>-0.222521</td>\n",
       "      <td>-0.900969</td>\n",
       "    </tr>\n",
       "  </tbody>\n",
       "</table>\n",
       "</div>"
      ],
      "text/plain": [
       "  unique_id         ds           y static_0 product_id    sin1_7    sin2_7  \\\n",
       "0     id_00 2000-10-05   39.811983       79         45  0.781832  0.974928   \n",
       "1     id_00 2000-10-06  103.274013       79         45  0.974928 -0.433884   \n",
       "2     id_00 2000-10-07  176.574744       79         45  0.433884 -0.781831   \n",
       "3     id_00 2000-10-08  258.987900       79         45 -0.433884  0.781832   \n",
       "4     id_00 2000-10-09  344.940404       79         45 -0.974928  0.433884   \n",
       "\n",
       "     cos1_7    cos2_7  \n",
       "0  0.623490 -0.222521  \n",
       "1 -0.222521 -0.900969  \n",
       "2 -0.900969  0.623490  \n",
       "3 -0.900969  0.623490  \n",
       "4 -0.222521 -0.900969  "
      ]
     },
     "execution_count": null,
     "metadata": {},
     "output_type": "execute_result"
    }
   ],
   "source": [
    "transformed_df.head()"
   ]
  },
  {
   "cell_type": "markdown",
   "id": "8e311c3c-392e-4f96-90b8-c1095fe2c21e",
   "metadata": {},
   "source": [
    "Along with the future values of the features."
   ]
  },
  {
   "cell_type": "code",
   "execution_count": null,
   "id": "53b1e42a-9d13-4469-882b-269b21a00964",
   "metadata": {},
   "outputs": [
    {
     "data": {
      "text/html": [
       "<div>\n",
       "<style scoped>\n",
       "    .dataframe tbody tr th:only-of-type {\n",
       "        vertical-align: middle;\n",
       "    }\n",
       "\n",
       "    .dataframe tbody tr th {\n",
       "        vertical-align: top;\n",
       "    }\n",
       "\n",
       "    .dataframe thead th {\n",
       "        text-align: right;\n",
       "    }\n",
       "</style>\n",
       "<table border=\"1\" class=\"dataframe\">\n",
       "  <thead>\n",
       "    <tr style=\"text-align: right;\">\n",
       "      <th></th>\n",
       "      <th>unique_id</th>\n",
       "      <th>ds</th>\n",
       "      <th>sin1_7</th>\n",
       "      <th>sin2_7</th>\n",
       "      <th>cos1_7</th>\n",
       "      <th>cos2_7</th>\n",
       "    </tr>\n",
       "  </thead>\n",
       "  <tbody>\n",
       "    <tr>\n",
       "      <th>0</th>\n",
       "      <td>id_00</td>\n",
       "      <td>2001-05-15</td>\n",
       "      <td>-0.781828</td>\n",
       "      <td>-0.974930</td>\n",
       "      <td>0.623494</td>\n",
       "      <td>-0.222511</td>\n",
       "    </tr>\n",
       "    <tr>\n",
       "      <th>1</th>\n",
       "      <td>id_00</td>\n",
       "      <td>2001-05-16</td>\n",
       "      <td>0.000006</td>\n",
       "      <td>0.000011</td>\n",
       "      <td>1.000000</td>\n",
       "      <td>1.000000</td>\n",
       "    </tr>\n",
       "    <tr>\n",
       "      <th>2</th>\n",
       "      <td>id_00</td>\n",
       "      <td>2001-05-17</td>\n",
       "      <td>0.781835</td>\n",
       "      <td>0.974925</td>\n",
       "      <td>0.623485</td>\n",
       "      <td>-0.222533</td>\n",
       "    </tr>\n",
       "    <tr>\n",
       "      <th>3</th>\n",
       "      <td>id_00</td>\n",
       "      <td>2001-05-18</td>\n",
       "      <td>0.974927</td>\n",
       "      <td>-0.433895</td>\n",
       "      <td>-0.222527</td>\n",
       "      <td>-0.900963</td>\n",
       "    </tr>\n",
       "    <tr>\n",
       "      <th>4</th>\n",
       "      <td>id_00</td>\n",
       "      <td>2001-05-19</td>\n",
       "      <td>0.433878</td>\n",
       "      <td>-0.781823</td>\n",
       "      <td>-0.900972</td>\n",
       "      <td>0.623500</td>\n",
       "    </tr>\n",
       "  </tbody>\n",
       "</table>\n",
       "</div>"
      ],
      "text/plain": [
       "  unique_id         ds    sin1_7    sin2_7    cos1_7    cos2_7\n",
       "0     id_00 2001-05-15 -0.781828 -0.974930  0.623494 -0.222511\n",
       "1     id_00 2001-05-16  0.000006  0.000011  1.000000  1.000000\n",
       "2     id_00 2001-05-17  0.781835  0.974925  0.623485 -0.222533\n",
       "3     id_00 2001-05-18  0.974927 -0.433895 -0.222527 -0.900963\n",
       "4     id_00 2001-05-19  0.433878 -0.781823 -0.900972  0.623500"
      ]
     },
     "execution_count": null,
     "metadata": {},
     "output_type": "execute_result"
    }
   ],
   "source": [
    "future_df.head()"
   ]
  },
  {
   "cell_type": "markdown",
   "id": "8df48b27-7765-4107-aa7d-09c8737669f6",
   "metadata": {},
   "source": [
    "We can now train using only these features (and the static ones)."
   ]
  },
  {
   "cell_type": "code",
   "execution_count": null,
   "id": "53874524-d2d7-40bc-8d82-93575c8c35f0",
   "metadata": {},
   "outputs": [
    {
     "data": {
      "text/plain": [
       "MLForecast(models=[LinearRegression], freq=D, lag_features=[], date_features=[], num_threads=1)"
      ]
     },
     "execution_count": null,
     "metadata": {},
     "output_type": "execute_result"
    }
   ],
   "source": [
    "fcst2 = MLForecast(models=LinearRegression(), freq='D')\n",
    "fcst2.fit(transformed_df, static_features=['static_0', 'product_id'])"
   ]
  },
  {
   "cell_type": "markdown",
   "id": "a16a719d-dfc0-4800-bac5-345ad2dc2681",
   "metadata": {},
   "source": [
    "And provide the future values to the predict method."
   ]
  },
  {
   "cell_type": "code",
   "execution_count": null,
   "id": "666c78ff-3814-44ee-acd3-ae61bd9e771b",
   "metadata": {},
   "outputs": [
    {
     "data": {
      "text/html": [
       "<div>\n",
       "<style scoped>\n",
       "    .dataframe tbody tr th:only-of-type {\n",
       "        vertical-align: middle;\n",
       "    }\n",
       "\n",
       "    .dataframe tbody tr th {\n",
       "        vertical-align: top;\n",
       "    }\n",
       "\n",
       "    .dataframe thead th {\n",
       "        text-align: right;\n",
       "    }\n",
       "</style>\n",
       "<table border=\"1\" class=\"dataframe\">\n",
       "  <thead>\n",
       "    <tr style=\"text-align: right;\">\n",
       "      <th></th>\n",
       "      <th>unique_id</th>\n",
       "      <th>ds</th>\n",
       "      <th>LinearRegression</th>\n",
       "    </tr>\n",
       "  </thead>\n",
       "  <tbody>\n",
       "    <tr>\n",
       "      <th>0</th>\n",
       "      <td>id_00</td>\n",
       "      <td>2001-05-15</td>\n",
       "      <td>275.822342</td>\n",
       "    </tr>\n",
       "    <tr>\n",
       "      <th>1</th>\n",
       "      <td>id_00</td>\n",
       "      <td>2001-05-16</td>\n",
       "      <td>262.258117</td>\n",
       "    </tr>\n",
       "    <tr>\n",
       "      <th>2</th>\n",
       "      <td>id_00</td>\n",
       "      <td>2001-05-17</td>\n",
       "      <td>238.195850</td>\n",
       "    </tr>\n",
       "    <tr>\n",
       "      <th>3</th>\n",
       "      <td>id_00</td>\n",
       "      <td>2001-05-18</td>\n",
       "      <td>240.997814</td>\n",
       "    </tr>\n",
       "    <tr>\n",
       "      <th>4</th>\n",
       "      <td>id_00</td>\n",
       "      <td>2001-05-19</td>\n",
       "      <td>262.247123</td>\n",
       "    </tr>\n",
       "  </tbody>\n",
       "</table>\n",
       "</div>"
      ],
      "text/plain": [
       "  unique_id         ds  LinearRegression\n",
       "0     id_00 2001-05-15        275.822342\n",
       "1     id_00 2001-05-16        262.258117\n",
       "2     id_00 2001-05-17        238.195850\n",
       "3     id_00 2001-05-18        240.997814\n",
       "4     id_00 2001-05-19        262.247123"
      ]
     },
     "execution_count": null,
     "metadata": {},
     "output_type": "execute_result"
    }
   ],
   "source": [
    "fcst2.predict(h=7, X_df=future_df).head()"
   ]
  },
  {
   "cell_type": "code",
   "execution_count": null,
   "id": "4d1b607a-260e-4da2-b538-57a12ed19491",
   "metadata": {},
   "outputs": [],
   "source": [
    "#| hide\n",
    "import numpy as np\n",
    "\n",
    "from mlforecast.callbacks import SaveFeatures"
   ]
  },
  {
   "cell_type": "code",
   "execution_count": null,
   "id": "bf142930-5255-4f97-8cf8-cf4085ad8227",
   "metadata": {},
   "outputs": [],
   "source": [
    "#| hide\n",
    "# check that the price was passed correctly\n",
    "first_pred_date = series_with_prices['ds'].max() + pd.offsets.Day()\n",
    "save_feats = SaveFeatures()\n",
    "fcst.predict(7, X_df=prices_catalog, before_predict_callback=save_feats)\n",
    "for h, actual in enumerate(save_feats._inputs):\n",
    "    expected = prices_catalog.loc[prices_catalog['ds'].eq(first_pred_date + h * pd.offsets.Day())]\n",
    "    np.testing.assert_allclose(\n",
    "        actual['price'].values,\n",
    "        expected['price'].values,\n",
    "    )"
   ]
  },
  {
   "cell_type": "code",
   "execution_count": null,
   "id": "5be838db-b2d8-4115-b311-816301a764ba",
   "metadata": {},
   "outputs": [],
   "source": [
    "#|hide\n",
    "preds2 = fcst.predict(7, X_df=prices_catalog)\n",
    "preds3 = fcst.predict(7, new_df=series_with_prices, X_df=prices_catalog)\n",
    "\n",
    "pd.testing.assert_frame_equal(preds, preds2)\n",
    "pd.testing.assert_frame_equal(preds, preds3)"
   ]
  },
  {
   "cell_type": "code",
   "execution_count": null,
   "id": "b50ba665-af6f-4c47-840b-8b532bd52dc4",
   "metadata": {},
   "outputs": [],
   "source": [
    "#| hide\n",
    "# test we can compute cross validation with\n",
    "# exogenous variables without adding extra information\n",
    "fcst.cross_validation(\n",
    "    series_with_prices,\n",
    "    h=7,\n",
    "    n_windows=2,\n",
    "    static_features=['static_0', 'product_id'],\n",
    ");"
   ]
  }
 ],
 "metadata": {
  "kernelspec": {
   "display_name": "python3",
   "language": "python",
   "name": "python3"
  }
 },
 "nbformat": 4,
 "nbformat_minor": 5
}
