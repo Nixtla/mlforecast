{
 "cells": [
  {
   "cell_type": "code",
   "execution_count": null,
   "id": "02fdd2f9-c0c1-4d3c-96eb-63f600245d75",
   "metadata": {},
   "outputs": [],
   "source": [
    "#| hide\n",
    "%load_ext autoreload\n",
    "%autoreload 2"
   ]
  },
  {
   "cell_type": "markdown",
   "id": "9fa8fdaa-85d7-4bcb-bc4f-8ef94811d664",
   "metadata": {},
   "source": [
    "# One model per step\n",
    "> Train one model to predict each step of the forecasting horizon"
   ]
  },
  {
   "cell_type": "markdown",
   "id": "750a79d9-cf24-46a8-aba0-3b8a34916ef6",
   "metadata": {},
   "source": [
    "By default mlforecast uses the recursive strategy, i.e. a model is trained to predict the next value and if we're predicting several values we do it one at a time and then use the model's predictions as the new target, recompute the features and predict the next step.\n",
    "\n",
    "There's another approach where if we want to predict 10 steps ahead we train 10 different models, where each model is trained to predict the value at each specific step, i.e. one model predicts the next value, another one predicts the value two steps ahead and so on. This can be very time consuming but can also provide better results. If you want to use this approach you can specify `max_horizon` in `MLForecast.fit`, which will train that many models and each model will predict its corresponding horizon when you call `MLForecast.predict`."
   ]
  },
  {
   "cell_type": "markdown",
   "id": "8481d0c4-035d-45f5-b64a-c99e0bd49922",
   "metadata": {},
   "source": [
    "## Setup"
   ]
  },
  {
   "cell_type": "code",
   "execution_count": null,
   "id": "5d48bcd4-6fdc-41b3-adc9-3d5f83197028",
   "metadata": {},
   "outputs": [],
   "source": [
    "import random\n",
    "import lightgbm as lgb\n",
    "import pandas as pd\n",
    "from datasetsforecast.m4 import M4, M4Info\n",
    "from utilsforecast.evaluation import evaluate\n",
    "from utilsforecast.losses import smape\n",
    "\n",
    "from mlforecast import MLForecast\n",
    "from mlforecast.lag_transforms import ExponentiallyWeightedMean, RollingMean\n",
    "from mlforecast.target_transforms import Differences"
   ]
  },
  {
   "cell_type": "markdown",
   "id": "92b3efda-abf4-4eaf-b1a9-48056321bc9f",
   "metadata": {},
   "source": [
    "### Data"
   ]
  },
  {
   "cell_type": "markdown",
   "id": "5e9d3d66-3807-4549-8bde-4e1d9eda2f05",
   "metadata": {},
   "source": [
    "We will use four random series from the M4 dataset"
   ]
  },
  {
   "cell_type": "code",
   "execution_count": null,
   "id": "90fc0561-04fc-4bfe-b823-1fe5d09bd90a",
   "metadata": {},
   "outputs": [],
   "source": [
    "group = 'Hourly'\n",
    "await M4.async_download('data', group=group)\n",
    "df, *_ = M4.load(directory='data', group=group)\n",
    "df['ds'] = df['ds'].astype('int')\n",
    "ids = df['unique_id'].unique()\n",
    "random.seed(0)\n",
    "sample_ids = random.choices(ids, k=4)\n",
    "sample_df = df[df['unique_id'].isin(sample_ids)]\n",
    "info = M4Info[group]\n",
    "horizon = info.horizon\n",
    "valid = sample_df.groupby('unique_id').tail(horizon)\n",
    "train = sample_df.drop(valid.index)"
   ]
  },
  {
   "cell_type": "code",
   "execution_count": null,
   "id": "ad1761c0-60af-4e13-97fc-e991b5361c5e",
   "metadata": {},
   "outputs": [],
   "source": [
    "def avg_smape(df):\n",
    "    \"\"\"Computes the SMAPE by serie and then averages it across all series.\"\"\"\n",
    "    full = df.merge(valid)\n",
    "    return (\n",
    "        evaluate(full, metrics=[smape])\n",
    "        .drop(columns='metric')\n",
    "        .set_index('unique_id')\n",
    "        .squeeze()\n",
    "    )"
   ]
  },
  {
   "cell_type": "markdown",
   "id": "ed8bd708-d042-485b-8a00-d699680cf2db",
   "metadata": {},
   "source": [
    "## Model"
   ]
  },
  {
   "cell_type": "code",
   "execution_count": null,
   "id": "bf2837f5-e579-4f02-88b5-e3866e9c049d",
   "metadata": {},
   "outputs": [],
   "source": [
    "fcst = MLForecast(\n",
    "    models=lgb.LGBMRegressor(random_state=0, verbosity=-1),\n",
    "    freq=1,\n",
    "    lags=[24 * (i+1) for i in range(7)],\n",
    "    lag_transforms={\n",
    "        1: [RollingMean(window_size=24)],\n",
    "        24: [RollingMean(window_size=24)],\n",
    "        48: [ExponentiallyWeightedMean(alpha=0.3)],\n",
    "    },\n",
    "    num_threads=1,\n",
    "    target_transforms=[Differences([24])],\n",
    ")"
   ]
  },
  {
   "cell_type": "code",
   "execution_count": null,
   "id": "6ec0b126-1367-49a8-a3f4-235fee969908",
   "metadata": {},
   "outputs": [
    {
     "name": "stdout",
     "output_type": "stream",
     "text": [
      "Average SMAPE per method and serie\n"
     ]
    },
    {
     "data": {
      "text/html": [
       "<div>\n",
       "<style scoped>\n",
       "    .dataframe tbody tr th:only-of-type {\n",
       "        vertical-align: middle;\n",
       "    }\n",
       "\n",
       "    .dataframe tbody tr th {\n",
       "        vertical-align: top;\n",
       "    }\n",
       "\n",
       "    .dataframe thead th {\n",
       "        text-align: right;\n",
       "    }\n",
       "</style>\n",
       "<table border=\"1\" class=\"dataframe\">\n",
       "  <thead>\n",
       "    <tr style=\"text-align: right;\">\n",
       "      <th></th>\n",
       "      <th>individual</th>\n",
       "      <th>recursive</th>\n",
       "    </tr>\n",
       "    <tr>\n",
       "      <th>unique_id</th>\n",
       "      <th></th>\n",
       "      <th></th>\n",
       "    </tr>\n",
       "  </thead>\n",
       "  <tbody>\n",
       "    <tr>\n",
       "      <th>H196</th>\n",
       "      <td>0.3%</td>\n",
       "      <td>0.3%</td>\n",
       "    </tr>\n",
       "    <tr>\n",
       "      <th>H256</th>\n",
       "      <td>0.4%</td>\n",
       "      <td>0.3%</td>\n",
       "    </tr>\n",
       "    <tr>\n",
       "      <th>H381</th>\n",
       "      <td>20.9%</td>\n",
       "      <td>9.5%</td>\n",
       "    </tr>\n",
       "    <tr>\n",
       "      <th>H413</th>\n",
       "      <td>11.9%</td>\n",
       "      <td>13.6%</td>\n",
       "    </tr>\n",
       "  </tbody>\n",
       "</table>\n",
       "</div>"
      ],
      "text/plain": [
       "          individual recursive\n",
       "unique_id                     \n",
       "H196            0.3%      0.3%\n",
       "H256            0.4%      0.3%\n",
       "H381           20.9%      9.5%\n",
       "H413           11.9%     13.6%"
      ]
     },
     "execution_count": null,
     "metadata": {},
     "output_type": "execute_result"
    }
   ],
   "source": [
    "horizon = 24\n",
    "# the following will train 24 models, one for each horizon\n",
    "individual_fcst = fcst.fit(train, max_horizon=horizon)\n",
    "individual_preds = individual_fcst.predict(horizon)\n",
    "avg_smape_individual = avg_smape(individual_preds).rename('individual')\n",
    "# the following will train a single model and use the recursive strategy\n",
    "recursive_fcst = fcst.fit(train)\n",
    "recursive_preds = recursive_fcst.predict(horizon)\n",
    "avg_smape_recursive = avg_smape(recursive_preds).rename('recursive')\n",
    "# results\n",
    "print('Average SMAPE per method and serie')\n",
    "avg_smape_individual.to_frame().join(avg_smape_recursive).applymap('{:.1%}'.format)"
   ]
  },
  {
   "cell_type": "code",
   "execution_count": null,
   "id": "430eff81-dd27-42bf-b852-093ded7fc2e2",
   "metadata": {},
   "outputs": [],
   "source": [
    "#| hide\n",
    "# we get the same prediction for the first timestep\n",
    "pd.testing.assert_frame_equal(\n",
    "    individual_preds.groupby('unique_id').head(1).astype({'ds': 'int64'}),\n",
    "    recursive_preds.groupby('unique_id').head(1).astype({'ds': 'int64'}),    \n",
    ")"
   ]
  }
 ],
 "metadata": {
  "kernelspec": {
   "display_name": "python3",
   "language": "python",
   "name": "python3"
  }
 },
 "nbformat": 4,
 "nbformat_minor": 5
}
