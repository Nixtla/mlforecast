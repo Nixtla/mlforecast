{
 "cells": [
  {
   "cell_type": "code",
   "execution_count": null,
   "id": "2d489a20-c2f9-4d1c-bd3e-4c089c0988c4",
   "metadata": {},
   "outputs": [],
   "source": [
    "#| hide\n",
    "%load_ext autoreload\n",
    "%autoreload 2"
   ]
  },
  {
   "cell_type": "markdown",
   "id": "07494e06-9f04-454a-9725-6f2043e8f024",
   "metadata": {},
   "source": [
    "# Training with numpy arrays\n",
    "> Convert your dataframes to arrays to use less memory and train faster"
   ]
  },
  {
   "cell_type": "markdown",
   "id": "1cede8e3-7508-4bc9-9ce2-1d69c0e57016",
   "metadata": {},
   "source": [
    "Most of the machine learning libraries use numpy arrays, even when you provide a dataframe it ends up being converted into a numpy array. By providing an array to those models we can make the process faster, since the conversion will only happen once."
   ]
  },
  {
   "cell_type": "markdown",
   "id": "d869edee-e754-4d7a-8ee9-b12440891ca5",
   "metadata": {},
   "source": [
    "## Data setup"
   ]
  },
  {
   "cell_type": "code",
   "execution_count": null,
   "id": "f6f05390-f0bb-4a22-a77a-54711e4ce86c",
   "metadata": {},
   "outputs": [],
   "source": [
    "from mlforecast.utils import generate_daily_series"
   ]
  },
  {
   "cell_type": "code",
   "execution_count": null,
   "id": "ee00d26e-9dcb-4804-9dfe-eec777624fa8",
   "metadata": {},
   "outputs": [],
   "source": [
    "series = generate_daily_series(5)"
   ]
  },
  {
   "cell_type": "markdown",
   "id": "13e08887-6cca-4d62-a856-6fc8c1390afd",
   "metadata": {},
   "source": [
    "## fit and cross_validation methods"
   ]
  },
  {
   "cell_type": "code",
   "execution_count": null,
   "id": "8a9bb463-c7d0-4bb7-9ae7-219b6f22eb51",
   "metadata": {},
   "outputs": [],
   "source": [
    "import numpy as np\n",
    "from lightgbm import LGBMRegressor\n",
    "from sklearn.linear_model import LinearRegression\n",
    "\n",
    "from mlforecast import MLForecast"
   ]
  },
  {
   "cell_type": "code",
   "execution_count": null,
   "id": "33a92850-d8e8-463b-aaf0-cc6c63558020",
   "metadata": {},
   "outputs": [],
   "source": [
    "fcst = MLForecast(\n",
    "    models={'lr': LinearRegression(), 'lgbm': LGBMRegressor(verbosity=-1)},\n",
    "    freq='D',\n",
    "    lags=[7, 14],\n",
    "    date_features=['dayofweek'],\n",
    ")"
   ]
  },
  {
   "cell_type": "markdown",
   "id": "d8332797-6600-49e2-93c9-c19c1ca1f446",
   "metadata": {},
   "source": [
    "If you're using the fit/cross_validation methods from `MLForecast` all you have to do to train with numpy arrays is provide the `as_numpy` argument, which will cast the features to an array before passing them to the models."
   ]
  },
  {
   "cell_type": "code",
   "execution_count": null,
   "id": "ebe475e1-759f-42ee-bbba-5af2bbe61d7d",
   "metadata": {},
   "outputs": [
    {
     "data": {
      "text/plain": [
       "MLForecast(models=[lr, lgbm], freq=<Day>, lag_features=['lag7', 'lag14'], date_features=['dayofweek'], num_threads=1)"
      ]
     },
     "execution_count": null,
     "metadata": {},
     "output_type": "execute_result"
    }
   ],
   "source": [
    "fcst.fit(series, as_numpy=True)"
   ]
  },
  {
   "cell_type": "markdown",
   "id": "a32828ca-5b99-48c0-9741-a206a8e7a7a9",
   "metadata": {},
   "source": [
    "When predicting, the new features will also be cast to arrays, so it can also be faster."
   ]
  },
  {
   "cell_type": "code",
   "execution_count": null,
   "id": "7bd6c208-371e-4a41-b653-dfab58a7ea85",
   "metadata": {},
   "outputs": [
    {
     "data": {
      "text/html": [
       "<div>\n",
       "<style scoped>\n",
       "    .dataframe tbody tr th:only-of-type {\n",
       "        vertical-align: middle;\n",
       "    }\n",
       "\n",
       "    .dataframe tbody tr th {\n",
       "        vertical-align: top;\n",
       "    }\n",
       "\n",
       "    .dataframe thead th {\n",
       "        text-align: right;\n",
       "    }\n",
       "</style>\n",
       "<table border=\"1\" class=\"dataframe\">\n",
       "  <thead>\n",
       "    <tr style=\"text-align: right;\">\n",
       "      <th></th>\n",
       "      <th>unique_id</th>\n",
       "      <th>ds</th>\n",
       "      <th>lr</th>\n",
       "      <th>lgbm</th>\n",
       "    </tr>\n",
       "  </thead>\n",
       "  <tbody>\n",
       "    <tr>\n",
       "      <th>0</th>\n",
       "      <td>id_0</td>\n",
       "      <td>2000-08-10</td>\n",
       "      <td>5.268787</td>\n",
       "      <td>6.322262</td>\n",
       "    </tr>\n",
       "    <tr>\n",
       "      <th>1</th>\n",
       "      <td>id_1</td>\n",
       "      <td>2000-04-07</td>\n",
       "      <td>4.437316</td>\n",
       "      <td>5.213255</td>\n",
       "    </tr>\n",
       "    <tr>\n",
       "      <th>2</th>\n",
       "      <td>id_2</td>\n",
       "      <td>2000-06-16</td>\n",
       "      <td>3.246518</td>\n",
       "      <td>4.373904</td>\n",
       "    </tr>\n",
       "    <tr>\n",
       "      <th>3</th>\n",
       "      <td>id_3</td>\n",
       "      <td>2000-08-30</td>\n",
       "      <td>0.144860</td>\n",
       "      <td>1.285219</td>\n",
       "    </tr>\n",
       "    <tr>\n",
       "      <th>4</th>\n",
       "      <td>id_4</td>\n",
       "      <td>2001-01-08</td>\n",
       "      <td>2.211318</td>\n",
       "      <td>3.236700</td>\n",
       "    </tr>\n",
       "  </tbody>\n",
       "</table>\n",
       "</div>"
      ],
      "text/plain": [
       "  unique_id         ds        lr      lgbm\n",
       "0      id_0 2000-08-10  5.268787  6.322262\n",
       "1      id_1 2000-04-07  4.437316  5.213255\n",
       "2      id_2 2000-06-16  3.246518  4.373904\n",
       "3      id_3 2000-08-30  0.144860  1.285219\n",
       "4      id_4 2001-01-08  2.211318  3.236700"
      ]
     },
     "execution_count": null,
     "metadata": {},
     "output_type": "execute_result"
    }
   ],
   "source": [
    "fcst.predict(1)"
   ]
  },
  {
   "cell_type": "markdown",
   "id": "94b27748-ceda-432c-a44f-8df0ee2496ee",
   "metadata": {},
   "source": [
    "For cross_validation we also just need to specify `as_numpy=True`."
   ]
  },
  {
   "cell_type": "code",
   "execution_count": null,
   "id": "6242cbf9-b07d-441b-aa6d-bb49f412ca01",
   "metadata": {},
   "outputs": [],
   "source": [
    "cv_res = fcst.cross_validation(series, n_windows=2, h=2, as_numpy=True)"
   ]
  },
  {
   "cell_type": "markdown",
   "id": "704d49db-efb2-4513-9139-c5310a61c035",
   "metadata": {},
   "source": [
    "## preprocess method"
   ]
  },
  {
   "cell_type": "markdown",
   "id": "884e5786-0408-4193-91aa-621e19da419c",
   "metadata": {},
   "source": [
    "Having the features as a numpy array can also be helpful in cases where you have categorical columns and the library doesn't support them, for example LightGBM with polars. In order to use categorical features with LightGBM and polars we have to convert them to their integer representation and tell LightGBM to treat those features as categorical, which we can achieve in the following way:"
   ]
  },
  {
   "cell_type": "code",
   "execution_count": null,
   "id": "5289ba21-b861-4fbb-afb2-443f4f546b00",
   "metadata": {},
   "outputs": [
    {
     "data": {
      "text/html": [
       "<div><style>\n",
       ".dataframe > thead > tr > th,\n",
       ".dataframe > tbody > tr > td {\n",
       "  text-align: right;\n",
       "  white-space: pre-wrap;\n",
       "}\n",
       "</style>\n",
       "<small>shape: (2, 4)</small><table border=\"1\" class=\"dataframe\"><thead><tr><th>unique_id</th><th>ds</th><th>y</th><th>static_0</th></tr><tr><td>cat</td><td>datetime[ns]</td><td>f64</td><td>cat</td></tr></thead><tbody><tr><td>&quot;id_0&quot;</td><td>2000-01-01 00:00:00</td><td>36.462689</td><td>&quot;84&quot;</td></tr><tr><td>&quot;id_0&quot;</td><td>2000-01-02 00:00:00</td><td>121.008199</td><td>&quot;84&quot;</td></tr></tbody></table></div>"
      ],
      "text/plain": [
       "shape: (2, 4)\n",
       "┌───────────┬─────────────────────┬────────────┬──────────┐\n",
       "│ unique_id ┆ ds                  ┆ y          ┆ static_0 │\n",
       "│ ---       ┆ ---                 ┆ ---        ┆ ---      │\n",
       "│ cat       ┆ datetime[ns]        ┆ f64        ┆ cat      │\n",
       "╞═══════════╪═════════════════════╪════════════╪══════════╡\n",
       "│ id_0      ┆ 2000-01-01 00:00:00 ┆ 36.462689  ┆ 84       │\n",
       "│ id_0      ┆ 2000-01-02 00:00:00 ┆ 121.008199 ┆ 84       │\n",
       "└───────────┴─────────────────────┴────────────┴──────────┘"
      ]
     },
     "execution_count": null,
     "metadata": {},
     "output_type": "execute_result"
    }
   ],
   "source": [
    "series_pl = generate_daily_series(5, n_static_features=1, engine='polars')\n",
    "series_pl.head(2)"
   ]
  },
  {
   "cell_type": "code",
   "execution_count": null,
   "id": "1257ea04-8fe0-4aab-8efd-d17e9c5bedc9",
   "metadata": {},
   "outputs": [],
   "source": [
    "fcst = MLForecast(\n",
    "    models=[],\n",
    "    freq='1d',\n",
    "    lags=[7, 14],\n",
    "    date_features=['weekday'],\n",
    ")"
   ]
  },
  {
   "cell_type": "markdown",
   "id": "d79abc59-fd72-4dbb-bb16-0f9b75344ec3",
   "metadata": {},
   "source": [
    "In order to get the features as an array with the preprocess method we also have to ask for the X, y tuple."
   ]
  },
  {
   "cell_type": "code",
   "execution_count": null,
   "id": "10ecc084-827b-4277-b8c0-61ad15b3c892",
   "metadata": {},
   "outputs": [
    {
     "data": {
      "text/plain": [
       "array([[  0.        ,  20.30076749,  36.46268875,   6.        ],\n",
       "       [  0.        , 119.51717097, 121.0081989 ,   7.        ]])"
      ]
     },
     "execution_count": null,
     "metadata": {},
     "output_type": "execute_result"
    }
   ],
   "source": [
    "X, y = fcst.preprocess(series_pl, return_X_y=True, as_numpy=True)\n",
    "X[:2]"
   ]
  },
  {
   "cell_type": "markdown",
   "id": "d1069d85-ccaa-410e-b1df-2453416ba815",
   "metadata": {},
   "source": [
    "The feature names are available in `fcst.ts.features_order_`"
   ]
  },
  {
   "cell_type": "code",
   "execution_count": null,
   "id": "43fe9aab-1e0b-41f0-9847-18c6dfc56525",
   "metadata": {},
   "outputs": [
    {
     "data": {
      "text/plain": [
       "['static_0', 'lag7', 'lag14', 'weekday']"
      ]
     },
     "execution_count": null,
     "metadata": {},
     "output_type": "execute_result"
    }
   ],
   "source": [
    "fcst.ts.features_order_"
   ]
  },
  {
   "cell_type": "markdown",
   "id": "85f10df2-c6d3-4986-814d-d891149242a1",
   "metadata": {},
   "source": [
    "Now we can just train a LightGBM model specifying the feature names and which features should be treated as categorical."
   ]
  },
  {
   "cell_type": "code",
   "execution_count": null,
   "id": "63c9cbe0-f627-4826-833f-1e233b18db4f",
   "metadata": {},
   "outputs": [],
   "source": [
    "model = LGBMRegressor(verbosity=-1)\n",
    "model.fit(\n",
    "    X=X,\n",
    "    y=y,\n",
    "    feature_name=fcst.ts.features_order_,\n",
    "    categorical_feature=['static_0', 'weekday'],\n",
    ");"
   ]
  },
  {
   "cell_type": "markdown",
   "id": "cee477a6-4cfb-4544-baf2-b39725a16d58",
   "metadata": {},
   "source": [
    "We can now add this model to our models dict, as described in the [custom training guide](./custom_training.html)."
   ]
  },
  {
   "cell_type": "code",
   "execution_count": null,
   "id": "35a80642-078f-4722-9620-3ba6d48ed21e",
   "metadata": {},
   "outputs": [],
   "source": [
    "fcst.models_ = {'lgbm': model}"
   ]
  },
  {
   "cell_type": "markdown",
   "id": "e2d8f37a-ff68-49f3-a164-d8343aa6fc37",
   "metadata": {},
   "source": [
    "And use it to predict."
   ]
  },
  {
   "cell_type": "code",
   "execution_count": null,
   "id": "f9b4f2c4-eec1-4a06-b58e-1e05f7dc9806",
   "metadata": {},
   "outputs": [
    {
     "data": {
      "text/html": [
       "<div><style>\n",
       ".dataframe > thead > tr > th,\n",
       ".dataframe > tbody > tr > td {\n",
       "  text-align: right;\n",
       "  white-space: pre-wrap;\n",
       "}\n",
       "</style>\n",
       "<small>shape: (5, 3)</small><table border=\"1\" class=\"dataframe\"><thead><tr><th>unique_id</th><th>ds</th><th>lgbm</th></tr><tr><td>cat</td><td>datetime[ns]</td><td>f64</td></tr></thead><tbody><tr><td>&quot;id_0&quot;</td><td>2000-08-10 00:00:00</td><td>448.796188</td></tr><tr><td>&quot;id_1&quot;</td><td>2000-04-07 00:00:00</td><td>81.058211</td></tr><tr><td>&quot;id_2&quot;</td><td>2000-06-16 00:00:00</td><td>4.450549</td></tr><tr><td>&quot;id_3&quot;</td><td>2000-08-30 00:00:00</td><td>14.219603</td></tr><tr><td>&quot;id_4&quot;</td><td>2001-01-08 00:00:00</td><td>87.361881</td></tr></tbody></table></div>"
      ],
      "text/plain": [
       "shape: (5, 3)\n",
       "┌───────────┬─────────────────────┬────────────┐\n",
       "│ unique_id ┆ ds                  ┆ lgbm       │\n",
       "│ ---       ┆ ---                 ┆ ---        │\n",
       "│ cat       ┆ datetime[ns]        ┆ f64        │\n",
       "╞═══════════╪═════════════════════╪════════════╡\n",
       "│ id_0      ┆ 2000-08-10 00:00:00 ┆ 448.796188 │\n",
       "│ id_1      ┆ 2000-04-07 00:00:00 ┆ 81.058211  │\n",
       "│ id_2      ┆ 2000-06-16 00:00:00 ┆ 4.450549   │\n",
       "│ id_3      ┆ 2000-08-30 00:00:00 ┆ 14.219603  │\n",
       "│ id_4      ┆ 2001-01-08 00:00:00 ┆ 87.361881  │\n",
       "└───────────┴─────────────────────┴────────────┘"
      ]
     },
     "execution_count": null,
     "metadata": {},
     "output_type": "execute_result"
    }
   ],
   "source": [
    "fcst.predict(1)"
   ]
  }
 ],
 "metadata": {
  "kernelspec": {
   "display_name": "python3",
   "language": "python",
   "name": "python3"
  }
 },
 "nbformat": 4,
 "nbformat_minor": 5
}
