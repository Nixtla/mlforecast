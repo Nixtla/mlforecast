{
 "cells": [
  {
   "cell_type": "code",
   "execution_count": null,
   "id": "da17c174-1220-44e7-a746-e6c7a1b175bf",
   "metadata": {},
   "outputs": [],
   "source": [
    "#| hide\n",
    "%load_ext autoreload\n",
    "%autoreload 2"
   ]
  },
  {
   "cell_type": "markdown",
   "id": "11cbdd0d-b153-4367-aedd-31320d6e70e6",
   "metadata": {},
   "source": [
    "# Sample weights\n",
    "> Provide a column to pass through to the underlying models as sample weights"
   ]
  },
  {
   "cell_type": "markdown",
   "id": "241ee142-6279-49db-a609-d26ec23f0825",
   "metadata": {},
   "source": [
    "## Data setup"
   ]
  },
  {
   "cell_type": "code",
   "execution_count": null,
   "id": "e6c7432c-95ca-4c34-bc66-d6f317ef8b9b",
   "metadata": {},
   "outputs": [],
   "source": [
    "import numpy as np\n",
    "from mlforecast.utils import generate_daily_series"
   ]
  },
  {
   "cell_type": "code",
   "execution_count": null,
   "id": "8f942426-aa79-4d60-8d86-2cf3dc1c9cfb",
   "metadata": {},
   "outputs": [
    {
     "data": {
      "text/html": [
       "<div>\n",
       "<style scoped>\n",
       "    .dataframe tbody tr th:only-of-type {\n",
       "        vertical-align: middle;\n",
       "    }\n",
       "\n",
       "    .dataframe tbody tr th {\n",
       "        vertical-align: top;\n",
       "    }\n",
       "\n",
       "    .dataframe thead th {\n",
       "        text-align: right;\n",
       "    }\n",
       "</style>\n",
       "<table border=\"1\" class=\"dataframe\">\n",
       "  <thead>\n",
       "    <tr style=\"text-align: right;\">\n",
       "      <th></th>\n",
       "      <th>unique_id</th>\n",
       "      <th>ds</th>\n",
       "      <th>y</th>\n",
       "      <th>weight</th>\n",
       "    </tr>\n",
       "  </thead>\n",
       "  <tbody>\n",
       "    <tr>\n",
       "      <th>0</th>\n",
       "      <td>id_0</td>\n",
       "      <td>2000-01-01</td>\n",
       "      <td>0.357595</td>\n",
       "      <td>0.636962</td>\n",
       "    </tr>\n",
       "    <tr>\n",
       "      <th>1</th>\n",
       "      <td>id_0</td>\n",
       "      <td>2000-01-02</td>\n",
       "      <td>1.301382</td>\n",
       "      <td>0.269787</td>\n",
       "    </tr>\n",
       "  </tbody>\n",
       "</table>\n",
       "</div>"
      ],
      "text/plain": [
       "  unique_id         ds         y    weight\n",
       "0      id_0 2000-01-01  0.357595  0.636962\n",
       "1      id_0 2000-01-02  1.301382  0.269787"
      ]
     },
     "execution_count": null,
     "metadata": {},
     "output_type": "execute_result"
    }
   ],
   "source": [
    "series = generate_daily_series(2)\n",
    "series['weight'] = np.random.default_rng(seed=0).random(series.shape[0])\n",
    "series.head(2)"
   ]
  },
  {
   "cell_type": "markdown",
   "id": "c9a92b29-db7f-47e0-90b4-28502fb90c4a",
   "metadata": {},
   "source": [
    "## Creating forecast object"
   ]
  },
  {
   "cell_type": "code",
   "execution_count": null,
   "id": "f30ca0d0-bd08-4131-86f8-d8f8685b9553",
   "metadata": {},
   "outputs": [],
   "source": [
    "import lightgbm as lgb\n",
    "from sklearn.linear_model import LinearRegression\n",
    "\n",
    "from mlforecast import MLForecast"
   ]
  },
  {
   "cell_type": "code",
   "execution_count": null,
   "id": "be951ea9-f722-4e33-b460-845b6d672015",
   "metadata": {},
   "outputs": [],
   "source": [
    "fcst = MLForecast(\n",
    "    models={\n",
    "        'lr': LinearRegression(),\n",
    "        'lgbm': lgb.LGBMRegressor(verbosity=-1),\n",
    "    },\n",
    "    freq='D',\n",
    "    lags=[1],\n",
    "    date_features=['dayofweek'],\n",
    ")"
   ]
  },
  {
   "cell_type": "markdown",
   "id": "5f4ce8fb-9281-4230-92e8-ead0d4288d48",
   "metadata": {},
   "source": [
    "## Forecasting\n",
    "You can provide the `weight_col` argument to `MLForecast.fit` to indicate which column should be used as the sample weights."
   ]
  },
  {
   "cell_type": "code",
   "execution_count": null,
   "id": "e30151a7-1d16-4852-800e-ddc88375020d",
   "metadata": {},
   "outputs": [
    {
     "data": {
      "text/html": [
       "<div>\n",
       "<style scoped>\n",
       "    .dataframe tbody tr th:only-of-type {\n",
       "        vertical-align: middle;\n",
       "    }\n",
       "\n",
       "    .dataframe tbody tr th {\n",
       "        vertical-align: top;\n",
       "    }\n",
       "\n",
       "    .dataframe thead th {\n",
       "        text-align: right;\n",
       "    }\n",
       "</style>\n",
       "<table border=\"1\" class=\"dataframe\">\n",
       "  <thead>\n",
       "    <tr style=\"text-align: right;\">\n",
       "      <th></th>\n",
       "      <th>unique_id</th>\n",
       "      <th>ds</th>\n",
       "      <th>lr</th>\n",
       "      <th>lgbm</th>\n",
       "    </tr>\n",
       "  </thead>\n",
       "  <tbody>\n",
       "    <tr>\n",
       "      <th>0</th>\n",
       "      <td>id_0</td>\n",
       "      <td>2000-08-10</td>\n",
       "      <td>3.336019</td>\n",
       "      <td>5.283677</td>\n",
       "    </tr>\n",
       "    <tr>\n",
       "      <th>1</th>\n",
       "      <td>id_1</td>\n",
       "      <td>2000-04-07</td>\n",
       "      <td>3.300786</td>\n",
       "      <td>4.230655</td>\n",
       "    </tr>\n",
       "  </tbody>\n",
       "</table>\n",
       "</div>"
      ],
      "text/plain": [
       "  unique_id         ds        lr      lgbm\n",
       "0      id_0 2000-08-10  3.336019  5.283677\n",
       "1      id_1 2000-04-07  3.300786  4.230655"
      ]
     },
     "execution_count": null,
     "metadata": {},
     "output_type": "execute_result"
    }
   ],
   "source": [
    "fcst.fit(series, weight_col='weight').predict(1)"
   ]
  },
  {
   "cell_type": "markdown",
   "id": "2bd56946-761b-4a12-9011-16b8588014c0",
   "metadata": {},
   "source": [
    "## Cross validation\n",
    "You can provide the `weight_col` argument to `MLForecast.cross_validation` to indicate which column should be used as the sample weights."
   ]
  },
  {
   "cell_type": "code",
   "execution_count": null,
   "id": "45ca8c72-8440-42e4-a84e-6f68fd3b33a3",
   "metadata": {},
   "outputs": [
    {
     "data": {
      "text/html": [
       "<div>\n",
       "<style scoped>\n",
       "    .dataframe tbody tr th:only-of-type {\n",
       "        vertical-align: middle;\n",
       "    }\n",
       "\n",
       "    .dataframe tbody tr th {\n",
       "        vertical-align: top;\n",
       "    }\n",
       "\n",
       "    .dataframe thead th {\n",
       "        text-align: right;\n",
       "    }\n",
       "</style>\n",
       "<table border=\"1\" class=\"dataframe\">\n",
       "  <thead>\n",
       "    <tr style=\"text-align: right;\">\n",
       "      <th></th>\n",
       "      <th>unique_id</th>\n",
       "      <th>ds</th>\n",
       "      <th>cutoff</th>\n",
       "      <th>y</th>\n",
       "      <th>lr</th>\n",
       "      <th>lgbm</th>\n",
       "    </tr>\n",
       "  </thead>\n",
       "  <tbody>\n",
       "    <tr>\n",
       "      <th>0</th>\n",
       "      <td>id_0</td>\n",
       "      <td>2000-08-08</td>\n",
       "      <td>2000-08-07</td>\n",
       "      <td>3.436325</td>\n",
       "      <td>2.770717</td>\n",
       "      <td>3.242790</td>\n",
       "    </tr>\n",
       "    <tr>\n",
       "      <th>1</th>\n",
       "      <td>id_1</td>\n",
       "      <td>2000-04-05</td>\n",
       "      <td>2000-04-04</td>\n",
       "      <td>2.430276</td>\n",
       "      <td>2.687932</td>\n",
       "      <td>2.075247</td>\n",
       "    </tr>\n",
       "    <tr>\n",
       "      <th>2</th>\n",
       "      <td>id_0</td>\n",
       "      <td>2000-08-09</td>\n",
       "      <td>2000-08-08</td>\n",
       "      <td>4.136771</td>\n",
       "      <td>3.095140</td>\n",
       "      <td>4.239010</td>\n",
       "    </tr>\n",
       "    <tr>\n",
       "      <th>3</th>\n",
       "      <td>id_1</td>\n",
       "      <td>2000-04-06</td>\n",
       "      <td>2000-04-05</td>\n",
       "      <td>3.363522</td>\n",
       "      <td>3.016661</td>\n",
       "      <td>3.436962</td>\n",
       "    </tr>\n",
       "  </tbody>\n",
       "</table>\n",
       "</div>"
      ],
      "text/plain": [
       "  unique_id         ds     cutoff         y        lr      lgbm\n",
       "0      id_0 2000-08-08 2000-08-07  3.436325  2.770717  3.242790\n",
       "1      id_1 2000-04-05 2000-04-04  2.430276  2.687932  2.075247\n",
       "2      id_0 2000-08-09 2000-08-08  4.136771  3.095140  4.239010\n",
       "3      id_1 2000-04-06 2000-04-05  3.363522  3.016661  3.436962"
      ]
     },
     "execution_count": null,
     "metadata": {},
     "output_type": "execute_result"
    }
   ],
   "source": [
    "fcst.cross_validation(series, n_windows=2, h=1, weight_col='weight')"
   ]
  }
 ],
 "metadata": {
  "kernelspec": {
   "display_name": "python3",
   "language": "python",
   "name": "python3"
  }
 },
 "nbformat": 4,
 "nbformat_minor": 5
}
