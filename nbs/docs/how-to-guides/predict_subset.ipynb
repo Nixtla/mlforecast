{
 "cells": [
  {
   "cell_type": "code",
   "execution_count": null,
   "id": "caabe6e0-3eb2-4b58-85b4-20aad5de34e5",
   "metadata": {},
   "outputs": [],
   "source": [
    "#| hide\n",
    "%load_ext autoreload\n",
    "%autoreload 2"
   ]
  },
  {
   "cell_type": "markdown",
   "id": "c252c6e4-15f4-4789-a07c-ad326daba639",
   "metadata": {},
   "source": [
    "# Predicting a subset of ids\n",
    "> Compute predictions for only a subset of the training ids "
   ]
  },
  {
   "cell_type": "code",
   "execution_count": null,
   "id": "e9c959e7-6819-477d-b345-c2734785397a",
   "metadata": {},
   "outputs": [],
   "source": [
    "from lightgbm import LGBMRegressor\n",
    "from fastcore.test import test_fail\n",
    "\n",
    "from mlforecast import MLForecast\n",
    "from mlforecast.utils import generate_daily_series"
   ]
  },
  {
   "cell_type": "code",
   "execution_count": null,
   "id": "b3e4e904-161a-4346-8165-ad352f4c8934",
   "metadata": {},
   "outputs": [
    {
     "data": {
      "text/html": [
       "<div>\n",
       "<style scoped>\n",
       "    .dataframe tbody tr th:only-of-type {\n",
       "        vertical-align: middle;\n",
       "    }\n",
       "\n",
       "    .dataframe tbody tr th {\n",
       "        vertical-align: top;\n",
       "    }\n",
       "\n",
       "    .dataframe thead th {\n",
       "        text-align: right;\n",
       "    }\n",
       "</style>\n",
       "<table border=\"1\" class=\"dataframe\">\n",
       "  <thead>\n",
       "    <tr style=\"text-align: right;\">\n",
       "      <th></th>\n",
       "      <th>unique_id</th>\n",
       "      <th>ds</th>\n",
       "      <th>lgb</th>\n",
       "    </tr>\n",
       "  </thead>\n",
       "  <tbody>\n",
       "    <tr>\n",
       "      <th>0</th>\n",
       "      <td>id_0</td>\n",
       "      <td>2000-08-10</td>\n",
       "      <td>3.728396</td>\n",
       "    </tr>\n",
       "    <tr>\n",
       "      <th>1</th>\n",
       "      <td>id_1</td>\n",
       "      <td>2000-04-07</td>\n",
       "      <td>4.749133</td>\n",
       "    </tr>\n",
       "    <tr>\n",
       "      <th>2</th>\n",
       "      <td>id_2</td>\n",
       "      <td>2000-06-16</td>\n",
       "      <td>4.749133</td>\n",
       "    </tr>\n",
       "    <tr>\n",
       "      <th>3</th>\n",
       "      <td>id_3</td>\n",
       "      <td>2000-08-30</td>\n",
       "      <td>2.758949</td>\n",
       "    </tr>\n",
       "    <tr>\n",
       "      <th>4</th>\n",
       "      <td>id_4</td>\n",
       "      <td>2001-01-08</td>\n",
       "      <td>3.331394</td>\n",
       "    </tr>\n",
       "  </tbody>\n",
       "</table>\n",
       "</div>"
      ],
      "text/plain": [
       "  unique_id         ds       lgb\n",
       "0      id_0 2000-08-10  3.728396\n",
       "1      id_1 2000-04-07  4.749133\n",
       "2      id_2 2000-06-16  4.749133\n",
       "3      id_3 2000-08-30  2.758949\n",
       "4      id_4 2001-01-08  3.331394"
      ]
     },
     "execution_count": null,
     "metadata": {},
     "output_type": "execute_result"
    }
   ],
   "source": [
    "series = generate_daily_series(5)\n",
    "fcst = MLForecast({'lgb': LGBMRegressor(verbosity=-1)}, freq='D', date_features=['dayofweek'])\n",
    "fcst.fit(series)\n",
    "all_preds = fcst.predict(1)\n",
    "all_preds"
   ]
  },
  {
   "cell_type": "markdown",
   "id": "7e7b3367-aa2a-44ce-8e59-e69237dd08b5",
   "metadata": {},
   "source": [
    "By default all series seen during training will be forecasted with the predict method. If you're only interested in predicting a couple of them you can use the `ids` argument."
   ]
  },
  {
   "cell_type": "code",
   "execution_count": null,
   "id": "551cebed-50c3-4d39-8034-296bc874aab4",
   "metadata": {},
   "outputs": [
    {
     "data": {
      "text/html": [
       "<div>\n",
       "<style scoped>\n",
       "    .dataframe tbody tr th:only-of-type {\n",
       "        vertical-align: middle;\n",
       "    }\n",
       "\n",
       "    .dataframe tbody tr th {\n",
       "        vertical-align: top;\n",
       "    }\n",
       "\n",
       "    .dataframe thead th {\n",
       "        text-align: right;\n",
       "    }\n",
       "</style>\n",
       "<table border=\"1\" class=\"dataframe\">\n",
       "  <thead>\n",
       "    <tr style=\"text-align: right;\">\n",
       "      <th></th>\n",
       "      <th>unique_id</th>\n",
       "      <th>ds</th>\n",
       "      <th>lgb</th>\n",
       "    </tr>\n",
       "  </thead>\n",
       "  <tbody>\n",
       "    <tr>\n",
       "      <th>0</th>\n",
       "      <td>id_0</td>\n",
       "      <td>2000-08-10</td>\n",
       "      <td>3.728396</td>\n",
       "    </tr>\n",
       "    <tr>\n",
       "      <th>1</th>\n",
       "      <td>id_4</td>\n",
       "      <td>2001-01-08</td>\n",
       "      <td>3.331394</td>\n",
       "    </tr>\n",
       "  </tbody>\n",
       "</table>\n",
       "</div>"
      ],
      "text/plain": [
       "  unique_id         ds       lgb\n",
       "0      id_0 2000-08-10  3.728396\n",
       "1      id_4 2001-01-08  3.331394"
      ]
     },
     "execution_count": null,
     "metadata": {},
     "output_type": "execute_result"
    }
   ],
   "source": [
    "fcst.predict(1, ids=['id_0', 'id_4'])"
   ]
  },
  {
   "cell_type": "markdown",
   "id": "a7c59a20-e374-4ebe-b2ce-9a262580f6f8",
   "metadata": {},
   "source": [
    "Note that the ids must've been seen during training, if you try to predict an id that wasn't there you'll get an error."
   ]
  },
  {
   "cell_type": "code",
   "execution_count": null,
   "id": "63b5d5ac-f9cc-4af7-bf44-1d22f1c2e627",
   "metadata": {},
   "outputs": [],
   "source": [
    "test_fail(lambda: fcst.predict(1, ids=['fake_id']), contains='fake_id')"
   ]
  }
 ],
 "metadata": {
  "kernelspec": {
   "display_name": "python3",
   "language": "python",
   "name": "python3"
  }
 },
 "nbformat": 4,
 "nbformat_minor": 5
}
