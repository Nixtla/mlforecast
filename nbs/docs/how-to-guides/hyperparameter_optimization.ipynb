{
 "cells": [
  {
   "cell_type": "code",
   "execution_count": null,
   "id": "c4d5da8f-98b7-4bda-89bd-233971cd4ae3",
   "metadata": {},
   "outputs": [],
   "source": [
    "#| hide\n",
    "%load_ext autoreload\n",
    "%autoreload 2"
   ]
  },
  {
   "cell_type": "markdown",
   "id": "af2872fc-f882-4b43-8485-c3200b6c8399",
   "metadata": {},
   "source": [
    "# Hyperparameter optimization\n",
    "> Tune your forecasting models"
   ]
  },
  {
   "cell_type": "markdown",
   "id": "96b3127a-818e-4d41-8865-ff9d0f1b0451",
   "metadata": {},
   "source": [
    "## Imports"
   ]
  },
  {
   "cell_type": "code",
   "execution_count": null,
   "id": "71d1b3e6-955e-41ac-a1d3-247134639821",
   "metadata": {},
   "outputs": [],
   "source": [
    "import os\n",
    "import tempfile\n",
    "\n",
    "import lightgbm as lgb\n",
    "import optuna\n",
    "import pandas as pd\n",
    "from datasetsforecast.m4 import M4, M4Evaluation, M4Info\n",
    "from sklearn.linear_model import Ridge\n",
    "from sklearn.compose import ColumnTransformer\n",
    "from sklearn.pipeline import make_pipeline\n",
    "from sklearn.preprocessing import OneHotEncoder\n",
    "from utilsforecast.plotting import plot_series\n",
    "\n",
    "from mlforecast import MLForecast\n",
    "from mlforecast.auto import (\n",
    "    AutoLightGBM,\n",
    "    AutoMLForecast,\n",
    "    AutoModel,\n",
    "    AutoRidge,\n",
    "    ridge_space,\n",
    ")\n",
    "from mlforecast.lag_transforms import ExponentiallyWeightedMean, RollingMean"
   ]
  },
  {
   "cell_type": "markdown",
   "id": "aa121038-f307-402e-8ce3-740b26bf8291",
   "metadata": {},
   "source": [
    "## Data setup"
   ]
  },
  {
   "cell_type": "code",
   "execution_count": null,
   "id": "19a629a1-5a7a-4e1b-9bc0-f4d3de24b539",
   "metadata": {},
   "outputs": [],
   "source": [
    "def get_data(group, horizon):\n",
    "    df, *_ = M4.load(directory='data', group=group)\n",
    "    df['ds'] = df['ds'].astype('int')\n",
    "    df['unique_id'] = df['unique_id'].astype('category')\n",
    "    return df.groupby('unique_id').head(-horizon).copy()\n",
    "\n",
    "group = 'Hourly'\n",
    "horizon = M4Info[group].horizon\n",
    "train = get_data(group, horizon)"
   ]
  },
  {
   "cell_type": "markdown",
   "id": "47e6fdab-369d-4788-baa2-eab47ad233db",
   "metadata": {},
   "source": [
    "## Optimization"
   ]
  },
  {
   "cell_type": "markdown",
   "id": "60be7e0a-6021-4d0d-b338-232c8b1b4505",
   "metadata": {},
   "source": [
    "### Default optimization"
   ]
  },
  {
   "cell_type": "markdown",
   "id": "ef6d9329-2099-4ac3-bbba-648da5a061e0",
   "metadata": {},
   "source": [
    "We have default search spaces for some models and we can define default features to look for based on the length of the seasonal period of your data. For this example we'll use hourly data, for which we'll set 24 (one day) as the season length."
   ]
  },
  {
   "cell_type": "code",
   "execution_count": null,
   "id": "c123035d-8ec5-4c00-9d3c-d1a689f37bc6",
   "metadata": {},
   "outputs": [
    {
     "data": {
      "text/plain": [
       "AutoMLForecast(models={'lgb': AutoModel(model=LGBMRegressor), 'ridge': AutoModel(model=Ridge)})"
      ]
     },
     "execution_count": null,
     "metadata": {},
     "output_type": "execute_result"
    }
   ],
   "source": [
    "optuna.logging.set_verbosity(optuna.logging.ERROR)\n",
    "auto_mlf = AutoMLForecast(\n",
    "    models={'lgb': AutoLightGBM(), 'ridge': AutoRidge()},\n",
    "    freq=1,\n",
    "    season_length=24,\n",
    ")\n",
    "auto_mlf.fit(\n",
    "    train,\n",
    "    n_windows=2,\n",
    "    h=horizon,\n",
    "    num_samples=2,  # number of trials to run\n",
    ")"
   ]
  },
  {
   "cell_type": "markdown",
   "id": "286a40b2-38de-4deb-9138-330b1e3a7ace",
   "metadata": {},
   "source": [
    "We can now use these models to predict"
   ]
  },
  {
   "cell_type": "code",
   "execution_count": null,
   "id": "fe31b704-5468-4785-a1f9-4a288d2a5a1d",
   "metadata": {},
   "outputs": [
    {
     "data": {
      "text/html": [
       "<div>\n",
       "<style scoped>\n",
       "    .dataframe tbody tr th:only-of-type {\n",
       "        vertical-align: middle;\n",
       "    }\n",
       "\n",
       "    .dataframe tbody tr th {\n",
       "        vertical-align: top;\n",
       "    }\n",
       "\n",
       "    .dataframe thead th {\n",
       "        text-align: right;\n",
       "    }\n",
       "</style>\n",
       "<table border=\"1\" class=\"dataframe\">\n",
       "  <thead>\n",
       "    <tr style=\"text-align: right;\">\n",
       "      <th></th>\n",
       "      <th>unique_id</th>\n",
       "      <th>ds</th>\n",
       "      <th>lgb</th>\n",
       "      <th>ridge</th>\n",
       "    </tr>\n",
       "  </thead>\n",
       "  <tbody>\n",
       "    <tr>\n",
       "      <th>0</th>\n",
       "      <td>H1</td>\n",
       "      <td>701</td>\n",
       "      <td>680.534943</td>\n",
       "      <td>604.140123</td>\n",
       "    </tr>\n",
       "    <tr>\n",
       "      <th>1</th>\n",
       "      <td>H1</td>\n",
       "      <td>702</td>\n",
       "      <td>599.038307</td>\n",
       "      <td>523.364874</td>\n",
       "    </tr>\n",
       "    <tr>\n",
       "      <th>2</th>\n",
       "      <td>H1</td>\n",
       "      <td>703</td>\n",
       "      <td>572.808421</td>\n",
       "      <td>479.174481</td>\n",
       "    </tr>\n",
       "    <tr>\n",
       "      <th>3</th>\n",
       "      <td>H1</td>\n",
       "      <td>704</td>\n",
       "      <td>564.573783</td>\n",
       "      <td>444.540062</td>\n",
       "    </tr>\n",
       "    <tr>\n",
       "      <th>4</th>\n",
       "      <td>H1</td>\n",
       "      <td>705</td>\n",
       "      <td>543.046026</td>\n",
       "      <td>419.987657</td>\n",
       "    </tr>\n",
       "  </tbody>\n",
       "</table>\n",
       "</div>"
      ],
      "text/plain": [
       "  unique_id   ds         lgb       ridge\n",
       "0        H1  701  680.534943  604.140123\n",
       "1        H1  702  599.038307  523.364874\n",
       "2        H1  703  572.808421  479.174481\n",
       "3        H1  704  564.573783  444.540062\n",
       "4        H1  705  543.046026  419.987657"
      ]
     },
     "execution_count": null,
     "metadata": {},
     "output_type": "execute_result"
    }
   ],
   "source": [
    "preds = auto_mlf.predict(horizon)\n",
    "preds.head()"
   ]
  },
  {
   "cell_type": "markdown",
   "id": "02585fe2-3b65-463e-831b-a33c53f6d49f",
   "metadata": {},
   "source": [
    "And evaluate them"
   ]
  },
  {
   "cell_type": "code",
   "execution_count": null,
   "id": "2434a9c3-785e-4be7-a653-8c01b3b699c4",
   "metadata": {},
   "outputs": [
    {
     "data": {
      "text/html": [
       "<div>\n",
       "<style scoped>\n",
       "    .dataframe tbody tr th:only-of-type {\n",
       "        vertical-align: middle;\n",
       "    }\n",
       "\n",
       "    .dataframe tbody tr th {\n",
       "        vertical-align: top;\n",
       "    }\n",
       "\n",
       "    .dataframe thead th {\n",
       "        text-align: right;\n",
       "    }\n",
       "</style>\n",
       "<table border=\"1\" class=\"dataframe\">\n",
       "  <thead>\n",
       "    <tr style=\"text-align: right;\">\n",
       "      <th></th>\n",
       "      <th>lgb</th>\n",
       "      <th>ridge</th>\n",
       "    </tr>\n",
       "  </thead>\n",
       "  <tbody>\n",
       "    <tr>\n",
       "      <th>SMAPE</th>\n",
       "      <td>18.78</td>\n",
       "      <td>20.00</td>\n",
       "    </tr>\n",
       "    <tr>\n",
       "      <th>MASE</th>\n",
       "      <td>5.07</td>\n",
       "      <td>1.29</td>\n",
       "    </tr>\n",
       "    <tr>\n",
       "      <th>OWA</th>\n",
       "      <td>1.57</td>\n",
       "      <td>0.81</td>\n",
       "    </tr>\n",
       "  </tbody>\n",
       "</table>\n",
       "</div>"
      ],
      "text/plain": [
       "         lgb  ridge\n",
       "SMAPE  18.78  20.00\n",
       "MASE    5.07   1.29\n",
       "OWA     1.57   0.81"
      ]
     },
     "execution_count": null,
     "metadata": {},
     "output_type": "execute_result"
    }
   ],
   "source": [
    "def evaluate(df, group):\n",
    "    results = []\n",
    "    for model in df.columns.drop(['unique_id', 'ds']):\n",
    "        model_res = M4Evaluation.evaluate(\n",
    "            'data', group, df[model].to_numpy().reshape(-1, horizon)\n",
    "        )\n",
    "        model_res.index = [model]\n",
    "        results.append(model_res)\n",
    "    return pd.concat(results).T.round(2)\n",
    "\n",
    "evaluate(preds, group)"
   ]
  },
  {
   "cell_type": "markdown",
   "id": "469b9119-ecf2-49ce-84a3-76d3c75918a2",
   "metadata": {},
   "source": [
    "### Tuning model parameters "
   ]
  },
  {
   "cell_type": "markdown",
   "id": "1609ee0e-ede7-4fd6-8ee3-eaf905a59aec",
   "metadata": {},
   "source": [
    "You can provide your own model with its search space to perform the optimization. The search space should be a function that takes an optuna trial and returns the model parameters."
   ]
  },
  {
   "cell_type": "code",
   "execution_count": null,
   "id": "a8b9da91-277a-41f8-9a26-b88f4344c4f6",
   "metadata": {},
   "outputs": [
    {
     "data": {
      "text/html": [
       "<div>\n",
       "<style scoped>\n",
       "    .dataframe tbody tr th:only-of-type {\n",
       "        vertical-align: middle;\n",
       "    }\n",
       "\n",
       "    .dataframe tbody tr th {\n",
       "        vertical-align: top;\n",
       "    }\n",
       "\n",
       "    .dataframe thead th {\n",
       "        text-align: right;\n",
       "    }\n",
       "</style>\n",
       "<table border=\"1\" class=\"dataframe\">\n",
       "  <thead>\n",
       "    <tr style=\"text-align: right;\">\n",
       "      <th></th>\n",
       "      <th>my_lgb</th>\n",
       "    </tr>\n",
       "  </thead>\n",
       "  <tbody>\n",
       "    <tr>\n",
       "      <th>SMAPE</th>\n",
       "      <td>18.67</td>\n",
       "    </tr>\n",
       "    <tr>\n",
       "      <th>MASE</th>\n",
       "      <td>4.79</td>\n",
       "    </tr>\n",
       "    <tr>\n",
       "      <th>OWA</th>\n",
       "      <td>1.51</td>\n",
       "    </tr>\n",
       "  </tbody>\n",
       "</table>\n",
       "</div>"
      ],
      "text/plain": [
       "       my_lgb\n",
       "SMAPE   18.67\n",
       "MASE     4.79\n",
       "OWA      1.51"
      ]
     },
     "execution_count": null,
     "metadata": {},
     "output_type": "execute_result"
    }
   ],
   "source": [
    "def my_lgb_config(trial: optuna.Trial):\n",
    "    return {\n",
    "        'learning_rate': 0.05,\n",
    "        'verbosity': -1,\n",
    "        'num_leaves': trial.suggest_int('num_leaves', 2, 128, log=True),\n",
    "        'objective': trial.suggest_categorical('objective', ['l1', 'l2', 'mape']),\n",
    "    }\n",
    "\n",
    "my_lgb = AutoModel(\n",
    "    model=lgb.LGBMRegressor(),\n",
    "    config=my_lgb_config,\n",
    ")\n",
    "auto_mlf = AutoMLForecast(\n",
    "    models={'my_lgb': my_lgb},\n",
    "    freq=1,\n",
    "    season_length=24,\n",
    ").fit(\n",
    "    train,\n",
    "    n_windows=2,\n",
    "    h=horizon,\n",
    "    num_samples=2,\n",
    ")\n",
    "preds = auto_mlf.predict(horizon)\n",
    "evaluate(preds, group)"
   ]
  },
  {
   "cell_type": "markdown",
   "id": "9ecfe659-40f1-40d1-9de4-794d430472ec",
   "metadata": {},
   "source": [
    "#### Tuning scikit-learn pipelines"
   ]
  },
  {
   "cell_type": "markdown",
   "id": "c89f0ccd-88c1-48ac-a560-f8f1e2a27a48",
   "metadata": {},
   "source": [
    "We internally use [BaseEstimator.set_params](https://scikit-learn.org/stable/modules/generated/sklearn.base.BaseEstimator.html#sklearn.base.BaseEstimator.set_params) for each configuration, so if you're using a scikit-learn pipeline you can tune its parameters as you normally would with scikit-learn's searches."
   ]
  },
  {
   "cell_type": "code",
   "execution_count": null,
   "id": "6d5fa4a9-bd04-4221-bed1-e411f7b9f09e",
   "metadata": {},
   "outputs": [
    {
     "data": {
      "text/html": [
       "<div>\n",
       "<style scoped>\n",
       "    .dataframe tbody tr th:only-of-type {\n",
       "        vertical-align: middle;\n",
       "    }\n",
       "\n",
       "    .dataframe tbody tr th {\n",
       "        vertical-align: top;\n",
       "    }\n",
       "\n",
       "    .dataframe thead th {\n",
       "        text-align: right;\n",
       "    }\n",
       "</style>\n",
       "<table border=\"1\" class=\"dataframe\">\n",
       "  <thead>\n",
       "    <tr style=\"text-align: right;\">\n",
       "      <th></th>\n",
       "      <th>ridge</th>\n",
       "    </tr>\n",
       "  </thead>\n",
       "  <tbody>\n",
       "    <tr>\n",
       "      <th>SMAPE</th>\n",
       "      <td>18.50</td>\n",
       "    </tr>\n",
       "    <tr>\n",
       "      <th>MASE</th>\n",
       "      <td>1.24</td>\n",
       "    </tr>\n",
       "    <tr>\n",
       "      <th>OWA</th>\n",
       "      <td>0.76</td>\n",
       "    </tr>\n",
       "  </tbody>\n",
       "</table>\n",
       "</div>"
      ],
      "text/plain": [
       "       ridge\n",
       "SMAPE  18.50\n",
       "MASE    1.24\n",
       "OWA     0.76"
      ]
     },
     "execution_count": null,
     "metadata": {},
     "output_type": "execute_result"
    }
   ],
   "source": [
    "ridge_pipeline = make_pipeline(\n",
    "    ColumnTransformer(\n",
    "        [('encoder', OneHotEncoder(), ['unique_id'])],\n",
    "        remainder='passthrough',\n",
    "    ),\n",
    "    Ridge()\n",
    ")\n",
    "my_auto_ridge = AutoModel(\n",
    "    ridge_pipeline,\n",
    "    # the space must have the name of the estimator followed by the parameter\n",
    "    # you could also tune the encoder here\n",
    "    lambda trial: {f'ridge__{k}': v for k, v in ridge_space(trial).items()},\n",
    ")\n",
    "auto_mlf = AutoMLForecast(\n",
    "    models={'ridge': my_auto_ridge},\n",
    "    freq=1,\n",
    "    season_length=24,\n",
    "    fit_config=lambda trial: {'static_features': ['unique_id']}\n",
    ").fit(\n",
    "    train,\n",
    "    n_windows=2,\n",
    "    h=horizon,\n",
    "    num_samples=2,\n",
    ")\n",
    "preds = auto_mlf.predict(horizon)\n",
    "evaluate(preds, group)"
   ]
  },
  {
   "cell_type": "markdown",
   "id": "5dfba281-cbe1-4570-bf3e-438f36ac6afe",
   "metadata": {},
   "source": [
    "### Tuning features"
   ]
  },
  {
   "cell_type": "markdown",
   "id": "74f49b2f-4a16-46c4-91d4-42c83d8af917",
   "metadata": {},
   "source": [
    "The `MLForecast` class defines the features to build in its constructor. You can tune the features by providing a function through the `init_config` argument, which will take an optuna trial and produce a configuration to pass to the `MLForecast` constructor."
   ]
  },
  {
   "cell_type": "code",
   "execution_count": null,
   "id": "8142c990-84ea-44d2-a9a5-13b0321b1357",
   "metadata": {},
   "outputs": [
    {
     "data": {
      "text/html": [
       "<div>\n",
       "<style scoped>\n",
       "    .dataframe tbody tr th:only-of-type {\n",
       "        vertical-align: middle;\n",
       "    }\n",
       "\n",
       "    .dataframe tbody tr th {\n",
       "        vertical-align: top;\n",
       "    }\n",
       "\n",
       "    .dataframe thead th {\n",
       "        text-align: right;\n",
       "    }\n",
       "</style>\n",
       "<table border=\"1\" class=\"dataframe\">\n",
       "  <thead>\n",
       "    <tr style=\"text-align: right;\">\n",
       "      <th></th>\n",
       "      <th>AutoRidge</th>\n",
       "    </tr>\n",
       "  </thead>\n",
       "  <tbody>\n",
       "    <tr>\n",
       "      <th>SMAPE</th>\n",
       "      <td>13.31</td>\n",
       "    </tr>\n",
       "    <tr>\n",
       "      <th>MASE</th>\n",
       "      <td>1.67</td>\n",
       "    </tr>\n",
       "    <tr>\n",
       "      <th>OWA</th>\n",
       "      <td>0.71</td>\n",
       "    </tr>\n",
       "  </tbody>\n",
       "</table>\n",
       "</div>"
      ],
      "text/plain": [
       "       AutoRidge\n",
       "SMAPE      13.31\n",
       "MASE        1.67\n",
       "OWA         0.71"
      ]
     },
     "execution_count": null,
     "metadata": {},
     "output_type": "execute_result"
    }
   ],
   "source": [
    "def my_init_config(trial: optuna.Trial):\n",
    "    lag_transforms = [\n",
    "        ExponentiallyWeightedMean(alpha=0.3),\n",
    "        RollingMean(window_size=24 * 7, min_samples=1),\n",
    "    ]\n",
    "    lag_to_transform = trial.suggest_categorical('lag_to_transform', [24, 48])\n",
    "    return {\n",
    "        'lags': [24 * i for i in range(1, 7)],  # this won't be tuned\n",
    "        'lag_transforms': {lag_to_transform: lag_transforms},\n",
    "    }\n",
    "\n",
    "auto_mlf = AutoMLForecast(\n",
    "    models=[AutoRidge()],\n",
    "    freq=1,\n",
    "    season_length=24,\n",
    "    init_config=my_init_config,\n",
    ").fit(\n",
    "    train,\n",
    "    n_windows=2,\n",
    "    h=horizon,\n",
    "    num_samples=2,\n",
    ")\n",
    "preds = auto_mlf.predict(horizon)\n",
    "evaluate(preds, group)"
   ]
  },
  {
   "cell_type": "markdown",
   "id": "d4917495-ca9d-47f4-b362-2b61fa8102a7",
   "metadata": {},
   "source": [
    "### Tuning fit parameters"
   ]
  },
  {
   "cell_type": "markdown",
   "id": "8fa49603-de03-42aa-aa64-c4c5fc8caf60",
   "metadata": {},
   "source": [
    "The `MLForecast.fit` method takes some arguments that could improve the forecasting performance of your models, such as `dropna` and `static_features`. If you want to tune those you can provide a function to the `fit_config` argument."
   ]
  },
  {
   "cell_type": "code",
   "execution_count": null,
   "id": "ac0a7783-7fbf-46b3-ac71-29e05de49819",
   "metadata": {},
   "outputs": [
    {
     "data": {
      "text/html": [
       "<div>\n",
       "<style scoped>\n",
       "    .dataframe tbody tr th:only-of-type {\n",
       "        vertical-align: middle;\n",
       "    }\n",
       "\n",
       "    .dataframe tbody tr th {\n",
       "        vertical-align: top;\n",
       "    }\n",
       "\n",
       "    .dataframe thead th {\n",
       "        text-align: right;\n",
       "    }\n",
       "</style>\n",
       "<table border=\"1\" class=\"dataframe\">\n",
       "  <thead>\n",
       "    <tr style=\"text-align: right;\">\n",
       "      <th></th>\n",
       "      <th>AutoLightGBM</th>\n",
       "    </tr>\n",
       "  </thead>\n",
       "  <tbody>\n",
       "    <tr>\n",
       "      <th>SMAPE</th>\n",
       "      <td>18.78</td>\n",
       "    </tr>\n",
       "    <tr>\n",
       "      <th>MASE</th>\n",
       "      <td>5.07</td>\n",
       "    </tr>\n",
       "    <tr>\n",
       "      <th>OWA</th>\n",
       "      <td>1.57</td>\n",
       "    </tr>\n",
       "  </tbody>\n",
       "</table>\n",
       "</div>"
      ],
      "text/plain": [
       "       AutoLightGBM\n",
       "SMAPE         18.78\n",
       "MASE           5.07\n",
       "OWA            1.57"
      ]
     },
     "execution_count": null,
     "metadata": {},
     "output_type": "execute_result"
    }
   ],
   "source": [
    "def my_fit_config(trial: optuna.Trial):\n",
    "    if trial.suggest_int('use_id', 0, 1):\n",
    "        static_features = ['unique_id']\n",
    "    else:\n",
    "        static_features = None\n",
    "    return {\n",
    "        'static_features': static_features\n",
    "    }\n",
    "\n",
    "auto_mlf = AutoMLForecast(\n",
    "    models=[AutoLightGBM()],\n",
    "    freq=1,\n",
    "    season_length=24,\n",
    "    fit_config=my_fit_config,\n",
    ").fit(\n",
    "    train,\n",
    "    n_windows=2,\n",
    "    h=horizon,\n",
    "    num_samples=2,\n",
    ")\n",
    "preds = auto_mlf.predict(horizon)\n",
    "evaluate(preds, group)"
   ]
  },
  {
   "cell_type": "markdown",
   "id": "6ea6884e-ba12-4f6b-93d1-424f101068f5",
   "metadata": {},
   "source": [
    "## Accessing the optimization results"
   ]
  },
  {
   "cell_type": "markdown",
   "id": "5057bb45-f5c4-4ca2-87c8-9956aa74d5bd",
   "metadata": {},
   "source": [
    "After the process has finished the results are available under the `results_` attribute of the `AutoMLForecast` object. There will be one result per model and the best configuration can be found under the `config` user attribute."
   ]
  },
  {
   "cell_type": "code",
   "execution_count": null,
   "id": "8f647ea9-a367-48aa-9684-fab760b4dce1",
   "metadata": {},
   "outputs": [
    {
     "data": {
      "text/plain": [
       "1"
      ]
     },
     "execution_count": null,
     "metadata": {},
     "output_type": "execute_result"
    }
   ],
   "source": [
    "len(auto_mlf.results_)"
   ]
  },
  {
   "cell_type": "code",
   "execution_count": null,
   "id": "d5ad1a56-f807-46c4-a64d-605e1a66f0b9",
   "metadata": {},
   "outputs": [
    {
     "data": {
      "text/plain": [
       "{'model_params': {'bagging_freq': 1,\n",
       "  'learning_rate': 0.05,\n",
       "  'verbosity': -1,\n",
       "  'n_estimators': 169,\n",
       "  'lambda_l1': 0.027334069690310565,\n",
       "  'lambda_l2': 0.0026599310838681858,\n",
       "  'num_leaves': 112,\n",
       "  'feature_fraction': 0.7118273996694524,\n",
       "  'bagging_fraction': 0.8229470565333281,\n",
       "  'objective': 'l2'},\n",
       " 'mlf_init_params': {'lags': [48],\n",
       "  'target_transforms': None,\n",
       "  'lag_transforms': {1: [ExponentiallyWeightedMean(alpha=0.9)]},\n",
       "  'date_features': None,\n",
       "  'num_threads': 1},\n",
       " 'mlf_fit_params': {'static_features': None}}"
      ]
     },
     "execution_count": null,
     "metadata": {},
     "output_type": "execute_result"
    }
   ],
   "source": [
    "auto_mlf.results_['AutoLightGBM'].best_trial.user_attrs['config']"
   ]
  },
  {
   "cell_type": "markdown",
   "id": "2f2b9536-c7fa-4737-8eb7-8961c1ec2961",
   "metadata": {},
   "source": [
    "### Individual models"
   ]
  },
  {
   "cell_type": "markdown",
   "id": "013c1bef-6e93-433b-a13d-e996a9ac409e",
   "metadata": {},
   "source": [
    "There is one optimization process per model. This is because different models can make use of different features. So after the optimization process is done for each model the best configuration is used to retrain the model using all of the data. These final models are `MLForecast` objects and are saved in the `models_` attribute."
   ]
  },
  {
   "cell_type": "code",
   "execution_count": null,
   "id": "6e7820df-bde3-4355-93f5-67bd69b268fb",
   "metadata": {},
   "outputs": [
    {
     "data": {
      "text/plain": [
       "{'AutoLightGBM': MLForecast(models=[AutoLightGBM], freq=1, lag_features=['lag48', 'exponentially_weighted_mean_lag1_alpha0.9'], date_features=[], num_threads=1)}"
      ]
     },
     "execution_count": null,
     "metadata": {},
     "output_type": "execute_result"
    }
   ],
   "source": [
    "auto_mlf.models_"
   ]
  },
  {
   "cell_type": "markdown",
   "id": "1b7075b1-f3c7-4e35-ab87-2b184c716cb5",
   "metadata": {},
   "source": [
    "## Saving"
   ]
  },
  {
   "cell_type": "markdown",
   "id": "b5b59358-f56c-46e6-8314-625cd5b80cf9",
   "metadata": {},
   "source": [
    "You can use the `AutoMLForecast.save` method to save the best models found. This produces one directory per model."
   ]
  },
  {
   "cell_type": "code",
   "execution_count": null,
   "id": "5ba2bb5c-806b-4b9c-ab00-b657f46c52de",
   "metadata": {},
   "outputs": [
    {
     "name": "stdout",
     "output_type": "stream",
     "text": [
      "['AutoLightGBM']\n"
     ]
    }
   ],
   "source": [
    "with tempfile.TemporaryDirectory() as tmpdir:\n",
    "    auto_mlf.save(tmpdir)\n",
    "    print(os.listdir(tmpdir))"
   ]
  },
  {
   "cell_type": "markdown",
   "id": "785991a5-6349-42e6-b291-59ef425795c4",
   "metadata": {},
   "source": [
    "Since each model is an `MLForecast` object you can load it by itself."
   ]
  },
  {
   "cell_type": "code",
   "execution_count": null,
   "id": "aa36a4f9-ce67-4776-af76-1622460a42af",
   "metadata": {},
   "outputs": [
    {
     "name": "stdout",
     "output_type": "stream",
     "text": [
      "MLForecast(models=[AutoLightGBM], freq=1, lag_features=['lag48', 'exponentially_weighted_mean_lag1_alpha0.9'], date_features=[], num_threads=1)\n"
     ]
    }
   ],
   "source": [
    "with tempfile.TemporaryDirectory() as tmpdir:\n",
    "    auto_mlf.save(tmpdir)\n",
    "    loaded = MLForecast.load(f'{tmpdir}/AutoLightGBM')\n",
    "    print(loaded)"
   ]
  }
 ],
 "metadata": {
  "kernelspec": {
   "display_name": "python3",
   "language": "python",
   "name": "python3"
  }
 },
 "nbformat": 4,
 "nbformat_minor": 5
}
