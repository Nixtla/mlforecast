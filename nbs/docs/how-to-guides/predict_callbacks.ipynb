{
 "cells": [
  {
   "cell_type": "code",
   "execution_count": null,
   "id": "ee4aef32-08c4-479e-91a9-a59cb2ac1476",
   "metadata": {},
   "outputs": [],
   "source": [
    "#| hide\n",
    "%load_ext autoreload\n",
    "%autoreload 2"
   ]
  },
  {
   "cell_type": "markdown",
   "id": "7521c9dc-b7f1-4854-aaac-676f1e9992f9",
   "metadata": {},
   "source": [
    "# Predict callbacks\n",
    "> Get access to the input features and predictions in each forecasting horizon"
   ]
  },
  {
   "cell_type": "markdown",
   "id": "4229cc92-60fb-41db-8a45-82b1e8caf110",
   "metadata": {},
   "source": [
    "If you want to do something to the input before predicting or something to the output before it gets used to update the target (and thus the next features that rely on lags), you can pass a function to run at any of these times.\n",
    "\n",
    "Here are a couple of examples:"
   ]
  },
  {
   "cell_type": "code",
   "execution_count": null,
   "id": "345c1f48-4236-4dcc-ba9e-22094592c32d",
   "metadata": {},
   "outputs": [],
   "source": [
    "import lightgbm as lgb\n",
    "import numpy as np\n",
    "from IPython.display import display\n",
    "\n",
    "from mlforecast import MLForecast\n",
    "from mlforecast.utils import generate_daily_series"
   ]
  },
  {
   "cell_type": "code",
   "execution_count": null,
   "id": "ec3db66a-9eef-44c6-a422-5677125da1e3",
   "metadata": {},
   "outputs": [],
   "source": [
    "series = generate_daily_series(1)"
   ]
  },
  {
   "cell_type": "markdown",
   "id": "2a7ab078-4acc-43c4-8cf1-053c4fa34fa4",
   "metadata": {},
   "source": [
    "## Before predicting"
   ]
  },
  {
   "cell_type": "markdown",
   "id": "e12a83bc-478a-4540-9489-0011526a2290",
   "metadata": {},
   "source": [
    "### Inspecting the input"
   ]
  },
  {
   "cell_type": "markdown",
   "id": "5cc99f23-134c-4212-a15e-289b7e351f92",
   "metadata": {},
   "source": [
    "We can define a function that displays our input dataframe before predicting."
   ]
  },
  {
   "cell_type": "code",
   "execution_count": null,
   "id": "bbe7c708-c823-4078-92b8-e44cd8bd0885",
   "metadata": {},
   "outputs": [],
   "source": [
    "def inspect_input(new_x):\n",
    "    \"\"\"Displays the model inputs to inspect them\"\"\"\n",
    "    display(new_x)\n",
    "    return new_x"
   ]
  },
  {
   "cell_type": "markdown",
   "id": "d30eca60-8824-480a-a5b8-25899d1b3d55",
   "metadata": {},
   "source": [
    "And now we can pass this function to the `before_predict_callback` argument of `MLForecast.predict`."
   ]
  },
  {
   "cell_type": "code",
   "execution_count": null,
   "id": "dac508d2-3efd-43e1-bfed-87de16f9d454",
   "metadata": {},
   "outputs": [
    {
     "data": {
      "text/html": [
       "<div>\n",
       "<style scoped>\n",
       "    .dataframe tbody tr th:only-of-type {\n",
       "        vertical-align: middle;\n",
       "    }\n",
       "\n",
       "    .dataframe tbody tr th {\n",
       "        vertical-align: top;\n",
       "    }\n",
       "\n",
       "    .dataframe thead th {\n",
       "        text-align: right;\n",
       "    }\n",
       "</style>\n",
       "<table border=\"1\" class=\"dataframe\">\n",
       "  <thead>\n",
       "    <tr style=\"text-align: right;\">\n",
       "      <th></th>\n",
       "      <th>unique_id</th>\n",
       "      <th>lag1</th>\n",
       "      <th>lag2</th>\n",
       "    </tr>\n",
       "  </thead>\n",
       "  <tbody>\n",
       "    <tr>\n",
       "      <th>0</th>\n",
       "      <td>id_0</td>\n",
       "      <td>4.15593</td>\n",
       "      <td>3.000028</td>\n",
       "    </tr>\n",
       "  </tbody>\n",
       "</table>\n",
       "</div>"
      ],
      "text/plain": [
       "  unique_id     lag1      lag2\n",
       "0      id_0  4.15593  3.000028"
      ]
     },
     "metadata": {},
     "output_type": "display_data"
    },
    {
     "data": {
      "text/html": [
       "<div>\n",
       "<style scoped>\n",
       "    .dataframe tbody tr th:only-of-type {\n",
       "        vertical-align: middle;\n",
       "    }\n",
       "\n",
       "    .dataframe tbody tr th {\n",
       "        vertical-align: top;\n",
       "    }\n",
       "\n",
       "    .dataframe thead th {\n",
       "        text-align: right;\n",
       "    }\n",
       "</style>\n",
       "<table border=\"1\" class=\"dataframe\">\n",
       "  <thead>\n",
       "    <tr style=\"text-align: right;\">\n",
       "      <th></th>\n",
       "      <th>unique_id</th>\n",
       "      <th>lag1</th>\n",
       "      <th>lag2</th>\n",
       "    </tr>\n",
       "  </thead>\n",
       "  <tbody>\n",
       "    <tr>\n",
       "      <th>0</th>\n",
       "      <td>id_0</td>\n",
       "      <td>5.250205</td>\n",
       "      <td>4.15593</td>\n",
       "    </tr>\n",
       "  </tbody>\n",
       "</table>\n",
       "</div>"
      ],
      "text/plain": [
       "  unique_id      lag1     lag2\n",
       "0      id_0  5.250205  4.15593"
      ]
     },
     "metadata": {},
     "output_type": "display_data"
    },
    {
     "data": {
      "text/html": [
       "<div>\n",
       "<style scoped>\n",
       "    .dataframe tbody tr th:only-of-type {\n",
       "        vertical-align: middle;\n",
       "    }\n",
       "\n",
       "    .dataframe tbody tr th {\n",
       "        vertical-align: top;\n",
       "    }\n",
       "\n",
       "    .dataframe thead th {\n",
       "        text-align: right;\n",
       "    }\n",
       "</style>\n",
       "<table border=\"1\" class=\"dataframe\">\n",
       "  <thead>\n",
       "    <tr style=\"text-align: right;\">\n",
       "      <th></th>\n",
       "      <th>unique_id</th>\n",
       "      <th>ds</th>\n",
       "      <th>LGBMRegressor</th>\n",
       "    </tr>\n",
       "  </thead>\n",
       "  <tbody>\n",
       "    <tr>\n",
       "      <th>0</th>\n",
       "      <td>id_0</td>\n",
       "      <td>2000-08-10</td>\n",
       "      <td>5.250205</td>\n",
       "    </tr>\n",
       "    <tr>\n",
       "      <th>1</th>\n",
       "      <td>id_0</td>\n",
       "      <td>2000-08-11</td>\n",
       "      <td>6.241739</td>\n",
       "    </tr>\n",
       "  </tbody>\n",
       "</table>\n",
       "</div>"
      ],
      "text/plain": [
       "  unique_id         ds  LGBMRegressor\n",
       "0      id_0 2000-08-10       5.250205\n",
       "1      id_0 2000-08-11       6.241739"
      ]
     },
     "execution_count": null,
     "metadata": {},
     "output_type": "execute_result"
    }
   ],
   "source": [
    "fcst = MLForecast(lgb.LGBMRegressor(verbosity=-1), freq='D', lags=[1, 2])\n",
    "fcst.fit(series, static_features=['unique_id'])\n",
    "preds = fcst.predict(2, before_predict_callback=inspect_input)\n",
    "preds"
   ]
  },
  {
   "cell_type": "markdown",
   "id": "98036bf6-6b31-4c3b-aa47-f578e6be9511",
   "metadata": {},
   "source": [
    "### Saving the input features"
   ]
  },
  {
   "cell_type": "markdown",
   "id": "f7b4aad6-75fe-4871-8e0e-76c352a75858",
   "metadata": {},
   "source": [
    "Saving the features that are sent as input to the model in each timestamp can be helpful, for example to estimate SHAP values. This can be easily achieved with the `SaveFeatures` callback."
   ]
  },
  {
   "cell_type": "code",
   "execution_count": null,
   "id": "4ee62b18-9f72-4a9b-b47e-488f663d1db1",
   "metadata": {},
   "outputs": [],
   "source": [
    "from mlforecast.callbacks import SaveFeatures"
   ]
  },
  {
   "cell_type": "code",
   "execution_count": null,
   "id": "196dd9ee-436a-47d0-89ab-c5cc6471bb98",
   "metadata": {},
   "outputs": [],
   "source": [
    "fcst = MLForecast(lgb.LGBMRegressor(verbosity=-1), freq='D', lags=[1])\n",
    "fcst.fit(series, static_features=['unique_id'])\n",
    "save_features_cbk = SaveFeatures()\n",
    "fcst.predict(2, before_predict_callback=save_features_cbk);"
   ]
  },
  {
   "cell_type": "markdown",
   "id": "0c4d3f85-0ec8-497b-89d7-490e87f3555c",
   "metadata": {},
   "source": [
    "Once we've called predict we can just retrieve the features."
   ]
  },
  {
   "cell_type": "code",
   "execution_count": null,
   "id": "b74055c5-7861-441f-a0b8-87112270db27",
   "metadata": {},
   "outputs": [
    {
     "data": {
      "text/html": [
       "<div>\n",
       "<style scoped>\n",
       "    .dataframe tbody tr th:only-of-type {\n",
       "        vertical-align: middle;\n",
       "    }\n",
       "\n",
       "    .dataframe tbody tr th {\n",
       "        vertical-align: top;\n",
       "    }\n",
       "\n",
       "    .dataframe thead th {\n",
       "        text-align: right;\n",
       "    }\n",
       "</style>\n",
       "<table border=\"1\" class=\"dataframe\">\n",
       "  <thead>\n",
       "    <tr style=\"text-align: right;\">\n",
       "      <th></th>\n",
       "      <th>unique_id</th>\n",
       "      <th>lag1</th>\n",
       "    </tr>\n",
       "  </thead>\n",
       "  <tbody>\n",
       "    <tr>\n",
       "      <th>0</th>\n",
       "      <td>id_0</td>\n",
       "      <td>4.155930</td>\n",
       "    </tr>\n",
       "    <tr>\n",
       "      <th>1</th>\n",
       "      <td>id_0</td>\n",
       "      <td>5.281643</td>\n",
       "    </tr>\n",
       "  </tbody>\n",
       "</table>\n",
       "</div>"
      ],
      "text/plain": [
       "  unique_id      lag1\n",
       "0      id_0  4.155930\n",
       "1      id_0  5.281643"
      ]
     },
     "execution_count": null,
     "metadata": {},
     "output_type": "execute_result"
    }
   ],
   "source": [
    "save_features_cbk.get_features()"
   ]
  },
  {
   "cell_type": "markdown",
   "id": "727a5194-8849-4e60-8cda-ac2fe87ff12e",
   "metadata": {},
   "source": [
    "## After predicting"
   ]
  },
  {
   "cell_type": "markdown",
   "id": "06190851-09c4-4794-9bcb-4399a1fec666",
   "metadata": {},
   "source": [
    "When predicting with the recursive strategy (the default) the predictions for each timestamp are used to update the target and recompute the features. If you want to do something to these predictions before that happens you can use the `after_predict_callback` argument of `MLForecast.predict`."
   ]
  },
  {
   "cell_type": "markdown",
   "id": "f45274fa-879d-4620-a710-4db905aa1c29",
   "metadata": {},
   "source": [
    "### Increasing predictions values"
   ]
  },
  {
   "cell_type": "markdown",
   "id": "211eaef7-4936-4f61-bd92-0d6c420de164",
   "metadata": {},
   "source": [
    "Suppose we know that our model always underestimates and we want to prevent that from happening by making our predictions 10% higher. We can achieve that with the following:"
   ]
  },
  {
   "cell_type": "code",
   "execution_count": null,
   "id": "25ab7760-9f21-4c98-b382-7baaf4c1a0f5",
   "metadata": {},
   "outputs": [],
   "source": [
    "def increase_predictions(predictions):\n",
    "    \"\"\"Increases all predictions by 10%\"\"\"\n",
    "    return 1.1 * predictions"
   ]
  },
  {
   "cell_type": "code",
   "execution_count": null,
   "id": "1a819785-2b37-4ba5-b29d-6803f8818fdd",
   "metadata": {},
   "outputs": [],
   "source": [
    "fcst = MLForecast(\n",
    "    {'model': lgb.LGBMRegressor(verbosity=-1)},\n",
    "    freq='D',\n",
    "    date_features=['dayofweek'],\n",
    ")\n",
    "fcst.fit(series)\n",
    "original_preds = fcst.predict(2)\n",
    "scaled_preds = fcst.predict(2, after_predict_callback=increase_predictions)\n",
    "np.testing.assert_array_less(\n",
    "    original_preds['model'].values,\n",
    "    scaled_preds['model'].values,\n",
    ")"
   ]
  },
  {
   "cell_type": "code",
   "execution_count": null,
   "id": "d5ae9e64-06b6-4b4c-adea-23cdf20aa3ba",
   "metadata": {},
   "outputs": [],
   "source": [
    "#|hide\n",
    "fcst.ts._uids = fcst.ts.uids\n",
    "fcst.ts._idxs = None\n",
    "fcst.ts._static_features = fcst.ts.static_features_\n",
    "fcst.ts._predict_setup()\n",
    "\n",
    "for attr in ('head', 'tail'):\n",
    "    new_x = fcst.ts._get_features_for_next_step(None)\n",
    "    original_preds = fcst.models_['model'].predict(new_x)\n",
    "\n",
    "    expected = 1.1 * original_preds\n",
    "    actual = getattr(scaled_preds.groupby('unique_id')['model'], attr)(1).values\n",
    "    np.testing.assert_equal(expected, actual)\n",
    "\n",
    "    fcst.ts._update_y(actual)"
   ]
  }
 ],
 "metadata": {
  "kernelspec": {
   "display_name": "python3",
   "language": "python",
   "name": "python3"
  }
 },
 "nbformat": 4,
 "nbformat_minor": 5
}
