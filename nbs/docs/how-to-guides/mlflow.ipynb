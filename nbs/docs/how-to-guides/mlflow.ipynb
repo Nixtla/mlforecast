{
 "cells": [
  {
   "cell_type": "code",
   "execution_count": null,
   "metadata": {},
   "outputs": [],
   "source": [
    "#| hide\n",
    "%load_ext autoreload\n",
    "%autoreload 2"
   ]
  },
  {
   "cell_type": "markdown",
   "metadata": {},
   "source": [
    "# MLflow\n",
    "> Log your metrics and models"
   ]
  },
  {
   "cell_type": "markdown",
   "metadata": {},
   "source": [
    "## Libraries"
   ]
  },
  {
   "cell_type": "code",
   "execution_count": null,
   "metadata": {},
   "outputs": [],
   "source": [
    "import copy\n",
    "import subprocess\n",
    "import time\n",
    "\n",
    "import lightgbm as lgb\n",
    "import mlflow\n",
    "import pandas as pd\n",
    "import requests\n",
    "from sklearn.linear_model import LinearRegression\n",
    "from utilsforecast.data import generate_series\n",
    "from utilsforecast.losses import rmse, smape\n",
    "from utilsforecast.evaluation import evaluate\n",
    "from utilsforecast.feature_engineering import fourier\n",
    "\n",
    "import mlforecast.flavor\n",
    "from mlforecast import MLForecast\n",
    "from mlforecast.lag_transforms import ExponentiallyWeightedMean\n",
    "from mlforecast.utils import PredictionIntervals"
   ]
  },
  {
   "cell_type": "markdown",
   "metadata": {},
   "source": [
    "## Data setup"
   ]
  },
  {
   "cell_type": "code",
   "execution_count": null,
   "metadata": {},
   "outputs": [],
   "source": [
    "freq = 'h'\n",
    "h = 10\n",
    "series = generate_series(5, freq=freq)\n",
    "valid = series.groupby('unique_id', observed=True).tail(h)\n",
    "train = series.drop(valid.index)\n",
    "train, X_df = fourier(train, freq=freq, season_length=24, k=2, h=h)"
   ]
  },
  {
   "cell_type": "markdown",
   "metadata": {},
   "source": [
    "## Parameters"
   ]
  },
  {
   "cell_type": "code",
   "execution_count": null,
   "metadata": {},
   "outputs": [],
   "source": [
    "params = {\n",
    "    'init': {\n",
    "        'models': {\n",
    "            'lgb': lgb.LGBMRegressor(\n",
    "                n_estimators=50, num_leaves=16, verbosity=-1\n",
    "            ),\n",
    "            'lr': LinearRegression(),\n",
    "        },\n",
    "        'freq': freq,\n",
    "        'lags': [24],\n",
    "        'lag_transforms': {\n",
    "            1: [ExponentiallyWeightedMean(0.9)],\n",
    "        },\n",
    "        'num_threads': 2,\n",
    "    },\n",
    "    'fit': {\n",
    "        'static_features': ['unique_id'],\n",
    "        'prediction_intervals': PredictionIntervals(n_windows=2, h=h),\n",
    "    }\n",
    "}"
   ]
  },
  {
   "cell_type": "markdown",
   "metadata": {},
   "source": [
    "## Logging"
   ]
  },
  {
   "cell_type": "markdown",
   "metadata": {},
   "source": [
    "If you have a tracking server, you can run `mlflow.set_tracking_uri(your_server_uri)` to connect to it."
   ]
  },
  {
   "cell_type": "code",
   "execution_count": null,
   "metadata": {},
   "outputs": [
    {
     "name": "stderr",
     "output_type": "stream",
     "text": [
      "/Users/deven367/miniforge3/envs/nixtla/lib/python3.11/site-packages/mlflow/types/utils.py:452: UserWarning: Hint: Inferred schema contains integer column(s). Integer columns in Python cannot represent missing values. If your input data contains missing values at inference time, it will be encoded as floats and will cause a schema enforcement error. The best way to avoid this problem is to infer the model schema based on a realistic data sample (training dataset) that includes missing values. Alternatively, you can declare integer columns as doubles (float64) whenever these columns may have missing values. See `Handling Integers With Missing Values <https://www.mlflow.org/docs/latest/models.html#handling-integers-with-missing-values>`_ for more details.\n",
      "  warnings.warn(\n",
      "2025/07/18 16:52:58 WARNING mlflow.models.model: `artifact_path` is deprecated. Please use `name` instead.\n",
      "\u001b[31m2025/07/18 16:53:03 WARNING mlflow.models.model: Model logged without a signature and input example. Please set `input_example` parameter when logging the model to auto infer the model signature.\u001b[0m\n"
     ]
    }
   ],
   "source": [
    "mlflow.set_experiment(\"mlforecast\")\n",
    "with mlflow.start_run() as run:\n",
    "    train_ds = mlflow.data.from_pandas(train)\n",
    "    valid_ds = mlflow.data.from_pandas(valid)\n",
    "    mlflow.log_input(train_ds, context=\"training\")\n",
    "    mlflow.log_input(valid_ds, context=\"validation\")\n",
    "    logged_params = copy.deepcopy(params) \n",
    "    logged_params['init']['models'] = {\n",
    "        k: (v.__class__.__name__, v.get_params())\n",
    "        for k, v in params['init']['models'].items()\n",
    "    }\n",
    "    mlflow.log_params(logged_params)\n",
    "    mlf = MLForecast(**params['init'])\n",
    "    mlf.fit(train, **params['fit'])\n",
    "    preds = mlf.predict(h, X_df=X_df)\n",
    "    eval_result = evaluate(\n",
    "        valid.merge(preds, on=['unique_id', 'ds']),\n",
    "        metrics=[rmse, smape],\n",
    "        agg_fn='mean',\n",
    "    )\n",
    "    models = mlf.models_.keys()\n",
    "    logged_metrics = {}\n",
    "    for _, row in eval_result.iterrows():\n",
    "        metric = row['metric']\n",
    "        for model in models:\n",
    "            logged_metrics[f'{metric}_{model}'] = row[model]\n",
    "    mlflow.log_metrics(logged_metrics)\n",
    "    mlforecast.flavor.log_model(model=mlf, artifact_path=\"model\", registered_model_name=None)\n",
    "    model_uri = mlflow.get_artifact_uri(\"model\")\n",
    "    run_id = run.info.run_id"
   ]
  },
  {
   "cell_type": "markdown",
   "metadata": {},
   "source": [
    "## Load model"
   ]
  },
  {
   "cell_type": "code",
   "execution_count": null,
   "metadata": {},
   "outputs": [],
   "source": [
    "# Load model using the model URI from the registry\n",
    "fallback_uri = f\"runs:/{run_id}/model\"\n",
    "try:\n",
    "    loaded_model = mlforecast.flavor.load_model(model_uri=model_uri)\n",
    "    print(\"Model loaded successfully from registry!\")\n",
    "except Exception as e:\n",
    "    print(f\"Failed to load from registry URI: {e}\")\n",
    "    # Fallback: try loading from run artifacts\n",
    "    print(f\"Trying fallback URI: {fallback_uri}\")\n",
    "    loaded_model = mlforecast.flavor.load_model(model_uri=fallback_uri)\n",
    "    print(\"Model loaded successfully from run artifacts!\")\n",
    "\n",
    "results = loaded_model.predict(h=h, X_df=X_df, ids=[3])\n",
    "results.head(2)"
   ]
  },
  {
   "cell_type": "markdown",
   "metadata": {},
   "source": [
    "## PyFunc"
   ]
  },
  {
   "cell_type": "code",
   "execution_count": null,
   "metadata": {},
   "outputs": [],
   "source": [
    "fallback_uri = f\"runs:/{run_id}/model\"\n",
    "try: \n",
    "    loaded_pyfunc = mlforecast.flavor.pyfunc.load_model(model_uri=model_uri)\n",
    "except Exception as e:\n",
    "    print(f\"Failed to load from registry URI: {e}\")\n",
    "    loaded_pyfunc = mlforecast.flavor.pyfunc.load_model(model_uri=fallback_uri)\n",
    "# single row dataframe\n",
    "predict_conf = pd.DataFrame(\n",
    "    [\n",
    "        {\n",
    "            \"h\": h,\n",
    "            \"ids\": [0, 2],\n",
    "            \"X_df\": X_df,\n",
    "            \"level\": [80]\n",
    "        }\n",
    "    ]\n",
    ")\n",
    "pyfunc_result = loaded_pyfunc.predict(predict_conf)\n",
    "pyfunc_result.head(2)"
   ]
  },
  {
   "cell_type": "markdown",
   "metadata": {},
   "source": [
    "## Model serving"
   ]
  },
  {
   "cell_type": "code",
   "execution_count": null,
   "metadata": {},
   "outputs": [],
   "source": [
    "host = 'localhost'\n",
    "port = '5001'\n",
    "\n",
    "fallback_uri = f\"runs:/{run_id}/model\"\n",
    "cmd = f'mlflow models serve -m {fallback_uri} -h {host} -p {port} --env-manager local'\n",
    "print(f\"Serving model from runs: {fallback_uri}\")\n",
    "\n",
    "# initialize server\n",
    "process = subprocess.Popen(cmd.split())\n",
    "time.sleep(5)\n",
    "\n",
    "# single row dataframe. must be JSON serializable\n",
    "predict_conf = pd.DataFrame(\n",
    "    [\n",
    "        {\n",
    "            \"h\": h,\n",
    "            \"ids\": [3, 4],\n",
    "            \"X_df\": X_df.astype({'ds': 'str'}).to_dict(orient='list'),\n",
    "            \"level\": [95]\n",
    "        }\n",
    "    ]\n",
    ")\n",
    "payload = {'dataframe_split': predict_conf.to_dict(orient='split', index=False)}\n",
    "\n",
    "try:\n",
    "    resp = requests.post(f'http://{host}:{port}/invocations', json=payload)\n",
    "    print(pd.DataFrame(resp.json()['predictions']).head(2))\n",
    "except Exception as e:\n",
    "    print(f\"Error making prediction request: {e}\")\n",
    "    print(f\"Response status: {resp.status_code if 'resp' in locals() else 'No response'}\")\n",
    "finally:\n",
    "    process.terminate()\n",
    "    process.wait(timeout=10)"
   ]
  },
  {
   "cell_type": "code",
   "execution_count": null,
   "metadata": {},
   "outputs": [],
   "source": []
  }
 ],
 "metadata": {
  "kernelspec": {
   "display_name": "python3",
   "language": "python",
   "name": "python3"
  }
 },
 "nbformat": 4,
 "nbformat_minor": 2
}
