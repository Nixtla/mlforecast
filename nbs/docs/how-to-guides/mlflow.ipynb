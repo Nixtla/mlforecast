{
 "cells": [
  {
   "cell_type": "code",
   "execution_count": null,
   "metadata": {},
   "outputs": [],
   "source": [
    "#| hide\n",
    "%load_ext autoreload\n",
    "%autoreload 2"
   ]
  },
  {
   "cell_type": "markdown",
   "metadata": {},
   "source": [
    "# MLflow\n",
    "> Log your metrics and models"
   ]
  },
  {
   "cell_type": "markdown",
   "metadata": {},
   "source": [
    "## Libraries"
   ]
  },
  {
   "cell_type": "code",
   "execution_count": null,
   "metadata": {},
   "outputs": [],
   "source": [
    "import copy\n",
    "import subprocess\n",
    "import time\n",
    "\n",
    "import lightgbm as lgb\n",
    "import mlflow\n",
    "import pandas as pd\n",
    "import requests\n",
    "from sklearn.linear_model import LinearRegression\n",
    "from utilsforecast.data import generate_series\n",
    "from utilsforecast.losses import rmse, smape\n",
    "from utilsforecast.evaluation import evaluate\n",
    "from utilsforecast.feature_engineering import fourier\n",
    "\n",
    "import mlforecast.flavor\n",
    "from mlforecast import MLForecast\n",
    "from mlforecast.lag_transforms import ExponentiallyWeightedMean\n",
    "from mlforecast.utils import PredictionIntervals"
   ]
  },
  {
   "cell_type": "markdown",
   "metadata": {},
   "source": [
    "## Data setup"
   ]
  },
  {
   "cell_type": "code",
   "execution_count": null,
   "metadata": {},
   "outputs": [],
   "source": [
    "freq = 'h'\n",
    "h = 10\n",
    "series = generate_series(5, freq=freq)\n",
    "valid = series.groupby('unique_id', observed=True).tail(h)\n",
    "train = series.drop(valid.index)\n",
    "train, X_df = fourier(train, freq=freq, season_length=24, k=2, h=h)"
   ]
  },
  {
   "cell_type": "markdown",
   "metadata": {},
   "source": [
    "## Parameters"
   ]
  },
  {
   "cell_type": "code",
   "execution_count": null,
   "metadata": {},
   "outputs": [],
   "source": [
    "params = {\n",
    "    'init': {\n",
    "        'models': {\n",
    "            'lgb': lgb.LGBMRegressor(\n",
    "                n_estimators=50, num_leaves=16, verbosity=-1\n",
    "            ),\n",
    "            'lr': LinearRegression(),\n",
    "        },\n",
    "        'freq': freq,\n",
    "        'lags': [24],\n",
    "        'lag_transforms': {\n",
    "            1: [ExponentiallyWeightedMean(0.9)],\n",
    "        },\n",
    "        'num_threads': 2,\n",
    "    },\n",
    "    'fit': {\n",
    "        'static_features': ['unique_id'],\n",
    "        'prediction_intervals': PredictionIntervals(n_windows=2, h=h),\n",
    "    }\n",
    "}"
   ]
  },
  {
   "cell_type": "markdown",
   "metadata": {},
   "source": [
    "## Logging"
   ]
  },
  {
   "cell_type": "markdown",
   "metadata": {},
   "source": [
    "If you have a tracking server, you can run `mlflow.set_tracking_uri(your_server_uri)` to connect to it."
   ]
  },
  {
   "cell_type": "code",
   "execution_count": null,
   "metadata": {},
   "outputs": [],
   "source": [
    "mlflow.set_experiment(\"mlforecast\")\n",
    "with mlflow.start_run() as run:\n",
    "    train_ds = mlflow.data.from_pandas(train)\n",
    "    valid_ds = mlflow.data.from_pandas(valid)\n",
    "    mlflow.log_input(train_ds, context=\"training\")\n",
    "    mlflow.log_input(valid_ds, context=\"validation\")\n",
    "    logged_params = copy.deepcopy(params)\n",
    "    logged_params['init']['models'] = {\n",
    "        k: (v.__class__.__name__, v.get_params())\n",
    "        for k, v in params['init']['models'].items()\n",
    "    }\n",
    "    mlflow.log_params(logged_params)\n",
    "    mlf = MLForecast(**params['init'])\n",
    "    mlf.fit(train, **params['fit'])\n",
    "    preds = mlf.predict(h, X_df=X_df)\n",
    "    eval_result = evaluate(\n",
    "        valid.merge(preds, on=['unique_id', 'ds']),\n",
    "        metrics=[rmse, smape],\n",
    "        agg_fn='mean',\n",
    "    )\n",
    "    models = mlf.models_.keys()\n",
    "    logged_metrics = {}\n",
    "    for _, row in eval_result.iterrows():\n",
    "        metric = row['metric']\n",
    "        for model in models:\n",
    "            logged_metrics[f'{metric}_{model}'] = row[model]\n",
    "    mlflow.log_metrics(logged_metrics)\n",
    "    mlforecast.flavor.log_model(model=mlf, artifact_path=\"model\", registered_model_name=None)\n",
    "    model_uri = mlflow.get_artifact_uri(\"model\")\n",
    "    run_id = run.info.run_id"
   ]
  },
  {
   "cell_type": "markdown",
   "metadata": {},
   "source": [
    "## Load model"
   ]
  },
  {
   "cell_type": "code",
   "execution_count": null,
   "metadata": {},
   "outputs": [
    {
     "name": "stdout",
     "output_type": "stream",
     "text": [
      "Failed to load from registry URI: No such file or directory: '/Users/deven367/projects/public/mlforecast/nbs/docs/how-to-guides/mlruns/135880152043890861/6ddb20bc3ccf4c048ede20b2c331f9c0/artifacts/model'\n",
      "Trying fallback URI: runs:/6ddb20bc3ccf4c048ede20b2c331f9c0/model\n"
     ]
    },
    {
     "data": {
      "application/vnd.jupyter.widget-view+json": {
       "model_id": "21098a1fee2e47a08ea1c6bb58a916e8",
       "version_major": 2,
       "version_minor": 0
      },
      "text/plain": [
       "Downloading artifacts:   0%|          | 0/1 [00:00<?, ?it/s]"
      ]
     },
     "metadata": {},
     "output_type": "display_data"
    },
    {
     "data": {
      "application/vnd.jupyter.widget-view+json": {
       "model_id": "0cb83e7f8b6a4678b088d333545f799f",
       "version_major": 2,
       "version_minor": 0
      },
      "text/plain": [
       "Downloading artifacts:   0%|          | 0/7 [00:00<?, ?it/s]"
      ]
     },
     "metadata": {},
     "output_type": "display_data"
    },
    {
     "name": "stdout",
     "output_type": "stream",
     "text": [
      "Model loaded successfully from run artifacts!\n"
     ]
    },
    {
     "data": {
      "text/html": [
       "<div>\n",
       "<style scoped>\n",
       "    .dataframe tbody tr th:only-of-type {\n",
       "        vertical-align: middle;\n",
       "    }\n",
       "\n",
       "    .dataframe tbody tr th {\n",
       "        vertical-align: top;\n",
       "    }\n",
       "\n",
       "    .dataframe thead th {\n",
       "        text-align: right;\n",
       "    }\n",
       "</style>\n",
       "<table border=\"1\" class=\"dataframe\">\n",
       "  <thead>\n",
       "    <tr style=\"text-align: right;\">\n",
       "      <th></th>\n",
       "      <th>unique_id</th>\n",
       "      <th>ds</th>\n",
       "      <th>lgb</th>\n",
       "      <th>lr</th>\n",
       "    </tr>\n",
       "  </thead>\n",
       "  <tbody>\n",
       "    <tr>\n",
       "      <th>0</th>\n",
       "      <td>3</td>\n",
       "      <td>2000-01-10 16:00:00</td>\n",
       "      <td>22.187576</td>\n",
       "      <td>22.168456</td>\n",
       "    </tr>\n",
       "    <tr>\n",
       "      <th>1</th>\n",
       "      <td>3</td>\n",
       "      <td>2000-01-10 17:00:00</td>\n",
       "      <td>23.204075</td>\n",
       "      <td>23.413620</td>\n",
       "    </tr>\n",
       "  </tbody>\n",
       "</table>\n",
       "</div>"
      ],
      "text/plain": [
       "  unique_id                  ds        lgb         lr\n",
       "0         3 2000-01-10 16:00:00  22.187576  22.168456\n",
       "1         3 2000-01-10 17:00:00  23.204075  23.413620"
      ]
     },
     "execution_count": null,
     "metadata": {},
     "output_type": "execute_result"
    }
   ],
   "source": [
    "# Load model using the model URI from the registry\n",
    "fallback_uri = f\"runs:/{run_id}/model\"\n",
    "try:\n",
    "    loaded_model = mlforecast.flavor.load_model(model_uri=model_uri)\n",
    "    print(\"Model loaded successfully from registry!\")\n",
    "except Exception as e:\n",
    "    print(f\"Failed to load from registry URI: {e}\")\n",
    "    # Fallback: try loading from run artifacts\n",
    "    print(f\"Trying fallback URI: {fallback_uri}\")\n",
    "    loaded_model = mlforecast.flavor.load_model(model_uri=fallback_uri)\n",
    "    print(\"Model loaded successfully from run artifacts!\")\n",
    "\n",
    "results = loaded_model.predict(h=h, X_df=X_df, ids=[3])\n",
    "results.head(2)"
   ]
  },
  {
   "cell_type": "markdown",
   "metadata": {},
   "source": [
    "## PyFunc"
   ]
  },
  {
   "cell_type": "code",
   "execution_count": null,
   "metadata": {},
   "outputs": [
    {
     "name": "stdout",
     "output_type": "stream",
     "text": [
      "Failed to load from registry URI: No such file or directory: '/Users/deven367/projects/public/mlforecast/nbs/docs/how-to-guides/mlruns/135880152043890861/6ddb20bc3ccf4c048ede20b2c331f9c0/artifacts/model'\n"
     ]
    },
    {
     "data": {
      "application/vnd.jupyter.widget-view+json": {
       "model_id": "bbab23d0c0c6489db336be55b250fb5c",
       "version_major": 2,
       "version_minor": 0
      },
      "text/plain": [
       "Downloading artifacts:   0%|          | 0/1 [00:00<?, ?it/s]"
      ]
     },
     "metadata": {},
     "output_type": "display_data"
    },
    {
     "data": {
      "application/vnd.jupyter.widget-view+json": {
       "model_id": "3cd8dd988d404c98ac6dc4ea42d99bcf",
       "version_major": 2,
       "version_minor": 0
      },
      "text/plain": [
       "Downloading artifacts:   0%|          | 0/7 [00:00<?, ?it/s]"
      ]
     },
     "metadata": {},
     "output_type": "display_data"
    },
    {
     "data": {
      "text/html": [
       "<div>\n",
       "<style scoped>\n",
       "    .dataframe tbody tr th:only-of-type {\n",
       "        vertical-align: middle;\n",
       "    }\n",
       "\n",
       "    .dataframe tbody tr th {\n",
       "        vertical-align: top;\n",
       "    }\n",
       "\n",
       "    .dataframe thead th {\n",
       "        text-align: right;\n",
       "    }\n",
       "</style>\n",
       "<table border=\"1\" class=\"dataframe\">\n",
       "  <thead>\n",
       "    <tr style=\"text-align: right;\">\n",
       "      <th></th>\n",
       "      <th>unique_id</th>\n",
       "      <th>ds</th>\n",
       "      <th>lgb</th>\n",
       "      <th>lr</th>\n",
       "      <th>lgb-lo-80</th>\n",
       "      <th>lgb-hi-80</th>\n",
       "      <th>lr-lo-80</th>\n",
       "      <th>lr-hi-80</th>\n",
       "    </tr>\n",
       "  </thead>\n",
       "  <tbody>\n",
       "    <tr>\n",
       "      <th>0</th>\n",
       "      <td>0</td>\n",
       "      <td>2000-01-09 20:00:00</td>\n",
       "      <td>20.214914</td>\n",
       "      <td>20.095987</td>\n",
       "      <td>20.074128</td>\n",
       "      <td>20.355699</td>\n",
       "      <td>19.951723</td>\n",
       "      <td>20.240250</td>\n",
       "    </tr>\n",
       "    <tr>\n",
       "      <th>1</th>\n",
       "      <td>0</td>\n",
       "      <td>2000-01-09 21:00:00</td>\n",
       "      <td>21.180581</td>\n",
       "      <td>21.099920</td>\n",
       "      <td>20.943417</td>\n",
       "      <td>21.417746</td>\n",
       "      <td>20.755529</td>\n",
       "      <td>21.444311</td>\n",
       "    </tr>\n",
       "  </tbody>\n",
       "</table>\n",
       "</div>"
      ],
      "text/plain": [
       "  unique_id                  ds        lgb         lr  lgb-lo-80  lgb-hi-80  \\\n",
       "0         0 2000-01-09 20:00:00  20.214914  20.095987  20.074128  20.355699   \n",
       "1         0 2000-01-09 21:00:00  21.180581  21.099920  20.943417  21.417746   \n",
       "\n",
       "    lr-lo-80   lr-hi-80  \n",
       "0  19.951723  20.240250  \n",
       "1  20.755529  21.444311  "
      ]
     },
     "execution_count": null,
     "metadata": {},
     "output_type": "execute_result"
    }
   ],
   "source": [
    "fallback_uri = f\"runs:/{run_id}/model\"\n",
    "try:\n",
    "    loaded_pyfunc = mlforecast.flavor.pyfunc.load_model(model_uri=model_uri)\n",
    "except Exception as e:\n",
    "    print(f\"Failed to load from registry URI: {e}\")\n",
    "    loaded_pyfunc = mlforecast.flavor.pyfunc.load_model(model_uri=fallback_uri)\n",
    "# single row dataframe\n",
    "predict_conf = pd.DataFrame(\n",
    "    [\n",
    "        {\n",
    "            \"h\": h,\n",
    "            \"ids\": [0, 2],\n",
    "            \"X_df\": X_df,\n",
    "            \"level\": [80]\n",
    "        }\n",
    "    ]\n",
    ")\n",
    "pyfunc_result = loaded_pyfunc.predict(predict_conf)\n",
    "pyfunc_result.head(2)"
   ]
  },
  {
   "cell_type": "markdown",
   "metadata": {},
   "source": [
    "## Model serving"
   ]
  },
  {
   "cell_type": "code",
   "execution_count": null,
   "metadata": {},
   "outputs": [
    {
     "name": "stdout",
     "output_type": "stream",
     "text": [
      "Serving model from runs: runs:/6ddb20bc3ccf4c048ede20b2c331f9c0/model\n"
     ]
    },
    {
     "name": "stderr",
     "output_type": "stream",
     "text": [
      "Downloading artifacts:   0%|          | 0/1 [00:00<?, ?it/s]\n",
      "Downloading artifacts: 100%|██████████| 7/7 [00:00<00:00, 5180.89it/s] \n",
      "2025/08/04 09:39:36 INFO mlflow.models.flavor_backend_registry: Selected backend for flavor 'python_function'\n",
      "Downloading artifacts:   0%|          | 0/1 [00:00<?, ?it/s]\n",
      "Downloading artifacts: 100%|██████████| 7/7 [00:00<00:00, 6882.36it/s] \n",
      "2025/08/04 09:39:36 INFO mlflow.pyfunc.backend: === Running command 'exec uvicorn --host localhost --port 5001 --workers 1 mlflow.pyfunc.scoring_server.app:app'\n",
      "INFO:     Started server process [10158]\n",
      "INFO:     Waiting for application startup.\n",
      "INFO:     Application startup complete.\n",
      "INFO:     Uvicorn running on http://localhost:5001 (Press CTRL+C to quit)\n"
     ]
    },
    {
     "name": "stdout",
     "output_type": "stream",
     "text": [
      "INFO:     ::1:52011 - \"POST /invocations HTTP/1.1\" 200 OK\n",
      "   unique_id                   ds        lgb         lr  lgb-lo-95  lgb-hi-95  \\\n",
      "0          3  2000-01-10T16:00:00  22.187576  22.168456  21.973679  22.401473   \n",
      "1          3  2000-01-10T17:00:00  23.204075  23.413620  23.012538  23.395612   \n",
      "\n",
      "    lr-lo-95   lr-hi-95  \n",
      "0  21.884265  22.452647  \n",
      "1  22.994313  23.832926  \n"
     ]
    },
    {
     "name": "stderr",
     "output_type": "stream",
     "text": [
      "/Users/deven367/miniforge3/envs/nixtla/lib/python3.11/multiprocessing/resource_tracker.py:254: UserWarning: resource_tracker: There appear to be 1 leaked semaphore objects to clean up at shutdown\n",
      "  warnings.warn('resource_tracker: There appear to be %d '\n"
     ]
    }
   ],
   "source": [
    "host = 'localhost'\n",
    "port = '5001'\n",
    "\n",
    "fallback_uri = f\"runs:/{run_id}/model\"\n",
    "cmd = f'mlflow models serve -m {fallback_uri} -h {host} -p {port} --env-manager local'\n",
    "print(f\"Serving model from runs: {fallback_uri}\")\n",
    "\n",
    "# initialize server\n",
    "process = subprocess.Popen(cmd.split())\n",
    "time.sleep(5)\n",
    "\n",
    "# single row dataframe. must be JSON serializable\n",
    "predict_conf = pd.DataFrame(\n",
    "    [\n",
    "        {\n",
    "            \"h\": h,\n",
    "            \"ids\": [3, 4],\n",
    "            \"X_df\": X_df.astype({'ds': 'str'}).to_dict(orient='list'),\n",
    "            \"level\": [95]\n",
    "        }\n",
    "    ]\n",
    ")\n",
    "payload = {'dataframe_split': predict_conf.to_dict(orient='split', index=False)}\n",
    "\n",
    "try:\n",
    "    resp = requests.post(f'http://{host}:{port}/invocations', json=payload)\n",
    "    print(pd.DataFrame(resp.json()['predictions']).head(2))\n",
    "except Exception as e:\n",
    "    print(f\"Error making prediction request: {e}\")\n",
    "    print(f\"Response status: {resp.status_code if 'resp' in locals() else 'No response'}\")\n",
    "finally:\n",
    "    process.terminate()\n",
    "    process.wait(timeout=10)"
   ]
  },
  {
   "cell_type": "code",
   "execution_count": null,
   "metadata": {},
   "outputs": [],
   "source": []
  }
 ],
 "metadata": {
  "kernelspec": {
   "display_name": "python3",
   "language": "python",
   "name": "python3"
  }
 },
 "nbformat": 4,
 "nbformat_minor": 2
}
