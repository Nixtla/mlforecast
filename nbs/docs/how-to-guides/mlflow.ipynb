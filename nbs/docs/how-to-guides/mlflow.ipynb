{
 "cells": [
  {
   "cell_type": "code",
   "execution_count": null,
   "metadata": {},
   "outputs": [],
   "source": [
    "#| hide\n",
    "%load_ext autoreload\n",
    "%autoreload 2"
   ]
  },
  {
   "cell_type": "markdown",
   "metadata": {},
   "source": [
    "# MLflow\n",
    "> Log your metrics and models"
   ]
  },
  {
   "cell_type": "markdown",
   "metadata": {},
   "source": [
    "## Libraries"
   ]
  },
  {
   "cell_type": "code",
   "execution_count": null,
   "metadata": {},
   "outputs": [],
   "source": [
    "import copy\n",
    "import subprocess\n",
    "import time\n",
    "\n",
    "import lightgbm as lgb\n",
    "import mlflow\n",
    "import pandas as pd\n",
    "import requests\n",
    "from sklearn.linear_model import LinearRegression\n",
    "from utilsforecast.data import generate_series\n",
    "from utilsforecast.losses import rmse, smape\n",
    "from utilsforecast.evaluation import evaluate\n",
    "from utilsforecast.feature_engineering import fourier\n",
    "\n",
    "import mlforecast.flavor\n",
    "from mlforecast import MLForecast\n",
    "from mlforecast.lag_transforms import ExponentiallyWeightedMean\n",
    "from mlforecast.utils import PredictionIntervals"
   ]
  },
  {
   "cell_type": "markdown",
   "metadata": {},
   "source": [
    "## Data setup"
   ]
  },
  {
   "cell_type": "code",
   "execution_count": null,
   "metadata": {},
   "outputs": [],
   "source": [
    "freq = 'h'\n",
    "h = 10\n",
    "series = generate_series(5, freq=freq)\n",
    "valid = series.groupby('unique_id', observed=True).tail(h)\n",
    "train = series.drop(valid.index)\n",
    "train, X_df = fourier(train, freq=freq, season_length=24, k=2, h=h)"
   ]
  },
  {
   "cell_type": "markdown",
   "metadata": {},
   "source": [
    "## Parameters"
   ]
  },
  {
   "cell_type": "code",
   "execution_count": null,
   "metadata": {},
   "outputs": [],
   "source": [
    "params = {\n",
    "    'init': {\n",
    "        'models': {\n",
    "            'lgb': lgb.LGBMRegressor(\n",
    "                n_estimators=50, num_leaves=16, verbosity=-1\n",
    "            ),\n",
    "            'lr': LinearRegression(),\n",
    "        },\n",
    "        'freq': freq,\n",
    "        'lags': [24],\n",
    "        'lag_transforms': {\n",
    "            1: [ExponentiallyWeightedMean(0.9)],\n",
    "        },\n",
    "        'num_threads': 2,\n",
    "    },\n",
    "    'fit': {\n",
    "        'static_features': ['unique_id'],\n",
    "        'prediction_intervals': PredictionIntervals(n_windows=2, h=h),\n",
    "    }\n",
    "}"
   ]
  },
  {
   "cell_type": "markdown",
   "metadata": {},
   "source": [
    "## Logging"
   ]
  },
  {
   "cell_type": "markdown",
   "metadata": {},
   "source": [
    "If you have a tracking server, you can run `mlflow.set_tracking_uri(your_server_uri)` to connect to it."
   ]
  },
  {
   "cell_type": "code",
   "execution_count": null,
   "metadata": {},
   "outputs": [
    {
     "name": "stderr",
     "output_type": "stream",
     "text": [
      "/home/ubuntu/repos/mlforecast/.venv/lib/python3.10/site-packages/mlflow/types/utils.py:406: UserWarning: Hint: Inferred schema contains integer column(s). Integer columns in Python cannot represent missing values. If your input data contains missing values at inference time, it will be encoded as floats and will cause a schema enforcement error. The best way to avoid this problem is to infer the model schema based on a realistic data sample (training dataset) that includes missing values. Alternatively, you can declare integer columns as doubles (float64) whenever these columns may have missing values. See `Handling Integers With Missing Values <https://www.mlflow.org/docs/latest/models.html#handling-integers-with-missing-values>`_ for more details.\n",
      "  warnings.warn(\n",
      "2024/08/23 02:57:14 WARNING mlflow.models.model: Input example should be provided to infer model signature if the model signature is not provided when logging the model.\n"
     ]
    }
   ],
   "source": [
    "mlflow.set_experiment(\"mlforecast\")\n",
    "with mlflow.start_run() as run:\n",
    "    train_ds = mlflow.data.from_pandas(train)\n",
    "    valid_ds = mlflow.data.from_pandas(valid)\n",
    "    mlflow.log_input(train_ds, context=\"training\")\n",
    "    mlflow.log_input(valid_ds, context=\"validation\")\n",
    "    logged_params = copy.deepcopy(params) \n",
    "    logged_params['init']['models'] = {\n",
    "        k: (v.__class__.__name__, v.get_params())\n",
    "        for k, v in params['init']['models'].items()\n",
    "    }\n",
    "    mlflow.log_params(logged_params)\n",
    "    mlf = MLForecast(**params['init'])\n",
    "    mlf.fit(train, **params['fit'])\n",
    "    preds = mlf.predict(h, X_df=X_df)\n",
    "    eval_result = evaluate(\n",
    "        valid.merge(preds, on=['unique_id', 'ds']),\n",
    "        metrics=[rmse, smape],\n",
    "        agg_fn='mean',\n",
    "    )\n",
    "    models = mlf.models_.keys()\n",
    "    logged_metrics = {}\n",
    "    for _, row in eval_result.iterrows():\n",
    "        metric = row['metric']\n",
    "        for model in models:\n",
    "            logged_metrics[f'{metric}_{model}'] = row[model]\n",
    "    mlflow.log_metrics(logged_metrics)\n",
    "    mlforecast.flavor.log_model(model=mlf, artifact_path=\"model\")\n",
    "    model_uri = mlflow.get_artifact_uri(\"model\")\n",
    "    run_id = run.info.run_id"
   ]
  },
  {
   "cell_type": "markdown",
   "metadata": {},
   "source": [
    "## Load model"
   ]
  },
  {
   "cell_type": "code",
   "execution_count": null,
   "metadata": {},
   "outputs": [
    {
     "data": {
      "text/html": [
       "<div>\n",
       "<style scoped>\n",
       "    .dataframe tbody tr th:only-of-type {\n",
       "        vertical-align: middle;\n",
       "    }\n",
       "\n",
       "    .dataframe tbody tr th {\n",
       "        vertical-align: top;\n",
       "    }\n",
       "\n",
       "    .dataframe thead th {\n",
       "        text-align: right;\n",
       "    }\n",
       "</style>\n",
       "<table border=\"1\" class=\"dataframe\">\n",
       "  <thead>\n",
       "    <tr style=\"text-align: right;\">\n",
       "      <th></th>\n",
       "      <th>unique_id</th>\n",
       "      <th>ds</th>\n",
       "      <th>lgb</th>\n",
       "      <th>lr</th>\n",
       "    </tr>\n",
       "  </thead>\n",
       "  <tbody>\n",
       "    <tr>\n",
       "      <th>0</th>\n",
       "      <td>3</td>\n",
       "      <td>2000-01-10 16:00:00</td>\n",
       "      <td>0.333308</td>\n",
       "      <td>0.243017</td>\n",
       "    </tr>\n",
       "    <tr>\n",
       "      <th>1</th>\n",
       "      <td>3</td>\n",
       "      <td>2000-01-10 17:00:00</td>\n",
       "      <td>0.127424</td>\n",
       "      <td>0.249742</td>\n",
       "    </tr>\n",
       "  </tbody>\n",
       "</table>\n",
       "</div>"
      ],
      "text/plain": [
       "  unique_id                  ds       lgb        lr\n",
       "0         3 2000-01-10 16:00:00  0.333308  0.243017\n",
       "1         3 2000-01-10 17:00:00  0.127424  0.249742"
      ]
     },
     "execution_count": null,
     "metadata": {},
     "output_type": "execute_result"
    }
   ],
   "source": [
    "loaded_model = mlforecast.flavor.load_model(model_uri=model_uri)\n",
    "results = loaded_model.predict(h=h, X_df=X_df, ids=[3])\n",
    "results.head(2)"
   ]
  },
  {
   "cell_type": "markdown",
   "metadata": {},
   "source": [
    "## PyFunc"
   ]
  },
  {
   "cell_type": "code",
   "execution_count": null,
   "metadata": {},
   "outputs": [
    {
     "data": {
      "text/html": [
       "<div>\n",
       "<style scoped>\n",
       "    .dataframe tbody tr th:only-of-type {\n",
       "        vertical-align: middle;\n",
       "    }\n",
       "\n",
       "    .dataframe tbody tr th {\n",
       "        vertical-align: top;\n",
       "    }\n",
       "\n",
       "    .dataframe thead th {\n",
       "        text-align: right;\n",
       "    }\n",
       "</style>\n",
       "<table border=\"1\" class=\"dataframe\">\n",
       "  <thead>\n",
       "    <tr style=\"text-align: right;\">\n",
       "      <th></th>\n",
       "      <th>unique_id</th>\n",
       "      <th>ds</th>\n",
       "      <th>lgb</th>\n",
       "      <th>lr</th>\n",
       "      <th>lgb-lo-80</th>\n",
       "      <th>lgb-hi-80</th>\n",
       "      <th>lr-lo-80</th>\n",
       "      <th>lr-hi-80</th>\n",
       "    </tr>\n",
       "  </thead>\n",
       "  <tbody>\n",
       "    <tr>\n",
       "      <th>0</th>\n",
       "      <td>0</td>\n",
       "      <td>2000-01-09 20:00:00</td>\n",
       "      <td>0.260544</td>\n",
       "      <td>0.244128</td>\n",
       "      <td>0.140168</td>\n",
       "      <td>0.380921</td>\n",
       "      <td>0.114001</td>\n",
       "      <td>0.374254</td>\n",
       "    </tr>\n",
       "    <tr>\n",
       "      <th>1</th>\n",
       "      <td>0</td>\n",
       "      <td>2000-01-09 21:00:00</td>\n",
       "      <td>0.250096</td>\n",
       "      <td>0.247742</td>\n",
       "      <td>0.072820</td>\n",
       "      <td>0.427372</td>\n",
       "      <td>0.047584</td>\n",
       "      <td>0.447900</td>\n",
       "    </tr>\n",
       "  </tbody>\n",
       "</table>\n",
       "</div>"
      ],
      "text/plain": [
       "  unique_id                  ds       lgb        lr  lgb-lo-80  lgb-hi-80  \\\n",
       "0         0 2000-01-09 20:00:00  0.260544  0.244128   0.140168   0.380921   \n",
       "1         0 2000-01-09 21:00:00  0.250096  0.247742   0.072820   0.427372   \n",
       "\n",
       "   lr-lo-80  lr-hi-80  \n",
       "0  0.114001  0.374254  \n",
       "1  0.047584  0.447900  "
      ]
     },
     "execution_count": null,
     "metadata": {},
     "output_type": "execute_result"
    }
   ],
   "source": [
    "loaded_pyfunc = mlforecast.flavor.pyfunc.load_model(model_uri=model_uri)\n",
    "# single row dataframe\n",
    "predict_conf = pd.DataFrame(\n",
    "    [\n",
    "        {\n",
    "            \"h\": h,\n",
    "            \"ids\": [0, 2],\n",
    "            \"X_df\": X_df,\n",
    "            \"level\": [80]\n",
    "        }\n",
    "    ]\n",
    ")\n",
    "pyfunc_result = loaded_pyfunc.predict(predict_conf)\n",
    "pyfunc_result.head(2)"
   ]
  },
  {
   "cell_type": "markdown",
   "metadata": {},
   "source": [
    "## Model serving"
   ]
  },
  {
   "cell_type": "code",
   "execution_count": null,
   "metadata": {},
   "outputs": [
    {
     "name": "stderr",
     "output_type": "stream",
     "text": [
      "Downloading artifacts: 100%|██████████| 7/7 [00:00<00:00, 18430.71it/s]\n",
      "2024/08/23 02:57:16 INFO mlflow.models.flavor_backend_registry: Selected backend for flavor 'python_function'\n",
      "2024/08/23 02:57:16 INFO mlflow.pyfunc.backend: === Running command 'exec gunicorn --timeout=60 -b localhost:5000 -w 1 ${GUNICORN_CMD_ARGS} -- mlflow.pyfunc.scoring_server.wsgi:app'\n",
      "[2024-08-23 02:57:16 +0000] [23054] [INFO] Starting gunicorn 22.0.0\n",
      "[2024-08-23 02:57:16 +0000] [23054] [INFO] Listening at: http://127.0.0.1:5000 (23054)\n",
      "[2024-08-23 02:57:16 +0000] [23054] [INFO] Using worker: sync\n",
      "[2024-08-23 02:57:16 +0000] [23055] [INFO] Booting worker with pid: 23055\n"
     ]
    },
    {
     "name": "stdout",
     "output_type": "stream",
     "text": [
      "   unique_id                   ds       lgb        lr  lgb-lo-95  lgb-hi-95  \\\n",
      "0          3  2000-01-10T16:00:00  0.333308  0.243017   0.174073   0.492544   \n",
      "1          3  2000-01-10T17:00:00  0.127424  0.249742  -0.009993   0.264842   \n",
      "\n",
      "   lr-lo-95  lr-hi-95  \n",
      "0  0.032451  0.453583  \n",
      "1  0.045525  0.453959  \n"
     ]
    },
    {
     "name": "stderr",
     "output_type": "stream",
     "text": [
      "[2024-08-23 02:57:20 +0000] [23054] [INFO] Handling signal: term\n",
      "[2024-08-23 02:57:20 +0000] [23055] [INFO] Worker exiting (pid: 23055)\n"
     ]
    },
    {
     "name": "stderr",
     "output_type": "stream",
     "text": [
      "[2024-08-23 02:57:21 +0000] [23054] [INFO] Shutting down: Master\n"
     ]
    }
   ],
   "source": [
    "host = 'localhost'\n",
    "port = '5000'\n",
    "cmd = f'mlflow models serve -m runs:/{run_id}/model -h {host} -p {port} --env-manager local'\n",
    "# initialize server\n",
    "process = subprocess.Popen(cmd.split())\n",
    "time.sleep(5)\n",
    "# single row dataframe. must be JSON serializable\n",
    "predict_conf = pd.DataFrame(\n",
    "    [\n",
    "        {\n",
    "            \"h\": h,\n",
    "            \"ids\": [3, 4],\n",
    "            \"X_df\": X_df.astype({'ds': 'str'}).to_dict(orient='list'),\n",
    "            \"level\": [95]\n",
    "        }\n",
    "    ]\n",
    ")\n",
    "payload = {'dataframe_split': predict_conf.to_dict(orient='split', index=False)}\n",
    "resp = requests.post(f'http://{host}:{port}/invocations', json=payload)\n",
    "print(pd.DataFrame(resp.json()['predictions']).head(2))\n",
    "process.terminate()\n",
    "process.wait(timeout=10)"
   ]
  }
 ],
 "metadata": {
  "kernelspec": {
   "display_name": "python3",
   "language": "python",
   "name": "python3"
  }
 },
 "nbformat": 4,
 "nbformat_minor": 2
}
