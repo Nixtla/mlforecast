{
 "cells": [
  {
   "cell_type": "code",
   "execution_count": null,
   "id": "36511bd5-1402-4ee7-b28f-36a0022a018b",
   "metadata": {},
   "outputs": [],
   "source": [
    "#| hide\n",
    "%load_ext autoreload\n",
    "%autoreload 2"
   ]
  },
  {
   "cell_type": "markdown",
   "id": "f448deb8-57d3-4ecc-8b71-74968b3b5ae8",
   "metadata": {},
   "source": [
    "# Custom training\n",
    "> Customize the training procedure for your models"
   ]
  },
  {
   "attachments": {},
   "cell_type": "markdown",
   "id": "09e62587-193a-4df4-be3a-7e552ac3f805",
   "metadata": {},
   "source": [
    "mlforecast abstracts away most of the training details, which is useful for iterating quickly. However, sometimes you want more control over the fit parameters, the data that goes into the model, etc. This guide shows how you can train a model in a specific way and then giving it back to mlforecast to produce forecasts with it."
   ]
  },
  {
   "cell_type": "markdown",
   "id": "7170807e-ec08-46f5-be8a-1337aa7fa28b",
   "metadata": {},
   "source": [
    "## Data setup"
   ]
  },
  {
   "cell_type": "code",
   "execution_count": null,
   "id": "7db156b4-ac87-4c78-9197-beb427cedecb",
   "metadata": {},
   "outputs": [],
   "source": [
    "from mlforecast.utils import generate_daily_series"
   ]
  },
  {
   "cell_type": "code",
   "execution_count": null,
   "id": "23d5b34d-e873-4349-9c0a-5d2674229c00",
   "metadata": {},
   "outputs": [],
   "source": [
    "series = generate_daily_series(5)"
   ]
  },
  {
   "cell_type": "markdown",
   "id": "88860248-cc4d-4d74-aba5-400eca036111",
   "metadata": {},
   "source": [
    "## Creating forecast object"
   ]
  },
  {
   "cell_type": "code",
   "execution_count": null,
   "id": "9f8a9e22-1634-4545-975e-f90c95ea7c5f",
   "metadata": {},
   "outputs": [],
   "source": [
    "import lightgbm as lgb\n",
    "import numpy as np\n",
    "from sklearn.linear_model import LinearRegression\n",
    "\n",
    "from mlforecast import MLForecast"
   ]
  },
  {
   "cell_type": "markdown",
   "id": "bc23f054-2bd9-4194-9b1d-4b0e57e2923d",
   "metadata": {},
   "source": [
    "Suppose we want to train a linear regression with the default settings."
   ]
  },
  {
   "cell_type": "code",
   "execution_count": null,
   "id": "0967fcd1-faa2-436f-b7fd-5c5397e8bba2",
   "metadata": {},
   "outputs": [],
   "source": [
    "fcst = MLForecast(\n",
    "    models={'lr': LinearRegression()},\n",
    "    freq='D',\n",
    "    lags=[1],\n",
    "    date_features=['dayofweek'],\n",
    ")"
   ]
  },
  {
   "cell_type": "markdown",
   "id": "ab9bcca5-03a1-4452-baed-e0577a1df3a1",
   "metadata": {},
   "source": [
    "## Generate training set"
   ]
  },
  {
   "cell_type": "markdown",
   "id": "5d663091-d1db-4ff2-a0f0-749f71dcc5e5",
   "metadata": {},
   "source": [
    "Use `MLForecast.preprocess` to generate the training data."
   ]
  },
  {
   "cell_type": "code",
   "execution_count": null,
   "id": "5ffd0ca0-f6b7-487f-92cc-188a5f10c674",
   "metadata": {},
   "outputs": [
    {
     "data": {
      "text/html": [
       "<div>\n",
       "<style scoped>\n",
       "    .dataframe tbody tr th:only-of-type {\n",
       "        vertical-align: middle;\n",
       "    }\n",
       "\n",
       "    .dataframe tbody tr th {\n",
       "        vertical-align: top;\n",
       "    }\n",
       "\n",
       "    .dataframe thead th {\n",
       "        text-align: right;\n",
       "    }\n",
       "</style>\n",
       "<table border=\"1\" class=\"dataframe\">\n",
       "  <thead>\n",
       "    <tr style=\"text-align: right;\">\n",
       "      <th></th>\n",
       "      <th>unique_id</th>\n",
       "      <th>ds</th>\n",
       "      <th>y</th>\n",
       "      <th>lag1</th>\n",
       "      <th>dayofweek</th>\n",
       "    </tr>\n",
       "  </thead>\n",
       "  <tbody>\n",
       "    <tr>\n",
       "      <th>1</th>\n",
       "      <td>id_0</td>\n",
       "      <td>2000-01-02</td>\n",
       "      <td>1.423626</td>\n",
       "      <td>0.428973</td>\n",
       "      <td>6</td>\n",
       "    </tr>\n",
       "    <tr>\n",
       "      <th>2</th>\n",
       "      <td>id_0</td>\n",
       "      <td>2000-01-03</td>\n",
       "      <td>2.311782</td>\n",
       "      <td>1.423626</td>\n",
       "      <td>0</td>\n",
       "    </tr>\n",
       "    <tr>\n",
       "      <th>3</th>\n",
       "      <td>id_0</td>\n",
       "      <td>2000-01-04</td>\n",
       "      <td>3.192191</td>\n",
       "      <td>2.311782</td>\n",
       "      <td>1</td>\n",
       "    </tr>\n",
       "    <tr>\n",
       "      <th>4</th>\n",
       "      <td>id_0</td>\n",
       "      <td>2000-01-05</td>\n",
       "      <td>4.148767</td>\n",
       "      <td>3.192191</td>\n",
       "      <td>2</td>\n",
       "    </tr>\n",
       "    <tr>\n",
       "      <th>5</th>\n",
       "      <td>id_0</td>\n",
       "      <td>2000-01-06</td>\n",
       "      <td>5.028356</td>\n",
       "      <td>4.148767</td>\n",
       "      <td>3</td>\n",
       "    </tr>\n",
       "  </tbody>\n",
       "</table>\n",
       "</div>"
      ],
      "text/plain": [
       "  unique_id         ds         y      lag1  dayofweek\n",
       "1      id_0 2000-01-02  1.423626  0.428973          6\n",
       "2      id_0 2000-01-03  2.311782  1.423626          0\n",
       "3      id_0 2000-01-04  3.192191  2.311782          1\n",
       "4      id_0 2000-01-05  4.148767  3.192191          2\n",
       "5      id_0 2000-01-06  5.028356  4.148767          3"
      ]
     },
     "execution_count": null,
     "metadata": {},
     "output_type": "execute_result"
    }
   ],
   "source": [
    "prep = fcst.preprocess(series)\n",
    "prep.head()"
   ]
  },
  {
   "cell_type": "code",
   "execution_count": null,
   "id": "f5f82a08-743b-489d-8426-55747dce1ba1",
   "metadata": {},
   "outputs": [],
   "source": [
    "X = prep.drop(columns=['unique_id', 'ds', 'y'])\n",
    "y = prep['y']"
   ]
  },
  {
   "cell_type": "markdown",
   "id": "7408d5e2-7153-4451-9ea9-e765544e4a1b",
   "metadata": {},
   "source": [
    "## Regular training"
   ]
  },
  {
   "cell_type": "markdown",
   "id": "e56b7678-41e3-4501-a91a-2b07de6967dc",
   "metadata": {},
   "source": [
    "Since we don't want to do anything special in our training process for the linear regression, we can just call `MLForecast.fit_models`"
   ]
  },
  {
   "cell_type": "code",
   "execution_count": null,
   "id": "b94ad115-0606-40d7-87d5-762b1c716418",
   "metadata": {},
   "outputs": [
    {
     "data": {
      "text/plain": [
       "MLForecast(models=[lr], freq=D, lag_features=['lag1'], date_features=['dayofweek'], num_threads=1)"
      ]
     },
     "execution_count": null,
     "metadata": {},
     "output_type": "execute_result"
    }
   ],
   "source": [
    "fcst.fit_models(X, y)"
   ]
  },
  {
   "cell_type": "markdown",
   "id": "e3701c65-e28f-4ae9-8c72-1db64f411963",
   "metadata": {},
   "source": [
    "This has trained the linear regression model and is now available in the `MLForecast.models_` attribute."
   ]
  },
  {
   "cell_type": "code",
   "execution_count": null,
   "id": "bdd2aa2e-0c2e-4843-86c3-4588d69b28ce",
   "metadata": {},
   "outputs": [
    {
     "data": {
      "text/plain": [
       "{'lr': LinearRegression()}"
      ]
     },
     "execution_count": null,
     "metadata": {},
     "output_type": "execute_result"
    }
   ],
   "source": [
    "fcst.models_"
   ]
  },
  {
   "cell_type": "markdown",
   "id": "112bde47-6af9-4336-8529-a24435d35f2b",
   "metadata": {},
   "source": [
    "## Custom training"
   ]
  },
  {
   "cell_type": "markdown",
   "id": "8add7f5e-b4ec-4115-9cab-f2e96e0b138a",
   "metadata": {},
   "source": [
    "Now suppose you also want to train a LightGBM model on the same data, but treating the day of the week as a categorical feature and logging the train loss."
   ]
  },
  {
   "cell_type": "code",
   "execution_count": null,
   "id": "b4de2390-37da-46ce-9ba4-723db3b0e95e",
   "metadata": {},
   "outputs": [
    {
     "name": "stdout",
     "output_type": "stream",
     "text": [
      "[20]\ttraining's l2: 0.0823528\n",
      "[40]\ttraining's l2: 0.0230292\n",
      "[60]\ttraining's l2: 0.0207829\n",
      "[80]\ttraining's l2: 0.019675\n",
      "[100]\ttraining's l2: 0.018778\n"
     ]
    }
   ],
   "source": [
    "model = lgb.LGBMRegressor(n_estimators=100, verbosity=-1)\n",
    "model.fit(\n",
    "    X,\n",
    "    y,\n",
    "    eval_set=[(X, y)],\n",
    "    categorical_feature=['dayofweek'],\n",
    "    callbacks=[lgb.log_evaluation(20)],\n",
    ");"
   ]
  },
  {
   "cell_type": "markdown",
   "id": "23bab8e2-514f-4d42-ba76-e5792a80f3e9",
   "metadata": {},
   "source": [
    "## Computing forecasts"
   ]
  },
  {
   "cell_type": "markdown",
   "id": "9b82ab00-c292-434f-9ad8-0a0c0859a35a",
   "metadata": {},
   "source": [
    "Now we just assign this model to the `MLForecast.models_` dictionary. Note that you can assign as many models as you want."
   ]
  },
  {
   "cell_type": "code",
   "execution_count": null,
   "id": "8c908b51-fa59-406d-bb89-ea8f3ac7c9df",
   "metadata": {},
   "outputs": [
    {
     "data": {
      "text/plain": [
       "{'lr': LinearRegression(), 'lgbm': LGBMRegressor(verbosity=-1)}"
      ]
     },
     "execution_count": null,
     "metadata": {},
     "output_type": "execute_result"
    }
   ],
   "source": [
    "fcst.models_['lgbm'] = model\n",
    "fcst.models_"
   ]
  },
  {
   "cell_type": "markdown",
   "id": "8a4cea7b-9cc9-48e8-b7af-08407d4cb101",
   "metadata": {},
   "source": [
    "And now when calling `MLForecast.predict`, mlforecast will use those models to compute the forecasts."
   ]
  },
  {
   "cell_type": "code",
   "execution_count": null,
   "id": "83791662-2031-4dc2-85cd-88e554c6ee7a",
   "metadata": {},
   "outputs": [
    {
     "data": {
      "text/html": [
       "<div>\n",
       "<style scoped>\n",
       "    .dataframe tbody tr th:only-of-type {\n",
       "        vertical-align: middle;\n",
       "    }\n",
       "\n",
       "    .dataframe tbody tr th {\n",
       "        vertical-align: top;\n",
       "    }\n",
       "\n",
       "    .dataframe thead th {\n",
       "        text-align: right;\n",
       "    }\n",
       "</style>\n",
       "<table border=\"1\" class=\"dataframe\">\n",
       "  <thead>\n",
       "    <tr style=\"text-align: right;\">\n",
       "      <th></th>\n",
       "      <th>unique_id</th>\n",
       "      <th>ds</th>\n",
       "      <th>lr</th>\n",
       "      <th>lgbm</th>\n",
       "    </tr>\n",
       "  </thead>\n",
       "  <tbody>\n",
       "    <tr>\n",
       "      <th>0</th>\n",
       "      <td>id_0</td>\n",
       "      <td>2000-08-10</td>\n",
       "      <td>3.549124</td>\n",
       "      <td>5.166797</td>\n",
       "    </tr>\n",
       "    <tr>\n",
       "      <th>1</th>\n",
       "      <td>id_1</td>\n",
       "      <td>2000-04-07</td>\n",
       "      <td>3.154285</td>\n",
       "      <td>4.252490</td>\n",
       "    </tr>\n",
       "    <tr>\n",
       "      <th>2</th>\n",
       "      <td>id_2</td>\n",
       "      <td>2000-06-16</td>\n",
       "      <td>2.880933</td>\n",
       "      <td>3.224506</td>\n",
       "    </tr>\n",
       "    <tr>\n",
       "      <th>3</th>\n",
       "      <td>id_3</td>\n",
       "      <td>2000-08-30</td>\n",
       "      <td>4.061801</td>\n",
       "      <td>0.245443</td>\n",
       "    </tr>\n",
       "    <tr>\n",
       "      <th>4</th>\n",
       "      <td>id_4</td>\n",
       "      <td>2001-01-08</td>\n",
       "      <td>2.904872</td>\n",
       "      <td>2.225106</td>\n",
       "    </tr>\n",
       "  </tbody>\n",
       "</table>\n",
       "</div>"
      ],
      "text/plain": [
       "  unique_id         ds        lr      lgbm\n",
       "0      id_0 2000-08-10  3.549124  5.166797\n",
       "1      id_1 2000-04-07  3.154285  4.252490\n",
       "2      id_2 2000-06-16  2.880933  3.224506\n",
       "3      id_3 2000-08-30  4.061801  0.245443\n",
       "4      id_4 2001-01-08  2.904872  2.225106"
      ]
     },
     "execution_count": null,
     "metadata": {},
     "output_type": "execute_result"
    }
   ],
   "source": [
    "fcst.predict(1)"
   ]
  }
 ],
 "metadata": {
  "kernelspec": {
   "display_name": "python3",
   "language": "python",
   "name": "python3"
  }
 },
 "nbformat": 4,
 "nbformat_minor": 5
}
