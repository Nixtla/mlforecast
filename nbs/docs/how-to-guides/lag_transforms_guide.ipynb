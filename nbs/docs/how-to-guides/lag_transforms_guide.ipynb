{
 "cells": [
  {
   "cell_type": "code",
   "execution_count": null,
   "id": "62d144ab-1bdc-4db9-91f7-7f895ecee8a2",
   "metadata": {},
   "outputs": [],
   "source": [
    "#| hide\n",
    "%load_ext autoreload\n",
    "%autoreload 2"
   ]
  },
  {
   "cell_type": "markdown",
   "id": "7b922589-4b5f-43bf-8e2e-8fb61497a15e",
   "metadata": {},
   "source": [
    "# Lag transformations\n",
    "> Compute features based on lags"
   ]
  },
  {
   "cell_type": "markdown",
   "id": "ad8318a8-9b99-439e-9479-efb849d64f78",
   "metadata": {},
   "source": [
    "mlforecast allows you to define transformations on the lags to use as features. These are provided through the `lag_transforms` argument, which is a dict where the keys are the lags and the values are a list of transformations to apply to that lag."
   ]
  },
  {
   "cell_type": "markdown",
   "id": "fa822972-0459-42aa-868b-a08427e76854",
   "metadata": {},
   "source": [
    "## Data setup"
   ]
  },
  {
   "cell_type": "code",
   "execution_count": null,
   "id": "261867dc-b6e6-45d1-87f7-02504c5c71b4",
   "metadata": {},
   "outputs": [],
   "source": [
    "from mlforecast.utils import generate_daily_series"
   ]
  },
  {
   "cell_type": "code",
   "execution_count": null,
   "id": "1f280ed8-2ef4-48cb-b208-5e7466ec8035",
   "metadata": {},
   "outputs": [],
   "source": [
    "data = generate_daily_series(10)"
   ]
  },
  {
   "cell_type": "markdown",
   "id": "92ccfabd-4bd7-4fe0-95f3-6c4ab12ff560",
   "metadata": {},
   "source": [
    "## window-ops"
   ]
  },
  {
   "cell_type": "markdown",
   "id": "196067fd-c91c-43df-854d-5ecc7eb3abde",
   "metadata": {},
   "source": [
    "The [window-ops package](https://github.com/jmoralez/window_ops) provides transformations defined as [numba](https://numba.pydata.org/) [JIT compiled](https://en.wikipedia.org/wiki/Just-in-time_compilation) functions, which allows you to use them directly and also composing them very easily. We use numba because it makes them really fast and can also bypass [python's GIL](https://wiki.python.org/moin/GlobalInterpreterLock), which allows running them concurrently with multithreading."
   ]
  },
  {
   "cell_type": "code",
   "execution_count": null,
   "id": "cc76c192-e3ba-4096-b79e-5ab2d4094586",
   "metadata": {},
   "outputs": [],
   "source": [
    "import numpy as np\n",
    "from numba import njit\n",
    "from window_ops.expanding import expanding_mean\n",
    "from window_ops.shift import shift_array\n",
    "\n",
    "from mlforecast import MLForecast"
   ]
  },
  {
   "cell_type": "code",
   "execution_count": null,
   "id": "80f1994f-8191-4ce7-8f16-ca5d3500913e",
   "metadata": {},
   "outputs": [],
   "source": [
    "@njit\n",
    "def ratio_over_previous(x, offset=1):\n",
    "    \"\"\"Computes the ratio between the current value and its `offset` lag\"\"\"\n",
    "    return x / shift_array(x, offset=offset)\n",
    "\n",
    "@njit\n",
    "def diff_over_previous(x, offset=1):\n",
    "    \"\"\"Computes the difference between the current value and its `offset` lag\"\"\"\n",
    "    return x - shift_array(x, offset=offset)"
   ]
  },
  {
   "cell_type": "markdown",
   "id": "210d6149-63de-4f4b-a4e4-8357a4af4ff1",
   "metadata": {},
   "source": [
    "If your function takes more arguments than the input array you can provide a tuple like: `(func, arg1, arg2, ...)`"
   ]
  },
  {
   "cell_type": "code",
   "execution_count": null,
   "id": "caa947e1-adf4-440f-a9b2-bb9d4ef23804",
   "metadata": {},
   "outputs": [
    {
     "data": {
      "text/html": [
       "<div>\n",
       "<style scoped>\n",
       "    .dataframe tbody tr th:only-of-type {\n",
       "        vertical-align: middle;\n",
       "    }\n",
       "\n",
       "    .dataframe tbody tr th {\n",
       "        vertical-align: top;\n",
       "    }\n",
       "\n",
       "    .dataframe thead th {\n",
       "        text-align: right;\n",
       "    }\n",
       "</style>\n",
       "<table border=\"1\" class=\"dataframe\">\n",
       "  <thead>\n",
       "    <tr style=\"text-align: right;\">\n",
       "      <th></th>\n",
       "      <th>unique_id</th>\n",
       "      <th>ds</th>\n",
       "      <th>y</th>\n",
       "      <th>lag1</th>\n",
       "      <th>lag2</th>\n",
       "      <th>lag3</th>\n",
       "      <th>expanding_mean_lag1</th>\n",
       "      <th>ratio_over_previous_lag1</th>\n",
       "      <th>ratio_over_previous_lag1_offset2</th>\n",
       "      <th>diff_over_previous_lag2</th>\n",
       "    </tr>\n",
       "  </thead>\n",
       "  <tbody>\n",
       "    <tr>\n",
       "      <th>3</th>\n",
       "      <td>id_0</td>\n",
       "      <td>2000-01-04</td>\n",
       "      <td>3.481831</td>\n",
       "      <td>2.445887</td>\n",
       "      <td>1.218794</td>\n",
       "      <td>0.322947</td>\n",
       "      <td>1.329209</td>\n",
       "      <td>2.006809</td>\n",
       "      <td>7.573645</td>\n",
       "      <td>0.895847</td>\n",
       "    </tr>\n",
       "    <tr>\n",
       "      <th>4</th>\n",
       "      <td>id_0</td>\n",
       "      <td>2000-01-05</td>\n",
       "      <td>4.191721</td>\n",
       "      <td>3.481831</td>\n",
       "      <td>2.445887</td>\n",
       "      <td>1.218794</td>\n",
       "      <td>1.867365</td>\n",
       "      <td>1.423546</td>\n",
       "      <td>2.856785</td>\n",
       "      <td>1.227093</td>\n",
       "    </tr>\n",
       "  </tbody>\n",
       "</table>\n",
       "</div>"
      ],
      "text/plain": [
       "  unique_id         ds         y      lag1      lag2      lag3  \\\n",
       "3      id_0 2000-01-04  3.481831  2.445887  1.218794  0.322947   \n",
       "4      id_0 2000-01-05  4.191721  3.481831  2.445887  1.218794   \n",
       "\n",
       "   expanding_mean_lag1  ratio_over_previous_lag1  \\\n",
       "3             1.329209                  2.006809   \n",
       "4             1.867365                  1.423546   \n",
       "\n",
       "   ratio_over_previous_lag1_offset2  diff_over_previous_lag2  \n",
       "3                          7.573645                 0.895847  \n",
       "4                          2.856785                 1.227093  "
      ]
     },
     "execution_count": null,
     "metadata": {},
     "output_type": "execute_result"
    }
   ],
   "source": [
    "fcst = MLForecast(\n",
    "    models=[],\n",
    "    freq='D',\n",
    "    lags=[1, 2, 3],\n",
    "    lag_transforms={\n",
    "        1: [expanding_mean, ratio_over_previous, (ratio_over_previous, 2)],  # the second ratio sets offset=2\n",
    "        2: [diff_over_previous],\n",
    "    },\n",
    ")\n",
    "prep = fcst.preprocess(data)\n",
    "prep.head(2)"
   ]
  },
  {
   "cell_type": "markdown",
   "id": "3b27b1ad-0556-4001-b786-cad09f282b4a",
   "metadata": {},
   "source": [
    "As you can see the name of the function is used as the transformation name plus the `_lag` suffix. If the function has other arguments and they're not set to their default values they're included as well, as is done with `offset=2` here."
   ]
  },
  {
   "cell_type": "code",
   "execution_count": null,
   "id": "11f2b652-00a2-48f2-8634-b9a1bc5e14e0",
   "metadata": {},
   "outputs": [],
   "source": [
    "np.testing.assert_allclose(prep['lag1'] / prep['lag2'], prep['ratio_over_previous_lag1'])\n",
    "np.testing.assert_allclose(prep['lag1'] / prep['lag3'], prep['ratio_over_previous_lag1_offset2'])\n",
    "np.testing.assert_allclose(prep['lag2'] - prep['lag3'], prep['diff_over_previous_lag2'])"
   ]
  },
  {
   "cell_type": "markdown",
   "id": "2196b1c4-7599-488f-9d00-7ef9f66131b8",
   "metadata": {},
   "source": [
    "## Built-in transformations (experimental)"
   ]
  },
  {
   "cell_type": "markdown",
   "id": "ac98883b-218c-4413-850d-f575d7417df3",
   "metadata": {},
   "source": [
    "The built-in lag transformations are in the `mlforecast.lag_transforms` module. This module is experimental, so in order to use it you need the `coreforecast` package, which you can get with: `pip install coreforecast` or `pip install \"mlforecast[lag_transforms]\"`. If you're using conda please install it with `conda install -c conda-forge coreforecast` instead.\n",
    "\n",
    "The main benefit of using these transformations is that since they're defined as classes they contain more information on the transformation that is being applied and can thus make it more efficiently, e.g. in order to update a rolling mean it just looks at the last `window_size` values, whereas the functions from window-ops have to re-apply the transformation on the full history. Another benefit is that the multithreading is done on the series, as opposed to the transformations, which can help in cases where the transformations are very different. Also, the multithreading is done in C++, so there's no risk of getting blocked by the GIL."
   ]
  },
  {
   "cell_type": "code",
   "execution_count": null,
   "id": "71fc74c7-f3bc-4ea2-a2f0-c993af25199d",
   "metadata": {},
   "outputs": [],
   "source": [
    "from mlforecast.lag_transforms import RollingMean, ExpandingStd"
   ]
  },
  {
   "cell_type": "code",
   "execution_count": null,
   "id": "c7a41996-39bf-4d76-80a7-3339a4d33788",
   "metadata": {},
   "outputs": [],
   "source": [
    "fcst = MLForecast(\n",
    "    models=[],\n",
    "    freq='D',\n",
    "    lag_transforms={\n",
    "        1: [ExpandingStd()],\n",
    "        7: [RollingMean(window_size=7, min_samples=1), RollingMean(window_size=14)]\n",
    "    },\n",
    ")"
   ]
  },
  {
   "cell_type": "markdown",
   "id": "6eb30cd9-042e-402d-9fbf-6cf26547ceb2",
   "metadata": {},
   "source": [
    "Once you define your transformations you can see what they look like with `MLForecast.preprocess`."
   ]
  },
  {
   "cell_type": "code",
   "execution_count": null,
   "id": "4c1de8fe-335e-499e-84ef-ca7a7fd6bc55",
   "metadata": {},
   "outputs": [
    {
     "data": {
      "text/html": [
       "<div>\n",
       "<style scoped>\n",
       "    .dataframe tbody tr th:only-of-type {\n",
       "        vertical-align: middle;\n",
       "    }\n",
       "\n",
       "    .dataframe tbody tr th {\n",
       "        vertical-align: top;\n",
       "    }\n",
       "\n",
       "    .dataframe thead th {\n",
       "        text-align: right;\n",
       "    }\n",
       "</style>\n",
       "<table border=\"1\" class=\"dataframe\">\n",
       "  <thead>\n",
       "    <tr style=\"text-align: right;\">\n",
       "      <th></th>\n",
       "      <th>unique_id</th>\n",
       "      <th>ds</th>\n",
       "      <th>y</th>\n",
       "      <th>expanding_std_lag1</th>\n",
       "      <th>rolling_mean_lag7_window_size7_min_samples1</th>\n",
       "      <th>rolling_mean_lag7_window_size14</th>\n",
       "    </tr>\n",
       "  </thead>\n",
       "  <tbody>\n",
       "    <tr>\n",
       "      <th>20</th>\n",
       "      <td>id_0</td>\n",
       "      <td>2000-01-21</td>\n",
       "      <td>6.319961</td>\n",
       "      <td>1.956363</td>\n",
       "      <td>3.234486</td>\n",
       "      <td>3.283064</td>\n",
       "    </tr>\n",
       "    <tr>\n",
       "      <th>21</th>\n",
       "      <td>id_0</td>\n",
       "      <td>2000-01-22</td>\n",
       "      <td>0.071677</td>\n",
       "      <td>2.028545</td>\n",
       "      <td>3.256055</td>\n",
       "      <td>3.291068</td>\n",
       "    </tr>\n",
       "  </tbody>\n",
       "</table>\n",
       "</div>"
      ],
      "text/plain": [
       "   unique_id         ds         y  expanding_std_lag1  \\\n",
       "20      id_0 2000-01-21  6.319961            1.956363   \n",
       "21      id_0 2000-01-22  0.071677            2.028545   \n",
       "\n",
       "    rolling_mean_lag7_window_size7_min_samples1  \\\n",
       "20                                     3.234486   \n",
       "21                                     3.256055   \n",
       "\n",
       "    rolling_mean_lag7_window_size14  \n",
       "20                         3.283064  \n",
       "21                         3.291068  "
      ]
     },
     "execution_count": null,
     "metadata": {},
     "output_type": "execute_result"
    }
   ],
   "source": [
    "fcst.preprocess(data).head(2)"
   ]
  },
  {
   "cell_type": "markdown",
   "id": "507d8f18-dd06-47e4-a803-09c18fa7e80e",
   "metadata": {},
   "source": [
    "### Extending the built-in transformations"
   ]
  },
  {
   "cell_type": "markdown",
   "id": "b94ad1b6-c847-4c9b-afe6-809f829727dc",
   "metadata": {},
   "source": [
    "You can compose these transformations by defining a new class that defines the `transform` and `update` methods. Consider the following example:"
   ]
  },
  {
   "cell_type": "code",
   "execution_count": null,
   "id": "85d456bc-726e-4248-ac8e-be2f37146a79",
   "metadata": {},
   "outputs": [],
   "source": [
    "import coreforecast.lag_transforms as core_tfms\n",
    "from coreforecast.grouped_array import GroupedArray"
   ]
  },
  {
   "cell_type": "code",
   "execution_count": null,
   "id": "41b2becf-0a09-4022-90e2-8a770860636a",
   "metadata": {},
   "outputs": [],
   "source": [
    "class RollingMeansRatioCore:\n",
    "    def __init__(self, lag: int, window_one: int, window_two: int):\n",
    "        self.lag = lag\n",
    "        self.window_one = window_one\n",
    "        self.window_two = window_two\n",
    "\n",
    "    def transform(self, ga: GroupedArray) -> np.ndarray:\n",
    "        self.tfm1 = core_tfms.RollingMean(self.lag, self.window_one)\n",
    "        self.tfm2 = core_tfms.RollingMean(self.lag, self.window_two)\n",
    "        return self.tfm1.transform(ga) / self.tfm2.transform(ga)\n",
    "\n",
    "    def update(self, ga: GroupedArray) -> np.ndarray:\n",
    "        return self.tfm1.update(ga) / self.tfm2.update(ga)"
   ]
  },
  {
   "cell_type": "markdown",
   "id": "9d199bab-ad77-49d0-9f94-9f7e88210713",
   "metadata": {},
   "source": [
    "In order to keep the mlforecast API for lag transforms where the lag is the key, we have to wrap this transformation in another one. We hope to deprecate this in the future so that you only need to define the previous class. The wrapper class needs to implement the `_set_core_tfm` method which takes the lag and sets the `_core_tfm` attribute to be a transformation like the one we defined above."
   ]
  },
  {
   "cell_type": "code",
   "execution_count": null,
   "id": "e010bc27-44f1-4335-8926-0e605a1303fb",
   "metadata": {},
   "outputs": [],
   "source": [
    "from mlforecast.lag_transforms import BaseLagTransform"
   ]
  },
  {
   "cell_type": "code",
   "execution_count": null,
   "id": "58cecdc4-3c16-40f5-a61a-bb0f821f3dab",
   "metadata": {},
   "outputs": [],
   "source": [
    "class RollingMeansRatio(BaseLagTransform):\n",
    "    def __init__(self, window_one: int, window_two: int):\n",
    "        self.window_one = window_one\n",
    "        self.window_two = window_two\n",
    "\n",
    "    def _set_core_tfm(self, lag: int):\n",
    "        self._core_tfm = RollingMeansRatioCore(lag, self.window_one, self.window_two)\n",
    "        return self"
   ]
  },
  {
   "cell_type": "code",
   "execution_count": null,
   "id": "9b1ba095-259e-4847-922b-1e1be24a5d90",
   "metadata": {},
   "outputs": [
    {
     "data": {
      "text/html": [
       "<div>\n",
       "<style scoped>\n",
       "    .dataframe tbody tr th:only-of-type {\n",
       "        vertical-align: middle;\n",
       "    }\n",
       "\n",
       "    .dataframe tbody tr th {\n",
       "        vertical-align: top;\n",
       "    }\n",
       "\n",
       "    .dataframe thead th {\n",
       "        text-align: right;\n",
       "    }\n",
       "</style>\n",
       "<table border=\"1\" class=\"dataframe\">\n",
       "  <thead>\n",
       "    <tr style=\"text-align: right;\">\n",
       "      <th></th>\n",
       "      <th>unique_id</th>\n",
       "      <th>ds</th>\n",
       "      <th>y</th>\n",
       "      <th>rolling_mean_lag1_window_size7</th>\n",
       "      <th>rolling_mean_lag1_window_size14</th>\n",
       "      <th>rolling_means_ratio_lag1_window_one7_window_two14</th>\n",
       "    </tr>\n",
       "  </thead>\n",
       "  <tbody>\n",
       "    <tr>\n",
       "      <th>14</th>\n",
       "      <td>id_0</td>\n",
       "      <td>2000-01-15</td>\n",
       "      <td>0.435006</td>\n",
       "      <td>3.234486</td>\n",
       "      <td>3.283064</td>\n",
       "      <td>0.985204</td>\n",
       "    </tr>\n",
       "    <tr>\n",
       "      <th>15</th>\n",
       "      <td>id_0</td>\n",
       "      <td>2000-01-16</td>\n",
       "      <td>1.489309</td>\n",
       "      <td>3.256055</td>\n",
       "      <td>3.291068</td>\n",
       "      <td>0.989361</td>\n",
       "    </tr>\n",
       "  </tbody>\n",
       "</table>\n",
       "</div>"
      ],
      "text/plain": [
       "   unique_id         ds         y  rolling_mean_lag1_window_size7  \\\n",
       "14      id_0 2000-01-15  0.435006                        3.234486   \n",
       "15      id_0 2000-01-16  1.489309                        3.256055   \n",
       "\n",
       "    rolling_mean_lag1_window_size14  \\\n",
       "14                         3.283064   \n",
       "15                         3.291068   \n",
       "\n",
       "    rolling_means_ratio_lag1_window_one7_window_two14  \n",
       "14                                           0.985204  \n",
       "15                                           0.989361  "
      ]
     },
     "execution_count": null,
     "metadata": {},
     "output_type": "execute_result"
    }
   ],
   "source": [
    "fcst = MLForecast(\n",
    "    models=[],\n",
    "    freq='D',\n",
    "    lag_transforms={\n",
    "        1: [\n",
    "            RollingMean(window_size=7),\n",
    "            RollingMean(window_size=14),\n",
    "            RollingMeansRatio(window_one=7, window_two=14)\n",
    "        ],\n",
    "    },\n",
    ")\n",
    "prep = fcst.preprocess(data)\n",
    "prep.head(2)"
   ]
  },
  {
   "cell_type": "code",
   "execution_count": null,
   "id": "c194e2c1-4c11-446c-bf00-1f3f73f0fca3",
   "metadata": {},
   "outputs": [],
   "source": [
    "np.testing.assert_allclose(\n",
    "    prep['rolling_mean_lag1_window_size7'] / prep['rolling_mean_lag1_window_size14'],\n",
    "    prep['rolling_means_ratio_lag1_window_one7_window_two14']\n",
    ")"
   ]
  },
  {
   "cell_type": "code",
   "execution_count": null,
   "id": "adae09c5-d97c-4aff-901c-65313472ee55",
   "metadata": {},
   "outputs": [],
   "source": [
    "#| hide\n",
    "from sklearn.linear_model import LinearRegression"
   ]
  },
  {
   "cell_type": "code",
   "execution_count": null,
   "id": "cf7c3799-e7b3-4f30-ad7c-2f58da643dde",
   "metadata": {},
   "outputs": [],
   "source": [
    "#| hide\n",
    "fcst = MLForecast(\n",
    "    models=[LinearRegression()],\n",
    "    freq='D',\n",
    "    lag_transforms={\n",
    "        1: [\n",
    "            RollingMean(window_size=7),\n",
    "            RollingMean(window_size=14),\n",
    "            RollingMeansRatio(window_one=7, window_two=14)\n",
    "        ],\n",
    "    },\n",
    ")\n",
    "fcst.fit(data)\n",
    "fcst.predict(2);"
   ]
  }
 ],
 "metadata": {
  "kernelspec": {
   "display_name": "python3",
   "language": "python",
   "name": "python3"
  }
 },
 "nbformat": 4,
 "nbformat_minor": 5
}
