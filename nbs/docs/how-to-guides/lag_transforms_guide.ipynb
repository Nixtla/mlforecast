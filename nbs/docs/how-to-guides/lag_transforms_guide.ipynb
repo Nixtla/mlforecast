{
 "cells": [
  {
   "cell_type": "code",
   "execution_count": null,
   "id": "62d144ab-1bdc-4db9-91f7-7f895ecee8a2",
   "metadata": {},
   "outputs": [],
   "source": [
    "#| hide\n",
    "%load_ext autoreload\n",
    "%autoreload 2"
   ]
  },
  {
   "cell_type": "markdown",
   "id": "7b922589-4b5f-43bf-8e2e-8fb61497a15e",
   "metadata": {},
   "source": [
    "# Lag transformations\n",
    "> Compute features based on lags"
   ]
  },
  {
   "cell_type": "markdown",
   "id": "ad8318a8-9b99-439e-9479-efb849d64f78",
   "metadata": {},
   "source": [
    "mlforecast allows you to define transformations on the lags to use as features. These are provided through the `lag_transforms` argument, which is a dict where the keys are the lags and the values are a list of transformations to apply to that lag."
   ]
  },
  {
   "cell_type": "markdown",
   "id": "fa822972-0459-42aa-868b-a08427e76854",
   "metadata": {},
   "source": [
    "## Data setup"
   ]
  },
  {
   "cell_type": "code",
   "execution_count": null,
   "id": "62ac9913-d677-4fb9-a9d9-ec42dc86c9d0",
   "metadata": {},
   "outputs": [],
   "source": [
    "import numpy as np\n",
    "\n",
    "from mlforecast import MLForecast\n",
    "from mlforecast.utils import generate_daily_series"
   ]
  },
  {
   "cell_type": "code",
   "execution_count": null,
   "id": "1f280ed8-2ef4-48cb-b208-5e7466ec8035",
   "metadata": {},
   "outputs": [],
   "source": [
    "data = generate_daily_series(10)"
   ]
  },
  {
   "cell_type": "markdown",
   "id": "938878bc-699e-47a5-92a4-03ce73d3ed91",
   "metadata": {},
   "source": [
    "## Built-in transformations"
   ]
  },
  {
   "cell_type": "markdown",
   "id": "63aff5ee-16e1-4b78-aeeb-217e0d37126e",
   "metadata": {},
   "source": [
    "The built-in lag transformations are in the `mlforecast.lag_transforms` module."
   ]
  },
  {
   "cell_type": "code",
   "execution_count": null,
   "id": "71fc74c7-f3bc-4ea2-a2f0-c993af25199d",
   "metadata": {},
   "outputs": [],
   "source": [
    "from mlforecast.lag_transforms import RollingMean, ExpandingStd"
   ]
  },
  {
   "cell_type": "code",
   "execution_count": null,
   "id": "c7a41996-39bf-4d76-80a7-3339a4d33788",
   "metadata": {},
   "outputs": [],
   "source": [
    "fcst = MLForecast(\n",
    "    models=[],\n",
    "    freq='D',\n",
    "    lag_transforms={\n",
    "        1: [ExpandingStd()],\n",
    "        7: [RollingMean(window_size=7, min_samples=1), RollingMean(window_size=14)]\n",
    "    },\n",
    ")"
   ]
  },
  {
   "cell_type": "markdown",
   "id": "64479a35-afea-4b5c-ac0f-615f45d86931",
   "metadata": {},
   "source": [
    "Once you define your transformations you can see what they look like with `MLForecast.preprocess`."
   ]
  },
  {
   "cell_type": "code",
   "execution_count": null,
   "id": "4c1de8fe-335e-499e-84ef-ca7a7fd6bc55",
   "metadata": {},
   "outputs": [
    {
     "data": {
      "text/html": [
       "<div>\n",
       "<style scoped>\n",
       "    .dataframe tbody tr th:only-of-type {\n",
       "        vertical-align: middle;\n",
       "    }\n",
       "\n",
       "    .dataframe tbody tr th {\n",
       "        vertical-align: top;\n",
       "    }\n",
       "\n",
       "    .dataframe thead th {\n",
       "        text-align: right;\n",
       "    }\n",
       "</style>\n",
       "<table border=\"1\" class=\"dataframe\">\n",
       "  <thead>\n",
       "    <tr style=\"text-align: right;\">\n",
       "      <th></th>\n",
       "      <th>unique_id</th>\n",
       "      <th>ds</th>\n",
       "      <th>y</th>\n",
       "      <th>expanding_std_lag1</th>\n",
       "      <th>rolling_mean_lag7_window_size7_min_samples1</th>\n",
       "      <th>rolling_mean_lag7_window_size14</th>\n",
       "    </tr>\n",
       "  </thead>\n",
       "  <tbody>\n",
       "    <tr>\n",
       "      <th>20</th>\n",
       "      <td>id_0</td>\n",
       "      <td>2000-01-21</td>\n",
       "      <td>6.319961</td>\n",
       "      <td>1.956363</td>\n",
       "      <td>3.234486</td>\n",
       "      <td>3.283064</td>\n",
       "    </tr>\n",
       "    <tr>\n",
       "      <th>21</th>\n",
       "      <td>id_0</td>\n",
       "      <td>2000-01-22</td>\n",
       "      <td>0.071677</td>\n",
       "      <td>2.028545</td>\n",
       "      <td>3.256055</td>\n",
       "      <td>3.291068</td>\n",
       "    </tr>\n",
       "  </tbody>\n",
       "</table>\n",
       "</div>"
      ],
      "text/plain": [
       "   unique_id         ds         y  expanding_std_lag1  \\\n",
       "20      id_0 2000-01-21  6.319961            1.956363   \n",
       "21      id_0 2000-01-22  0.071677            2.028545   \n",
       "\n",
       "    rolling_mean_lag7_window_size7_min_samples1  \\\n",
       "20                                     3.234486   \n",
       "21                                     3.256055   \n",
       "\n",
       "    rolling_mean_lag7_window_size14  \n",
       "20                         3.283064  \n",
       "21                         3.291068  "
      ]
     },
     "execution_count": null,
     "metadata": {},
     "output_type": "execute_result"
    }
   ],
   "source": [
    "fcst.preprocess(data).head(2)"
   ]
  },
  {
   "cell_type": "markdown",
   "id": "35a0c375-a056-48a3-9902-b7b56a1502b7",
   "metadata": {},
   "source": [
    "### Extending the built-in transformations"
   ]
  },
  {
   "cell_type": "markdown",
   "id": "be9366ea-0678-4175-bac8-18f37e91c71e",
   "metadata": {},
   "source": [
    "You can compose the built-in transformations by using the `Combine` class, which takes two transformations and an operator."
   ]
  },
  {
   "cell_type": "code",
   "execution_count": null,
   "id": "85d456bc-726e-4248-ac8e-be2f37146a79",
   "metadata": {},
   "outputs": [],
   "source": [
    "import operator\n",
    "\n",
    "from mlforecast.lag_transforms import Combine"
   ]
  },
  {
   "cell_type": "code",
   "execution_count": null,
   "id": "9b1ba095-259e-4847-922b-1e1be24a5d90",
   "metadata": {},
   "outputs": [
    {
     "data": {
      "text/html": [
       "<div>\n",
       "<style scoped>\n",
       "    .dataframe tbody tr th:only-of-type {\n",
       "        vertical-align: middle;\n",
       "    }\n",
       "\n",
       "    .dataframe tbody tr th {\n",
       "        vertical-align: top;\n",
       "    }\n",
       "\n",
       "    .dataframe thead th {\n",
       "        text-align: right;\n",
       "    }\n",
       "</style>\n",
       "<table border=\"1\" class=\"dataframe\">\n",
       "  <thead>\n",
       "    <tr style=\"text-align: right;\">\n",
       "      <th></th>\n",
       "      <th>unique_id</th>\n",
       "      <th>ds</th>\n",
       "      <th>y</th>\n",
       "      <th>rolling_mean_lag1_window_size7</th>\n",
       "      <th>rolling_mean_lag1_window_size14</th>\n",
       "      <th>rolling_mean_lag1_window_size7_truediv_rolling_mean_lag1_window_size14</th>\n",
       "    </tr>\n",
       "  </thead>\n",
       "  <tbody>\n",
       "    <tr>\n",
       "      <th>14</th>\n",
       "      <td>id_0</td>\n",
       "      <td>2000-01-15</td>\n",
       "      <td>0.435006</td>\n",
       "      <td>3.234486</td>\n",
       "      <td>3.283064</td>\n",
       "      <td>0.985204</td>\n",
       "    </tr>\n",
       "    <tr>\n",
       "      <th>15</th>\n",
       "      <td>id_0</td>\n",
       "      <td>2000-01-16</td>\n",
       "      <td>1.489309</td>\n",
       "      <td>3.256055</td>\n",
       "      <td>3.291068</td>\n",
       "      <td>0.989361</td>\n",
       "    </tr>\n",
       "  </tbody>\n",
       "</table>\n",
       "</div>"
      ],
      "text/plain": [
       "   unique_id         ds         y  rolling_mean_lag1_window_size7  \\\n",
       "14      id_0 2000-01-15  0.435006                        3.234486   \n",
       "15      id_0 2000-01-16  1.489309                        3.256055   \n",
       "\n",
       "    rolling_mean_lag1_window_size14  \\\n",
       "14                         3.283064   \n",
       "15                         3.291068   \n",
       "\n",
       "    rolling_mean_lag1_window_size7_truediv_rolling_mean_lag1_window_size14  \n",
       "14                                           0.985204                       \n",
       "15                                           0.989361                       "
      ]
     },
     "execution_count": null,
     "metadata": {},
     "output_type": "execute_result"
    }
   ],
   "source": [
    "fcst = MLForecast(\n",
    "    models=[],\n",
    "    freq='D',\n",
    "    lag_transforms={\n",
    "        1: [\n",
    "            RollingMean(window_size=7),\n",
    "            RollingMean(window_size=14),\n",
    "            Combine(\n",
    "                RollingMean(window_size=7),\n",
    "                RollingMean(window_size=14),\n",
    "                operator.truediv,\n",
    "            )\n",
    "        ],\n",
    "    },\n",
    ")\n",
    "prep = fcst.preprocess(data)\n",
    "prep.head(2)"
   ]
  },
  {
   "cell_type": "code",
   "execution_count": null,
   "id": "c194e2c1-4c11-446c-bf00-1f3f73f0fca3",
   "metadata": {},
   "outputs": [],
   "source": [
    "np.testing.assert_allclose(\n",
    "    prep['rolling_mean_lag1_window_size7'] / prep['rolling_mean_lag1_window_size14'],\n",
    "    prep['rolling_mean_lag1_window_size7_truediv_rolling_mean_lag1_window_size14']\n",
    ")"
   ]
  },
  {
   "cell_type": "markdown",
   "id": "54559e67-9f66-472a-bfe4-daa5ed897456",
   "metadata": {},
   "source": [
    "If you want one of the transformations in `Combine` to be applied to a different lag you can use the `Offset` class, which will apply the offset first and then the transformation."
   ]
  },
  {
   "cell_type": "code",
   "execution_count": null,
   "id": "b4699988-7150-47b0-8ed2-672a61669d34",
   "metadata": {},
   "outputs": [],
   "source": [
    "from mlforecast.lag_transforms import Offset"
   ]
  },
  {
   "cell_type": "code",
   "execution_count": null,
   "id": "4f95634a-6420-4ec7-ba2d-502dd9f5596b",
   "metadata": {},
   "outputs": [
    {
     "data": {
      "text/html": [
       "<div>\n",
       "<style scoped>\n",
       "    .dataframe tbody tr th:only-of-type {\n",
       "        vertical-align: middle;\n",
       "    }\n",
       "\n",
       "    .dataframe tbody tr th {\n",
       "        vertical-align: top;\n",
       "    }\n",
       "\n",
       "    .dataframe thead th {\n",
       "        text-align: right;\n",
       "    }\n",
       "</style>\n",
       "<table border=\"1\" class=\"dataframe\">\n",
       "  <thead>\n",
       "    <tr style=\"text-align: right;\">\n",
       "      <th></th>\n",
       "      <th>unique_id</th>\n",
       "      <th>ds</th>\n",
       "      <th>y</th>\n",
       "      <th>rolling_mean_lag1_window_size7</th>\n",
       "      <th>rolling_mean_lag1_window_size7_truediv_rolling_mean_lag2_window_size7</th>\n",
       "      <th>rolling_mean_lag2_window_size7</th>\n",
       "    </tr>\n",
       "  </thead>\n",
       "  <tbody>\n",
       "    <tr>\n",
       "      <th>8</th>\n",
       "      <td>id_0</td>\n",
       "      <td>2000-01-09</td>\n",
       "      <td>1.462798</td>\n",
       "      <td>3.326081</td>\n",
       "      <td>0.998331</td>\n",
       "      <td>3.331641</td>\n",
       "    </tr>\n",
       "    <tr>\n",
       "      <th>9</th>\n",
       "      <td>id_0</td>\n",
       "      <td>2000-01-10</td>\n",
       "      <td>2.035518</td>\n",
       "      <td>3.360938</td>\n",
       "      <td>1.010480</td>\n",
       "      <td>3.326081</td>\n",
       "    </tr>\n",
       "  </tbody>\n",
       "</table>\n",
       "</div>"
      ],
      "text/plain": [
       "  unique_id         ds         y  rolling_mean_lag1_window_size7  \\\n",
       "8      id_0 2000-01-09  1.462798                        3.326081   \n",
       "9      id_0 2000-01-10  2.035518                        3.360938   \n",
       "\n",
       "   rolling_mean_lag1_window_size7_truediv_rolling_mean_lag2_window_size7  \\\n",
       "8                                           0.998331                       \n",
       "9                                           1.010480                       \n",
       "\n",
       "   rolling_mean_lag2_window_size7  \n",
       "8                        3.331641  \n",
       "9                        3.326081  "
      ]
     },
     "execution_count": null,
     "metadata": {},
     "output_type": "execute_result"
    }
   ],
   "source": [
    "fcst = MLForecast(\n",
    "    models=[],\n",
    "    freq='D',\n",
    "    lag_transforms={\n",
    "        1: [\n",
    "            RollingMean(window_size=7),\n",
    "            Combine(\n",
    "                RollingMean(window_size=7),\n",
    "                Offset(RollingMean(window_size=7), n=1),\n",
    "                operator.truediv,\n",
    "            )\n",
    "        ],\n",
    "        2: [RollingMean(window_size=7)]\n",
    "    },\n",
    ")\n",
    "prep = fcst.preprocess(data)\n",
    "prep.head(2)"
   ]
  },
  {
   "cell_type": "code",
   "execution_count": null,
   "id": "c12c9682-7335-472a-b02e-e125f6e61cd4",
   "metadata": {},
   "outputs": [],
   "source": [
    "np.testing.assert_allclose(\n",
    "    prep['rolling_mean_lag1_window_size7'] / prep['rolling_mean_lag2_window_size7'],\n",
    "    prep['rolling_mean_lag1_window_size7_truediv_rolling_mean_lag2_window_size7']\n",
    ")"
   ]
  },
  {
   "cell_type": "code",
   "execution_count": null,
   "id": "adae09c5-d97c-4aff-901c-65313472ee55",
   "metadata": {},
   "outputs": [],
   "source": [
    "#| hide\n",
    "from sklearn.linear_model import LinearRegression"
   ]
  },
  {
   "cell_type": "code",
   "execution_count": null,
   "id": "cf7c3799-e7b3-4f30-ad7c-2f58da643dde",
   "metadata": {},
   "outputs": [],
   "source": [
    "#| hide\n",
    "fcst = MLForecast(\n",
    "    models=[LinearRegression()],\n",
    "    freq='D',\n",
    "    lag_transforms={\n",
    "        1: [\n",
    "            RollingMean(window_size=7),\n",
    "            RollingMean(window_size=14),\n",
    "            Combine(\n",
    "                RollingMean(window_size=7),\n",
    "                RollingMean(window_size=14),\n",
    "                operator.truediv,\n",
    "            )\n",
    "        ],\n",
    "    },\n",
    ")\n",
    "fcst.fit(data)\n",
    "fcst.predict(2);"
   ]
  },
  {
   "cell_type": "markdown",
   "id": "92ccfabd-4bd7-4fe0-95f3-6c4ab12ff560",
   "metadata": {},
   "source": [
    "## numba-based transformations"
   ]
  },
  {
   "cell_type": "markdown",
   "id": "196067fd-c91c-43df-854d-5ecc7eb3abde",
   "metadata": {},
   "source": [
    "The [window-ops package](https://github.com/jmoralez/window_ops) provides transformations defined as [numba](https://numba.pydata.org/) [JIT compiled](https://en.wikipedia.org/wiki/Just-in-time_compilation) functions. We use numba because it makes them really fast and can also bypass [python's GIL](https://wiki.python.org/moin/GlobalInterpreterLock), which allows running them concurrently with multithreading.\n",
    "\n",
    "The main benefit of using these transformations is that they're very easy to implement. However, when we need to update their values on the predict step they can very slow, because we have to call the function again on the complete history and just keep the last value, so if performance is a concern you should try to use the built-in ones or set `keep_last_n` in `MLForecast.preprocess` or `MLForecast.fit` to the minimum number of samples that your transformations require."
   ]
  },
  {
   "cell_type": "code",
   "execution_count": null,
   "id": "e92adbbb-959b-4ade-8173-29ee7eb0c224",
   "metadata": {},
   "outputs": [],
   "source": [
    "from numba import njit\n",
    "from window_ops.expanding import expanding_mean\n",
    "from window_ops.shift import shift_array"
   ]
  },
  {
   "cell_type": "code",
   "execution_count": null,
   "id": "80f1994f-8191-4ce7-8f16-ca5d3500913e",
   "metadata": {},
   "outputs": [],
   "source": [
    "@njit\n",
    "def ratio_over_previous(x, offset=1):\n",
    "    \"\"\"Computes the ratio between the current value and its `offset` lag\"\"\"\n",
    "    return x / shift_array(x, offset=offset)\n",
    "\n",
    "@njit\n",
    "def diff_over_previous(x, offset=1):\n",
    "    \"\"\"Computes the difference between the current value and its `offset` lag\"\"\"\n",
    "    return x - shift_array(x, offset=offset)"
   ]
  },
  {
   "cell_type": "markdown",
   "id": "210d6149-63de-4f4b-a4e4-8357a4af4ff1",
   "metadata": {},
   "source": [
    "If your function takes more arguments than the input array you can provide a tuple like: `(func, arg1, arg2, ...)`"
   ]
  },
  {
   "cell_type": "code",
   "execution_count": null,
   "id": "caa947e1-adf4-440f-a9b2-bb9d4ef23804",
   "metadata": {},
   "outputs": [
    {
     "data": {
      "text/html": [
       "<div>\n",
       "<style scoped>\n",
       "    .dataframe tbody tr th:only-of-type {\n",
       "        vertical-align: middle;\n",
       "    }\n",
       "\n",
       "    .dataframe tbody tr th {\n",
       "        vertical-align: top;\n",
       "    }\n",
       "\n",
       "    .dataframe thead th {\n",
       "        text-align: right;\n",
       "    }\n",
       "</style>\n",
       "<table border=\"1\" class=\"dataframe\">\n",
       "  <thead>\n",
       "    <tr style=\"text-align: right;\">\n",
       "      <th></th>\n",
       "      <th>unique_id</th>\n",
       "      <th>ds</th>\n",
       "      <th>y</th>\n",
       "      <th>lag1</th>\n",
       "      <th>lag2</th>\n",
       "      <th>lag3</th>\n",
       "      <th>expanding_mean_lag1</th>\n",
       "      <th>ratio_over_previous_lag1</th>\n",
       "      <th>ratio_over_previous_lag1_offset2</th>\n",
       "      <th>diff_over_previous_lag2</th>\n",
       "    </tr>\n",
       "  </thead>\n",
       "  <tbody>\n",
       "    <tr>\n",
       "      <th>3</th>\n",
       "      <td>id_0</td>\n",
       "      <td>2000-01-04</td>\n",
       "      <td>3.481831</td>\n",
       "      <td>2.445887</td>\n",
       "      <td>1.218794</td>\n",
       "      <td>0.322947</td>\n",
       "      <td>1.329209</td>\n",
       "      <td>2.006809</td>\n",
       "      <td>7.573645</td>\n",
       "      <td>0.895847</td>\n",
       "    </tr>\n",
       "    <tr>\n",
       "      <th>4</th>\n",
       "      <td>id_0</td>\n",
       "      <td>2000-01-05</td>\n",
       "      <td>4.191721</td>\n",
       "      <td>3.481831</td>\n",
       "      <td>2.445887</td>\n",
       "      <td>1.218794</td>\n",
       "      <td>1.867365</td>\n",
       "      <td>1.423546</td>\n",
       "      <td>2.856785</td>\n",
       "      <td>1.227093</td>\n",
       "    </tr>\n",
       "  </tbody>\n",
       "</table>\n",
       "</div>"
      ],
      "text/plain": [
       "  unique_id         ds         y      lag1      lag2      lag3  \\\n",
       "3      id_0 2000-01-04  3.481831  2.445887  1.218794  0.322947   \n",
       "4      id_0 2000-01-05  4.191721  3.481831  2.445887  1.218794   \n",
       "\n",
       "   expanding_mean_lag1  ratio_over_previous_lag1  \\\n",
       "3             1.329209                  2.006809   \n",
       "4             1.867365                  1.423546   \n",
       "\n",
       "   ratio_over_previous_lag1_offset2  diff_over_previous_lag2  \n",
       "3                          7.573645                 0.895847  \n",
       "4                          2.856785                 1.227093  "
      ]
     },
     "execution_count": null,
     "metadata": {},
     "output_type": "execute_result"
    }
   ],
   "source": [
    "fcst = MLForecast(\n",
    "    models=[],\n",
    "    freq='D',\n",
    "    lags=[1, 2, 3],\n",
    "    lag_transforms={\n",
    "        1: [expanding_mean, ratio_over_previous, (ratio_over_previous, 2)],  # the second ratio sets offset=2\n",
    "        2: [diff_over_previous],\n",
    "    },\n",
    ")\n",
    "prep = fcst.preprocess(data)\n",
    "prep.head(2)"
   ]
  },
  {
   "cell_type": "markdown",
   "id": "3b27b1ad-0556-4001-b786-cad09f282b4a",
   "metadata": {},
   "source": [
    "As you can see the name of the function is used as the transformation name plus the `_lag` suffix. If the function has other arguments and they're not set to their default values they're included as well, as is done with `offset=2` here."
   ]
  },
  {
   "cell_type": "code",
   "execution_count": null,
   "id": "11f2b652-00a2-48f2-8634-b9a1bc5e14e0",
   "metadata": {},
   "outputs": [],
   "source": [
    "np.testing.assert_allclose(prep['lag1'] / prep['lag2'], prep['ratio_over_previous_lag1'])\n",
    "np.testing.assert_allclose(prep['lag1'] / prep['lag3'], prep['ratio_over_previous_lag1_offset2'])\n",
    "np.testing.assert_allclose(prep['lag2'] - prep['lag3'], prep['diff_over_previous_lag2'])"
   ]
  }
 ],
 "metadata": {
  "kernelspec": {
   "display_name": "python3",
   "language": "python",
   "name": "python3"
  }
 },
 "nbformat": 4,
 "nbformat_minor": 5
}
