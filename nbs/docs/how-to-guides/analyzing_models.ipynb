{
 "cells": [
  {
   "cell_type": "code",
   "execution_count": null,
   "id": "87966823-8fd6-4053-a5f6-99f82721e706",
   "metadata": {},
   "outputs": [],
   "source": [
    "#| hide\n",
    "%load_ext autoreload\n",
    "%autoreload 2"
   ]
  },
  {
   "cell_type": "markdown",
   "id": "8ba75b1c-5b25-4037-b314-416765abfdf7",
   "metadata": {},
   "source": [
    "# Analyzing the trained models\n",
    "> Access and interpret the models after fitting"
   ]
  },
  {
   "cell_type": "markdown",
   "id": "661764a0-619c-4fa6-912f-2eb63d3d1e46",
   "metadata": {},
   "source": [
    "## Data setup"
   ]
  },
  {
   "cell_type": "code",
   "execution_count": null,
   "id": "38aebf78-f2a0-43d3-b790-e44c57a6f0b6",
   "metadata": {},
   "outputs": [],
   "source": [
    "from mlforecast.utils import generate_daily_series"
   ]
  },
  {
   "cell_type": "code",
   "execution_count": null,
   "id": "7f682963-bc93-4082-8086-5eef01d5f8d2",
   "metadata": {},
   "outputs": [
    {
     "data": {
      "text/html": [
       "<div>\n",
       "<style scoped>\n",
       "    .dataframe tbody tr th:only-of-type {\n",
       "        vertical-align: middle;\n",
       "    }\n",
       "\n",
       "    .dataframe tbody tr th {\n",
       "        vertical-align: top;\n",
       "    }\n",
       "\n",
       "    .dataframe thead th {\n",
       "        text-align: right;\n",
       "    }\n",
       "</style>\n",
       "<table border=\"1\" class=\"dataframe\">\n",
       "  <thead>\n",
       "    <tr style=\"text-align: right;\">\n",
       "      <th></th>\n",
       "      <th>unique_id</th>\n",
       "      <th>ds</th>\n",
       "      <th>y</th>\n",
       "    </tr>\n",
       "  </thead>\n",
       "  <tbody>\n",
       "    <tr>\n",
       "      <th>0</th>\n",
       "      <td>id_0</td>\n",
       "      <td>2000-01-01</td>\n",
       "      <td>0.322947</td>\n",
       "    </tr>\n",
       "    <tr>\n",
       "      <th>1</th>\n",
       "      <td>id_0</td>\n",
       "      <td>2000-01-02</td>\n",
       "      <td>1.218794</td>\n",
       "    </tr>\n",
       "    <tr>\n",
       "      <th>2</th>\n",
       "      <td>id_0</td>\n",
       "      <td>2000-01-03</td>\n",
       "      <td>2.445887</td>\n",
       "    </tr>\n",
       "    <tr>\n",
       "      <th>3</th>\n",
       "      <td>id_0</td>\n",
       "      <td>2000-01-04</td>\n",
       "      <td>3.481831</td>\n",
       "    </tr>\n",
       "    <tr>\n",
       "      <th>4</th>\n",
       "      <td>id_0</td>\n",
       "      <td>2000-01-05</td>\n",
       "      <td>4.191721</td>\n",
       "    </tr>\n",
       "  </tbody>\n",
       "</table>\n",
       "</div>"
      ],
      "text/plain": [
       "  unique_id         ds         y\n",
       "0      id_0 2000-01-01  0.322947\n",
       "1      id_0 2000-01-02  1.218794\n",
       "2      id_0 2000-01-03  2.445887\n",
       "3      id_0 2000-01-04  3.481831\n",
       "4      id_0 2000-01-05  4.191721"
      ]
     },
     "execution_count": null,
     "metadata": {},
     "output_type": "execute_result"
    }
   ],
   "source": [
    "series = generate_daily_series(10)\n",
    "series.head()"
   ]
  },
  {
   "cell_type": "markdown",
   "id": "6295efd0-55c8-4ace-88bb-e6d08afc8552",
   "metadata": {},
   "source": [
    "## Training"
   ]
  },
  {
   "cell_type": "markdown",
   "id": "46e1109c-fdc5-4a8f-92ec-22fb701ac8b4",
   "metadata": {},
   "source": [
    "Suppose that you want to train a linear regression model using the day of the week and lag1 as features."
   ]
  },
  {
   "cell_type": "code",
   "execution_count": null,
   "id": "0c75ab23-0e85-4edf-b164-6405c18c9f1f",
   "metadata": {},
   "outputs": [],
   "source": [
    "from sklearn.linear_model import LinearRegression\n",
    "\n",
    "from mlforecast import MLForecast"
   ]
  },
  {
   "cell_type": "code",
   "execution_count": null,
   "id": "6d85b8ce-6534-4fd5-92d3-20a896b7fee6",
   "metadata": {},
   "outputs": [],
   "source": [
    "fcst = MLForecast(\n",
    "    freq='D',\n",
    "    models={'lr': LinearRegression()},\n",
    "    lags=[1],\n",
    "    date_features=['dayofweek'],\n",
    ")"
   ]
  },
  {
   "cell_type": "code",
   "execution_count": null,
   "id": "d44a766c-7cd9-47f2-973e-00f68a74c59f",
   "metadata": {},
   "outputs": [
    {
     "data": {
      "text/plain": [
       "MLForecast(models=[lr], freq=<Day>, lag_features=['lag1'], date_features=['dayofweek'], num_threads=1)"
      ]
     },
     "execution_count": null,
     "metadata": {},
     "output_type": "execute_result"
    }
   ],
   "source": [
    "fcst.fit(series)"
   ]
  },
  {
   "cell_type": "markdown",
   "id": "917159ba-2533-44bd-a9d9-b5647678cfa2",
   "metadata": {},
   "source": [
    "What `MLForecast.fit` does is save the required data for the predict step and also train the models (in this case the linear regression). The trained models are available in the `MLForecast.models_` attribute, which is a dictionary where the keys are the model names and the values are the model themselves."
   ]
  },
  {
   "cell_type": "code",
   "execution_count": null,
   "id": "af3af2fc-b0b1-4c71-be6f-43fe9012470a",
   "metadata": {},
   "outputs": [
    {
     "data": {
      "text/plain": [
       "{'lr': LinearRegression()}"
      ]
     },
     "execution_count": null,
     "metadata": {},
     "output_type": "execute_result"
    }
   ],
   "source": [
    "fcst.models_"
   ]
  },
  {
   "cell_type": "markdown",
   "id": "59578794-1109-4b4d-a7f0-b34d41b64673",
   "metadata": {},
   "source": [
    "## Inspect parameters"
   ]
  },
  {
   "cell_type": "markdown",
   "id": "16869aec-9eb3-402f-b97f-cc44237331f5",
   "metadata": {},
   "source": [
    "We can access the linear regression coefficients in the following way:"
   ]
  },
  {
   "cell_type": "code",
   "execution_count": null,
   "id": "c6c5fa06-6f40-4fcc-8c78-02ec7c553d82",
   "metadata": {},
   "outputs": [
    {
     "data": {
      "text/plain": [
       "(3.2476337167384415, array([ 0.19896416, -0.21441331]))"
      ]
     },
     "execution_count": null,
     "metadata": {},
     "output_type": "execute_result"
    }
   ],
   "source": [
    "fcst.models_['lr'].intercept_, fcst.models_['lr'].coef_"
   ]
  },
  {
   "cell_type": "markdown",
   "id": "c90f9857-0ce3-4cbc-8b47-8c0909f790d7",
   "metadata": {},
   "source": [
    "## SHAP"
   ]
  },
  {
   "cell_type": "code",
   "execution_count": null,
   "id": "319d5d40-39f3-45e0-8f37-fede5626419f",
   "metadata": {},
   "outputs": [],
   "source": [
    "import shap"
   ]
  },
  {
   "cell_type": "markdown",
   "id": "85c11067-110c-4f1e-a817-ed18fafa03a5",
   "metadata": {},
   "source": [
    "### Training set"
   ]
  },
  {
   "cell_type": "markdown",
   "id": "6ad34a88-2f24-455f-bf90-17ccbaa32cfd",
   "metadata": {},
   "source": [
    "If you need to generate the training data you can use `MLForecast.preprocess`."
   ]
  },
  {
   "cell_type": "code",
   "execution_count": null,
   "id": "199b41de-ca81-49ab-9b59-f49b8e142774",
   "metadata": {},
   "outputs": [
    {
     "data": {
      "text/html": [
       "<div>\n",
       "<style scoped>\n",
       "    .dataframe tbody tr th:only-of-type {\n",
       "        vertical-align: middle;\n",
       "    }\n",
       "\n",
       "    .dataframe tbody tr th {\n",
       "        vertical-align: top;\n",
       "    }\n",
       "\n",
       "    .dataframe thead th {\n",
       "        text-align: right;\n",
       "    }\n",
       "</style>\n",
       "<table border=\"1\" class=\"dataframe\">\n",
       "  <thead>\n",
       "    <tr style=\"text-align: right;\">\n",
       "      <th></th>\n",
       "      <th>unique_id</th>\n",
       "      <th>ds</th>\n",
       "      <th>y</th>\n",
       "      <th>lag1</th>\n",
       "      <th>dayofweek</th>\n",
       "    </tr>\n",
       "  </thead>\n",
       "  <tbody>\n",
       "    <tr>\n",
       "      <th>1</th>\n",
       "      <td>id_0</td>\n",
       "      <td>2000-01-02</td>\n",
       "      <td>1.218794</td>\n",
       "      <td>0.322947</td>\n",
       "      <td>6</td>\n",
       "    </tr>\n",
       "    <tr>\n",
       "      <th>2</th>\n",
       "      <td>id_0</td>\n",
       "      <td>2000-01-03</td>\n",
       "      <td>2.445887</td>\n",
       "      <td>1.218794</td>\n",
       "      <td>0</td>\n",
       "    </tr>\n",
       "    <tr>\n",
       "      <th>3</th>\n",
       "      <td>id_0</td>\n",
       "      <td>2000-01-04</td>\n",
       "      <td>3.481831</td>\n",
       "      <td>2.445887</td>\n",
       "      <td>1</td>\n",
       "    </tr>\n",
       "    <tr>\n",
       "      <th>4</th>\n",
       "      <td>id_0</td>\n",
       "      <td>2000-01-05</td>\n",
       "      <td>4.191721</td>\n",
       "      <td>3.481831</td>\n",
       "      <td>2</td>\n",
       "    </tr>\n",
       "    <tr>\n",
       "      <th>5</th>\n",
       "      <td>id_0</td>\n",
       "      <td>2000-01-06</td>\n",
       "      <td>5.395863</td>\n",
       "      <td>4.191721</td>\n",
       "      <td>3</td>\n",
       "    </tr>\n",
       "  </tbody>\n",
       "</table>\n",
       "</div>"
      ],
      "text/plain": [
       "  unique_id         ds         y      lag1  dayofweek\n",
       "1      id_0 2000-01-02  1.218794  0.322947          6\n",
       "2      id_0 2000-01-03  2.445887  1.218794          0\n",
       "3      id_0 2000-01-04  3.481831  2.445887          1\n",
       "4      id_0 2000-01-05  4.191721  3.481831          2\n",
       "5      id_0 2000-01-06  5.395863  4.191721          3"
      ]
     },
     "execution_count": null,
     "metadata": {},
     "output_type": "execute_result"
    }
   ],
   "source": [
    "prep = fcst.preprocess(series)\n",
    "prep.head()"
   ]
  },
  {
   "cell_type": "markdown",
   "id": "2746a916-6837-40de-a6d2-6d4fc757c786",
   "metadata": {},
   "source": [
    "We extract the X, which involves dropping the info columns (id + times) and the target"
   ]
  },
  {
   "cell_type": "code",
   "execution_count": null,
   "id": "abdcfffd-77f9-48b8-b8eb-d9b57d713d65",
   "metadata": {},
   "outputs": [
    {
     "data": {
      "text/html": [
       "<div>\n",
       "<style scoped>\n",
       "    .dataframe tbody tr th:only-of-type {\n",
       "        vertical-align: middle;\n",
       "    }\n",
       "\n",
       "    .dataframe tbody tr th {\n",
       "        vertical-align: top;\n",
       "    }\n",
       "\n",
       "    .dataframe thead th {\n",
       "        text-align: right;\n",
       "    }\n",
       "</style>\n",
       "<table border=\"1\" class=\"dataframe\">\n",
       "  <thead>\n",
       "    <tr style=\"text-align: right;\">\n",
       "      <th></th>\n",
       "      <th>lag1</th>\n",
       "      <th>dayofweek</th>\n",
       "    </tr>\n",
       "  </thead>\n",
       "  <tbody>\n",
       "    <tr>\n",
       "      <th>1</th>\n",
       "      <td>0.322947</td>\n",
       "      <td>6</td>\n",
       "    </tr>\n",
       "    <tr>\n",
       "      <th>2</th>\n",
       "      <td>1.218794</td>\n",
       "      <td>0</td>\n",
       "    </tr>\n",
       "    <tr>\n",
       "      <th>3</th>\n",
       "      <td>2.445887</td>\n",
       "      <td>1</td>\n",
       "    </tr>\n",
       "    <tr>\n",
       "      <th>4</th>\n",
       "      <td>3.481831</td>\n",
       "      <td>2</td>\n",
       "    </tr>\n",
       "    <tr>\n",
       "      <th>5</th>\n",
       "      <td>4.191721</td>\n",
       "      <td>3</td>\n",
       "    </tr>\n",
       "  </tbody>\n",
       "</table>\n",
       "</div>"
      ],
      "text/plain": [
       "       lag1  dayofweek\n",
       "1  0.322947          6\n",
       "2  1.218794          0\n",
       "3  2.445887          1\n",
       "4  3.481831          2\n",
       "5  4.191721          3"
      ]
     },
     "execution_count": null,
     "metadata": {},
     "output_type": "execute_result"
    }
   ],
   "source": [
    "X = prep.drop(columns=['unique_id', 'ds', 'y'])\n",
    "X.head()"
   ]
  },
  {
   "cell_type": "markdown",
   "id": "45d4baa2-4172-47ac-9650-b3ef476ac971",
   "metadata": {},
   "source": [
    "We can now compute the shap values"
   ]
  },
  {
   "cell_type": "code",
   "execution_count": null,
   "id": "a056602a-7592-4e71-8061-039582c711dd",
   "metadata": {},
   "outputs": [],
   "source": [
    "X100 = shap.utils.sample(X, 100)\n",
    "explainer = shap.Explainer(fcst.models_['lr'].predict, X100)\n",
    "shap_values = explainer(X)"
   ]
  },
  {
   "cell_type": "markdown",
   "id": "eff65850-789a-4b4b-9bc8-a588de61094c",
   "metadata": {},
   "source": [
    "And visualize them"
   ]
  },
  {
   "cell_type": "code",
   "execution_count": null,
   "id": "8c029db1-8fdb-4a2b-b53c-8184632c0bc5",
   "metadata": {},
   "outputs": [
    {
     "data": {
      "image/png": "[encoded data removed]",
      "text/plain": [
       "<Figure size 800x230 with 2 Axes>"
      ]
     },
     "metadata": {},
     "output_type": "display_data"
    }
   ],
   "source": [
    "shap.plots.beeswarm(shap_values)"
   ]
  },
  {
   "cell_type": "markdown",
   "id": "5164ad1b-fa24-41cd-8e5a-ed3a875b0d59",
   "metadata": {},
   "source": [
    "### Predictions"
   ]
  },
  {
   "cell_type": "markdown",
   "id": "9fbfd2b3-01fb-4d0e-b6e5-70d3fc9aff50",
   "metadata": {},
   "source": [
    "Sometimes you want to determine why the model gave a specific prediction. In order to do this you need the input features, which aren't returned by default, but you can retrieve them using a callback."
   ]
  },
  {
   "cell_type": "code",
   "execution_count": null,
   "id": "9576e65e-f438-4838-b4b0-c36436e2aaab",
   "metadata": {},
   "outputs": [],
   "source": [
    "from mlforecast.callbacks import SaveFeatures"
   ]
  },
  {
   "cell_type": "code",
   "execution_count": null,
   "id": "88d05f09-4c61-4fcb-81c5-48b05a1b33d6",
   "metadata": {},
   "outputs": [
    {
     "data": {
      "text/html": [
       "<div>\n",
       "<style scoped>\n",
       "    .dataframe tbody tr th:only-of-type {\n",
       "        vertical-align: middle;\n",
       "    }\n",
       "\n",
       "    .dataframe tbody tr th {\n",
       "        vertical-align: top;\n",
       "    }\n",
       "\n",
       "    .dataframe thead th {\n",
       "        text-align: right;\n",
       "    }\n",
       "</style>\n",
       "<table border=\"1\" class=\"dataframe\">\n",
       "  <thead>\n",
       "    <tr style=\"text-align: right;\">\n",
       "      <th></th>\n",
       "      <th>unique_id</th>\n",
       "      <th>ds</th>\n",
       "      <th>lr</th>\n",
       "    </tr>\n",
       "  </thead>\n",
       "  <tbody>\n",
       "    <tr>\n",
       "      <th>0</th>\n",
       "      <td>id_0</td>\n",
       "      <td>2000-08-10</td>\n",
       "      <td>3.468643</td>\n",
       "    </tr>\n",
       "    <tr>\n",
       "      <th>1</th>\n",
       "      <td>id_1</td>\n",
       "      <td>2000-04-07</td>\n",
       "      <td>3.016877</td>\n",
       "    </tr>\n",
       "    <tr>\n",
       "      <th>2</th>\n",
       "      <td>id_2</td>\n",
       "      <td>2000-06-16</td>\n",
       "      <td>2.815249</td>\n",
       "    </tr>\n",
       "    <tr>\n",
       "      <th>3</th>\n",
       "      <td>id_3</td>\n",
       "      <td>2000-08-30</td>\n",
       "      <td>4.048894</td>\n",
       "    </tr>\n",
       "    <tr>\n",
       "      <th>4</th>\n",
       "      <td>id_4</td>\n",
       "      <td>2001-01-08</td>\n",
       "      <td>3.524532</td>\n",
       "    </tr>\n",
       "  </tbody>\n",
       "</table>\n",
       "</div>"
      ],
      "text/plain": [
       "  unique_id         ds        lr\n",
       "0      id_0 2000-08-10  3.468643\n",
       "1      id_1 2000-04-07  3.016877\n",
       "2      id_2 2000-06-16  2.815249\n",
       "3      id_3 2000-08-30  4.048894\n",
       "4      id_4 2001-01-08  3.524532"
      ]
     },
     "execution_count": null,
     "metadata": {},
     "output_type": "execute_result"
    }
   ],
   "source": [
    "save_feats = SaveFeatures()\n",
    "preds = fcst.predict(1, before_predict_callback=save_feats)\n",
    "preds.head()"
   ]
  },
  {
   "cell_type": "markdown",
   "id": "bd823128-038e-417a-ba4f-2eb5888f8a27",
   "metadata": {},
   "source": [
    "You can now retrieve the features by using `SaveFeatures.get_features`"
   ]
  },
  {
   "cell_type": "code",
   "execution_count": null,
   "id": "ffa78923-572d-4aa9-8ea5-690a2f9bac55",
   "metadata": {},
   "outputs": [
    {
     "data": {
      "text/html": [
       "<div>\n",
       "<style scoped>\n",
       "    .dataframe tbody tr th:only-of-type {\n",
       "        vertical-align: middle;\n",
       "    }\n",
       "\n",
       "    .dataframe tbody tr th {\n",
       "        vertical-align: top;\n",
       "    }\n",
       "\n",
       "    .dataframe thead th {\n",
       "        text-align: right;\n",
       "    }\n",
       "</style>\n",
       "<table border=\"1\" class=\"dataframe\">\n",
       "  <thead>\n",
       "    <tr style=\"text-align: right;\">\n",
       "      <th></th>\n",
       "      <th>lag1</th>\n",
       "      <th>dayofweek</th>\n",
       "    </tr>\n",
       "  </thead>\n",
       "  <tbody>\n",
       "    <tr>\n",
       "      <th>0</th>\n",
       "      <td>4.343744</td>\n",
       "      <td>3</td>\n",
       "    </tr>\n",
       "    <tr>\n",
       "      <th>1</th>\n",
       "      <td>3.150799</td>\n",
       "      <td>4</td>\n",
       "    </tr>\n",
       "    <tr>\n",
       "      <th>2</th>\n",
       "      <td>2.137412</td>\n",
       "      <td>4</td>\n",
       "    </tr>\n",
       "    <tr>\n",
       "      <th>3</th>\n",
       "      <td>6.182456</td>\n",
       "      <td>2</td>\n",
       "    </tr>\n",
       "    <tr>\n",
       "      <th>4</th>\n",
       "      <td>1.391698</td>\n",
       "      <td>0</td>\n",
       "    </tr>\n",
       "  </tbody>\n",
       "</table>\n",
       "</div>"
      ],
      "text/plain": [
       "       lag1  dayofweek\n",
       "0  4.343744          3\n",
       "1  3.150799          4\n",
       "2  2.137412          4\n",
       "3  6.182456          2\n",
       "4  1.391698          0"
      ]
     },
     "execution_count": null,
     "metadata": {},
     "output_type": "execute_result"
    }
   ],
   "source": [
    "features = save_feats.get_features()\n",
    "features.head()"
   ]
  },
  {
   "cell_type": "markdown",
   "id": "a289251b-7f7f-491f-abe4-3be7757ff6bc",
   "metadata": {},
   "source": [
    "And use those features to compute the shap values."
   ]
  },
  {
   "cell_type": "code",
   "execution_count": null,
   "id": "169bb534-1027-44e3-a61b-4728070b26e1",
   "metadata": {},
   "outputs": [],
   "source": [
    "shap_values_predictions = explainer(features)"
   ]
  },
  {
   "cell_type": "markdown",
   "id": "cc1d22c9-a6a6-48cd-8909-c5f88b2f1dc9",
   "metadata": {},
   "source": [
    "We can now analyze what influenced the prediction for `'id_4'`."
   ]
  },
  {
   "cell_type": "code",
   "execution_count": null,
   "id": "d4e611a2-7bfb-439b-8079-3b4e7fd2bf2a",
   "metadata": {},
   "outputs": [
    {
     "data": {
      "text/plain": [
       "3.525"
      ]
     },
     "execution_count": null,
     "metadata": {},
     "output_type": "execute_result"
    }
   ],
   "source": [
    "round(preds.loc[4, 'lr'], 3)"
   ]
  },
  {
   "cell_type": "code",
   "execution_count": null,
   "id": "be7fc3dc-4fa8-4443-86ed-7ce9c37f69fc",
   "metadata": {},
   "outputs": [
    {
     "data": {
      "image/png": "[encoded data removed]",
      "text/plain": [
       "<Figure size 800x250 with 5 Axes>"
      ]
     },
     "metadata": {},
     "output_type": "display_data"
    }
   ],
   "source": [
    "shap.plots.waterfall(shap_values_predictions[4])"
   ]
  }
 ],
 "metadata": {
  "kernelspec": {
   "display_name": "python3",
   "language": "python",
   "name": "python3"
  }
 },
 "nbformat": 4,
 "nbformat_minor": 5
}
