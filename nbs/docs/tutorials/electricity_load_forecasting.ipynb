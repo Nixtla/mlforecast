{
 "cells": [
  {
   "cell_type": "markdown",
   "id": "9c569427-7998-4bc2-95a6-244a14c08a6e",
   "metadata": {},
   "source": [
    "# Electricity Load Forecast\n",
    "\n",
    "> In this example we will show how to perform electricity load forecasting using MLForecast alongside many models. We also compare them against the prophet library."
   ]
  },
  {
   "cell_type": "markdown",
   "id": "547e76e0-f7c6-4863-916c-7253754a7662",
   "metadata": {},
   "source": [
    "## Introduction"
   ]
  },
  {
   "cell_type": "markdown",
   "id": "5b458ee0-567f-423e-9792-b9fa5b5c2f4b",
   "metadata": {},
   "source": [
    "Some time series are generated from very low frequency data. These data generally exhibit multiple seasonalities. For example, hourly data may exhibit repeated patterns every hour (every 24 observations) or every day (every 24 * 7, hours per day, observations). This is the case for electricity load. Electricity load may vary hourly, e.g., during the evenings electricity consumption may be expected to increase. But also, the electricity load varies by week. Perhaps on weekends there is an increase in electrical activity.\n",
    "\n",
    "\n",
    "In this example we will show how to model the two seasonalities of the time series to generate accurate forecasts in a short time. We will use hourly PJM electricity load data. The original data can be found [here](https://www.kaggle.com/datasets/robikscube/hourly-energy-consumption). "
   ]
  },
  {
   "cell_type": "markdown",
   "id": "39064e8e-5777-4225-94fd-e9140b9f11f5",
   "metadata": {},
   "source": [
    "## Libraries"
   ]
  },
  {
   "cell_type": "markdown",
   "id": "581cbff1-5dd5-4d59-820d-3b4f07a20a44",
   "metadata": {},
   "source": [
    "In this example we will use the following libraries:\n",
    "\n",
    "\n",
    "- [`mlforecast`](https://nixtla.github.io/mlforecast/). Accurate and ⚡️ fast forecasting withc lassical machine learning models. \n",
    "- [`prophet`](https://github.com/facebook/prophet). Benchmark model developed by Facebook.\n",
    "- [`utilsforecast`](https://nixtla.github.io/utilsforecast/). Library with different functions for forecasting evaluation."
   ]
  },
  {
   "cell_type": "markdown",
   "id": "63fc6a96",
   "metadata": {},
   "source": [
    "If you have already installed the libraries you can skip the next  cell, if not be sure to run it."
   ]
  },
  {
   "cell_type": "code",
   "execution_count": null,
   "id": "431f3456-7830-466b-82ca-bd001930d1b2",
   "metadata": {},
   "outputs": [],
   "source": [
    "# %%capture\n",
    "# !pip install prophet\n",
    "# !pip install -U mlforecast\n",
    "# !pip install -U utilsforecast"
   ]
  },
  {
   "cell_type": "markdown",
   "id": "ddb91c9c-6b6d-4dcc-8d88-7ff2ba1d3c9b",
   "metadata": {},
   "source": [
    "## Forecast using Multiple Seasonalities"
   ]
  },
  {
   "cell_type": "markdown",
   "id": "55c39b16-c941-49c7-9d9d-b6e4c200327d",
   "metadata": {},
   "source": [
    "### Electricity Load Data"
   ]
  },
  {
   "cell_type": "markdown",
   "id": "ff4428e4-2613-4a2a-b21c-15cb63bad1c3",
   "metadata": {},
   "source": [
    "According to the [dataset's page](https://www.kaggle.com/datasets/robikscube/hourly-energy-consumption),\n",
    "\n",
    "> PJM Interconnection LLC (PJM) is a regional transmission organization (RTO) in the United States. It is part of the Eastern Interconnection grid operating an electric transmission system serving all or parts of Delaware, Illinois, Indiana, Kentucky, Maryland, Michigan, New Jersey, North Carolina, Ohio, Pennsylvania, Tennessee, Virginia, West Virginia, and the District of Columbia. The hourly power consumption data comes from PJM's website and are in megawatts (MW)."
   ]
  },
  {
   "cell_type": "markdown",
   "id": "843e747f-b2f9-4f29-8a67-849269b8db38",
   "metadata": {},
   "source": [
    "Let's take a look to the data."
   ]
  },
  {
   "cell_type": "code",
   "execution_count": null,
   "id": "96f6bd39-09df-40e9-9567-d43ccb384b2f",
   "metadata": {},
   "outputs": [],
   "source": [
    "import matplotlib.pyplot as plt\n",
    "import numpy as np\n",
    "import pandas as pd\n",
    "from utilsforecast.plotting import plot_series"
   ]
  },
  {
   "cell_type": "code",
   "execution_count": null,
   "id": "3322f3e9-34db-4572-a678-e5598e8de026",
   "metadata": {},
   "outputs": [],
   "source": [
    "pd.plotting.register_matplotlib_converters()\n",
    "plt.rc(\"figure\", figsize=(10, 8))\n",
    "plt.rc(\"font\", size=10)"
   ]
  },
  {
   "cell_type": "code",
   "execution_count": null,
   "id": "8f608bc8-99e3-4e91-9141-682f9f0c1559",
   "metadata": {},
   "outputs": [
    {
     "name": "stdout",
     "output_type": "stream",
     "text": [
      "Shape of the data (32896, 3)\n"
     ]
    },
    {
     "data": {
      "text/html": [
       "<div>\n",
       "<style scoped>\n",
       "    .dataframe tbody tr th:only-of-type {\n",
       "        vertical-align: middle;\n",
       "    }\n",
       "\n",
       "    .dataframe tbody tr th {\n",
       "        vertical-align: top;\n",
       "    }\n",
       "\n",
       "    .dataframe thead th {\n",
       "        text-align: right;\n",
       "    }\n",
       "</style>\n",
       "<table border=\"1\" class=\"dataframe\">\n",
       "  <thead>\n",
       "    <tr style=\"text-align: right;\">\n",
       "      <th></th>\n",
       "      <th>unique_id</th>\n",
       "      <th>ds</th>\n",
       "      <th>y</th>\n",
       "    </tr>\n",
       "  </thead>\n",
       "  <tbody>\n",
       "    <tr>\n",
       "      <th>32891</th>\n",
       "      <td>PJM_Load_hourly</td>\n",
       "      <td>2001-12-31 20:00:00</td>\n",
       "      <td>36392.0</td>\n",
       "    </tr>\n",
       "    <tr>\n",
       "      <th>32892</th>\n",
       "      <td>PJM_Load_hourly</td>\n",
       "      <td>2001-12-31 21:00:00</td>\n",
       "      <td>35082.0</td>\n",
       "    </tr>\n",
       "    <tr>\n",
       "      <th>32893</th>\n",
       "      <td>PJM_Load_hourly</td>\n",
       "      <td>2001-12-31 22:00:00</td>\n",
       "      <td>33890.0</td>\n",
       "    </tr>\n",
       "    <tr>\n",
       "      <th>32894</th>\n",
       "      <td>PJM_Load_hourly</td>\n",
       "      <td>2001-12-31 23:00:00</td>\n",
       "      <td>32590.0</td>\n",
       "    </tr>\n",
       "    <tr>\n",
       "      <th>32895</th>\n",
       "      <td>PJM_Load_hourly</td>\n",
       "      <td>2002-01-01 00:00:00</td>\n",
       "      <td>31569.0</td>\n",
       "    </tr>\n",
       "  </tbody>\n",
       "</table>\n",
       "</div>"
      ],
      "text/plain": [
       "             unique_id                  ds        y\n",
       "32891  PJM_Load_hourly 2001-12-31 20:00:00  36392.0\n",
       "32892  PJM_Load_hourly 2001-12-31 21:00:00  35082.0\n",
       "32893  PJM_Load_hourly 2001-12-31 22:00:00  33890.0\n",
       "32894  PJM_Load_hourly 2001-12-31 23:00:00  32590.0\n",
       "32895  PJM_Load_hourly 2002-01-01 00:00:00  31569.0"
      ]
     },
     "execution_count": null,
     "metadata": {},
     "output_type": "execute_result"
    }
   ],
   "source": [
    "data_url = 'https://raw.githubusercontent.com/panambY/Hourly_Energy_Consumption/master/data/PJM_Load_hourly.csv'\n",
    "df = pd.read_csv(data_url, parse_dates=['Datetime'])\n",
    "df.columns = ['ds', 'y']\n",
    "df.insert(0, 'unique_id', 'PJM_Load_hourly')\n",
    "df['ds'] = pd.to_datetime(df['ds'])\n",
    "df = df.sort_values(['unique_id', 'ds']).reset_index(drop=True)\n",
    "print(f'Shape of the data {df.shape}')\n",
    "df.tail()"
   ]
  },
  {
   "cell_type": "code",
   "execution_count": null,
   "id": "ce499880-9c5a-40f4-abae-4c30832d87a7",
   "metadata": {},
   "outputs": [],
   "source": [
    "fig = plot_series(df)"
   ]
  },
  {
   "cell_type": "code",
   "execution_count": null,
   "id": "fa8d1102-f001-47ed-9c4d-e4748da5f589",
   "metadata": {},
   "outputs": [],
   "source": [
    "#| hide\n",
    "fig.savefig('../../figs/load_forecasting__raw.png', bbox_inches='tight')"
   ]
  },
  {
   "cell_type": "markdown",
   "id": "75abded2-5ddd-481b-a960-052cc0daf4f9",
   "metadata": {},
   "source": [
    "![](../../figs/load_forecasting__raw.png)"
   ]
  },
  {
   "cell_type": "markdown",
   "id": "67d1894d-8147-4ad0-ab56-3786cf10ecd7",
   "metadata": {},
   "source": [
    "We clearly observe that the time series exhibits seasonal patterns. Moreover, the time series contains `32,896` observations, so it is necessary to use very computationally efficient methods to display them in production."
   ]
  },
  {
   "cell_type": "markdown",
   "id": "691fbf90",
   "metadata": {},
   "source": [
    "We are going to split our series in order to create a train and test set. The model will be tested using the last 24 hours of the timeseries."
   ]
  },
  {
   "cell_type": "code",
   "execution_count": null,
   "id": "0b8ae5f4",
   "metadata": {},
   "outputs": [],
   "source": [
    "threshold_time = df['ds'].max() - pd.Timedelta(hours=24)\n",
    "\n",
    "# Split the dataframe\n",
    "df_train = df[df['ds'] <= threshold_time]\n",
    "df_last_24_hours = df[df['ds'] > threshold_time]"
   ]
  },
  {
   "cell_type": "markdown",
   "id": "ddb91e54",
   "metadata": {},
   "source": [
    "### Analizing Seasonalities"
   ]
  },
  {
   "cell_type": "markdown",
   "id": "b70187a5",
   "metadata": {},
   "source": [
    "First we must visualize the seasonalities of the model. As mentioned before, the electricity load presents seasonalities every 24 hours (Hourly) and every 24 * 7 (Daily) hours. Therefore, we will use `[24, 24 * 7]` as the seasonalities for the model. In order to analize how they affect our series we are going to use the `Difference` method."
   ]
  },
  {
   "cell_type": "code",
   "execution_count": null,
   "id": "bc0f1f79",
   "metadata": {},
   "outputs": [],
   "source": [
    "from mlforecast import MLForecast\n",
    "from mlforecast.target_transforms import Differences"
   ]
  },
  {
   "cell_type": "markdown",
   "id": "200eced3",
   "metadata": {},
   "source": [
    "We can use the `MLForecast.preprocess` method to explore different transformations. It looks like these series have a strong seasonality on the hour of the day, so we can subtract the value from the same hour in the previous day to remove it. This can be done with the `mlforecast.target_transforms.Differences` transformer, which we pass through `target_transforms`.  \n",
    "  "
   ]
  },
  {
   "cell_type": "markdown",
   "id": "3f93b411",
   "metadata": {},
   "source": [
    "In order to analize the trends individually and combined we are going to plot them individually and combined. Therefore, we can compare them against the original series. We can use the next function for that."
   ]
  },
  {
   "cell_type": "code",
   "execution_count": null,
   "id": "0a603fa8",
   "metadata": {},
   "outputs": [],
   "source": [
    "def plot_differences(df, differences,fname):\n",
    "    prep = [df]\n",
    "    # Plot individual Differences\n",
    "    for d in differences:\n",
    "        fcst = MLForecast(\n",
    "        models=[],  # we're not interested in modeling yet\n",
    "        freq='H',  # our series have hourly frequency \n",
    "        target_transforms=[Differences([d])],\n",
    "        )\n",
    "        df_ = fcst.preprocess(df)\n",
    "        df_['unique_id'] = df_['unique_id'] + f'_{d}'\n",
    "        prep.append(df_)\n",
    "        \n",
    "    # Plot combined Differences\n",
    "    fcst = MLForecast(\n",
    "    models=[],  # we're not interested in modeling yet\n",
    "    freq='H',  # our series have hourly frequency \n",
    "    target_transforms=[Differences([24, 24*7])],\n",
    "    )\n",
    "    df_ = fcst.preprocess(df)\n",
    "    df_['unique_id'] = df_['unique_id'] + f'_all_diff'\n",
    "    prep.append(df_)\n",
    "    prep = pd.concat(prep, ignore_index=True)\n",
    "    #return prep\n",
    "    n_series = len(prep['unique_id'].unique())\n",
    "    fig, ax = plt.subplots(nrows=n_series, figsize=(7 * n_series, 10*n_series), squeeze=False)\n",
    "    for title, axi in zip(prep['unique_id'].unique(), ax.flat):\n",
    "        df_ = prep[prep['unique_id'] == title]\n",
    "        df_.set_index('ds')['y'].plot(title=title, ax=axi)\n",
    "    fig.savefig(f'../../figs/{fname}', bbox_inches='tight')\n",
    "    plt.close()"
   ]
  },
  {
   "cell_type": "markdown",
   "id": "3641886c",
   "metadata": {},
   "source": [
    "Since the seasonalities are present at `24` hours (daily) and `24*7` (weekly) we are going to substract them from the serie using `Differences([24, 24*7])` and plot them."
   ]
  },
  {
   "cell_type": "code",
   "execution_count": null,
   "id": "6ec95a2c",
   "metadata": {},
   "outputs": [],
   "source": [
    "plot_differences(df=df_train, differences=[24, 24*7], fname='load_forecasting__differences.png')"
   ]
  },
  {
   "cell_type": "markdown",
   "id": "af9f562f-905f-48f2-ad1c-24d4df730b39",
   "metadata": {},
   "source": [
    "![](../../figs/load_forecasting__differences.png)"
   ]
  },
  {
   "cell_type": "markdown",
   "id": "72457e5e",
   "metadata": {},
   "source": [
    "As we can see when we extract the 24 difference (daily) in `PJM_Load_hourly_24` the series seem to stabilize sisnce the peaks seem more uniform in comparison with the original series `PJM_Load_hourly`.\n",
    "\n",
    "When we extrac the 24*7 (weekly) `PJM_Load_hourly_168` difference we can see there is more periodicity in the peaks in comparison with the original series.    \n",
    "\n",
    "Finally we can see the result from the combined result from substracting all the differences `PJM_Load_hourly_all_diff`."
   ]
  },
  {
   "cell_type": "markdown",
   "id": "0a663442",
   "metadata": {},
   "source": [
    "For modeling we are going to use both difference for the forecasting, therefore we are setting the argument `target_transforms` from the `MLForecast` object equal to `[Differences([24, 24*7])]`, if we wanted to include a yearly difference we would need to add the term `24*365`."
   ]
  },
  {
   "cell_type": "code",
   "execution_count": null,
   "id": "e0b32556",
   "metadata": {},
   "outputs": [
    {
     "data": {
      "text/html": [
       "<div>\n",
       "<style scoped>\n",
       "    .dataframe tbody tr th:only-of-type {\n",
       "        vertical-align: middle;\n",
       "    }\n",
       "\n",
       "    .dataframe tbody tr th {\n",
       "        vertical-align: top;\n",
       "    }\n",
       "\n",
       "    .dataframe thead th {\n",
       "        text-align: right;\n",
       "    }\n",
       "</style>\n",
       "<table border=\"1\" class=\"dataframe\">\n",
       "  <thead>\n",
       "    <tr style=\"text-align: right;\">\n",
       "      <th></th>\n",
       "      <th>unique_id</th>\n",
       "      <th>ds</th>\n",
       "      <th>y</th>\n",
       "    </tr>\n",
       "  </thead>\n",
       "  <tbody>\n",
       "    <tr>\n",
       "      <th>192</th>\n",
       "      <td>PJM_Load_hourly</td>\n",
       "      <td>1998-04-09 02:00:00</td>\n",
       "      <td>831.0</td>\n",
       "    </tr>\n",
       "    <tr>\n",
       "      <th>193</th>\n",
       "      <td>PJM_Load_hourly</td>\n",
       "      <td>1998-04-09 03:00:00</td>\n",
       "      <td>918.0</td>\n",
       "    </tr>\n",
       "    <tr>\n",
       "      <th>194</th>\n",
       "      <td>PJM_Load_hourly</td>\n",
       "      <td>1998-04-09 04:00:00</td>\n",
       "      <td>760.0</td>\n",
       "    </tr>\n",
       "    <tr>\n",
       "      <th>195</th>\n",
       "      <td>PJM_Load_hourly</td>\n",
       "      <td>1998-04-09 05:00:00</td>\n",
       "      <td>849.0</td>\n",
       "    </tr>\n",
       "    <tr>\n",
       "      <th>196</th>\n",
       "      <td>PJM_Load_hourly</td>\n",
       "      <td>1998-04-09 06:00:00</td>\n",
       "      <td>710.0</td>\n",
       "    </tr>\n",
       "    <tr>\n",
       "      <th>...</th>\n",
       "      <td>...</td>\n",
       "      <td>...</td>\n",
       "      <td>...</td>\n",
       "    </tr>\n",
       "    <tr>\n",
       "      <th>32867</th>\n",
       "      <td>PJM_Load_hourly</td>\n",
       "      <td>2001-12-30 20:00:00</td>\n",
       "      <td>3417.0</td>\n",
       "    </tr>\n",
       "    <tr>\n",
       "      <th>32868</th>\n",
       "      <td>PJM_Load_hourly</td>\n",
       "      <td>2001-12-30 21:00:00</td>\n",
       "      <td>3596.0</td>\n",
       "    </tr>\n",
       "    <tr>\n",
       "      <th>32869</th>\n",
       "      <td>PJM_Load_hourly</td>\n",
       "      <td>2001-12-30 22:00:00</td>\n",
       "      <td>3501.0</td>\n",
       "    </tr>\n",
       "    <tr>\n",
       "      <th>32870</th>\n",
       "      <td>PJM_Load_hourly</td>\n",
       "      <td>2001-12-30 23:00:00</td>\n",
       "      <td>3939.0</td>\n",
       "    </tr>\n",
       "    <tr>\n",
       "      <th>32871</th>\n",
       "      <td>PJM_Load_hourly</td>\n",
       "      <td>2001-12-31 00:00:00</td>\n",
       "      <td>4235.0</td>\n",
       "    </tr>\n",
       "  </tbody>\n",
       "</table>\n",
       "<p>32680 rows × 3 columns</p>\n",
       "</div>"
      ],
      "text/plain": [
       "             unique_id                  ds       y\n",
       "192    PJM_Load_hourly 1998-04-09 02:00:00   831.0\n",
       "193    PJM_Load_hourly 1998-04-09 03:00:00   918.0\n",
       "194    PJM_Load_hourly 1998-04-09 04:00:00   760.0\n",
       "195    PJM_Load_hourly 1998-04-09 05:00:00   849.0\n",
       "196    PJM_Load_hourly 1998-04-09 06:00:00   710.0\n",
       "...                ...                 ...     ...\n",
       "32867  PJM_Load_hourly 2001-12-30 20:00:00  3417.0\n",
       "32868  PJM_Load_hourly 2001-12-30 21:00:00  3596.0\n",
       "32869  PJM_Load_hourly 2001-12-30 22:00:00  3501.0\n",
       "32870  PJM_Load_hourly 2001-12-30 23:00:00  3939.0\n",
       "32871  PJM_Load_hourly 2001-12-31 00:00:00  4235.0\n",
       "\n",
       "[32680 rows x 3 columns]"
      ]
     },
     "execution_count": null,
     "metadata": {},
     "output_type": "execute_result"
    }
   ],
   "source": [
    "fcst = MLForecast(\n",
    "    models=[],  # we're not interested in modeling yet\n",
    "    freq='H',  # our series have hourly frequency \n",
    "    target_transforms=[Differences([24, 24*7])],\n",
    ")\n",
    "prep = fcst.preprocess(df_train)\n",
    "prep"
   ]
  },
  {
   "cell_type": "code",
   "execution_count": null,
   "id": "81e88f8c-73cf-4cbf-a14b-bd258ce9bb25",
   "metadata": {},
   "outputs": [],
   "source": [
    "fig = plot_series(prep)"
   ]
  },
  {
   "cell_type": "code",
   "execution_count": null,
   "id": "fcd782ff-eb0f-4abf-be5f-d3876affa070",
   "metadata": {},
   "outputs": [],
   "source": [
    "#| hide\n",
    "fig.savefig('../../figs/load_forecasting__transformed.png', bbox_inches='tight')"
   ]
  },
  {
   "cell_type": "markdown",
   "id": "4c759b89-bf05-4b06-8464-29eb1a974941",
   "metadata": {},
   "source": [
    "![](../../figs/load_forecasting__transformed.png)"
   ]
  },
  {
   "cell_type": "markdown",
   "id": "d8957314",
   "metadata": {},
   "source": [
    "### Model Selection with Cross-Validation"
   ]
  },
  {
   "cell_type": "markdown",
   "id": "c025aca7",
   "metadata": {},
   "source": [
    "We can test many models simoultaneously using MLForecast `cross_validation`. We can import `lightgbm` and `scikit-learn` models and try different combinations of them, alongside different target transformations (as the ones we created previously) and historical variables.  \n",
    "You can see an in-depth tutorial on how to use `MLForecast` [Cross Validation methods here](https://nixtla.github.io/mlforecast/docs/cross_validation.html)"
   ]
  },
  {
   "cell_type": "code",
   "execution_count": null,
   "id": "eab1dfc3",
   "metadata": {},
   "outputs": [],
   "source": [
    "import lightgbm as lgb\n",
    "from mlforecast.target_transforms import Differences\n",
    "from window_ops.expanding import expanding_mean\n",
    "from window_ops.rolling import rolling_mean\n",
    "\n",
    "from sklearn.base import BaseEstimator\n",
    "from sklearn.linear_model import Lasso, LinearRegression, Ridge\n",
    "from sklearn.neighbors import KNeighborsRegressor\n",
    "from sklearn.neural_network import MLPRegressor\n",
    "from sklearn.ensemble import RandomForestRegressor"
   ]
  },
  {
   "cell_type": "markdown",
   "id": "b1a83279",
   "metadata": {},
   "source": [
    "We can create a benchmark `Naive` model that uses the electricity load of the last hour as prediction `lag1` as showed in the next cell. You can create your own models and try them with `MLForecast` using the same structure."
   ]
  },
  {
   "cell_type": "code",
   "execution_count": null,
   "id": "07317b79",
   "metadata": {},
   "outputs": [],
   "source": [
    "class Naive(BaseEstimator):\n",
    "    def fit(self, X, y):\n",
    "        return self\n",
    "\n",
    "    def predict(self, X):\n",
    "        return X['lag1']"
   ]
  },
  {
   "cell_type": "markdown",
   "id": "f31939da",
   "metadata": {},
   "source": [
    "Now let's try differen models from the `scikit-learn` library: `Lasso`, `LinearRegression`, `Ridge`, `KNN`, `MLP` and `Random Forest` alongside the `LightGBM`. You can add any model to the dictionary to train and compare them by adding them to the dictionary (`models`) as shown."
   ]
  },
  {
   "cell_type": "code",
   "execution_count": null,
   "id": "f9d6f0d2",
   "metadata": {},
   "outputs": [],
   "source": [
    "# Model dictionary\n",
    "models ={\n",
    "        'naive': Naive(),\n",
    "        'lgbm': lgb.LGBMRegressor(verbosity=-1),\n",
    "        'lasso': Lasso(),\n",
    "        'lin_reg': LinearRegression(),\n",
    "        'ridge': Ridge(),\n",
    "        'knn': KNeighborsRegressor(),\n",
    "        'mlp': MLPRegressor(), \n",
    "        'rf': RandomForestRegressor()\n",
    "    }\n"
   ]
  },
  {
   "cell_type": "markdown",
   "id": "1decef0a",
   "metadata": {},
   "source": [
    "The we can instanciate the `MLForecast` class with the models we want to try along side `target_transforms`, `lags`, `lag_transforms`, and `date_features`.  All this features are applied to the models we selected.\n"
   ]
  },
  {
   "cell_type": "markdown",
   "id": "4d60ce7d",
   "metadata": {},
   "source": [
    "In this case we use the 1st, 12th and 24th lag, which are passed as a list. Potentially you could pass a `range`.\n",
    "```\n",
    "lags=[1,12,24]\n",
    "```"
   ]
  },
  {
   "cell_type": "markdown",
   "id": "00802906",
   "metadata": {},
   "source": [
    "\n",
    "Lag transforms are defined as a dictionary where the keys are the lags and the values are lists of functions that transform an array. These must be [numba](http://numba.pydata.org/) jitted functions (so that computing the features doesn’t become a bottleneck). There are some implemented in the [window-ops](https://github.com/jmoralez/window_ops) package but you can also implement your own.  \n",
    "For this example we applied an expanding mean to the first lag, and a rolling mean to the 24th lag.  \n",
    "```\n",
    "    lag_transforms={  \n",
    "            1: [expanding_mean],\n",
    "            24: [(rolling_mean, 48)],\n",
    "        }\n",
    "```"
   ]
  },
  {
   "cell_type": "markdown",
   "id": "af2bd17d",
   "metadata": {},
   "source": [
    "For using the date features you need to be sure that your time column is made of timestamps. Then it might make sense to extract features like week, dayofweek, quarter, etc. You can do that by passing a list of strings with [pandas time/date components](https://pandas.pydata.org/docs/user_guide/timeseries.html#time-date-components). You can also pass functions that will take the time column as input, as we’ll show here.  \n",
    "Here we add month, hour and dayofweek features:\n",
    "```\n",
    "    date_features=['month', 'hour', 'dayofweek']\n",
    "\n",
    "```"
   ]
  },
  {
   "cell_type": "code",
   "execution_count": null,
   "id": "1c1d1935",
   "metadata": {},
   "outputs": [],
   "source": [
    "mlf = MLForecast(\n",
    "    models = models, \n",
    "    freq='H',  # our series have hourly frequency \n",
    "    target_transforms=[Differences([24, 24*7])],\n",
    "    lags=[1,12,24], # Lags to be used as features\n",
    "    lag_transforms={  \n",
    "        1: [expanding_mean],\n",
    "        24: [(rolling_mean, 48)],\n",
    "    },\n",
    "    date_features=['month', 'hour', 'dayofweek']\n",
    ")\n"
   ]
  },
  {
   "cell_type": "markdown",
   "id": "28253bd1",
   "metadata": {},
   "source": [
    "Now we use the `cross_validation` method to train and evalaute the models.\n",
    "+ `df`: Receives the training data\n",
    "+ `h`: Forecast horizon\n",
    "+ `n_windows`: The number of folds we want to predict  \n",
    "  \n",
    "You can specify the names of the time series id, time and target columns.\n",
    "+ `id_col`:Column that identifies each serie ( Default *unique_id* )\n",
    "+ `time_col`: Column that identifies each timestep, its values can be timestamps or integer( Default *ds* )\n",
    "+ `target_col`:Column that contains the target ( Default *y* )"
   ]
  },
  {
   "cell_type": "code",
   "execution_count": null,
   "id": "6302ad71",
   "metadata": {},
   "outputs": [
    {
     "data": {
      "text/html": [
       "<div>\n",
       "<style scoped>\n",
       "    .dataframe tbody tr th:only-of-type {\n",
       "        vertical-align: middle;\n",
       "    }\n",
       "\n",
       "    .dataframe tbody tr th {\n",
       "        vertical-align: top;\n",
       "    }\n",
       "\n",
       "    .dataframe thead th {\n",
       "        text-align: right;\n",
       "    }\n",
       "</style>\n",
       "<table border=\"1\" class=\"dataframe\">\n",
       "  <thead>\n",
       "    <tr style=\"text-align: right;\">\n",
       "      <th></th>\n",
       "      <th>unique_id</th>\n",
       "      <th>ds</th>\n",
       "      <th>cutoff</th>\n",
       "      <th>y</th>\n",
       "      <th>naive</th>\n",
       "      <th>lgbm</th>\n",
       "      <th>lasso</th>\n",
       "      <th>lin_reg</th>\n",
       "      <th>ridge</th>\n",
       "      <th>knn</th>\n",
       "      <th>mlp</th>\n",
       "      <th>rf</th>\n",
       "    </tr>\n",
       "  </thead>\n",
       "  <tbody>\n",
       "    <tr>\n",
       "      <th>0</th>\n",
       "      <td>PJM_Load_hourly</td>\n",
       "      <td>2001-12-27 01:00:00</td>\n",
       "      <td>2001-12-27</td>\n",
       "      <td>28332.0</td>\n",
       "      <td>28837.0</td>\n",
       "      <td>28526.505572</td>\n",
       "      <td>28703.185712</td>\n",
       "      <td>28702.625949</td>\n",
       "      <td>28702.625956</td>\n",
       "      <td>28479.0</td>\n",
       "      <td>28834.839479</td>\n",
       "      <td>28277.94</td>\n",
       "    </tr>\n",
       "    <tr>\n",
       "      <th>1</th>\n",
       "      <td>PJM_Load_hourly</td>\n",
       "      <td>2001-12-27 02:00:00</td>\n",
       "      <td>2001-12-27</td>\n",
       "      <td>27329.0</td>\n",
       "      <td>27969.0</td>\n",
       "      <td>27467.860847</td>\n",
       "      <td>27693.502318</td>\n",
       "      <td>27692.395954</td>\n",
       "      <td>27692.395969</td>\n",
       "      <td>27521.6</td>\n",
       "      <td>27940.414699</td>\n",
       "      <td>27307.90</td>\n",
       "    </tr>\n",
       "    <tr>\n",
       "      <th>2</th>\n",
       "      <td>PJM_Load_hourly</td>\n",
       "      <td>2001-12-27 03:00:00</td>\n",
       "      <td>2001-12-27</td>\n",
       "      <td>26986.0</td>\n",
       "      <td>27435.0</td>\n",
       "      <td>26605.710615</td>\n",
       "      <td>26991.795124</td>\n",
       "      <td>26990.157567</td>\n",
       "      <td>26990.157589</td>\n",
       "      <td>26451.6</td>\n",
       "      <td>27370.170779</td>\n",
       "      <td>26599.23</td>\n",
       "    </tr>\n",
       "    <tr>\n",
       "      <th>3</th>\n",
       "      <td>PJM_Load_hourly</td>\n",
       "      <td>2001-12-27 04:00:00</td>\n",
       "      <td>2001-12-27</td>\n",
       "      <td>27009.0</td>\n",
       "      <td>27401.0</td>\n",
       "      <td>26284.065138</td>\n",
       "      <td>26789.418399</td>\n",
       "      <td>26787.262262</td>\n",
       "      <td>26787.262291</td>\n",
       "      <td>26388.4</td>\n",
       "      <td>27294.232077</td>\n",
       "      <td>26366.54</td>\n",
       "    </tr>\n",
       "    <tr>\n",
       "      <th>4</th>\n",
       "      <td>PJM_Load_hourly</td>\n",
       "      <td>2001-12-27 05:00:00</td>\n",
       "      <td>2001-12-27</td>\n",
       "      <td>27555.0</td>\n",
       "      <td>28169.0</td>\n",
       "      <td>26823.617078</td>\n",
       "      <td>27369.643789</td>\n",
       "      <td>27366.983075</td>\n",
       "      <td>27366.983111</td>\n",
       "      <td>26779.6</td>\n",
       "      <td>28014.090505</td>\n",
       "      <td>27095.55</td>\n",
       "    </tr>\n",
       "  </tbody>\n",
       "</table>\n",
       "</div>"
      ],
      "text/plain": [
       "         unique_id                  ds     cutoff        y    naive  \\\n",
       "0  PJM_Load_hourly 2001-12-27 01:00:00 2001-12-27  28332.0  28837.0   \n",
       "1  PJM_Load_hourly 2001-12-27 02:00:00 2001-12-27  27329.0  27969.0   \n",
       "2  PJM_Load_hourly 2001-12-27 03:00:00 2001-12-27  26986.0  27435.0   \n",
       "3  PJM_Load_hourly 2001-12-27 04:00:00 2001-12-27  27009.0  27401.0   \n",
       "4  PJM_Load_hourly 2001-12-27 05:00:00 2001-12-27  27555.0  28169.0   \n",
       "\n",
       "           lgbm         lasso       lin_reg         ridge      knn  \\\n",
       "0  28526.505572  28703.185712  28702.625949  28702.625956  28479.0   \n",
       "1  27467.860847  27693.502318  27692.395954  27692.395969  27521.6   \n",
       "2  26605.710615  26991.795124  26990.157567  26990.157589  26451.6   \n",
       "3  26284.065138  26789.418399  26787.262262  26787.262291  26388.4   \n",
       "4  26823.617078  27369.643789  27366.983075  27366.983111  26779.6   \n",
       "\n",
       "            mlp        rf  \n",
       "0  28834.839479  28277.94  \n",
       "1  27940.414699  27307.90  \n",
       "2  27370.170779  26599.23  \n",
       "3  27294.232077  26366.54  \n",
       "4  28014.090505  27095.55  "
      ]
     },
     "execution_count": null,
     "metadata": {},
     "output_type": "execute_result"
    }
   ],
   "source": [
    "crossvalidation_df = mlf.cross_validation(\n",
    "    df=df_train,\n",
    "    h=24,\n",
    "    n_windows=4,\n",
    "    refit=False,\n",
    ")\n",
    "crossvalidation_df.head()"
   ]
  },
  {
   "cell_type": "markdown",
   "id": "951db00f",
   "metadata": {},
   "source": [
    "Now we can plot each model and window (fold) to see how it behaves"
   ]
  },
  {
   "cell_type": "code",
   "execution_count": null,
   "id": "3e308618",
   "metadata": {},
   "outputs": [],
   "source": [
    "def plot_cv(df, df_cv, uid, fname, last_n=24 * 14, models={}):\n",
    "    cutoffs = df_cv.query('unique_id == @uid')['cutoff'].unique()\n",
    "    fig, ax = plt.subplots(nrows=len(cutoffs), ncols=1, figsize=(14, 14), gridspec_kw=dict(hspace=0.8))\n",
    "    for cutoff, axi in zip(cutoffs, ax.flat):\n",
    "        max_date = df_cv.query('unique_id == @uid & cutoff == @cutoff')['ds'].max()\n",
    "        df[df['ds'] < max_date].query('unique_id == @uid').tail(last_n).set_index('ds').plot(ax=axi, title=uid, y='y')\n",
    "        for m in models.keys():\n",
    "            df_cv.query('unique_id == @uid & cutoff == @cutoff').set_index('ds').plot(ax=axi, title=uid, y=m)          \n",
    "    fig.savefig(f'../../figs/{fname}', bbox_inches='tight')\n",
    "    plt.close()"
   ]
  },
  {
   "cell_type": "code",
   "execution_count": null,
   "id": "8ed73005",
   "metadata": {},
   "outputs": [],
   "source": [
    "plot_cv(df_train, crossvalidation_df, 'PJM_Load_hourly', 'load_forecasting__predictions.png', models=models)"
   ]
  },
  {
   "cell_type": "markdown",
   "id": "b83c5995-229a-4d30-99ce-cf8f9548b9df",
   "metadata": {},
   "source": [
    "![](../../figs/load_forecasting__predictions.png)"
   ]
  },
  {
   "cell_type": "markdown",
   "id": "716795f2",
   "metadata": {},
   "source": [
    "Visually examining the forecasts can give us some idea of how the model is behaving, yet in order to asses the performace we need to evaluate them trough metrics. For that we use the [utilsforecast](https://nixtla.github.io/utilsforecast/) library that contains many useful metrics and an evaluate function."
   ]
  },
  {
   "cell_type": "code",
   "execution_count": null,
   "id": "9699e142",
   "metadata": {},
   "outputs": [],
   "source": [
    "from utilsforecast.losses import *\n",
    "from utilsforecast.evaluation import evaluate"
   ]
  },
  {
   "cell_type": "code",
   "execution_count": null,
   "id": "8aeef08d",
   "metadata": {},
   "outputs": [],
   "source": [
    "# Metrics to be used for evaluation\n",
    "metrics = [\n",
    "    mae,\n",
    "    rmse,\n",
    "    mape,\n",
    "    smape\n",
    "    ]"
   ]
  },
  {
   "cell_type": "code",
   "execution_count": null,
   "id": "b15339e9",
   "metadata": {},
   "outputs": [],
   "source": [
    "# Function to evaluate the crossvalidation\n",
    "def evaluate_crossvalidation(crossvalidation_df, metrics, models):\n",
    "    evaluations = []\n",
    "    for c in crossvalidation_df['cutoff'].unique():\n",
    "        df_cv = crossvalidation_df.query('cutoff == @c')\n",
    "        evaluation = evaluate(\n",
    "            df = df_cv,\n",
    "            metrics=metrics,\n",
    "            models=list(models.keys())\n",
    "            )\n",
    "        evaluations.append(evaluation)\n",
    "    evaluations = pd.concat(evaluations, ignore_index=True).drop(columns='unique_id')\n",
    "    evaluations = evaluations.groupby('metric').mean()\n",
    "    return evaluations.style.background_gradient(cmap='RdYlGn_r', axis=1)\n"
   ]
  },
  {
   "cell_type": "code",
   "execution_count": null,
   "id": "49d77b81",
   "metadata": {},
   "outputs": [
    {
     "data": {
      "text/html": [
       "<style type=\"text/css\">\n",
       "#T_5cb77_row0_col0, #T_5cb77_row1_col0, #T_5cb77_row2_col0, #T_5cb77_row3_col0 {\n",
       "  background-color: #a50026;\n",
       "  color: #f1f1f1;\n",
       "}\n",
       "#T_5cb77_row0_col1, #T_5cb77_row1_col1, #T_5cb77_row2_col1, #T_5cb77_row3_col1 {\n",
       "  background-color: #006837;\n",
       "  color: #f1f1f1;\n",
       "}\n",
       "#T_5cb77_row0_col2, #T_5cb77_row1_col3, #T_5cb77_row1_col4, #T_5cb77_row3_col3, #T_5cb77_row3_col4 {\n",
       "  background-color: #0c7f43;\n",
       "  color: #f1f1f1;\n",
       "}\n",
       "#T_5cb77_row0_col3, #T_5cb77_row0_col4 {\n",
       "  background-color: #0e8245;\n",
       "  color: #f1f1f1;\n",
       "}\n",
       "#T_5cb77_row0_col5 {\n",
       "  background-color: #e0f295;\n",
       "  color: #000000;\n",
       "}\n",
       "#T_5cb77_row0_col6, #T_5cb77_row2_col6 {\n",
       "  background-color: #ecf7a6;\n",
       "  color: #000000;\n",
       "}\n",
       "#T_5cb77_row0_col7, #T_5cb77_row2_col7, #T_5cb77_row3_col7 {\n",
       "  background-color: #cdea83;\n",
       "  color: #000000;\n",
       "}\n",
       "#T_5cb77_row1_col2 {\n",
       "  background-color: #0a7b41;\n",
       "  color: #f1f1f1;\n",
       "}\n",
       "#T_5cb77_row1_col5, #T_5cb77_row3_col5 {\n",
       "  background-color: #ddf191;\n",
       "  color: #000000;\n",
       "}\n",
       "#T_5cb77_row1_col6, #T_5cb77_row2_col5 {\n",
       "  background-color: #e6f59d;\n",
       "  color: #000000;\n",
       "}\n",
       "#T_5cb77_row1_col7 {\n",
       "  background-color: #cbe982;\n",
       "  color: #000000;\n",
       "}\n",
       "#T_5cb77_row2_col2 {\n",
       "  background-color: #06733d;\n",
       "  color: #f1f1f1;\n",
       "}\n",
       "#T_5cb77_row2_col3, #T_5cb77_row2_col4 {\n",
       "  background-color: #08773f;\n",
       "  color: #f1f1f1;\n",
       "}\n",
       "#T_5cb77_row3_col2 {\n",
       "  background-color: #0b7d42;\n",
       "  color: #f1f1f1;\n",
       "}\n",
       "#T_5cb77_row3_col6 {\n",
       "  background-color: #e3f399;\n",
       "  color: #000000;\n",
       "}\n",
       "</style>\n",
       "<table id=\"T_5cb77\">\n",
       "  <thead>\n",
       "    <tr>\n",
       "      <th class=\"blank level0\" >&nbsp;</th>\n",
       "      <th id=\"T_5cb77_level0_col0\" class=\"col_heading level0 col0\" >naive</th>\n",
       "      <th id=\"T_5cb77_level0_col1\" class=\"col_heading level0 col1\" >lgbm</th>\n",
       "      <th id=\"T_5cb77_level0_col2\" class=\"col_heading level0 col2\" >lasso</th>\n",
       "      <th id=\"T_5cb77_level0_col3\" class=\"col_heading level0 col3\" >lin_reg</th>\n",
       "      <th id=\"T_5cb77_level0_col4\" class=\"col_heading level0 col4\" >ridge</th>\n",
       "      <th id=\"T_5cb77_level0_col5\" class=\"col_heading level0 col5\" >knn</th>\n",
       "      <th id=\"T_5cb77_level0_col6\" class=\"col_heading level0 col6\" >mlp</th>\n",
       "      <th id=\"T_5cb77_level0_col7\" class=\"col_heading level0 col7\" >rf</th>\n",
       "    </tr>\n",
       "    <tr>\n",
       "      <th class=\"index_name level0\" >metric</th>\n",
       "      <th class=\"blank col0\" >&nbsp;</th>\n",
       "      <th class=\"blank col1\" >&nbsp;</th>\n",
       "      <th class=\"blank col2\" >&nbsp;</th>\n",
       "      <th class=\"blank col3\" >&nbsp;</th>\n",
       "      <th class=\"blank col4\" >&nbsp;</th>\n",
       "      <th class=\"blank col5\" >&nbsp;</th>\n",
       "      <th class=\"blank col6\" >&nbsp;</th>\n",
       "      <th class=\"blank col7\" >&nbsp;</th>\n",
       "    </tr>\n",
       "  </thead>\n",
       "  <tbody>\n",
       "    <tr>\n",
       "      <th id=\"T_5cb77_level0_row0\" class=\"row_heading level0 row0\" >mae</th>\n",
       "      <td id=\"T_5cb77_row0_col0\" class=\"data row0 col0\" >1631.395833</td>\n",
       "      <td id=\"T_5cb77_row0_col1\" class=\"data row0 col1\" >971.536200</td>\n",
       "      <td id=\"T_5cb77_row0_col2\" class=\"data row0 col2\" >1003.796433</td>\n",
       "      <td id=\"T_5cb77_row0_col3\" class=\"data row0 col3\" >1007.998597</td>\n",
       "      <td id=\"T_5cb77_row0_col4\" class=\"data row0 col4\" >1007.998547</td>\n",
       "      <td id=\"T_5cb77_row0_col5\" class=\"data row0 col5\" >1248.145833</td>\n",
       "      <td id=\"T_5cb77_row0_col6\" class=\"data row0 col6\" >1268.841369</td>\n",
       "      <td id=\"T_5cb77_row0_col7\" class=\"data row0 col7\" >1219.286771</td>\n",
       "    </tr>\n",
       "    <tr>\n",
       "      <th id=\"T_5cb77_level0_row1\" class=\"row_heading level0 row1\" >mape</th>\n",
       "      <td id=\"T_5cb77_row1_col0\" class=\"data row1 col0\" >0.049759</td>\n",
       "      <td id=\"T_5cb77_row1_col1\" class=\"data row1 col1\" >0.030966</td>\n",
       "      <td id=\"T_5cb77_row1_col2\" class=\"data row1 col2\" >0.031760</td>\n",
       "      <td id=\"T_5cb77_row1_col3\" class=\"data row1 col3\" >0.031888</td>\n",
       "      <td id=\"T_5cb77_row1_col4\" class=\"data row1 col4\" >0.031888</td>\n",
       "      <td id=\"T_5cb77_row1_col5\" class=\"data row1 col5\" >0.038721</td>\n",
       "      <td id=\"T_5cb77_row1_col6\" class=\"data row1 col6\" >0.039149</td>\n",
       "      <td id=\"T_5cb77_row1_col7\" class=\"data row1 col7\" >0.037969</td>\n",
       "    </tr>\n",
       "    <tr>\n",
       "      <th id=\"T_5cb77_level0_row2\" class=\"row_heading level0 row2\" >rmse</th>\n",
       "      <td id=\"T_5cb77_row2_col0\" class=\"data row2 col0\" >1871.398919</td>\n",
       "      <td id=\"T_5cb77_row2_col1\" class=\"data row2 col1\" >1129.713256</td>\n",
       "      <td id=\"T_5cb77_row2_col2\" class=\"data row2 col2\" >1148.616156</td>\n",
       "      <td id=\"T_5cb77_row2_col3\" class=\"data row2 col3\" >1153.262719</td>\n",
       "      <td id=\"T_5cb77_row2_col4\" class=\"data row2 col4\" >1153.262664</td>\n",
       "      <td id=\"T_5cb77_row2_col5\" class=\"data row2 col5\" >1451.964390</td>\n",
       "      <td id=\"T_5cb77_row2_col6\" class=\"data row2 col6\" >1463.836007</td>\n",
       "      <td id=\"T_5cb77_row2_col7\" class=\"data row2 col7\" >1409.549197</td>\n",
       "    </tr>\n",
       "    <tr>\n",
       "      <th id=\"T_5cb77_level0_row3\" class=\"row_heading level0 row3\" >smape</th>\n",
       "      <td id=\"T_5cb77_row3_col0\" class=\"data row3 col0\" >0.024786</td>\n",
       "      <td id=\"T_5cb77_row3_col1\" class=\"data row3 col1\" >0.015886</td>\n",
       "      <td id=\"T_5cb77_row3_col2\" class=\"data row3 col2\" >0.016269</td>\n",
       "      <td id=\"T_5cb77_row3_col3\" class=\"data row3 col3\" >0.016338</td>\n",
       "      <td id=\"T_5cb77_row3_col4\" class=\"data row3 col4\" >0.016338</td>\n",
       "      <td id=\"T_5cb77_row3_col5\" class=\"data row3 col5\" >0.019549</td>\n",
       "      <td id=\"T_5cb77_row3_col6\" class=\"data row3 col6\" >0.019704</td>\n",
       "      <td id=\"T_5cb77_row3_col7\" class=\"data row3 col7\" >0.019252</td>\n",
       "    </tr>\n",
       "  </tbody>\n",
       "</table>\n"
      ],
      "text/plain": [
       "<pandas.io.formats.style.Styler>"
      ]
     },
     "execution_count": null,
     "metadata": {},
     "output_type": "execute_result"
    }
   ],
   "source": [
    "evaluate_crossvalidation(crossvalidation_df, metrics, models)    "
   ]
  },
  {
   "cell_type": "markdown",
   "id": "ad1bf389",
   "metadata": {},
   "source": [
    "We can se that the model `lgbm` has top performance in most metrics folowed by the `lasso regression`. Both models perform way better than the `naive`."
   ]
  },
  {
   "cell_type": "markdown",
   "id": "54ac1d3d",
   "metadata": {},
   "source": [
    "### Test Evaluation"
   ]
  },
  {
   "cell_type": "markdown",
   "id": "08014817",
   "metadata": {},
   "source": [
    "Now we are going to  evaluate their perfonce in the test set. We can use both of them for forecasting the test alongside some prediction intervals. For that we can use the [`PredictionIntervals`](https://nixtla.github.io/mlforecast/utils.html#predictionintervals) function in `mlforecast.utils`.  \n",
    "You can see an in-depth tutotorial of [Probabilistic Forecasting here](https://nixtla.github.io/mlforecast/docs/prediction_intervals.html)"
   ]
  },
  {
   "cell_type": "code",
   "execution_count": null,
   "id": "dd87c5db",
   "metadata": {},
   "outputs": [],
   "source": [
    "from mlforecast.utils import PredictionIntervals"
   ]
  },
  {
   "cell_type": "code",
   "execution_count": null,
   "id": "44903e42",
   "metadata": {},
   "outputs": [],
   "source": [
    "models_evaluation ={\n",
    "        'lgbm': lgb.LGBMRegressor(verbosity=-1),\n",
    "        'lasso': Lasso(),\n",
    "    }\n",
    "\n",
    "mlf_evaluation = MLForecast(\n",
    "    models = models_evaluation, \n",
    "    freq='H',  # our series have hourly frequency \n",
    "    target_transforms=[Differences([24, 24*7])],\n",
    "    lags=[1,12,24], \n",
    "    lag_transforms={  \n",
    "        1: [expanding_mean],\n",
    "        24: [(rolling_mean, 48)],\n",
    "    },\n",
    "    date_features=['month', 'hour', 'dayofweek']\n",
    ")\n"
   ]
  },
  {
   "cell_type": "markdown",
   "id": "8f3002d6",
   "metadata": {},
   "source": [
    "Now we’re ready to generate the point forecasts and the prediction intervals. To do this, we’ll use the `fit` method, which takes the following arguments:\n",
    "\n",
    "+ `df`: Series data in long format.\n",
    "+ `id_col`: Column that identifies each series. In our case, unique_id.\n",
    "+ `time_col`: Column that identifies each timestep, its values can be timestamps or integers. In our case, ds.\n",
    "+ `target_col`: Column that contains the target. In our case, y."
   ]
  },
  {
   "cell_type": "markdown",
   "id": "e1fdb8cb",
   "metadata": {},
   "source": [
    "The `PredictionIntervals` function is used to compute prediction intervals for the models using [Conformal Prediction](https://valeman.medium.com/how-to-predict-full-probability-distribution-using-machine-learning-conformal-predictive-f8f4d805e420). The function takes the following arguments:\n",
    "+ `n_windows`: represents the number of cross-validation windows used to calibrate the intervals \n",
    "+ `h`: the forecast horizon  "
   ]
  },
  {
   "cell_type": "code",
   "execution_count": null,
   "id": "7ee6d26e",
   "metadata": {},
   "outputs": [
    {
     "data": {
      "text/plain": [
       "MLForecast(models=[lgbm, lasso], freq=<Hour>, lag_features=['lag1', 'lag12', 'lag24', 'expanding_mean_lag1', 'rolling_mean_lag24_window_size48'], date_features=['month', 'hour', 'dayofweek'], num_threads=1)"
      ]
     },
     "execution_count": null,
     "metadata": {},
     "output_type": "execute_result"
    }
   ],
   "source": [
    "mlf_evaluation.fit(\n",
    "    df = df_train,\n",
    "    prediction_intervals=PredictionIntervals(n_windows=4, h=24)\n",
    ")"
   ]
  },
  {
   "cell_type": "markdown",
   "id": "454843c4",
   "metadata": {},
   "source": [
    "Now that the model has been trained we are going to forecast the next 24 hours using the `predict` method so we can compare them to our `test` data. Additionally, we are going to create prediction intervals at `levels` `[90,95]`. "
   ]
  },
  {
   "cell_type": "code",
   "execution_count": null,
   "id": "d4a478a3",
   "metadata": {},
   "outputs": [
    {
     "data": {
      "text/html": [
       "<div>\n",
       "<style scoped>\n",
       "    .dataframe tbody tr th:only-of-type {\n",
       "        vertical-align: middle;\n",
       "    }\n",
       "\n",
       "    .dataframe tbody tr th {\n",
       "        vertical-align: top;\n",
       "    }\n",
       "\n",
       "    .dataframe thead th {\n",
       "        text-align: right;\n",
       "    }\n",
       "</style>\n",
       "<table border=\"1\" class=\"dataframe\">\n",
       "  <thead>\n",
       "    <tr style=\"text-align: right;\">\n",
       "      <th></th>\n",
       "      <th>unique_id</th>\n",
       "      <th>ds</th>\n",
       "      <th>lgbm</th>\n",
       "      <th>lasso</th>\n",
       "      <th>lgbm-lo-95</th>\n",
       "      <th>lgbm-lo-90</th>\n",
       "      <th>lgbm-hi-90</th>\n",
       "      <th>lgbm-hi-95</th>\n",
       "      <th>lasso-lo-95</th>\n",
       "      <th>lasso-lo-90</th>\n",
       "      <th>lasso-hi-90</th>\n",
       "      <th>lasso-hi-95</th>\n",
       "    </tr>\n",
       "  </thead>\n",
       "  <tbody>\n",
       "    <tr>\n",
       "      <th>0</th>\n",
       "      <td>PJM_Load_hourly</td>\n",
       "      <td>2001-12-31 01:00:00</td>\n",
       "      <td>28847.573176</td>\n",
       "      <td>29124.085976</td>\n",
       "      <td>28544.593464</td>\n",
       "      <td>28567.603130</td>\n",
       "      <td>29127.543222</td>\n",
       "      <td>29150.552888</td>\n",
       "      <td>28762.752269</td>\n",
       "      <td>28772.604275</td>\n",
       "      <td>29475.567677</td>\n",
       "      <td>29485.419682</td>\n",
       "    </tr>\n",
       "    <tr>\n",
       "      <th>1</th>\n",
       "      <td>PJM_Load_hourly</td>\n",
       "      <td>2001-12-31 02:00:00</td>\n",
       "      <td>27862.589195</td>\n",
       "      <td>28365.330749</td>\n",
       "      <td>27042.311414</td>\n",
       "      <td>27128.839888</td>\n",
       "      <td>28596.338503</td>\n",
       "      <td>28682.866977</td>\n",
       "      <td>27528.548959</td>\n",
       "      <td>27619.065224</td>\n",
       "      <td>29111.596275</td>\n",
       "      <td>29202.112539</td>\n",
       "    </tr>\n",
       "    <tr>\n",
       "      <th>2</th>\n",
       "      <td>PJM_Load_hourly</td>\n",
       "      <td>2001-12-31 03:00:00</td>\n",
       "      <td>27044.418960</td>\n",
       "      <td>27712.161676</td>\n",
       "      <td>25596.659896</td>\n",
       "      <td>25688.230426</td>\n",
       "      <td>28400.607493</td>\n",
       "      <td>28492.178023</td>\n",
       "      <td>26236.955369</td>\n",
       "      <td>26338.087102</td>\n",
       "      <td>29086.236251</td>\n",
       "      <td>29187.367984</td>\n",
       "    </tr>\n",
       "    <tr>\n",
       "      <th>3</th>\n",
       "      <td>PJM_Load_hourly</td>\n",
       "      <td>2001-12-31 04:00:00</td>\n",
       "      <td>26976.104125</td>\n",
       "      <td>27661.572733</td>\n",
       "      <td>25249.961527</td>\n",
       "      <td>25286.024722</td>\n",
       "      <td>28666.183529</td>\n",
       "      <td>28702.246724</td>\n",
       "      <td>25911.133521</td>\n",
       "      <td>25959.815715</td>\n",
       "      <td>29363.329750</td>\n",
       "      <td>29412.011944</td>\n",
       "    </tr>\n",
       "    <tr>\n",
       "      <th>4</th>\n",
       "      <td>PJM_Load_hourly</td>\n",
       "      <td>2001-12-31 05:00:00</td>\n",
       "      <td>26694.246238</td>\n",
       "      <td>27393.922370</td>\n",
       "      <td>25044.220845</td>\n",
       "      <td>25051.548832</td>\n",
       "      <td>28336.943644</td>\n",
       "      <td>28344.271631</td>\n",
       "      <td>25751.547897</td>\n",
       "      <td>25762.524815</td>\n",
       "      <td>29025.319924</td>\n",
       "      <td>29036.296843</td>\n",
       "    </tr>\n",
       "  </tbody>\n",
       "</table>\n",
       "</div>"
      ],
      "text/plain": [
       "         unique_id                  ds          lgbm         lasso  \\\n",
       "0  PJM_Load_hourly 2001-12-31 01:00:00  28847.573176  29124.085976   \n",
       "1  PJM_Load_hourly 2001-12-31 02:00:00  27862.589195  28365.330749   \n",
       "2  PJM_Load_hourly 2001-12-31 03:00:00  27044.418960  27712.161676   \n",
       "3  PJM_Load_hourly 2001-12-31 04:00:00  26976.104125  27661.572733   \n",
       "4  PJM_Load_hourly 2001-12-31 05:00:00  26694.246238  27393.922370   \n",
       "\n",
       "     lgbm-lo-95    lgbm-lo-90    lgbm-hi-90    lgbm-hi-95   lasso-lo-95  \\\n",
       "0  28544.593464  28567.603130  29127.543222  29150.552888  28762.752269   \n",
       "1  27042.311414  27128.839888  28596.338503  28682.866977  27528.548959   \n",
       "2  25596.659896  25688.230426  28400.607493  28492.178023  26236.955369   \n",
       "3  25249.961527  25286.024722  28666.183529  28702.246724  25911.133521   \n",
       "4  25044.220845  25051.548832  28336.943644  28344.271631  25751.547897   \n",
       "\n",
       "    lasso-lo-90   lasso-hi-90   lasso-hi-95  \n",
       "0  28772.604275  29475.567677  29485.419682  \n",
       "1  27619.065224  29111.596275  29202.112539  \n",
       "2  26338.087102  29086.236251  29187.367984  \n",
       "3  25959.815715  29363.329750  29412.011944  \n",
       "4  25762.524815  29025.319924  29036.296843  "
      ]
     },
     "execution_count": null,
     "metadata": {},
     "output_type": "execute_result"
    }
   ],
   "source": [
    "levels = [90, 95] # Levels for prediction intervals\n",
    "forecasts = mlf_evaluation.predict(24, level=levels)\n",
    "forecasts.head()"
   ]
  },
  {
   "cell_type": "markdown",
   "id": "40c936d7",
   "metadata": {},
   "source": [
    "The `predict` method returns a DataFrame witht the predictions for each model (`lasso` and `lgbm`) along side the prediction tresholds. The high-threshold is indicated by the keyword `hi`, the low-threshold by the keyword `lo`, and the level by the number in the column names. "
   ]
  },
  {
   "cell_type": "code",
   "execution_count": null,
   "id": "f70f98ac",
   "metadata": {},
   "outputs": [
    {
     "data": {
      "text/html": [
       "<div>\n",
       "<style scoped>\n",
       "    .dataframe tbody tr th:only-of-type {\n",
       "        vertical-align: middle;\n",
       "    }\n",
       "\n",
       "    .dataframe tbody tr th {\n",
       "        vertical-align: top;\n",
       "    }\n",
       "\n",
       "    .dataframe thead th {\n",
       "        text-align: right;\n",
       "    }\n",
       "</style>\n",
       "<table border=\"1\" class=\"dataframe\">\n",
       "  <thead>\n",
       "    <tr style=\"text-align: right;\">\n",
       "      <th></th>\n",
       "      <th>unique_id</th>\n",
       "      <th>ds</th>\n",
       "      <th>y</th>\n",
       "      <th>lgbm</th>\n",
       "      <th>lasso</th>\n",
       "      <th>lgbm-lo-95</th>\n",
       "      <th>lgbm-lo-90</th>\n",
       "      <th>lgbm-hi-90</th>\n",
       "      <th>lgbm-hi-95</th>\n",
       "      <th>lasso-lo-95</th>\n",
       "      <th>lasso-lo-90</th>\n",
       "      <th>lasso-hi-90</th>\n",
       "      <th>lasso-hi-95</th>\n",
       "    </tr>\n",
       "  </thead>\n",
       "  <tbody>\n",
       "    <tr>\n",
       "      <th>0</th>\n",
       "      <td>PJM_Load_hourly</td>\n",
       "      <td>2001-12-31 01:00:00</td>\n",
       "      <td>29001.0</td>\n",
       "      <td>28847.573176</td>\n",
       "      <td>29124.085976</td>\n",
       "      <td>28544.593464</td>\n",
       "      <td>28567.603130</td>\n",
       "      <td>29127.543222</td>\n",
       "      <td>29150.552888</td>\n",
       "      <td>28762.752269</td>\n",
       "      <td>28772.604275</td>\n",
       "      <td>29475.567677</td>\n",
       "      <td>29485.419682</td>\n",
       "    </tr>\n",
       "    <tr>\n",
       "      <th>1</th>\n",
       "      <td>PJM_Load_hourly</td>\n",
       "      <td>2001-12-31 02:00:00</td>\n",
       "      <td>28138.0</td>\n",
       "      <td>27862.589195</td>\n",
       "      <td>28365.330749</td>\n",
       "      <td>27042.311414</td>\n",
       "      <td>27128.839888</td>\n",
       "      <td>28596.338503</td>\n",
       "      <td>28682.866977</td>\n",
       "      <td>27528.548959</td>\n",
       "      <td>27619.065224</td>\n",
       "      <td>29111.596275</td>\n",
       "      <td>29202.112539</td>\n",
       "    </tr>\n",
       "    <tr>\n",
       "      <th>2</th>\n",
       "      <td>PJM_Load_hourly</td>\n",
       "      <td>2001-12-31 03:00:00</td>\n",
       "      <td>27830.0</td>\n",
       "      <td>27044.418960</td>\n",
       "      <td>27712.161676</td>\n",
       "      <td>25596.659896</td>\n",
       "      <td>25688.230426</td>\n",
       "      <td>28400.607493</td>\n",
       "      <td>28492.178023</td>\n",
       "      <td>26236.955369</td>\n",
       "      <td>26338.087102</td>\n",
       "      <td>29086.236251</td>\n",
       "      <td>29187.367984</td>\n",
       "    </tr>\n",
       "    <tr>\n",
       "      <th>3</th>\n",
       "      <td>PJM_Load_hourly</td>\n",
       "      <td>2001-12-31 04:00:00</td>\n",
       "      <td>27874.0</td>\n",
       "      <td>26976.104125</td>\n",
       "      <td>27661.572733</td>\n",
       "      <td>25249.961527</td>\n",
       "      <td>25286.024722</td>\n",
       "      <td>28666.183529</td>\n",
       "      <td>28702.246724</td>\n",
       "      <td>25911.133521</td>\n",
       "      <td>25959.815715</td>\n",
       "      <td>29363.329750</td>\n",
       "      <td>29412.011944</td>\n",
       "    </tr>\n",
       "    <tr>\n",
       "      <th>4</th>\n",
       "      <td>PJM_Load_hourly</td>\n",
       "      <td>2001-12-31 05:00:00</td>\n",
       "      <td>28427.0</td>\n",
       "      <td>26694.246238</td>\n",
       "      <td>27393.922370</td>\n",
       "      <td>25044.220845</td>\n",
       "      <td>25051.548832</td>\n",
       "      <td>28336.943644</td>\n",
       "      <td>28344.271631</td>\n",
       "      <td>25751.547897</td>\n",
       "      <td>25762.524815</td>\n",
       "      <td>29025.319924</td>\n",
       "      <td>29036.296843</td>\n",
       "    </tr>\n",
       "  </tbody>\n",
       "</table>\n",
       "</div>"
      ],
      "text/plain": [
       "         unique_id                  ds        y          lgbm         lasso  \\\n",
       "0  PJM_Load_hourly 2001-12-31 01:00:00  29001.0  28847.573176  29124.085976   \n",
       "1  PJM_Load_hourly 2001-12-31 02:00:00  28138.0  27862.589195  28365.330749   \n",
       "2  PJM_Load_hourly 2001-12-31 03:00:00  27830.0  27044.418960  27712.161676   \n",
       "3  PJM_Load_hourly 2001-12-31 04:00:00  27874.0  26976.104125  27661.572733   \n",
       "4  PJM_Load_hourly 2001-12-31 05:00:00  28427.0  26694.246238  27393.922370   \n",
       "\n",
       "     lgbm-lo-95    lgbm-lo-90    lgbm-hi-90    lgbm-hi-95   lasso-lo-95  \\\n",
       "0  28544.593464  28567.603130  29127.543222  29150.552888  28762.752269   \n",
       "1  27042.311414  27128.839888  28596.338503  28682.866977  27528.548959   \n",
       "2  25596.659896  25688.230426  28400.607493  28492.178023  26236.955369   \n",
       "3  25249.961527  25286.024722  28666.183529  28702.246724  25911.133521   \n",
       "4  25044.220845  25051.548832  28336.943644  28344.271631  25751.547897   \n",
       "\n",
       "    lasso-lo-90   lasso-hi-90   lasso-hi-95  \n",
       "0  28772.604275  29475.567677  29485.419682  \n",
       "1  27619.065224  29111.596275  29202.112539  \n",
       "2  26338.087102  29086.236251  29187.367984  \n",
       "3  25959.815715  29363.329750  29412.011944  \n",
       "4  25762.524815  29025.319924  29036.296843  "
      ]
     },
     "execution_count": null,
     "metadata": {},
     "output_type": "execute_result"
    }
   ],
   "source": [
    "test = df_last_24_hours.merge(forecasts, how='left', on=['unique_id', 'ds'])\n",
    "test.head()"
   ]
  },
  {
   "cell_type": "markdown",
   "id": "67a4685c",
   "metadata": {},
   "source": [
    "Now we can evaluate the metrics and performance in the `test` set."
   ]
  },
  {
   "cell_type": "code",
   "execution_count": null,
   "id": "ca2859c9",
   "metadata": {},
   "outputs": [
    {
     "data": {
      "text/html": [
       "<div>\n",
       "<style scoped>\n",
       "    .dataframe tbody tr th:only-of-type {\n",
       "        vertical-align: middle;\n",
       "    }\n",
       "\n",
       "    .dataframe tbody tr th {\n",
       "        vertical-align: top;\n",
       "    }\n",
       "\n",
       "    .dataframe thead th {\n",
       "        text-align: right;\n",
       "    }\n",
       "</style>\n",
       "<table border=\"1\" class=\"dataframe\">\n",
       "  <thead>\n",
       "    <tr style=\"text-align: right;\">\n",
       "      <th></th>\n",
       "      <th>unique_id</th>\n",
       "      <th>metric</th>\n",
       "      <th>lgbm</th>\n",
       "      <th>lasso</th>\n",
       "    </tr>\n",
       "  </thead>\n",
       "  <tbody>\n",
       "    <tr>\n",
       "      <th>0</th>\n",
       "      <td>PJM_Load_hourly</td>\n",
       "      <td>mae</td>\n",
       "      <td>1092.050817</td>\n",
       "      <td>899.979743</td>\n",
       "    </tr>\n",
       "    <tr>\n",
       "      <th>1</th>\n",
       "      <td>PJM_Load_hourly</td>\n",
       "      <td>rmse</td>\n",
       "      <td>1340.422762</td>\n",
       "      <td>1163.695525</td>\n",
       "    </tr>\n",
       "    <tr>\n",
       "      <th>2</th>\n",
       "      <td>PJM_Load_hourly</td>\n",
       "      <td>mape</td>\n",
       "      <td>0.033600</td>\n",
       "      <td>0.027688</td>\n",
       "    </tr>\n",
       "    <tr>\n",
       "      <th>3</th>\n",
       "      <td>PJM_Load_hourly</td>\n",
       "      <td>smape</td>\n",
       "      <td>0.017137</td>\n",
       "      <td>0.013812</td>\n",
       "    </tr>\n",
       "  </tbody>\n",
       "</table>\n",
       "</div>"
      ],
      "text/plain": [
       "         unique_id metric         lgbm        lasso\n",
       "0  PJM_Load_hourly    mae  1092.050817   899.979743\n",
       "1  PJM_Load_hourly   rmse  1340.422762  1163.695525\n",
       "2  PJM_Load_hourly   mape     0.033600     0.027688\n",
       "3  PJM_Load_hourly  smape     0.017137     0.013812"
      ]
     },
     "execution_count": null,
     "metadata": {},
     "output_type": "execute_result"
    }
   ],
   "source": [
    "evaluate(\n",
    "            df = test,\n",
    "            metrics=metrics,\n",
    "            models=list(models_evaluation.keys())\n",
    "            )"
   ]
  },
  {
   "cell_type": "markdown",
   "id": "5dde764b",
   "metadata": {},
   "source": [
    "We can see that the `lasso` regression performed slighty better than the `LightGBM` for the test set. Additonally, we can also plot the forecasts alongside their prediction intervals. For that we can use the `plot_series` method available in  `utilsforecast.plotting`."
   ]
  },
  {
   "cell_type": "markdown",
   "id": "e57039d0",
   "metadata": {},
   "source": [
    "We can plot one or many models at once alongside their coinfidence intervals."
   ]
  },
  {
   "cell_type": "code",
   "execution_count": null,
   "id": "f39c6f0b-f934-40ac-bde0-59547864b7a5",
   "metadata": {},
   "outputs": [],
   "source": [
    "fig = plot_series(\n",
    "    df_train, \n",
    "    test, \n",
    "    models=['lasso', 'lgbm'],\n",
    "    plot_random=False, \n",
    "    level=levels, \n",
    "    max_insample_length=24\n",
    ")"
   ]
  },
  {
   "cell_type": "code",
   "execution_count": null,
   "id": "341eeb26-7a88-4a47-b68d-fa4338f231e4",
   "metadata": {},
   "outputs": [],
   "source": [
    "#| hide\n",
    "fig.savefig(f'../../figs/load_forecasting__prediction_intervals.png', bbox_inches='tight')"
   ]
  },
  {
   "cell_type": "markdown",
   "id": "8c7a20fe-ff51-4b21-a9e7-b54007633a47",
   "metadata": {},
   "source": [
    "![](../../figs/load_forecasting__prediction_intervals.png)"
   ]
  },
  {
   "cell_type": "markdown",
   "id": "d7226e1e",
   "metadata": {},
   "source": [
    "### Comparison with Prophet"
   ]
  },
  {
   "cell_type": "markdown",
   "id": "aeaa8efb",
   "metadata": {},
   "source": [
    "One of the most widely used models for time series forecasting is `Prophet`. This model is known for its ability to model different seasonalities (weekly, daily yearly). We will use this model as a benchmark to see if the `lgbm` alongside `MLForecast` adds value for this time series. "
   ]
  },
  {
   "cell_type": "code",
   "execution_count": null,
   "id": "5a3ecb67-65cf-4f98-b76b-4bdd9567e958",
   "metadata": {},
   "outputs": [],
   "source": [
    "#| hide\n",
    "# Disable cmdstanpy logging\n",
    "import logging\n",
    "logger = logging.getLogger('cmdstanpy')\n",
    "logger.addHandler(logging.NullHandler())\n",
    "logger.propagate = False\n",
    "logger.setLevel(logging.CRITICAL)"
   ]
  },
  {
   "cell_type": "code",
   "execution_count": null,
   "id": "b3700c44-97af-4726-9252-7f61fc0208f6",
   "metadata": {},
   "outputs": [],
   "source": [
    "from prophet import Prophet\n",
    "from time import time"
   ]
  },
  {
   "cell_type": "code",
   "execution_count": null,
   "id": "11d7c209-89f2-4f7a-8765-3e2b2b8fc2e7",
   "metadata": {},
   "outputs": [
    {
     "data": {
      "text/html": [
       "<div>\n",
       "<style scoped>\n",
       "    .dataframe tbody tr th:only-of-type {\n",
       "        vertical-align: middle;\n",
       "    }\n",
       "\n",
       "    .dataframe tbody tr th {\n",
       "        vertical-align: top;\n",
       "    }\n",
       "\n",
       "    .dataframe thead th {\n",
       "        text-align: right;\n",
       "    }\n",
       "</style>\n",
       "<table border=\"1\" class=\"dataframe\">\n",
       "  <thead>\n",
       "    <tr style=\"text-align: right;\">\n",
       "      <th></th>\n",
       "      <th>unique_id</th>\n",
       "      <th>ds</th>\n",
       "      <th>Prophet</th>\n",
       "      <th>Prophet-lo-90</th>\n",
       "      <th>Prophet-hi-90</th>\n",
       "    </tr>\n",
       "  </thead>\n",
       "  <tbody>\n",
       "    <tr>\n",
       "      <th>0</th>\n",
       "      <td>PJM_Load_hourly</td>\n",
       "      <td>2001-12-31 01:00:00</td>\n",
       "      <td>25294.246960</td>\n",
       "      <td>20452.615295</td>\n",
       "      <td>30151.111598</td>\n",
       "    </tr>\n",
       "    <tr>\n",
       "      <th>1</th>\n",
       "      <td>PJM_Load_hourly</td>\n",
       "      <td>2001-12-31 02:00:00</td>\n",
       "      <td>24000.725423</td>\n",
       "      <td>18954.861631</td>\n",
       "      <td>28946.645807</td>\n",
       "    </tr>\n",
       "    <tr>\n",
       "      <th>2</th>\n",
       "      <td>PJM_Load_hourly</td>\n",
       "      <td>2001-12-31 03:00:00</td>\n",
       "      <td>23324.771966</td>\n",
       "      <td>18562.568378</td>\n",
       "      <td>28009.837383</td>\n",
       "    </tr>\n",
       "    <tr>\n",
       "      <th>3</th>\n",
       "      <td>PJM_Load_hourly</td>\n",
       "      <td>2001-12-31 04:00:00</td>\n",
       "      <td>23332.519871</td>\n",
       "      <td>18706.835864</td>\n",
       "      <td>28253.861051</td>\n",
       "    </tr>\n",
       "    <tr>\n",
       "      <th>4</th>\n",
       "      <td>PJM_Load_hourly</td>\n",
       "      <td>2001-12-31 05:00:00</td>\n",
       "      <td>24107.126827</td>\n",
       "      <td>18966.217684</td>\n",
       "      <td>28907.516733</td>\n",
       "    </tr>\n",
       "  </tbody>\n",
       "</table>\n",
       "</div>"
      ],
      "text/plain": [
       "         unique_id                  ds       Prophet  Prophet-lo-90  \\\n",
       "0  PJM_Load_hourly 2001-12-31 01:00:00  25294.246960   20452.615295   \n",
       "1  PJM_Load_hourly 2001-12-31 02:00:00  24000.725423   18954.861631   \n",
       "2  PJM_Load_hourly 2001-12-31 03:00:00  23324.771966   18562.568378   \n",
       "3  PJM_Load_hourly 2001-12-31 04:00:00  23332.519871   18706.835864   \n",
       "4  PJM_Load_hourly 2001-12-31 05:00:00  24107.126827   18966.217684   \n",
       "\n",
       "   Prophet-hi-90  \n",
       "0   30151.111598  \n",
       "1   28946.645807  \n",
       "2   28009.837383  \n",
       "3   28253.861051  \n",
       "4   28907.516733  "
      ]
     },
     "execution_count": null,
     "metadata": {},
     "output_type": "execute_result"
    }
   ],
   "source": [
    "# create prophet model\n",
    "prophet = Prophet(interval_width=0.9)\n",
    "init = time()\n",
    "prophet.fit(df_train)\n",
    "# produce forecasts\n",
    "future = prophet.make_future_dataframe(periods=len(df_last_24_hours), freq='H', include_history=False)\n",
    "forecast_prophet = prophet.predict(future)\n",
    "end = time()\n",
    "# data wrangling\n",
    "forecast_prophet = forecast_prophet[['ds', 'yhat', 'yhat_lower', 'yhat_upper']]\n",
    "forecast_prophet.columns = ['ds', 'Prophet', 'Prophet-lo-90', 'Prophet-hi-90']\n",
    "forecast_prophet.insert(0, 'unique_id', 'PJM_Load_hourly')\n",
    "forecast_prophet.head()"
   ]
  },
  {
   "cell_type": "code",
   "execution_count": null,
   "id": "b796446d",
   "metadata": {},
   "outputs": [
    {
     "name": "stdout",
     "output_type": "stream",
     "text": [
      "Prophet Time: 36.90 seconds\n"
     ]
    }
   ],
   "source": [
    "time_prophet = (end - init) \n",
    "print(f'Prophet Time: {time_prophet:.2f} seconds')"
   ]
  },
  {
   "cell_type": "code",
   "execution_count": null,
   "id": "1db1d6b0",
   "metadata": {},
   "outputs": [
    {
     "data": {
      "text/html": [
       "<div>\n",
       "<style scoped>\n",
       "    .dataframe tbody tr th:only-of-type {\n",
       "        vertical-align: middle;\n",
       "    }\n",
       "\n",
       "    .dataframe tbody tr th {\n",
       "        vertical-align: top;\n",
       "    }\n",
       "\n",
       "    .dataframe thead th {\n",
       "        text-align: right;\n",
       "    }\n",
       "</style>\n",
       "<table border=\"1\" class=\"dataframe\">\n",
       "  <thead>\n",
       "    <tr style=\"text-align: right;\">\n",
       "      <th></th>\n",
       "      <th>unique_id</th>\n",
       "      <th>ds</th>\n",
       "      <th>lgbm</th>\n",
       "      <th>lgbm-lo-90</th>\n",
       "      <th>lgbm-hi-90</th>\n",
       "    </tr>\n",
       "  </thead>\n",
       "  <tbody>\n",
       "    <tr>\n",
       "      <th>0</th>\n",
       "      <td>PJM_Load_hourly</td>\n",
       "      <td>2001-12-31 01:00:00</td>\n",
       "      <td>28847.573176</td>\n",
       "      <td>28567.603130</td>\n",
       "      <td>29127.543222</td>\n",
       "    </tr>\n",
       "    <tr>\n",
       "      <th>1</th>\n",
       "      <td>PJM_Load_hourly</td>\n",
       "      <td>2001-12-31 02:00:00</td>\n",
       "      <td>27862.589195</td>\n",
       "      <td>27128.839888</td>\n",
       "      <td>28596.338503</td>\n",
       "    </tr>\n",
       "    <tr>\n",
       "      <th>2</th>\n",
       "      <td>PJM_Load_hourly</td>\n",
       "      <td>2001-12-31 03:00:00</td>\n",
       "      <td>27044.418960</td>\n",
       "      <td>25688.230426</td>\n",
       "      <td>28400.607493</td>\n",
       "    </tr>\n",
       "    <tr>\n",
       "      <th>3</th>\n",
       "      <td>PJM_Load_hourly</td>\n",
       "      <td>2001-12-31 04:00:00</td>\n",
       "      <td>26976.104125</td>\n",
       "      <td>25286.024722</td>\n",
       "      <td>28666.183529</td>\n",
       "    </tr>\n",
       "    <tr>\n",
       "      <th>4</th>\n",
       "      <td>PJM_Load_hourly</td>\n",
       "      <td>2001-12-31 05:00:00</td>\n",
       "      <td>26694.246238</td>\n",
       "      <td>25051.548832</td>\n",
       "      <td>28336.943644</td>\n",
       "    </tr>\n",
       "  </tbody>\n",
       "</table>\n",
       "</div>"
      ],
      "text/plain": [
       "         unique_id                  ds          lgbm    lgbm-lo-90  \\\n",
       "0  PJM_Load_hourly 2001-12-31 01:00:00  28847.573176  28567.603130   \n",
       "1  PJM_Load_hourly 2001-12-31 02:00:00  27862.589195  27128.839888   \n",
       "2  PJM_Load_hourly 2001-12-31 03:00:00  27044.418960  25688.230426   \n",
       "3  PJM_Load_hourly 2001-12-31 04:00:00  26976.104125  25286.024722   \n",
       "4  PJM_Load_hourly 2001-12-31 05:00:00  26694.246238  25051.548832   \n",
       "\n",
       "     lgbm-hi-90  \n",
       "0  29127.543222  \n",
       "1  28596.338503  \n",
       "2  28400.607493  \n",
       "3  28666.183529  \n",
       "4  28336.943644  "
      ]
     },
     "execution_count": null,
     "metadata": {},
     "output_type": "execute_result"
    }
   ],
   "source": [
    "models_comparison ={\n",
    "        'lgbm': lgb.LGBMRegressor(verbosity=-1)\n",
    "    }\n",
    "\n",
    "mlf_comparison = MLForecast(\n",
    "    models = models_comparison, \n",
    "    freq='H',  # our series have hourly frequency \n",
    "    target_transforms=[Differences([24, 24*7])],\n",
    "    lags=[1,12,24],\n",
    "    lag_transforms={  \n",
    "        1: [expanding_mean],\n",
    "        24: [(rolling_mean, 48)],\n",
    "    },\n",
    "    date_features=['month', 'hour', 'dayofweek']\n",
    ")\n",
    "\n",
    "init = time()\n",
    "mlf_comparison.fit(\n",
    "    df = df_train,\n",
    "    prediction_intervals=PredictionIntervals(n_windows=4, h=24)\n",
    ")\n",
    "\n",
    "levels = [90]\n",
    "forecasts_comparison = mlf_comparison.predict(24, level=levels)\n",
    "end = time()\n",
    "forecasts_comparison.head()"
   ]
  },
  {
   "cell_type": "code",
   "execution_count": null,
   "id": "286138e1",
   "metadata": {},
   "outputs": [
    {
     "name": "stdout",
     "output_type": "stream",
     "text": [
      "LGBM Time: 1.34 seconds\n"
     ]
    }
   ],
   "source": [
    "time_lgbm = (end - init)\n",
    "print(f'LGBM Time: {time_lgbm:.2f} seconds')"
   ]
  },
  {
   "cell_type": "code",
   "execution_count": null,
   "id": "7a579eb7",
   "metadata": {},
   "outputs": [
    {
     "data": {
      "text/html": [
       "<style type=\"text/css\">\n",
       "#T_e4038_row0_col2, #T_e4038_row1_col2, #T_e4038_row2_col2, #T_e4038_row3_col2 {\n",
       "  background-color: #a50026;\n",
       "  color: #f1f1f1;\n",
       "}\n",
       "#T_e4038_row0_col3, #T_e4038_row1_col3, #T_e4038_row2_col3, #T_e4038_row3_col3 {\n",
       "  background-color: #006837;\n",
       "  color: #f1f1f1;\n",
       "}\n",
       "</style>\n",
       "<table id=\"T_e4038\">\n",
       "  <thead>\n",
       "    <tr>\n",
       "      <th class=\"blank level0\" >&nbsp;</th>\n",
       "      <th id=\"T_e4038_level0_col0\" class=\"col_heading level0 col0\" >unique_id</th>\n",
       "      <th id=\"T_e4038_level0_col1\" class=\"col_heading level0 col1\" >metric</th>\n",
       "      <th id=\"T_e4038_level0_col2\" class=\"col_heading level0 col2\" >Prophet</th>\n",
       "      <th id=\"T_e4038_level0_col3\" class=\"col_heading level0 col3\" >lgbm</th>\n",
       "    </tr>\n",
       "  </thead>\n",
       "  <tbody>\n",
       "    <tr>\n",
       "      <th id=\"T_e4038_level0_row0\" class=\"row_heading level0 row0\" >0</th>\n",
       "      <td id=\"T_e4038_row0_col0\" class=\"data row0 col0\" >PJM_Load_hourly</td>\n",
       "      <td id=\"T_e4038_row0_col1\" class=\"data row0 col1\" >mae</td>\n",
       "      <td id=\"T_e4038_row0_col2\" class=\"data row0 col2\" >2282.966977</td>\n",
       "      <td id=\"T_e4038_row0_col3\" class=\"data row0 col3\" >1092.050817</td>\n",
       "    </tr>\n",
       "    <tr>\n",
       "      <th id=\"T_e4038_level0_row1\" class=\"row_heading level0 row1\" >1</th>\n",
       "      <td id=\"T_e4038_row1_col0\" class=\"data row1 col0\" >PJM_Load_hourly</td>\n",
       "      <td id=\"T_e4038_row1_col1\" class=\"data row1 col1\" >rmse</td>\n",
       "      <td id=\"T_e4038_row1_col2\" class=\"data row1 col2\" >2721.817203</td>\n",
       "      <td id=\"T_e4038_row1_col3\" class=\"data row1 col3\" >1340.422762</td>\n",
       "    </tr>\n",
       "    <tr>\n",
       "      <th id=\"T_e4038_level0_row2\" class=\"row_heading level0 row2\" >2</th>\n",
       "      <td id=\"T_e4038_row2_col0\" class=\"data row2 col0\" >PJM_Load_hourly</td>\n",
       "      <td id=\"T_e4038_row2_col1\" class=\"data row2 col1\" >mape</td>\n",
       "      <td id=\"T_e4038_row2_col2\" class=\"data row2 col2\" >0.073750</td>\n",
       "      <td id=\"T_e4038_row2_col3\" class=\"data row2 col3\" >0.033600</td>\n",
       "    </tr>\n",
       "    <tr>\n",
       "      <th id=\"T_e4038_level0_row3\" class=\"row_heading level0 row3\" >3</th>\n",
       "      <td id=\"T_e4038_row3_col0\" class=\"data row3 col0\" >PJM_Load_hourly</td>\n",
       "      <td id=\"T_e4038_row3_col1\" class=\"data row3 col1\" >smape</td>\n",
       "      <td id=\"T_e4038_row3_col2\" class=\"data row3 col2\" >0.038633</td>\n",
       "      <td id=\"T_e4038_row3_col3\" class=\"data row3 col3\" >0.017137</td>\n",
       "    </tr>\n",
       "  </tbody>\n",
       "</table>\n"
      ],
      "text/plain": [
       "<pandas.io.formats.style.Styler>"
      ]
     },
     "execution_count": null,
     "metadata": {},
     "output_type": "execute_result"
    }
   ],
   "source": [
    "metrics_comparison = df_last_24_hours.merge(forecasts_comparison, how='left', on=['unique_id', 'ds']).merge(\n",
    "    forecast_prophet, how='left', on=['unique_id', 'ds'])\n",
    "metrics_comparison = evaluate(\n",
    "            df = metrics_comparison,\n",
    "            metrics=metrics,\n",
    "            models=['Prophet', 'lgbm']\n",
    "            )\n",
    "metrics_comparison.reset_index(drop=True).style.background_gradient(cmap='RdYlGn_r', axis=1)"
   ]
  },
  {
   "cell_type": "markdown",
   "id": "649b3e07",
   "metadata": {},
   "source": [
    "As we can see `lgbm` had consistently better metrics than `prophet`."
   ]
  },
  {
   "cell_type": "code",
   "execution_count": null,
   "id": "0cfd332a",
   "metadata": {},
   "outputs": [
    {
     "data": {
      "text/html": [
       "<div>\n",
       "<style scoped>\n",
       "    .dataframe tbody tr th:only-of-type {\n",
       "        vertical-align: middle;\n",
       "    }\n",
       "\n",
       "    .dataframe tbody tr th {\n",
       "        vertical-align: top;\n",
       "    }\n",
       "\n",
       "    .dataframe thead th {\n",
       "        text-align: right;\n",
       "    }\n",
       "</style>\n",
       "<table border=\"1\" class=\"dataframe\">\n",
       "  <thead>\n",
       "    <tr style=\"text-align: right;\">\n",
       "      <th></th>\n",
       "      <th>improvement</th>\n",
       "    </tr>\n",
       "    <tr>\n",
       "      <th>metric</th>\n",
       "      <th></th>\n",
       "    </tr>\n",
       "  </thead>\n",
       "  <tbody>\n",
       "    <tr>\n",
       "      <th>mae</th>\n",
       "      <td>2.09</td>\n",
       "    </tr>\n",
       "    <tr>\n",
       "      <th>rmse</th>\n",
       "      <td>2.03</td>\n",
       "    </tr>\n",
       "    <tr>\n",
       "      <th>mape</th>\n",
       "      <td>2.19</td>\n",
       "    </tr>\n",
       "    <tr>\n",
       "      <th>smape</th>\n",
       "      <td>2.25</td>\n",
       "    </tr>\n",
       "  </tbody>\n",
       "</table>\n",
       "</div>"
      ],
      "text/plain": [
       "       improvement\n",
       "metric            \n",
       "mae           2.09\n",
       "rmse          2.03\n",
       "mape          2.19\n",
       "smape         2.25"
      ]
     },
     "execution_count": null,
     "metadata": {},
     "output_type": "execute_result"
    }
   ],
   "source": [
    "metrics_comparison['improvement'] = metrics_comparison['Prophet'] /  metrics_comparison['lgbm']\n",
    "metrics_comparison['improvement'] = metrics_comparison['improvement'].apply(lambda x: f'{x:.2f}')\n",
    "metrics_comparison.set_index('metric')[['improvement']]"
   ]
  },
  {
   "cell_type": "code",
   "execution_count": null,
   "id": "1e87f22c",
   "metadata": {},
   "outputs": [
    {
     "name": "stdout",
     "output_type": "stream",
     "text": [
      "lgbm with MLForecast has a speedup of 27.62 compared with prophet\n"
     ]
    }
   ],
   "source": [
    "print(f'lgbm with MLForecast has a speedup of {time_prophet/time_lgbm:.2f} compared with prophet')"
   ]
  },
  {
   "cell_type": "markdown",
   "id": "0028fc94",
   "metadata": {},
   "source": [
    "We can see that `lgbm` with `MLForecast` was able to provide metrics at least twice as good as `Prophet` as seen in the column `improvement` above, and way faster."
   ]
  }
 ],
 "metadata": {
  "kernelspec": {
   "display_name": "python3",
   "language": "python",
   "name": "python3"
  },
  "widgets": {
   "application/vnd.jupyter.widget-state+json": {
    "08a61808ff6c4d25baea40937b7a8423": {
     "model_module": "@jupyter-widgets/controls",
     "model_module_version": "1.5.0",
     "model_name": "DescriptionStyleModel",
     "state": {
      "_model_module": "@jupyter-widgets/controls",
      "_model_module_version": "1.5.0",
      "_model_name": "DescriptionStyleModel",
      "_view_count": null,
      "_view_module": "@jupyter-widgets/base",
      "_view_module_version": "1.2.0",
      "_view_name": "StyleView",
      "description_width": ""
     }
    },
    "11fa469116be4799b54101a3a7469b14": {
     "model_module": "@jupyter-widgets/controls",
     "model_module_version": "1.5.0",
     "model_name": "HBoxModel",
     "state": {
      "_dom_classes": [],
      "_model_module": "@jupyter-widgets/controls",
      "_model_module_version": "1.5.0",
      "_model_name": "HBoxModel",
      "_view_count": null,
      "_view_module": "@jupyter-widgets/controls",
      "_view_module_version": "1.5.0",
      "_view_name": "HBoxView",
      "box_style": "",
      "children": [
       "IPY_MODEL_74c3891e27cd42f6b79e4345ce410431",
       "IPY_MODEL_990ed9b1d61f4cd78948610ebd27b60e",
       "IPY_MODEL_67a8cda99b514986a615150f2942febf"
      ],
      "layout": "IPY_MODEL_890f803e9ca347e3b61a122ac6012c02"
     }
    },
    "1a83d5ee1fa44a14ab497f4d5654c440": {
     "model_module": "@jupyter-widgets/controls",
     "model_module_version": "1.5.0",
     "model_name": "ProgressStyleModel",
     "state": {
      "_model_module": "@jupyter-widgets/controls",
      "_model_module_version": "1.5.0",
      "_model_name": "ProgressStyleModel",
      "_view_count": null,
      "_view_module": "@jupyter-widgets/base",
      "_view_module_version": "1.2.0",
      "_view_name": "StyleView",
      "bar_color": null,
      "description_width": ""
     }
    },
    "24e0866fafe54f02ad2df5add6969398": {
     "model_module": "@jupyter-widgets/base",
     "model_module_version": "1.2.0",
     "model_name": "LayoutModel",
     "state": {
      "_model_module": "@jupyter-widgets/base",
      "_model_module_version": "1.2.0",
      "_model_name": "LayoutModel",
      "_view_count": null,
      "_view_module": "@jupyter-widgets/base",
      "_view_module_version": "1.2.0",
      "_view_name": "LayoutView",
      "align_content": null,
      "align_items": null,
      "align_self": null,
      "border": null,
      "bottom": null,
      "display": null,
      "flex": null,
      "flex_flow": null,
      "grid_area": null,
      "grid_auto_columns": null,
      "grid_auto_flow": null,
      "grid_auto_rows": null,
      "grid_column": null,
      "grid_gap": null,
      "grid_row": null,
      "grid_template_areas": null,
      "grid_template_columns": null,
      "grid_template_rows": null,
      "height": null,
      "justify_content": null,
      "justify_items": null,
      "left": null,
      "margin": null,
      "max_height": null,
      "max_width": null,
      "min_height": null,
      "min_width": null,
      "object_fit": null,
      "object_position": null,
      "order": null,
      "overflow": null,
      "overflow_x": null,
      "overflow_y": null,
      "padding": null,
      "right": null,
      "top": null,
      "visibility": null,
      "width": null
     }
    },
    "2911c7a7d9cc43818edcf2605c0bbe26": {
     "model_module": "@jupyter-widgets/controls",
     "model_module_version": "1.5.0",
     "model_name": "HTMLModel",
     "state": {
      "_dom_classes": [],
      "_model_module": "@jupyter-widgets/controls",
      "_model_module_version": "1.5.0",
      "_model_name": "HTMLModel",
      "_view_count": null,
      "_view_module": "@jupyter-widgets/controls",
      "_view_module_version": "1.5.0",
      "_view_name": "HTMLView",
      "description": "",
      "description_tooltip": null,
      "layout": "IPY_MODEL_c6898ddb42fa4893adea4aacae5375c6",
      "placeholder": "​",
      "style": "IPY_MODEL_75288d0038594c518e8a1e6948244cf0",
      "value": "100%"
     }
    },
    "38883b6aec794549a3518d18005c36bb": {
     "model_module": "@jupyter-widgets/base",
     "model_module_version": "1.2.0",
     "model_name": "LayoutModel",
     "state": {
      "_model_module": "@jupyter-widgets/base",
      "_model_module_version": "1.2.0",
      "_model_name": "LayoutModel",
      "_view_count": null,
      "_view_module": "@jupyter-widgets/base",
      "_view_module_version": "1.2.0",
      "_view_name": "LayoutView",
      "align_content": null,
      "align_items": null,
      "align_self": null,
      "border": null,
      "bottom": null,
      "display": null,
      "flex": null,
      "flex_flow": null,
      "grid_area": null,
      "grid_auto_columns": null,
      "grid_auto_flow": null,
      "grid_auto_rows": null,
      "grid_column": null,
      "grid_gap": null,
      "grid_row": null,
      "grid_template_areas": null,
      "grid_template_columns": null,
      "grid_template_rows": null,
      "height": null,
      "justify_content": null,
      "justify_items": null,
      "left": null,
      "margin": null,
      "max_height": null,
      "max_width": null,
      "min_height": null,
      "min_width": null,
      "object_fit": null,
      "object_position": null,
      "order": null,
      "overflow": null,
      "overflow_x": null,
      "overflow_y": null,
      "padding": null,
      "right": null,
      "top": null,
      "visibility": null,
      "width": null
     }
    },
    "5045aa6d1f2b4e8e91de40067e1dfc3f": {
     "model_module": "@jupyter-widgets/base",
     "model_module_version": "1.2.0",
     "model_name": "LayoutModel",
     "state": {
      "_model_module": "@jupyter-widgets/base",
      "_model_module_version": "1.2.0",
      "_model_name": "LayoutModel",
      "_view_count": null,
      "_view_module": "@jupyter-widgets/base",
      "_view_module_version": "1.2.0",
      "_view_name": "LayoutView",
      "align_content": null,
      "align_items": null,
      "align_self": null,
      "border": null,
      "bottom": null,
      "display": null,
      "flex": null,
      "flex_flow": null,
      "grid_area": null,
      "grid_auto_columns": null,
      "grid_auto_flow": null,
      "grid_auto_rows": null,
      "grid_column": null,
      "grid_gap": null,
      "grid_row": null,
      "grid_template_areas": null,
      "grid_template_columns": null,
      "grid_template_rows": null,
      "height": null,
      "justify_content": null,
      "justify_items": null,
      "left": null,
      "margin": null,
      "max_height": null,
      "max_width": null,
      "min_height": null,
      "min_width": null,
      "object_fit": null,
      "object_position": null,
      "order": null,
      "overflow": null,
      "overflow_x": null,
      "overflow_y": null,
      "padding": null,
      "right": null,
      "top": null,
      "visibility": null,
      "width": null
     }
    },
    "57e5c16676eb4580a35ec49d0f380adb": {
     "model_module": "@jupyter-widgets/controls",
     "model_module_version": "1.5.0",
     "model_name": "DescriptionStyleModel",
     "state": {
      "_model_module": "@jupyter-widgets/controls",
      "_model_module_version": "1.5.0",
      "_model_name": "DescriptionStyleModel",
      "_view_count": null,
      "_view_module": "@jupyter-widgets/base",
      "_view_module_version": "1.2.0",
      "_view_name": "StyleView",
      "description_width": ""
     }
    },
    "5b9e9275aa5f424991ba41f2dc099708": {
     "model_module": "@jupyter-widgets/controls",
     "model_module_version": "1.5.0",
     "model_name": "ProgressStyleModel",
     "state": {
      "_model_module": "@jupyter-widgets/controls",
      "_model_module_version": "1.5.0",
      "_model_name": "ProgressStyleModel",
      "_view_count": null,
      "_view_module": "@jupyter-widgets/base",
      "_view_module_version": "1.2.0",
      "_view_name": "StyleView",
      "bar_color": null,
      "description_width": ""
     }
    },
    "67a8cda99b514986a615150f2942febf": {
     "model_module": "@jupyter-widgets/controls",
     "model_module_version": "1.5.0",
     "model_name": "HTMLModel",
     "state": {
      "_dom_classes": [],
      "_model_module": "@jupyter-widgets/controls",
      "_model_module_version": "1.5.0",
      "_model_name": "HTMLModel",
      "_view_count": null,
      "_view_module": "@jupyter-widgets/controls",
      "_view_module_version": "1.5.0",
      "_view_name": "HTMLView",
      "description": "",
      "description_tooltip": null,
      "layout": "IPY_MODEL_24e0866fafe54f02ad2df5add6969398",
      "placeholder": "​",
      "style": "IPY_MODEL_c0ac09aea6ef4579bdc8cfb2dde1ef90",
      "value": " 162/162 [00:01&lt;00:00, 137.50it/s]"
     }
    },
    "71c7e263f95148cdbcac43e07989896c": {
     "model_module": "@jupyter-widgets/controls",
     "model_module_version": "1.5.0",
     "model_name": "HTMLModel",
     "state": {
      "_dom_classes": [],
      "_model_module": "@jupyter-widgets/controls",
      "_model_module_version": "1.5.0",
      "_model_name": "HTMLModel",
      "_view_count": null,
      "_view_module": "@jupyter-widgets/controls",
      "_view_module_version": "1.5.0",
      "_view_name": "HTMLView",
      "description": "",
      "description_tooltip": null,
      "layout": "IPY_MODEL_a09d7cf196094922958076a0f1784d55",
      "placeholder": "​",
      "style": "IPY_MODEL_57e5c16676eb4580a35ec49d0f380adb",
      "value": " 162/162 [00:01&lt;00:00, 137.64it/s]"
     }
    },
    "74c3891e27cd42f6b79e4345ce410431": {
     "model_module": "@jupyter-widgets/controls",
     "model_module_version": "1.5.0",
     "model_name": "HTMLModel",
     "state": {
      "_dom_classes": [],
      "_model_module": "@jupyter-widgets/controls",
      "_model_module_version": "1.5.0",
      "_model_name": "HTMLModel",
      "_view_count": null,
      "_view_module": "@jupyter-widgets/controls",
      "_view_module_version": "1.5.0",
      "_view_name": "HTMLView",
      "description": "",
      "description_tooltip": null,
      "layout": "IPY_MODEL_5045aa6d1f2b4e8e91de40067e1dfc3f",
      "placeholder": "​",
      "style": "IPY_MODEL_08a61808ff6c4d25baea40937b7a8423",
      "value": "100%"
     }
    },
    "75288d0038594c518e8a1e6948244cf0": {
     "model_module": "@jupyter-widgets/controls",
     "model_module_version": "1.5.0",
     "model_name": "DescriptionStyleModel",
     "state": {
      "_model_module": "@jupyter-widgets/controls",
      "_model_module_version": "1.5.0",
      "_model_name": "DescriptionStyleModel",
      "_view_count": null,
      "_view_module": "@jupyter-widgets/base",
      "_view_module_version": "1.2.0",
      "_view_name": "StyleView",
      "description_width": ""
     }
    },
    "890f803e9ca347e3b61a122ac6012c02": {
     "model_module": "@jupyter-widgets/base",
     "model_module_version": "1.2.0",
     "model_name": "LayoutModel",
     "state": {
      "_model_module": "@jupyter-widgets/base",
      "_model_module_version": "1.2.0",
      "_model_name": "LayoutModel",
      "_view_count": null,
      "_view_module": "@jupyter-widgets/base",
      "_view_module_version": "1.2.0",
      "_view_name": "LayoutView",
      "align_content": null,
      "align_items": null,
      "align_self": null,
      "border": null,
      "bottom": null,
      "display": null,
      "flex": null,
      "flex_flow": null,
      "grid_area": null,
      "grid_auto_columns": null,
      "grid_auto_flow": null,
      "grid_auto_rows": null,
      "grid_column": null,
      "grid_gap": null,
      "grid_row": null,
      "grid_template_areas": null,
      "grid_template_columns": null,
      "grid_template_rows": null,
      "height": null,
      "justify_content": null,
      "justify_items": null,
      "left": null,
      "margin": null,
      "max_height": null,
      "max_width": null,
      "min_height": null,
      "min_width": null,
      "object_fit": null,
      "object_position": null,
      "order": null,
      "overflow": null,
      "overflow_x": null,
      "overflow_y": null,
      "padding": null,
      "right": null,
      "top": null,
      "visibility": null,
      "width": null
     }
    },
    "94ebb139675d46e5940da49d20cd1606": {
     "model_module": "@jupyter-widgets/controls",
     "model_module_version": "1.5.0",
     "model_name": "HBoxModel",
     "state": {
      "_dom_classes": [],
      "_model_module": "@jupyter-widgets/controls",
      "_model_module_version": "1.5.0",
      "_model_name": "HBoxModel",
      "_view_count": null,
      "_view_module": "@jupyter-widgets/controls",
      "_view_module_version": "1.5.0",
      "_view_name": "HBoxView",
      "box_style": "",
      "children": [
       "IPY_MODEL_2911c7a7d9cc43818edcf2605c0bbe26",
       "IPY_MODEL_989e3dd6685a487cb272f4489208e9e2",
       "IPY_MODEL_71c7e263f95148cdbcac43e07989896c"
      ],
      "layout": "IPY_MODEL_ef8481b076934b26bc593e7eed597bdc"
     }
    },
    "989e3dd6685a487cb272f4489208e9e2": {
     "model_module": "@jupyter-widgets/controls",
     "model_module_version": "1.5.0",
     "model_name": "FloatProgressModel",
     "state": {
      "_dom_classes": [],
      "_model_module": "@jupyter-widgets/controls",
      "_model_module_version": "1.5.0",
      "_model_name": "FloatProgressModel",
      "_view_count": null,
      "_view_module": "@jupyter-widgets/controls",
      "_view_module_version": "1.5.0",
      "_view_name": "ProgressView",
      "bar_style": "success",
      "description": "",
      "description_tooltip": null,
      "layout": "IPY_MODEL_b6e461cbde0b454c8fda5b3fb5e64c7c",
      "max": 162,
      "min": 0,
      "orientation": "horizontal",
      "style": "IPY_MODEL_1a83d5ee1fa44a14ab497f4d5654c440",
      "value": 162
     }
    },
    "990ed9b1d61f4cd78948610ebd27b60e": {
     "model_module": "@jupyter-widgets/controls",
     "model_module_version": "1.5.0",
     "model_name": "FloatProgressModel",
     "state": {
      "_dom_classes": [],
      "_model_module": "@jupyter-widgets/controls",
      "_model_module_version": "1.5.0",
      "_model_name": "FloatProgressModel",
      "_view_count": null,
      "_view_module": "@jupyter-widgets/controls",
      "_view_module_version": "1.5.0",
      "_view_name": "ProgressView",
      "bar_style": "success",
      "description": "",
      "description_tooltip": null,
      "layout": "IPY_MODEL_38883b6aec794549a3518d18005c36bb",
      "max": 162,
      "min": 0,
      "orientation": "horizontal",
      "style": "IPY_MODEL_5b9e9275aa5f424991ba41f2dc099708",
      "value": 162
     }
    },
    "a09d7cf196094922958076a0f1784d55": {
     "model_module": "@jupyter-widgets/base",
     "model_module_version": "1.2.0",
     "model_name": "LayoutModel",
     "state": {
      "_model_module": "@jupyter-widgets/base",
      "_model_module_version": "1.2.0",
      "_model_name": "LayoutModel",
      "_view_count": null,
      "_view_module": "@jupyter-widgets/base",
      "_view_module_version": "1.2.0",
      "_view_name": "LayoutView",
      "align_content": null,
      "align_items": null,
      "align_self": null,
      "border": null,
      "bottom": null,
      "display": null,
      "flex": null,
      "flex_flow": null,
      "grid_area": null,
      "grid_auto_columns": null,
      "grid_auto_flow": null,
      "grid_auto_rows": null,
      "grid_column": null,
      "grid_gap": null,
      "grid_row": null,
      "grid_template_areas": null,
      "grid_template_columns": null,
      "grid_template_rows": null,
      "height": null,
      "justify_content": null,
      "justify_items": null,
      "left": null,
      "margin": null,
      "max_height": null,
      "max_width": null,
      "min_height": null,
      "min_width": null,
      "object_fit": null,
      "object_position": null,
      "order": null,
      "overflow": null,
      "overflow_x": null,
      "overflow_y": null,
      "padding": null,
      "right": null,
      "top": null,
      "visibility": null,
      "width": null
     }
    },
    "b6e461cbde0b454c8fda5b3fb5e64c7c": {
     "model_module": "@jupyter-widgets/base",
     "model_module_version": "1.2.0",
     "model_name": "LayoutModel",
     "state": {
      "_model_module": "@jupyter-widgets/base",
      "_model_module_version": "1.2.0",
      "_model_name": "LayoutModel",
      "_view_count": null,
      "_view_module": "@jupyter-widgets/base",
      "_view_module_version": "1.2.0",
      "_view_name": "LayoutView",
      "align_content": null,
      "align_items": null,
      "align_self": null,
      "border": null,
      "bottom": null,
      "display": null,
      "flex": null,
      "flex_flow": null,
      "grid_area": null,
      "grid_auto_columns": null,
      "grid_auto_flow": null,
      "grid_auto_rows": null,
      "grid_column": null,
      "grid_gap": null,
      "grid_row": null,
      "grid_template_areas": null,
      "grid_template_columns": null,
      "grid_template_rows": null,
      "height": null,
      "justify_content": null,
      "justify_items": null,
      "left": null,
      "margin": null,
      "max_height": null,
      "max_width": null,
      "min_height": null,
      "min_width": null,
      "object_fit": null,
      "object_position": null,
      "order": null,
      "overflow": null,
      "overflow_x": null,
      "overflow_y": null,
      "padding": null,
      "right": null,
      "top": null,
      "visibility": null,
      "width": null
     }
    },
    "c0ac09aea6ef4579bdc8cfb2dde1ef90": {
     "model_module": "@jupyter-widgets/controls",
     "model_module_version": "1.5.0",
     "model_name": "DescriptionStyleModel",
     "state": {
      "_model_module": "@jupyter-widgets/controls",
      "_model_module_version": "1.5.0",
      "_model_name": "DescriptionStyleModel",
      "_view_count": null,
      "_view_module": "@jupyter-widgets/base",
      "_view_module_version": "1.2.0",
      "_view_name": "StyleView",
      "description_width": ""
     }
    },
    "c6898ddb42fa4893adea4aacae5375c6": {
     "model_module": "@jupyter-widgets/base",
     "model_module_version": "1.2.0",
     "model_name": "LayoutModel",
     "state": {
      "_model_module": "@jupyter-widgets/base",
      "_model_module_version": "1.2.0",
      "_model_name": "LayoutModel",
      "_view_count": null,
      "_view_module": "@jupyter-widgets/base",
      "_view_module_version": "1.2.0",
      "_view_name": "LayoutView",
      "align_content": null,
      "align_items": null,
      "align_self": null,
      "border": null,
      "bottom": null,
      "display": null,
      "flex": null,
      "flex_flow": null,
      "grid_area": null,
      "grid_auto_columns": null,
      "grid_auto_flow": null,
      "grid_auto_rows": null,
      "grid_column": null,
      "grid_gap": null,
      "grid_row": null,
      "grid_template_areas": null,
      "grid_template_columns": null,
      "grid_template_rows": null,
      "height": null,
      "justify_content": null,
      "justify_items": null,
      "left": null,
      "margin": null,
      "max_height": null,
      "max_width": null,
      "min_height": null,
      "min_width": null,
      "object_fit": null,
      "object_position": null,
      "order": null,
      "overflow": null,
      "overflow_x": null,
      "overflow_y": null,
      "padding": null,
      "right": null,
      "top": null,
      "visibility": null,
      "width": null
     }
    },
    "ef8481b076934b26bc593e7eed597bdc": {
     "model_module": "@jupyter-widgets/base",
     "model_module_version": "1.2.0",
     "model_name": "LayoutModel",
     "state": {
      "_model_module": "@jupyter-widgets/base",
      "_model_module_version": "1.2.0",
      "_model_name": "LayoutModel",
      "_view_count": null,
      "_view_module": "@jupyter-widgets/base",
      "_view_module_version": "1.2.0",
      "_view_name": "LayoutView",
      "align_content": null,
      "align_items": null,
      "align_self": null,
      "border": null,
      "bottom": null,
      "display": null,
      "flex": null,
      "flex_flow": null,
      "grid_area": null,
      "grid_auto_columns": null,
      "grid_auto_flow": null,
      "grid_auto_rows": null,
      "grid_column": null,
      "grid_gap": null,
      "grid_row": null,
      "grid_template_areas": null,
      "grid_template_columns": null,
      "grid_template_rows": null,
      "height": null,
      "justify_content": null,
      "justify_items": null,
      "left": null,
      "margin": null,
      "max_height": null,
      "max_width": null,
      "min_height": null,
      "min_width": null,
      "object_fit": null,
      "object_position": null,
      "order": null,
      "overflow": null,
      "overflow_x": null,
      "overflow_y": null,
      "padding": null,
      "right": null,
      "top": null,
      "visibility": null,
      "width": null
     }
    }
   }
  }
 },
 "nbformat": 4,
 "nbformat_minor": 5
}
