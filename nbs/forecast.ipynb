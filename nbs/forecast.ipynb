{
 "cells": [
  {
   "cell_type": "code",
   "execution_count": null,
   "id": "1efa33fa-816f-463f-9215-9559b0ddd6ba",
   "metadata": {},
   "outputs": [],
   "source": [
    "#|default_exp forecast"
   ]
  },
  {
   "cell_type": "code",
   "execution_count": null,
   "id": "20376798-3d26-4c74-9e52-d5b657b7768a",
   "metadata": {},
   "outputs": [],
   "source": [
    "#|hide\n",
    "%load_ext autoreload\n",
    "%autoreload 2"
   ]
  },
  {
   "cell_type": "markdown",
   "id": "bccedaf1-56c9-4aaf-af7b-fe049df299ad",
   "metadata": {},
   "source": [
    "# Forecast\n",
    "\n",
    "> Full pipeline encapsulation"
   ]
  },
  {
   "cell_type": "code",
   "execution_count": null,
   "id": "1b089a52-e06d-49b1-9328-793cffe56045",
   "metadata": {},
   "outputs": [],
   "source": [
    "#|export\n",
    "import reprlib\n",
    "from typing import Callable, List, Optional\n",
    "\n",
    "import pandas as pd\n",
    "\n",
    "from mlforecast.core import TimeSeries\n",
    "from mlforecast.utils import backtest_splits"
   ]
  },
  {
   "cell_type": "code",
   "execution_count": null,
   "id": "07073d89-e33c-41d6-9bd3-a6daa07fef5e",
   "metadata": {},
   "outputs": [],
   "source": [
    "#|hide\n",
    "import warnings\n",
    "\n",
    "from nbdev import show_doc\n",
    "from sklearn import set_config"
   ]
  },
  {
   "cell_type": "code",
   "execution_count": null,
   "id": "e0d9a4f5",
   "metadata": {},
   "outputs": [],
   "source": [
    "#|hide\n",
    "set_config(display='text')\n",
    "warnings.simplefilter('ignore', UserWarning)"
   ]
  },
  {
   "cell_type": "code",
   "execution_count": null,
   "id": "c823ab21-fabd-40aa-81fc-c8be0e7b12f3",
   "metadata": {},
   "outputs": [],
   "source": [
    "#|export\n",
    "class Forecast:\n",
    "    \"\"\"Full pipeline encapsulation. \n",
    "    \n",
    "    Takes a model or list of models (scikit-learn compatible regressors) and TimeSeries\n",
    "    and runs all the forecasting pipeline.\"\"\"\n",
    "    \n",
    "    def __init__(self, models, ts: TimeSeries):\n",
    "        if not isinstance(models, list):\n",
    "            models = [models]\n",
    "        self.models = models\n",
    "        self.ts = ts\n",
    "        \n",
    "    def __repr__(self):\n",
    "        return f'Forecast(models={reprlib.repr(self.models)}, ts={reprlib.repr(self.ts)})'\n",
    "    \n",
    "    @property\n",
    "    def freq(self):\n",
    "        return self.ts.freq\n",
    "\n",
    "    def preprocess(\n",
    "        self,\n",
    "        data: pd.DataFrame,\n",
    "        static_features: Optional[List[str]] = None,\n",
    "        dropna: bool = True,\n",
    "        keep_last_n: Optional[int] = None,\n",
    "    ) -> pd.DataFrame:\n",
    "        return self.ts.fit_transform(data, static_features, dropna, keep_last_n)\n",
    "\n",
    "    def fit(\n",
    "        self,\n",
    "        data: pd.DataFrame,\n",
    "        static_features: Optional[List[str]] = None,\n",
    "        dropna: bool = True,\n",
    "        keep_last_n: Optional[int] = None,            \n",
    "        **fit_kwargs,\n",
    "    ) -> 'Forecast':\n",
    "        \"\"\"Preprocesses `data` and fits `model` to it.\"\"\"\n",
    "        series_df = self.preprocess(data, static_features, dropna, keep_last_n)\n",
    "        X, y = series_df.drop(columns=['ds', 'y']), series_df.y.values\n",
    "        del series_df\n",
    "        for model in self.models:\n",
    "            model.fit(X, y, **fit_kwargs)\n",
    "        return self\n",
    "\n",
    "    def predict(\n",
    "        self,\n",
    "        horizon: int,\n",
    "        dynamic_dfs: Optional[List[pd.DataFrame]] = None,        \n",
    "        predict_fn: Optional[Callable] = None,\n",
    "        **predict_fn_kwargs,\n",
    "    ) -> pd.DataFrame:\n",
    "        \"\"\"Compute the predictions for the next `horizon` steps.\n",
    "        \n",
    "        `predict_fn(model, new_x, features_order, **predict_fn_kwargs)` is called in every timestep, where:\n",
    "        `model` is the trained model.\n",
    "        `new_x` is a dataframe with the same format as the input plus the computed features.\n",
    "        `features_order` is the list of column names that were used in the training step.\n",
    "        \"\"\"\n",
    "        return self.ts.predict(\n",
    "            self.models, horizon, dynamic_dfs, predict_fn, **predict_fn_kwargs\n",
    "        )\n",
    "\n",
    "    def cross_validation(\n",
    "        self,\n",
    "        data,\n",
    "        n_windows: int,\n",
    "        window_size: int,\n",
    "        static_features: Optional[List[str]] = None,\n",
    "        dropna: bool = True,\n",
    "        keep_last_n: Optional[int] = None,\n",
    "        dynamic_dfs: Optional[List[pd.DataFrame]] = None,\n",
    "        predict_fn: Optional[Callable] = None,\n",
    "        **predict_fn_kwargs,\n",
    "    ):\n",
    "        \"\"\"Creates `n_windows` splits of `window_size` from `data`, trains the model\n",
    "        on the training set, predicts the window and merges the actuals and the predictions\n",
    "        in a dataframe.\n",
    "\n",
    "        Returns a dataframe containing the datestamps, actual values, train ends and predictions.\"\"\"\n",
    "        results = []\n",
    "        for train_end, train, valid in backtest_splits(data, n_windows, window_size, self.freq):\n",
    "            self.fit(train, static_features, dropna, keep_last_n)\n",
    "            y_pred = self.predict(\n",
    "                window_size, dynamic_dfs, predict_fn, **predict_fn_kwargs\n",
    "            )\n",
    "            result = valid[['ds', 'y']].copy()\n",
    "            result['cutoff'] = train_end\n",
    "            result = result.merge(y_pred, on=['unique_id', 'ds'], how='left')\n",
    "            results.append(result)\n",
    "\n",
    "        from mlforecast.compat import dd_concat\n",
    "        concat_fn = pd.concat if isinstance(data, pd.DataFrame) else dd_concat\n",
    "        return concat_fn(results)"
   ]
  },
  {
   "cell_type": "markdown",
   "id": "67c7c92c-2ba9-4885-bbc1-8e4a4f67f0d9",
   "metadata": {},
   "source": [
    "The `Forecast` class is a high level abstraction that encapsulates all the steps in the pipeline (preprocessing, fitting the model and computing the predictions). It tries to mimic the scikit-learn API."
   ]
  },
  {
   "cell_type": "markdown",
   "id": "fb5ec811-8876-4daa-84a2-2ebe0559a02b",
   "metadata": {},
   "source": [
    "## Example\n",
    "This shows an example with simulated data, for a real world example you can check the [M5 example](https://www.kaggle.com/lemuz90/m5-mlforecast)."
   ]
  },
  {
   "cell_type": "code",
   "execution_count": null,
   "id": "f3032775-f610-4091-a750-73219d904c88",
   "metadata": {},
   "outputs": [],
   "source": [
    "import lightgbm as lgb\n",
    "import matplotlib.pyplot as plt\n",
    "import numpy as np\n",
    "import xgboost as xgb\n",
    "from sklearn.metrics import mean_squared_error\n",
    "from window_ops.expanding import expanding_mean\n",
    "from window_ops.rolling import rolling_mean\n",
    "\n",
    "from mlforecast.utils import generate_daily_series, generate_prices_for_series"
   ]
  },
  {
   "cell_type": "markdown",
   "id": "edb46457-6c08-420c-9a2e-ab0ae54dd41c",
   "metadata": {},
   "source": [
    "In order to forecast some time series you need a dataframe with `unique_id` as the index (which contains the identifier for each time serie), a `ds` column with the datestamps and a `y` column with the series values."
   ]
  },
  {
   "cell_type": "markdown",
   "id": "c938e585-461e-464e-9a4b-4299a59f5272",
   "metadata": {},
   "source": [
    "### Data setup"
   ]
  },
  {
   "cell_type": "code",
   "execution_count": null,
   "id": "09c776bb-b87b-4c01-a67a-ff95a055b5a1",
   "metadata": {},
   "outputs": [
    {
     "data": {
      "text/html": [
       "<div>\n",
       "<style scoped>\n",
       "    .dataframe tbody tr th:only-of-type {\n",
       "        vertical-align: middle;\n",
       "    }\n",
       "\n",
       "    .dataframe tbody tr th {\n",
       "        vertical-align: top;\n",
       "    }\n",
       "\n",
       "    .dataframe thead th {\n",
       "        text-align: right;\n",
       "    }\n",
       "</style>\n",
       "<table border=\"1\" class=\"dataframe\">\n",
       "  <thead>\n",
       "    <tr style=\"text-align: right;\">\n",
       "      <th></th>\n",
       "      <th>ds</th>\n",
       "      <th>y</th>\n",
       "      <th>static_0</th>\n",
       "      <th>static_1</th>\n",
       "    </tr>\n",
       "    <tr>\n",
       "      <th>unique_id</th>\n",
       "      <th></th>\n",
       "      <th></th>\n",
       "      <th></th>\n",
       "      <th></th>\n",
       "    </tr>\n",
       "  </thead>\n",
       "  <tbody>\n",
       "    <tr>\n",
       "      <th>id_00</th>\n",
       "      <td>2000-10-05</td>\n",
       "      <td>39.811983</td>\n",
       "      <td>79</td>\n",
       "      <td>45</td>\n",
       "    </tr>\n",
       "    <tr>\n",
       "      <th>id_00</th>\n",
       "      <td>2000-10-06</td>\n",
       "      <td>103.274013</td>\n",
       "      <td>79</td>\n",
       "      <td>45</td>\n",
       "    </tr>\n",
       "    <tr>\n",
       "      <th>id_00</th>\n",
       "      <td>2000-10-07</td>\n",
       "      <td>176.574744</td>\n",
       "      <td>79</td>\n",
       "      <td>45</td>\n",
       "    </tr>\n",
       "    <tr>\n",
       "      <th>id_00</th>\n",
       "      <td>2000-10-08</td>\n",
       "      <td>258.987900</td>\n",
       "      <td>79</td>\n",
       "      <td>45</td>\n",
       "    </tr>\n",
       "    <tr>\n",
       "      <th>id_00</th>\n",
       "      <td>2000-10-09</td>\n",
       "      <td>344.940404</td>\n",
       "      <td>79</td>\n",
       "      <td>45</td>\n",
       "    </tr>\n",
       "    <tr>\n",
       "      <th>...</th>\n",
       "      <td>...</td>\n",
       "      <td>...</td>\n",
       "      <td>...</td>\n",
       "      <td>...</td>\n",
       "    </tr>\n",
       "    <tr>\n",
       "      <th>id_99</th>\n",
       "      <td>2001-05-10</td>\n",
       "      <td>453.400509</td>\n",
       "      <td>69</td>\n",
       "      <td>35</td>\n",
       "    </tr>\n",
       "    <tr>\n",
       "      <th>id_99</th>\n",
       "      <td>2001-05-11</td>\n",
       "      <td>30.229478</td>\n",
       "      <td>69</td>\n",
       "      <td>35</td>\n",
       "    </tr>\n",
       "    <tr>\n",
       "      <th>id_99</th>\n",
       "      <td>2001-05-12</td>\n",
       "      <td>101.313713</td>\n",
       "      <td>69</td>\n",
       "      <td>35</td>\n",
       "    </tr>\n",
       "    <tr>\n",
       "      <th>id_99</th>\n",
       "      <td>2001-05-13</td>\n",
       "      <td>145.724335</td>\n",
       "      <td>69</td>\n",
       "      <td>35</td>\n",
       "    </tr>\n",
       "    <tr>\n",
       "      <th>id_99</th>\n",
       "      <td>2001-05-14</td>\n",
       "      <td>228.163571</td>\n",
       "      <td>69</td>\n",
       "      <td>35</td>\n",
       "    </tr>\n",
       "  </tbody>\n",
       "</table>\n",
       "<p>27003 rows × 4 columns</p>\n",
       "</div>"
      ],
      "text/plain": [
       "                  ds           y  static_0  static_1\n",
       "unique_id                                           \n",
       "id_00     2000-10-05   39.811983        79        45\n",
       "id_00     2000-10-06  103.274013        79        45\n",
       "id_00     2000-10-07  176.574744        79        45\n",
       "id_00     2000-10-08  258.987900        79        45\n",
       "id_00     2000-10-09  344.940404        79        45\n",
       "...              ...         ...       ...       ...\n",
       "id_99     2001-05-10  453.400509        69        35\n",
       "id_99     2001-05-11   30.229478        69        35\n",
       "id_99     2001-05-12  101.313713        69        35\n",
       "id_99     2001-05-13  145.724335        69        35\n",
       "id_99     2001-05-14  228.163571        69        35\n",
       "\n",
       "[27003 rows x 4 columns]"
      ]
     },
     "execution_count": null,
     "metadata": {},
     "output_type": "execute_result"
    }
   ],
   "source": [
    "series = generate_daily_series(100, equal_ends=True, n_static_features=2, static_as_categorical=False)\n",
    "series"
   ]
  },
  {
   "cell_type": "markdown",
   "id": "ef89b3af-839e-43d4-9d09-ead84bedeed6",
   "metadata": {},
   "source": [
    "Whatever extra columns you have, like `static_0` and `static_1` here are considered to be static and are replicated when constructing the features for the next datestamp. You can disable this by passing `static_features` to `Forecast.preprocess` or `Forecast.fit` , which will only keep the columns you define there as static. Keep in mind that they will still be used for training, so you'll have to provide them to `Forecast.predict` through the `dynamic_dfs` argument."
   ]
  },
  {
   "cell_type": "markdown",
   "id": "2929f996-45a0-4d48-9af3-9ba4607362e2",
   "metadata": {},
   "source": [
    "### Models"
   ]
  },
  {
   "cell_type": "markdown",
   "id": "1632163b-f049-4467-9635-7483982777b2",
   "metadata": {},
   "source": [
    "The models can be any scikit-learn compatible regressors."
   ]
  },
  {
   "cell_type": "code",
   "execution_count": null,
   "id": "303dee3a-60ca-426b-a996-0e7a11efbbac",
   "metadata": {},
   "outputs": [],
   "source": [
    "models = [\n",
    "    lgb.LGBMRegressor(n_jobs=1, force_col_wise=True, random_state=0),\n",
    "    xgb.XGBRegressor(n_jobs=1, random_state=0)\n",
    "]"
   ]
  },
  {
   "cell_type": "markdown",
   "id": "4833ef5a-e31c-4ffb-9e62-f016e5b73c36",
   "metadata": {},
   "source": [
    "### TimeSeries\n",
    "The other component needed in `Forecast` is a `TimeSeries` object, which defines the features to be computed. "
   ]
  },
  {
   "cell_type": "code",
   "execution_count": null,
   "id": "4bfddfe2-7858-42b5-a10b-94a54ca0f529",
   "metadata": {},
   "outputs": [
    {
     "data": {
      "text/plain": [
       "TimeSeries(freq=<Day>, transforms=['lag-7', 'expanding_mean_lag-1', 'rolling_mean...indow_size-14'], date_features=['dayofweek', 'month'], num_threads=2)"
      ]
     },
     "execution_count": null,
     "metadata": {},
     "output_type": "execute_result"
    }
   ],
   "source": [
    "ts = TimeSeries(\n",
    "    freq='D',\n",
    "    lags=[7],\n",
    "    lag_transforms={\n",
    "        1: [expanding_mean],\n",
    "        7: [(rolling_mean, 14)]\n",
    "    },\n",
    "    date_features=['dayofweek', 'month'],\n",
    "    num_threads=2,    \n",
    ")\n",
    "ts"
   ]
  },
  {
   "cell_type": "markdown",
   "id": "9cc538a8-97a1-4c5a-903e-9933188bdce0",
   "metadata": {},
   "source": [
    "Here where we say that:\n",
    "* Our series have daily frequency.\n",
    "* We want to use lag 7 as a feature\n",
    "* We want the lag transformations to be:\n",
    "   * expanding mean of the lag 1\n",
    "   * rolling mean of the lag 7 over a window of size 14\n",
    "* We want to use dayofweek and month as date features.\n",
    "* We want to perform the preprocessing and the forecasting steps using 2 threads."
   ]
  },
  {
   "cell_type": "markdown",
   "id": "8f06980a-e300-4855-ae8f-de4edb84627d",
   "metadata": {},
   "source": [
    "### Training"
   ]
  },
  {
   "cell_type": "markdown",
   "id": "6854f615-a7a1-45d9-9122-852478db2f8d",
   "metadata": {},
   "source": [
    "Once we have this setup we just instantiate a `Forecast` object with the model and the time series."
   ]
  },
  {
   "cell_type": "code",
   "execution_count": null,
   "id": "7b62a31f-b470-49a8-bb05-73b3e6c02fea",
   "metadata": {},
   "outputs": [],
   "source": [
    "fcst = Forecast(models, ts)"
   ]
  },
  {
   "cell_type": "markdown",
   "id": "83b27ed8-c611-40ea-85cf-f97a2c56518f",
   "metadata": {},
   "source": [
    "From this point we have two options:\n",
    "\n",
    "1. Preprocess the data and fit our model using all of it.\n",
    "2. Preprocess the data and get it back as a dataframe to do some custom splitting or adding additional features, then training the model."
   ]
  },
  {
   "cell_type": "markdown",
   "id": "00984e9a-3dbe-471f-98c7-a7ee82441575",
   "metadata": {},
   "source": [
    "#### 1. Using all the data"
   ]
  },
  {
   "cell_type": "code",
   "execution_count": null,
   "id": "e7d42544-91a7-4c08-a190-925343e3c0b0",
   "metadata": {},
   "outputs": [
    {
     "data": {
      "text/markdown": [
       "---\n",
       "\n",
       "### Forecast.fit\n",
       "\n",
       ">      Forecast.fit (data:pandas.core.frame.DataFrame,\n",
       ">                    static_features:Optional[List[str]]=None, dropna:bool=True,\n",
       ">                    keep_last_n:Optional[int]=None, **fit_kwargs)\n",
       "\n",
       "Preprocesses `data` and fits `model` to it."
      ],
      "text/plain": [
       "---\n",
       "\n",
       "### Forecast.fit\n",
       "\n",
       ">      Forecast.fit (data:pandas.core.frame.DataFrame,\n",
       ">                    static_features:Optional[List[str]]=None, dropna:bool=True,\n",
       ">                    keep_last_n:Optional[int]=None, **fit_kwargs)\n",
       "\n",
       "Preprocesses `data` and fits `model` to it."
      ]
     },
     "execution_count": null,
     "metadata": {},
     "output_type": "execute_result"
    }
   ],
   "source": [
    "show_doc(Forecast.fit)"
   ]
  },
  {
   "cell_type": "markdown",
   "id": "1bd38e85-4369-4711-b104-fd2ee4e6e8fb",
   "metadata": {},
   "source": [
    "Calling `.fit` on our data performs the preprocessing and uses all the data to train our model."
   ]
  },
  {
   "cell_type": "code",
   "execution_count": null,
   "id": "6ed6a43b-8bcf-4ea4-95fb-0f1460521f8f",
   "metadata": {},
   "outputs": [
    {
     "data": {
      "text/plain": [
       "Forecast(models=[LGBMRegressor...andom_state=0), XGBRegressor(...lambda=1, ...)], ts=TimeSeries(fr...num_threads=2))"
      ]
     },
     "execution_count": null,
     "metadata": {},
     "output_type": "execute_result"
    }
   ],
   "source": [
    "fcst.fit(series)"
   ]
  },
  {
   "cell_type": "markdown",
   "id": "41259cfa-6d22-4e57-b666-b50e3facf508",
   "metadata": {},
   "source": [
    "### Forecasting"
   ]
  },
  {
   "cell_type": "code",
   "execution_count": null,
   "id": "cfdc813d-9ab9-4905-9864-442c09bba7ab",
   "metadata": {},
   "outputs": [
    {
     "data": {
      "text/markdown": [
       "---\n",
       "\n",
       "### Forecast.predict\n",
       "\n",
       ">      Forecast.predict (horizon:int,\n",
       ">                        dynamic_dfs:Optional[List[pandas.core.frame.DataFrame]]\n",
       ">                        =None, predict_fn:Optional[Callable]=None,\n",
       ">                        **predict_fn_kwargs)\n",
       "\n",
       "Compute the predictions for the next `horizon` steps.\n",
       "\n",
       "`predict_fn(model, new_x, features_order, **predict_fn_kwargs)` is called in every timestep, where:\n",
       "`model` is the trained model.\n",
       "`new_x` is a dataframe with the same format as the input plus the computed features.\n",
       "`features_order` is the list of column names that were used in the training step."
      ],
      "text/plain": [
       "---\n",
       "\n",
       "### Forecast.predict\n",
       "\n",
       ">      Forecast.predict (horizon:int,\n",
       ">                        dynamic_dfs:Optional[List[pandas.core.frame.DataFrame]]\n",
       ">                        =None, predict_fn:Optional[Callable]=None,\n",
       ">                        **predict_fn_kwargs)\n",
       "\n",
       "Compute the predictions for the next `horizon` steps.\n",
       "\n",
       "`predict_fn(model, new_x, features_order, **predict_fn_kwargs)` is called in every timestep, where:\n",
       "`model` is the trained model.\n",
       "`new_x` is a dataframe with the same format as the input plus the computed features.\n",
       "`features_order` is the list of column names that were used in the training step."
      ]
     },
     "execution_count": null,
     "metadata": {},
     "output_type": "execute_result"
    }
   ],
   "source": [
    "show_doc(Forecast.predict)"
   ]
  },
  {
   "cell_type": "markdown",
   "id": "907e47c2-eea4-4359-8557-7a1ae4c11752",
   "metadata": {},
   "source": [
    "Once we have this fitted model, we can compute the forecasts for the next 7 timesteps."
   ]
  },
  {
   "cell_type": "code",
   "execution_count": null,
   "id": "79b224be-4f15-4b2b-8985-d8a590a384b6",
   "metadata": {},
   "outputs": [
    {
     "data": {
      "text/html": [
       "<div>\n",
       "<style scoped>\n",
       "    .dataframe tbody tr th:only-of-type {\n",
       "        vertical-align: middle;\n",
       "    }\n",
       "\n",
       "    .dataframe tbody tr th {\n",
       "        vertical-align: top;\n",
       "    }\n",
       "\n",
       "    .dataframe thead th {\n",
       "        text-align: right;\n",
       "    }\n",
       "</style>\n",
       "<table border=\"1\" class=\"dataframe\">\n",
       "  <thead>\n",
       "    <tr style=\"text-align: right;\">\n",
       "      <th></th>\n",
       "      <th>ds</th>\n",
       "      <th>LGBMRegressor</th>\n",
       "      <th>XGBRegressor</th>\n",
       "    </tr>\n",
       "    <tr>\n",
       "      <th>unique_id</th>\n",
       "      <th></th>\n",
       "      <th></th>\n",
       "      <th></th>\n",
       "    </tr>\n",
       "  </thead>\n",
       "  <tbody>\n",
       "    <tr>\n",
       "      <th>id_00</th>\n",
       "      <td>2001-05-15</td>\n",
       "      <td>421.448182</td>\n",
       "      <td>435.328949</td>\n",
       "    </tr>\n",
       "    <tr>\n",
       "      <th>id_00</th>\n",
       "      <td>2001-05-16</td>\n",
       "      <td>499.656057</td>\n",
       "      <td>508.972076</td>\n",
       "    </tr>\n",
       "    <tr>\n",
       "      <th>id_00</th>\n",
       "      <td>2001-05-17</td>\n",
       "      <td>21.335532</td>\n",
       "      <td>18.983215</td>\n",
       "    </tr>\n",
       "    <tr>\n",
       "      <th>id_00</th>\n",
       "      <td>2001-05-18</td>\n",
       "      <td>102.884269</td>\n",
       "      <td>99.284401</td>\n",
       "    </tr>\n",
       "    <tr>\n",
       "      <th>id_00</th>\n",
       "      <td>2001-05-19</td>\n",
       "      <td>186.160181</td>\n",
       "      <td>180.996490</td>\n",
       "    </tr>\n",
       "    <tr>\n",
       "      <th>...</th>\n",
       "      <td>...</td>\n",
       "      <td>...</td>\n",
       "      <td>...</td>\n",
       "    </tr>\n",
       "    <tr>\n",
       "      <th>id_99</th>\n",
       "      <td>2001-05-17</td>\n",
       "      <td>443.481967</td>\n",
       "      <td>435.208649</td>\n",
       "    </tr>\n",
       "    <tr>\n",
       "      <th>id_99</th>\n",
       "      <td>2001-05-18</td>\n",
       "      <td>19.476021</td>\n",
       "      <td>21.461609</td>\n",
       "    </tr>\n",
       "    <tr>\n",
       "      <th>id_99</th>\n",
       "      <td>2001-05-19</td>\n",
       "      <td>90.335796</td>\n",
       "      <td>92.986107</td>\n",
       "    </tr>\n",
       "    <tr>\n",
       "      <th>id_99</th>\n",
       "      <td>2001-05-20</td>\n",
       "      <td>152.202375</td>\n",
       "      <td>153.958008</td>\n",
       "    </tr>\n",
       "    <tr>\n",
       "      <th>id_99</th>\n",
       "      <td>2001-05-21</td>\n",
       "      <td>228.963404</td>\n",
       "      <td>229.339050</td>\n",
       "    </tr>\n",
       "  </tbody>\n",
       "</table>\n",
       "<p>700 rows × 3 columns</p>\n",
       "</div>"
      ],
      "text/plain": [
       "                  ds  LGBMRegressor  XGBRegressor\n",
       "unique_id                                        \n",
       "id_00     2001-05-15     421.448182    435.328949\n",
       "id_00     2001-05-16     499.656057    508.972076\n",
       "id_00     2001-05-17      21.335532     18.983215\n",
       "id_00     2001-05-18     102.884269     99.284401\n",
       "id_00     2001-05-19     186.160181    180.996490\n",
       "...              ...            ...           ...\n",
       "id_99     2001-05-17     443.481967    435.208649\n",
       "id_99     2001-05-18      19.476021     21.461609\n",
       "id_99     2001-05-19      90.335796     92.986107\n",
       "id_99     2001-05-20     152.202375    153.958008\n",
       "id_99     2001-05-21     228.963404    229.339050\n",
       "\n",
       "[700 rows x 3 columns]"
      ]
     },
     "execution_count": null,
     "metadata": {},
     "output_type": "execute_result"
    }
   ],
   "source": [
    "fcst.predict(7)"
   ]
  },
  {
   "cell_type": "markdown",
   "id": "cafe74b7-f0a3-4105-a11e-6da5b09ab7fe",
   "metadata": {},
   "source": [
    "This uses each prediction as the next value of the target and updates all features accordingly. The static features were propagated and the date features were computed using each new datestamp."
   ]
  },
  {
   "cell_type": "code",
   "execution_count": null,
   "id": "ab63b809-a70a-4067-891a-4fe3d6375069",
   "metadata": {},
   "outputs": [],
   "source": [
    "#|hide\n",
    "preds = fcst.predict(7)\n",
    "preds2 = fcst.predict(7)\n",
    "\n",
    "pd.testing.assert_frame_equal(preds, preds2)"
   ]
  },
  {
   "cell_type": "markdown",
   "id": "4aa1ea5b-73ed-4e5b-8e5d-7333b6c8ae14",
   "metadata": {},
   "source": [
    "#### 2. Preprocess and train"
   ]
  },
  {
   "cell_type": "markdown",
   "id": "9662a990-8c9f-4d19-b42c-e03c97164296",
   "metadata": {},
   "source": [
    "If we only want to perform the preprocessing step we call `.preprocess` on our data."
   ]
  },
  {
   "cell_type": "code",
   "execution_count": null,
   "id": "c21260f3-bd8f-4143-bb60-deb9ca0d46e4",
   "metadata": {},
   "outputs": [
    {
     "data": {
      "text/markdown": [
       "---\n",
       "\n",
       "### Forecast.preprocess\n",
       "\n",
       ">      Forecast.preprocess (data:pandas.core.frame.DataFrame,\n",
       ">                           static_features:Optional[List[str]]=None,\n",
       ">                           dropna:bool=True, keep_last_n:Optional[int]=None)"
      ],
      "text/plain": [
       "---\n",
       "\n",
       "### Forecast.preprocess\n",
       "\n",
       ">      Forecast.preprocess (data:pandas.core.frame.DataFrame,\n",
       ">                           static_features:Optional[List[str]]=None,\n",
       ">                           dropna:bool=True, keep_last_n:Optional[int]=None)"
      ]
     },
     "execution_count": null,
     "metadata": {},
     "output_type": "execute_result"
    }
   ],
   "source": [
    "show_doc(Forecast.preprocess)"
   ]
  },
  {
   "cell_type": "code",
   "execution_count": null,
   "id": "30e1ce17-4daa-413a-b30c-d989e681d33d",
   "metadata": {},
   "outputs": [
    {
     "data": {
      "text/html": [
       "<div>\n",
       "<style scoped>\n",
       "    .dataframe tbody tr th:only-of-type {\n",
       "        vertical-align: middle;\n",
       "    }\n",
       "\n",
       "    .dataframe tbody tr th {\n",
       "        vertical-align: top;\n",
       "    }\n",
       "\n",
       "    .dataframe thead th {\n",
       "        text-align: right;\n",
       "    }\n",
       "</style>\n",
       "<table border=\"1\" class=\"dataframe\">\n",
       "  <thead>\n",
       "    <tr style=\"text-align: right;\">\n",
       "      <th></th>\n",
       "      <th>ds</th>\n",
       "      <th>y</th>\n",
       "      <th>static_0</th>\n",
       "      <th>static_1</th>\n",
       "      <th>lag-7</th>\n",
       "      <th>expanding_mean_lag-1</th>\n",
       "      <th>rolling_mean_lag-7_window_size-14</th>\n",
       "      <th>dayofweek</th>\n",
       "      <th>month</th>\n",
       "    </tr>\n",
       "    <tr>\n",
       "      <th>unique_id</th>\n",
       "      <th></th>\n",
       "      <th></th>\n",
       "      <th></th>\n",
       "      <th></th>\n",
       "      <th></th>\n",
       "      <th></th>\n",
       "      <th></th>\n",
       "      <th></th>\n",
       "      <th></th>\n",
       "    </tr>\n",
       "  </thead>\n",
       "  <tbody>\n",
       "    <tr>\n",
       "      <th>id_00</th>\n",
       "      <td>2000-10-25</td>\n",
       "      <td>497.668437</td>\n",
       "      <td>79</td>\n",
       "      <td>45</td>\n",
       "      <td>506.946385</td>\n",
       "      <td>250.013666</td>\n",
       "      <td>263.200596</td>\n",
       "      <td>2</td>\n",
       "      <td>10</td>\n",
       "    </tr>\n",
       "    <tr>\n",
       "      <th>id_00</th>\n",
       "      <td>2000-10-26</td>\n",
       "      <td>39.183469</td>\n",
       "      <td>79</td>\n",
       "      <td>45</td>\n",
       "      <td>38.877800</td>\n",
       "      <td>261.806750</td>\n",
       "      <td>263.133868</td>\n",
       "      <td>3</td>\n",
       "      <td>10</td>\n",
       "    </tr>\n",
       "    <tr>\n",
       "      <th>id_00</th>\n",
       "      <td>2000-10-27</td>\n",
       "      <td>94.377779</td>\n",
       "      <td>79</td>\n",
       "      <td>45</td>\n",
       "      <td>115.127739</td>\n",
       "      <td>251.687510</td>\n",
       "      <td>263.980563</td>\n",
       "      <td>4</td>\n",
       "      <td>10</td>\n",
       "    </tr>\n",
       "    <tr>\n",
       "      <th>id_00</th>\n",
       "      <td>2000-10-28</td>\n",
       "      <td>179.235741</td>\n",
       "      <td>79</td>\n",
       "      <td>45</td>\n",
       "      <td>180.384975</td>\n",
       "      <td>244.847957</td>\n",
       "      <td>264.252723</td>\n",
       "      <td>5</td>\n",
       "      <td>10</td>\n",
       "    </tr>\n",
       "    <tr>\n",
       "      <th>id_00</th>\n",
       "      <td>2000-10-29</td>\n",
       "      <td>267.546447</td>\n",
       "      <td>79</td>\n",
       "      <td>45</td>\n",
       "      <td>242.228588</td>\n",
       "      <td>242.114114</td>\n",
       "      <td>263.055629</td>\n",
       "      <td>6</td>\n",
       "      <td>10</td>\n",
       "    </tr>\n",
       "  </tbody>\n",
       "</table>\n",
       "</div>"
      ],
      "text/plain": [
       "                  ds           y  static_0  static_1       lag-7  \\\n",
       "unique_id                                                          \n",
       "id_00     2000-10-25  497.668437        79        45  506.946385   \n",
       "id_00     2000-10-26   39.183469        79        45   38.877800   \n",
       "id_00     2000-10-27   94.377779        79        45  115.127739   \n",
       "id_00     2000-10-28  179.235741        79        45  180.384975   \n",
       "id_00     2000-10-29  267.546447        79        45  242.228588   \n",
       "\n",
       "           expanding_mean_lag-1  rolling_mean_lag-7_window_size-14  dayofweek  \\\n",
       "unique_id                                                                       \n",
       "id_00                250.013666                         263.200596          2   \n",
       "id_00                261.806750                         263.133868          3   \n",
       "id_00                251.687510                         263.980563          4   \n",
       "id_00                244.847957                         264.252723          5   \n",
       "id_00                242.114114                         263.055629          6   \n",
       "\n",
       "           month  \n",
       "unique_id         \n",
       "id_00         10  \n",
       "id_00         10  \n",
       "id_00         10  \n",
       "id_00         10  \n",
       "id_00         10  "
      ]
     },
     "execution_count": null,
     "metadata": {},
     "output_type": "execute_result"
    }
   ],
   "source": [
    "features_df = fcst.preprocess(series)\n",
    "features_df.head()"
   ]
  },
  {
   "cell_type": "markdown",
   "id": "e7ebc74f-3210-4b7e-b248-a0fbfdcfd1e8",
   "metadata": {},
   "source": [
    "This is useful if we want to inspect the data the model will be trained, adding additional features or performing some custom train-valid split. Here we perform a 80-20 split."
   ]
  },
  {
   "cell_type": "code",
   "execution_count": null,
   "id": "861f5c87-735d-4591-abbd-b8e9bc4256f1",
   "metadata": {},
   "outputs": [],
   "source": [
    "np.random.seed(0)\n",
    "\n",
    "train_mask = np.random.rand(features_df.shape[0]) < 0.8\n",
    "train, valid = features_df[train_mask], features_df[~train_mask]\n",
    "X_train, y_train = train.drop(columns=['ds', 'y']), train.y\n",
    "X_valid, y_valid = valid.drop(columns=['ds', 'y']), valid.y"
   ]
  },
  {
   "cell_type": "markdown",
   "id": "5f85d476-5096-4915-b267-13ff87f194bf",
   "metadata": {},
   "source": [
    "If we do this we must \"manually\" train our model calling `Forecast.model.fit`."
   ]
  },
  {
   "cell_type": "code",
   "execution_count": null,
   "id": "862ff93a-3c2f-4d2d-b318-b20330c6f617",
   "metadata": {},
   "outputs": [
    {
     "data": {
      "text/plain": [
       "LGBMRegressor(force_col_wise=True, n_jobs=1, random_state=0)"
      ]
     },
     "execution_count": null,
     "metadata": {},
     "output_type": "execute_result"
    }
   ],
   "source": [
    "fcst.models[0].fit(\n",
    "    X_train, y_train, \n",
    "    eval_set=[(X_train, y_train), (X_valid, y_valid)],\n",
    "    eval_metric='rmse',\n",
    "    verbose=0\n",
    ")"
   ]
  },
  {
   "cell_type": "code",
   "execution_count": null,
   "id": "0d3379e7-6fa9-4b6c-8909-9fc39d2f74ab",
   "metadata": {},
   "outputs": [
    {
     "data": {
      "image/png": "[encoded data removed]",
      "text/plain": [
       "<Figure size 432x288 with 1 Axes>"
      ]
     },
     "metadata": {
      "needs_background": "light"
     },
     "output_type": "display_data"
    }
   ],
   "source": [
    "for lab in fcst.models[0].evals_result_.keys():\n",
    "    plt.plot(fcst.models[0].evals_result_[lab]['rmse'], label=lab)\n",
    "plt.legend();"
   ]
  },
  {
   "cell_type": "markdown",
   "id": "1942738d-13a3-4641-8706-cd9578709ec0",
   "metadata": {},
   "source": [
    "#### Dynamic features"
   ]
  },
  {
   "cell_type": "markdown",
   "id": "cf9d333e-2fba-434c-b366-2e2285b6a235",
   "metadata": {},
   "source": [
    "By default the predict method repeats the static features and updates the transformations and the date features. If you have dynamic features like prices or a calendar with holidays you can pass them as a list to the `dynamic_dfs` argument of `Forecast.predict`, which will call `pd.DataFrame.merge` on each of them in order.\n",
    "\n",
    "Here's an example:\n",
    "\n",
    "Suppose that we have a `product_id` column and we have a catalog for prices based on that `product_id` and the date."
   ]
  },
  {
   "cell_type": "code",
   "execution_count": null,
   "id": "4a4d6354-e95e-444c-af11-18f273ee2d07",
   "metadata": {},
   "outputs": [
    {
     "data": {
      "text/html": [
       "<div>\n",
       "<style scoped>\n",
       "    .dataframe tbody tr th:only-of-type {\n",
       "        vertical-align: middle;\n",
       "    }\n",
       "\n",
       "    .dataframe tbody tr th {\n",
       "        vertical-align: top;\n",
       "    }\n",
       "\n",
       "    .dataframe thead th {\n",
       "        text-align: right;\n",
       "    }\n",
       "</style>\n",
       "<table border=\"1\" class=\"dataframe\">\n",
       "  <thead>\n",
       "    <tr style=\"text-align: right;\">\n",
       "      <th></th>\n",
       "      <th>ds</th>\n",
       "      <th>product_id</th>\n",
       "      <th>price</th>\n",
       "    </tr>\n",
       "  </thead>\n",
       "  <tbody>\n",
       "    <tr>\n",
       "      <th>0</th>\n",
       "      <td>2000-06-09</td>\n",
       "      <td>1</td>\n",
       "      <td>0.548814</td>\n",
       "    </tr>\n",
       "    <tr>\n",
       "      <th>1</th>\n",
       "      <td>2000-06-10</td>\n",
       "      <td>1</td>\n",
       "      <td>0.715189</td>\n",
       "    </tr>\n",
       "    <tr>\n",
       "      <th>2</th>\n",
       "      <td>2000-06-11</td>\n",
       "      <td>1</td>\n",
       "      <td>0.602763</td>\n",
       "    </tr>\n",
       "    <tr>\n",
       "      <th>3</th>\n",
       "      <td>2000-06-12</td>\n",
       "      <td>1</td>\n",
       "      <td>0.544883</td>\n",
       "    </tr>\n",
       "    <tr>\n",
       "      <th>4</th>\n",
       "      <td>2000-06-13</td>\n",
       "      <td>1</td>\n",
       "      <td>0.423655</td>\n",
       "    </tr>\n",
       "    <tr>\n",
       "      <th>...</th>\n",
       "      <td>...</td>\n",
       "      <td>...</td>\n",
       "      <td>...</td>\n",
       "    </tr>\n",
       "    <tr>\n",
       "      <th>20180</th>\n",
       "      <td>2001-05-17</td>\n",
       "      <td>99</td>\n",
       "      <td>0.223520</td>\n",
       "    </tr>\n",
       "    <tr>\n",
       "      <th>20181</th>\n",
       "      <td>2001-05-18</td>\n",
       "      <td>99</td>\n",
       "      <td>0.446104</td>\n",
       "    </tr>\n",
       "    <tr>\n",
       "      <th>20182</th>\n",
       "      <td>2001-05-19</td>\n",
       "      <td>99</td>\n",
       "      <td>0.044783</td>\n",
       "    </tr>\n",
       "    <tr>\n",
       "      <th>20183</th>\n",
       "      <td>2001-05-20</td>\n",
       "      <td>99</td>\n",
       "      <td>0.483216</td>\n",
       "    </tr>\n",
       "    <tr>\n",
       "      <th>20184</th>\n",
       "      <td>2001-05-21</td>\n",
       "      <td>99</td>\n",
       "      <td>0.799660</td>\n",
       "    </tr>\n",
       "  </tbody>\n",
       "</table>\n",
       "<p>20185 rows × 3 columns</p>\n",
       "</div>"
      ],
      "text/plain": [
       "              ds  product_id     price\n",
       "0     2000-06-09           1  0.548814\n",
       "1     2000-06-10           1  0.715189\n",
       "2     2000-06-11           1  0.602763\n",
       "3     2000-06-12           1  0.544883\n",
       "4     2000-06-13           1  0.423655\n",
       "...          ...         ...       ...\n",
       "20180 2001-05-17          99  0.223520\n",
       "20181 2001-05-18          99  0.446104\n",
       "20182 2001-05-19          99  0.044783\n",
       "20183 2001-05-20          99  0.483216\n",
       "20184 2001-05-21          99  0.799660\n",
       "\n",
       "[20185 rows x 3 columns]"
      ]
     },
     "execution_count": null,
     "metadata": {},
     "output_type": "execute_result"
    }
   ],
   "source": [
    "dynamic_series = series.rename(columns={'static_1': 'product_id'})\n",
    "prices_catalog = generate_prices_for_series(dynamic_series)\n",
    "prices_catalog"
   ]
  },
  {
   "cell_type": "markdown",
   "id": "c6c34b7c-9cb9-4f20-af01-6b0e18b7ded2",
   "metadata": {},
   "source": [
    "And you have already merged these prices into your series dataframe."
   ]
  },
  {
   "cell_type": "code",
   "execution_count": null,
   "id": "bc453901-10d1-441f-af31-0ee52a3d58f0",
   "metadata": {},
   "outputs": [
    {
     "data": {
      "text/html": [
       "<div>\n",
       "<style scoped>\n",
       "    .dataframe tbody tr th:only-of-type {\n",
       "        vertical-align: middle;\n",
       "    }\n",
       "\n",
       "    .dataframe tbody tr th {\n",
       "        vertical-align: top;\n",
       "    }\n",
       "\n",
       "    .dataframe thead th {\n",
       "        text-align: right;\n",
       "    }\n",
       "</style>\n",
       "<table border=\"1\" class=\"dataframe\">\n",
       "  <thead>\n",
       "    <tr style=\"text-align: right;\">\n",
       "      <th></th>\n",
       "      <th>ds</th>\n",
       "      <th>y</th>\n",
       "      <th>static_0</th>\n",
       "      <th>product_id</th>\n",
       "      <th>price</th>\n",
       "    </tr>\n",
       "    <tr>\n",
       "      <th>unique_id</th>\n",
       "      <th></th>\n",
       "      <th></th>\n",
       "      <th></th>\n",
       "      <th></th>\n",
       "      <th></th>\n",
       "    </tr>\n",
       "  </thead>\n",
       "  <tbody>\n",
       "    <tr>\n",
       "      <th>id_00</th>\n",
       "      <td>2000-10-05</td>\n",
       "      <td>39.811983</td>\n",
       "      <td>79</td>\n",
       "      <td>45</td>\n",
       "      <td>0.570826</td>\n",
       "    </tr>\n",
       "    <tr>\n",
       "      <th>id_00</th>\n",
       "      <td>2000-10-06</td>\n",
       "      <td>103.274013</td>\n",
       "      <td>79</td>\n",
       "      <td>45</td>\n",
       "      <td>0.260562</td>\n",
       "    </tr>\n",
       "    <tr>\n",
       "      <th>id_00</th>\n",
       "      <td>2000-10-07</td>\n",
       "      <td>176.574744</td>\n",
       "      <td>79</td>\n",
       "      <td>45</td>\n",
       "      <td>0.274048</td>\n",
       "    </tr>\n",
       "    <tr>\n",
       "      <th>id_00</th>\n",
       "      <td>2000-10-08</td>\n",
       "      <td>258.987900</td>\n",
       "      <td>79</td>\n",
       "      <td>45</td>\n",
       "      <td>0.433878</td>\n",
       "    </tr>\n",
       "    <tr>\n",
       "      <th>id_00</th>\n",
       "      <td>2000-10-09</td>\n",
       "      <td>344.940404</td>\n",
       "      <td>79</td>\n",
       "      <td>45</td>\n",
       "      <td>0.653738</td>\n",
       "    </tr>\n",
       "    <tr>\n",
       "      <th>...</th>\n",
       "      <td>...</td>\n",
       "      <td>...</td>\n",
       "      <td>...</td>\n",
       "      <td>...</td>\n",
       "      <td>...</td>\n",
       "    </tr>\n",
       "    <tr>\n",
       "      <th>id_99</th>\n",
       "      <td>2001-05-10</td>\n",
       "      <td>453.400509</td>\n",
       "      <td>69</td>\n",
       "      <td>35</td>\n",
       "      <td>0.792152</td>\n",
       "    </tr>\n",
       "    <tr>\n",
       "      <th>id_99</th>\n",
       "      <td>2001-05-11</td>\n",
       "      <td>30.229478</td>\n",
       "      <td>69</td>\n",
       "      <td>35</td>\n",
       "      <td>0.782687</td>\n",
       "    </tr>\n",
       "    <tr>\n",
       "      <th>id_99</th>\n",
       "      <td>2001-05-12</td>\n",
       "      <td>101.313713</td>\n",
       "      <td>69</td>\n",
       "      <td>35</td>\n",
       "      <td>0.019463</td>\n",
       "    </tr>\n",
       "    <tr>\n",
       "      <th>id_99</th>\n",
       "      <td>2001-05-13</td>\n",
       "      <td>145.724335</td>\n",
       "      <td>69</td>\n",
       "      <td>35</td>\n",
       "      <td>0.190413</td>\n",
       "    </tr>\n",
       "    <tr>\n",
       "      <th>id_99</th>\n",
       "      <td>2001-05-14</td>\n",
       "      <td>228.163571</td>\n",
       "      <td>69</td>\n",
       "      <td>35</td>\n",
       "      <td>0.653394</td>\n",
       "    </tr>\n",
       "  </tbody>\n",
       "</table>\n",
       "<p>27003 rows × 5 columns</p>\n",
       "</div>"
      ],
      "text/plain": [
       "                  ds           y  static_0  product_id     price\n",
       "unique_id                                                       \n",
       "id_00     2000-10-05   39.811983        79          45  0.570826\n",
       "id_00     2000-10-06  103.274013        79          45  0.260562\n",
       "id_00     2000-10-07  176.574744        79          45  0.274048\n",
       "id_00     2000-10-08  258.987900        79          45  0.433878\n",
       "id_00     2000-10-09  344.940404        79          45  0.653738\n",
       "...              ...         ...       ...         ...       ...\n",
       "id_99     2001-05-10  453.400509        69          35  0.792152\n",
       "id_99     2001-05-11   30.229478        69          35  0.782687\n",
       "id_99     2001-05-12  101.313713        69          35  0.019463\n",
       "id_99     2001-05-13  145.724335        69          35  0.190413\n",
       "id_99     2001-05-14  228.163571        69          35  0.653394\n",
       "\n",
       "[27003 rows x 5 columns]"
      ]
     },
     "execution_count": null,
     "metadata": {},
     "output_type": "execute_result"
    }
   ],
   "source": [
    "series_with_prices = dynamic_series.reset_index().merge(prices_catalog, how='left')\n",
    "series_with_prices.set_index('unique_id', inplace=True)\n",
    "series_with_prices"
   ]
  },
  {
   "cell_type": "markdown",
   "id": "83710575-1276-4eeb-8cca-64165eee7154",
   "metadata": {},
   "source": [
    "This dataframe will be passed to `Forecast.fit` (or `Forecast.preprocess`), however since the price is dynamic we have to tell that method that only `static_0` and `product_id` are static and we'll have to update `price` in every timestep, which basically involves merging the updated features with the prices catalog."
   ]
  },
  {
   "cell_type": "code",
   "execution_count": null,
   "id": "51961753-215f-4a0c-b5d5-a2678d63a4f4",
   "metadata": {},
   "outputs": [
    {
     "data": {
      "text/plain": [
       "Forecast(models=[LGBMRegressor...andom_state=0), XGBRegressor(...lambda=1, ...)], ts=TimeSeries(fr...num_threads=2))"
      ]
     },
     "execution_count": null,
     "metadata": {},
     "output_type": "execute_result"
    }
   ],
   "source": [
    "fcst = Forecast(models, ts)\n",
    "fcst.fit(series_with_prices, static_features=['static_0', 'product_id'])"
   ]
  },
  {
   "cell_type": "markdown",
   "id": "12e9c1c9-3a86-4fbd-a493-31c3d05c0011",
   "metadata": {},
   "source": [
    "The features used for training are stored in `Forecast.ts.features_order_`, as you can see `price` was used for training."
   ]
  },
  {
   "cell_type": "code",
   "execution_count": null,
   "id": "4c160114-073e-483a-9c27-638487674b25",
   "metadata": {},
   "outputs": [
    {
     "data": {
      "text/plain": [
       "Index(['static_0', 'product_id', 'price', 'lag-7', 'expanding_mean_lag-1',\n",
       "       'rolling_mean_lag-7_window_size-14', 'dayofweek', 'month'],\n",
       "      dtype='object')"
      ]
     },
     "execution_count": null,
     "metadata": {},
     "output_type": "execute_result"
    }
   ],
   "source": [
    "fcst.ts.features_order_"
   ]
  },
  {
   "cell_type": "markdown",
   "id": "a304b47d-5c16-4cae-ba4f-3f6364d8a4ad",
   "metadata": {},
   "source": [
    "So in order to update the price in each timestep we just call `Forecast.predict` with our forecast horizon and pass the prices catalog as a dynamic dataframe."
   ]
  },
  {
   "cell_type": "code",
   "execution_count": null,
   "id": "8e071906-3d80-4fa5-9b55-55c90f338985",
   "metadata": {},
   "outputs": [
    {
     "data": {
      "text/html": [
       "<div>\n",
       "<style scoped>\n",
       "    .dataframe tbody tr th:only-of-type {\n",
       "        vertical-align: middle;\n",
       "    }\n",
       "\n",
       "    .dataframe tbody tr th {\n",
       "        vertical-align: top;\n",
       "    }\n",
       "\n",
       "    .dataframe thead th {\n",
       "        text-align: right;\n",
       "    }\n",
       "</style>\n",
       "<table border=\"1\" class=\"dataframe\">\n",
       "  <thead>\n",
       "    <tr style=\"text-align: right;\">\n",
       "      <th></th>\n",
       "      <th>ds</th>\n",
       "      <th>LGBMRegressor</th>\n",
       "      <th>XGBRegressor</th>\n",
       "    </tr>\n",
       "    <tr>\n",
       "      <th>unique_id</th>\n",
       "      <th></th>\n",
       "      <th></th>\n",
       "      <th></th>\n",
       "    </tr>\n",
       "  </thead>\n",
       "  <tbody>\n",
       "    <tr>\n",
       "      <th>id_00</th>\n",
       "      <td>2001-05-15</td>\n",
       "      <td>425.271062</td>\n",
       "      <td>438.075714</td>\n",
       "    </tr>\n",
       "    <tr>\n",
       "      <th>id_00</th>\n",
       "      <td>2001-05-16</td>\n",
       "      <td>499.367199</td>\n",
       "      <td>499.328644</td>\n",
       "    </tr>\n",
       "    <tr>\n",
       "      <th>id_00</th>\n",
       "      <td>2001-05-17</td>\n",
       "      <td>19.680575</td>\n",
       "      <td>19.650190</td>\n",
       "    </tr>\n",
       "    <tr>\n",
       "      <th>id_00</th>\n",
       "      <td>2001-05-18</td>\n",
       "      <td>103.003798</td>\n",
       "      <td>98.412605</td>\n",
       "    </tr>\n",
       "    <tr>\n",
       "      <th>id_00</th>\n",
       "      <td>2001-05-19</td>\n",
       "      <td>186.687089</td>\n",
       "      <td>185.415588</td>\n",
       "    </tr>\n",
       "    <tr>\n",
       "      <th>...</th>\n",
       "      <td>...</td>\n",
       "      <td>...</td>\n",
       "      <td>...</td>\n",
       "    </tr>\n",
       "    <tr>\n",
       "      <th>id_99</th>\n",
       "      <td>2001-05-17</td>\n",
       "      <td>441.140547</td>\n",
       "      <td>439.250183</td>\n",
       "    </tr>\n",
       "    <tr>\n",
       "      <th>id_99</th>\n",
       "      <td>2001-05-18</td>\n",
       "      <td>19.506097</td>\n",
       "      <td>19.749830</td>\n",
       "    </tr>\n",
       "    <tr>\n",
       "      <th>id_99</th>\n",
       "      <td>2001-05-19</td>\n",
       "      <td>91.141189</td>\n",
       "      <td>88.620872</td>\n",
       "    </tr>\n",
       "    <tr>\n",
       "      <th>id_99</th>\n",
       "      <td>2001-05-20</td>\n",
       "      <td>151.241891</td>\n",
       "      <td>154.825851</td>\n",
       "    </tr>\n",
       "    <tr>\n",
       "      <th>id_99</th>\n",
       "      <td>2001-05-21</td>\n",
       "      <td>228.440428</td>\n",
       "      <td>224.786606</td>\n",
       "    </tr>\n",
       "  </tbody>\n",
       "</table>\n",
       "<p>700 rows × 3 columns</p>\n",
       "</div>"
      ],
      "text/plain": [
       "                  ds  LGBMRegressor  XGBRegressor\n",
       "unique_id                                        \n",
       "id_00     2001-05-15     425.271062    438.075714\n",
       "id_00     2001-05-16     499.367199    499.328644\n",
       "id_00     2001-05-17      19.680575     19.650190\n",
       "id_00     2001-05-18     103.003798     98.412605\n",
       "id_00     2001-05-19     186.687089    185.415588\n",
       "...              ...            ...           ...\n",
       "id_99     2001-05-17     441.140547    439.250183\n",
       "id_99     2001-05-18      19.506097     19.749830\n",
       "id_99     2001-05-19      91.141189     88.620872\n",
       "id_99     2001-05-20     151.241891    154.825851\n",
       "id_99     2001-05-21     228.440428    224.786606\n",
       "\n",
       "[700 rows x 3 columns]"
      ]
     },
     "execution_count": null,
     "metadata": {},
     "output_type": "execute_result"
    }
   ],
   "source": [
    "preds = fcst.predict(7, dynamic_dfs=[prices_catalog])\n",
    "preds"
   ]
  },
  {
   "cell_type": "markdown",
   "id": "dc6fb8b4-f0a3-4012-a410-05972fe61ef1",
   "metadata": {},
   "source": [
    "#### Custom predictions\n",
    "As you may have noticed `Forecast.predict` can take a `predict_fn` and `predict_fn_kwargs`. By default the predict method repeats the static features and updates the transformations and the date features. If you have dynamic features you can pass them as a list to `Forecast.predict` in the `dynamic_dfs` argument. However, if you want to do something else, you can define your own function which will take:\n",
    "\n",
    "* The trained model.\n",
    "* The updated features (static + transformations + date features).\n",
    "* A list of dataframes with the dynamic features.\n",
    "* The order of the features the model was trained on.\n",
    "* Additional keyword arguments passed to `Forecast.predict`.\n",
    "\n",
    "Here's an example:\n",
    "\n",
    "Suppose that we want to scale our predictions so that our series are updated with these scaled values. We can achieve that with the following."
   ]
  },
  {
   "cell_type": "code",
   "execution_count": null,
   "id": "d9b3f96f-4bea-4e29-84af-caa370b19c61",
   "metadata": {},
   "outputs": [],
   "source": [
    "def scaling_predict_fn(\n",
    "    model,\n",
    "    new_x,\n",
    "    dynamic_dfs,\n",
    "    features_order,\n",
    "    scale_factor,\n",
    ") -> np.ndarray:\n",
    "    new_x = new_x.drop(columns='ds')\n",
    "    predictions = model.predict(new_x)\n",
    "    return scale_factor * predictions"
   ]
  },
  {
   "cell_type": "markdown",
   "id": "75a252b2-b83c-49d0-bc59-6d4ae7f637fb",
   "metadata": {},
   "source": [
    "And now we just pass this function to `Forecast.predict`."
   ]
  },
  {
   "cell_type": "code",
   "execution_count": null,
   "id": "395c58c7-2c30-4fba-89ae-d43a11ea6115",
   "metadata": {},
   "outputs": [
    {
     "data": {
      "text/html": [
       "<div>\n",
       "<style scoped>\n",
       "    .dataframe tbody tr th:only-of-type {\n",
       "        vertical-align: middle;\n",
       "    }\n",
       "\n",
       "    .dataframe tbody tr th {\n",
       "        vertical-align: top;\n",
       "    }\n",
       "\n",
       "    .dataframe thead th {\n",
       "        text-align: right;\n",
       "    }\n",
       "</style>\n",
       "<table border=\"1\" class=\"dataframe\">\n",
       "  <thead>\n",
       "    <tr style=\"text-align: right;\">\n",
       "      <th></th>\n",
       "      <th>ds</th>\n",
       "      <th>LGBMRegressor</th>\n",
       "      <th>XGBRegressor</th>\n",
       "    </tr>\n",
       "    <tr>\n",
       "      <th>unique_id</th>\n",
       "      <th></th>\n",
       "      <th></th>\n",
       "      <th></th>\n",
       "    </tr>\n",
       "  </thead>\n",
       "  <tbody>\n",
       "    <tr>\n",
       "      <th>id_00</th>\n",
       "      <td>2001-05-15</td>\n",
       "      <td>462.984618</td>\n",
       "      <td>468.498840</td>\n",
       "    </tr>\n",
       "    <tr>\n",
       "      <th>id_00</th>\n",
       "      <td>2001-05-16</td>\n",
       "      <td>547.728357</td>\n",
       "      <td>550.042603</td>\n",
       "    </tr>\n",
       "    <tr>\n",
       "      <th>id_01</th>\n",
       "      <td>2001-05-15</td>\n",
       "      <td>128.083377</td>\n",
       "      <td>129.819885</td>\n",
       "    </tr>\n",
       "    <tr>\n",
       "      <th>id_01</th>\n",
       "      <td>2001-05-16</td>\n",
       "      <td>164.265438</td>\n",
       "      <td>165.137360</td>\n",
       "    </tr>\n",
       "    <tr>\n",
       "      <th>id_02</th>\n",
       "      <td>2001-05-15</td>\n",
       "      <td>163.398258</td>\n",
       "      <td>161.620834</td>\n",
       "    </tr>\n",
       "    <tr>\n",
       "      <th>...</th>\n",
       "      <td>...</td>\n",
       "      <td>...</td>\n",
       "      <td>...</td>\n",
       "    </tr>\n",
       "    <tr>\n",
       "      <th>id_97</th>\n",
       "      <td>2001-05-16</td>\n",
       "      <td>388.652115</td>\n",
       "      <td>396.391449</td>\n",
       "    </tr>\n",
       "    <tr>\n",
       "      <th>id_98</th>\n",
       "      <td>2001-05-15</td>\n",
       "      <td>82.683279</td>\n",
       "      <td>84.208214</td>\n",
       "    </tr>\n",
       "    <tr>\n",
       "      <th>id_98</th>\n",
       "      <td>2001-05-16</td>\n",
       "      <td>104.768186</td>\n",
       "      <td>105.722870</td>\n",
       "    </tr>\n",
       "    <tr>\n",
       "      <th>id_99</th>\n",
       "      <td>2001-05-15</td>\n",
       "      <td>326.020978</td>\n",
       "      <td>321.117065</td>\n",
       "    </tr>\n",
       "    <tr>\n",
       "      <th>id_99</th>\n",
       "      <td>2001-05-16</td>\n",
       "      <td>408.528262</td>\n",
       "      <td>407.053772</td>\n",
       "    </tr>\n",
       "  </tbody>\n",
       "</table>\n",
       "<p>200 rows × 3 columns</p>\n",
       "</div>"
      ],
      "text/plain": [
       "                  ds  LGBMRegressor  XGBRegressor\n",
       "unique_id                                        \n",
       "id_00     2001-05-15     462.984618    468.498840\n",
       "id_00     2001-05-16     547.728357    550.042603\n",
       "id_01     2001-05-15     128.083377    129.819885\n",
       "id_01     2001-05-16     164.265438    165.137360\n",
       "id_02     2001-05-15     163.398258    161.620834\n",
       "...              ...            ...           ...\n",
       "id_97     2001-05-16     388.652115    396.391449\n",
       "id_98     2001-05-15      82.683279     84.208214\n",
       "id_98     2001-05-16     104.768186    105.722870\n",
       "id_99     2001-05-15     326.020978    321.117065\n",
       "id_99     2001-05-16     408.528262    407.053772\n",
       "\n",
       "[200 rows x 3 columns]"
      ]
     },
     "execution_count": null,
     "metadata": {},
     "output_type": "execute_result"
    }
   ],
   "source": [
    "fcst = Forecast(models, TimeSeries(lags=[7]))\n",
    "fcst.fit(series)\n",
    "\n",
    "scale_factor = 1.1\n",
    "preds = fcst.predict(2, predict_fn=scaling_predict_fn, scale_factor=scale_factor)\n",
    "preds"
   ]
  },
  {
   "cell_type": "code",
   "execution_count": null,
   "id": "76f15e85-4cfe-4f04-b6bb-5f794dd12390",
   "metadata": {},
   "outputs": [],
   "source": [
    "#|hide\n",
    "fcst.ts._predict_setup()\n",
    "\n",
    "for attr in ('head', 'tail'):\n",
    "    new_x = fcst.ts._update_features().drop(columns='ds')\n",
    "    original_preds = fcst.models[0].predict(new_x)\n",
    "    \n",
    "    expected = scale_factor * original_preds\n",
    "    actual = getattr(preds.groupby('unique_id')[models[0].__class__.__name__], attr)(1).values\n",
    "    np.testing.assert_equal(expected, actual)\n",
    "    \n",
    "    fcst.ts._update_y(actual)"
   ]
  },
  {
   "cell_type": "markdown",
   "id": "baa7b0dd-d3e2-44c0-a25c-500e9ceaaa3d",
   "metadata": {},
   "source": [
    "### Cross validation\n",
    "\n",
    "If we would like to know how good our forecast will be for a specific model and set of features then we can perform cross validation. What cross validation does is take our data and split it in two parts, where the first part is used for training and the second one for validation. Since the data is time dependant we usually take the last *x* observations from our data as the validation set.\n",
    "\n",
    "This process is implemented in `Forecast.cross_validation`, which takes our data and performs the process described above for `n_windows` times where each window is of size `window_size`. For example, if we have 100 samples and we want to perform 2 backtests each of size 14, the splits will be as follows:\n",
    "\n",
    "1. Train: 1 to 72. Validation: 73 to 86.\n",
    "2. Train: 1 to 86. Validation: 87 to 100."
   ]
  },
  {
   "cell_type": "code",
   "execution_count": null,
   "id": "8e65bc38-7a1b-4f52-ace2-677fa9c3561d",
   "metadata": {},
   "outputs": [
    {
     "data": {
      "text/markdown": [
       "---\n",
       "\n",
       "### Forecast.cross_validation\n",
       "\n",
       ">      Forecast.cross_validation (data, n_windows:int, window_size:int,\n",
       ">                                 static_features:Optional[List[str]]=None,\n",
       ">                                 dropna:bool=True,\n",
       ">                                 keep_last_n:Optional[int]=None, dynamic_dfs:Op\n",
       ">                                 tional[List[pandas.core.frame.DataFrame]]=None\n",
       ">                                 , predict_fn:Optional[Callable]=None,\n",
       ">                                 **predict_fn_kwargs)\n",
       "\n",
       "Creates `n_windows` splits of `window_size` from `data`, trains the model\n",
       "on the training set, predicts the window and merges the actuals and the predictions\n",
       "in a dataframe.\n",
       "\n",
       "Returns a dataframe containing the datestamps, actual values, train ends and predictions."
      ],
      "text/plain": [
       "---\n",
       "\n",
       "### Forecast.cross_validation\n",
       "\n",
       ">      Forecast.cross_validation (data, n_windows:int, window_size:int,\n",
       ">                                 static_features:Optional[List[str]]=None,\n",
       ">                                 dropna:bool=True,\n",
       ">                                 keep_last_n:Optional[int]=None, dynamic_dfs:Op\n",
       ">                                 tional[List[pandas.core.frame.DataFrame]]=None\n",
       ">                                 , predict_fn:Optional[Callable]=None,\n",
       ">                                 **predict_fn_kwargs)\n",
       "\n",
       "Creates `n_windows` splits of `window_size` from `data`, trains the model\n",
       "on the training set, predicts the window and merges the actuals and the predictions\n",
       "in a dataframe.\n",
       "\n",
       "Returns a dataframe containing the datestamps, actual values, train ends and predictions."
      ]
     },
     "execution_count": null,
     "metadata": {},
     "output_type": "execute_result"
    }
   ],
   "source": [
    "show_doc(Forecast.cross_validation)"
   ]
  },
  {
   "cell_type": "code",
   "execution_count": null,
   "id": "531c0057-9245-4a67-bb4d-836f17030e41",
   "metadata": {},
   "outputs": [
    {
     "data": {
      "text/html": [
       "<div>\n",
       "<style scoped>\n",
       "    .dataframe tbody tr th:only-of-type {\n",
       "        vertical-align: middle;\n",
       "    }\n",
       "\n",
       "    .dataframe tbody tr th {\n",
       "        vertical-align: top;\n",
       "    }\n",
       "\n",
       "    .dataframe thead th {\n",
       "        text-align: right;\n",
       "    }\n",
       "</style>\n",
       "<table border=\"1\" class=\"dataframe\">\n",
       "  <thead>\n",
       "    <tr style=\"text-align: right;\">\n",
       "      <th></th>\n",
       "      <th>ds</th>\n",
       "      <th>y</th>\n",
       "      <th>cutoff</th>\n",
       "      <th>LGBMRegressor</th>\n",
       "      <th>XGBRegressor</th>\n",
       "    </tr>\n",
       "    <tr>\n",
       "      <th>unique_id</th>\n",
       "      <th></th>\n",
       "      <th></th>\n",
       "      <th></th>\n",
       "      <th></th>\n",
       "      <th></th>\n",
       "    </tr>\n",
       "  </thead>\n",
       "  <tbody>\n",
       "    <tr>\n",
       "      <th>id_00</th>\n",
       "      <td>2001-04-17</td>\n",
       "      <td>404.993322</td>\n",
       "      <td>2001-04-16</td>\n",
       "      <td>414.906422</td>\n",
       "      <td>415.972809</td>\n",
       "    </tr>\n",
       "    <tr>\n",
       "      <th>id_00</th>\n",
       "      <td>2001-04-18</td>\n",
       "      <td>508.883226</td>\n",
       "      <td>2001-04-16</td>\n",
       "      <td>495.261374</td>\n",
       "      <td>499.492157</td>\n",
       "    </tr>\n",
       "    <tr>\n",
       "      <th>id_00</th>\n",
       "      <td>2001-04-19</td>\n",
       "      <td>1.218119</td>\n",
       "      <td>2001-04-16</td>\n",
       "      <td>21.271934</td>\n",
       "      <td>17.206636</td>\n",
       "    </tr>\n",
       "    <tr>\n",
       "      <th>id_00</th>\n",
       "      <td>2001-04-20</td>\n",
       "      <td>109.879770</td>\n",
       "      <td>2001-04-16</td>\n",
       "      <td>101.743962</td>\n",
       "      <td>96.517197</td>\n",
       "    </tr>\n",
       "    <tr>\n",
       "      <th>id_00</th>\n",
       "      <td>2001-04-21</td>\n",
       "      <td>163.703847</td>\n",
       "      <td>2001-04-16</td>\n",
       "      <td>186.378007</td>\n",
       "      <td>182.568924</td>\n",
       "    </tr>\n",
       "  </tbody>\n",
       "</table>\n",
       "</div>"
      ],
      "text/plain": [
       "                  ds           y     cutoff  LGBMRegressor  XGBRegressor\n",
       "unique_id                                                               \n",
       "id_00     2001-04-17  404.993322 2001-04-16     414.906422    415.972809\n",
       "id_00     2001-04-18  508.883226 2001-04-16     495.261374    499.492157\n",
       "id_00     2001-04-19    1.218119 2001-04-16      21.271934     17.206636\n",
       "id_00     2001-04-20  109.879770 2001-04-16     101.743962     96.517197\n",
       "id_00     2001-04-21  163.703847 2001-04-16     186.378007    182.568924"
      ]
     },
     "execution_count": null,
     "metadata": {},
     "output_type": "execute_result"
    }
   ],
   "source": [
    "n_windows = 2\n",
    "window_size = 14\n",
    "\n",
    "fcst = Forecast(models, ts)\n",
    "backtest_results = fcst.cross_validation(series, n_windows, window_size)\n",
    "backtest_results.head()"
   ]
  },
  {
   "cell_type": "markdown",
   "id": "dfc20827-e4db-4c14-aba5-66177d903614",
   "metadata": {},
   "source": [
    "We can aggregate these by date to get a rough estimate of how our model is doing."
   ]
  },
  {
   "cell_type": "code",
   "execution_count": null,
   "id": "13a0f301-474c-4abe-9e50-d52458fb19e4",
   "metadata": {},
   "outputs": [
    {
     "data": {
      "image/png": "[encoded data removed]",
      "text/plain": [
       "<Figure size 432x288 with 1 Axes>"
      ]
     },
     "metadata": {
      "needs_background": "light"
     },
     "output_type": "display_data"
    }
   ],
   "source": [
    "agg_results = backtest_results.groupby('ds').sum()\n",
    "agg_results.plot();"
   ]
  },
  {
   "cell_type": "markdown",
   "id": "c019933c-a6a7-4ac4-b9b8-f4668ed8ff1c",
   "metadata": {},
   "source": [
    "We can include some more context by using the values in the training set."
   ]
  },
  {
   "cell_type": "code",
   "execution_count": null,
   "id": "33410bb3-2c45-4003-840c-b042cde70511",
   "metadata": {},
   "outputs": [
    {
     "data": {
      "image/png": "[encoded data removed]",
      "text/plain": [
       "<Figure size 432x288 with 1 Axes>"
      ]
     },
     "metadata": {
      "needs_background": "light"
     },
     "output_type": "display_data"
    }
   ],
   "source": [
    "history = series[series.ds < agg_results.index.min()]\n",
    "agg_history = history.groupby('ds')[['y']].sum().tail(50)\n",
    "pd.concat([agg_history, agg_results]).plot();"
   ]
  },
  {
   "cell_type": "markdown",
   "id": "72cedc05-c9e8-4c9a-a6dd-a78118f635e8",
   "metadata": {},
   "source": [
    "We can also compute the error for each model."
   ]
  },
  {
   "cell_type": "code",
   "execution_count": null,
   "id": "1edb0d33-96eb-428d-8671-538ce0385fa3",
   "metadata": {},
   "outputs": [
    {
     "data": {
      "text/plain": [
       "{'LGBMRegressor': 91.16, 'XGBRegressor': 93.25}"
      ]
     },
     "execution_count": null,
     "metadata": {},
     "output_type": "execute_result"
    }
   ],
   "source": [
    "{model: np.round(mean_squared_error(backtest_results['y'], backtest_results[model]), 2)\n",
    " for model in backtest_results.columns.drop(['ds', 'y', 'cutoff'])}"
   ]
  },
  {
   "cell_type": "code",
   "execution_count": null,
   "id": "383ca7ea-b275-4bc6-8ee7-3a41a46f3213",
   "metadata": {},
   "outputs": [],
   "source": [
    "#|hide\n",
    "model = lgb.LGBMRegressor()\n",
    "ts = TimeSeries(lags=[7, 14])\n",
    "fcst = Forecast(model, ts)\n",
    "backtest_results = fcst.cross_validation(series, n_windows, window_size)\n",
    "manual_results = []\n",
    "for cutoff, train, valid in backtest_splits(series, n_windows, window_size, ts.freq):\n",
    "    model = lgb.LGBMRegressor()\n",
    "    ts = TimeSeries(lags=[7, 14])\n",
    "    fcst = Forecast(model, ts).fit(train)\n",
    "    pred = fcst.predict(window_size)\n",
    "    res = valid[['ds', 'y']].copy()\n",
    "    res['cutoff'] = cutoff\n",
    "    manual_results.append(res.merge(pred, on=['unique_id', 'ds'], how='left'))\n",
    "manual_results = pd.concat(manual_results)\n",
    "pd.testing.assert_frame_equal(backtest_results, manual_results)"
   ]
  }
 ],
 "metadata": {
  "kernelspec": {
   "display_name": "Python 3",
   "language": "python",
   "name": "python3"
  }
 },
 "nbformat": 4,
 "nbformat_minor": 5
}
