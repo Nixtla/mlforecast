{
 "cells": [
  {
   "cell_type": "code",
   "execution_count": null,
   "id": "8fe91e8b-282f-4199-950e-10821f40616d",
   "metadata": {},
   "outputs": [],
   "source": [
    "#all_distributed\n",
    "#default_exp distributed.core"
   ]
  },
  {
   "cell_type": "code",
   "execution_count": null,
   "id": "9f71c521-3dc2-4c2f-ba64-c81fc8c32995",
   "metadata": {},
   "outputs": [],
   "source": [
    "#hide\n",
    "%load_ext autoreload\n",
    "%autoreload 2"
   ]
  },
  {
   "cell_type": "markdown",
   "id": "93b3f741-f46c-4d58-b254-01881e498175",
   "metadata": {},
   "source": [
    "# Distributed core\n",
    "\n",
    "> Building blocks for the distributed pipeline."
   ]
  },
  {
   "cell_type": "code",
   "execution_count": null,
   "id": "2a58158d-ca82-4802-bd21-79d436fa2bbc",
   "metadata": {},
   "outputs": [],
   "source": [
    "#export\n",
    "import operator\n",
    "from typing import Callable, List, Optional\n",
    "\n",
    "import dask.dataframe as dd\n",
    "from dask.distributed import Client, default_client, futures_of, wait\n",
    "\n",
    "from mlforecast.core import TimeSeries, simple_predict\n"
   ]
  },
  {
   "cell_type": "code",
   "execution_count": null,
   "id": "e7aa57b6-784e-44de-b18c-515db33ba7a4",
   "metadata": {},
   "outputs": [],
   "source": [
    "import pandas as pd\n",
    "from nbdev import show_doc\n",
    "from window_ops.rolling import rolling_mean\n",
    "\n",
    "from mlforecast.utils import generate_daily_series"
   ]
  },
  {
   "cell_type": "code",
   "execution_count": null,
   "id": "84bc68ae-082c-4c9c-9af8-b37106dfe1a4",
   "metadata": {},
   "outputs": [],
   "source": [
    "client = Client(n_workers=2)"
   ]
  },
  {
   "cell_type": "code",
   "execution_count": null,
   "id": "78396da4-6a54-4188-bbb9-021745e40cb1",
   "metadata": {},
   "outputs": [],
   "source": [
    "#exporti\n",
    "def _fit_transform(ts, data, **kwargs):\n",
    "    df = ts.fit_transform(data, **kwargs)\n",
    "    return ts, df\n",
    "\n",
    "\n",
    "def _predict(ts, model, horizon, predict_fn, **predict_fn_kwargs):\n",
    "    return ts.predict(model, horizon, predict_fn, **predict_fn_kwargs)\n"
   ]
  },
  {
   "cell_type": "code",
   "execution_count": null,
   "id": "8c9c4bc4-baa7-4110-8264-8b0e31795bb5",
   "metadata": {},
   "outputs": [],
   "source": [
    "#export\n",
    "class DistributedTimeSeries:\n",
    "    \"\"\"TimeSeries for distributed forecasting.\"\"\"\n",
    "    \n",
    "    def __init__(\n",
    "        self,\n",
    "        ts: TimeSeries,\n",
    "        client: Optional[Client] = None,\n",
    "    ):\n",
    "        self._base_ts = ts\n",
    "        self.client = client or default_client()\n",
    "        \n",
    "    def fit_transform(\n",
    "        self,\n",
    "        data: dd.DataFrame,\n",
    "        static_features: Optional[List[str]] = None,\n",
    "        dropna: bool = True,\n",
    "        keep_last_n: Optional[int] = None,         \n",
    "    ) -> dd.DataFrame:\n",
    "        \"\"\"Applies the transformations to each partition of `data`.\"\"\"\n",
    "        self.data_divisions = data.divisions\n",
    "        data = self.client.persist(data)\n",
    "        wait(data)\n",
    "        partition_futures = futures_of(data)\n",
    "        self.ts = []\n",
    "        df_futures = []\n",
    "        for part_future in partition_futures:\n",
    "            future = self.client.submit(\n",
    "                _fit_transform,\n",
    "                self._base_ts,\n",
    "                part_future,\n",
    "                static_features=static_features,\n",
    "                dropna=dropna,\n",
    "                keep_last_n=keep_last_n,\n",
    "                pure=False,\n",
    "            )\n",
    "            ts_future = self.client.submit(operator.itemgetter(0), future)\n",
    "            df_future = self.client.submit(operator.itemgetter(1), future)\n",
    "            self.ts.append(ts_future)\n",
    "            df_futures.append(df_future)\n",
    "        meta = self.client.submit(lambda x: x.head(0), df_futures[0]).result()\n",
    "        return dd.from_delayed(df_futures, meta=meta)\n",
    "    \n",
    "    def predict(\n",
    "        self,\n",
    "        model,\n",
    "        horizon: int,\n",
    "        predict_fn: Callable = simple_predict,\n",
    "        **predict_fn_kwargs,\n",
    "    ) -> dd.DataFrame:\n",
    "        \"\"\"Broadcasts `model` across all workers and computes the next `horizon` timesteps.\n",
    "        \n",
    "        `predict_fn(model, new_x, features_order, **predict_fn_kwargs)` is called on each timestep.\n",
    "        \"\"\"\n",
    "        model_future = self.client.scatter(model, broadcast=True)\n",
    "        predictions_futures = [\n",
    "            self.client.submit(\n",
    "                _predict,\n",
    "                ts_future,\n",
    "                model_future,\n",
    "                horizon,\n",
    "                predict_fn=predict_fn,\n",
    "                **predict_fn_kwargs,\n",
    "            )\n",
    "            for ts_future in self.ts\n",
    "        ]\n",
    "        meta = self.client.submit(lambda x: x.head(), predictions_futures[0]).result()\n",
    "        return dd.from_delayed(\n",
    "            predictions_futures, meta=meta, divisions=self.data_divisions\n",
    "        )\n",
    "\n",
    "    def __repr__(self):\n",
    "        ts_repr = self._base_ts.__repr__()\n",
    "        return f'Distributed{ts_repr}'\n"
   ]
  },
  {
   "cell_type": "markdown",
   "id": "32daa170-0df5-4288-99a5-43fbd7b3e790",
   "metadata": {},
   "source": [
    "The `DistributedTimeSeries` class takes a `TimeSeries` object which specifies the desired features. If you have more partitions than workers it's recommended to set `num_threads=1` to avoid colliding with dask's parallelism (dask could schedule several tasks on each worker)."
   ]
  },
  {
   "cell_type": "code",
   "execution_count": null,
   "id": "25bb020a-5f01-47c3-a608-6de66b81bb6b",
   "metadata": {},
   "outputs": [],
   "source": [
    "config = dict(\n",
    "    freq='D',\n",
    "    lags=[7, 14],\n",
    "    lag_transforms={\n",
    "        7 : [(rolling_mean, 7)],\n",
    "        14: [(rolling_mean, 7)],\n",
    "    },\n",
    "    date_features=['dayofweek'],\n",
    "    num_threads=1,\n",
    ")\n",
    "ts = TimeSeries(**config)\n",
    "dts = DistributedTimeSeries(ts)\n",
    "dts"
   ]
  },
  {
   "cell_type": "code",
   "execution_count": null,
   "id": "5da2f4b5-528f-4d80-909c-0f1c872eb1fc",
   "metadata": {},
   "outputs": [],
   "source": [
    "series = generate_daily_series(100, n_static_features=2)\n",
    "series"
   ]
  },
  {
   "cell_type": "code",
   "execution_count": null,
   "id": "8bd4a3cd-161f-4626-b02e-41f8ff41a6c5",
   "metadata": {},
   "outputs": [],
   "source": [
    "partitioned_series = dd.from_pandas(series, npartitions=6)\n",
    "partitioned_series"
   ]
  },
  {
   "cell_type": "code",
   "execution_count": null,
   "id": "f934ec16-f6df-40e2-8e00-18dc6976a912",
   "metadata": {},
   "outputs": [],
   "source": [
    "show_doc(DistributedTimeSeries.fit_transform)"
   ]
  },
  {
   "cell_type": "code",
   "execution_count": null,
   "id": "1966ae16-3d0d-4e7d-8d2e-0a06e42546cb",
   "metadata": {},
   "outputs": [],
   "source": [
    "train_ddf = dts.fit_transform(partitioned_series).compute()\n",
    "\n",
    "local_df = ts.fit_transform(series)\n",
    "assert train_ddf.equals(local_df)"
   ]
  },
  {
   "cell_type": "code",
   "execution_count": null,
   "id": "e3da95e5-f8f8-4cc0-934f-a8fef00a629c",
   "metadata": {},
   "outputs": [],
   "source": [
    "#hide\n",
    "next_feats_futures = client.map(lambda ts: ts._update_features(), dts.ts)\n",
    "next_feats = pd.concat(client.gather(next_feats_futures))\n",
    "local_upd = ts._update_features()\n",
    "assert next_feats.equals(local_upd)"
   ]
  },
  {
   "cell_type": "code",
   "execution_count": null,
   "id": "2fcb07d3-9e0f-4ac5-8e30-1a511331e342",
   "metadata": {},
   "outputs": [],
   "source": [
    "show_doc(DistributedTimeSeries.predict)"
   ]
  },
  {
   "cell_type": "code",
   "execution_count": null,
   "id": "11d1c9f0-b873-4b1a-b14c-93822dec324f",
   "metadata": {},
   "outputs": [],
   "source": [
    "class DummyModel:\n",
    "    def predict(self, X):\n",
    "        return X['lag-7'].values\n",
    "    \n",
    "horizon = 7\n",
    "model = DummyModel()\n",
    "preds = dts.predict(model, horizon).compute()\n",
    "\n",
    "ts = TimeSeries(**config)\n",
    "ts.fit_transform(series)\n",
    "local_preds = ts.predict(model, horizon)\n",
    "\n",
    "assert preds.equals(local_preds)"
   ]
  },
  {
   "cell_type": "code",
   "execution_count": null,
   "id": "60b8d9fb-68f4-4343-889c-f2e8796bd6a4",
   "metadata": {},
   "outputs": [],
   "source": [
    "client.close()"
   ]
  }
 ],
 "metadata": {
  "kernelspec": {
   "display_name": "Python 3",
   "language": "python",
   "name": "python3"
  }
 },
 "nbformat": 4,
 "nbformat_minor": 5
}
