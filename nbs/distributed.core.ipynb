{
 "cells": [
  {
   "cell_type": "code",
   "execution_count": null,
   "id": "24ddd9d1-7e77-41bb-b31e-4c772d56f1b9",
   "metadata": {},
   "outputs": [],
   "source": [
    "#all_distributed"
   ]
  },
  {
   "cell_type": "code",
   "execution_count": null,
   "id": "f3e4dba5-efb3-4faf-9e06-7f538f26b355",
   "metadata": {},
   "outputs": [],
   "source": [
    "#default_exp distributed.core"
   ]
  },
  {
   "cell_type": "code",
   "execution_count": null,
   "id": "9f71c521-3dc2-4c2f-ba64-c81fc8c32995",
   "metadata": {},
   "outputs": [],
   "source": [
    "#hide\n",
    "%load_ext autoreload\n",
    "%autoreload 2"
   ]
  },
  {
   "cell_type": "markdown",
   "id": "93b3f741-f46c-4d58-b254-01881e498175",
   "metadata": {},
   "source": [
    "# Distributed core\n",
    "\n",
    "> Building blocks for the distributed pipeline."
   ]
  },
  {
   "cell_type": "code",
   "execution_count": null,
   "id": "2a58158d-ca82-4802-bd21-79d436fa2bbc",
   "metadata": {},
   "outputs": [],
   "source": [
    "#export\n",
    "import operator\n",
    "from typing import Dict, List, Optional, Tuple\n",
    "\n",
    "import dask.dataframe as dd\n",
    "from dask.distributed import Client, default_client, futures_of, wait\n",
    "\n",
    "from mlforecast.core import TimeSeries\n"
   ]
  },
  {
   "cell_type": "code",
   "execution_count": null,
   "id": "e7aa57b6-784e-44de-b18c-515db33ba7a4",
   "metadata": {},
   "outputs": [],
   "source": [
    "import pandas as pd\n",
    "from nbdev import *\n",
    "from window_ops.rolling import rolling_mean\n",
    "\n",
    "from mlforecast.utils import generate_daily_series"
   ]
  },
  {
   "cell_type": "code",
   "execution_count": null,
   "id": "78396da4-6a54-4188-bbb9-021745e40cb1",
   "metadata": {},
   "outputs": [],
   "source": [
    "#exporti\n",
    "def _fit_transform(init_kwargs, data):\n",
    "    ts = TimeSeries(**init_kwargs)\n",
    "    df = ts.fit_transform(data)\n",
    "    return ts, df\n",
    "\n",
    "\n",
    "def _predict(ts, model, horizon, **kwargs):\n",
    "    return ts.predict(model, horizon, **kwargs)\n"
   ]
  },
  {
   "cell_type": "code",
   "execution_count": null,
   "id": "8c9c4bc4-baa7-4110-8264-8b0e31795bb5",
   "metadata": {},
   "outputs": [],
   "source": [
    "#export\n",
    "class DistributedTimeSeries:\n",
    "    def __init__(\n",
    "        self,\n",
    "        freq: str = 'D',\n",
    "        lags: List[int] = [],\n",
    "        lag_transforms: Dict[int, List[Tuple]] = {},\n",
    "        date_features: List[str] = [],\n",
    "        num_threads: Optional[int] = None,\n",
    "        client: Optional[Client] = None,\n",
    "    ):\n",
    "        self._init_kwargs = dict(\n",
    "            freq=freq,\n",
    "            lags=lags,\n",
    "            lag_transforms=lag_transforms,\n",
    "            date_features=date_features,\n",
    "            num_threads=num_threads,\n",
    "        )\n",
    "        self.client = client or default_client()\n",
    "        self._ts_for_repr = TimeSeries(\n",
    "            freq, lags, lag_transforms, date_features, num_threads\n",
    "        )\n",
    "        \n",
    "    def fit_transform(self, data: dd.DataFrame) -> dd.DataFrame:\n",
    "        self.data_divisions = data.divisions\n",
    "        data = self.client.persist(data)\n",
    "        wait(data)\n",
    "        partition_futures = futures_of(data)\n",
    "        self.ts = []\n",
    "        df_futures = []\n",
    "        for part_future in partition_futures:\n",
    "            future = self.client.submit(\n",
    "                _fit_transform, self._init_kwargs, part_future, pure=False\n",
    "            )\n",
    "            ts_future = self.client.submit(operator.itemgetter(0), future)\n",
    "            df_future = self.client.submit(operator.itemgetter(1), future)\n",
    "            self.ts.append(ts_future)\n",
    "            df_futures.append(df_future)\n",
    "        meta = self.client.submit(lambda x: x.head(0), df_futures[0]).result()\n",
    "        return dd.from_delayed(df_futures, meta=meta)\n",
    "    \n",
    "    def predict(self, model, horizon: int, **kwargs) -> dd.DataFrame:\n",
    "        model_future = self.client.scatter(model, broadcast=True)\n",
    "        predictions_futures = [\n",
    "            self.client.submit(_predict, ts_future, model_future, horizon, **kwargs)\n",
    "            for ts_future in self.ts\n",
    "        ]\n",
    "        meta = self.client.submit(lambda x: x.head(), predictions_futures[0]).result()\n",
    "        return dd.from_delayed(\n",
    "            predictions_futures, meta=meta, divisions=self.data_divisions\n",
    "        )\n",
    "\n",
    "    def __repr__(self):\n",
    "        ts_repr = self._ts_for_repr.__repr__()\n",
    "        return f'Distributed{ts_repr}'\n"
   ]
  },
  {
   "cell_type": "markdown",
   "id": "32daa170-0df5-4288-99a5-43fbd7b3e790",
   "metadata": {},
   "source": [
    "The `distributed_preprocess` takes a `dask.dataframe` and applies the preprocessing function (`preprocessing_flow` by default) to each partition independently, generating as many `TimeSeries` objects as there are partitions in the dataframe and another `dask.dataframe` with the features included in order to perform distributed training using `dask`.\n",
    "\n",
    "It is recommended that you have as many partitions as you have workers, so each worker performs one preprocessing task (optionally using multi-threading)."
   ]
  },
  {
   "cell_type": "code",
   "execution_count": null,
   "id": "6fdf1831-da17-4ef4-a6ed-e3328f919ce9",
   "metadata": {},
   "outputs": [],
   "source": [
    "client = Client(n_workers=2)"
   ]
  },
  {
   "cell_type": "code",
   "execution_count": null,
   "id": "4e8a3dee-9251-4030-b999-ebad235980c3",
   "metadata": {},
   "outputs": [],
   "source": [
    "series = generate_daily_series(100, n_static_features=2)\n",
    "series"
   ]
  },
  {
   "cell_type": "code",
   "execution_count": null,
   "id": "1f52b4be-a2a0-4c52-9dd9-c97138e41efa",
   "metadata": {},
   "outputs": [],
   "source": [
    "partitioned_series = dd.from_pandas(series, npartitions=6)\n",
    "partitioned_series"
   ]
  },
  {
   "cell_type": "code",
   "execution_count": null,
   "id": "0e9b3688-34ed-4e30-948d-2ae834b3fe09",
   "metadata": {},
   "outputs": [],
   "source": [
    "config = dict(\n",
    "    freq='D',\n",
    "    lags=[7, 14],\n",
    "    lag_transforms={\n",
    "        7 : [(rolling_mean, 7)],\n",
    "        14: [(rolling_mean, 7)],\n",
    "    },\n",
    "    date_features=['dayofweek'],\n",
    "    num_threads=1,\n",
    ")\n",
    "\n",
    "dts = DistributedTimeSeries(**config)\n",
    "train_ddf = dts.fit_transform(partitioned_series).compute()\n",
    "\n",
    "ts = TimeSeries(**config)\n",
    "local_df = ts.fit_transform(series)\n",
    "assert train_ddf.equals(local_df)\n",
    "\n",
    "next_feats_futures = client.map(lambda ts: ts.update_features(), dts.ts)\n",
    "next_feats = pd.concat(client.gather(next_feats_futures))\n",
    "local_upd = ts.update_features()\n",
    "assert next_feats.equals(local_upd)"
   ]
  },
  {
   "cell_type": "code",
   "execution_count": null,
   "id": "32b17296-917e-43d8-9cf1-956e47884822",
   "metadata": {},
   "outputs": [],
   "source": [
    "class DummyModel:\n",
    "    def predict(self, X):\n",
    "        return X['lag-7'].values\n",
    "    \n",
    "horizon = 7\n",
    "model = DummyModel()\n",
    "dts = DistributedTimeSeries(**config)\n",
    "dts.fit_transform(partitioned_series)\n",
    "preds = dts.predict(model, horizon).compute()"
   ]
  },
  {
   "cell_type": "code",
   "execution_count": null,
   "id": "378005ce-c433-4c03-9e34-dea82cbbe5a2",
   "metadata": {},
   "outputs": [],
   "source": [
    "ts = TimeSeries(**config)\n",
    "ts.fit_transform(series)\n",
    "local_preds = ts.predict(model, horizon)"
   ]
  },
  {
   "cell_type": "code",
   "execution_count": null,
   "id": "e2b25277-8978-4a7e-a2bf-44e5f380d3d9",
   "metadata": {},
   "outputs": [],
   "source": [
    "assert preds.equals(local_preds)"
   ]
  },
  {
   "cell_type": "code",
   "execution_count": null,
   "id": "60b8d9fb-68f4-4343-889c-f2e8796bd6a4",
   "metadata": {},
   "outputs": [],
   "source": [
    "client.close()"
   ]
  }
 ],
 "metadata": {
  "kernelspec": {
   "display_name": "Python 3",
   "language": "python",
   "name": "python3"
  }
 },
 "nbformat": 4,
 "nbformat_minor": 5
}
