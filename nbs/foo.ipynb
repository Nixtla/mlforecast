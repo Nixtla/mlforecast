{
 "cells": [
  {
   "cell_type": "code",
   "execution_count": null,
   "id": "854cfe68",
   "metadata": {},
   "outputs": [],
   "source": [
    "from lazydocs import MarkdownGenerator\n",
    "\n",
    "generator = MarkdownGenerator()"
   ]
  },
  {
   "cell_type": "code",
   "execution_count": null,
   "id": "fa114218",
   "metadata": {},
   "outputs": [
    {
     "name": "stdout",
     "output_type": "stream",
     "text": [
      "generator.__class__\n",
      "generator.__delattr__\n",
      "generator.__dict__\n",
      "generator.__dir__\n",
      "generator.__doc__\n",
      "generator.__eq__\n",
      "generator.__format__\n",
      "generator.__ge__\n",
      "generator.__getattribute__\n",
      "generator.__getstate__\n",
      "generator.__gt__\n",
      "generator.__hash__\n",
      "generator.__init__\n",
      "generator.__init_subclass__\n",
      "generator.__le__\n",
      "generator.__lt__\n",
      "generator.__module__\n",
      "generator.__ne__\n",
      "generator.__new__\n",
      "generator.__reduce__\n",
      "generator.__reduce_ex__\n",
      "generator.__repr__\n",
      "generator.__setattr__\n",
      "generator.__sizeof__\n",
      "generator.__str__\n",
      "generator.__subclasshook__\n",
      "generator.__weakref__\n",
      "generator.class2md\n",
      "generator.func2md\n",
      "generator.generated_objects\n",
      "generator.import2md\n",
      "generator.module2md\n",
      "generator.overview2md\n",
      "generator.remove_package_prefix\n",
      "generator.src_base_url\n",
      "generator.src_root_path"
     ]
    }
   ],
   "source": [
    "generator.*?"
   ]
  },
  {
   "cell_type": "code",
   "execution_count": null,
   "id": "cf1783a4",
   "metadata": {},
   "outputs": [],
   "source": [
    "from rich.markdown import Markdown\n",
    "\n",
    "from mlforecast.distributed.models.ray.xgb import RayXGBForecast"
   ]
  },
  {
   "cell_type": "code",
   "execution_count": null,
   "id": "77131576",
   "metadata": {},
   "outputs": [
    {
     "data": {
      "text/html": [
       "<pre style=\"white-space:pre;overflow-x:auto;line-height:normal;font-family:Menlo,'DejaVu Sans Mono',consolas,'Courier New',monospace\">\n",
       "\n",
       "┏━━━━━━━━━━━━━━━━━━━━━━━━━━━━━━━━━━━━━━━━━━━━━━━━━━━━━━━━━━━━━━━━━━━━━━━━━━━━━━━━━━━━━━━━━━━━━━━━━━━━━━━━━━━━━━━━━┓\n",
       "┃                                              <span style=\"font-weight: bold\">class </span><span style=\"color: #008080; text-decoration-color: #008080; background-color: #000000; font-weight: bold\">RayXGBForecast</span>                                               ┃\n",
       "┗━━━━━━━━━━━━━━━━━━━━━━━━━━━━━━━━━━━━━━━━━━━━━━━━━━━━━━━━━━━━━━━━━━━━━━━━━━━━━━━━━━━━━━━━━━━━━━━━━━━━━━━━━━━━━━━━━┛\n",
       "\n",
       "<span style=\"color: #808000; text-decoration-color: #808000\">───────────────────────────────────────────────────────────────────────────────────────────────────────────────────</span>\n",
       "\n",
       "\n",
       "                                      <span style=\"font-weight: bold\">property RayXGBForecast.best_iteration</span>                                       \n",
       "\n",
       "The best iteration obtained by early stopping.  This attribute is 0-based, for instance if the best iteration is   \n",
       "the first round, then best_iteration is 0.                                                                         \n",
       "\n",
       "<span style=\"color: #808000; text-decoration-color: #808000\">───────────────────────────────────────────────────────────────────────────────────────────────────────────────────</span>\n",
       "\n",
       "\n",
       "                                        <span style=\"font-weight: bold\">property RayXGBForecast.best_score</span>                                         \n",
       "\n",
       "The best score obtained by early stopping.                                                                         \n",
       "\n",
       "<span style=\"color: #808000; text-decoration-color: #808000\">───────────────────────────────────────────────────────────────────────────────────────────────────────────────────</span>\n",
       "\n",
       "\n",
       "                                           <span style=\"font-weight: bold\">property RayXGBForecast.coef_</span>                                           \n",
       "\n",
       "Coefficients property                                                                                              \n",
       "\n",
       ".. note:: Coefficients are defined only for linear learners                                                        \n",
       "\n",
       "Coefficients are only defined when the linear model is chosen as  base learner (<span style=\"color: #008080; text-decoration-color: #008080; background-color: #000000; font-weight: bold\">booster=gblinear</span>). It is not       \n",
       "defined for other base  learner types, such as tree learners (<span style=\"color: #008080; text-decoration-color: #008080; background-color: #000000; font-weight: bold\">booster=gbtree</span>).                                     \n",
       "\n",
       "Returns ------- coef_ : array of shape <span style=\"color: #008080; text-decoration-color: #008080; background-color: #000000; font-weight: bold\">[n_features]</span> or <span style=\"color: #008080; text-decoration-color: #008080; background-color: #000000; font-weight: bold\">[n_classes, n_features]</span>                                     \n",
       "\n",
       "<span style=\"color: #808000; text-decoration-color: #808000\">───────────────────────────────────────────────────────────────────────────────────────────────────────────────────</span>\n",
       "\n",
       "\n",
       "                                   <span style=\"font-weight: bold\">property RayXGBForecast.feature_importances_</span>                                    \n",
       "\n",
       "Feature importances property, return depends on <span style=\"color: #008080; text-decoration-color: #008080; background-color: #000000; font-weight: bold\">importance_type</span> parameter. When model trained with                 \n",
       "multi-class/multi-label/multi-target dataset, the feature importance is \"averaged\" over all targets. The \"average\" \n",
       "is defined based on the importance type. For instance, if the importance type is \"total_gain\", then the score is   \n",
       "sum of loss change for each split from all trees.                                                                  \n",
       "\n",
       "Returns ------- feature_importances_ : array of shape <span style=\"color: #008080; text-decoration-color: #008080; background-color: #000000; font-weight: bold\">[n_features]</span> except for multi-class linear model, which      \n",
       "returns an array with shape <span style=\"color: #008080; text-decoration-color: #008080; background-color: #000000; font-weight: bold\">(n_features, n_classes)</span>                                                                \n",
       "\n",
       "<span style=\"color: #808000; text-decoration-color: #808000\">───────────────────────────────────────────────────────────────────────────────────────────────────────────────────</span>\n",
       "\n",
       "\n",
       "                                     <span style=\"font-weight: bold\">property RayXGBForecast.feature_names_in_</span>                                     \n",
       "\n",
       "Names of features seen during :py:meth:<span style=\"color: #008080; text-decoration-color: #008080; background-color: #000000; font-weight: bold\">fit</span>.  Defined only when <span style=\"color: #008080; text-decoration-color: #008080; background-color: #000000; font-weight: bold\">X</span> has feature names that are all strings.           \n",
       "\n",
       "<span style=\"color: #808000; text-decoration-color: #808000\">───────────────────────────────────────────────────────────────────────────────────────────────────────────────────</span>\n",
       "\n",
       "\n",
       "                                        <span style=\"font-weight: bold\">property RayXGBForecast.intercept_</span>                                         \n",
       "\n",
       "Intercept (bias) property                                                                                          \n",
       "\n",
       "For tree-based model, the returned value is the <span style=\"color: #008080; text-decoration-color: #008080; background-color: #000000; font-weight: bold\">base_score</span>.                                                        \n",
       "\n",
       "Returns ------- intercept_ : array of shape <span style=\"color: #008080; text-decoration-color: #008080; background-color: #000000; font-weight: bold\">(1,)</span> or <span style=\"color: #008080; text-decoration-color: #008080; background-color: #000000; font-weight: bold\">[n_classes]</span>                                                    \n",
       "\n",
       "<span style=\"color: #808000; text-decoration-color: #808000\">───────────────────────────────────────────────────────────────────────────────────────────────────────────────────</span>\n",
       "\n",
       "\n",
       "                                          <span style=\"font-weight: bold\">property RayXGBForecast.model_</span>                                           \n",
       "\n",
       "<span style=\"color: #808000; text-decoration-color: #808000\">───────────────────────────────────────────────────────────────────────────────────────────────────────────────────</span>\n",
       "\n",
       "\n",
       "                                      <span style=\"font-weight: bold\">property RayXGBForecast.n_features_in_</span>                                       \n",
       "\n",
       "Number of features seen during :py:meth:<span style=\"color: #008080; text-decoration-color: #008080; background-color: #000000; font-weight: bold\">fit</span>.                                                                       \n",
       "</pre>\n"
      ],
      "text/plain": [
       "\n",
       "\n",
       "┏━━━━━━━━━━━━━━━━━━━━━━━━━━━━━━━━━━━━━━━━━━━━━━━━━━━━━━━━━━━━━━━━━━━━━━━━━━━━━━━━━━━━━━━━━━━━━━━━━━━━━━━━━━━━━━━━━┓\n",
       "┃                                              \u001b[1mclass\u001b[0m\u001b[1m \u001b[0m\u001b[1;36;40mRayXGBForecast\u001b[0m                                               ┃\n",
       "┗━━━━━━━━━━━━━━━━━━━━━━━━━━━━━━━━━━━━━━━━━━━━━━━━━━━━━━━━━━━━━━━━━━━━━━━━━━━━━━━━━━━━━━━━━━━━━━━━━━━━━━━━━━━━━━━━━┛\n",
       "\n",
       "\u001b[33m───────────────────────────────────────────────────────────────────────────────────────────────────────────────────\u001b[0m\n",
       "\n",
       "\n",
       "                                      \u001b[1mproperty\u001b[0m\u001b[1m RayXGBForecast.best_iteration\u001b[0m                                       \n",
       "\n",
       "The best iteration obtained by early stopping.  This attribute is 0-based, for instance if the best iteration is   \n",
       "the first round, then best_iteration is 0.                                                                         \n",
       "\n",
       "\u001b[33m───────────────────────────────────────────────────────────────────────────────────────────────────────────────────\u001b[0m\n",
       "\n",
       "\n",
       "                                        \u001b[1mproperty\u001b[0m\u001b[1m RayXGBForecast.best_score\u001b[0m                                         \n",
       "\n",
       "The best score obtained by early stopping.                                                                         \n",
       "\n",
       "\u001b[33m───────────────────────────────────────────────────────────────────────────────────────────────────────────────────\u001b[0m\n",
       "\n",
       "\n",
       "                                           \u001b[1mproperty\u001b[0m\u001b[1m RayXGBForecast.coef_\u001b[0m                                           \n",
       "\n",
       "Coefficients property                                                                                              \n",
       "\n",
       ".. note:: Coefficients are defined only for linear learners                                                        \n",
       "\n",
       "Coefficients are only defined when the linear model is chosen as  base learner (\u001b[1;36;40mbooster=gblinear\u001b[0m). It is not       \n",
       "defined for other base  learner types, such as tree learners (\u001b[1;36;40mbooster=gbtree\u001b[0m).                                     \n",
       "\n",
       "Returns ------- coef_ : array of shape \u001b[1;36;40m[n_features]\u001b[0m or \u001b[1;36;40m[n_classes, n_features]\u001b[0m                                     \n",
       "\n",
       "\u001b[33m───────────────────────────────────────────────────────────────────────────────────────────────────────────────────\u001b[0m\n",
       "\n",
       "\n",
       "                                   \u001b[1mproperty\u001b[0m\u001b[1m RayXGBForecast.feature_importances_\u001b[0m                                    \n",
       "\n",
       "Feature importances property, return depends on \u001b[1;36;40mimportance_type\u001b[0m parameter. When model trained with                 \n",
       "multi-class/multi-label/multi-target dataset, the feature importance is \"averaged\" over all targets. The \"average\" \n",
       "is defined based on the importance type. For instance, if the importance type is \"total_gain\", then the score is   \n",
       "sum of loss change for each split from all trees.                                                                  \n",
       "\n",
       "Returns ------- feature_importances_ : array of shape \u001b[1;36;40m[n_features]\u001b[0m except for multi-class linear model, which      \n",
       "returns an array with shape \u001b[1;36;40m(n_features, n_classes)\u001b[0m                                                                \n",
       "\n",
       "\u001b[33m───────────────────────────────────────────────────────────────────────────────────────────────────────────────────\u001b[0m\n",
       "\n",
       "\n",
       "                                     \u001b[1mproperty\u001b[0m\u001b[1m RayXGBForecast.feature_names_in_\u001b[0m                                     \n",
       "\n",
       "Names of features seen during :py:meth:\u001b[1;36;40mfit\u001b[0m.  Defined only when \u001b[1;36;40mX\u001b[0m has feature names that are all strings.           \n",
       "\n",
       "\u001b[33m───────────────────────────────────────────────────────────────────────────────────────────────────────────────────\u001b[0m\n",
       "\n",
       "\n",
       "                                        \u001b[1mproperty\u001b[0m\u001b[1m RayXGBForecast.intercept_\u001b[0m                                         \n",
       "\n",
       "Intercept (bias) property                                                                                          \n",
       "\n",
       "For tree-based model, the returned value is the \u001b[1;36;40mbase_score\u001b[0m.                                                        \n",
       "\n",
       "Returns ------- intercept_ : array of shape \u001b[1;36;40m(1,)\u001b[0m or \u001b[1;36;40m[n_classes]\u001b[0m                                                    \n",
       "\n",
       "\u001b[33m───────────────────────────────────────────────────────────────────────────────────────────────────────────────────\u001b[0m\n",
       "\n",
       "\n",
       "                                          \u001b[1mproperty\u001b[0m\u001b[1m RayXGBForecast.model_\u001b[0m                                           \n",
       "\n",
       "\u001b[33m───────────────────────────────────────────────────────────────────────────────────────────────────────────────────\u001b[0m\n",
       "\n",
       "\n",
       "                                      \u001b[1mproperty\u001b[0m\u001b[1m RayXGBForecast.n_features_in_\u001b[0m                                       \n",
       "\n",
       "Number of features seen during :py:meth:\u001b[1;36;40mfit\u001b[0m.                                                                       \n"
      ]
     },
     "execution_count": null,
     "metadata": {},
     "output_type": "execute_result"
    }
   ],
   "source": [
    "Markdown(generator.class2md(RayXGBForecast, depth=1))"
   ]
  },
  {
   "cell_type": "code",
   "execution_count": null,
   "id": "66a359fa",
   "metadata": {},
   "outputs": [
    {
     "data": {
      "text/html": [
       "<pre style=\"white-space:pre;overflow-x:auto;line-height:normal;font-family:Menlo,'DejaVu Sans Mono',consolas,'Courier New',monospace\">\n",
       "\n",
       "┏━━━━━━━━━━━━━━━━━━━━━━━━━━━━━━━━━━━━━━━━━━━━━━━━━━━━━━━━━━━━━━━━━━━━━━━━━━━━━━━━━━━━━━━━━━━━━━━━━━━━━━━━━━━━━━━━━┓\n",
       "┃                                                 <span style=\"font-weight: bold\">module </span><span style=\"color: #008080; text-decoration-color: #008080; background-color: #000000; font-weight: bold\">__init__</span>                                                 ┃\n",
       "┗━━━━━━━━━━━━━━━━━━━━━━━━━━━━━━━━━━━━━━━━━━━━━━━━━━━━━━━━━━━━━━━━━━━━━━━━━━━━━━━━━━━━━━━━━━━━━━━━━━━━━━━━━━━━━━━━━┛\n",
       "</pre>\n"
      ],
      "text/plain": [
       "\n",
       "\n",
       "┏━━━━━━━━━━━━━━━━━━━━━━━━━━━━━━━━━━━━━━━━━━━━━━━━━━━━━━━━━━━━━━━━━━━━━━━━━━━━━━━━━━━━━━━━━━━━━━━━━━━━━━━━━━━━━━━━━┓\n",
       "┃                                                 \u001b[1mmodule\u001b[0m\u001b[1m \u001b[0m\u001b[1;36;40m__init__\u001b[0m                                                 ┃\n",
       "┗━━━━━━━━━━━━━━━━━━━━━━━━━━━━━━━━━━━━━━━━━━━━━━━━━━━━━━━━━━━━━━━━━━━━━━━━━━━━━━━━━━━━━━━━━━━━━━━━━━━━━━━━━━━━━━━━━┛\n"
      ]
     },
     "execution_count": null,
     "metadata": {},
     "output_type": "execute_result"
    }
   ],
   "source": [
    "Markdown(generator.module2md(RayXGBForecast.__init__, depth=1))"
   ]
  },
  {
   "cell_type": "code",
   "execution_count": null,
   "id": "62ceb360",
   "metadata": {},
   "outputs": [
    {
     "data": {
      "text/html": [
       "<pre style=\"white-space:pre;overflow-x:auto;line-height:normal;font-family:Menlo,'DejaVu Sans Mono',consolas,'Courier New',monospace\">\n",
       "\n",
       "                                              <span style=\"font-weight: bold\">function </span><span style=\"color: #008080; text-decoration-color: #008080; background-color: #000000; font-weight: bold\">RayXGBForecast</span>                                              \n",
       "\n",
       "<span style=\"background-color: #272822\">                                                                                                                   \n",
       " </span><span style=\"color: #f8f8f2; text-decoration-color: #f8f8f2; background-color: #272822\">RayXGBForecast(</span><span style=\"background-color: #272822\">                                                                                                   </span>\n",
       "<span style=\"background-color: #272822\"> </span><span style=\"color: #f8f8f2; text-decoration-color: #f8f8f2; background-color: #272822\">    objective: Optional[str, xgboost</span><span style=\"color: #ff4689; text-decoration-color: #ff4689; background-color: #272822\">.</span><span style=\"color: #f8f8f2; text-decoration-color: #f8f8f2; background-color: #272822\">sklearn</span><span style=\"color: #ff4689; text-decoration-color: #ff4689; background-color: #272822\">.</span><span style=\"color: #f8f8f2; text-decoration-color: #f8f8f2; background-color: #272822\">_SklObjWProto, Callable[[Any, Any], Tuple[numpy</span><span style=\"color: #ff4689; text-decoration-color: #ff4689; background-color: #272822\">.</span><span style=\"color: #f8f8f2; text-decoration-color: #f8f8f2; background-color: #272822\">ndarray, </span><span style=\"background-color: #272822\">            </span>\n",
       "<span style=\"background-color: #272822\"> </span><span style=\"color: #f8f8f2; text-decoration-color: #f8f8f2; background-color: #272822\">numpy</span><span style=\"color: #ff4689; text-decoration-color: #ff4689; background-color: #272822\">.</span><span style=\"color: #f8f8f2; text-decoration-color: #f8f8f2; background-color: #272822\">ndarray]]] </span><span style=\"color: #ff4689; text-decoration-color: #ff4689; background-color: #272822\">=</span><span style=\"color: #f8f8f2; text-decoration-color: #f8f8f2; background-color: #272822\"> </span><span style=\"color: #e6db74; text-decoration-color: #e6db74; background-color: #272822\">'reg:squarederror'</span><span style=\"color: #f8f8f2; text-decoration-color: #f8f8f2; background-color: #272822\">,</span><span style=\"background-color: #272822\">                                                                            </span>\n",
       "<span style=\"background-color: #272822\"> </span><span style=\"color: #f8f8f2; text-decoration-color: #f8f8f2; background-color: #272822\">    </span><span style=\"color: #ff4689; text-decoration-color: #ff4689; background-color: #272822\">**</span><span style=\"color: #f8f8f2; text-decoration-color: #f8f8f2; background-color: #272822\">kwargs: Any</span><span style=\"background-color: #272822\">                                                                                                 </span>\n",
       "<span style=\"background-color: #272822\"> </span><span style=\"color: #f8f8f2; text-decoration-color: #f8f8f2; background-color: #272822\">) </span><span style=\"color: #ed007e; text-decoration-color: #ed007e; background-color: #1e0010\">→</span><span style=\"color: #f8f8f2; text-decoration-color: #f8f8f2; background-color: #272822\"> </span><span style=\"color: #66d9ef; text-decoration-color: #66d9ef; background-color: #272822\">None</span><span style=\"background-color: #272822\">                                                                                                          </span>\n",
       "<span style=\"background-color: #272822\">                                                                                                                   \n",
       "</span></pre>\n"
      ],
      "text/plain": [
       "\n",
       "\n",
       "                                              \u001b[1mfunction\u001b[0m\u001b[1m \u001b[0m\u001b[1;36;40mRayXGBForecast\u001b[0m                                              \n",
       "\n",
       "\u001b[48;2;39;40;34m                                                                                                                   \n",
       "\u001b[0m\u001b[48;2;39;40;34m \u001b[0m\u001b[38;2;248;248;242;48;2;39;40;34mRayXGBForecast\u001b[0m\u001b[38;2;248;248;242;48;2;39;40;34m(\u001b[0m\u001b[48;2;39;40;34m                                                                                                  \u001b[0m\u001b[48;2;39;40;34m \u001b[0m\n",
       "\u001b[48;2;39;40;34m \u001b[0m\u001b[38;2;248;248;242;48;2;39;40;34m    \u001b[0m\u001b[38;2;248;248;242;48;2;39;40;34mobjective\u001b[0m\u001b[38;2;248;248;242;48;2;39;40;34m:\u001b[0m\u001b[38;2;248;248;242;48;2;39;40;34m \u001b[0m\u001b[38;2;248;248;242;48;2;39;40;34mOptional\u001b[0m\u001b[38;2;248;248;242;48;2;39;40;34m[\u001b[0m\u001b[38;2;248;248;242;48;2;39;40;34mstr\u001b[0m\u001b[38;2;248;248;242;48;2;39;40;34m,\u001b[0m\u001b[38;2;248;248;242;48;2;39;40;34m \u001b[0m\u001b[38;2;248;248;242;48;2;39;40;34mxgboost\u001b[0m\u001b[38;2;255;70;137;48;2;39;40;34m.\u001b[0m\u001b[38;2;248;248;242;48;2;39;40;34msklearn\u001b[0m\u001b[38;2;255;70;137;48;2;39;40;34m.\u001b[0m\u001b[38;2;248;248;242;48;2;39;40;34m_SklObjWProto\u001b[0m\u001b[38;2;248;248;242;48;2;39;40;34m,\u001b[0m\u001b[38;2;248;248;242;48;2;39;40;34m \u001b[0m\u001b[38;2;248;248;242;48;2;39;40;34mCallable\u001b[0m\u001b[38;2;248;248;242;48;2;39;40;34m[\u001b[0m\u001b[38;2;248;248;242;48;2;39;40;34m[\u001b[0m\u001b[38;2;248;248;242;48;2;39;40;34mAny\u001b[0m\u001b[38;2;248;248;242;48;2;39;40;34m,\u001b[0m\u001b[38;2;248;248;242;48;2;39;40;34m \u001b[0m\u001b[38;2;248;248;242;48;2;39;40;34mAny\u001b[0m\u001b[38;2;248;248;242;48;2;39;40;34m]\u001b[0m\u001b[38;2;248;248;242;48;2;39;40;34m,\u001b[0m\u001b[38;2;248;248;242;48;2;39;40;34m \u001b[0m\u001b[38;2;248;248;242;48;2;39;40;34mTuple\u001b[0m\u001b[38;2;248;248;242;48;2;39;40;34m[\u001b[0m\u001b[38;2;248;248;242;48;2;39;40;34mnumpy\u001b[0m\u001b[38;2;255;70;137;48;2;39;40;34m.\u001b[0m\u001b[38;2;248;248;242;48;2;39;40;34mndarray\u001b[0m\u001b[38;2;248;248;242;48;2;39;40;34m,\u001b[0m\u001b[38;2;248;248;242;48;2;39;40;34m \u001b[0m\u001b[48;2;39;40;34m           \u001b[0m\u001b[48;2;39;40;34m \u001b[0m\n",
       "\u001b[48;2;39;40;34m \u001b[0m\u001b[38;2;248;248;242;48;2;39;40;34mnumpy\u001b[0m\u001b[38;2;255;70;137;48;2;39;40;34m.\u001b[0m\u001b[38;2;248;248;242;48;2;39;40;34mndarray\u001b[0m\u001b[38;2;248;248;242;48;2;39;40;34m]\u001b[0m\u001b[38;2;248;248;242;48;2;39;40;34m]\u001b[0m\u001b[38;2;248;248;242;48;2;39;40;34m]\u001b[0m\u001b[38;2;248;248;242;48;2;39;40;34m \u001b[0m\u001b[38;2;255;70;137;48;2;39;40;34m=\u001b[0m\u001b[38;2;248;248;242;48;2;39;40;34m \u001b[0m\u001b[38;2;230;219;116;48;2;39;40;34m'\u001b[0m\u001b[38;2;230;219;116;48;2;39;40;34mreg:squarederror\u001b[0m\u001b[38;2;230;219;116;48;2;39;40;34m'\u001b[0m\u001b[38;2;248;248;242;48;2;39;40;34m,\u001b[0m\u001b[48;2;39;40;34m                                                                           \u001b[0m\u001b[48;2;39;40;34m \u001b[0m\n",
       "\u001b[48;2;39;40;34m \u001b[0m\u001b[38;2;248;248;242;48;2;39;40;34m    \u001b[0m\u001b[38;2;255;70;137;48;2;39;40;34m*\u001b[0m\u001b[38;2;255;70;137;48;2;39;40;34m*\u001b[0m\u001b[38;2;248;248;242;48;2;39;40;34mkwargs\u001b[0m\u001b[38;2;248;248;242;48;2;39;40;34m:\u001b[0m\u001b[38;2;248;248;242;48;2;39;40;34m \u001b[0m\u001b[38;2;248;248;242;48;2;39;40;34mAny\u001b[0m\u001b[48;2;39;40;34m                                                                                                \u001b[0m\u001b[48;2;39;40;34m \u001b[0m\n",
       "\u001b[48;2;39;40;34m \u001b[0m\u001b[38;2;248;248;242;48;2;39;40;34m)\u001b[0m\u001b[38;2;248;248;242;48;2;39;40;34m \u001b[0m\u001b[38;2;237;0;126;48;2;30;0;16m→\u001b[0m\u001b[38;2;248;248;242;48;2;39;40;34m \u001b[0m\u001b[38;2;102;217;239;48;2;39;40;34mNone\u001b[0m\u001b[48;2;39;40;34m                                                                                                         \u001b[0m\u001b[48;2;39;40;34m \u001b[0m\n",
       "\u001b[48;2;39;40;34m                                                                                                                   \n",
       "\u001b[0m"
      ]
     },
     "execution_count": null,
     "metadata": {},
     "output_type": "execute_result"
    }
   ],
   "source": [
    "Markdown(generator.func2md(RayXGBForecast))"
   ]
  },
  {
   "cell_type": "code",
   "execution_count": null,
   "id": "bc697059",
   "metadata": {},
   "outputs": [],
   "source": []
  },
  {
   "cell_type": "code",
   "execution_count": null,
   "id": "371890e5",
   "metadata": {},
   "outputs": [
    {
     "ename": "AttributeError",
     "evalue": "'property' object has no attribute '__name__'",
     "output_type": "error",
     "traceback": [
      "\u001b[31m---------------------------------------------------------------------------\u001b[39m",
      "\u001b[31mAttributeError\u001b[39m                            Traceback (most recent call last)",
      "\u001b[36mCell\u001b[39m\u001b[36m \u001b[39m\u001b[32mIn[29]\u001b[39m\u001b[32m, line 1\u001b[39m\n\u001b[32m----> \u001b[39m\u001b[32m1\u001b[39m Markdown(\u001b[43mgenerator\u001b[49m\u001b[43m.\u001b[49m\u001b[43mfunc2md\u001b[49m\u001b[43m(\u001b[49m\u001b[43mRayXGBForecast\u001b[49m\u001b[43m.\u001b[49m\u001b[43mmodel_\u001b[49m\u001b[43m)\u001b[49m)\n",
      "\u001b[36mFile \u001b[39m\u001b[32m~/miniforge3/envs/mlforecast/lib/python3.11/site-packages/lazydocs/generation.py:540\u001b[39m, in \u001b[36mMarkdownGenerator.func2md\u001b[39m\u001b[34m(self, func, clsname, depth)\u001b[39m\n\u001b[32m    537\u001b[39m     \u001b[38;5;28;01mreturn\u001b[39;00m \u001b[33m\"\u001b[39m\u001b[33m\"\u001b[39m\n\u001b[32m    539\u001b[39m section = \u001b[33m\"\u001b[39m\u001b[33m#\u001b[39m\u001b[33m\"\u001b[39m * depth\n\u001b[32m--> \u001b[39m\u001b[32m540\u001b[39m funcname = \u001b[43mfunc\u001b[49m\u001b[43m.\u001b[49m\u001b[34;43m__name__\u001b[39;49m\n\u001b[32m    541\u001b[39m modname = \u001b[38;5;28;01mNone\u001b[39;00m\n\u001b[32m    542\u001b[39m \u001b[38;5;28;01mif\u001b[39;00m \u001b[38;5;28mhasattr\u001b[39m(func, \u001b[33m\"\u001b[39m\u001b[33m__module__\u001b[39m\u001b[33m\"\u001b[39m):\n",
      "\u001b[31mAttributeError\u001b[39m: 'property' object has no attribute '__name__'"
     ]
    }
   ],
   "source": [
    "Markdown(generator.func2md(RayXGBForecast.model_))"
   ]
  },
  {
   "cell_type": "code",
   "execution_count": null,
   "id": "d1ecb5ea",
   "metadata": {},
   "outputs": [
    {
     "data": {
      "text/html": [
       "<pre style=\"white-space:pre;overflow-x:auto;line-height:normal;font-family:Menlo,'DejaVu Sans Mono',consolas,'Courier New',monospace\">\n",
       "\n",
       "                                                  <span style=\"font-weight: bold\">method </span><span style=\"color: #008080; text-decoration-color: #008080; background-color: #000000; font-weight: bold\">predict</span>                                                   \n",
       "\n",
       "<span style=\"background-color: #272822\">                                                                                                                   \n",
       " </span><span style=\"color: #f8f8f2; text-decoration-color: #f8f8f2; background-color: #272822\">predict(</span><span style=\"background-color: #272822\">                                                                                                          </span>\n",
       "<span style=\"background-color: #272822\"> </span><span style=\"color: #f8f8f2; text-decoration-color: #f8f8f2; background-color: #272822\">    X,</span><span style=\"background-color: #272822\">                                                                                                            </span>\n",
       "<span style=\"background-color: #272822\"> </span><span style=\"color: #f8f8f2; text-decoration-color: #f8f8f2; background-color: #272822\">    output_margin</span><span style=\"color: #ff4689; text-decoration-color: #ff4689; background-color: #272822\">=</span><span style=\"color: #66d9ef; text-decoration-color: #66d9ef; background-color: #272822\">False</span><span style=\"color: #f8f8f2; text-decoration-color: #f8f8f2; background-color: #272822\">,</span><span style=\"background-color: #272822\">                                                                                          </span>\n",
       "<span style=\"background-color: #272822\"> </span><span style=\"color: #f8f8f2; text-decoration-color: #f8f8f2; background-color: #272822\">    validate_features</span><span style=\"color: #ff4689; text-decoration-color: #ff4689; background-color: #272822\">=</span><span style=\"color: #66d9ef; text-decoration-color: #66d9ef; background-color: #272822\">True</span><span style=\"color: #f8f8f2; text-decoration-color: #f8f8f2; background-color: #272822\">,</span><span style=\"background-color: #272822\">                                                                                       </span>\n",
       "<span style=\"background-color: #272822\"> </span><span style=\"color: #f8f8f2; text-decoration-color: #f8f8f2; background-color: #272822\">    base_margin</span><span style=\"color: #ff4689; text-decoration-color: #ff4689; background-color: #272822\">=</span><span style=\"color: #66d9ef; text-decoration-color: #66d9ef; background-color: #272822\">None</span><span style=\"color: #f8f8f2; text-decoration-color: #f8f8f2; background-color: #272822\">,</span><span style=\"background-color: #272822\">                                                                                             </span>\n",
       "<span style=\"background-color: #272822\"> </span><span style=\"color: #f8f8f2; text-decoration-color: #f8f8f2; background-color: #272822\">    iteration_range</span><span style=\"color: #ff4689; text-decoration-color: #ff4689; background-color: #272822\">=</span><span style=\"color: #66d9ef; text-decoration-color: #66d9ef; background-color: #272822\">None</span><span style=\"color: #f8f8f2; text-decoration-color: #f8f8f2; background-color: #272822\">,</span><span style=\"background-color: #272822\">                                                                                         </span>\n",
       "<span style=\"background-color: #272822\"> </span><span style=\"color: #f8f8f2; text-decoration-color: #f8f8f2; background-color: #272822\">    ray_params: Union[NoneType, xgboost_ray</span><span style=\"color: #ff4689; text-decoration-color: #ff4689; background-color: #272822\">.</span><span style=\"color: #f8f8f2; text-decoration-color: #f8f8f2; background-color: #272822\">main</span><span style=\"color: #ff4689; text-decoration-color: #ff4689; background-color: #272822\">.</span><span style=\"color: #f8f8f2; text-decoration-color: #f8f8f2; background-color: #272822\">RayParams, Dict] </span><span style=\"color: #ff4689; text-decoration-color: #ff4689; background-color: #272822\">=</span><span style=\"color: #f8f8f2; text-decoration-color: #f8f8f2; background-color: #272822\"> </span><span style=\"color: #66d9ef; text-decoration-color: #66d9ef; background-color: #272822\">None</span><span style=\"color: #f8f8f2; text-decoration-color: #f8f8f2; background-color: #272822\">,</span><span style=\"background-color: #272822\">                                         </span>\n",
       "<span style=\"background-color: #272822\"> </span><span style=\"color: #f8f8f2; text-decoration-color: #f8f8f2; background-color: #272822\">    _remote: Optional[bool] </span><span style=\"color: #ff4689; text-decoration-color: #ff4689; background-color: #272822\">=</span><span style=\"color: #f8f8f2; text-decoration-color: #f8f8f2; background-color: #272822\"> </span><span style=\"color: #66d9ef; text-decoration-color: #66d9ef; background-color: #272822\">None</span><span style=\"color: #f8f8f2; text-decoration-color: #f8f8f2; background-color: #272822\">,</span><span style=\"background-color: #272822\">                                                                               </span>\n",
       "<span style=\"background-color: #272822\"> </span><span style=\"color: #f8f8f2; text-decoration-color: #f8f8f2; background-color: #272822\">    ray_dmatrix_params: Optional[Dict] </span><span style=\"color: #ff4689; text-decoration-color: #ff4689; background-color: #272822\">=</span><span style=\"color: #f8f8f2; text-decoration-color: #f8f8f2; background-color: #272822\"> </span><span style=\"color: #66d9ef; text-decoration-color: #66d9ef; background-color: #272822\">None</span><span style=\"color: #f8f8f2; text-decoration-color: #f8f8f2; background-color: #272822\">,</span><span style=\"background-color: #272822\">                                                                    </span>\n",
       "<span style=\"background-color: #272822\"> </span><span style=\"color: #f8f8f2; text-decoration-color: #f8f8f2; background-color: #272822\">    </span><span style=\"color: #ff4689; text-decoration-color: #ff4689; background-color: #272822\">**</span><span style=\"color: #f8f8f2; text-decoration-color: #f8f8f2; background-color: #272822\">kwargs</span><span style=\"background-color: #272822\">                                                                                                      </span>\n",
       "<span style=\"background-color: #272822\"> </span><span style=\"color: #f8f8f2; text-decoration-color: #f8f8f2; background-color: #272822\">)</span><span style=\"background-color: #272822\">                                                                                                                 </span>\n",
       "<span style=\"background-color: #272822\">                                                                                                                   \n",
       "</span>\n",
       "Predict with <span style=\"color: #008080; text-decoration-color: #008080; background-color: #000000; font-weight: bold\">X</span>.  If the model is trained with early stopping, then :py:attr:<span style=\"color: #008080; text-decoration-color: #008080; background-color: #000000; font-weight: bold\">best_iteration</span> is used automatically.  \n",
       "The estimator uses <span style=\"color: #008080; text-decoration-color: #008080; background-color: #000000; font-weight: bold\">inplace_predict</span> by default and falls back to using :py:class:<span style=\"color: #008080; text-decoration-color: #008080; background-color: #000000; font-weight: bold\">DMatrix</span> if devices between the data\n",
       "and the estimator don't match.                                                                                     \n",
       "\n",
       ".. note:: This function is only thread safe for <span style=\"color: #008080; text-decoration-color: #008080; background-color: #000000; font-weight: bold\">gbtree</span> and <span style=\"color: #008080; text-decoration-color: #008080; background-color: #000000; font-weight: bold\">dart</span>.                                                   \n",
       "\n",
       "Parameters ---------- X :  Data to predict with. Can also be a <span style=\"color: #008080; text-decoration-color: #008080; background-color: #000000; font-weight: bold\">RayDMatrix</span>. See :ref:<span style=\"color: #008080; text-decoration-color: #008080; background-color: #000000; font-weight: bold\">py-data</span> for a list of supported\n",
       "types. output_margin :  Whether to output the raw untransformed margin value. validate_features :  When this is    \n",
       "True, validate that the Booster's and data's feature_names are  identical.  Otherwise, it is assumed that the      \n",
       "feature_names are the same. base_margin :  Global bias for each instance. See :doc:<span style=\"color: #008080; text-decoration-color: #008080; background-color: #000000; font-weight: bold\">/tutorials/intercept</span> for        \n",
       "details. iteration_range :  Specifies which layer of trees are used in prediction.  For example, if a  random      \n",
       "forest is trained with 100 rounds.  Specifying <span style=\"color: #008080; text-decoration-color: #008080; background-color: #000000; font-weight: bold\">iteration_range=(10,  20)</span>, then only the forests built during [10,  \n",
       "20) (half open set) rounds  are used in this prediction.                                                           \n",
       "\n",
       ".. versionadded:: 1.4.0                                                                                            \n",
       "\n",
       "Returns ------- prediction                                                                                         \n",
       "\n",
       "ray_params : None or RayParams or Dict  Parameters to configure Ray-specific behavior.  See :class:<span style=\"color: #008080; text-decoration-color: #008080; background-color: #000000; font-weight: bold\">RayParams</span> for a \n",
       "list of valid  configuration parameters. Will override <span style=\"color: #008080; text-decoration-color: #008080; background-color: #000000; font-weight: bold\">n_jobs</span> attribute  with own <span style=\"color: #008080; text-decoration-color: #008080; background-color: #000000; font-weight: bold\">num_actors</span> parameter. _remote :  \n",
       "bool  Whether to run the driver process in a remote  function. This is enabled by default in Ray client mode.      \n",
       "ray_dmatrix_params : dict  Dict of parameters (such as sharding mode) passed to the  internal RayDMatrix           \n",
       "initialization.                                                                                                    \n",
       "</pre>\n"
      ],
      "text/plain": [
       "\n",
       "\n",
       "                                                  \u001b[1mmethod\u001b[0m\u001b[1m \u001b[0m\u001b[1;36;40mpredict\u001b[0m                                                   \n",
       "\n",
       "\u001b[48;2;39;40;34m                                                                                                                   \n",
       "\u001b[0m\u001b[48;2;39;40;34m \u001b[0m\u001b[38;2;248;248;242;48;2;39;40;34mpredict\u001b[0m\u001b[38;2;248;248;242;48;2;39;40;34m(\u001b[0m\u001b[48;2;39;40;34m                                                                                                         \u001b[0m\u001b[48;2;39;40;34m \u001b[0m\n",
       "\u001b[48;2;39;40;34m \u001b[0m\u001b[38;2;248;248;242;48;2;39;40;34m    \u001b[0m\u001b[38;2;248;248;242;48;2;39;40;34mX\u001b[0m\u001b[38;2;248;248;242;48;2;39;40;34m,\u001b[0m\u001b[48;2;39;40;34m                                                                                                           \u001b[0m\u001b[48;2;39;40;34m \u001b[0m\n",
       "\u001b[48;2;39;40;34m \u001b[0m\u001b[38;2;248;248;242;48;2;39;40;34m    \u001b[0m\u001b[38;2;248;248;242;48;2;39;40;34moutput_margin\u001b[0m\u001b[38;2;255;70;137;48;2;39;40;34m=\u001b[0m\u001b[38;2;102;217;239;48;2;39;40;34mFalse\u001b[0m\u001b[38;2;248;248;242;48;2;39;40;34m,\u001b[0m\u001b[48;2;39;40;34m                                                                                         \u001b[0m\u001b[48;2;39;40;34m \u001b[0m\n",
       "\u001b[48;2;39;40;34m \u001b[0m\u001b[38;2;248;248;242;48;2;39;40;34m    \u001b[0m\u001b[38;2;248;248;242;48;2;39;40;34mvalidate_features\u001b[0m\u001b[38;2;255;70;137;48;2;39;40;34m=\u001b[0m\u001b[38;2;102;217;239;48;2;39;40;34mTrue\u001b[0m\u001b[38;2;248;248;242;48;2;39;40;34m,\u001b[0m\u001b[48;2;39;40;34m                                                                                      \u001b[0m\u001b[48;2;39;40;34m \u001b[0m\n",
       "\u001b[48;2;39;40;34m \u001b[0m\u001b[38;2;248;248;242;48;2;39;40;34m    \u001b[0m\u001b[38;2;248;248;242;48;2;39;40;34mbase_margin\u001b[0m\u001b[38;2;255;70;137;48;2;39;40;34m=\u001b[0m\u001b[38;2;102;217;239;48;2;39;40;34mNone\u001b[0m\u001b[38;2;248;248;242;48;2;39;40;34m,\u001b[0m\u001b[48;2;39;40;34m                                                                                            \u001b[0m\u001b[48;2;39;40;34m \u001b[0m\n",
       "\u001b[48;2;39;40;34m \u001b[0m\u001b[38;2;248;248;242;48;2;39;40;34m    \u001b[0m\u001b[38;2;248;248;242;48;2;39;40;34miteration_range\u001b[0m\u001b[38;2;255;70;137;48;2;39;40;34m=\u001b[0m\u001b[38;2;102;217;239;48;2;39;40;34mNone\u001b[0m\u001b[38;2;248;248;242;48;2;39;40;34m,\u001b[0m\u001b[48;2;39;40;34m                                                                                        \u001b[0m\u001b[48;2;39;40;34m \u001b[0m\n",
       "\u001b[48;2;39;40;34m \u001b[0m\u001b[38;2;248;248;242;48;2;39;40;34m    \u001b[0m\u001b[38;2;248;248;242;48;2;39;40;34mray_params\u001b[0m\u001b[38;2;248;248;242;48;2;39;40;34m:\u001b[0m\u001b[38;2;248;248;242;48;2;39;40;34m \u001b[0m\u001b[38;2;248;248;242;48;2;39;40;34mUnion\u001b[0m\u001b[38;2;248;248;242;48;2;39;40;34m[\u001b[0m\u001b[38;2;248;248;242;48;2;39;40;34mNoneType\u001b[0m\u001b[38;2;248;248;242;48;2;39;40;34m,\u001b[0m\u001b[38;2;248;248;242;48;2;39;40;34m \u001b[0m\u001b[38;2;248;248;242;48;2;39;40;34mxgboost_ray\u001b[0m\u001b[38;2;255;70;137;48;2;39;40;34m.\u001b[0m\u001b[38;2;248;248;242;48;2;39;40;34mmain\u001b[0m\u001b[38;2;255;70;137;48;2;39;40;34m.\u001b[0m\u001b[38;2;248;248;242;48;2;39;40;34mRayParams\u001b[0m\u001b[38;2;248;248;242;48;2;39;40;34m,\u001b[0m\u001b[38;2;248;248;242;48;2;39;40;34m \u001b[0m\u001b[38;2;248;248;242;48;2;39;40;34mDict\u001b[0m\u001b[38;2;248;248;242;48;2;39;40;34m]\u001b[0m\u001b[38;2;248;248;242;48;2;39;40;34m \u001b[0m\u001b[38;2;255;70;137;48;2;39;40;34m=\u001b[0m\u001b[38;2;248;248;242;48;2;39;40;34m \u001b[0m\u001b[38;2;102;217;239;48;2;39;40;34mNone\u001b[0m\u001b[38;2;248;248;242;48;2;39;40;34m,\u001b[0m\u001b[48;2;39;40;34m                                        \u001b[0m\u001b[48;2;39;40;34m \u001b[0m\n",
       "\u001b[48;2;39;40;34m \u001b[0m\u001b[38;2;248;248;242;48;2;39;40;34m    \u001b[0m\u001b[38;2;248;248;242;48;2;39;40;34m_remote\u001b[0m\u001b[38;2;248;248;242;48;2;39;40;34m:\u001b[0m\u001b[38;2;248;248;242;48;2;39;40;34m \u001b[0m\u001b[38;2;248;248;242;48;2;39;40;34mOptional\u001b[0m\u001b[38;2;248;248;242;48;2;39;40;34m[\u001b[0m\u001b[38;2;248;248;242;48;2;39;40;34mbool\u001b[0m\u001b[38;2;248;248;242;48;2;39;40;34m]\u001b[0m\u001b[38;2;248;248;242;48;2;39;40;34m \u001b[0m\u001b[38;2;255;70;137;48;2;39;40;34m=\u001b[0m\u001b[38;2;248;248;242;48;2;39;40;34m \u001b[0m\u001b[38;2;102;217;239;48;2;39;40;34mNone\u001b[0m\u001b[38;2;248;248;242;48;2;39;40;34m,\u001b[0m\u001b[48;2;39;40;34m                                                                              \u001b[0m\u001b[48;2;39;40;34m \u001b[0m\n",
       "\u001b[48;2;39;40;34m \u001b[0m\u001b[38;2;248;248;242;48;2;39;40;34m    \u001b[0m\u001b[38;2;248;248;242;48;2;39;40;34mray_dmatrix_params\u001b[0m\u001b[38;2;248;248;242;48;2;39;40;34m:\u001b[0m\u001b[38;2;248;248;242;48;2;39;40;34m \u001b[0m\u001b[38;2;248;248;242;48;2;39;40;34mOptional\u001b[0m\u001b[38;2;248;248;242;48;2;39;40;34m[\u001b[0m\u001b[38;2;248;248;242;48;2;39;40;34mDict\u001b[0m\u001b[38;2;248;248;242;48;2;39;40;34m]\u001b[0m\u001b[38;2;248;248;242;48;2;39;40;34m \u001b[0m\u001b[38;2;255;70;137;48;2;39;40;34m=\u001b[0m\u001b[38;2;248;248;242;48;2;39;40;34m \u001b[0m\u001b[38;2;102;217;239;48;2;39;40;34mNone\u001b[0m\u001b[38;2;248;248;242;48;2;39;40;34m,\u001b[0m\u001b[48;2;39;40;34m                                                                   \u001b[0m\u001b[48;2;39;40;34m \u001b[0m\n",
       "\u001b[48;2;39;40;34m \u001b[0m\u001b[38;2;248;248;242;48;2;39;40;34m    \u001b[0m\u001b[38;2;255;70;137;48;2;39;40;34m*\u001b[0m\u001b[38;2;255;70;137;48;2;39;40;34m*\u001b[0m\u001b[38;2;248;248;242;48;2;39;40;34mkwargs\u001b[0m\u001b[48;2;39;40;34m                                                                                                     \u001b[0m\u001b[48;2;39;40;34m \u001b[0m\n",
       "\u001b[48;2;39;40;34m \u001b[0m\u001b[38;2;248;248;242;48;2;39;40;34m)\u001b[0m\u001b[48;2;39;40;34m                                                                                                                \u001b[0m\u001b[48;2;39;40;34m \u001b[0m\n",
       "\u001b[48;2;39;40;34m                                                                                                                   \n",
       "\u001b[0m\n",
       "Predict with \u001b[1;36;40mX\u001b[0m.  If the model is trained with early stopping, then :py:attr:\u001b[1;36;40mbest_iteration\u001b[0m is used automatically.  \n",
       "The estimator uses \u001b[1;36;40minplace_predict\u001b[0m by default and falls back to using :py:class:\u001b[1;36;40mDMatrix\u001b[0m if devices between the data\n",
       "and the estimator don't match.                                                                                     \n",
       "\n",
       ".. note:: This function is only thread safe for \u001b[1;36;40mgbtree\u001b[0m and \u001b[1;36;40mdart\u001b[0m.                                                   \n",
       "\n",
       "Parameters ---------- X :  Data to predict with. Can also be a \u001b[1;36;40mRayDMatrix\u001b[0m. See :ref:\u001b[1;36;40mpy-data\u001b[0m for a list of supported\n",
       "types. output_margin :  Whether to output the raw untransformed margin value. validate_features :  When this is    \n",
       "True, validate that the Booster's and data's feature_names are  identical.  Otherwise, it is assumed that the      \n",
       "feature_names are the same. base_margin :  Global bias for each instance. See :doc:\u001b[1;36;40m/tutorials/intercept\u001b[0m for        \n",
       "details. iteration_range :  Specifies which layer of trees are used in prediction.  For example, if a  random      \n",
       "forest is trained with 100 rounds.  Specifying \u001b[1;36;40miteration_range=(10,  20)\u001b[0m, then only the forests built during [10,  \n",
       "20) (half open set) rounds  are used in this prediction.                                                           \n",
       "\n",
       ".. versionadded:: 1.4.0                                                                                            \n",
       "\n",
       "Returns ------- prediction                                                                                         \n",
       "\n",
       "ray_params : None or RayParams or Dict  Parameters to configure Ray-specific behavior.  See :class:\u001b[1;36;40mRayParams\u001b[0m for a \n",
       "list of valid  configuration parameters. Will override \u001b[1;36;40mn_jobs\u001b[0m attribute  with own \u001b[1;36;40mnum_actors\u001b[0m parameter. _remote :  \n",
       "bool  Whether to run the driver process in a remote  function. This is enabled by default in Ray client mode.      \n",
       "ray_dmatrix_params : dict  Dict of parameters (such as sharding mode) passed to the  internal RayDMatrix           \n",
       "initialization.                                                                                                    \n"
      ]
     },
     "execution_count": null,
     "metadata": {},
     "output_type": "execute_result"
    }
   ],
   "source": [
    "Markdown(generator.func2md(RayXGBForecast.predict))"
   ]
  },
  {
   "cell_type": "code",
   "execution_count": null,
   "id": "82683faf",
   "metadata": {},
   "outputs": [
    {
     "name": "stdout",
     "output_type": "stream",
     "text": [
      "Help on function __init__ in module xgboost.sklearn:\n",
      "\n",
      "__init__(self, *, objective: Union[str, xgboost.sklearn._SklObjWProto, Callable[[Any, Any], Tuple[numpy.ndarray, numpy.ndarray]], NoneType] = 'reg:squarederror', **kwargs: Any) -> None\n",
      "\n"
     ]
    }
   ],
   "source": [
    "help(RayXGBForecast.__init__)"
   ]
  },
  {
   "cell_type": "code",
   "execution_count": null,
   "id": "fdf69e30",
   "metadata": {},
   "outputs": [
    {
     "ename": "TypeError",
     "evalue": "XGBRegressor.__init__() missing 1 required positional argument: 'self'",
     "output_type": "error",
     "traceback": [
      "\u001b[31m---------------------------------------------------------------------------\u001b[39m",
      "\u001b[31mTypeError\u001b[39m                                 Traceback (most recent call last)",
      "\u001b[36mCell\u001b[39m\u001b[36m \u001b[39m\u001b[32mIn[23]\u001b[39m\u001b[32m, line 1\u001b[39m\n\u001b[32m----> \u001b[39m\u001b[32m1\u001b[39m \u001b[38;5;28mprint\u001b[39m(\u001b[43mRayXGBForecast\u001b[49m\u001b[43m.\u001b[49m\u001b[34;43m__init__\u001b[39;49m\u001b[43m(\u001b[49m\u001b[43m)\u001b[49m)\n",
      "\u001b[36mFile \u001b[39m\u001b[32m~/miniforge3/envs/mlforecast/lib/python3.11/site-packages/xgboost_ray/sklearn.py:275\u001b[39m, in \u001b[36m_xgboost_version_warn.<locals>.inner_f\u001b[39m\u001b[34m(*args, **kwargs)\u001b[39m\n\u001b[32m    273\u001b[39m \u001b[38;5;28;01mif\u001b[39;00m XGBOOST_VERSION < Version(\u001b[33m\"\u001b[39m\u001b[33m1.4.0\u001b[39m\u001b[33m\"\u001b[39m):\n\u001b[32m    274\u001b[39m     warnings.warn(LEGACY_WARNING)\n\u001b[32m--> \u001b[39m\u001b[32m275\u001b[39m \u001b[38;5;28;01mreturn\u001b[39;00m \u001b[43mf\u001b[49m\u001b[43m(\u001b[49m\u001b[43m*\u001b[49m\u001b[43margs\u001b[49m\u001b[43m,\u001b[49m\u001b[43m \u001b[49m\u001b[43m*\u001b[49m\u001b[43m*\u001b[49m\u001b[43mkwargs\u001b[49m\u001b[43m)\u001b[49m\n",
      "\u001b[36mFile \u001b[39m\u001b[32m~/miniforge3/envs/mlforecast/lib/python3.11/site-packages/xgboost/core.py:729\u001b[39m, in \u001b[36mrequire_keyword_args.<locals>.throw_if.<locals>.inner_f\u001b[39m\u001b[34m(*args, **kwargs)\u001b[39m\n\u001b[32m    727\u001b[39m \u001b[38;5;28;01mfor\u001b[39;00m k, arg \u001b[38;5;129;01min\u001b[39;00m \u001b[38;5;28mzip\u001b[39m(sig.parameters, args):\n\u001b[32m    728\u001b[39m     kwargs[k] = arg\n\u001b[32m--> \u001b[39m\u001b[32m729\u001b[39m \u001b[38;5;28;01mreturn\u001b[39;00m \u001b[43mfunc\u001b[49m\u001b[43m(\u001b[49m\u001b[43m*\u001b[49m\u001b[43m*\u001b[49m\u001b[43mkwargs\u001b[49m\u001b[43m)\u001b[49m\n",
      "\u001b[31mTypeError\u001b[39m: XGBRegressor.__init__() missing 1 required positional argument: 'self'"
     ]
    }
   ],
   "source": [
    "print(RayXGBForecast.__init__())"
   ]
  },
  {
   "cell_type": "code",
   "execution_count": null,
   "id": "b68bc921",
   "metadata": {},
   "outputs": [
    {
     "data": {
      "text/plain": [
       "'\\n## <kbd>class</kbd> `__init__`\\n\\n\\n\\n\\n\\n\\n\\n'"
      ]
     },
     "execution_count": null,
     "metadata": {},
     "output_type": "execute_result"
    }
   ],
   "source": [
    "\n",
    "generator.class2md(RayXGBForecast.pr)"
   ]
  },
  {
   "cell_type": "code",
   "execution_count": null,
   "id": "32cd98a0",
   "metadata": {},
   "outputs": [],
   "source": [
    "# Select a module (e.g. my_module) to generate markdown documentation\n",
    "markdown_docs = generator.import2md(RayXGBForecast)"
   ]
  },
  {
   "cell_type": "code",
   "execution_count": null,
   "id": "06166655",
   "metadata": {},
   "outputs": [],
   "source": []
  },
  {
   "cell_type": "code",
   "execution_count": null,
   "id": "b4627e76",
   "metadata": {},
   "outputs": [
    {
     "data": {
      "text/html": [
       "<pre style=\"white-space:pre;overflow-x:auto;line-height:normal;font-family:Menlo,'DejaVu Sans Mono',consolas,'Courier New',monospace\">\n",
       "\n",
       "┏━━━━━━━━━━━━━━━━━━━━━━━━━━━━━━━━━━━━━━━━━━━━━━━━━━━━━━━━━━━━━━━━━━━━━━━━━━━━━━━━━━━━━━━━━━━━━━━━━━━━━━━━━━━━━━━━━┓\n",
       "┃                                              <span style=\"font-weight: bold\">class </span><span style=\"color: #008080; text-decoration-color: #008080; background-color: #000000; font-weight: bold\">RayXGBForecast</span>                                               ┃\n",
       "┗━━━━━━━━━━━━━━━━━━━━━━━━━━━━━━━━━━━━━━━━━━━━━━━━━━━━━━━━━━━━━━━━━━━━━━━━━━━━━━━━━━━━━━━━━━━━━━━━━━━━━━━━━━━━━━━━━┛\n",
       "\n",
       "<span style=\"color: #808000; text-decoration-color: #808000\">───────────────────────────────────────────────────────────────────────────────────────────────────────────────────</span>\n",
       "\n",
       "\n",
       "                                      <span style=\"font-weight: bold\">property RayXGBForecast.best_iteration</span>                                       \n",
       "\n",
       "The best iteration obtained by early stopping.  This attribute is 0-based, for instance if the best iteration is   \n",
       "the first round, then best_iteration is 0.                                                                         \n",
       "\n",
       "<span style=\"color: #808000; text-decoration-color: #808000\">───────────────────────────────────────────────────────────────────────────────────────────────────────────────────</span>\n",
       "\n",
       "\n",
       "                                        <span style=\"font-weight: bold\">property RayXGBForecast.best_score</span>                                         \n",
       "\n",
       "The best score obtained by early stopping.                                                                         \n",
       "\n",
       "<span style=\"color: #808000; text-decoration-color: #808000\">───────────────────────────────────────────────────────────────────────────────────────────────────────────────────</span>\n",
       "\n",
       "\n",
       "                                           <span style=\"font-weight: bold\">property RayXGBForecast.coef_</span>                                           \n",
       "\n",
       "Coefficients property                                                                                              \n",
       "\n",
       ".. note:: Coefficients are defined only for linear learners                                                        \n",
       "\n",
       "Coefficients are only defined when the linear model is chosen as  base learner (<span style=\"color: #008080; text-decoration-color: #008080; background-color: #000000; font-weight: bold\">booster=gblinear</span>). It is not       \n",
       "defined for other base  learner types, such as tree learners (<span style=\"color: #008080; text-decoration-color: #008080; background-color: #000000; font-weight: bold\">booster=gbtree</span>).                                     \n",
       "\n",
       "Returns ------- coef_ : array of shape <span style=\"color: #008080; text-decoration-color: #008080; background-color: #000000; font-weight: bold\">[n_features]</span> or <span style=\"color: #008080; text-decoration-color: #008080; background-color: #000000; font-weight: bold\">[n_classes, n_features]</span>                                     \n",
       "\n",
       "<span style=\"color: #808000; text-decoration-color: #808000\">───────────────────────────────────────────────────────────────────────────────────────────────────────────────────</span>\n",
       "\n",
       "\n",
       "                                   <span style=\"font-weight: bold\">property RayXGBForecast.feature_importances_</span>                                    \n",
       "\n",
       "Feature importances property, return depends on <span style=\"color: #008080; text-decoration-color: #008080; background-color: #000000; font-weight: bold\">importance_type</span> parameter. When model trained with                 \n",
       "multi-class/multi-label/multi-target dataset, the feature importance is \"averaged\" over all targets. The \"average\" \n",
       "is defined based on the importance type. For instance, if the importance type is \"total_gain\", then the score is   \n",
       "sum of loss change for each split from all trees.                                                                  \n",
       "\n",
       "Returns ------- feature_importances_ : array of shape <span style=\"color: #008080; text-decoration-color: #008080; background-color: #000000; font-weight: bold\">[n_features]</span> except for multi-class linear model, which      \n",
       "returns an array with shape <span style=\"color: #008080; text-decoration-color: #008080; background-color: #000000; font-weight: bold\">(n_features, n_classes)</span>                                                                \n",
       "\n",
       "<span style=\"color: #808000; text-decoration-color: #808000\">───────────────────────────────────────────────────────────────────────────────────────────────────────────────────</span>\n",
       "\n",
       "\n",
       "                                     <span style=\"font-weight: bold\">property RayXGBForecast.feature_names_in_</span>                                     \n",
       "\n",
       "Names of features seen during :py:meth:<span style=\"color: #008080; text-decoration-color: #008080; background-color: #000000; font-weight: bold\">fit</span>.  Defined only when <span style=\"color: #008080; text-decoration-color: #008080; background-color: #000000; font-weight: bold\">X</span> has feature names that are all strings.           \n",
       "\n",
       "<span style=\"color: #808000; text-decoration-color: #808000\">───────────────────────────────────────────────────────────────────────────────────────────────────────────────────</span>\n",
       "\n",
       "\n",
       "                                        <span style=\"font-weight: bold\">property RayXGBForecast.intercept_</span>                                         \n",
       "\n",
       "Intercept (bias) property                                                                                          \n",
       "\n",
       "For tree-based model, the returned value is the <span style=\"color: #008080; text-decoration-color: #008080; background-color: #000000; font-weight: bold\">base_score</span>.                                                        \n",
       "\n",
       "Returns ------- intercept_ : array of shape <span style=\"color: #008080; text-decoration-color: #008080; background-color: #000000; font-weight: bold\">(1,)</span> or <span style=\"color: #008080; text-decoration-color: #008080; background-color: #000000; font-weight: bold\">[n_classes]</span>                                                    \n",
       "\n",
       "<span style=\"color: #808000; text-decoration-color: #808000\">───────────────────────────────────────────────────────────────────────────────────────────────────────────────────</span>\n",
       "\n",
       "\n",
       "                                          <span style=\"font-weight: bold\">property RayXGBForecast.model_</span>                                           \n",
       "\n",
       "<span style=\"color: #808000; text-decoration-color: #808000\">───────────────────────────────────────────────────────────────────────────────────────────────────────────────────</span>\n",
       "\n",
       "\n",
       "                                      <span style=\"font-weight: bold\">property RayXGBForecast.n_features_in_</span>                                       \n",
       "\n",
       "Number of features seen during :py:meth:<span style=\"color: #008080; text-decoration-color: #008080; background-color: #000000; font-weight: bold\">fit</span>.                                                                       \n",
       "</pre>\n"
      ],
      "text/plain": [
       "\n",
       "\n",
       "┏━━━━━━━━━━━━━━━━━━━━━━━━━━━━━━━━━━━━━━━━━━━━━━━━━━━━━━━━━━━━━━━━━━━━━━━━━━━━━━━━━━━━━━━━━━━━━━━━━━━━━━━━━━━━━━━━━┓\n",
       "┃                                              \u001b[1mclass\u001b[0m\u001b[1m \u001b[0m\u001b[1;36;40mRayXGBForecast\u001b[0m                                               ┃\n",
       "┗━━━━━━━━━━━━━━━━━━━━━━━━━━━━━━━━━━━━━━━━━━━━━━━━━━━━━━━━━━━━━━━━━━━━━━━━━━━━━━━━━━━━━━━━━━━━━━━━━━━━━━━━━━━━━━━━━┛\n",
       "\n",
       "\u001b[33m───────────────────────────────────────────────────────────────────────────────────────────────────────────────────\u001b[0m\n",
       "\n",
       "\n",
       "                                      \u001b[1mproperty\u001b[0m\u001b[1m RayXGBForecast.best_iteration\u001b[0m                                       \n",
       "\n",
       "The best iteration obtained by early stopping.  This attribute is 0-based, for instance if the best iteration is   \n",
       "the first round, then best_iteration is 0.                                                                         \n",
       "\n",
       "\u001b[33m───────────────────────────────────────────────────────────────────────────────────────────────────────────────────\u001b[0m\n",
       "\n",
       "\n",
       "                                        \u001b[1mproperty\u001b[0m\u001b[1m RayXGBForecast.best_score\u001b[0m                                         \n",
       "\n",
       "The best score obtained by early stopping.                                                                         \n",
       "\n",
       "\u001b[33m───────────────────────────────────────────────────────────────────────────────────────────────────────────────────\u001b[0m\n",
       "\n",
       "\n",
       "                                           \u001b[1mproperty\u001b[0m\u001b[1m RayXGBForecast.coef_\u001b[0m                                           \n",
       "\n",
       "Coefficients property                                                                                              \n",
       "\n",
       ".. note:: Coefficients are defined only for linear learners                                                        \n",
       "\n",
       "Coefficients are only defined when the linear model is chosen as  base learner (\u001b[1;36;40mbooster=gblinear\u001b[0m). It is not       \n",
       "defined for other base  learner types, such as tree learners (\u001b[1;36;40mbooster=gbtree\u001b[0m).                                     \n",
       "\n",
       "Returns ------- coef_ : array of shape \u001b[1;36;40m[n_features]\u001b[0m or \u001b[1;36;40m[n_classes, n_features]\u001b[0m                                     \n",
       "\n",
       "\u001b[33m───────────────────────────────────────────────────────────────────────────────────────────────────────────────────\u001b[0m\n",
       "\n",
       "\n",
       "                                   \u001b[1mproperty\u001b[0m\u001b[1m RayXGBForecast.feature_importances_\u001b[0m                                    \n",
       "\n",
       "Feature importances property, return depends on \u001b[1;36;40mimportance_type\u001b[0m parameter. When model trained with                 \n",
       "multi-class/multi-label/multi-target dataset, the feature importance is \"averaged\" over all targets. The \"average\" \n",
       "is defined based on the importance type. For instance, if the importance type is \"total_gain\", then the score is   \n",
       "sum of loss change for each split from all trees.                                                                  \n",
       "\n",
       "Returns ------- feature_importances_ : array of shape \u001b[1;36;40m[n_features]\u001b[0m except for multi-class linear model, which      \n",
       "returns an array with shape \u001b[1;36;40m(n_features, n_classes)\u001b[0m                                                                \n",
       "\n",
       "\u001b[33m───────────────────────────────────────────────────────────────────────────────────────────────────────────────────\u001b[0m\n",
       "\n",
       "\n",
       "                                     \u001b[1mproperty\u001b[0m\u001b[1m RayXGBForecast.feature_names_in_\u001b[0m                                     \n",
       "\n",
       "Names of features seen during :py:meth:\u001b[1;36;40mfit\u001b[0m.  Defined only when \u001b[1;36;40mX\u001b[0m has feature names that are all strings.           \n",
       "\n",
       "\u001b[33m───────────────────────────────────────────────────────────────────────────────────────────────────────────────────\u001b[0m\n",
       "\n",
       "\n",
       "                                        \u001b[1mproperty\u001b[0m\u001b[1m RayXGBForecast.intercept_\u001b[0m                                         \n",
       "\n",
       "Intercept (bias) property                                                                                          \n",
       "\n",
       "For tree-based model, the returned value is the \u001b[1;36;40mbase_score\u001b[0m.                                                        \n",
       "\n",
       "Returns ------- intercept_ : array of shape \u001b[1;36;40m(1,)\u001b[0m or \u001b[1;36;40m[n_classes]\u001b[0m                                                    \n",
       "\n",
       "\u001b[33m───────────────────────────────────────────────────────────────────────────────────────────────────────────────────\u001b[0m\n",
       "\n",
       "\n",
       "                                          \u001b[1mproperty\u001b[0m\u001b[1m RayXGBForecast.model_\u001b[0m                                           \n",
       "\n",
       "\u001b[33m───────────────────────────────────────────────────────────────────────────────────────────────────────────────────\u001b[0m\n",
       "\n",
       "\n",
       "                                      \u001b[1mproperty\u001b[0m\u001b[1m RayXGBForecast.n_features_in_\u001b[0m                                       \n",
       "\n",
       "Number of features seen during :py:meth:\u001b[1;36;40mfit\u001b[0m.                                                                       \n"
      ]
     },
     "execution_count": null,
     "metadata": {},
     "output_type": "execute_result"
    }
   ],
   "source": [
    "Markdown(markdown_docs)"
   ]
  },
  {
   "cell_type": "code",
   "execution_count": null,
   "id": "220c1330",
   "metadata": {},
   "outputs": [
    {
     "ename": "ModuleNotFoundError",
     "evalue": "No module named 'synapse'",
     "output_type": "error",
     "traceback": [
      "\u001b[31m---------------------------------------------------------------------------\u001b[39m",
      "\u001b[31mModuleNotFoundError\u001b[39m                       Traceback (most recent call last)",
      "\u001b[36mCell\u001b[39m\u001b[36m \u001b[39m\u001b[32mIn[1]\u001b[39m\u001b[32m, line 6\u001b[39m\n\u001b[32m      1\u001b[39m \u001b[38;5;66;03m# import pyspark\u001b[39;00m\n\u001b[32m      2\u001b[39m \u001b[38;5;66;03m# spark = pyspark.sql.SparkSession.builder.appName(\"MyApp\") \\\u001b[39;00m\n\u001b[32m      3\u001b[39m \u001b[38;5;66;03m#             .config(\"spark.jars.packages\", \"com.microsoft.azure:synapseml_2.12:1.0.13\") \\\u001b[39;00m\n\u001b[32m      4\u001b[39m \u001b[38;5;66;03m#             .config(\"spark.jars.repositories\", \"https://mmlspark.azureedge.net/maven\") \\\u001b[39;00m\n\u001b[32m      5\u001b[39m \u001b[38;5;66;03m#             .getOrCreate()\u001b[39;00m\n\u001b[32m----> \u001b[39m\u001b[32m6\u001b[39m \u001b[38;5;28;01mimport\u001b[39;00m\u001b[38;5;250m \u001b[39m\u001b[34;01msynapse\u001b[39;00m\u001b[34;01m.\u001b[39;00m\u001b[34;01mml\u001b[39;00m\u001b[34;01m.\u001b[39;00m\u001b[34;01mlightgbm\u001b[39;00m\u001b[34;01m.\u001b[39;00m\u001b[34;01mLightGBMRegressor\u001b[39;00m\u001b[38;5;250m \u001b[39m\u001b[38;5;28;01mas\u001b[39;00m\u001b[38;5;250m \u001b[39m\u001b[34;01mLightGBMRegressor\u001b[39;00m\n",
      "\u001b[31mModuleNotFoundError\u001b[39m: No module named 'synapse'"
     ]
    }
   ],
   "source": [
    "# import pyspark\n",
    "# spark = pyspark.sql.SparkSession.builder.appName(\"MyApp\") \\\n",
    "#             .config(\"spark.jars.packages\", \"com.microsoft.azure:synapseml_2.12:1.0.13\") \\\n",
    "#             .config(\"spark.jars.repositories\", \"https://mmlspark.azureedge.net/maven\") \\\n",
    "#             .getOrCreate()\n",
    "import synapse.ml.lightgbm.LightGBMRegressor as LightGBMRegressor"
   ]
  },
  {
   "cell_type": "code",
   "execution_count": null,
   "id": "a623996a",
   "metadata": {},
   "outputs": [],
   "source": []
  }
 ],
 "metadata": {
  "kernelspec": {
   "display_name": "mlforecast",
   "language": "python",
   "name": "python3"
  },
  "language_info": {
   "name": "python",
   "version": "3.11.13"
  }
 },
 "nbformat": 4,
 "nbformat_minor": 5
}
