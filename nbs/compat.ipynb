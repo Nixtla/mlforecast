{
 "cells": [
  {
   "cell_type": "code",
   "execution_count": null,
   "id": "955a6b2e-26a9-4fe2-b971-8379ff23fc3f",
   "metadata": {},
   "outputs": [],
   "source": [
    "#| default_exp compat"
   ]
  },
  {
   "cell_type": "code",
   "execution_count": null,
   "id": "b3af4b54-1713-4171-b15a-a911ed696933",
   "metadata": {},
   "outputs": [],
   "source": [
    "#| export\n",
    "try:\n",
    "    import coreforecast.lag_transforms as core_tfms\n",
    "    from coreforecast.grouped_array import GroupedArray as CoreGroupedArray\n",
    "    \n",
    "    from mlforecast.lag_transforms import BaseLagTransform, Lag\n",
    "    \n",
    "    CORE_INSTALLED = True\n",
    "except ImportError:\n",
    "    core_tfms = None\n",
    "    CoreGroupedArray = None\n",
    "\n",
    "    class BaseLagTransform:\n",
    "        ...\n",
    "    Lag = None\n",
    "\n",
    "    CORE_INSTALLED = False"
   ]
  }
 ],
 "metadata": {
  "kernelspec": {
   "display_name": "python3",
   "language": "python",
   "name": "python3"
  }
 },
 "nbformat": 4,
 "nbformat_minor": 5
}
