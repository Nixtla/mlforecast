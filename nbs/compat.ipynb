{
 "cells": [
  {
   "cell_type": "code",
   "execution_count": null,
   "id": "955a6b2e-26a9-4fe2-b971-8379ff23fc3f",
   "metadata": {},
   "outputs": [],
   "source": [
    "#| default_exp compat"
   ]
  },
  {
   "cell_type": "code",
   "execution_count": null,
   "id": "b3af4b54-1713-4171-b15a-a911ed696933",
   "metadata": {},
   "outputs": [],
   "source": [
    "#| export\n",
    "try:\n",
    "    from catboost import CatBoostRegressor\n",
    "except ImportError:\n",
    "    class CatBoostRegressor:\n",
    "        def __init__(self, *args, **kwargs):  # noqa: ARG002\n",
    "            raise ImportError(\n",
    "                \"Please install catboost to use this model.\"\n",
    "            )\n",
    "\n",
    "try:\n",
    "    from lightgbm import LGBMRegressor\n",
    "except ImportError:\n",
    "    class LGBMRegressor:\n",
    "        def __init__(self, *args, **kwargs):  # noqa: ARG002\n",
    "            raise ImportError(\n",
    "                \"Please install lightgbm to use this model.\"\n",
    "            )\n",
    "\n",
    "try:\n",
    "    from window_ops.shift import shift_array\n",
    "except ImportError:\n",
    "    def shift_array(*_args, **_kwargs):  # noqa: ARG002\n",
    "        raise Exception\n",
    "\n",
    "try:\n",
    "    from xgboost import XGBRegressor\n",
    "except ImportError:\n",
    "    class XGBRegressor:\n",
    "        def __init__(self, *args, **kwargs):  # noqa: ARG002\n",
    "            raise ImportError(\n",
    "                \"Please install xgboost to use this model.\"\n",
    "            )"
   ]
  }
 ],
 "metadata": {
  "kernelspec": {
   "display_name": "python3",
   "language": "python",
   "name": "python3"
  }
 },
 "nbformat": 4,
 "nbformat_minor": 5
}
