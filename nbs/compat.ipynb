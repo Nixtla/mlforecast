{
 "cells": [
  {
   "cell_type": "code",
   "execution_count": null,
   "id": "6ce7f528-fabf-4b82-a723-5f0b726ab074",
   "metadata": {},
   "outputs": [],
   "source": [
    "#default_exp compat"
   ]
  },
  {
   "cell_type": "code",
   "execution_count": null,
   "id": "49b5a431-8cc3-4873-86ba-14300a1adf0b",
   "metadata": {},
   "outputs": [],
   "source": [
    "#export\n",
    "try:\n",
    "    import dask.dataframe as dd\n",
    "    from dask.dataframe import DataFrame as dd_Frame\n",
    "    from dask.distributed import Client, LocalCluster\n",
    "except ImportError:\n",
    "\n",
    "    class dd:  # type: ignore\n",
    "        pass\n",
    "\n",
    "    dd_Frame = type(None)\n",
    "\n",
    "    class Client:  # type: ignore\n",
    "        pass\n",
    "\n",
    "    class LocalCluster:  # type: ignore\n",
    "        pass\n",
    "\n",
    "\n",
    "try:\n",
    "    from s3path import S3Path\n",
    "except ImportError:\n",
    "\n",
    "    class S3Path:  # type: ignore\n",
    "        pass\n",
    "\n",
    "\n",
    "try:\n",
    "    from .distributed.forecast import DistributedForecast\n",
    "except ImportError:\n",
    "\n",
    "    class DistributedForecast:  # type: ignore\n",
    "        pass\n",
    "    "
   ]
  },
  {
   "cell_type": "code",
   "execution_count": null,
   "id": "1eed45da-8746-4b99-9797-3f1ce11ae23d",
   "metadata": {},
   "outputs": [],
   "source": [
    "#export\n",
    "GARBAGE = None  # nbdev __all__\n"
   ]
  }
 ],
 "metadata": {
  "kernelspec": {
   "display_name": "Python 3",
   "language": "python",
   "name": "python3"
  }
 },
 "nbformat": 4,
 "nbformat_minor": 5
}
