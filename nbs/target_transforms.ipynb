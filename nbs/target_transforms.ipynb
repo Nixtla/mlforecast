{
 "cells": [
  {
   "cell_type": "code",
   "execution_count": null,
   "id": "87f2247f-be0c-4a71-bf79-d260988e8e7a",
   "metadata": {},
   "outputs": [],
   "source": [
    "#| default_exp target_transforms"
   ]
  },
  {
   "cell_type": "code",
   "execution_count": null,
   "id": "a639d9d1-0b9f-41b2-b154-3172bf8cbebf",
   "metadata": {},
   "outputs": [],
   "source": [
    "#| hide\n",
    "%load_ext autoreload\n",
    "%autoreload 2"
   ]
  },
  {
   "cell_type": "code",
   "execution_count": null,
   "id": "ae088aa3-7a4e-4c29-98fe-940277d93c57",
   "metadata": {},
   "outputs": [],
   "source": [
    "#| export\n",
    "import abc\n",
    "import reprlib\n",
    "from typing import TYPE_CHECKING, Iterable\n",
    "\n",
    "if TYPE_CHECKING:\n",
    "    import pandas as pd\n",
    "import numpy as np\n",
    "\n",
    "from mlforecast.grouped_array import GroupedArray, _apply_difference"
   ]
  },
  {
   "cell_type": "code",
   "execution_count": null,
   "id": "0d138470-aa72-4e52-bba6-dbec690d6e34",
   "metadata": {},
   "outputs": [],
   "source": [
    "#| export\n",
    "class BaseTargetTransform(abc.ABC):\n",
    "    def set_column_names(self, id_col: str, time_col: str, target_col: str):\n",
    "        self.id_col = id_col\n",
    "        self.time_col = time_col\n",
    "        self.target_col = target_col\n",
    "        \n",
    "    @abc.abstractmethod\n",
    "    def fit_transform(self, df: 'pd.DataFrame') -> 'pd.DataFrame':\n",
    "        raise NotImplementedError\n",
    "        \n",
    "    @abc.abstractmethod\n",
    "    def inverse_transform(self, df: 'pd.DataFrame') -> 'pd.DataFrame':\n",
    "        raise NotImplementedError"
   ]
  },
  {
   "cell_type": "code",
   "execution_count": null,
   "id": "8ad5dfb5-a9fe-4f02-8561-3ad8f14d04cf",
   "metadata": {},
   "outputs": [],
   "source": [
    "#| export\n",
    "class Differences(BaseTargetTransform):\n",
    "    def __init__(self, differences: Iterable[int]):\n",
    "        self.differences = list(differences)\n",
    "\n",
    "    def fit_transform(self, df: 'pd.DataFrame') -> 'pd.DataFrame':\n",
    "        ga = GroupedArray.from_sorted_df(df, self.id_col, self.target_col)\n",
    "        uids = df[self.id_col].unique()  \n",
    "        original_sizes = ga.indptr[1:].cumsum()\n",
    "        total_diffs = sum(self.differences)\n",
    "        small_series = uids[original_sizes < total_diffs]\n",
    "        if small_series.size:\n",
    "            msg = reprlib.repr(small_series.tolist())\n",
    "            raise ValueError(f'The following series are too short for the differences: {msg}')\n",
    "        self.original_values_ = []\n",
    "        n_series = len(ga.indptr) - 1            \n",
    "        for d in self.differences:\n",
    "            new_data = np.empty_like(ga.data, shape=n_series * d)\n",
    "            new_indptr = d * np.arange(n_series + 1, dtype=np.int32)\n",
    "            _apply_difference(ga.data, ga.indptr, new_data, new_indptr, d)\n",
    "            self.original_values_.append(GroupedArray(new_data, new_indptr))\n",
    "        df = df.copy()\n",
    "        df[self.target_col] = ga.data\n",
    "        return df\n",
    "\n",
    "    def inverse_transform(self, df: 'pd.DataFrame') -> 'pd.DataFrame':\n",
    "        model_cols = df.columns.drop([self.id_col, self.time_col])\n",
    "        df = df.copy()\n",
    "        for model in model_cols:\n",
    "            model_preds = df[model].values.copy()\n",
    "            for d, ga in zip(reversed(self.differences), reversed(self.original_values_)):\n",
    "                ga.restore_difference(model_preds, d)\n",
    "            df[model] = model_preds\n",
    "        return df"
   ]
  }
 ],
 "metadata": {
  "kernelspec": {
   "display_name": "python3",
   "language": "python",
   "name": "python3"
  }
 },
 "nbformat": 4,
 "nbformat_minor": 5
}
