{
 "cells": [
  {
   "cell_type": "code",
   "execution_count": null,
   "id": "533f8f53-cfa2-4560-a28f-1ce032a0949d",
   "metadata": {},
   "outputs": [],
   "source": [
    "#all_distributed\n",
    "#default_exp distributed.models.xgb"
   ]
  },
  {
   "cell_type": "markdown",
   "id": "5ee154af-e882-4914-8bf2-f536a8d01b94",
   "metadata": {},
   "source": [
    "# XGBForecast\n",
    "\n",
    "> XGBoost forecaster"
   ]
  },
  {
   "cell_type": "markdown",
   "id": "4f4c7bc1-9779-4771-8224-f852e6b7987c",
   "metadata": {},
   "source": [
    "Wrapper of `xgboost.dask.DaskXGBRegressor` that adds a `model_` property that contains the fitted model and is sent to the workers in the forecasting step."
   ]
  },
  {
   "cell_type": "code",
   "execution_count": null,
   "id": "dbae0b4a-545c-472f-8ead-549830fb071c",
   "metadata": {},
   "outputs": [],
   "source": [
    "#export\n",
    "import xgboost as xgb\n"
   ]
  },
  {
   "cell_type": "code",
   "execution_count": null,
   "id": "ef31c6d5-7fb6-4a08-8d72-bfcdc1ae8540",
   "metadata": {},
   "outputs": [],
   "source": [
    "#export\n",
    "class XGBForecast(xgb.dask.DaskXGBRegressor):\n",
    "    @property\n",
    "    def model_(self):\n",
    "        local = xgb.XGBRegressor(**self.get_params())\n",
    "        local._Booster = self._Booster\n",
    "        return local\n"
   ]
  },
  {
   "cell_type": "code",
   "execution_count": null,
   "id": "ca2fa4d5-d04c-474d-b8e6-f451bc58a33c",
   "metadata": {},
   "outputs": [],
   "source": [
    "import dask\n",
    "import dask.dataframe as dd\n",
    "import numpy as np\n",
    "import pandas as pd\n",
    "\n",
    "from dask.distributed import Client\n",
    "from mlforecast.core import TimeSeries\n",
    "from mlforecast.distributed.forecast import DistributedForecast\n",
    "from mlforecast.utils import generate_daily_series"
   ]
  },
  {
   "cell_type": "code",
   "execution_count": null,
   "id": "b2a7f20e-a841-4e3f-a45e-0bd5af372c8a",
   "metadata": {},
   "outputs": [],
   "source": [
    "client = Client(n_workers=2)"
   ]
  },
  {
   "cell_type": "code",
   "execution_count": null,
   "id": "33beb14a-b69a-4cd4-bd65-32c4c588d54c",
   "metadata": {},
   "outputs": [],
   "source": [
    "series = generate_daily_series(100)\n",
    "distr_series = dd.from_pandas(series, npartitions=2)\n",
    "fcst = DistributedForecast(\n",
    "    XGBForecast(),\n",
    "    TimeSeries(lags=[7])\n",
    ")\n",
    "fcst.fit(distr_series)\n",
    "actual = fcst.predict(1).compute()\n",
    "\n",
    "def get_updates(ts):\n",
    "    ts._predict_setup()\n",
    "    upd = ts._update_features()\n",
    "    return upd.drop('ds', 1)\n",
    "\n",
    "upd_futures = client.map(get_updates, fcst.dts.ts)\n",
    "upd_ddf = dd.from_delayed(upd_futures)\n",
    "expected = fcst.model.predict(upd_ddf).compute()\n",
    "\n",
    "np.testing.assert_equal(actual['y_pred'].values, expected)"
   ]
  },
  {
   "cell_type": "code",
   "execution_count": null,
   "id": "bfe8ff18-2a78-442b-8c67-2e98d4af8f7b",
   "metadata": {},
   "outputs": [],
   "source": [
    "client.close()"
   ]
  }
 ],
 "metadata": {
  "kernelspec": {
   "display_name": "Python 3",
   "language": "python",
   "name": "python3"
  }
 },
 "nbformat": 4,
 "nbformat_minor": 5
}
