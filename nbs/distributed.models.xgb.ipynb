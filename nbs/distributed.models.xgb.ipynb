{
 "cells": [
  {
   "cell_type": "code",
   "execution_count": null,
   "id": "533f8f53-cfa2-4560-a28f-1ce032a0949d",
   "metadata": {},
   "outputs": [],
   "source": [
    "#default_exp distributed.models.xgb"
   ]
  },
  {
   "cell_type": "markdown",
   "id": "5ee154af-e882-4914-8bf2-f536a8d01b94",
   "metadata": {},
   "source": [
    "# XGBForecast\n",
    "\n",
    "> XGBoost forecaster"
   ]
  },
  {
   "cell_type": "markdown",
   "id": "4f4c7bc1-9779-4771-8224-f852e6b7987c",
   "metadata": {},
   "source": [
    "Wrapper of `xgboost.dask.DaskXGBRegressor` that adds a `model_` property that contains the fitted booster and is sent to the workers to in the forecasting step."
   ]
  },
  {
   "cell_type": "code",
   "execution_count": null,
   "id": "dbae0b4a-545c-472f-8ead-549830fb071c",
   "metadata": {},
   "outputs": [],
   "source": [
    "#export\n",
    "import xgboost as xgb\n"
   ]
  },
  {
   "cell_type": "code",
   "execution_count": null,
   "id": "ef31c6d5-7fb6-4a08-8d72-bfcdc1ae8540",
   "metadata": {},
   "outputs": [],
   "source": [
    "#export\n",
    "class XGBForecast(xgb.dask.DaskXGBRegressor):\n",
    "    @property\n",
    "    def model_(self):\n",
    "        return self.get_booster()\n"
   ]
  }
 ],
 "metadata": {
  "kernelspec": {
   "display_name": "Python 3",
   "language": "python",
   "name": "python3"
  }
 },
 "nbformat": 4,
 "nbformat_minor": 5
}
