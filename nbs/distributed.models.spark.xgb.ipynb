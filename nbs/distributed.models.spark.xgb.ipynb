{
 "cells": [
  {
   "cell_type": "code",
   "execution_count": null,
   "id": "533f8f53-cfa2-4560-a28f-1ce032a0949d",
   "metadata": {},
   "outputs": [],
   "source": [
    "#|default_exp distributed.models.spark.xgb"
   ]
  },
  {
   "cell_type": "markdown",
   "id": "5ee154af-e882-4914-8bf2-f536a8d01b94",
   "metadata": {},
   "source": [
    "# SparkXGBForecast\n",
    "\n",
    "> spark XGBoost forecaster"
   ]
  },
  {
   "cell_type": "markdown",
   "id": "4f4c7bc1-9779-4771-8224-f852e6b7987c",
   "metadata": {},
   "source": [
    "Wrapper of `xgboost.spark.SparkXGBRegressor` that adds an `extract_local_model` method to get a local version of the trained model and broadcast it to the workers."
   ]
  },
  {
   "cell_type": "code",
   "execution_count": null,
   "id": "dbae0b4a-545c-472f-8ead-549830fb071c",
   "metadata": {},
   "outputs": [],
   "source": [
    "#|export\n",
    "import xgboost as xgb\n",
    "try:\n",
    "    from xgboost.spark import SparkXGBRegressor  # type: ignore\n",
    "except ModuleNotFoundError:\n",
    "    import os\n",
    "    \n",
    "    if os.getenv('IN_TEST', '0') == '1':\n",
    "        pass\n",
    "    else:\n",
    "        raise"
   ]
  },
  {
   "cell_type": "code",
   "execution_count": null,
   "id": "ef31c6d5-7fb6-4a08-8d72-bfcdc1ae8540",
   "metadata": {},
   "outputs": [],
   "source": [
    "#|export\n",
    "class SparkXGBForecast(SparkXGBRegressor):   \n",
    "    def _pre_fit(self, target_col):\n",
    "        self.setParams(label_col=target_col)\n",
    "        return self\n",
    "\n",
    "    def extract_local_model(self, trained_model):\n",
    "        model_str = trained_model.get_booster().save_raw('ubj')\n",
    "        local_model = xgb.XGBRegressor()\n",
    "        local_model.load_model(model_str)\n",
    "        return local_model"
   ]
  }
 ],
 "metadata": {
  "kernelspec": {
   "display_name": "python3",
   "language": "python",
   "name": "python3"
  }
 },
 "nbformat": 4,
 "nbformat_minor": 5
}
